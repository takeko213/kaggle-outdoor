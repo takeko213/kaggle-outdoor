{
 "cells": [
  {
   "cell_type": "markdown",
   "id": "southern-pottery",
   "metadata": {},
   "source": [
    "# exp010_2\n",
    "exp010をもう一度＋trainの予測結果を出力"
   ]
  },
  {
   "cell_type": "code",
   "execution_count": 1,
   "id": "legislative-reservation",
   "metadata": {},
   "outputs": [
    {
     "data": {
      "text/html": [
       "<style type='text/css'>\n",
       ".datatable table.frame { margin-bottom: 0; }\n",
       ".datatable table.frame thead { border-bottom: none; }\n",
       ".datatable table.frame tr.coltypes td {  color: #FFFFFF;  line-height: 6px;  padding: 0 0.5em;}\n",
       ".datatable .bool    { background: #DDDD99; }\n",
       ".datatable .object  { background: #565656; }\n",
       ".datatable .int     { background: #5D9E5D; }\n",
       ".datatable .float   { background: #4040CC; }\n",
       ".datatable .str     { background: #CC4040; }\n",
       ".datatable .row_index {  background: var(--jp-border-color3);  border-right: 1px solid var(--jp-border-color0);  color: var(--jp-ui-font-color3);  font-size: 9px;}\n",
       ".datatable .frame tr.coltypes .row_index {  background: var(--jp-border-color0);}\n",
       ".datatable th:nth-child(2) { padding-left: 12px; }\n",
       ".datatable .hellipsis {  color: var(--jp-cell-editor-border-color);}\n",
       ".datatable .vellipsis {  background: var(--jp-layout-color0);  color: var(--jp-cell-editor-border-color);}\n",
       ".datatable .na {  color: var(--jp-cell-editor-border-color);  font-size: 80%;}\n",
       ".datatable .footer { font-size: 9px; }\n",
       ".datatable .frame_dimensions {  background: var(--jp-border-color3);  border-top: 1px solid var(--jp-border-color0);  color: var(--jp-ui-font-color3);  display: inline-block;  opacity: 0.6;  padding: 1px 10px 1px 5px;}\n",
       "</style>\n"
      ],
      "text/plain": [
       "<IPython.core.display.HTML object>"
      ]
     },
     "metadata": {},
     "output_type": "display_data"
    }
   ],
   "source": [
    "# import library\n",
    "import os\n",
    "import pandas as pd\n",
    "import numpy as np\n",
    "import matplotlib.pyplot as plt\n",
    "from matplotlib_venn import venn2, venn2_circles\n",
    "import seaborn as sns\n",
    "from tqdm.notebook import tqdm\n",
    "import pathlib\n",
    "import plotly\n",
    "import plotly.express as px\n",
    "import itertools\n",
    "import lightgbm as lgb\n",
    "from optuna.integration import lightgbm as optuna_lgb"
   ]
  },
  {
   "cell_type": "markdown",
   "id": "worse-sentence",
   "metadata": {},
   "source": [
    "# utils"
   ]
  },
  {
   "cell_type": "code",
   "execution_count": 2,
   "id": "resident-graphics",
   "metadata": {},
   "outputs": [],
   "source": [
    "def calc_haversine(lat1, lon1, lat2, lon2):\n",
    "    \"\"\"Calculates the great circle distance between two points\n",
    "    on the earth. Inputs are array-like and specified in decimal degrees.\n",
    "    \"\"\"\n",
    "    RADIUS = 6_367_000\n",
    "    lat1, lon1, lat2, lon2 = map(np.radians, [lat1, lon1, lat2, lon2])\n",
    "    dlat = lat2 - lat1\n",
    "    dlon = lon2 - lon1\n",
    "    a = np.sin(dlat/2)**2 + \\\n",
    "        np.cos(lat1) * np.cos(lat2) * np.sin(dlon/2)**2\n",
    "    dist = 2 * RADIUS * np.arcsin(a**0.5)\n",
    "    return dist"
   ]
  },
  {
   "cell_type": "code",
   "execution_count": 3,
   "id": "delayed-emission",
   "metadata": {},
   "outputs": [],
   "source": [
    "def visualize_trafic(df, center, zoom=9):\n",
    "    fig = px.scatter_mapbox(df,\n",
    "                            \n",
    "                            # Here, plotly gets, (x,y) coordinates\n",
    "                            lat=\"latDeg\",\n",
    "                            lon=\"lngDeg\",\n",
    "                            \n",
    "                            #Here, plotly detects color of series\n",
    "                            color=\"phoneName\",\n",
    "                            labels=\"phoneName\",\n",
    "                            \n",
    "                            zoom=zoom,\n",
    "                            center=center,\n",
    "                            height=600,\n",
    "                            width=800)\n",
    "    fig.update_layout(mapbox_style='stamen-terrain')\n",
    "    fig.update_layout(margin={\"r\": 0, \"t\": 0, \"l\": 0, \"b\": 0})\n",
    "    fig.update_layout(title_text=\"GPS trafic\")\n",
    "    fig.show()\n",
    "    \n",
    "def visualize_collection(df, collection):\n",
    "    target_df = df[df['collectionName']==collection].copy()\n",
    "    lat_center = target_df['latDeg'].mean()\n",
    "    lng_center = target_df['lngDeg'].mean()\n",
    "    center = {\"lat\":lat_center, \"lon\":lng_center}\n",
    "    \n",
    "    visualize_trafic(target_df, center)"
   ]
  },
  {
   "cell_type": "markdown",
   "id": "incorporated-ceremony",
   "metadata": {},
   "source": [
    "# data prep"
   ]
  },
  {
   "cell_type": "code",
   "execution_count": 4,
   "id": "adapted-enforcement",
   "metadata": {},
   "outputs": [],
   "source": [
    "import ipynb_path\n",
    "\n",
    "def get_nb_name():\n",
    "    nb_path = ipynb_path.get()\n",
    "    nb_name = nb_path.rsplit('/',1)[1].replace('.ipynb','')\n",
    "    return nb_name"
   ]
  },
  {
   "cell_type": "code",
   "execution_count": 5,
   "id": "mexican-decision",
   "metadata": {},
   "outputs": [],
   "source": [
    "# directory setting\n",
    "nb_name = get_nb_name()\n",
    "INPUT = '../input/google-smartphone-decimeter-challenge'\n",
    "OUTPUT = '../output/' + nb_name\n",
    "os.makedirs(OUTPUT, exist_ok=True)"
   ]
  },
  {
   "cell_type": "code",
   "execution_count": 6,
   "id": "chubby-longitude",
   "metadata": {},
   "outputs": [],
   "source": [
    "base_train = pd.read_csv(INPUT + '/' + 'baseline_locations_train.csv')\n",
    "base_test = pd.read_csv(INPUT + '/' + 'baseline_locations_test.csv')\n",
    "sample_sub = pd.read_csv(INPUT + '/' + 'sample_submission.csv')"
   ]
  },
  {
   "cell_type": "code",
   "execution_count": 7,
   "id": "under-penetration",
   "metadata": {},
   "outputs": [
    {
     "name": "stdout",
     "output_type": "stream",
     "text": [
      "ground_truth.csv count :  73\n"
     ]
    },
    {
     "data": {
      "application/vnd.jupyter.widget-view+json": {
       "model_id": "f8e3a13dc93b4105854da91a368d134d",
       "version_major": 2,
       "version_minor": 0
      },
      "text/plain": [
       "  0%|          | 0/73 [00:00<?, ?it/s]"
      ]
     },
     "metadata": {},
     "output_type": "display_data"
    },
    {
     "data": {
      "text/html": [
       "<div>\n",
       "<style scoped>\n",
       "    .dataframe tbody tr th:only-of-type {\n",
       "        vertical-align: middle;\n",
       "    }\n",
       "\n",
       "    .dataframe tbody tr th {\n",
       "        vertical-align: top;\n",
       "    }\n",
       "\n",
       "    .dataframe thead th {\n",
       "        text-align: right;\n",
       "    }\n",
       "</style>\n",
       "<table border=\"1\" class=\"dataframe\">\n",
       "  <thead>\n",
       "    <tr style=\"text-align: right;\">\n",
       "      <th></th>\n",
       "      <th>collectionName</th>\n",
       "      <th>phoneName</th>\n",
       "      <th>millisSinceGpsEpoch</th>\n",
       "      <th>latDeg</th>\n",
       "      <th>lngDeg</th>\n",
       "      <th>heightAboveWgs84EllipsoidM</th>\n",
       "      <th>timeSinceFirstFixSeconds</th>\n",
       "      <th>hDop</th>\n",
       "      <th>vDop</th>\n",
       "      <th>speedMps</th>\n",
       "      <th>courseDegree</th>\n",
       "    </tr>\n",
       "  </thead>\n",
       "  <tbody>\n",
       "    <tr>\n",
       "      <th>0</th>\n",
       "      <td>2020-05-21-US-MTV-2</td>\n",
       "      <td>Pixel4</td>\n",
       "      <td>1274131364434</td>\n",
       "      <td>37.628927</td>\n",
       "      <td>-122.426295</td>\n",
       "      <td>65.36</td>\n",
       "      <td>64.43</td>\n",
       "      <td>2.6</td>\n",
       "      <td>0.0</td>\n",
       "      <td>0.0</td>\n",
       "      <td>154.3</td>\n",
       "    </tr>\n",
       "    <tr>\n",
       "      <th>1</th>\n",
       "      <td>2020-05-21-US-MTV-2</td>\n",
       "      <td>Pixel4</td>\n",
       "      <td>1274131365434</td>\n",
       "      <td>37.628927</td>\n",
       "      <td>-122.426295</td>\n",
       "      <td>65.36</td>\n",
       "      <td>65.43</td>\n",
       "      <td>2.6</td>\n",
       "      <td>0.0</td>\n",
       "      <td>0.0</td>\n",
       "      <td>154.3</td>\n",
       "    </tr>\n",
       "    <tr>\n",
       "      <th>2</th>\n",
       "      <td>2020-05-21-US-MTV-2</td>\n",
       "      <td>Pixel4</td>\n",
       "      <td>1274131366434</td>\n",
       "      <td>37.628927</td>\n",
       "      <td>-122.426295</td>\n",
       "      <td>65.36</td>\n",
       "      <td>66.43</td>\n",
       "      <td>2.6</td>\n",
       "      <td>0.0</td>\n",
       "      <td>0.0</td>\n",
       "      <td>154.3</td>\n",
       "    </tr>\n",
       "    <tr>\n",
       "      <th>3</th>\n",
       "      <td>2020-05-21-US-MTV-2</td>\n",
       "      <td>Pixel4</td>\n",
       "      <td>1274131367434</td>\n",
       "      <td>37.628927</td>\n",
       "      <td>-122.426295</td>\n",
       "      <td>65.36</td>\n",
       "      <td>67.43</td>\n",
       "      <td>2.6</td>\n",
       "      <td>0.0</td>\n",
       "      <td>0.0</td>\n",
       "      <td>154.3</td>\n",
       "    </tr>\n",
       "    <tr>\n",
       "      <th>4</th>\n",
       "      <td>2020-05-21-US-MTV-2</td>\n",
       "      <td>Pixel4</td>\n",
       "      <td>1274131368434</td>\n",
       "      <td>37.628927</td>\n",
       "      <td>-122.426295</td>\n",
       "      <td>65.36</td>\n",
       "      <td>68.43</td>\n",
       "      <td>2.6</td>\n",
       "      <td>0.0</td>\n",
       "      <td>0.0</td>\n",
       "      <td>154.3</td>\n",
       "    </tr>\n",
       "  </tbody>\n",
       "</table>\n",
       "</div>"
      ],
      "text/plain": [
       "        collectionName phoneName  millisSinceGpsEpoch     latDeg      lngDeg  \\\n",
       "0  2020-05-21-US-MTV-2    Pixel4        1274131364434  37.628927 -122.426295   \n",
       "1  2020-05-21-US-MTV-2    Pixel4        1274131365434  37.628927 -122.426295   \n",
       "2  2020-05-21-US-MTV-2    Pixel4        1274131366434  37.628927 -122.426295   \n",
       "3  2020-05-21-US-MTV-2    Pixel4        1274131367434  37.628927 -122.426295   \n",
       "4  2020-05-21-US-MTV-2    Pixel4        1274131368434  37.628927 -122.426295   \n",
       "\n",
       "   heightAboveWgs84EllipsoidM  timeSinceFirstFixSeconds  hDop  vDop  speedMps  \\\n",
       "0                       65.36                     64.43   2.6   0.0       0.0   \n",
       "1                       65.36                     65.43   2.6   0.0       0.0   \n",
       "2                       65.36                     66.43   2.6   0.0       0.0   \n",
       "3                       65.36                     67.43   2.6   0.0       0.0   \n",
       "4                       65.36                     68.43   2.6   0.0       0.0   \n",
       "\n",
       "   courseDegree  \n",
       "0         154.3  \n",
       "1         154.3  \n",
       "2         154.3  \n",
       "3         154.3  \n",
       "4         154.3  "
      ]
     },
     "metadata": {},
     "output_type": "display_data"
    }
   ],
   "source": [
    "# ground_truth\n",
    "p = pathlib.Path(INPUT)\n",
    "gt_files = list(p.glob('train/*/*/ground_truth.csv'))\n",
    "print('ground_truth.csv count : ', len(gt_files))\n",
    "\n",
    "gts = []\n",
    "for gt_file in tqdm(gt_files):\n",
    "    gts.append(pd.read_csv(gt_file))\n",
    "ground_truth = pd.concat(gts)\n",
    "\n",
    "display(ground_truth.head())"
   ]
  },
  {
   "cell_type": "markdown",
   "id": "electrical-debate",
   "metadata": {},
   "source": [
    "# speed0の分類モデル"
   ]
  },
  {
   "cell_type": "code",
   "execution_count": 8,
   "id": "twelve-crazy",
   "metadata": {},
   "outputs": [],
   "source": [
    "train = base_train.merge(ground_truth[['collectionName', 'phoneName', 'millisSinceGpsEpoch', 'speedMps']], on=['collectionName', 'phoneName', 'millisSinceGpsEpoch'], how='inner')"
   ]
  },
  {
   "cell_type": "code",
   "execution_count": 9,
   "id": "solved-jacket",
   "metadata": {},
   "outputs": [],
   "source": [
    "train.loc[train['speedMps']==0.0, 'isSpeed0'] = 1\n",
    "train['isSpeed0'] = train['isSpeed0'].fillna(0)"
   ]
  },
  {
   "cell_type": "code",
   "execution_count": 10,
   "id": "armed-there",
   "metadata": {},
   "outputs": [],
   "source": [
    "def add_features(df):\n",
    "    for c,i in itertools.product(['latDeg', 'lngDeg', 'heightAboveWgs84EllipsoidM'], [1,2,3,-1,-2,-3]):\n",
    "        col = c+ '_s' + str(i)\n",
    "        df[col] = df[c].shift(i)\n",
    "        df[col+'_diff'] = df[c] - df[col]\n",
    "        df.loc[df['phone']!=df['phone'].shift(i), [col, col+'_diff']] = np.nan\n",
    "    \n",
    "    for c in ['latDeg', 'lngDeg', 'heightAboveWgs84EllipsoidM']:\n",
    "        df[c+'_s1_diff_sum'] = df[c+'_s1_diff'].fillna(0) + df[c+'_s-1_diff'].fillna(0)\n",
    "        df[c+'_s2_diff_sum'] = df[c+'_s1_diff_sum'] + df[c+'_s2_diff'].fillna(0) + df[c+'_s-2_diff'].fillna(0)\n",
    "        df[c+'_s3_diff_sum'] = df[c+'_s2_diff_sum'] + df[c+'_s3_diff'].fillna(0) + df[c+'_s-3_diff'].fillna(0)\n",
    "    \n",
    "    return df"
   ]
  },
  {
   "cell_type": "code",
   "execution_count": 11,
   "id": "operational-plaza",
   "metadata": {},
   "outputs": [],
   "source": [
    "train = add_features(train)\n",
    "test = add_features(base_test)"
   ]
  },
  {
   "cell_type": "code",
   "execution_count": 12,
   "id": "identified-outline",
   "metadata": {},
   "outputs": [
    {
     "data": {
      "text/plain": [
       "Index(['collectionName', 'phoneName', 'millisSinceGpsEpoch', 'latDeg',\n",
       "       'lngDeg', 'heightAboveWgs84EllipsoidM', 'phone', 'speedMps', 'isSpeed0',\n",
       "       'latDeg_s1', 'latDeg_s1_diff', 'latDeg_s2', 'latDeg_s2_diff',\n",
       "       'latDeg_s3', 'latDeg_s3_diff', 'latDeg_s-1', 'latDeg_s-1_diff',\n",
       "       'latDeg_s-2', 'latDeg_s-2_diff', 'latDeg_s-3', 'latDeg_s-3_diff',\n",
       "       'lngDeg_s1', 'lngDeg_s1_diff', 'lngDeg_s2', 'lngDeg_s2_diff',\n",
       "       'lngDeg_s3', 'lngDeg_s3_diff', 'lngDeg_s-1', 'lngDeg_s-1_diff',\n",
       "       'lngDeg_s-2', 'lngDeg_s-2_diff', 'lngDeg_s-3', 'lngDeg_s-3_diff',\n",
       "       'heightAboveWgs84EllipsoidM_s1', 'heightAboveWgs84EllipsoidM_s1_diff',\n",
       "       'heightAboveWgs84EllipsoidM_s2', 'heightAboveWgs84EllipsoidM_s2_diff',\n",
       "       'heightAboveWgs84EllipsoidM_s3', 'heightAboveWgs84EllipsoidM_s3_diff',\n",
       "       'heightAboveWgs84EllipsoidM_s-1', 'heightAboveWgs84EllipsoidM_s-1_diff',\n",
       "       'heightAboveWgs84EllipsoidM_s-2', 'heightAboveWgs84EllipsoidM_s-2_diff',\n",
       "       'heightAboveWgs84EllipsoidM_s-3', 'heightAboveWgs84EllipsoidM_s-3_diff',\n",
       "       'latDeg_s1_diff_sum', 'latDeg_s2_diff_sum', 'latDeg_s3_diff_sum',\n",
       "       'lngDeg_s1_diff_sum', 'lngDeg_s2_diff_sum', 'lngDeg_s3_diff_sum',\n",
       "       'heightAboveWgs84EllipsoidM_s1_diff_sum',\n",
       "       'heightAboveWgs84EllipsoidM_s2_diff_sum',\n",
       "       'heightAboveWgs84EllipsoidM_s3_diff_sum'],\n",
       "      dtype='object')"
      ]
     },
     "execution_count": 12,
     "metadata": {},
     "output_type": "execute_result"
    }
   ],
   "source": [
    "train.columns"
   ]
  },
  {
   "cell_type": "code",
   "execution_count": 13,
   "id": "matched-tooth",
   "metadata": {},
   "outputs": [
    {
     "data": {
      "text/plain": [
       "['latDeg_s1_diff',\n",
       " 'latDeg_s2_diff',\n",
       " 'latDeg_s3_diff',\n",
       " 'latDeg_s-1_diff',\n",
       " 'latDeg_s-2_diff',\n",
       " 'latDeg_s-3_diff',\n",
       " 'lngDeg_s1_diff',\n",
       " 'lngDeg_s2_diff',\n",
       " 'lngDeg_s3_diff',\n",
       " 'lngDeg_s-1_diff',\n",
       " 'lngDeg_s-2_diff',\n",
       " 'lngDeg_s-3_diff',\n",
       " 'heightAboveWgs84EllipsoidM_s1_diff',\n",
       " 'heightAboveWgs84EllipsoidM_s2_diff',\n",
       " 'heightAboveWgs84EllipsoidM_s3_diff',\n",
       " 'heightAboveWgs84EllipsoidM_s-1_diff',\n",
       " 'heightAboveWgs84EllipsoidM_s-2_diff',\n",
       " 'heightAboveWgs84EllipsoidM_s-3_diff',\n",
       " 'latDeg_s1_diff_sum',\n",
       " 'latDeg_s2_diff_sum',\n",
       " 'latDeg_s3_diff_sum',\n",
       " 'lngDeg_s1_diff_sum',\n",
       " 'lngDeg_s2_diff_sum',\n",
       " 'lngDeg_s3_diff_sum',\n",
       " 'heightAboveWgs84EllipsoidM_s1_diff_sum',\n",
       " 'heightAboveWgs84EllipsoidM_s2_diff_sum',\n",
       " 'heightAboveWgs84EllipsoidM_s3_diff_sum']"
      ]
     },
     "execution_count": 13,
     "metadata": {},
     "output_type": "execute_result"
    }
   ],
   "source": [
    "target = 'isSpeed0'\n",
    "not_use_cols = ['speedMps', 'collectionName', 'phoneName', 'phone', 'millisSinceGpsEpoch', 'latDeg', 'lngDeg', 'heightAboveWgs84EllipsoidM',\n",
    "                'latDeg_s1', 'latDeg_s2', 'latDeg_s3', 'latDeg_s-1', 'latDeg_s-2',\n",
    "                'latDeg_s-3', 'lngDeg_s1', 'lngDeg_s2', 'lngDeg_s3', 'lngDeg_s-1',\n",
    "                'lngDeg_s-2', 'lngDeg_s-3', 'heightAboveWgs84EllipsoidM_s1',\n",
    "                'heightAboveWgs84EllipsoidM_s2', 'heightAboveWgs84EllipsoidM_s3',\n",
    "                'heightAboveWgs84EllipsoidM_s-1', 'heightAboveWgs84EllipsoidM_s-2',\n",
    "                'heightAboveWgs84EllipsoidM_s-3', target]\n",
    "features = [c for c in train.columns if c not in not_use_cols]\n",
    "features"
   ]
  },
  {
   "cell_type": "markdown",
   "id": "mechanical-walker",
   "metadata": {},
   "source": [
    "# optuna_lgb_tuner"
   ]
  },
  {
   "cell_type": "code",
   "execution_count": 14,
   "id": "stopped-sacrifice",
   "metadata": {},
   "outputs": [
    {
     "name": "stderr",
     "output_type": "stream",
     "text": [
      "\u001b[32m[I 2021-06-10 10:39:53,028]\u001b[0m A new study created in memory with name: no-name-e0e9e963-0b77-4b90-8ad1-ae4d7ebf28f5\u001b[0m\n",
      "feature_fraction, val_score: inf:   0%|          | 0/7 [00:00<?, ?it/s]"
     ]
    },
    {
     "name": "stdout",
     "output_type": "stream",
     "text": [
      "valid :  2020-05-14-US-MTV-1\n",
      "[LightGBM] [Info] Number of positive: 23249, number of negative: 104607\n",
      "[LightGBM] [Warning] Auto-choosing col-wise multi-threading, the overhead of testing was 0.005342 seconds.\n",
      "You can set `force_col_wise=true` to remove the overhead.\n",
      "[LightGBM] [Info] Total Bins 6885\n",
      "[LightGBM] [Info] Number of data points in the train set: 127856, number of used features: 27\n",
      "[LightGBM] [Info] [binary:BoostFromScore]: pavg=0.181837 -> initscore=-1.503948\n",
      "[LightGBM] [Info] Start training from score -1.503948\n",
      "Training until validation scores don't improve for 100 rounds\n",
      "[100]\tvalid_0's binary_logloss: 0.0591238\tvalid_1's binary_logloss: 0.0174769\n",
      "[200]\tvalid_0's binary_logloss: 0.046614\tvalid_1's binary_logloss: 0.0170122\n",
      "[300]\tvalid_0's binary_logloss: 0.0381255\tvalid_1's binary_logloss: 0.0169724\n",
      "[400]\tvalid_0's binary_logloss: 0.0314267\tvalid_1's binary_logloss: 0.0167575\n"
     ]
    },
    {
     "name": "stderr",
     "output_type": "stream",
     "text": [
      "feature_fraction, val_score: 0.016568:  14%|#4        | 1/7 [00:02<00:17,  2.94s/it]\u001b[32m[I 2021-06-10 10:39:55,970]\u001b[0m Trial 0 finished with value: 0.016568476415775402 and parameters: {'feature_fraction': 0.8999999999999999}. Best is trial 0 with value: 0.016568476415775402.\u001b[0m\n",
      "feature_fraction, val_score: 0.016568:  14%|#4        | 1/7 [00:02<00:17,  2.94s/it]"
     ]
    },
    {
     "name": "stdout",
     "output_type": "stream",
     "text": [
      "[500]\tvalid_0's binary_logloss: 0.0262921\tvalid_1's binary_logloss: 0.0167085\n",
      "Early stopping, best iteration is:\n",
      "[438]\tvalid_0's binary_logloss: 0.0293872\tvalid_1's binary_logloss: 0.0165685\n",
      "[LightGBM] [Info] Number of positive: 23249, number of negative: 104607\n",
      "[LightGBM] [Warning] Auto-choosing col-wise multi-threading, the overhead of testing was 0.004982 seconds.\n",
      "You can set `force_col_wise=true` to remove the overhead.\n",
      "[LightGBM] [Info] Total Bins 6885\n",
      "[LightGBM] [Info] Number of data points in the train set: 127856, number of used features: 27\n",
      "[LightGBM] [Info] [binary:BoostFromScore]: pavg=0.181837 -> initscore=-1.503948\n",
      "[LightGBM] [Info] Start training from score -1.503948\n",
      "Training until validation scores don't improve for 100 rounds\n",
      "[100]\tvalid_0's binary_logloss: 0.0585941\tvalid_1's binary_logloss: 0.0171041\n",
      "[200]\tvalid_0's binary_logloss: 0.046159\tvalid_1's binary_logloss: 0.0170706\n",
      "[300]\tvalid_0's binary_logloss: 0.0379244\tvalid_1's binary_logloss: 0.0170857\n"
     ]
    },
    {
     "name": "stderr",
     "output_type": "stream",
     "text": [
      "feature_fraction, val_score: 0.016568:  29%|##8       | 2/7 [00:04<00:11,  2.28s/it]\u001b[32m[I 2021-06-10 10:39:57,789]\u001b[0m Trial 1 finished with value: 0.01694112444038399 and parameters: {'feature_fraction': 1.0}. Best is trial 0 with value: 0.016568476415775402.\u001b[0m\n",
      "feature_fraction, val_score: 0.016568:  29%|##8       | 2/7 [00:04<00:11,  2.28s/it]"
     ]
    },
    {
     "name": "stdout",
     "output_type": "stream",
     "text": [
      "Early stopping, best iteration is:\n",
      "[266]\tvalid_0's binary_logloss: 0.0402761\tvalid_1's binary_logloss: 0.0169411\n",
      "[LightGBM] [Info] Number of positive: 23249, number of negative: 104607\n",
      "[LightGBM] [Warning] Auto-choosing row-wise multi-threading, the overhead of testing was 0.000934 seconds.\n",
      "You can set `force_row_wise=true` to remove the overhead.\n",
      "And if memory is not enough, you can set `force_col_wise=true`.\n",
      "[LightGBM] [Info] Total Bins 6885\n",
      "[LightGBM] [Info] Number of data points in the train set: 127856, number of used features: 27\n",
      "[LightGBM] [Info] [binary:BoostFromScore]: pavg=0.181837 -> initscore=-1.503948\n",
      "[LightGBM] [Info] Start training from score -1.503948\n",
      "Training until validation scores don't improve for 100 rounds\n",
      "[100]\tvalid_0's binary_logloss: 0.061987\tvalid_1's binary_logloss: 0.0181758\n",
      "[200]\tvalid_0's binary_logloss: 0.0507953\tvalid_1's binary_logloss: 0.01774\n",
      "[300]\tvalid_0's binary_logloss: 0.042295\tvalid_1's binary_logloss: 0.0175192\n",
      "[400]\tvalid_0's binary_logloss: 0.0358104\tvalid_1's binary_logloss: 0.0170771\n",
      "[500]\tvalid_0's binary_logloss: 0.030312\tvalid_1's binary_logloss: 0.0170823\n"
     ]
    },
    {
     "name": "stderr",
     "output_type": "stream",
     "text": [
      "feature_fraction, val_score: 0.016568:  43%|####2     | 3/7 [00:08<00:11,  2.86s/it]\u001b[32m[I 2021-06-10 10:40:01,329]\u001b[0m Trial 2 finished with value: 0.016946151258606577 and parameters: {'feature_fraction': 0.4}. Best is trial 0 with value: 0.016568476415775402.\u001b[0m\n",
      "feature_fraction, val_score: 0.016568:  43%|####2     | 3/7 [00:08<00:11,  2.86s/it]"
     ]
    },
    {
     "name": "stdout",
     "output_type": "stream",
     "text": [
      "Early stopping, best iteration is:\n",
      "[469]\tvalid_0's binary_logloss: 0.0320917\tvalid_1's binary_logloss: 0.0169462\n",
      "[LightGBM] [Info] Number of positive: 23249, number of negative: 104607\n",
      "[LightGBM] [Warning] Auto-choosing col-wise multi-threading, the overhead of testing was 0.004712 seconds.\n",
      "You can set `force_col_wise=true` to remove the overhead.\n",
      "[LightGBM] [Info] Total Bins 6885\n",
      "[LightGBM] [Info] Number of data points in the train set: 127856, number of used features: 27\n",
      "[LightGBM] [Info] [binary:BoostFromScore]: pavg=0.181837 -> initscore=-1.503948\n",
      "[LightGBM] [Info] Start training from score -1.503948\n",
      "Training until validation scores don't improve for 100 rounds\n",
      "[100]\tvalid_0's binary_logloss: 0.0600603\tvalid_1's binary_logloss: 0.0182559\n",
      "[200]\tvalid_0's binary_logloss: 0.0477648\tvalid_1's binary_logloss: 0.0175904\n",
      "[300]\tvalid_0's binary_logloss: 0.0393322\tvalid_1's binary_logloss: 0.0172925\n",
      "[400]\tvalid_0's binary_logloss: 0.0326914\tvalid_1's binary_logloss: 0.0172721\n",
      "[500]\tvalid_0's binary_logloss: 0.0274301\tvalid_1's binary_logloss: 0.0171164\n"
     ]
    },
    {
     "name": "stderr",
     "output_type": "stream",
     "text": [
      "feature_fraction, val_score: 0.016568:  57%|#####7    | 4/7 [00:11<00:08,  2.94s/it]\u001b[32m[I 2021-06-10 10:40:04,406]\u001b[0m Trial 3 finished with value: 0.01699234538682326 and parameters: {'feature_fraction': 0.7}. Best is trial 0 with value: 0.016568476415775402.\u001b[0m\n",
      "feature_fraction, val_score: 0.016568:  57%|#####7    | 4/7 [00:11<00:08,  2.94s/it]"
     ]
    },
    {
     "name": "stdout",
     "output_type": "stream",
     "text": [
      "Early stopping, best iteration is:\n",
      "[468]\tvalid_0's binary_logloss: 0.0289625\tvalid_1's binary_logloss: 0.0169923\n",
      "[LightGBM] [Info] Number of positive: 23249, number of negative: 104607\n",
      "[LightGBM] [Warning] Auto-choosing col-wise multi-threading, the overhead of testing was 0.004399 seconds.\n",
      "You can set `force_col_wise=true` to remove the overhead.\n",
      "[LightGBM] [Info] Total Bins 6885\n",
      "[LightGBM] [Info] Number of data points in the train set: 127856, number of used features: 27\n",
      "[LightGBM] [Info] [binary:BoostFromScore]: pavg=0.181837 -> initscore=-1.503948\n",
      "[LightGBM] [Info] Start training from score -1.503948\n",
      "Training until validation scores don't improve for 100 rounds\n",
      "[100]\tvalid_0's binary_logloss: 0.0604354\tvalid_1's binary_logloss: 0.018264\n",
      "[200]\tvalid_0's binary_logloss: 0.0486625\tvalid_1's binary_logloss: 0.0176425\n"
     ]
    },
    {
     "name": "stderr",
     "output_type": "stream",
     "text": [
      "feature_fraction, val_score: 0.016568:  71%|#######1  | 5/7 [00:13<00:05,  2.62s/it]\u001b[32m[I 2021-06-10 10:40:06,456]\u001b[0m Trial 4 finished with value: 0.017622247156547474 and parameters: {'feature_fraction': 0.6}. Best is trial 0 with value: 0.016568476415775402.\u001b[0m\n",
      "feature_fraction, val_score: 0.016568:  71%|#######1  | 5/7 [00:13<00:05,  2.62s/it]"
     ]
    },
    {
     "name": "stdout",
     "output_type": "stream",
     "text": [
      "Early stopping, best iteration is:\n",
      "[199]\tvalid_0's binary_logloss: 0.0487079\tvalid_1's binary_logloss: 0.0176222\n",
      "[LightGBM] [Info] Number of positive: 23249, number of negative: 104607\n",
      "[LightGBM] [Warning] Auto-choosing col-wise multi-threading, the overhead of testing was 0.004791 seconds.\n",
      "You can set `force_col_wise=true` to remove the overhead.\n",
      "[LightGBM] [Info] Total Bins 6885\n",
      "[LightGBM] [Info] Number of data points in the train set: 127856, number of used features: 27\n",
      "[LightGBM] [Info] [binary:BoostFromScore]: pavg=0.181837 -> initscore=-1.503948\n",
      "[LightGBM] [Info] Start training from score -1.503948\n",
      "Training until validation scores don't improve for 100 rounds\n",
      "[100]\tvalid_0's binary_logloss: 0.0594048\tvalid_1's binary_logloss: 0.0179061\n"
     ]
    },
    {
     "name": "stderr",
     "output_type": "stream",
     "text": [
      "feature_fraction, val_score: 0.016568:  86%|########5 | 6/7 [00:14<00:02,  2.16s/it]"
     ]
    },
    {
     "name": "stdout",
     "output_type": "stream",
     "text": [
      "[200]\tvalid_0's binary_logloss: 0.0472929\tvalid_1's binary_logloss: 0.017504\n",
      "Early stopping, best iteration is:\n",
      "[147]\tvalid_0's binary_logloss: 0.0528864\tvalid_1's binary_logloss: 0.0174595\n"
     ]
    },
    {
     "name": "stderr",
     "output_type": "stream",
     "text": [
      "\u001b[32m[I 2021-06-10 10:40:07,734]\u001b[0m Trial 5 finished with value: 0.01745952193892891 and parameters: {'feature_fraction': 0.8}. Best is trial 0 with value: 0.016568476415775402.\u001b[0m\n",
      "feature_fraction, val_score: 0.016568:  86%|########5 | 6/7 [00:14<00:02,  2.16s/it]"
     ]
    },
    {
     "name": "stdout",
     "output_type": "stream",
     "text": [
      "[LightGBM] [Info] Number of positive: 23249, number of negative: 104607\n",
      "[LightGBM] [Warning] Auto-choosing col-wise multi-threading, the overhead of testing was 0.004563 seconds.\n",
      "You can set `force_col_wise=true` to remove the overhead.\n",
      "[LightGBM] [Info] Total Bins 6885\n",
      "[LightGBM] [Info] Number of data points in the train set: 127856, number of used features: 27\n",
      "[LightGBM] [Info] [binary:BoostFromScore]: pavg=0.181837 -> initscore=-1.503948\n",
      "[LightGBM] [Info] Start training from score -1.503948\n",
      "Training until validation scores don't improve for 100 rounds\n",
      "[100]\tvalid_0's binary_logloss: 0.060821\tvalid_1's binary_logloss: 0.0171948\n",
      "[200]\tvalid_0's binary_logloss: 0.0491628\tvalid_1's binary_logloss: 0.0167558\n"
     ]
    },
    {
     "name": "stderr",
     "output_type": "stream",
     "text": [
      "feature_fraction, val_score: 0.016568: 100%|##########| 7/7 [00:16<00:00,  2.06s/it]\u001b[32m[I 2021-06-10 10:40:09,578]\u001b[0m Trial 6 finished with value: 0.016635730173036815 and parameters: {'feature_fraction': 0.5}. Best is trial 0 with value: 0.016568476415775402.\u001b[0m\n",
      "feature_fraction, val_score: 0.016568: 100%|##########| 7/7 [00:16<00:00,  2.36s/it]\n",
      "num_leaves, val_score: 0.016568:   0%|          | 0/20 [00:00<?, ?it/s]"
     ]
    },
    {
     "name": "stdout",
     "output_type": "stream",
     "text": [
      "Early stopping, best iteration is:\n",
      "[181]\tvalid_0's binary_logloss: 0.0509665\tvalid_1's binary_logloss: 0.0166357\n",
      "[LightGBM] [Info] Number of positive: 23249, number of negative: 104607\n",
      "[LightGBM] [Warning] Auto-choosing col-wise multi-threading, the overhead of testing was 0.005056 seconds.\n",
      "You can set `force_col_wise=true` to remove the overhead.\n",
      "[LightGBM] [Info] Total Bins 6885\n",
      "[LightGBM] [Info] Number of data points in the train set: 127856, number of used features: 27\n",
      "[LightGBM] [Info] [binary:BoostFromScore]: pavg=0.181837 -> initscore=-1.503948\n",
      "[LightGBM] [Info] Start training from score -1.503948\n",
      "Training until validation scores don't improve for 100 rounds\n",
      "[100]\tvalid_0's binary_logloss: 0.0615693\tvalid_1's binary_logloss: 0.0173135\n",
      "[200]\tvalid_0's binary_logloss: 0.0503943\tvalid_1's binary_logloss: 0.0171165\n",
      "[300]\tvalid_0's binary_logloss: 0.0426742\tvalid_1's binary_logloss: 0.0165889\n",
      "[400]\tvalid_0's binary_logloss: 0.0363341\tvalid_1's binary_logloss: 0.0162244\n"
     ]
    },
    {
     "name": "stderr",
     "output_type": "stream",
     "text": [
      "num_leaves, val_score: 0.016204:   5%|5         | 1/20 [00:02<00:42,  2.24s/it]\u001b[32m[I 2021-06-10 10:40:11,821]\u001b[0m Trial 7 finished with value: 0.016203970724492724 and parameters: {'num_leaves': 26}. Best is trial 7 with value: 0.016203970724492724.\u001b[0m\n",
      "num_leaves, val_score: 0.016204:   5%|5         | 1/20 [00:02<00:42,  2.24s/it]"
     ]
    },
    {
     "name": "stdout",
     "output_type": "stream",
     "text": [
      "Early stopping, best iteration is:\n",
      "[393]\tvalid_0's binary_logloss: 0.0366944\tvalid_1's binary_logloss: 0.016204\n",
      "[LightGBM] [Info] Number of positive: 23249, number of negative: 104607\n",
      "[LightGBM] [Warning] Auto-choosing col-wise multi-threading, the overhead of testing was 0.005310 seconds.\n",
      "You can set `force_col_wise=true` to remove the overhead.\n",
      "[LightGBM] [Info] Total Bins 6885\n",
      "[LightGBM] [Info] Number of data points in the train set: 127856, number of used features: 27\n",
      "[LightGBM] [Info] [binary:BoostFromScore]: pavg=0.181837 -> initscore=-1.503948\n",
      "[LightGBM] [Info] Start training from score -1.503948\n",
      "Training until validation scores don't improve for 100 rounds\n",
      "[100]\tvalid_0's binary_logloss: 0.101665\tvalid_1's binary_logloss: 0.0333574\n",
      "[200]\tvalid_0's binary_logloss: 0.0886123\tvalid_1's binary_logloss: 0.02541\n",
      "[300]\tvalid_0's binary_logloss: 0.0830554\tvalid_1's binary_logloss: 0.0226049\n",
      "[400]\tvalid_0's binary_logloss: 0.0795408\tvalid_1's binary_logloss: 0.0215527\n",
      "[500]\tvalid_0's binary_logloss: 0.0776531\tvalid_1's binary_logloss: 0.0209497\n",
      "[600]\tvalid_0's binary_logloss: 0.0763049\tvalid_1's binary_logloss: 0.0206386\n",
      "[700]\tvalid_0's binary_logloss: 0.0751166\tvalid_1's binary_logloss: 0.0202304\n",
      "[800]\tvalid_0's binary_logloss: 0.0740945\tvalid_1's binary_logloss: 0.0201255\n",
      "[900]\tvalid_0's binary_logloss: 0.0732361\tvalid_1's binary_logloss: 0.0199879\n",
      "[1000]\tvalid_0's binary_logloss: 0.0724369\tvalid_1's binary_logloss: 0.0198625\n",
      "[1100]\tvalid_0's binary_logloss: 0.0717687\tvalid_1's binary_logloss: 0.0197949\n",
      "[1200]\tvalid_0's binary_logloss: 0.0711902\tvalid_1's binary_logloss: 0.0197878\n",
      "[1300]\tvalid_0's binary_logloss: 0.0705703\tvalid_1's binary_logloss: 0.0197023\n",
      "[1400]\tvalid_0's binary_logloss: 0.0699704\tvalid_1's binary_logloss: 0.0195435\n",
      "[1500]\tvalid_0's binary_logloss: 0.0694061\tvalid_1's binary_logloss: 0.019502\n",
      "[1600]\tvalid_0's binary_logloss: 0.0689366\tvalid_1's binary_logloss: 0.0194313\n",
      "[1700]\tvalid_0's binary_logloss: 0.06844\tvalid_1's binary_logloss: 0.019403\n",
      "[1800]\tvalid_0's binary_logloss: 0.0679553\tvalid_1's binary_logloss: 0.019346\n",
      "[1900]\tvalid_0's binary_logloss: 0.067547\tvalid_1's binary_logloss: 0.0192883\n",
      "[2000]\tvalid_0's binary_logloss: 0.0671064\tvalid_1's binary_logloss: 0.0192255\n",
      "[2100]\tvalid_0's binary_logloss: 0.0666903\tvalid_1's binary_logloss: 0.0191989\n",
      "[2200]\tvalid_0's binary_logloss: 0.066259\tvalid_1's binary_logloss: 0.0190739\n",
      "[2300]\tvalid_0's binary_logloss: 0.0658607\tvalid_1's binary_logloss: 0.0190495\n",
      "[2400]\tvalid_0's binary_logloss: 0.0654844\tvalid_1's binary_logloss: 0.0190402\n",
      "[2500]\tvalid_0's binary_logloss: 0.065111\tvalid_1's binary_logloss: 0.0189774\n",
      "[2600]\tvalid_0's binary_logloss: 0.0647518\tvalid_1's binary_logloss: 0.0189338\n",
      "[2700]\tvalid_0's binary_logloss: 0.064396\tvalid_1's binary_logloss: 0.0189048\n",
      "[2800]\tvalid_0's binary_logloss: 0.0640246\tvalid_1's binary_logloss: 0.0188114\n",
      "[2900]\tvalid_0's binary_logloss: 0.0636931\tvalid_1's binary_logloss: 0.0187581\n",
      "[3000]\tvalid_0's binary_logloss: 0.0633858\tvalid_1's binary_logloss: 0.018727\n",
      "[3100]\tvalid_0's binary_logloss: 0.0630489\tvalid_1's binary_logloss: 0.0186159\n",
      "[3200]\tvalid_0's binary_logloss: 0.0627409\tvalid_1's binary_logloss: 0.0185878\n",
      "[3300]\tvalid_0's binary_logloss: 0.062458\tvalid_1's binary_logloss: 0.0185535\n",
      "[3400]\tvalid_0's binary_logloss: 0.0621709\tvalid_1's binary_logloss: 0.018549\n"
     ]
    },
    {
     "name": "stderr",
     "output_type": "stream",
     "text": [
      "num_leaves, val_score: 0.016204:  10%|#         | 2/20 [00:10<01:48,  6.02s/it]\u001b[32m[I 2021-06-10 10:40:20,484]\u001b[0m Trial 8 finished with value: 0.018497104939620992 and parameters: {'num_leaves': 3}. Best is trial 7 with value: 0.016203970724492724.\u001b[0m\n",
      "num_leaves, val_score: 0.016204:  10%|#         | 2/20 [00:10<01:48,  6.02s/it]"
     ]
    },
    {
     "name": "stdout",
     "output_type": "stream",
     "text": [
      "Early stopping, best iteration is:\n",
      "[3330]\tvalid_0's binary_logloss: 0.0623672\tvalid_1's binary_logloss: 0.0184971\n",
      "[LightGBM] [Info] Number of positive: 23249, number of negative: 104607\n",
      "[LightGBM] [Warning] Auto-choosing col-wise multi-threading, the overhead of testing was 0.006722 seconds.\n",
      "You can set `force_col_wise=true` to remove the overhead.\n",
      "[LightGBM] [Info] Total Bins 6885\n",
      "[LightGBM] [Info] Number of data points in the train set: 127856, number of used features: 27\n",
      "[LightGBM] [Info] [binary:BoostFromScore]: pavg=0.181837 -> initscore=-1.503948\n",
      "[LightGBM] [Info] Start training from score -1.503948\n",
      "Training until validation scores don't improve for 100 rounds\n",
      "[100]\tvalid_0's binary_logloss: 0.042149\tvalid_1's binary_logloss: 0.0162922\n",
      "[200]\tvalid_0's binary_logloss: 0.0259567\tvalid_1's binary_logloss: 0.0157443\n"
     ]
    },
    {
     "name": "stderr",
     "output_type": "stream",
     "text": [
      "num_leaves, val_score: 0.015708:  15%|#5        | 3/20 [00:13<01:17,  4.58s/it]\u001b[32m[I 2021-06-10 10:40:23,363]\u001b[0m Trial 9 finished with value: 0.015707811731429735 and parameters: {'num_leaves': 76}. Best is trial 9 with value: 0.015707811731429735.\u001b[0m\n",
      "num_leaves, val_score: 0.015708:  15%|#5        | 3/20 [00:13<01:17,  4.58s/it]"
     ]
    },
    {
     "name": "stdout",
     "output_type": "stream",
     "text": [
      "[300]\tvalid_0's binary_logloss: 0.0161476\tvalid_1's binary_logloss: 0.0160625\n",
      "Early stopping, best iteration is:\n",
      "[203]\tvalid_0's binary_logloss: 0.0256007\tvalid_1's binary_logloss: 0.0157078\n",
      "[LightGBM] [Info] Number of positive: 23249, number of negative: 104607\n",
      "[LightGBM] [Warning] Auto-choosing col-wise multi-threading, the overhead of testing was 0.004751 seconds.\n",
      "You can set `force_col_wise=true` to remove the overhead.\n",
      "[LightGBM] [Info] Total Bins 6885\n",
      "[LightGBM] [Info] Number of data points in the train set: 127856, number of used features: 27\n",
      "[LightGBM] [Info] [binary:BoostFromScore]: pavg=0.181837 -> initscore=-1.503948\n",
      "[LightGBM] [Info] Start training from score -1.503948\n",
      "Training until validation scores don't improve for 100 rounds\n",
      "[100]\tvalid_0's binary_logloss: 0.0153826\tvalid_1's binary_logloss: 0.0161241\n"
     ]
    },
    {
     "name": "stderr",
     "output_type": "stream",
     "text": [
      "num_leaves, val_score: 0.015708:  20%|##        | 4/20 [00:17<01:08,  4.26s/it]\u001b[32m[I 2021-06-10 10:40:27,126]\u001b[0m Trial 10 finished with value: 0.015978953130426642 and parameters: {'num_leaves': 229}. Best is trial 9 with value: 0.015707811731429735.\u001b[0m\n",
      "num_leaves, val_score: 0.015708:  20%|##        | 4/20 [00:17<01:08,  4.26s/it]"
     ]
    },
    {
     "name": "stdout",
     "output_type": "stream",
     "text": [
      "Early stopping, best iteration is:\n",
      "[95]\tvalid_0's binary_logloss: 0.0166135\tvalid_1's binary_logloss: 0.015979\n",
      "[LightGBM] [Info] Number of positive: 23249, number of negative: 104607\n",
      "[LightGBM] [Warning] Auto-choosing col-wise multi-threading, the overhead of testing was 0.004774 seconds.\n",
      "You can set `force_col_wise=true` to remove the overhead.\n",
      "[LightGBM] [Info] Total Bins 6885\n",
      "[LightGBM] [Info] Number of data points in the train set: 127856, number of used features: 27\n",
      "[LightGBM] [Info] [binary:BoostFromScore]: pavg=0.181837 -> initscore=-1.503948\n",
      "[LightGBM] [Info] Start training from score -1.503948\n",
      "Training until validation scores don't improve for 100 rounds\n",
      "[100]\tvalid_0's binary_logloss: 0.0377895\tvalid_1's binary_logloss: 0.0163931\n"
     ]
    },
    {
     "name": "stderr",
     "output_type": "stream",
     "text": [
      "num_leaves, val_score: 0.015708:  25%|##5       | 5/20 [00:19<00:49,  3.33s/it]\u001b[32m[I 2021-06-10 10:40:28,812]\u001b[0m Trial 11 finished with value: 0.016194389805641023 and parameters: {'num_leaves': 91}. Best is trial 9 with value: 0.015707811731429735.\u001b[0m\n",
      "num_leaves, val_score: 0.015708:  25%|##5       | 5/20 [00:19<00:49,  3.33s/it]"
     ]
    },
    {
     "name": "stdout",
     "output_type": "stream",
     "text": [
      "Early stopping, best iteration is:\n",
      "[87]\tvalid_0's binary_logloss: 0.0412489\tvalid_1's binary_logloss: 0.0161944\n",
      "[LightGBM] [Info] Number of positive: 23249, number of negative: 104607\n",
      "[LightGBM] [Warning] Auto-choosing col-wise multi-threading, the overhead of testing was 0.025383 seconds.\n",
      "You can set `force_col_wise=true` to remove the overhead.\n",
      "[LightGBM] [Info] Total Bins 6885\n",
      "[LightGBM] [Info] Number of data points in the train set: 127856, number of used features: 27\n",
      "[LightGBM] [Info] [binary:BoostFromScore]: pavg=0.181837 -> initscore=-1.503948\n",
      "[LightGBM] [Info] Start training from score -1.503948\n",
      "Training until validation scores don't improve for 100 rounds\n",
      "[100]\tvalid_0's binary_logloss: 0.0187462\tvalid_1's binary_logloss: 0.0166533\n"
     ]
    },
    {
     "name": "stderr",
     "output_type": "stream",
     "text": [
      "num_leaves, val_score: 0.015708:  30%|###       | 6/20 [00:22<00:46,  3.32s/it]\u001b[32m[I 2021-06-10 10:40:32,106]\u001b[0m Trial 12 finished with value: 0.01633886979207344 and parameters: {'num_leaves': 195}. Best is trial 9 with value: 0.015707811731429735.\u001b[0m\n",
      "num_leaves, val_score: 0.015708:  30%|###       | 6/20 [00:22<00:46,  3.32s/it]"
     ]
    },
    {
     "name": "stdout",
     "output_type": "stream",
     "text": [
      "Early stopping, best iteration is:\n",
      "[78]\tvalid_0's binary_logloss: 0.025153\tvalid_1's binary_logloss: 0.0163389\n",
      "[LightGBM] [Info] Number of positive: 23249, number of negative: 104607\n",
      "[LightGBM] [Warning] Auto-choosing col-wise multi-threading, the overhead of testing was 0.005182 seconds.\n",
      "You can set `force_col_wise=true` to remove the overhead.\n",
      "[LightGBM] [Info] Total Bins 6885\n",
      "[LightGBM] [Info] Number of data points in the train set: 127856, number of used features: 27\n",
      "[LightGBM] [Info] [binary:BoostFromScore]: pavg=0.181837 -> initscore=-1.503948\n",
      "[LightGBM] [Info] Start training from score -1.503948\n",
      "Training until validation scores don't improve for 100 rounds\n",
      "[100]\tvalid_0's binary_logloss: 0.0149196\tvalid_1's binary_logloss: 0.0163541\n"
     ]
    },
    {
     "name": "stderr",
     "output_type": "stream",
     "text": [
      "num_leaves, val_score: 0.015708:  35%|###5      | 7/20 [00:25<00:42,  3.30s/it]\u001b[32m[I 2021-06-10 10:40:35,378]\u001b[0m Trial 13 finished with value: 0.015861291703459096 and parameters: {'num_leaves': 232}. Best is trial 9 with value: 0.015707811731429735.\u001b[0m\n",
      "num_leaves, val_score: 0.015708:  35%|###5      | 7/20 [00:25<00:42,  3.30s/it]"
     ]
    },
    {
     "name": "stdout",
     "output_type": "stream",
     "text": [
      "Early stopping, best iteration is:\n",
      "[67]\tvalid_0's binary_logloss: 0.0250111\tvalid_1's binary_logloss: 0.0158613\n",
      "[LightGBM] [Info] Number of positive: 23249, number of negative: 104607\n",
      "[LightGBM] [Warning] Auto-choosing col-wise multi-threading, the overhead of testing was 0.005095 seconds.\n",
      "You can set `force_col_wise=true` to remove the overhead.\n",
      "[LightGBM] [Info] Total Bins 6885\n",
      "[LightGBM] [Info] Number of data points in the train set: 127856, number of used features: 27\n",
      "[LightGBM] [Info] [binary:BoostFromScore]: pavg=0.181837 -> initscore=-1.503948\n",
      "[LightGBM] [Info] Start training from score -1.503948\n",
      "Training until validation scores don't improve for 100 rounds\n",
      "[100]\tvalid_0's binary_logloss: 0.0800862\tvalid_1's binary_logloss: 0.0225523\n",
      "[200]\tvalid_0's binary_logloss: 0.0732535\tvalid_1's binary_logloss: 0.0201284\n",
      "[300]\tvalid_0's binary_logloss: 0.0697727\tvalid_1's binary_logloss: 0.0194167\n",
      "[400]\tvalid_0's binary_logloss: 0.0670986\tvalid_1's binary_logloss: 0.0189998\n",
      "[500]\tvalid_0's binary_logloss: 0.0645603\tvalid_1's binary_logloss: 0.0186659\n",
      "[600]\tvalid_0's binary_logloss: 0.0624352\tvalid_1's binary_logloss: 0.0184931\n",
      "[700]\tvalid_0's binary_logloss: 0.0606367\tvalid_1's binary_logloss: 0.0182409\n",
      "[800]\tvalid_0's binary_logloss: 0.0587052\tvalid_1's binary_logloss: 0.0181552\n",
      "[900]\tvalid_0's binary_logloss: 0.0568852\tvalid_1's binary_logloss: 0.0180801\n",
      "[1000]\tvalid_0's binary_logloss: 0.0553581\tvalid_1's binary_logloss: 0.017929\n",
      "[1100]\tvalid_0's binary_logloss: 0.0537365\tvalid_1's binary_logloss: 0.0175967\n"
     ]
    },
    {
     "name": "stderr",
     "output_type": "stream",
     "text": [
      "num_leaves, val_score: 0.015708:  40%|####      | 8/20 [00:29<00:41,  3.44s/it]\u001b[32m[I 2021-06-10 10:40:39,095]\u001b[0m Trial 14 finished with value: 0.01754716461780042 and parameters: {'num_leaves': 6}. Best is trial 9 with value: 0.015707811731429735.\u001b[0m\n",
      "num_leaves, val_score: 0.015708:  40%|####      | 8/20 [00:29<00:41,  3.44s/it]"
     ]
    },
    {
     "name": "stdout",
     "output_type": "stream",
     "text": [
      "[1200]\tvalid_0's binary_logloss: 0.0523411\tvalid_1's binary_logloss: 0.0175796\n",
      "Early stopping, best iteration is:\n",
      "[1109]\tvalid_0's binary_logloss: 0.0535874\tvalid_1's binary_logloss: 0.0175472\n",
      "[LightGBM] [Info] Number of positive: 23249, number of negative: 104607\n",
      "[LightGBM] [Warning] Auto-choosing col-wise multi-threading, the overhead of testing was 0.088436 seconds.\n",
      "You can set `force_col_wise=true` to remove the overhead.\n",
      "[LightGBM] [Info] Total Bins 6885\n",
      "[LightGBM] [Info] Number of data points in the train set: 127856, number of used features: 27\n",
      "[LightGBM] [Info] [binary:BoostFromScore]: pavg=0.181837 -> initscore=-1.503948\n",
      "[LightGBM] [Info] Start training from score -1.503948\n",
      "Training until validation scores don't improve for 100 rounds\n",
      "[100]\tvalid_0's binary_logloss: 0.0496114\tvalid_1's binary_logloss: 0.0173603\n"
     ]
    },
    {
     "name": "stderr",
     "output_type": "stream",
     "text": [
      "num_leaves, val_score: 0.015708:  45%|####5     | 9/20 [00:31<00:31,  2.91s/it]\u001b[32m[I 2021-06-10 10:40:40,838]\u001b[0m Trial 15 finished with value: 0.01713125946763227 and parameters: {'num_leaves': 53}. Best is trial 9 with value: 0.015707811731429735.\u001b[0m\n",
      "num_leaves, val_score: 0.015708:  45%|####5     | 9/20 [00:31<00:31,  2.91s/it]"
     ]
    },
    {
     "name": "stdout",
     "output_type": "stream",
     "text": [
      "Early stopping, best iteration is:\n",
      "[80]\tvalid_0's binary_logloss: 0.0540104\tvalid_1's binary_logloss: 0.0171313\n",
      "[LightGBM] [Info] Number of positive: 23249, number of negative: 104607\n",
      "[LightGBM] [Warning] Auto-choosing col-wise multi-threading, the overhead of testing was 0.005281 seconds.\n",
      "You can set `force_col_wise=true` to remove the overhead.\n",
      "[LightGBM] [Info] Total Bins 6885\n",
      "[LightGBM] [Info] Number of data points in the train set: 127856, number of used features: 27\n",
      "[LightGBM] [Info] [binary:BoostFromScore]: pavg=0.181837 -> initscore=-1.503948\n",
      "[LightGBM] [Info] Start training from score -1.503948\n",
      "Training until validation scores don't improve for 100 rounds\n",
      "[100]\tvalid_0's binary_logloss: 0.0156131\tvalid_1's binary_logloss: 0.0165976\n",
      "[200]\tvalid_0's binary_logloss: 0.00423499\tvalid_1's binary_logloss: 0.0184018\n"
     ]
    },
    {
     "name": "stderr",
     "output_type": "stream",
     "text": [
      "num_leaves, val_score: 0.015708:  50%|#####     | 10/20 [00:35<00:32,  3.24s/it]\u001b[32m[I 2021-06-10 10:40:44,828]\u001b[0m Trial 16 finished with value: 0.016376965473606026 and parameters: {'num_leaves': 224}. Best is trial 9 with value: 0.015707811731429735.\u001b[0m\n",
      "num_leaves, val_score: 0.015708:  50%|#####     | 10/20 [00:35<00:32,  3.24s/it]"
     ]
    },
    {
     "name": "stdout",
     "output_type": "stream",
     "text": [
      "Early stopping, best iteration is:\n",
      "[116]\tvalid_0's binary_logloss: 0.0127247\tvalid_1's binary_logloss: 0.016377\n",
      "[LightGBM] [Info] Number of positive: 23249, number of negative: 104607\n",
      "[LightGBM] [Warning] Auto-choosing col-wise multi-threading, the overhead of testing was 0.005075 seconds.\n",
      "You can set `force_col_wise=true` to remove the overhead.\n",
      "[LightGBM] [Info] Total Bins 6885\n",
      "[LightGBM] [Info] Number of data points in the train set: 127856, number of used features: 27\n",
      "[LightGBM] [Info] [binary:BoostFromScore]: pavg=0.181837 -> initscore=-1.503948\n",
      "[LightGBM] [Info] Start training from score -1.503948\n",
      "Training until validation scores don't improve for 100 rounds\n",
      "[100]\tvalid_0's binary_logloss: 0.0258437\tvalid_1's binary_logloss: 0.0166284\n"
     ]
    },
    {
     "name": "stderr",
     "output_type": "stream",
     "text": [
      "num_leaves, val_score: 0.015708:  55%|#####5    | 11/20 [00:38<00:27,  3.10s/it]\u001b[32m[I 2021-06-10 10:40:47,613]\u001b[0m Trial 17 finished with value: 0.016494130988838132 and parameters: {'num_leaves': 148}. Best is trial 9 with value: 0.015707811731429735.\u001b[0m\n",
      "num_leaves, val_score: 0.015708:  55%|#####5    | 11/20 [00:38<00:27,  3.10s/it]"
     ]
    },
    {
     "name": "stdout",
     "output_type": "stream",
     "text": [
      "Early stopping, best iteration is:\n",
      "[80]\tvalid_0's binary_logloss: 0.0316156\tvalid_1's binary_logloss: 0.0164941\n",
      "[LightGBM] [Info] Number of positive: 23249, number of negative: 104607\n",
      "[LightGBM] [Warning] Auto-choosing col-wise multi-threading, the overhead of testing was 0.004752 seconds.\n",
      "You can set `force_col_wise=true` to remove the overhead.\n",
      "[LightGBM] [Info] Total Bins 6885\n",
      "[LightGBM] [Info] Number of data points in the train set: 127856, number of used features: 27\n",
      "[LightGBM] [Info] [binary:BoostFromScore]: pavg=0.181837 -> initscore=-1.503948\n",
      "[LightGBM] [Info] Start training from score -1.503948\n",
      "Training until validation scores don't improve for 100 rounds\n",
      "[100]\tvalid_0's binary_logloss: 0.0293445\tvalid_1's binary_logloss: 0.0162334\n",
      "[200]\tvalid_0's binary_logloss: 0.0134637\tvalid_1's binary_logloss: 0.0165745\n"
     ]
    },
    {
     "name": "stderr",
     "output_type": "stream",
     "text": [
      "num_leaves, val_score: 0.015708:  60%|######    | 12/20 [00:41<00:24,  3.08s/it]\u001b[32m[I 2021-06-10 10:40:50,646]\u001b[0m Trial 18 finished with value: 0.016032368894751674 and parameters: {'num_leaves': 127}. Best is trial 9 with value: 0.015707811731429735.\u001b[0m\n",
      "num_leaves, val_score: 0.015708:  60%|######    | 12/20 [00:41<00:24,  3.08s/it]"
     ]
    },
    {
     "name": "stdout",
     "output_type": "stream",
     "text": [
      "Early stopping, best iteration is:\n",
      "[137]\tvalid_0's binary_logloss: 0.0220184\tvalid_1's binary_logloss: 0.0160324\n",
      "[LightGBM] [Info] Number of positive: 23249, number of negative: 104607\n",
      "[LightGBM] [Warning] Auto-choosing col-wise multi-threading, the overhead of testing was 0.005222 seconds.\n",
      "You can set `force_col_wise=true` to remove the overhead.\n",
      "[LightGBM] [Info] Total Bins 6885\n",
      "[LightGBM] [Info] Number of data points in the train set: 127856, number of used features: 27\n",
      "[LightGBM] [Info] [binary:BoostFromScore]: pavg=0.181837 -> initscore=-1.503948\n",
      "[LightGBM] [Info] Start training from score -1.503948\n",
      "Training until validation scores don't improve for 100 rounds\n",
      "[100]\tvalid_0's binary_logloss: 0.0416734\tvalid_1's binary_logloss: 0.0166427\n",
      "[200]\tvalid_0's binary_logloss: 0.0254023\tvalid_1's binary_logloss: 0.0162493\n",
      "[300]\tvalid_0's binary_logloss: 0.0159105\tvalid_1's binary_logloss: 0.0164606\n"
     ]
    },
    {
     "name": "stderr",
     "output_type": "stream",
     "text": [
      "num_leaves, val_score: 0.015708:  65%|######5   | 13/20 [00:44<00:21,  3.12s/it]\u001b[32m[I 2021-06-10 10:40:53,865]\u001b[0m Trial 19 finished with value: 0.016029320732405802 and parameters: {'num_leaves': 77}. Best is trial 9 with value: 0.015707811731429735.\u001b[0m\n",
      "num_leaves, val_score: 0.015708:  65%|######5   | 13/20 [00:44<00:21,  3.12s/it]"
     ]
    },
    {
     "name": "stdout",
     "output_type": "stream",
     "text": [
      "Early stopping, best iteration is:\n",
      "[239]\tvalid_0's binary_logloss: 0.0210985\tvalid_1's binary_logloss: 0.0160293\n",
      "[LightGBM] [Info] Number of positive: 23249, number of negative: 104607\n",
      "[LightGBM] [Warning] Auto-choosing col-wise multi-threading, the overhead of testing was 0.005565 seconds.\n",
      "You can set `force_col_wise=true` to remove the overhead.\n",
      "[LightGBM] [Info] Total Bins 6885\n",
      "[LightGBM] [Info] Number of data points in the train set: 127856, number of used features: 27\n",
      "[LightGBM] [Info] [binary:BoostFromScore]: pavg=0.181837 -> initscore=-1.503948\n",
      "[LightGBM] [Info] Start training from score -1.503948\n",
      "Training until validation scores don't improve for 100 rounds\n",
      "[100]\tvalid_0's binary_logloss: 0.0251841\tvalid_1's binary_logloss: 0.0162954\n",
      "[200]\tvalid_0's binary_logloss: 0.00962059\tvalid_1's binary_logloss: 0.0163826\n"
     ]
    },
    {
     "name": "stderr",
     "output_type": "stream",
     "text": [
      "num_leaves, val_score: 0.015708:  70%|#######   | 14/20 [00:47<00:19,  3.26s/it]\u001b[32m[I 2021-06-10 10:40:57,446]\u001b[0m Trial 20 finished with value: 0.015784996429972453 and parameters: {'num_leaves': 154}. Best is trial 9 with value: 0.015707811731429735.\u001b[0m\n",
      "num_leaves, val_score: 0.015708:  70%|#######   | 14/20 [00:47<00:19,  3.26s/it]"
     ]
    },
    {
     "name": "stdout",
     "output_type": "stream",
     "text": [
      "Early stopping, best iteration is:\n",
      "[149]\tvalid_0's binary_logloss: 0.0157983\tvalid_1's binary_logloss: 0.015785\n",
      "[LightGBM] [Info] Number of positive: 23249, number of negative: 104607\n",
      "[LightGBM] [Warning] Auto-choosing col-wise multi-threading, the overhead of testing was 0.005190 seconds.\n",
      "You can set `force_col_wise=true` to remove the overhead.\n",
      "[LightGBM] [Info] Total Bins 6885\n",
      "[LightGBM] [Info] Number of data points in the train set: 127856, number of used features: 27\n",
      "[LightGBM] [Info] [binary:BoostFromScore]: pavg=0.181837 -> initscore=-1.503948\n",
      "[LightGBM] [Info] Start training from score -1.503948\n",
      "Training until validation scores don't improve for 100 rounds\n",
      "[100]\tvalid_0's binary_logloss: 0.0248346\tvalid_1's binary_logloss: 0.016418\n"
     ]
    },
    {
     "name": "stderr",
     "output_type": "stream",
     "text": [
      "num_leaves, val_score: 0.015708:  75%|#######5  | 15/20 [00:51<00:16,  3.31s/it]\u001b[32m[I 2021-06-10 10:41:00,872]\u001b[0m Trial 21 finished with value: 0.01632249328111816 and parameters: {'num_leaves': 156}. Best is trial 9 with value: 0.015707811731429735.\u001b[0m\n",
      "num_leaves, val_score: 0.015708:  75%|#######5  | 15/20 [00:51<00:16,  3.31s/it]"
     ]
    },
    {
     "name": "stdout",
     "output_type": "stream",
     "text": [
      "Early stopping, best iteration is:\n",
      "[93]\tvalid_0's binary_logloss: 0.0264805\tvalid_1's binary_logloss: 0.0163225\n",
      "[LightGBM] [Info] Number of positive: 23249, number of negative: 104607\n",
      "[LightGBM] [Warning] Auto-choosing col-wise multi-threading, the overhead of testing was 0.005002 seconds.\n",
      "You can set `force_col_wise=true` to remove the overhead.\n",
      "[LightGBM] [Info] Total Bins 6885\n",
      "[LightGBM] [Info] Number of data points in the train set: 127856, number of used features: 27\n",
      "[LightGBM] [Info] [binary:BoostFromScore]: pavg=0.181837 -> initscore=-1.503948\n",
      "[LightGBM] [Info] Start training from score -1.503948\n",
      "Training until validation scores don't improve for 100 rounds\n",
      "[100]\tvalid_0's binary_logloss: 0.031172\tvalid_1's binary_logloss: 0.0167806\n",
      "[200]\tvalid_0's binary_logloss: 0.0144643\tvalid_1's binary_logloss: 0.0165717\n"
     ]
    },
    {
     "name": "stderr",
     "output_type": "stream",
     "text": [
      "num_leaves, val_score: 0.015708:  80%|########  | 16/20 [00:54<00:13,  3.36s/it]\u001b[32m[I 2021-06-10 10:41:04,352]\u001b[0m Trial 22 finished with value: 0.016314203619464968 and parameters: {'num_leaves': 122}. Best is trial 9 with value: 0.015707811731429735.\u001b[0m\n",
      "num_leaves, val_score: 0.015708:  80%|########  | 16/20 [00:54<00:13,  3.36s/it]"
     ]
    },
    {
     "name": "stdout",
     "output_type": "stream",
     "text": [
      "Early stopping, best iteration is:\n",
      "[181]\tvalid_0's binary_logloss: 0.0166018\tvalid_1's binary_logloss: 0.0163142\n",
      "[LightGBM] [Info] Number of positive: 23249, number of negative: 104607\n",
      "[LightGBM] [Warning] Auto-choosing col-wise multi-threading, the overhead of testing was 0.004753 seconds.\n",
      "You can set `force_col_wise=true` to remove the overhead.\n",
      "[LightGBM] [Info] Total Bins 6885\n",
      "[LightGBM] [Info] Number of data points in the train set: 127856, number of used features: 27\n",
      "[LightGBM] [Info] [binary:BoostFromScore]: pavg=0.181837 -> initscore=-1.503948\n",
      "[LightGBM] [Info] Start training from score -1.503948\n",
      "Training until validation scores don't improve for 100 rounds\n",
      "[100]\tvalid_0's binary_logloss: 0.0197206\tvalid_1's binary_logloss: 0.0170879\n"
     ]
    },
    {
     "name": "stderr",
     "output_type": "stream",
     "text": [
      "num_leaves, val_score: 0.015708:  85%|########5 | 17/20 [00:57<00:09,  3.22s/it]\u001b[32m[I 2021-06-10 10:41:07,240]\u001b[0m Trial 23 finished with value: 0.01673830524357349 and parameters: {'num_leaves': 190}. Best is trial 9 with value: 0.015707811731429735.\u001b[0m\n",
      "num_leaves, val_score: 0.015708:  85%|########5 | 17/20 [00:57<00:09,  3.22s/it]"
     ]
    },
    {
     "name": "stdout",
     "output_type": "stream",
     "text": [
      "Early stopping, best iteration is:\n",
      "[69]\tvalid_0's binary_logloss: 0.0291041\tvalid_1's binary_logloss: 0.0167383\n",
      "[LightGBM] [Info] Number of positive: 23249, number of negative: 104607\n",
      "[LightGBM] [Warning] Auto-choosing col-wise multi-threading, the overhead of testing was 0.005915 seconds.\n",
      "You can set `force_col_wise=true` to remove the overhead.\n",
      "[LightGBM] [Info] Total Bins 6885\n",
      "[LightGBM] [Info] Number of data points in the train set: 127856, number of used features: 27\n",
      "[LightGBM] [Info] [binary:BoostFromScore]: pavg=0.181837 -> initscore=-1.503948\n",
      "[LightGBM] [Info] Start training from score -1.503948\n",
      "Training until validation scores don't improve for 100 rounds\n",
      "[100]\tvalid_0's binary_logloss: 0.0392293\tvalid_1's binary_logloss: 0.0170366\n"
     ]
    },
    {
     "name": "stderr",
     "output_type": "stream",
     "text": [
      "num_leaves, val_score: 0.015708:  90%|######### | 18/20 [00:59<00:05,  2.72s/it]\u001b[32m[I 2021-06-10 10:41:08,813]\u001b[0m Trial 24 finished with value: 0.01653521088855702 and parameters: {'num_leaves': 85}. Best is trial 9 with value: 0.015707811731429735.\u001b[0m\n",
      "num_leaves, val_score: 0.015708:  90%|######### | 18/20 [00:59<00:05,  2.72s/it]"
     ]
    },
    {
     "name": "stdout",
     "output_type": "stream",
     "text": [
      "Early stopping, best iteration is:\n",
      "[76]\tvalid_0's binary_logloss: 0.0457579\tvalid_1's binary_logloss: 0.0165352\n",
      "[LightGBM] [Info] Number of positive: 23249, number of negative: 104607\n",
      "[LightGBM] [Warning] Auto-choosing col-wise multi-threading, the overhead of testing was 0.006723 seconds.\n",
      "You can set `force_col_wise=true` to remove the overhead.\n",
      "[LightGBM] [Info] Total Bins 6885\n",
      "[LightGBM] [Info] Number of data points in the train set: 127856, number of used features: 27\n",
      "[LightGBM] [Info] [binary:BoostFromScore]: pavg=0.181837 -> initscore=-1.503948\n",
      "[LightGBM] [Info] Start training from score -1.503948\n",
      "Training until validation scores don't improve for 100 rounds\n",
      "[100]\tvalid_0's binary_logloss: 0.0216449\tvalid_1's binary_logloss: 0.01695\n"
     ]
    },
    {
     "name": "stderr",
     "output_type": "stream",
     "text": [
      "num_leaves, val_score: 0.015708:  95%|#########5| 19/20 [01:02<00:02,  2.92s/it]\u001b[32m[I 2021-06-10 10:41:12,196]\u001b[0m Trial 25 finished with value: 0.016579809306790736 and parameters: {'num_leaves': 173}. Best is trial 9 with value: 0.015707811731429735.\u001b[0m\n",
      "num_leaves, val_score: 0.015708:  95%|#########5| 19/20 [01:02<00:02,  2.92s/it]"
     ]
    },
    {
     "name": "stdout",
     "output_type": "stream",
     "text": [
      "Early stopping, best iteration is:\n",
      "[77]\tvalid_0's binary_logloss: 0.0285157\tvalid_1's binary_logloss: 0.0165798\n",
      "[LightGBM] [Info] Number of positive: 23249, number of negative: 104607\n",
      "[LightGBM] [Warning] Auto-choosing row-wise multi-threading, the overhead of testing was 0.002213 seconds.\n",
      "You can set `force_row_wise=true` to remove the overhead.\n",
      "And if memory is not enough, you can set `force_col_wise=true`.\n",
      "[LightGBM] [Info] Total Bins 6885\n",
      "[LightGBM] [Info] Number of data points in the train set: 127856, number of used features: 27\n",
      "[LightGBM] [Info] [binary:BoostFromScore]: pavg=0.181837 -> initscore=-1.503948\n",
      "[LightGBM] [Info] Start training from score -1.503948\n",
      "Training until validation scores don't improve for 100 rounds\n",
      "[100]\tvalid_0's binary_logloss: 0.0350292\tvalid_1's binary_logloss: 0.0162489\n",
      "[200]\tvalid_0's binary_logloss: 0.0185533\tvalid_1's binary_logloss: 0.0163604\n"
     ]
    },
    {
     "name": "stderr",
     "output_type": "stream",
     "text": [
      "num_leaves, val_score: 0.015708: 100%|##########| 20/20 [01:06<00:00,  3.35s/it]\u001b[32m[I 2021-06-10 10:41:16,541]\u001b[0m Trial 26 finished with value: 0.01600890273714652 and parameters: {'num_leaves': 102}. Best is trial 9 with value: 0.015707811731429735.\u001b[0m\n",
      "num_leaves, val_score: 0.015708: 100%|##########| 20/20 [01:06<00:00,  3.35s/it]\n",
      "bagging, val_score: 0.015708:   0%|          | 0/10 [00:00<?, ?it/s]"
     ]
    },
    {
     "name": "stdout",
     "output_type": "stream",
     "text": [
      "Early stopping, best iteration is:\n",
      "[161]\tvalid_0's binary_logloss: 0.0235018\tvalid_1's binary_logloss: 0.0160089\n",
      "[LightGBM] [Info] Number of positive: 23249, number of negative: 104607\n",
      "[LightGBM] [Warning] Auto-choosing col-wise multi-threading, the overhead of testing was 0.004845 seconds.\n",
      "You can set `force_col_wise=true` to remove the overhead.\n",
      "[LightGBM] [Info] Total Bins 6885\n",
      "[LightGBM] [Info] Number of data points in the train set: 127856, number of used features: 27\n",
      "[LightGBM] [Info] [binary:BoostFromScore]: pavg=0.181837 -> initscore=-1.503948\n",
      "[LightGBM] [Info] Start training from score -1.503948\n",
      "Training until validation scores don't improve for 100 rounds\n",
      "[100]\tvalid_0's binary_logloss: 0.0417443\tvalid_1's binary_logloss: 0.0162365\n",
      "[200]\tvalid_0's binary_logloss: 0.0237757\tvalid_1's binary_logloss: 0.0168686\n"
     ]
    },
    {
     "name": "stderr",
     "output_type": "stream",
     "text": [
      "bagging, val_score: 0.015708:  10%|#         | 1/10 [00:01<00:16,  1.88s/it]\u001b[32m[I 2021-06-10 10:41:18,431]\u001b[0m Trial 27 finished with value: 0.01606256301278356 and parameters: {'bagging_fraction': 0.5875327305199352, 'bagging_freq': 6}. Best is trial 27 with value: 0.01606256301278356.\u001b[0m\n",
      "bagging, val_score: 0.015708:  10%|#         | 1/10 [00:01<00:16,  1.88s/it]"
     ]
    },
    {
     "name": "stdout",
     "output_type": "stream",
     "text": [
      "Early stopping, best iteration is:\n",
      "[141]\tvalid_0's binary_logloss: 0.0326934\tvalid_1's binary_logloss: 0.0160626\n",
      "[LightGBM] [Info] Number of positive: 23249, number of negative: 104607\n",
      "[LightGBM] [Warning] Auto-choosing col-wise multi-threading, the overhead of testing was 0.004821 seconds.\n",
      "You can set `force_col_wise=true` to remove the overhead.\n",
      "[LightGBM] [Info] Total Bins 6885\n",
      "[LightGBM] [Info] Number of data points in the train set: 127856, number of used features: 27\n",
      "[LightGBM] [Info] [binary:BoostFromScore]: pavg=0.181837 -> initscore=-1.503948\n",
      "[LightGBM] [Info] Start training from score -1.503948\n",
      "Training until validation scores don't improve for 100 rounds\n",
      "[100]\tvalid_0's binary_logloss: 0.0413346\tvalid_1's binary_logloss: 0.0167231\n"
     ]
    },
    {
     "name": "stderr",
     "output_type": "stream",
     "text": [
      "bagging, val_score: 0.015708:  20%|##        | 2/10 [00:03<00:14,  1.79s/it]\u001b[32m[I 2021-06-10 10:41:20,153]\u001b[0m Trial 28 finished with value: 0.016651579373639314 and parameters: {'bagging_fraction': 0.8381913192641373, 'bagging_freq': 1}. Best is trial 27 with value: 0.01606256301278356.\u001b[0m\n",
      "bagging, val_score: 0.015708:  20%|##        | 2/10 [00:03<00:14,  1.79s/it]"
     ]
    },
    {
     "name": "stdout",
     "output_type": "stream",
     "text": [
      "Early stopping, best iteration is:\n",
      "[97]\tvalid_0's binary_logloss: 0.0419791\tvalid_1's binary_logloss: 0.0166516\n",
      "[LightGBM] [Info] Number of positive: 23249, number of negative: 104607\n",
      "[LightGBM] [Warning] Auto-choosing col-wise multi-threading, the overhead of testing was 0.004760 seconds.\n",
      "You can set `force_col_wise=true` to remove the overhead.\n",
      "[LightGBM] [Info] Total Bins 6885\n",
      "[LightGBM] [Info] Number of data points in the train set: 127856, number of used features: 27\n",
      "[LightGBM] [Info] [binary:BoostFromScore]: pavg=0.181837 -> initscore=-1.503948\n",
      "[LightGBM] [Info] Start training from score -1.503948\n",
      "Training until validation scores don't improve for 100 rounds\n",
      "[100]\tvalid_0's binary_logloss: 0.0431728\tvalid_1's binary_logloss: 0.0177752\n",
      "[200]\tvalid_0's binary_logloss: 0.0247832\tvalid_1's binary_logloss: 0.0171067\n"
     ]
    },
    {
     "name": "stderr",
     "output_type": "stream",
     "text": [
      "bagging, val_score: 0.015708:  30%|###       | 3/10 [00:05<00:13,  1.96s/it]\u001b[32m[I 2021-06-10 10:41:22,319]\u001b[0m Trial 29 finished with value: 0.01701296439970104 and parameters: {'bagging_fraction': 0.42275171781686705, 'bagging_freq': 7}. Best is trial 27 with value: 0.01606256301278356.\u001b[0m\n",
      "bagging, val_score: 0.015708:  30%|###       | 3/10 [00:05<00:13,  1.96s/it]"
     ]
    },
    {
     "name": "stdout",
     "output_type": "stream",
     "text": [
      "[300]\tvalid_0's binary_logloss: 0.0148903\tvalid_1's binary_logloss: 0.0182249\n",
      "Early stopping, best iteration is:\n",
      "[207]\tvalid_0's binary_logloss: 0.0238268\tvalid_1's binary_logloss: 0.017013\n",
      "[LightGBM] [Info] Number of positive: 23249, number of negative: 104607\n",
      "[LightGBM] [Warning] Auto-choosing col-wise multi-threading, the overhead of testing was 0.004656 seconds.\n",
      "You can set `force_col_wise=true` to remove the overhead.\n",
      "[LightGBM] [Info] Total Bins 6885\n",
      "[LightGBM] [Info] Number of data points in the train set: 127856, number of used features: 27\n",
      "[LightGBM] [Info] [binary:BoostFromScore]: pavg=0.181837 -> initscore=-1.503948\n",
      "[LightGBM] [Info] Start training from score -1.503948\n",
      "Training until validation scores don't improve for 100 rounds\n",
      "[100]\tvalid_0's binary_logloss: 0.0431167\tvalid_1's binary_logloss: 0.0175754\n"
     ]
    },
    {
     "name": "stderr",
     "output_type": "stream",
     "text": [
      "bagging, val_score: 0.015708:  40%|####      | 4/10 [00:07<00:10,  1.75s/it]\u001b[32m[I 2021-06-10 10:41:23,736]\u001b[0m Trial 30 finished with value: 0.017116263140091712 and parameters: {'bagging_fraction': 0.41834134394845907, 'bagging_freq': 4}. Best is trial 27 with value: 0.01606256301278356.\u001b[0m\n",
      "bagging, val_score: 0.015708:  40%|####      | 4/10 [00:07<00:10,  1.75s/it]"
     ]
    },
    {
     "name": "stdout",
     "output_type": "stream",
     "text": [
      "Early stopping, best iteration is:\n",
      "[84]\tvalid_0's binary_logloss: 0.0468366\tvalid_1's binary_logloss: 0.0171163\n",
      "[LightGBM] [Info] Number of positive: 23249, number of negative: 104607\n",
      "[LightGBM] [Warning] Auto-choosing col-wise multi-threading, the overhead of testing was 0.004842 seconds.\n",
      "You can set `force_col_wise=true` to remove the overhead.\n",
      "[LightGBM] [Info] Total Bins 6885\n",
      "[LightGBM] [Info] Number of data points in the train set: 127856, number of used features: 27\n",
      "[LightGBM] [Info] [binary:BoostFromScore]: pavg=0.181837 -> initscore=-1.503948\n",
      "[LightGBM] [Info] Start training from score -1.503948\n",
      "Training until validation scores don't improve for 100 rounds\n",
      "[100]\tvalid_0's binary_logloss: 0.0416696\tvalid_1's binary_logloss: 0.0175137\n"
     ]
    },
    {
     "name": "stderr",
     "output_type": "stream",
     "text": [
      "bagging, val_score: 0.015708:  50%|#####     | 5/10 [00:08<00:08,  1.74s/it]\u001b[32m[I 2021-06-10 10:41:25,455]\u001b[0m Trial 31 finished with value: 0.017289533212535207 and parameters: {'bagging_fraction': 0.6072341372409695, 'bagging_freq': 7}. Best is trial 27 with value: 0.01606256301278356.\u001b[0m\n",
      "bagging, val_score: 0.015708:  50%|#####     | 5/10 [00:08<00:08,  1.74s/it]"
     ]
    },
    {
     "name": "stdout",
     "output_type": "stream",
     "text": [
      "[200]\tvalid_0's binary_logloss: 0.0237984\tvalid_1's binary_logloss: 0.0180132\n",
      "Early stopping, best iteration is:\n",
      "[112]\tvalid_0's binary_logloss: 0.0387486\tvalid_1's binary_logloss: 0.0172895\n",
      "[LightGBM] [Info] Number of positive: 23249, number of negative: 104607\n",
      "[LightGBM] [Warning] Auto-choosing col-wise multi-threading, the overhead of testing was 0.005553 seconds.\n",
      "You can set `force_col_wise=true` to remove the overhead.\n",
      "[LightGBM] [Info] Total Bins 6885\n",
      "[LightGBM] [Info] Number of data points in the train set: 127856, number of used features: 27\n",
      "[LightGBM] [Info] [binary:BoostFromScore]: pavg=0.181837 -> initscore=-1.503948\n",
      "[LightGBM] [Info] Start training from score -1.503948\n",
      "Training until validation scores don't improve for 100 rounds\n",
      "[100]\tvalid_0's binary_logloss: 0.0416385\tvalid_1's binary_logloss: 0.0164718\n",
      "[200]\tvalid_0's binary_logloss: 0.0254578\tvalid_1's binary_logloss: 0.0165147\n",
      "Early stopping, best iteration is:\n",
      "[126]\tvalid_0's binary_logloss: 0.0363045\tvalid_1's binary_logloss: 0.0160833\n"
     ]
    },
    {
     "name": "stderr",
     "output_type": "stream",
     "text": [
      "bagging, val_score: 0.015708:  60%|######    | 6/10 [00:10<00:07,  1.81s/it]\u001b[32m[I 2021-06-10 10:41:27,421]\u001b[0m Trial 32 finished with value: 0.01608334024781612 and parameters: {'bagging_fraction': 0.9971315691681802, 'bagging_freq': 1}. Best is trial 27 with value: 0.01606256301278356.\u001b[0m\n",
      "bagging, val_score: 0.015708:  60%|######    | 6/10 [00:10<00:07,  1.81s/it]"
     ]
    },
    {
     "name": "stdout",
     "output_type": "stream",
     "text": [
      "[LightGBM] [Info] Number of positive: 23249, number of negative: 104607\n",
      "[LightGBM] [Warning] Auto-choosing col-wise multi-threading, the overhead of testing was 0.004806 seconds.\n",
      "You can set `force_col_wise=true` to remove the overhead.\n",
      "[LightGBM] [Info] Total Bins 6885\n",
      "[LightGBM] [Info] Number of data points in the train set: 127856, number of used features: 27\n",
      "[LightGBM] [Info] [binary:BoostFromScore]: pavg=0.181837 -> initscore=-1.503948\n",
      "[LightGBM] [Info] Start training from score -1.503948\n",
      "Training until validation scores don't improve for 100 rounds\n",
      "[100]\tvalid_0's binary_logloss: 0.0413613\tvalid_1's binary_logloss: 0.0178044\n",
      "[200]\tvalid_0's binary_logloss: 0.0231831\tvalid_1's binary_logloss: 0.017737\n"
     ]
    },
    {
     "name": "stderr",
     "output_type": "stream",
     "text": [
      "bagging, val_score: 0.015708:  70%|#######   | 7/10 [00:13<00:05,  1.95s/it]\u001b[32m[I 2021-06-10 10:41:29,641]\u001b[0m Trial 33 finished with value: 0.01712386873891775 and parameters: {'bagging_fraction': 0.44264969880698446, 'bagging_freq': 1}. Best is trial 27 with value: 0.01606256301278356.\u001b[0m\n",
      "bagging, val_score: 0.015708:  70%|#######   | 7/10 [00:13<00:05,  1.95s/it]"
     ]
    },
    {
     "name": "stdout",
     "output_type": "stream",
     "text": [
      "Early stopping, best iteration is:\n",
      "[167]\tvalid_0's binary_logloss: 0.0279025\tvalid_1's binary_logloss: 0.0171239\n",
      "[LightGBM] [Info] Number of positive: 23249, number of negative: 104607\n",
      "[LightGBM] [Warning] Auto-choosing col-wise multi-threading, the overhead of testing was 0.004842 seconds.\n",
      "You can set `force_col_wise=true` to remove the overhead.\n",
      "[LightGBM] [Info] Total Bins 6885\n",
      "[LightGBM] [Info] Number of data points in the train set: 127856, number of used features: 27\n",
      "[LightGBM] [Info] [binary:BoostFromScore]: pavg=0.181837 -> initscore=-1.503948\n",
      "[LightGBM] [Info] Start training from score -1.503948\n",
      "Training until validation scores don't improve for 100 rounds\n",
      "[100]\tvalid_0's binary_logloss: 0.0412338\tvalid_1's binary_logloss: 0.0177247\n"
     ]
    },
    {
     "name": "stderr",
     "output_type": "stream",
     "text": [
      "bagging, val_score: 0.015708:  80%|########  | 8/10 [00:14<00:03,  1.89s/it]\u001b[32m[I 2021-06-10 10:41:31,402]\u001b[0m Trial 34 finished with value: 0.017530628376956896 and parameters: {'bagging_fraction': 0.5048335807255424, 'bagging_freq': 1}. Best is trial 27 with value: 0.01606256301278356.\u001b[0m\n",
      "bagging, val_score: 0.015708:  80%|########  | 8/10 [00:14<00:03,  1.89s/it]"
     ]
    },
    {
     "name": "stdout",
     "output_type": "stream",
     "text": [
      "Early stopping, best iteration is:\n",
      "[95]\tvalid_0's binary_logloss: 0.0425498\tvalid_1's binary_logloss: 0.0175306\n",
      "[LightGBM] [Info] Number of positive: 23249, number of negative: 104607\n",
      "[LightGBM] [Warning] Auto-choosing col-wise multi-threading, the overhead of testing was 0.004756 seconds.\n",
      "You can set `force_col_wise=true` to remove the overhead.\n",
      "[LightGBM] [Info] Total Bins 6885\n",
      "[LightGBM] [Info] Number of data points in the train set: 127856, number of used features: 27\n",
      "[LightGBM] [Info] [binary:BoostFromScore]: pavg=0.181837 -> initscore=-1.503948\n",
      "[LightGBM] [Info] Start training from score -1.503948\n",
      "Training until validation scores don't improve for 100 rounds\n",
      "[100]\tvalid_0's binary_logloss: 0.0417095\tvalid_1's binary_logloss: 0.0168931\n",
      "[200]\tvalid_0's binary_logloss: 0.0237955\tvalid_1's binary_logloss: 0.0170904\n"
     ]
    },
    {
     "name": "stderr",
     "output_type": "stream",
     "text": [
      "bagging, val_score: 0.015708:  90%|######### | 9/10 [00:16<00:01,  1.87s/it]\u001b[32m[I 2021-06-10 10:41:33,230]\u001b[0m Trial 35 finished with value: 0.016638575129441245 and parameters: {'bagging_fraction': 0.6418031566971878, 'bagging_freq': 6}. Best is trial 27 with value: 0.01606256301278356.\u001b[0m\n",
      "bagging, val_score: 0.015708:  90%|######### | 9/10 [00:16<00:01,  1.87s/it]"
     ]
    },
    {
     "name": "stdout",
     "output_type": "stream",
     "text": [
      "Early stopping, best iteration is:\n",
      "[145]\tvalid_0's binary_logloss: 0.0322743\tvalid_1's binary_logloss: 0.0166386\n",
      "[LightGBM] [Info] Number of positive: 23249, number of negative: 104607\n",
      "[LightGBM] [Warning] Auto-choosing col-wise multi-threading, the overhead of testing was 0.004679 seconds.\n",
      "You can set `force_col_wise=true` to remove the overhead.\n",
      "[LightGBM] [Info] Total Bins 6885\n",
      "[LightGBM] [Info] Number of data points in the train set: 127856, number of used features: 27\n",
      "[LightGBM] [Info] [binary:BoostFromScore]: pavg=0.181837 -> initscore=-1.503948\n",
      "[LightGBM] [Info] Start training from score -1.503948\n",
      "Training until validation scores don't improve for 100 rounds\n",
      "[100]\tvalid_0's binary_logloss: 0.0419391\tvalid_1's binary_logloss: 0.0168094\n",
      "[200]\tvalid_0's binary_logloss: 0.024519\tvalid_1's binary_logloss: 0.0167125\n"
     ]
    },
    {
     "name": "stderr",
     "output_type": "stream",
     "text": [
      "bagging, val_score: 0.015708: 100%|##########| 10/10 [00:18<00:00,  1.94s/it]\u001b[32m[I 2021-06-10 10:41:35,328]\u001b[0m Trial 36 finished with value: 0.01656482431689548 and parameters: {'bagging_fraction': 0.9275798344757743, 'bagging_freq': 5}. Best is trial 27 with value: 0.01606256301278356.\u001b[0m\n",
      "bagging, val_score: 0.015708: 100%|##########| 10/10 [00:18<00:00,  1.88s/it]\n",
      "feature_fraction_stage2, val_score: 0.015708:   0%|          | 0/6 [00:00<?, ?it/s]"
     ]
    },
    {
     "name": "stdout",
     "output_type": "stream",
     "text": [
      "Early stopping, best iteration is:\n",
      "[138]\tvalid_0's binary_logloss: 0.0336375\tvalid_1's binary_logloss: 0.0165648\n",
      "[LightGBM] [Info] Number of positive: 23249, number of negative: 104607\n",
      "[LightGBM] [Warning] Auto-choosing col-wise multi-threading, the overhead of testing was 0.004970 seconds.\n",
      "You can set `force_col_wise=true` to remove the overhead.\n",
      "[LightGBM] [Info] Total Bins 6885\n",
      "[LightGBM] [Info] Number of data points in the train set: 127856, number of used features: 27\n",
      "[LightGBM] [Info] [binary:BoostFromScore]: pavg=0.181837 -> initscore=-1.503948\n",
      "[LightGBM] [Info] Start training from score -1.503948\n",
      "Training until validation scores don't improve for 100 rounds\n",
      "[100]\tvalid_0's binary_logloss: 0.0417297\tvalid_1's binary_logloss: 0.0162206\n",
      "[200]\tvalid_0's binary_logloss: 0.0254074\tvalid_1's binary_logloss: 0.0160862\n"
     ]
    },
    {
     "name": "stderr",
     "output_type": "stream",
     "text": [
      "feature_fraction_stage2, val_score: 0.015708:  17%|#6        | 1/6 [00:02<00:11,  2.21s/it]\u001b[32m[I 2021-06-10 10:41:37,538]\u001b[0m Trial 37 finished with value: 0.016022765448655003 and parameters: {'feature_fraction': 0.948}. Best is trial 37 with value: 0.016022765448655003.\u001b[0m\n",
      "feature_fraction_stage2, val_score: 0.015708:  17%|#6        | 1/6 [00:02<00:11,  2.21s/it]"
     ]
    },
    {
     "name": "stdout",
     "output_type": "stream",
     "text": [
      "Early stopping, best iteration is:\n",
      "[154]\tvalid_0's binary_logloss: 0.0314694\tvalid_1's binary_logloss: 0.0160228\n",
      "[LightGBM] [Info] Number of positive: 23249, number of negative: 104607\n",
      "[LightGBM] [Warning] Auto-choosing col-wise multi-threading, the overhead of testing was 0.004770 seconds.\n",
      "You can set `force_col_wise=true` to remove the overhead.\n",
      "[LightGBM] [Info] Total Bins 6885\n",
      "[LightGBM] [Info] Number of data points in the train set: 127856, number of used features: 27\n",
      "[LightGBM] [Info] [binary:BoostFromScore]: pavg=0.181837 -> initscore=-1.503948\n",
      "[LightGBM] [Info] Start training from score -1.503948\n",
      "Training until validation scores don't improve for 100 rounds\n",
      "[100]\tvalid_0's binary_logloss: 0.0420052\tvalid_1's binary_logloss: 0.0166595\n"
     ]
    },
    {
     "name": "stderr",
     "output_type": "stream",
     "text": [
      "feature_fraction_stage2, val_score: 0.015708:  33%|###3      | 2/6 [00:04<00:08,  2.03s/it]\u001b[32m[I 2021-06-10 10:41:39,447]\u001b[0m Trial 38 finished with value: 0.016621279328092722 and parameters: {'feature_fraction': 0.852}. Best is trial 37 with value: 0.016022765448655003.\u001b[0m\n",
      "feature_fraction_stage2, val_score: 0.015708:  33%|###3      | 2/6 [00:04<00:08,  2.03s/it]"
     ]
    },
    {
     "name": "stdout",
     "output_type": "stream",
     "text": [
      "[200]\tvalid_0's binary_logloss: 0.0255874\tvalid_1's binary_logloss: 0.0172235\n",
      "Early stopping, best iteration is:\n",
      "[103]\tvalid_0's binary_logloss: 0.0414157\tvalid_1's binary_logloss: 0.0166213\n",
      "[LightGBM] [Info] Number of positive: 23249, number of negative: 104607\n",
      "[LightGBM] [Warning] Auto-choosing col-wise multi-threading, the overhead of testing was 0.007235 seconds.\n",
      "You can set `force_col_wise=true` to remove the overhead.\n",
      "[LightGBM] [Info] Total Bins 6885\n",
      "[LightGBM] [Info] Number of data points in the train set: 127856, number of used features: 27\n",
      "[LightGBM] [Info] [binary:BoostFromScore]: pavg=0.181837 -> initscore=-1.503948\n",
      "[LightGBM] [Info] Start training from score -1.503948\n",
      "Training until validation scores don't improve for 100 rounds\n",
      "[100]\tvalid_0's binary_logloss: 0.0424969\tvalid_1's binary_logloss: 0.0168569\n",
      "[200]\tvalid_0's binary_logloss: 0.0259788\tvalid_1's binary_logloss: 0.0160711\n",
      "[300]\tvalid_0's binary_logloss: 0.0165398\tvalid_1's binary_logloss: 0.0161897\n"
     ]
    },
    {
     "name": "stderr",
     "output_type": "stream",
     "text": [
      "feature_fraction_stage2, val_score: 0.015708:  50%|#####     | 3/6 [00:08<00:09,  3.12s/it]\u001b[32m[I 2021-06-10 10:41:43,853]\u001b[0m Trial 39 finished with value: 0.015718644825795335 and parameters: {'feature_fraction': 0.82}. Best is trial 39 with value: 0.015718644825795335.\u001b[0m\n",
      "feature_fraction_stage2, val_score: 0.015708:  50%|#####     | 3/6 [00:08<00:09,  3.12s/it]"
     ]
    },
    {
     "name": "stdout",
     "output_type": "stream",
     "text": [
      "Early stopping, best iteration is:\n",
      "[243]\tvalid_0's binary_logloss: 0.0214766\tvalid_1's binary_logloss: 0.0157186\n",
      "[LightGBM] [Info] Number of positive: 23249, number of negative: 104607\n",
      "[LightGBM] [Warning] Auto-choosing col-wise multi-threading, the overhead of testing was 0.008148 seconds.\n",
      "You can set `force_col_wise=true` to remove the overhead.\n",
      "[LightGBM] [Info] Total Bins 6885\n",
      "[LightGBM] [Info] Number of data points in the train set: 127856, number of used features: 27\n",
      "[LightGBM] [Info] [binary:BoostFromScore]: pavg=0.181837 -> initscore=-1.503948\n",
      "[LightGBM] [Info] Start training from score -1.503948\n",
      "Training until validation scores don't improve for 100 rounds\n",
      "[100]\tvalid_0's binary_logloss: 0.0415888\tvalid_1's binary_logloss: 0.0169417\n",
      "[200]\tvalid_0's binary_logloss: 0.0252681\tvalid_1's binary_logloss: 0.0164188\n",
      "[300]\tvalid_0's binary_logloss: 0.0160824\tvalid_1's binary_logloss: 0.0163498\n"
     ]
    },
    {
     "name": "stderr",
     "output_type": "stream",
     "text": [
      "feature_fraction_stage2, val_score: 0.015708:  67%|######6   | 4/6 [00:12<00:06,  3.43s/it]\u001b[32m[I 2021-06-10 10:41:47,770]\u001b[0m Trial 40 finished with value: 0.01633336899258504 and parameters: {'feature_fraction': 0.9159999999999999}. Best is trial 39 with value: 0.015718644825795335.\u001b[0m\n",
      "feature_fraction_stage2, val_score: 0.015708:  67%|######6   | 4/6 [00:12<00:06,  3.43s/it]"
     ]
    },
    {
     "name": "stdout",
     "output_type": "stream",
     "text": [
      "Early stopping, best iteration is:\n",
      "[296]\tvalid_0's binary_logloss: 0.0164402\tvalid_1's binary_logloss: 0.0163334\n",
      "[LightGBM] [Info] Number of positive: 23249, number of negative: 104607\n",
      "[LightGBM] [Warning] Auto-choosing col-wise multi-threading, the overhead of testing was 0.005519 seconds.\n",
      "You can set `force_col_wise=true` to remove the overhead.\n",
      "[LightGBM] [Info] Total Bins 6885\n",
      "[LightGBM] [Info] Number of data points in the train set: 127856, number of used features: 27\n",
      "[LightGBM] [Info] [binary:BoostFromScore]: pavg=0.181837 -> initscore=-1.503948\n",
      "[LightGBM] [Info] Start training from score -1.503948\n",
      "Training until validation scores don't improve for 100 rounds\n",
      "[100]\tvalid_0's binary_logloss: 0.042149\tvalid_1's binary_logloss: 0.0162922\n",
      "[200]\tvalid_0's binary_logloss: 0.0259567\tvalid_1's binary_logloss: 0.0157443\n"
     ]
    },
    {
     "name": "stderr",
     "output_type": "stream",
     "text": [
      "feature_fraction_stage2, val_score: 0.015708:  83%|########3 | 5/6 [00:15<00:03,  3.22s/it]\u001b[32m[I 2021-06-10 10:41:50,608]\u001b[0m Trial 41 finished with value: 0.015707811731429735 and parameters: {'feature_fraction': 0.8839999999999999}. Best is trial 41 with value: 0.015707811731429735.\u001b[0m\n",
      "feature_fraction_stage2, val_score: 0.015708:  83%|########3 | 5/6 [00:15<00:03,  3.22s/it]"
     ]
    },
    {
     "name": "stdout",
     "output_type": "stream",
     "text": [
      "[300]\tvalid_0's binary_logloss: 0.0161476\tvalid_1's binary_logloss: 0.0160625\n",
      "Early stopping, best iteration is:\n",
      "[203]\tvalid_0's binary_logloss: 0.0256007\tvalid_1's binary_logloss: 0.0157078\n",
      "[LightGBM] [Info] Number of positive: 23249, number of negative: 104607\n",
      "[LightGBM] [Warning] Auto-choosing col-wise multi-threading, the overhead of testing was 0.004819 seconds.\n",
      "You can set `force_col_wise=true` to remove the overhead.\n",
      "[LightGBM] [Info] Total Bins 6885\n",
      "[LightGBM] [Info] Number of data points in the train set: 127856, number of used features: 27\n",
      "[LightGBM] [Info] [binary:BoostFromScore]: pavg=0.181837 -> initscore=-1.503948\n",
      "[LightGBM] [Info] Start training from score -1.503948\n",
      "Training until validation scores don't improve for 100 rounds\n",
      "[100]\tvalid_0's binary_logloss: 0.0417297\tvalid_1's binary_logloss: 0.0162206\n",
      "[200]\tvalid_0's binary_logloss: 0.0254074\tvalid_1's binary_logloss: 0.0160862\n"
     ]
    },
    {
     "name": "stderr",
     "output_type": "stream",
     "text": [
      "feature_fraction_stage2, val_score: 0.015708: 100%|##########| 6/6 [00:17<00:00,  2.95s/it]\u001b[32m[I 2021-06-10 10:41:53,044]\u001b[0m Trial 42 finished with value: 0.016022765448655003 and parameters: {'feature_fraction': 0.9799999999999999}. Best is trial 41 with value: 0.015707811731429735.\u001b[0m\n",
      "feature_fraction_stage2, val_score: 0.015708: 100%|##########| 6/6 [00:17<00:00,  2.95s/it]\n",
      "regularization_factors, val_score: 0.015708:   0%|          | 0/20 [00:00<?, ?it/s]"
     ]
    },
    {
     "name": "stdout",
     "output_type": "stream",
     "text": [
      "Early stopping, best iteration is:\n",
      "[154]\tvalid_0's binary_logloss: 0.0314694\tvalid_1's binary_logloss: 0.0160228\n",
      "[LightGBM] [Info] Number of positive: 23249, number of negative: 104607\n",
      "[LightGBM] [Warning] Auto-choosing col-wise multi-threading, the overhead of testing was 0.007443 seconds.\n",
      "You can set `force_col_wise=true` to remove the overhead.\n",
      "[LightGBM] [Info] Total Bins 6885\n",
      "[LightGBM] [Info] Number of data points in the train set: 127856, number of used features: 27\n",
      "[LightGBM] [Info] [binary:BoostFromScore]: pavg=0.181837 -> initscore=-1.503948\n",
      "[LightGBM] [Info] Start training from score -1.503948\n",
      "Training until validation scores don't improve for 100 rounds\n",
      "[100]\tvalid_0's binary_logloss: 0.0421491\tvalid_1's binary_logloss: 0.016267\n",
      "[200]\tvalid_0's binary_logloss: 0.02571\tvalid_1's binary_logloss: 0.0158712\n"
     ]
    },
    {
     "name": "stderr",
     "output_type": "stream",
     "text": [
      "regularization_factors, val_score: 0.015708:   5%|5         | 1/20 [00:02<00:48,  2.53s/it]\u001b[32m[I 2021-06-10 10:41:55,579]\u001b[0m Trial 43 finished with value: 0.015753356465062866 and parameters: {'lambda_l1': 3.0425038485733166e-05, 'lambda_l2': 2.8248454777353193e-08}. Best is trial 43 with value: 0.015753356465062866.\u001b[0m\n",
      "regularization_factors, val_score: 0.015708:   5%|5         | 1/20 [00:02<00:48,  2.53s/it]"
     ]
    },
    {
     "name": "stdout",
     "output_type": "stream",
     "text": [
      "Early stopping, best iteration is:\n",
      "[160]\tvalid_0's binary_logloss: 0.0309731\tvalid_1's binary_logloss: 0.0157534\n",
      "[LightGBM] [Info] Number of positive: 23249, number of negative: 104607\n",
      "[LightGBM] [Warning] Auto-choosing col-wise multi-threading, the overhead of testing was 0.005252 seconds.\n",
      "You can set `force_col_wise=true` to remove the overhead.\n",
      "[LightGBM] [Info] Total Bins 6885\n",
      "[LightGBM] [Info] Number of data points in the train set: 127856, number of used features: 27\n",
      "[LightGBM] [Info] [binary:BoostFromScore]: pavg=0.181837 -> initscore=-1.503948\n",
      "[LightGBM] [Info] Start training from score -1.503948\n",
      "Training until validation scores don't improve for 100 rounds\n",
      "[100]\tvalid_0's binary_logloss: 0.0427369\tvalid_1's binary_logloss: 0.0169905\n",
      "[200]\tvalid_0's binary_logloss: 0.0265818\tvalid_1's binary_logloss: 0.0165231\n",
      "[300]\tvalid_0's binary_logloss: 0.0175627\tvalid_1's binary_logloss: 0.0165089\n"
     ]
    },
    {
     "name": "stderr",
     "output_type": "stream",
     "text": [
      "regularization_factors, val_score: 0.015708:  10%|#         | 2/20 [00:05<00:50,  2.81s/it]\u001b[32m[I 2021-06-10 10:41:58,579]\u001b[0m Trial 44 finished with value: 0.01637532919458472 and parameters: {'lambda_l1': 0.5941412846457994, 'lambda_l2': 0.0276281507867223}. Best is trial 43 with value: 0.015753356465062866.\u001b[0m\n",
      "regularization_factors, val_score: 0.015708:  10%|#         | 2/20 [00:05<00:50,  2.81s/it]"
     ]
    },
    {
     "name": "stdout",
     "output_type": "stream",
     "text": [
      "Early stopping, best iteration is:\n",
      "[268]\tvalid_0's binary_logloss: 0.0201299\tvalid_1's binary_logloss: 0.0163753\n",
      "[LightGBM] [Info] Number of positive: 23249, number of negative: 104607\n",
      "[LightGBM] [Warning] Auto-choosing col-wise multi-threading, the overhead of testing was 0.004978 seconds.\n",
      "You can set `force_col_wise=true` to remove the overhead.\n",
      "[LightGBM] [Info] Total Bins 6885\n",
      "[LightGBM] [Info] Number of data points in the train set: 127856, number of used features: 27\n",
      "[LightGBM] [Info] [binary:BoostFromScore]: pavg=0.181837 -> initscore=-1.503948\n",
      "[LightGBM] [Info] Start training from score -1.503948\n",
      "Training until validation scores don't improve for 100 rounds\n",
      "[100]\tvalid_0's binary_logloss: 0.0454178\tvalid_1's binary_logloss: 0.0160513\n"
     ]
    },
    {
     "name": "stderr",
     "output_type": "stream",
     "text": [
      "regularization_factors, val_score: 0.015708:  15%|#5        | 3/20 [00:07<00:40,  2.40s/it]\u001b[32m[I 2021-06-10 10:42:00,492]\u001b[0m Trial 45 finished with value: 0.015820444896179106 and parameters: {'lambda_l1': 2.1393285148782764, 'lambda_l2': 4.2101793882765504e-07}. Best is trial 43 with value: 0.015753356465062866.\u001b[0m\n",
      "regularization_factors, val_score: 0.015708:  15%|#5        | 3/20 [00:07<00:40,  2.40s/it]"
     ]
    },
    {
     "name": "stdout",
     "output_type": "stream",
     "text": [
      "[200]\tvalid_0's binary_logloss: 0.0307219\tvalid_1's binary_logloss: 0.0161378\n",
      "Early stopping, best iteration is:\n",
      "[118]\tvalid_0's binary_logloss: 0.0419943\tvalid_1's binary_logloss: 0.0158204\n",
      "[LightGBM] [Info] Number of positive: 23249, number of negative: 104607\n",
      "[LightGBM] [Warning] Auto-choosing col-wise multi-threading, the overhead of testing was 0.004723 seconds.\n",
      "You can set `force_col_wise=true` to remove the overhead.\n",
      "[LightGBM] [Info] Total Bins 6885\n",
      "[LightGBM] [Info] Number of data points in the train set: 127856, number of used features: 27\n",
      "[LightGBM] [Info] [binary:BoostFromScore]: pavg=0.181837 -> initscore=-1.503948\n",
      "[LightGBM] [Info] Start training from score -1.503948\n",
      "Training until validation scores don't improve for 100 rounds\n",
      "[100]\tvalid_0's binary_logloss: 0.042294\tvalid_1's binary_logloss: 0.0167094\n"
     ]
    },
    {
     "name": "stderr",
     "output_type": "stream",
     "text": [
      "regularization_factors, val_score: 0.015708:  20%|##        | 4/20 [00:09<00:34,  2.17s/it]\u001b[32m[I 2021-06-10 10:42:02,304]\u001b[0m Trial 46 finished with value: 0.01652385215997121 and parameters: {'lambda_l1': 0.0002772702325273536, 'lambda_l2': 0.00028674999193820637}. Best is trial 43 with value: 0.015753356465062866.\u001b[0m\n",
      "regularization_factors, val_score: 0.015708:  20%|##        | 4/20 [00:09<00:34,  2.17s/it]"
     ]
    },
    {
     "name": "stdout",
     "output_type": "stream",
     "text": [
      "[200]\tvalid_0's binary_logloss: 0.0259413\tvalid_1's binary_logloss: 0.017199\n",
      "Early stopping, best iteration is:\n",
      "[126]\tvalid_0's binary_logloss: 0.0368123\tvalid_1's binary_logloss: 0.0165239\n",
      "[LightGBM] [Info] Number of positive: 23249, number of negative: 104607\n",
      "[LightGBM] [Warning] Auto-choosing col-wise multi-threading, the overhead of testing was 0.004927 seconds.\n",
      "You can set `force_col_wise=true` to remove the overhead.\n",
      "[LightGBM] [Info] Total Bins 6885\n",
      "[LightGBM] [Info] Number of data points in the train set: 127856, number of used features: 27\n",
      "[LightGBM] [Info] [binary:BoostFromScore]: pavg=0.181837 -> initscore=-1.503948\n",
      "[LightGBM] [Info] Start training from score -1.503948\n",
      "Training until validation scores don't improve for 100 rounds\n",
      "[100]\tvalid_0's binary_logloss: 0.042245\tvalid_1's binary_logloss: 0.0158485\n",
      "[200]\tvalid_0's binary_logloss: 0.0254933\tvalid_1's binary_logloss: 0.0154438\n"
     ]
    },
    {
     "name": "stderr",
     "output_type": "stream",
     "text": [
      "regularization_factors, val_score: 0.015229:  25%|##5       | 5/20 [00:11<00:32,  2.17s/it]\u001b[32m[I 2021-06-10 10:42:04,491]\u001b[0m Trial 47 finished with value: 0.015229177892152617 and parameters: {'lambda_l1': 0.026271290227342415, 'lambda_l2': 1.171919176591901e-05}. Best is trial 47 with value: 0.015229177892152617.\u001b[0m\n",
      "regularization_factors, val_score: 0.015229:  25%|##5       | 5/20 [00:11<00:32,  2.17s/it]"
     ]
    },
    {
     "name": "stdout",
     "output_type": "stream",
     "text": [
      "Early stopping, best iteration is:\n",
      "[175]\tvalid_0's binary_logloss: 0.0284082\tvalid_1's binary_logloss: 0.0152292\n",
      "[LightGBM] [Info] Number of positive: 23249, number of negative: 104607\n",
      "[LightGBM] [Warning] Auto-choosing col-wise multi-threading, the overhead of testing was 0.005434 seconds.\n",
      "You can set `force_col_wise=true` to remove the overhead.\n",
      "[LightGBM] [Info] Total Bins 6885\n",
      "[LightGBM] [Info] Number of data points in the train set: 127856, number of used features: 27\n",
      "[LightGBM] [Info] [binary:BoostFromScore]: pavg=0.181837 -> initscore=-1.503948\n",
      "[LightGBM] [Info] Start training from score -1.503948\n",
      "Training until validation scores don't improve for 100 rounds\n",
      "[100]\tvalid_0's binary_logloss: 0.0426307\tvalid_1's binary_logloss: 0.0165912\n",
      "[200]\tvalid_0's binary_logloss: 0.0263775\tvalid_1's binary_logloss: 0.0167675\n",
      "[300]\tvalid_0's binary_logloss: 0.0174717\tvalid_1's binary_logloss: 0.0165569\n"
     ]
    },
    {
     "name": "stderr",
     "output_type": "stream",
     "text": [
      "regularization_factors, val_score: 0.015229:  30%|###       | 6/20 [00:14<00:35,  2.54s/it]\u001b[32m[I 2021-06-10 10:42:07,745]\u001b[0m Trial 48 finished with value: 0.01621597571157086 and parameters: {'lambda_l1': 0.3963658321485994, 'lambda_l2': 0.007130407455831264}. Best is trial 47 with value: 0.015229177892152617.\u001b[0m\n",
      "regularization_factors, val_score: 0.015229:  30%|###       | 6/20 [00:14<00:35,  2.54s/it]"
     ]
    },
    {
     "name": "stdout",
     "output_type": "stream",
     "text": [
      "Early stopping, best iteration is:\n",
      "[282]\tvalid_0's binary_logloss: 0.0188852\tvalid_1's binary_logloss: 0.016216\n",
      "[LightGBM] [Info] Number of positive: 23249, number of negative: 104607\n",
      "[LightGBM] [Warning] Auto-choosing col-wise multi-threading, the overhead of testing was 0.005186 seconds.\n",
      "You can set `force_col_wise=true` to remove the overhead.\n",
      "[LightGBM] [Info] Total Bins 6885\n",
      "[LightGBM] [Info] Number of data points in the train set: 127856, number of used features: 27\n",
      "[LightGBM] [Info] [binary:BoostFromScore]: pavg=0.181837 -> initscore=-1.503948\n",
      "[LightGBM] [Info] Start training from score -1.503948\n",
      "Training until validation scores don't improve for 100 rounds\n",
      "[100]\tvalid_0's binary_logloss: 0.0489962\tvalid_1's binary_logloss: 0.0162138\n",
      "[200]\tvalid_0's binary_logloss: 0.0345524\tvalid_1's binary_logloss: 0.0162152\n"
     ]
    },
    {
     "name": "stderr",
     "output_type": "stream",
     "text": [
      "regularization_factors, val_score: 0.015229:  35%|###5      | 7/20 [00:17<00:33,  2.60s/it]\u001b[32m[I 2021-06-10 10:42:10,461]\u001b[0m Trial 49 finished with value: 0.015970741294361344 and parameters: {'lambda_l1': 0.22717373290713042, 'lambda_l2': 9.003382578623953}. Best is trial 47 with value: 0.015229177892152617.\u001b[0m\n",
      "regularization_factors, val_score: 0.015229:  35%|###5      | 7/20 [00:17<00:33,  2.60s/it]"
     ]
    },
    {
     "name": "stdout",
     "output_type": "stream",
     "text": [
      "Early stopping, best iteration is:\n",
      "[145]\tvalid_0's binary_logloss: 0.041501\tvalid_1's binary_logloss: 0.0159707\n",
      "[LightGBM] [Info] Number of positive: 23249, number of negative: 104607\n",
      "[LightGBM] [Warning] Auto-choosing col-wise multi-threading, the overhead of testing was 0.005132 seconds.\n",
      "You can set `force_col_wise=true` to remove the overhead.\n",
      "[LightGBM] [Info] Total Bins 6885\n",
      "[LightGBM] [Info] Number of data points in the train set: 127856, number of used features: 27\n",
      "[LightGBM] [Info] [binary:BoostFromScore]: pavg=0.181837 -> initscore=-1.503948\n",
      "[LightGBM] [Info] Start training from score -1.503948\n",
      "Training until validation scores don't improve for 100 rounds\n",
      "[100]\tvalid_0's binary_logloss: 0.0447721\tvalid_1's binary_logloss: 0.0163413\n"
     ]
    },
    {
     "name": "stderr",
     "output_type": "stream",
     "text": [
      "regularization_factors, val_score: 0.015229:  40%|####      | 8/20 [00:19<00:27,  2.33s/it]\u001b[32m[I 2021-06-10 10:42:12,216]\u001b[0m Trial 50 finished with value: 0.0163278366738176 and parameters: {'lambda_l1': 1.7740890339786746, 'lambda_l2': 6.374373512004101e-07}. Best is trial 47 with value: 0.015229177892152617.\u001b[0m\n",
      "regularization_factors, val_score: 0.015229:  40%|####      | 8/20 [00:19<00:27,  2.33s/it]"
     ]
    },
    {
     "name": "stdout",
     "output_type": "stream",
     "text": [
      "[200]\tvalid_0's binary_logloss: 0.029511\tvalid_1's binary_logloss: 0.0165031\n",
      "Early stopping, best iteration is:\n",
      "[105]\tvalid_0's binary_logloss: 0.0437688\tvalid_1's binary_logloss: 0.0163278\n",
      "[LightGBM] [Info] Number of positive: 23249, number of negative: 104607\n",
      "[LightGBM] [Warning] Auto-choosing col-wise multi-threading, the overhead of testing was 0.004690 seconds.\n",
      "You can set `force_col_wise=true` to remove the overhead.\n",
      "[LightGBM] [Info] Total Bins 6885\n",
      "[LightGBM] [Info] Number of data points in the train set: 127856, number of used features: 27\n",
      "[LightGBM] [Info] [binary:BoostFromScore]: pavg=0.181837 -> initscore=-1.503948\n",
      "[LightGBM] [Info] Start training from score -1.503948\n",
      "Training until validation scores don't improve for 100 rounds\n",
      "[100]\tvalid_0's binary_logloss: 0.0421491\tvalid_1's binary_logloss: 0.0162801\n",
      "[200]\tvalid_0's binary_logloss: 0.0259505\tvalid_1's binary_logloss: 0.0158136\n",
      "[300]\tvalid_0's binary_logloss: 0.0165311\tvalid_1's binary_logloss: 0.0158132\n"
     ]
    },
    {
     "name": "stderr",
     "output_type": "stream",
     "text": [
      "regularization_factors, val_score: 0.015229:  45%|####5     | 9/20 [00:21<00:27,  2.47s/it]\u001b[32m[I 2021-06-10 10:42:15,004]\u001b[0m Trial 51 finished with value: 0.015720325975408993 and parameters: {'lambda_l1': 9.227094783948853e-07, 'lambda_l2': 2.6394137948679093e-05}. Best is trial 47 with value: 0.015229177892152617.\u001b[0m\n",
      "regularization_factors, val_score: 0.015229:  45%|####5     | 9/20 [00:21<00:27,  2.47s/it]"
     ]
    },
    {
     "name": "stdout",
     "output_type": "stream",
     "text": [
      "Early stopping, best iteration is:\n",
      "[254]\tvalid_0's binary_logloss: 0.0203355\tvalid_1's binary_logloss: 0.0157203\n",
      "[LightGBM] [Info] Number of positive: 23249, number of negative: 104607\n",
      "[LightGBM] [Warning] Auto-choosing col-wise multi-threading, the overhead of testing was 0.004701 seconds.\n",
      "You can set `force_col_wise=true` to remove the overhead.\n",
      "[LightGBM] [Info] Total Bins 6885\n",
      "[LightGBM] [Info] Number of data points in the train set: 127856, number of used features: 27\n",
      "[LightGBM] [Info] [binary:BoostFromScore]: pavg=0.181837 -> initscore=-1.503948\n",
      "[LightGBM] [Info] Start training from score -1.503948\n",
      "Training until validation scores don't improve for 100 rounds\n",
      "[100]\tvalid_0's binary_logloss: 0.0418556\tvalid_1's binary_logloss: 0.0160613\n"
     ]
    },
    {
     "name": "stderr",
     "output_type": "stream",
     "text": [
      "regularization_factors, val_score: 0.015229:  50%|#####     | 10/20 [00:23<00:22,  2.22s/it]\u001b[32m[I 2021-06-10 10:42:16,648]\u001b[0m Trial 52 finished with value: 0.016035810272986256 and parameters: {'lambda_l1': 0.0018840389325327118, 'lambda_l2': 0.008105896702866128}. Best is trial 47 with value: 0.015229177892152617.\u001b[0m\n",
      "regularization_factors, val_score: 0.015229:  50%|#####     | 10/20 [00:23<00:22,  2.22s/it]"
     ]
    },
    {
     "name": "stdout",
     "output_type": "stream",
     "text": [
      "Early stopping, best iteration is:\n",
      "[99]\tvalid_0's binary_logloss: 0.0421661\tvalid_1's binary_logloss: 0.0160358\n",
      "[LightGBM] [Info] Number of positive: 23249, number of negative: 104607\n",
      "[LightGBM] [Warning] Auto-choosing col-wise multi-threading, the overhead of testing was 0.005616 seconds.\n",
      "You can set `force_col_wise=true` to remove the overhead.\n",
      "[LightGBM] [Info] Total Bins 6885\n",
      "[LightGBM] [Info] Number of data points in the train set: 127856, number of used features: 27\n",
      "[LightGBM] [Info] [binary:BoostFromScore]: pavg=0.181837 -> initscore=-1.503948\n",
      "[LightGBM] [Info] Start training from score -1.503948\n",
      "Training until validation scores don't improve for 100 rounds\n",
      "[100]\tvalid_0's binary_logloss: 0.0421491\tvalid_1's binary_logloss: 0.0162922\n",
      "[200]\tvalid_0's binary_logloss: 0.0259503\tvalid_1's binary_logloss: 0.0158184\n",
      "[300]\tvalid_0's binary_logloss: 0.016285\tvalid_1's binary_logloss: 0.0160973\n"
     ]
    },
    {
     "name": "stderr",
     "output_type": "stream",
     "text": [
      "regularization_factors, val_score: 0.015229:  55%|#####5    | 11/20 [00:26<00:21,  2.41s/it]\u001b[32m[I 2021-06-10 10:42:19,501]\u001b[0m Trial 53 finished with value: 0.015688221759384967 and parameters: {'lambda_l1': 1.2842693389454901e-08, 'lambda_l2': 1.0116981099434178e-05}. Best is trial 47 with value: 0.015229177892152617.\u001b[0m\n",
      "regularization_factors, val_score: 0.015229:  55%|#####5    | 11/20 [00:26<00:21,  2.41s/it]"
     ]
    },
    {
     "name": "stdout",
     "output_type": "stream",
     "text": [
      "Early stopping, best iteration is:\n",
      "[246]\tvalid_0's binary_logloss: 0.0208675\tvalid_1's binary_logloss: 0.0156882\n",
      "[LightGBM] [Info] Number of positive: 23249, number of negative: 104607\n",
      "[LightGBM] [Warning] Auto-choosing col-wise multi-threading, the overhead of testing was 0.004718 seconds.\n",
      "You can set `force_col_wise=true` to remove the overhead.\n",
      "[LightGBM] [Info] Total Bins 6885\n",
      "[LightGBM] [Info] Number of data points in the train set: 127856, number of used features: 27\n",
      "[LightGBM] [Info] [binary:BoostFromScore]: pavg=0.181837 -> initscore=-1.503948\n",
      "[LightGBM] [Info] Start training from score -1.503948\n",
      "Training until validation scores don't improve for 100 rounds\n",
      "[100]\tvalid_0's binary_logloss: 0.0421491\tvalid_1's binary_logloss: 0.0162922\n",
      "[200]\tvalid_0's binary_logloss: 0.0259503\tvalid_1's binary_logloss: 0.0158169\n",
      "[300]\tvalid_0's binary_logloss: 0.016285\tvalid_1's binary_logloss: 0.016098\n"
     ]
    },
    {
     "name": "stderr",
     "output_type": "stream",
     "text": [
      "regularization_factors, val_score: 0.015229:  60%|######    | 12/20 [00:29<00:21,  2.65s/it]\u001b[32m[I 2021-06-10 10:42:22,708]\u001b[0m Trial 54 finished with value: 0.015687100223950503 and parameters: {'lambda_l1': 1.2026488372284303e-08, 'lambda_l2': 1.0772485769598511e-05}. Best is trial 47 with value: 0.015229177892152617.\u001b[0m\n",
      "regularization_factors, val_score: 0.015229:  60%|######    | 12/20 [00:29<00:21,  2.65s/it]"
     ]
    },
    {
     "name": "stdout",
     "output_type": "stream",
     "text": [
      "Early stopping, best iteration is:\n",
      "[246]\tvalid_0's binary_logloss: 0.0208675\tvalid_1's binary_logloss: 0.0156871\n",
      "[LightGBM] [Info] Number of positive: 23249, number of negative: 104607\n",
      "[LightGBM] [Warning] Auto-choosing col-wise multi-threading, the overhead of testing was 0.005416 seconds.\n",
      "You can set `force_col_wise=true` to remove the overhead.\n",
      "[LightGBM] [Info] Total Bins 6885\n",
      "[LightGBM] [Info] Number of data points in the train set: 127856, number of used features: 27\n",
      "[LightGBM] [Info] [binary:BoostFromScore]: pavg=0.181837 -> initscore=-1.503948\n",
      "[LightGBM] [Info] Start training from score -1.503948\n",
      "Training until validation scores don't improve for 100 rounds\n",
      "[100]\tvalid_0's binary_logloss: 0.041936\tvalid_1's binary_logloss: 0.0164941\n"
     ]
    },
    {
     "name": "stderr",
     "output_type": "stream",
     "text": [
      "regularization_factors, val_score: 0.015229:  65%|######5   | 13/20 [00:31<00:16,  2.39s/it]\u001b[32m[I 2021-06-10 10:42:24,486]\u001b[0m Trial 55 finished with value: 0.016336254309099164 and parameters: {'lambda_l1': 0.009682897158564852, 'lambda_l2': 1.0337127472803753e-08}. Best is trial 47 with value: 0.015229177892152617.\u001b[0m\n",
      "regularization_factors, val_score: 0.015229:  65%|######5   | 13/20 [00:31<00:16,  2.39s/it]"
     ]
    },
    {
     "name": "stdout",
     "output_type": "stream",
     "text": [
      "[200]\tvalid_0's binary_logloss: 0.0256064\tvalid_1's binary_logloss: 0.0169189\n",
      "Early stopping, best iteration is:\n",
      "[115]\tvalid_0's binary_logloss: 0.0385354\tvalid_1's binary_logloss: 0.0163363\n",
      "[LightGBM] [Info] Number of positive: 23249, number of negative: 104607\n",
      "[LightGBM] [Warning] Auto-choosing col-wise multi-threading, the overhead of testing was 0.004986 seconds.\n",
      "You can set `force_col_wise=true` to remove the overhead.\n",
      "[LightGBM] [Info] Total Bins 6885\n",
      "[LightGBM] [Info] Number of data points in the train set: 127856, number of used features: 27\n",
      "[LightGBM] [Info] [binary:BoostFromScore]: pavg=0.181837 -> initscore=-1.503948\n",
      "[LightGBM] [Info] Start training from score -1.503948\n",
      "Training until validation scores don't improve for 100 rounds\n",
      "[100]\tvalid_0's binary_logloss: 0.0421491\tvalid_1's binary_logloss: 0.0162922\n",
      "[200]\tvalid_0's binary_logloss: 0.0259503\tvalid_1's binary_logloss: 0.0158211\n",
      "[300]\tvalid_0's binary_logloss: 0.016285\tvalid_1's binary_logloss: 0.0160998\n"
     ]
    },
    {
     "name": "stderr",
     "output_type": "stream",
     "text": [
      "regularization_factors, val_score: 0.015229:  70%|#######   | 14/20 [00:34<00:15,  2.52s/it]\u001b[32m[I 2021-06-10 10:42:27,294]\u001b[0m Trial 56 finished with value: 0.015690585741807813 and parameters: {'lambda_l1': 1.485663388508142e-07, 'lambda_l2': 1.0506715743456403e-05}. Best is trial 47 with value: 0.015229177892152617.\u001b[0m\n",
      "regularization_factors, val_score: 0.015229:  70%|#######   | 14/20 [00:34<00:15,  2.52s/it]"
     ]
    },
    {
     "name": "stdout",
     "output_type": "stream",
     "text": [
      "Early stopping, best iteration is:\n",
      "[246]\tvalid_0's binary_logloss: 0.0208675\tvalid_1's binary_logloss: 0.0156906\n",
      "[LightGBM] [Info] Number of positive: 23249, number of negative: 104607\n",
      "[LightGBM] [Warning] Auto-choosing col-wise multi-threading, the overhead of testing was 0.004795 seconds.\n",
      "You can set `force_col_wise=true` to remove the overhead.\n",
      "[LightGBM] [Info] Total Bins 6885\n",
      "[LightGBM] [Info] Number of data points in the train set: 127856, number of used features: 27\n",
      "[LightGBM] [Info] [binary:BoostFromScore]: pavg=0.181837 -> initscore=-1.503948\n",
      "[LightGBM] [Info] Start training from score -1.503948\n",
      "Training until validation scores don't improve for 100 rounds\n",
      "[100]\tvalid_0's binary_logloss: 0.0422721\tvalid_1's binary_logloss: 0.0158609\n"
     ]
    },
    {
     "name": "stderr",
     "output_type": "stream",
     "text": [
      "regularization_factors, val_score: 0.015229:  75%|#######5  | 15/20 [00:36<00:11,  2.33s/it]\u001b[32m[I 2021-06-10 10:42:29,180]\u001b[0m Trial 57 finished with value: 0.015742992270918053 and parameters: {'lambda_l1': 0.030121512859148023, 'lambda_l2': 0.0002712859909359721}. Best is trial 47 with value: 0.015229177892152617.\u001b[0m\n",
      "regularization_factors, val_score: 0.015229:  75%|#######5  | 15/20 [00:36<00:11,  2.33s/it]"
     ]
    },
    {
     "name": "stdout",
     "output_type": "stream",
     "text": [
      "[200]\tvalid_0's binary_logloss: 0.0254736\tvalid_1's binary_logloss: 0.0160694\n",
      "Early stopping, best iteration is:\n",
      "[102]\tvalid_0's binary_logloss: 0.0416931\tvalid_1's binary_logloss: 0.015743\n",
      "[LightGBM] [Info] Number of positive: 23249, number of negative: 104607\n",
      "[LightGBM] [Warning] Auto-choosing col-wise multi-threading, the overhead of testing was 0.004690 seconds.\n",
      "You can set `force_col_wise=true` to remove the overhead.\n",
      "[LightGBM] [Info] Total Bins 6885\n",
      "[LightGBM] [Info] Number of data points in the train set: 127856, number of used features: 27\n",
      "[LightGBM] [Info] [binary:BoostFromScore]: pavg=0.181837 -> initscore=-1.503948\n",
      "[LightGBM] [Info] Start training from score -1.503948\n",
      "Training until validation scores don't improve for 100 rounds\n",
      "[100]\tvalid_0's binary_logloss: 0.042149\tvalid_1's binary_logloss: 0.0162922\n",
      "[200]\tvalid_0's binary_logloss: 0.0259098\tvalid_1's binary_logloss: 0.0158435\n",
      "[300]\tvalid_0's binary_logloss: 0.0164828\tvalid_1's binary_logloss: 0.0157096\n"
     ]
    },
    {
     "name": "stderr",
     "output_type": "stream",
     "text": [
      "regularization_factors, val_score: 0.015229:  80%|########  | 16/20 [00:39<00:11,  2.77s/it]\u001b[32m[I 2021-06-10 10:42:32,980]\u001b[0m Trial 58 finished with value: 0.015645471374656123 and parameters: {'lambda_l1': 7.403413843137842e-06, 'lambda_l2': 2.0593895091388584e-06}. Best is trial 47 with value: 0.015229177892152617.\u001b[0m\n",
      "regularization_factors, val_score: 0.015229:  80%|########  | 16/20 [00:39<00:11,  2.77s/it]"
     ]
    },
    {
     "name": "stdout",
     "output_type": "stream",
     "text": [
      "[400]\tvalid_0's binary_logloss: 0.0102873\tvalid_1's binary_logloss: 0.0161116\n",
      "Early stopping, best iteration is:\n",
      "[305]\tvalid_0's binary_logloss: 0.0161474\tvalid_1's binary_logloss: 0.0156455\n",
      "[LightGBM] [Info] Number of positive: 23249, number of negative: 104607\n",
      "[LightGBM] [Warning] Auto-choosing col-wise multi-threading, the overhead of testing was 0.005304 seconds.\n",
      "You can set `force_col_wise=true` to remove the overhead.\n",
      "[LightGBM] [Info] Total Bins 6885\n",
      "[LightGBM] [Info] Number of data points in the train set: 127856, number of used features: 27\n",
      "[LightGBM] [Info] [binary:BoostFromScore]: pavg=0.181837 -> initscore=-1.503948\n",
      "[LightGBM] [Info] Start training from score -1.503948\n",
      "Training until validation scores don't improve for 100 rounds\n",
      "[100]\tvalid_0's binary_logloss: 0.042149\tvalid_1's binary_logloss: 0.0162946\n",
      "[200]\tvalid_0's binary_logloss: 0.0257099\tvalid_1's binary_logloss: 0.0158825\n"
     ]
    },
    {
     "name": "stderr",
     "output_type": "stream",
     "text": [
      "regularization_factors, val_score: 0.015229:  85%|########5 | 17/20 [00:42<00:08,  2.69s/it]\u001b[32m[I 2021-06-10 10:42:35,502]\u001b[0m Trial 59 finished with value: 0.01577156873948128 and parameters: {'lambda_l1': 1.580552429188746e-05, 'lambda_l2': 2.2450679016248534e-07}. Best is trial 47 with value: 0.015229177892152617.\u001b[0m\n",
      "regularization_factors, val_score: 0.015229:  85%|########5 | 17/20 [00:42<00:08,  2.69s/it]"
     ]
    },
    {
     "name": "stdout",
     "output_type": "stream",
     "text": [
      "Early stopping, best iteration is:\n",
      "[160]\tvalid_0's binary_logloss: 0.030973\tvalid_1's binary_logloss: 0.0157716\n",
      "[LightGBM] [Info] Number of positive: 23249, number of negative: 104607\n",
      "[LightGBM] [Warning] Auto-choosing col-wise multi-threading, the overhead of testing was 0.004803 seconds.\n",
      "You can set `force_col_wise=true` to remove the overhead.\n",
      "[LightGBM] [Info] Total Bins 6885\n",
      "[LightGBM] [Info] Number of data points in the train set: 127856, number of used features: 27\n",
      "[LightGBM] [Info] [binary:BoostFromScore]: pavg=0.181837 -> initscore=-1.503948\n",
      "[LightGBM] [Info] Start training from score -1.503948\n",
      "Training until validation scores don't improve for 100 rounds\n",
      "[100]\tvalid_0's binary_logloss: 0.0421492\tvalid_1's binary_logloss: 0.0162801\n",
      "[200]\tvalid_0's binary_logloss: 0.0257101\tvalid_1's binary_logloss: 0.0158794\n"
     ]
    },
    {
     "name": "stderr",
     "output_type": "stream",
     "text": [
      "regularization_factors, val_score: 0.015229:  90%|######### | 18/20 [00:44<00:05,  2.60s/it]\u001b[32m[I 2021-06-10 10:42:37,868]\u001b[0m Trial 60 finished with value: 0.01576754806345596 and parameters: {'lambda_l1': 5.259685571950941e-05, 'lambda_l2': 1.3151886291164292e-06}. Best is trial 47 with value: 0.015229177892152617.\u001b[0m\n",
      "regularization_factors, val_score: 0.015229:  90%|######### | 18/20 [00:44<00:05,  2.60s/it]"
     ]
    },
    {
     "name": "stdout",
     "output_type": "stream",
     "text": [
      "Early stopping, best iteration is:\n",
      "[160]\tvalid_0's binary_logloss: 0.0309732\tvalid_1's binary_logloss: 0.0157675\n",
      "[LightGBM] [Info] Number of positive: 23249, number of negative: 104607\n",
      "[LightGBM] [Warning] Auto-choosing col-wise multi-threading, the overhead of testing was 0.005165 seconds.\n",
      "You can set `force_col_wise=true` to remove the overhead.\n",
      "[LightGBM] [Info] Total Bins 6885\n",
      "[LightGBM] [Info] Number of data points in the train set: 127856, number of used features: 27\n",
      "[LightGBM] [Info] [binary:BoostFromScore]: pavg=0.181837 -> initscore=-1.503948\n",
      "[LightGBM] [Info] Start training from score -1.503948\n",
      "Training until validation scores don't improve for 100 rounds\n",
      "[100]\tvalid_0's binary_logloss: 0.042149\tvalid_1's binary_logloss: 0.0162922\n",
      "[200]\tvalid_0's binary_logloss: 0.0259567\tvalid_1's binary_logloss: 0.015747\n"
     ]
    },
    {
     "name": "stderr",
     "output_type": "stream",
     "text": [
      "regularization_factors, val_score: 0.015229:  95%|#########5| 19/20 [00:47<00:02,  2.63s/it]\u001b[32m[I 2021-06-10 10:42:40,587]\u001b[0m Trial 61 finished with value: 0.01571047163754726 and parameters: {'lambda_l1': 1.1004172070328138e-06, 'lambda_l2': 3.24684891233355e-08}. Best is trial 47 with value: 0.015229177892152617.\u001b[0m\n",
      "regularization_factors, val_score: 0.015229:  95%|#########5| 19/20 [00:47<00:02,  2.63s/it]"
     ]
    },
    {
     "name": "stdout",
     "output_type": "stream",
     "text": [
      "[300]\tvalid_0's binary_logloss: 0.0161476\tvalid_1's binary_logloss: 0.0160631\n",
      "Early stopping, best iteration is:\n",
      "[203]\tvalid_0's binary_logloss: 0.0256007\tvalid_1's binary_logloss: 0.0157105\n",
      "[LightGBM] [Info] Number of positive: 23249, number of negative: 104607\n",
      "[LightGBM] [Warning] Auto-choosing col-wise multi-threading, the overhead of testing was 0.005258 seconds.\n",
      "You can set `force_col_wise=true` to remove the overhead.\n",
      "[LightGBM] [Info] Total Bins 6885\n",
      "[LightGBM] [Info] Number of data points in the train set: 127856, number of used features: 27\n",
      "[LightGBM] [Info] [binary:BoostFromScore]: pavg=0.181837 -> initscore=-1.503948\n",
      "[LightGBM] [Info] Start training from score -1.503948\n",
      "Training until validation scores don't improve for 100 rounds\n",
      "[100]\tvalid_0's binary_logloss: 0.0425132\tvalid_1's binary_logloss: 0.0167011\n"
     ]
    },
    {
     "name": "stderr",
     "output_type": "stream",
     "text": [
      "regularization_factors, val_score: 0.015229: 100%|##########| 20/20 [00:49<00:00,  2.30s/it]\u001b[32m[I 2021-06-10 10:42:42,107]\u001b[0m Trial 62 finished with value: 0.016362983460728085 and parameters: {'lambda_l1': 0.0005930912064732068, 'lambda_l2': 0.20803895875004844}. Best is trial 47 with value: 0.015229177892152617.\u001b[0m\n",
      "regularization_factors, val_score: 0.015229: 100%|##########| 20/20 [00:49<00:00,  2.45s/it]\n",
      "min_data_in_leaf, val_score: 0.015229:   0%|          | 0/5 [00:00<?, ?it/s]"
     ]
    },
    {
     "name": "stdout",
     "output_type": "stream",
     "text": [
      "Early stopping, best iteration is:\n",
      "[85]\tvalid_0's binary_logloss: 0.0463217\tvalid_1's binary_logloss: 0.016363\n",
      "[LightGBM] [Info] Number of positive: 23249, number of negative: 104607\n",
      "[LightGBM] [Warning] Auto-choosing col-wise multi-threading, the overhead of testing was 0.005081 seconds.\n",
      "You can set `force_col_wise=true` to remove the overhead.\n",
      "[LightGBM] [Info] Total Bins 6885\n",
      "[LightGBM] [Info] Number of data points in the train set: 127856, number of used features: 27\n",
      "[LightGBM] [Info] [binary:BoostFromScore]: pavg=0.181837 -> initscore=-1.503948\n",
      "[LightGBM] [Info] Start training from score -1.503948\n",
      "Training until validation scores don't improve for 100 rounds\n",
      "[100]\tvalid_0's binary_logloss: 0.0424335\tvalid_1's binary_logloss: 0.0168061\n",
      "[200]\tvalid_0's binary_logloss: 0.0259111\tvalid_1's binary_logloss: 0.0169984\n"
     ]
    },
    {
     "name": "stderr",
     "output_type": "stream",
     "text": [
      "min_data_in_leaf, val_score: 0.015229:  20%|##        | 1/5 [00:02<00:08,  2.01s/it]\u001b[32m[I 2021-06-10 10:42:44,123]\u001b[0m Trial 63 finished with value: 0.016634550623761606 and parameters: {'min_child_samples': 25}. Best is trial 63 with value: 0.016634550623761606.\u001b[0m\n",
      "min_data_in_leaf, val_score: 0.015229:  20%|##        | 1/5 [00:02<00:08,  2.01s/it]"
     ]
    },
    {
     "name": "stdout",
     "output_type": "stream",
     "text": [
      "Early stopping, best iteration is:\n",
      "[131]\tvalid_0's binary_logloss: 0.0363367\tvalid_1's binary_logloss: 0.0166346\n",
      "[LightGBM] [Info] Number of positive: 23249, number of negative: 104607\n",
      "[LightGBM] [Warning] Auto-choosing col-wise multi-threading, the overhead of testing was 0.004618 seconds.\n",
      "You can set `force_col_wise=true` to remove the overhead.\n",
      "[LightGBM] [Info] Total Bins 6885\n",
      "[LightGBM] [Info] Number of data points in the train set: 127856, number of used features: 27\n",
      "[LightGBM] [Info] [binary:BoostFromScore]: pavg=0.181837 -> initscore=-1.503948\n",
      "[LightGBM] [Info] Start training from score -1.503948\n",
      "Training until validation scores don't improve for 100 rounds\n",
      "[100]\tvalid_0's binary_logloss: 0.0404019\tvalid_1's binary_logloss: 0.0169415\n",
      "[200]\tvalid_0's binary_logloss: 0.024358\tvalid_1's binary_logloss: 0.016911\n"
     ]
    },
    {
     "name": "stderr",
     "output_type": "stream",
     "text": [
      "min_data_in_leaf, val_score: 0.015229:  40%|####      | 2/5 [00:04<00:06,  2.02s/it]\u001b[32m[I 2021-06-10 10:42:46,155]\u001b[0m Trial 64 finished with value: 0.016661230172560514 and parameters: {'min_child_samples': 5}. Best is trial 63 with value: 0.016634550623761606.\u001b[0m\n",
      "min_data_in_leaf, val_score: 0.015229:  40%|####      | 2/5 [00:04<00:06,  2.02s/it]"
     ]
    },
    {
     "name": "stdout",
     "output_type": "stream",
     "text": [
      "Early stopping, best iteration is:\n",
      "[134]\tvalid_0's binary_logloss: 0.0338639\tvalid_1's binary_logloss: 0.0166612\n",
      "[LightGBM] [Info] Number of positive: 23249, number of negative: 104607\n",
      "[LightGBM] [Warning] Auto-choosing col-wise multi-threading, the overhead of testing was 0.004711 seconds.\n",
      "You can set `force_col_wise=true` to remove the overhead.\n",
      "[LightGBM] [Info] Total Bins 6885\n",
      "[LightGBM] [Info] Number of data points in the train set: 127856, number of used features: 27\n",
      "[LightGBM] [Info] [binary:BoostFromScore]: pavg=0.181837 -> initscore=-1.503948\n",
      "[LightGBM] [Info] Start training from score -1.503948\n",
      "Training until validation scores don't improve for 100 rounds\n",
      "[100]\tvalid_0's binary_logloss: 0.0446181\tvalid_1's binary_logloss: 0.0161468\n"
     ]
    },
    {
     "name": "stderr",
     "output_type": "stream",
     "text": [
      "min_data_in_leaf, val_score: 0.015229:  60%|######    | 3/5 [00:05<00:03,  1.91s/it]\u001b[32m[I 2021-06-10 10:42:47,938]\u001b[0m Trial 65 finished with value: 0.01598743709272416 and parameters: {'min_child_samples': 100}. Best is trial 65 with value: 0.01598743709272416.\u001b[0m\n",
      "min_data_in_leaf, val_score: 0.015229:  60%|######    | 3/5 [00:05<00:03,  1.91s/it]"
     ]
    },
    {
     "name": "stdout",
     "output_type": "stream",
     "text": [
      "[200]\tvalid_0's binary_logloss: 0.0283108\tvalid_1's binary_logloss: 0.0160676\n",
      "Early stopping, best iteration is:\n",
      "[118]\tvalid_0's binary_logloss: 0.0407425\tvalid_1's binary_logloss: 0.0159874\n",
      "[LightGBM] [Info] Number of positive: 23249, number of negative: 104607\n",
      "[LightGBM] [Warning] Auto-choosing col-wise multi-threading, the overhead of testing was 0.005019 seconds.\n",
      "You can set `force_col_wise=true` to remove the overhead.\n",
      "[LightGBM] [Info] Total Bins 6885\n",
      "[LightGBM] [Info] Number of data points in the train set: 127856, number of used features: 27\n",
      "[LightGBM] [Info] [binary:BoostFromScore]: pavg=0.181837 -> initscore=-1.503948\n",
      "[LightGBM] [Info] Start training from score -1.503948\n",
      "Training until validation scores don't improve for 100 rounds\n",
      "[100]\tvalid_0's binary_logloss: 0.0432633\tvalid_1's binary_logloss: 0.0165151\n",
      "[200]\tvalid_0's binary_logloss: 0.0269708\tvalid_1's binary_logloss: 0.0162835\n",
      "[300]\tvalid_0's binary_logloss: 0.017074\tvalid_1's binary_logloss: 0.0164092\n"
     ]
    },
    {
     "name": "stderr",
     "output_type": "stream",
     "text": [
      "min_data_in_leaf, val_score: 0.015229:  80%|########  | 4/5 [00:08<00:02,  2.27s/it]\u001b[32m[I 2021-06-10 10:42:50,744]\u001b[0m Trial 66 finished with value: 0.016147807424814833 and parameters: {'min_child_samples': 50}. Best is trial 65 with value: 0.01598743709272416.\u001b[0m\n",
      "min_data_in_leaf, val_score: 0.015229:  80%|########  | 4/5 [00:08<00:02,  2.27s/it]"
     ]
    },
    {
     "name": "stdout",
     "output_type": "stream",
     "text": [
      "Early stopping, best iteration is:\n",
      "[237]\tvalid_0's binary_logloss: 0.0229869\tvalid_1's binary_logloss: 0.0161478\n",
      "[LightGBM] [Info] Number of positive: 23249, number of negative: 104607\n",
      "[LightGBM] [Warning] Auto-choosing col-wise multi-threading, the overhead of testing was 0.004912 seconds.\n",
      "You can set `force_col_wise=true` to remove the overhead.\n",
      "[LightGBM] [Info] Total Bins 6885\n",
      "[LightGBM] [Info] Number of data points in the train set: 127856, number of used features: 27\n",
      "[LightGBM] [Info] [binary:BoostFromScore]: pavg=0.181837 -> initscore=-1.503948\n",
      "[LightGBM] [Info] Start training from score -1.503948\n",
      "Training until validation scores don't improve for 100 rounds\n",
      "[100]\tvalid_0's binary_logloss: 0.0417365\tvalid_1's binary_logloss: 0.0167651\n"
     ]
    },
    {
     "name": "stderr",
     "output_type": "stream",
     "text": [
      "min_data_in_leaf, val_score: 0.015229: 100%|##########| 5/5 [00:10<00:00,  2.00s/it]\u001b[32m[I 2021-06-10 10:42:52,261]\u001b[0m Trial 67 finished with value: 0.01659186069402133 and parameters: {'min_child_samples': 10}. Best is trial 65 with value: 0.01598743709272416.\u001b[0m\n",
      "min_data_in_leaf, val_score: 0.015229: 100%|##########| 5/5 [00:10<00:00,  2.03s/it]"
     ]
    },
    {
     "name": "stdout",
     "output_type": "stream",
     "text": [
      "Early stopping, best iteration is:\n",
      "[77]\tvalid_0's binary_logloss: 0.0472649\tvalid_1's binary_logloss: 0.0165919\n"
     ]
    },
    {
     "name": "stderr",
     "output_type": "stream",
     "text": [
      "\n"
     ]
    }
   ],
   "source": [
    "params = {'objective': 'binary',\n",
    "          'learning_rate': 0.1,\n",
    "          'seed':42}\n",
    "\n",
    "collections = train['collectionName'].unique()\n",
    "\n",
    "oof = pd.DataFrame()\n",
    "imp = pd.DataFrame()\n",
    "\n",
    "for collection in collections:\n",
    "    print('valid : ', collection)\n",
    "    tr_idx = train[train['collectionName']!=collection].index\n",
    "    vl_idx = train[train['collectionName']==collection].index\n",
    "    tr_x, tr_y = train[features].iloc[tr_idx], train[target].iloc[tr_idx]\n",
    "    vl_x, vl_y = train[features].iloc[vl_idx], train[target].iloc[vl_idx]\n",
    "    tr_data = lgb.Dataset(tr_x, label=tr_y)\n",
    "    vl_data = lgb.Dataset(vl_x, label=vl_y)\n",
    "    \n",
    "    break\n",
    "    \n",
    "tuner = optuna_lgb.train(params, tr_data, valid_sets=[tr_data, vl_data],\n",
    "                         num_boost_round=20000, early_stopping_rounds=100, verbose_eval=100)\n",
    "opt_params = tuner.params"
   ]
  },
  {
   "cell_type": "code",
   "execution_count": 15,
   "id": "selected-samuel",
   "metadata": {},
   "outputs": [
    {
     "name": "stdout",
     "output_type": "stream",
     "text": [
      "{'objective': 'binary', 'learning_rate': 0.1, 'seed': 42, 'feature_pre_filter': False, 'lambda_l1': 0.026271290227342415, 'lambda_l2': 1.171919176591901e-05, 'num_leaves': 76, 'feature_fraction': 0.8999999999999999, 'bagging_fraction': 1.0, 'bagging_freq': 0, 'min_child_samples': 20, 'num_iterations': 20000, 'early_stopping_round': 100}\n"
     ]
    }
   ],
   "source": [
    "print(opt_params)"
   ]
  },
  {
   "cell_type": "code",
   "execution_count": 16,
   "id": "anticipated-machinery",
   "metadata": {},
   "outputs": [
    {
     "name": "stdout",
     "output_type": "stream",
     "text": [
      "valid :  2020-05-14-US-MTV-1\n",
      "[LightGBM] [Info] Number of positive: 23249, number of negative: 104607\n"
     ]
    },
    {
     "name": "stderr",
     "output_type": "stream",
     "text": [
      "/opt/conda/lib/python3.7/site-packages/lightgbm/engine.py:148: UserWarning: Found `num_iterations` in params. Will use it instead of argument\n",
      "  _log_warning(\"Found `{}` in params. Will use it instead of argument\".format(alias))\n",
      "/opt/conda/lib/python3.7/site-packages/lightgbm/engine.py:153: UserWarning: Found `early_stopping_round` in params. Will use it instead of argument\n",
      "  _log_warning(\"Found `{}` in params. Will use it instead of argument\".format(alias))\n"
     ]
    },
    {
     "name": "stdout",
     "output_type": "stream",
     "text": [
      "[LightGBM] [Warning] Auto-choosing col-wise multi-threading, the overhead of testing was 0.007877 seconds.\n",
      "You can set `force_col_wise=true` to remove the overhead.\n",
      "[LightGBM] [Info] Total Bins 6885\n",
      "[LightGBM] [Info] Number of data points in the train set: 127856, number of used features: 27\n",
      "[LightGBM] [Info] [binary:BoostFromScore]: pavg=0.181837 -> initscore=-1.503948\n",
      "[LightGBM] [Info] Start training from score -1.503948\n",
      "Training until validation scores don't improve for 100 rounds\n",
      "[100]\ttraining's binary_logloss: 0.042245\tvalid_1's binary_logloss: 0.0158485\n",
      "[200]\ttraining's binary_logloss: 0.0254933\tvalid_1's binary_logloss: 0.0154438\n",
      "Early stopping, best iteration is:\n",
      "[175]\ttraining's binary_logloss: 0.0284082\tvalid_1's binary_logloss: 0.0152292\n",
      "valid :  2020-05-14-US-MTV-2\n",
      "[LightGBM] [Info] Number of positive: 23272, number of negative: 105723\n",
      "[LightGBM] [Warning] Auto-choosing col-wise multi-threading, the overhead of testing was 0.004962 seconds.\n",
      "You can set `force_col_wise=true` to remove the overhead.\n",
      "[LightGBM] [Info] Total Bins 6885\n",
      "[LightGBM] [Info] Number of data points in the train set: 128995, number of used features: 27\n",
      "[LightGBM] [Info] [binary:BoostFromScore]: pavg=0.180410 -> initscore=-1.513572\n",
      "[LightGBM] [Info] Start training from score -1.513572\n",
      "Training until validation scores don't improve for 100 rounds\n",
      "[100]\ttraining's binary_logloss: 0.0418859\tvalid_1's binary_logloss: 0.0307587\n",
      "[200]\ttraining's binary_logloss: 0.0257617\tvalid_1's binary_logloss: 0.0322791\n",
      "Early stopping, best iteration is:\n",
      "[111]\ttraining's binary_logloss: 0.0394693\tvalid_1's binary_logloss: 0.0305805\n",
      "valid :  2020-05-21-US-MTV-1\n",
      "[LightGBM] [Info] Number of positive: 23026, number of negative: 106285\n",
      "[LightGBM] [Warning] Auto-choosing col-wise multi-threading, the overhead of testing was 0.004903 seconds.\n",
      "You can set `force_col_wise=true` to remove the overhead.\n",
      "[LightGBM] [Info] Total Bins 6885\n",
      "[LightGBM] [Info] Number of data points in the train set: 129311, number of used features: 27\n",
      "[LightGBM] [Info] [binary:BoostFromScore]: pavg=0.178067 -> initscore=-1.529500\n",
      "[LightGBM] [Info] Start training from score -1.529500\n",
      "Training until validation scores don't improve for 100 rounds\n",
      "[100]\ttraining's binary_logloss: 0.0417276\tvalid_1's binary_logloss: 0.0136702\n",
      "[200]\ttraining's binary_logloss: 0.0250594\tvalid_1's binary_logloss: 0.0112786\n",
      "[300]\ttraining's binary_logloss: 0.0160081\tvalid_1's binary_logloss: 0.00964553\n",
      "[400]\ttraining's binary_logloss: 0.0102421\tvalid_1's binary_logloss: 0.00819034\n",
      "[500]\ttraining's binary_logloss: 0.00681581\tvalid_1's binary_logloss: 0.00733431\n",
      "[600]\ttraining's binary_logloss: 0.00449939\tvalid_1's binary_logloss: 0.00654583\n",
      "[700]\ttraining's binary_logloss: 0.00301001\tvalid_1's binary_logloss: 0.00597788\n",
      "[800]\ttraining's binary_logloss: 0.00211715\tvalid_1's binary_logloss: 0.00543857\n",
      "[900]\ttraining's binary_logloss: 0.00156612\tvalid_1's binary_logloss: 0.00527042\n",
      "[1000]\ttraining's binary_logloss: 0.00123762\tvalid_1's binary_logloss: 0.00529099\n",
      "[1100]\ttraining's binary_logloss: 0.0010283\tvalid_1's binary_logloss: 0.00516577\n",
      "Early stopping, best iteration is:\n",
      "[1036]\ttraining's binary_logloss: 0.00115245\tvalid_1's binary_logloss: 0.00502096\n",
      "valid :  2020-05-21-US-MTV-2\n",
      "[LightGBM] [Info] Number of positive: 23120, number of negative: 104463\n",
      "[LightGBM] [Warning] Auto-choosing col-wise multi-threading, the overhead of testing was 0.004678 seconds.\n",
      "You can set `force_col_wise=true` to remove the overhead.\n",
      "[LightGBM] [Info] Total Bins 6885\n",
      "[LightGBM] [Info] Number of data points in the train set: 127583, number of used features: 27\n",
      "[LightGBM] [Info] [binary:BoostFromScore]: pavg=0.181215 -> initscore=-1.508135\n",
      "[LightGBM] [Info] Start training from score -1.508135\n",
      "Training until validation scores don't improve for 100 rounds\n",
      "[100]\ttraining's binary_logloss: 0.0417905\tvalid_1's binary_logloss: 0.0185904\n",
      "[200]\ttraining's binary_logloss: 0.0252821\tvalid_1's binary_logloss: 0.0181659\n",
      "[300]\ttraining's binary_logloss: 0.0160576\tvalid_1's binary_logloss: 0.0176099\n",
      "[400]\ttraining's binary_logloss: 0.0103632\tvalid_1's binary_logloss: 0.0171917\n",
      "[500]\ttraining's binary_logloss: 0.00679391\tvalid_1's binary_logloss: 0.0176533\n",
      "Early stopping, best iteration is:\n",
      "[407]\ttraining's binary_logloss: 0.0100495\tvalid_1's binary_logloss: 0.0170314\n",
      "valid :  2020-05-29-US-MTV-1\n",
      "[LightGBM] [Info] Number of positive: 23152, number of negative: 102439\n",
      "[LightGBM] [Warning] Auto-choosing col-wise multi-threading, the overhead of testing was 0.004616 seconds.\n",
      "You can set `force_col_wise=true` to remove the overhead.\n",
      "[LightGBM] [Info] Total Bins 6885\n",
      "[LightGBM] [Info] Number of data points in the train set: 125591, number of used features: 27\n",
      "[LightGBM] [Info] [binary:BoostFromScore]: pavg=0.184344 -> initscore=-1.487186\n",
      "[LightGBM] [Info] Start training from score -1.487186\n",
      "Training until validation scores don't improve for 100 rounds\n",
      "[100]\ttraining's binary_logloss: 0.0416776\tvalid_1's binary_logloss: 0.0297338\n",
      "Early stopping, best iteration is:\n",
      "[97]\ttraining's binary_logloss: 0.0425089\tvalid_1's binary_logloss: 0.0296599\n",
      "valid :  2020-05-29-US-MTV-2\n",
      "[LightGBM] [Info] Number of positive: 23272, number of negative: 104061\n",
      "[LightGBM] [Warning] Auto-choosing col-wise multi-threading, the overhead of testing was 0.004949 seconds.\n",
      "You can set `force_col_wise=true` to remove the overhead.\n",
      "[LightGBM] [Info] Total Bins 6885\n",
      "[LightGBM] [Info] Number of data points in the train set: 127333, number of used features: 27\n",
      "[LightGBM] [Info] [binary:BoostFromScore]: pavg=0.182765 -> initscore=-1.497726\n",
      "[LightGBM] [Info] Start training from score -1.497726\n",
      "Training until validation scores don't improve for 100 rounds\n",
      "[100]\ttraining's binary_logloss: 0.0412854\tvalid_1's binary_logloss: 0.115616\n",
      "Early stopping, best iteration is:\n",
      "[24]\ttraining's binary_logloss: 0.0848163\tvalid_1's binary_logloss: 0.0963862\n",
      "valid :  2020-06-04-US-MTV-1\n",
      "[LightGBM] [Info] Number of positive: 23156, number of negative: 102996\n",
      "[LightGBM] [Warning] Auto-choosing col-wise multi-threading, the overhead of testing was 0.004685 seconds.\n",
      "You can set `force_col_wise=true` to remove the overhead.\n",
      "[LightGBM] [Info] Total Bins 6885\n",
      "[LightGBM] [Info] Number of data points in the train set: 126152, number of used features: 27\n",
      "[LightGBM] [Info] [binary:BoostFromScore]: pavg=0.183556 -> initscore=-1.492436\n",
      "[LightGBM] [Info] Start training from score -1.492436\n",
      "Training until validation scores don't improve for 100 rounds\n",
      "[100]\ttraining's binary_logloss: 0.0423587\tvalid_1's binary_logloss: 0.02435\n",
      "[200]\ttraining's binary_logloss: 0.0253118\tvalid_1's binary_logloss: 0.0240139\n",
      "[300]\ttraining's binary_logloss: 0.0162719\tvalid_1's binary_logloss: 0.0240749\n",
      "Early stopping, best iteration is:\n",
      "[239]\ttraining's binary_logloss: 0.021322\tvalid_1's binary_logloss: 0.0237999\n",
      "valid :  2020-06-05-US-MTV-1\n",
      "[LightGBM] [Info] Number of positive: 22747, number of negative: 103438\n",
      "[LightGBM] [Warning] Auto-choosing col-wise multi-threading, the overhead of testing was 0.004770 seconds.\n",
      "You can set `force_col_wise=true` to remove the overhead.\n",
      "[LightGBM] [Info] Total Bins 6885\n",
      "[LightGBM] [Info] Number of data points in the train set: 126185, number of used features: 27\n",
      "[LightGBM] [Info] [binary:BoostFromScore]: pavg=0.180267 -> initscore=-1.514539\n",
      "[LightGBM] [Info] Start training from score -1.514539\n",
      "Training until validation scores don't improve for 100 rounds\n",
      "[100]\ttraining's binary_logloss: 0.042022\tvalid_1's binary_logloss: 0.0229682\n",
      "[200]\ttraining's binary_logloss: 0.0254435\tvalid_1's binary_logloss: 0.0228325\n",
      "[300]\ttraining's binary_logloss: 0.0161443\tvalid_1's binary_logloss: 0.0229193\n",
      "[400]\ttraining's binary_logloss: 0.0101745\tvalid_1's binary_logloss: 0.0227732\n",
      "Early stopping, best iteration is:\n",
      "[323]\ttraining's binary_logloss: 0.014405\tvalid_1's binary_logloss: 0.0226663\n",
      "valid :  2020-06-05-US-MTV-2\n",
      "[LightGBM] [Info] Number of positive: 22870, number of negative: 104911\n",
      "[LightGBM] [Warning] Auto-choosing col-wise multi-threading, the overhead of testing was 0.005218 seconds.\n",
      "You can set `force_col_wise=true` to remove the overhead.\n",
      "[LightGBM] [Info] Total Bins 6885\n",
      "[LightGBM] [Info] Number of data points in the train set: 127781, number of used features: 27\n",
      "[LightGBM] [Info] [binary:BoostFromScore]: pavg=0.178978 -> initscore=-1.523286\n",
      "[LightGBM] [Info] Start training from score -1.523286\n",
      "Training until validation scores don't improve for 100 rounds\n",
      "[100]\ttraining's binary_logloss: 0.0417121\tvalid_1's binary_logloss: 0.0258312\n",
      "[200]\ttraining's binary_logloss: 0.025297\tvalid_1's binary_logloss: 0.0238942\n",
      "[300]\ttraining's binary_logloss: 0.0159265\tvalid_1's binary_logloss: 0.0224757\n",
      "[400]\ttraining's binary_logloss: 0.0101856\tvalid_1's binary_logloss: 0.0210137\n",
      "[500]\ttraining's binary_logloss: 0.00664397\tvalid_1's binary_logloss: 0.0197264\n",
      "[600]\ttraining's binary_logloss: 0.00440279\tvalid_1's binary_logloss: 0.0195237\n",
      "[700]\ttraining's binary_logloss: 0.0030248\tvalid_1's binary_logloss: 0.0195286\n",
      "Early stopping, best iteration is:\n",
      "[645]\ttraining's binary_logloss: 0.00369603\tvalid_1's binary_logloss: 0.0192093\n",
      "valid :  2020-06-11-US-MTV-1\n",
      "[LightGBM] [Info] Number of positive: 23040, number of negative: 104538\n",
      "[LightGBM] [Warning] Auto-choosing col-wise multi-threading, the overhead of testing was 0.004688 seconds.\n",
      "You can set `force_col_wise=true` to remove the overhead.\n",
      "[LightGBM] [Info] Total Bins 6885\n",
      "[LightGBM] [Info] Number of data points in the train set: 127578, number of used features: 27\n",
      "[LightGBM] [Info] [binary:BoostFromScore]: pavg=0.180595 -> initscore=-1.512319\n",
      "[LightGBM] [Info] Start training from score -1.512319\n",
      "Training until validation scores don't improve for 100 rounds\n",
      "[100]\ttraining's binary_logloss: 0.0420096\tvalid_1's binary_logloss: 0.0160672\n",
      "[200]\ttraining's binary_logloss: 0.0255103\tvalid_1's binary_logloss: 0.0150338\n",
      "[300]\ttraining's binary_logloss: 0.0161244\tvalid_1's binary_logloss: 0.0142491\n",
      "[400]\ttraining's binary_logloss: 0.0102133\tvalid_1's binary_logloss: 0.0134072\n",
      "[500]\ttraining's binary_logloss: 0.00661619\tvalid_1's binary_logloss: 0.013114\n",
      "[600]\ttraining's binary_logloss: 0.00439574\tvalid_1's binary_logloss: 0.0127521\n",
      "[700]\ttraining's binary_logloss: 0.00298685\tvalid_1's binary_logloss: 0.0124943\n",
      "Early stopping, best iteration is:\n",
      "[692]\ttraining's binary_logloss: 0.00307852\tvalid_1's binary_logloss: 0.0124297\n",
      "valid :  2020-07-08-US-MTV-1\n",
      "[LightGBM] [Info] Number of positive: 22515, number of negative: 103479\n",
      "[LightGBM] [Warning] Auto-choosing col-wise multi-threading, the overhead of testing was 0.005858 seconds.\n",
      "You can set `force_col_wise=true` to remove the overhead.\n",
      "[LightGBM] [Info] Total Bins 6885\n",
      "[LightGBM] [Info] Number of data points in the train set: 125994, number of used features: 27\n",
      "[LightGBM] [Info] [binary:BoostFromScore]: pavg=0.178699 -> initscore=-1.525187\n",
      "[LightGBM] [Info] Start training from score -1.525187\n",
      "Training until validation scores don't improve for 100 rounds\n",
      "[100]\ttraining's binary_logloss: 0.0418926\tvalid_1's binary_logloss: 0.0308278\n",
      "[200]\ttraining's binary_logloss: 0.0256479\tvalid_1's binary_logloss: 0.0300884\n",
      "[300]\ttraining's binary_logloss: 0.015931\tvalid_1's binary_logloss: 0.0302273\n",
      "Early stopping, best iteration is:\n",
      "[229]\ttraining's binary_logloss: 0.0221573\tvalid_1's binary_logloss: 0.0298345\n",
      "valid :  2020-07-17-US-MTV-1\n",
      "[LightGBM] [Info] Number of positive: 23228, number of negative: 106019\n",
      "[LightGBM] [Warning] Auto-choosing col-wise multi-threading, the overhead of testing was 0.007042 seconds.\n",
      "You can set `force_col_wise=true` to remove the overhead.\n",
      "[LightGBM] [Info] Total Bins 6885\n",
      "[LightGBM] [Info] Number of data points in the train set: 129247, number of used features: 27\n",
      "[LightGBM] [Info] [binary:BoostFromScore]: pavg=0.179718 -> initscore=-1.518260\n",
      "[LightGBM] [Info] Start training from score -1.518260\n",
      "Training until validation scores don't improve for 100 rounds\n",
      "[100]\ttraining's binary_logloss: 0.0415084\tvalid_1's binary_logloss: 0.0296675\n",
      "Early stopping, best iteration is:\n",
      "[76]\ttraining's binary_logloss: 0.0478425\tvalid_1's binary_logloss: 0.0295426\n",
      "valid :  2020-07-17-US-MTV-2\n",
      "[LightGBM] [Info] Number of positive: 23352, number of negative: 106248\n",
      "[LightGBM] [Warning] Auto-choosing col-wise multi-threading, the overhead of testing was 0.004997 seconds.\n",
      "You can set `force_col_wise=true` to remove the overhead.\n",
      "[LightGBM] [Info] Total Bins 6885\n",
      "[LightGBM] [Info] Number of data points in the train set: 129600, number of used features: 27\n",
      "[LightGBM] [Info] [binary:BoostFromScore]: pavg=0.180185 -> initscore=-1.515093\n",
      "[LightGBM] [Info] Start training from score -1.515093\n",
      "Training until validation scores don't improve for 100 rounds\n",
      "[100]\ttraining's binary_logloss: 0.0414609\tvalid_1's binary_logloss: 0.0207242\n",
      "[200]\ttraining's binary_logloss: 0.0249095\tvalid_1's binary_logloss: 0.0203679\n",
      "[300]\ttraining's binary_logloss: 0.016112\tvalid_1's binary_logloss: 0.0210705\n",
      "Early stopping, best iteration is:\n",
      "[215]\ttraining's binary_logloss: 0.0232237\tvalid_1's binary_logloss: 0.0201292\n",
      "valid :  2020-08-03-US-MTV-1\n",
      "[LightGBM] [Info] Number of positive: 22558, number of negative: 104800\n",
      "[LightGBM] [Warning] Auto-choosing col-wise multi-threading, the overhead of testing was 0.005299 seconds.\n",
      "You can set `force_col_wise=true` to remove the overhead.\n",
      "[LightGBM] [Info] Total Bins 6885\n",
      "[LightGBM] [Info] Number of data points in the train set: 127358, number of used features: 27\n",
      "[LightGBM] [Info] [binary:BoostFromScore]: pavg=0.177123 -> initscore=-1.535964\n",
      "[LightGBM] [Info] Start training from score -1.535964\n",
      "Training until validation scores don't improve for 100 rounds\n",
      "[100]\ttraining's binary_logloss: 0.041703\tvalid_1's binary_logloss: 0.0389139\n",
      "[200]\ttraining's binary_logloss: 0.0251141\tvalid_1's binary_logloss: 0.0375376\n",
      "[300]\ttraining's binary_logloss: 0.0157129\tvalid_1's binary_logloss: 0.0366465\n",
      "[400]\ttraining's binary_logloss: 0.0100649\tvalid_1's binary_logloss: 0.0361246\n",
      "Early stopping, best iteration is:\n",
      "[358]\ttraining's binary_logloss: 0.0120567\tvalid_1's binary_logloss: 0.0360142\n",
      "valid :  2020-08-06-US-MTV-2\n",
      "[LightGBM] [Info] Number of positive: 23005, number of negative: 103054\n",
      "[LightGBM] [Warning] Auto-choosing col-wise multi-threading, the overhead of testing was 0.004904 seconds.\n",
      "You can set `force_col_wise=true` to remove the overhead.\n",
      "[LightGBM] [Info] Total Bins 6885\n",
      "[LightGBM] [Info] Number of data points in the train set: 126059, number of used features: 27\n",
      "[LightGBM] [Info] [binary:BoostFromScore]: pavg=0.182494 -> initscore=-1.499542\n",
      "[LightGBM] [Info] Start training from score -1.499542\n",
      "Training until validation scores don't improve for 100 rounds\n",
      "[100]\ttraining's binary_logloss: 0.042329\tvalid_1's binary_logloss: 0.0182046\n",
      "[200]\ttraining's binary_logloss: 0.0253901\tvalid_1's binary_logloss: 0.0180517\n",
      "Early stopping, best iteration is:\n",
      "[163]\ttraining's binary_logloss: 0.0305996\tvalid_1's binary_logloss: 0.0177968\n",
      "valid :  2020-09-04-US-SF-1\n",
      "[LightGBM] [Info] Number of positive: 23130, number of negative: 102998\n",
      "[LightGBM] [Warning] Auto-choosing col-wise multi-threading, the overhead of testing was 0.004571 seconds.\n",
      "You can set `force_col_wise=true` to remove the overhead.\n",
      "[LightGBM] [Info] Total Bins 6885\n",
      "[LightGBM] [Info] Number of data points in the train set: 126128, number of used features: 27\n",
      "[LightGBM] [Info] [binary:BoostFromScore]: pavg=0.183385 -> initscore=-1.493579\n",
      "[LightGBM] [Info] Start training from score -1.493579\n",
      "Training until validation scores don't improve for 100 rounds\n",
      "[100]\ttraining's binary_logloss: 0.0420792\tvalid_1's binary_logloss: 0.0189598\n",
      "[200]\ttraining's binary_logloss: 0.0256215\tvalid_1's binary_logloss: 0.0181344\n",
      "[300]\ttraining's binary_logloss: 0.0161859\tvalid_1's binary_logloss: 0.0181522\n",
      "Early stopping, best iteration is:\n",
      "[234]\ttraining's binary_logloss: 0.0219886\tvalid_1's binary_logloss: 0.0179395\n",
      "valid :  2020-09-04-US-SF-2\n",
      "[LightGBM] [Info] Number of positive: 22831, number of negative: 102403\n",
      "[LightGBM] [Warning] Auto-choosing col-wise multi-threading, the overhead of testing was 0.005224 seconds.\n",
      "You can set `force_col_wise=true` to remove the overhead.\n",
      "[LightGBM] [Info] Total Bins 6885\n",
      "[LightGBM] [Info] Number of data points in the train set: 125234, number of used features: 27\n",
      "[LightGBM] [Info] [binary:BoostFromScore]: pavg=0.182307 -> initscore=-1.500797\n",
      "[LightGBM] [Info] Start training from score -1.500797\n",
      "Training until validation scores don't improve for 100 rounds\n",
      "[100]\ttraining's binary_logloss: 0.0416375\tvalid_1's binary_logloss: 0.0427222\n",
      "[200]\ttraining's binary_logloss: 0.0249926\tvalid_1's binary_logloss: 0.042902\n",
      "Early stopping, best iteration is:\n",
      "[145]\ttraining's binary_logloss: 0.0328579\tvalid_1's binary_logloss: 0.0422083\n",
      "valid :  2021-01-04-US-RWC-1\n",
      "[LightGBM] [Info] Number of positive: 22381, number of negative: 100668\n",
      "[LightGBM] [Warning] Auto-choosing col-wise multi-threading, the overhead of testing was 0.004532 seconds.\n",
      "You can set `force_col_wise=true` to remove the overhead.\n",
      "[LightGBM] [Info] Total Bins 6885\n",
      "[LightGBM] [Info] Number of data points in the train set: 123049, number of used features: 27\n",
      "[LightGBM] [Info] [binary:BoostFromScore]: pavg=0.181887 -> initscore=-1.503616\n",
      "[LightGBM] [Info] Start training from score -1.503616\n",
      "Training until validation scores don't improve for 100 rounds\n",
      "[100]\ttraining's binary_logloss: 0.0419901\tvalid_1's binary_logloss: 0.0367918\n",
      "[200]\ttraining's binary_logloss: 0.0251892\tvalid_1's binary_logloss: 0.0352743\n",
      "[300]\ttraining's binary_logloss: 0.0158992\tvalid_1's binary_logloss: 0.0352128\n",
      "Early stopping, best iteration is:\n",
      "[288]\ttraining's binary_logloss: 0.0169405\tvalid_1's binary_logloss: 0.035\n",
      "valid :  2021-01-04-US-RWC-2\n",
      "[LightGBM] [Info] Number of positive: 22627, number of negative: 101139\n",
      "[LightGBM] [Warning] Auto-choosing col-wise multi-threading, the overhead of testing was 0.004718 seconds.\n",
      "You can set `force_col_wise=true` to remove the overhead.\n",
      "[LightGBM] [Info] Total Bins 6885\n",
      "[LightGBM] [Info] Number of data points in the train set: 123766, number of used features: 27\n",
      "[LightGBM] [Info] [binary:BoostFromScore]: pavg=0.182821 -> initscore=-1.497352\n",
      "[LightGBM] [Info] Start training from score -1.497352\n",
      "Training until validation scores don't improve for 100 rounds\n",
      "[100]\ttraining's binary_logloss: 0.0414602\tvalid_1's binary_logloss: 0.0423791\n",
      "[200]\ttraining's binary_logloss: 0.0247912\tvalid_1's binary_logloss: 0.0425664\n",
      "Early stopping, best iteration is:\n",
      "[178]\ttraining's binary_logloss: 0.0276876\tvalid_1's binary_logloss: 0.0422225\n",
      "valid :  2021-01-05-US-SVL-1\n",
      "[LightGBM] [Info] Number of positive: 21824, number of negative: 103878\n",
      "[LightGBM] [Warning] Auto-choosing col-wise multi-threading, the overhead of testing was 0.005149 seconds.\n",
      "You can set `force_col_wise=true` to remove the overhead.\n",
      "[LightGBM] [Info] Total Bins 6885\n",
      "[LightGBM] [Info] Number of data points in the train set: 125702, number of used features: 27\n",
      "[LightGBM] [Info] [binary:BoostFromScore]: pavg=0.173617 -> initscore=-1.560207\n",
      "[LightGBM] [Info] Start training from score -1.560207\n",
      "Training until validation scores don't improve for 100 rounds\n",
      "[100]\ttraining's binary_logloss: 0.0387653\tvalid_1's binary_logloss: 0.119699\n",
      "Early stopping, best iteration is:\n",
      "[81]\ttraining's binary_logloss: 0.0435114\tvalid_1's binary_logloss: 0.118905\n",
      "valid :  2021-01-05-US-SVL-2\n",
      "[LightGBM] [Info] Number of positive: 22907, number of negative: 104787\n",
      "[LightGBM] [Warning] Auto-choosing col-wise multi-threading, the overhead of testing was 0.004763 seconds.\n",
      "You can set `force_col_wise=true` to remove the overhead.\n",
      "[LightGBM] [Info] Total Bins 6885\n",
      "[LightGBM] [Info] Number of data points in the train set: 127694, number of used features: 27\n",
      "[LightGBM] [Info] [binary:BoostFromScore]: pavg=0.179390 -> initscore=-1.520487\n",
      "[LightGBM] [Info] Start training from score -1.520487\n",
      "Training until validation scores don't improve for 100 rounds\n",
      "[100]\ttraining's binary_logloss: 0.0406192\tvalid_1's binary_logloss: 0.0782064\n",
      "[200]\ttraining's binary_logloss: 0.0244086\tvalid_1's binary_logloss: 0.07924\n",
      "Early stopping, best iteration is:\n",
      "[129]\ttraining's binary_logloss: 0.0348809\tvalid_1's binary_logloss: 0.0775014\n",
      "valid :  2021-03-10-US-SVL-1\n",
      "[LightGBM] [Info] Number of positive: 22485, number of negative: 105811\n",
      "[LightGBM] [Warning] Auto-choosing col-wise multi-threading, the overhead of testing was 0.004736 seconds.\n",
      "You can set `force_col_wise=true` to remove the overhead.\n",
      "[LightGBM] [Info] Total Bins 6885\n",
      "[LightGBM] [Info] Number of data points in the train set: 128296, number of used features: 27\n",
      "[LightGBM] [Info] [binary:BoostFromScore]: pavg=0.175259 -> initscore=-1.548806\n",
      "[LightGBM] [Info] Start training from score -1.548806\n",
      "Training until validation scores don't improve for 100 rounds\n",
      "[100]\ttraining's binary_logloss: 0.0407265\tvalid_1's binary_logloss: 0.0862707\n",
      "[200]\ttraining's binary_logloss: 0.0242891\tvalid_1's binary_logloss: 0.085541\n",
      "[300]\ttraining's binary_logloss: 0.0153094\tvalid_1's binary_logloss: 0.0841895\n",
      "[400]\ttraining's binary_logloss: 0.00963988\tvalid_1's binary_logloss: 0.0837117\n",
      "Early stopping, best iteration is:\n",
      "[370]\ttraining's binary_logloss: 0.0110269\tvalid_1's binary_logloss: 0.0832866\n",
      "valid :  2021-04-15-US-MTV-1\n",
      "[LightGBM] [Info] Number of positive: 22118, number of negative: 102319\n",
      "[LightGBM] [Warning] Auto-choosing col-wise multi-threading, the overhead of testing was 0.004929 seconds.\n",
      "You can set `force_col_wise=true` to remove the overhead.\n",
      "[LightGBM] [Info] Total Bins 6885\n",
      "[LightGBM] [Info] Number of data points in the train set: 124437, number of used features: 27\n",
      "[LightGBM] [Info] [binary:BoostFromScore]: pavg=0.177745 -> initscore=-1.531704\n",
      "[LightGBM] [Info] Start training from score -1.531704\n",
      "Training until validation scores don't improve for 100 rounds\n",
      "[100]\ttraining's binary_logloss: 0.0396207\tvalid_1's binary_logloss: 0.0783028\n",
      "[200]\ttraining's binary_logloss: 0.0238337\tvalid_1's binary_logloss: 0.079071\n",
      "Early stopping, best iteration is:\n",
      "[128]\ttraining's binary_logloss: 0.033964\tvalid_1's binary_logloss: 0.0780301\n",
      "valid :  2021-04-22-US-SJC-1\n",
      "[LightGBM] [Info] Number of positive: 21139, number of negative: 104487\n",
      "[LightGBM] [Warning] Auto-choosing col-wise multi-threading, the overhead of testing was 0.004582 seconds.\n",
      "You can set `force_col_wise=true` to remove the overhead.\n",
      "[LightGBM] [Info] Total Bins 6885\n",
      "[LightGBM] [Info] Number of data points in the train set: 125626, number of used features: 27\n",
      "[LightGBM] [Info] [binary:BoostFromScore]: pavg=0.168269 -> initscore=-1.597943\n",
      "[LightGBM] [Info] Start training from score -1.597943\n",
      "Training until validation scores don't improve for 100 rounds\n",
      "[100]\ttraining's binary_logloss: 0.0350439\tvalid_1's binary_logloss: 0.23872\n",
      "Early stopping, best iteration is:\n",
      "[73]\ttraining's binary_logloss: 0.0413234\tvalid_1's binary_logloss: 0.236297\n",
      "valid :  2021-04-26-US-SVL-1\n",
      "[LightGBM] [Info] Number of positive: 22673, number of negative: 106599\n",
      "[LightGBM] [Warning] Auto-choosing col-wise multi-threading, the overhead of testing was 0.004961 seconds.\n",
      "You can set `force_col_wise=true` to remove the overhead.\n",
      "[LightGBM] [Info] Total Bins 6885\n",
      "[LightGBM] [Info] Number of data points in the train set: 129272, number of used features: 27\n",
      "[LightGBM] [Info] [binary:BoostFromScore]: pavg=0.175390 -> initscore=-1.547899\n",
      "[LightGBM] [Info] Start training from score -1.547899\n",
      "Training until validation scores don't improve for 100 rounds\n",
      "[100]\ttraining's binary_logloss: 0.0404919\tvalid_1's binary_logloss: 0.118409\n",
      "[200]\ttraining's binary_logloss: 0.0242883\tvalid_1's binary_logloss: 0.119794\n",
      "Early stopping, best iteration is:\n",
      "[110]\ttraining's binary_logloss: 0.038477\tvalid_1's binary_logloss: 0.118147\n",
      "valid :  2021-04-28-US-MTV-1\n",
      "[LightGBM] [Info] Number of positive: 21185, number of negative: 104192\n",
      "[LightGBM] [Warning] Auto-choosing col-wise multi-threading, the overhead of testing was 0.004958 seconds.\n",
      "You can set `force_col_wise=true` to remove the overhead.\n",
      "[LightGBM] [Info] Total Bins 6885\n",
      "[LightGBM] [Info] Number of data points in the train set: 125377, number of used features: 27\n",
      "[LightGBM] [Info] [binary:BoostFromScore]: pavg=0.168970 -> initscore=-1.592942\n",
      "[LightGBM] [Info] Start training from score -1.592942\n",
      "Training until validation scores don't improve for 100 rounds\n",
      "[100]\ttraining's binary_logloss: 0.0376323\tvalid_1's binary_logloss: 0.138991\n",
      "Early stopping, best iteration is:\n",
      "[97]\ttraining's binary_logloss: 0.0384571\tvalid_1's binary_logloss: 0.138642\n",
      "valid :  2021-04-28-US-SJC-1\n",
      "[LightGBM] [Info] Number of positive: 22189, number of negative: 105056\n",
      "[LightGBM] [Warning] Auto-choosing col-wise multi-threading, the overhead of testing was 0.008222 seconds.\n",
      "You can set `force_col_wise=true` to remove the overhead.\n",
      "[LightGBM] [Info] Total Bins 6885\n",
      "[LightGBM] [Info] Number of data points in the train set: 127245, number of used features: 27\n",
      "[LightGBM] [Info] [binary:BoostFromScore]: pavg=0.174380 -> initscore=-1.554897\n",
      "[LightGBM] [Info] Start training from score -1.554897\n",
      "Training until validation scores don't improve for 100 rounds\n",
      "[100]\ttraining's binary_logloss: 0.0369974\tvalid_1's binary_logloss: 0.2095\n",
      "Early stopping, best iteration is:\n",
      "[54]\ttraining's binary_logloss: 0.0499924\tvalid_1's binary_logloss: 0.205634\n",
      "valid :  2021-04-29-US-MTV-1\n",
      "[LightGBM] [Info] Number of positive: 21876, number of negative: 104609\n",
      "[LightGBM] [Warning] Auto-choosing col-wise multi-threading, the overhead of testing was 0.006087 seconds.\n",
      "You can set `force_col_wise=true` to remove the overhead.\n",
      "[LightGBM] [Info] Total Bins 6885\n",
      "[LightGBM] [Info] Number of data points in the train set: 126485, number of used features: 27\n",
      "[LightGBM] [Info] [binary:BoostFromScore]: pavg=0.172953 -> initscore=-1.564839\n",
      "[LightGBM] [Info] Start training from score -1.564839\n",
      "Training until validation scores don't improve for 100 rounds\n",
      "[100]\ttraining's binary_logloss: 0.0374014\tvalid_1's binary_logloss: 0.177813\n",
      "Early stopping, best iteration is:\n",
      "[81]\ttraining's binary_logloss: 0.0420306\tvalid_1's binary_logloss: 0.176761\n",
      "valid :  2021-04-29-US-SJC-2\n",
      "[LightGBM] [Info] Number of positive: 21981, number of negative: 104661\n",
      "[LightGBM] [Warning] Auto-choosing col-wise multi-threading, the overhead of testing was 0.005730 seconds.\n",
      "You can set `force_col_wise=true` to remove the overhead.\n",
      "[LightGBM] [Info] Total Bins 6885\n",
      "[LightGBM] [Info] Number of data points in the train set: 126642, number of used features: 27\n",
      "[LightGBM] [Info] [binary:BoostFromScore]: pavg=0.173568 -> initscore=-1.560548\n",
      "[LightGBM] [Info] Start training from score -1.560548\n",
      "Training until validation scores don't improve for 100 rounds\n",
      "[100]\ttraining's binary_logloss: 0.035674\tvalid_1's binary_logloss: 0.241207\n",
      "Early stopping, best iteration is:\n",
      "[48]\ttraining's binary_logloss: 0.051473\tvalid_1's binary_logloss: 0.238488\n"
     ]
    }
   ],
   "source": [
    "collections = train['collectionName'].unique()\n",
    "\n",
    "oof = pd.DataFrame()\n",
    "imp = pd.DataFrame()\n",
    "test_preds = np.zeros(len(test))\n",
    "n = len(collections)\n",
    "\n",
    "for collection in collections:\n",
    "    print('valid : ', collection)\n",
    "    tr_idx = train[train['collectionName']!=collection].index\n",
    "    vl_idx = train[train['collectionName']==collection].index\n",
    "    tr_x, tr_y = train[features].iloc[tr_idx], train[target].iloc[tr_idx]\n",
    "    vl_x, vl_y = train[features].iloc[vl_idx], train[target].iloc[vl_idx]\n",
    "    tr_data = lgb.Dataset(tr_x, label=tr_y)\n",
    "    vl_data = lgb.Dataset(vl_x, label=vl_y)\n",
    "    \n",
    "    model = lgb.train(opt_params, tr_data, valid_sets=[tr_data, vl_data],\n",
    "                      num_boost_round=20000, early_stopping_rounds=100, verbose_eval=100)\n",
    "    vl_pred = model.predict(vl_x, num_iteration=model.best_iteration)\n",
    "    \n",
    "    oof_tmp = train.iloc[vl_idx].copy()\n",
    "    oof_tmp['pred'] = vl_pred\n",
    "    oof = oof.append(oof_tmp)\n",
    "    \n",
    "    imp_tmp = pd.DataFrame()\n",
    "    imp_tmp['feature'] = model.feature_name()\n",
    "    imp_tmp['importance'] = model.feature_importance()\n",
    "    imp_tmp['valid_collection'] = collection\n",
    "    imp = imp.append(imp_tmp)\n",
    "    \n",
    "    pred = model.predict(test[features], num_iteration=model.best_iteration)\n",
    "    test_preds += pred / n\n",
    "test['pred'] = test_preds"
   ]
  },
  {
   "cell_type": "code",
   "execution_count": 17,
   "id": "floral-crowd",
   "metadata": {},
   "outputs": [],
   "source": [
    "tmp = oof[oof['phone']=='2020-05-14-US-MTV-1_Pixel4XLModded'].copy()"
   ]
  },
  {
   "cell_type": "code",
   "execution_count": 18,
   "id": "parallel-spanking",
   "metadata": {},
   "outputs": [],
   "source": [
    "imp_mean = imp.groupby('feature').mean().reset_index()"
   ]
  },
  {
   "cell_type": "code",
   "execution_count": 19,
   "id": "steady-statement",
   "metadata": {},
   "outputs": [
    {
     "data": {
      "image/png": "[encoded data removed]",
      "text/plain": [
       "<Figure size 720x504 with 1 Axes>"
      ]
     },
     "metadata": {
      "needs_background": "light"
     },
     "output_type": "display_data"
    }
   ],
   "source": [
    "plt.figure(figsize=(10, 7))\n",
    "sns.barplot(x=\"importance\", y=\"feature\", data=imp_mean.sort_values(by=\"importance\", ascending=False))\n",
    "plt.title(\"Feature Importance\")\n",
    "plt.tight_layout()"
   ]
  },
  {
   "cell_type": "code",
   "execution_count": 20,
   "id": "velvet-sharing",
   "metadata": {},
   "outputs": [],
   "source": [
    "tmp[['millisSinceGpsEpoch', 'speedMps', 'pred']].to_csv('check.csv')"
   ]
  },
  {
   "cell_type": "code",
   "execution_count": 21,
   "id": "flush-mount",
   "metadata": {},
   "outputs": [
    {
     "data": {
      "text/plain": [
       "<AxesSubplot:>"
      ]
     },
     "execution_count": 21,
     "metadata": {},
     "output_type": "execute_result"
    },
    {
     "data": {
      "image/png": "[encoded data removed]",
      "text/plain": [
       "<Figure size 432x288 with 1 Axes>"
      ]
     },
     "metadata": {
      "needs_background": "light"
     },
     "output_type": "display_data"
    }
   ],
   "source": [
    "tmp['isSpeed0'].plot()\n",
    "tmp['pred'].plot()"
   ]
  },
  {
   "cell_type": "code",
   "execution_count": 22,
   "id": "polished-clothing",
   "metadata": {},
   "outputs": [],
   "source": [
    "from sklearn import metrics\n",
    "from sklearn.metrics import roc_curve"
   ]
  },
  {
   "cell_type": "code",
   "execution_count": 23,
   "id": "dressed-recruitment",
   "metadata": {},
   "outputs": [
    {
     "data": {
      "image/png": "[encoded data removed]",
      "text/plain": [
       "<Figure size 432x288 with 1 Axes>"
      ]
     },
     "metadata": {
      "needs_background": "light"
     },
     "output_type": "display_data"
    }
   ],
   "source": [
    "fpr, tpr, thresholds = roc_curve(oof['isSpeed0'], oof['pred'])\n",
    "auc = metrics.auc(fpr, tpr)\n",
    "plt.plot(fpr, tpr, label='ROC curve (area = %.2f)'%auc)\n",
    "plt.legend()\n",
    "plt.xlabel('FPR: False positive rate')\n",
    "plt.ylabel('TPR: True positive rate')\n",
    "plt.grid()\n",
    "plt.show()"
   ]
  },
  {
   "cell_type": "code",
   "execution_count": 24,
   "id": "buried-walker",
   "metadata": {},
   "outputs": [
    {
     "name": "stdout",
     "output_type": "stream",
     "text": [
      "0.9937630430389502\n"
     ]
    }
   ],
   "source": [
    "print(auc)"
   ]
  },
  {
   "cell_type": "code",
   "execution_count": 25,
   "id": "dated-december",
   "metadata": {},
   "outputs": [
    {
     "data": {
      "text/plain": [
       "<AxesSubplot:>"
      ]
     },
     "execution_count": 25,
     "metadata": {},
     "output_type": "execute_result"
    },
    {
     "data": {
      "image/png": "[encoded data removed]",
      "text/plain": [
       "<Figure size 432x288 with 1 Axes>"
      ]
     },
     "metadata": {
      "needs_background": "light"
     },
     "output_type": "display_data"
    }
   ],
   "source": [
    "oof['pred'].hist()"
   ]
  },
  {
   "cell_type": "code",
   "execution_count": 26,
   "id": "technical-smoke",
   "metadata": {},
   "outputs": [
    {
     "data": {
      "text/html": [
       "<div>\n",
       "<style scoped>\n",
       "    .dataframe tbody tr th:only-of-type {\n",
       "        vertical-align: middle;\n",
       "    }\n",
       "\n",
       "    .dataframe tbody tr th {\n",
       "        vertical-align: top;\n",
       "    }\n",
       "\n",
       "    .dataframe thead th {\n",
       "        text-align: right;\n",
       "    }\n",
       "</style>\n",
       "<table border=\"1\" class=\"dataframe\">\n",
       "  <thead>\n",
       "    <tr style=\"text-align: right;\">\n",
       "      <th></th>\n",
       "      <th>collectionName</th>\n",
       "      <th>phoneName</th>\n",
       "      <th>millisSinceGpsEpoch</th>\n",
       "      <th>latDeg</th>\n",
       "      <th>lngDeg</th>\n",
       "      <th>heightAboveWgs84EllipsoidM</th>\n",
       "      <th>phone</th>\n",
       "      <th>speedMps</th>\n",
       "      <th>isSpeed0</th>\n",
       "      <th>latDeg_s1</th>\n",
       "      <th>...</th>\n",
       "      <th>latDeg_s1_diff_sum</th>\n",
       "      <th>latDeg_s2_diff_sum</th>\n",
       "      <th>latDeg_s3_diff_sum</th>\n",
       "      <th>lngDeg_s1_diff_sum</th>\n",
       "      <th>lngDeg_s2_diff_sum</th>\n",
       "      <th>lngDeg_s3_diff_sum</th>\n",
       "      <th>heightAboveWgs84EllipsoidM_s1_diff_sum</th>\n",
       "      <th>heightAboveWgs84EllipsoidM_s2_diff_sum</th>\n",
       "      <th>heightAboveWgs84EllipsoidM_s3_diff_sum</th>\n",
       "      <th>pred</th>\n",
       "    </tr>\n",
       "  </thead>\n",
       "  <tbody>\n",
       "    <tr>\n",
       "      <th>0</th>\n",
       "      <td>2020-05-14-US-MTV-1</td>\n",
       "      <td>Pixel4</td>\n",
       "      <td>1273529463442</td>\n",
       "      <td>37.423575</td>\n",
       "      <td>-122.094091</td>\n",
       "      <td>-34.06</td>\n",
       "      <td>2020-05-14-US-MTV-1_Pixel4</td>\n",
       "      <td>0.0</td>\n",
       "      <td>1.0</td>\n",
       "      <td>NaN</td>\n",
       "      <td>...</td>\n",
       "      <td>-0.000002</td>\n",
       "      <td>-4.000000e-07</td>\n",
       "      <td>-7.700000e-06</td>\n",
       "      <td>9.600000e-06</td>\n",
       "      <td>0.000029</td>\n",
       "      <td>5.880000e-05</td>\n",
       "      <td>-0.77</td>\n",
       "      <td>-3.84</td>\n",
       "      <td>-5.07</td>\n",
       "      <td>0.999887</td>\n",
       "    </tr>\n",
       "    <tr>\n",
       "      <th>1</th>\n",
       "      <td>2020-05-14-US-MTV-1</td>\n",
       "      <td>Pixel4</td>\n",
       "      <td>1273529464442</td>\n",
       "      <td>37.423578</td>\n",
       "      <td>-122.094101</td>\n",
       "      <td>-33.29</td>\n",
       "      <td>2020-05-14-US-MTV-1_Pixel4</td>\n",
       "      <td>0.0</td>\n",
       "      <td>1.0</td>\n",
       "      <td>37.423575</td>\n",
       "      <td>...</td>\n",
       "      <td>0.000007</td>\n",
       "      <td>1.900000e-06</td>\n",
       "      <td>3.000000e-07</td>\n",
       "      <td>3.000000e-07</td>\n",
       "      <td>0.000020</td>\n",
       "      <td>3.320000e-05</td>\n",
       "      <td>-1.53</td>\n",
       "      <td>-1.99</td>\n",
       "      <td>-0.79</td>\n",
       "      <td>0.999892</td>\n",
       "    </tr>\n",
       "    <tr>\n",
       "      <th>2</th>\n",
       "      <td>2020-05-14-US-MTV-1</td>\n",
       "      <td>Pixel4</td>\n",
       "      <td>1273529465442</td>\n",
       "      <td>37.423573</td>\n",
       "      <td>-122.094111</td>\n",
       "      <td>-30.99</td>\n",
       "      <td>2020-05-14-US-MTV-1_Pixel4</td>\n",
       "      <td>0.0</td>\n",
       "      <td>1.0</td>\n",
       "      <td>37.423578</td>\n",
       "      <td>...</td>\n",
       "      <td>-0.000014</td>\n",
       "      <td>-2.170000e-05</td>\n",
       "      <td>-2.650000e-05</td>\n",
       "      <td>3.000000e-07</td>\n",
       "      <td>-0.000016</td>\n",
       "      <td>-9.000001e-07</td>\n",
       "      <td>4.14</td>\n",
       "      <td>10.71</td>\n",
       "      <td>13.29</td>\n",
       "      <td>0.999215</td>\n",
       "    </tr>\n",
       "    <tr>\n",
       "      <th>3</th>\n",
       "      <td>2020-05-14-US-MTV-1</td>\n",
       "      <td>Pixel4</td>\n",
       "      <td>1273529466442</td>\n",
       "      <td>37.423583</td>\n",
       "      <td>-122.094121</td>\n",
       "      <td>-32.83</td>\n",
       "      <td>2020-05-14-US-MTV-1_Pixel4</td>\n",
       "      <td>0.0</td>\n",
       "      <td>1.0</td>\n",
       "      <td>37.423573</td>\n",
       "      <td>...</td>\n",
       "      <td>0.000013</td>\n",
       "      <td>2.200000e-05</td>\n",
       "      <td>3.950000e-05</td>\n",
       "      <td>-1.750000e-05</td>\n",
       "      <td>-0.000032</td>\n",
       "      <td>-6.930000e-05</td>\n",
       "      <td>-0.18</td>\n",
       "      <td>1.02</td>\n",
       "      <td>2.94</td>\n",
       "      <td>0.884884</td>\n",
       "    </tr>\n",
       "    <tr>\n",
       "      <th>4</th>\n",
       "      <td>2020-05-14-US-MTV-1</td>\n",
       "      <td>Pixel4</td>\n",
       "      <td>1273529467442</td>\n",
       "      <td>37.423579</td>\n",
       "      <td>-122.094114</td>\n",
       "      <td>-34.49</td>\n",
       "      <td>2020-05-14-US-MTV-1_Pixel4</td>\n",
       "      <td>0.0</td>\n",
       "      <td>1.0</td>\n",
       "      <td>37.423583</td>\n",
       "      <td>...</td>\n",
       "      <td>-0.000002</td>\n",
       "      <td>1.080000e-05</td>\n",
       "      <td>2.350000e-05</td>\n",
       "      <td>1.980000e-05</td>\n",
       "      <td>0.000017</td>\n",
       "      <td>6.800000e-06</td>\n",
       "      <td>-2.58</td>\n",
       "      <td>-7.05</td>\n",
       "      <td>-11.14</td>\n",
       "      <td>0.986505</td>\n",
       "    </tr>\n",
       "    <tr>\n",
       "      <th>...</th>\n",
       "      <td>...</td>\n",
       "      <td>...</td>\n",
       "      <td>...</td>\n",
       "      <td>...</td>\n",
       "      <td>...</td>\n",
       "      <td>...</td>\n",
       "      <td>...</td>\n",
       "      <td>...</td>\n",
       "      <td>...</td>\n",
       "      <td>...</td>\n",
       "      <td>...</td>\n",
       "      <td>...</td>\n",
       "      <td>...</td>\n",
       "      <td>...</td>\n",
       "      <td>...</td>\n",
       "      <td>...</td>\n",
       "      <td>...</td>\n",
       "      <td>...</td>\n",
       "      <td>...</td>\n",
       "      <td>...</td>\n",
       "      <td>...</td>\n",
       "    </tr>\n",
       "    <tr>\n",
       "      <th>131337</th>\n",
       "      <td>2021-04-29-US-SJC-2</td>\n",
       "      <td>SamsungS20Ultra</td>\n",
       "      <td>1303760315000</td>\n",
       "      <td>37.334460</td>\n",
       "      <td>-121.899600</td>\n",
       "      <td>-8.09</td>\n",
       "      <td>2021-04-29-US-SJC-2_SamsungS20Ultra</td>\n",
       "      <td>0.0</td>\n",
       "      <td>1.0</td>\n",
       "      <td>37.334457</td>\n",
       "      <td>...</td>\n",
       "      <td>-0.000010</td>\n",
       "      <td>-4.930000e-05</td>\n",
       "      <td>-9.210000e-05</td>\n",
       "      <td>-6.600000e-06</td>\n",
       "      <td>-0.000022</td>\n",
       "      <td>-3.630000e-05</td>\n",
       "      <td>-2.68</td>\n",
       "      <td>-2.07</td>\n",
       "      <td>-1.90</td>\n",
       "      <td>0.807906</td>\n",
       "    </tr>\n",
       "    <tr>\n",
       "      <th>131338</th>\n",
       "      <td>2021-04-29-US-SJC-2</td>\n",
       "      <td>SamsungS20Ultra</td>\n",
       "      <td>1303760316000</td>\n",
       "      <td>37.334472</td>\n",
       "      <td>-121.899583</td>\n",
       "      <td>-7.59</td>\n",
       "      <td>2021-04-29-US-SJC-2_SamsungS20Ultra</td>\n",
       "      <td>0.0</td>\n",
       "      <td>1.0</td>\n",
       "      <td>37.334460</td>\n",
       "      <td>...</td>\n",
       "      <td>-0.000007</td>\n",
       "      <td>-1.440000e-05</td>\n",
       "      <td>-2.340000e-05</td>\n",
       "      <td>3.070000e-05</td>\n",
       "      <td>0.000058</td>\n",
       "      <td>4.830000e-05</td>\n",
       "      <td>1.26</td>\n",
       "      <td>0.72</td>\n",
       "      <td>1.62</td>\n",
       "      <td>0.946789</td>\n",
       "    </tr>\n",
       "    <tr>\n",
       "      <th>131339</th>\n",
       "      <td>2021-04-29-US-SJC-2</td>\n",
       "      <td>SamsungS20Ultra</td>\n",
       "      <td>1303760317000</td>\n",
       "      <td>37.334491</td>\n",
       "      <td>-121.899597</td>\n",
       "      <td>-8.35</td>\n",
       "      <td>2021-04-29-US-SJC-2_SamsungS20Ultra</td>\n",
       "      <td>0.0</td>\n",
       "      <td>1.0</td>\n",
       "      <td>37.334472</td>\n",
       "      <td>...</td>\n",
       "      <td>0.000015</td>\n",
       "      <td>5.270000e-05</td>\n",
       "      <td>8.670000e-05</td>\n",
       "      <td>-2.800000e-05</td>\n",
       "      <td>-0.000052</td>\n",
       "      <td>-3.950000e-05</td>\n",
       "      <td>-0.38</td>\n",
       "      <td>-1.35</td>\n",
       "      <td>-3.79</td>\n",
       "      <td>0.954457</td>\n",
       "    </tr>\n",
       "    <tr>\n",
       "      <th>131340</th>\n",
       "      <td>2021-04-29-US-SJC-2</td>\n",
       "      <td>SamsungS20Ultra</td>\n",
       "      <td>1303760318000</td>\n",
       "      <td>37.334495</td>\n",
       "      <td>-121.899583</td>\n",
       "      <td>-8.73</td>\n",
       "      <td>2021-04-29-US-SJC-2_SamsungS20Ultra</td>\n",
       "      <td>0.0</td>\n",
       "      <td>1.0</td>\n",
       "      <td>37.334491</td>\n",
       "      <td>...</td>\n",
       "      <td>0.000014</td>\n",
       "      <td>3.620000e-05</td>\n",
       "      <td>7.120000e-05</td>\n",
       "      <td>1.000000e-06</td>\n",
       "      <td>0.000001</td>\n",
       "      <td>1.770000e-05</td>\n",
       "      <td>-1.47</td>\n",
       "      <td>-2.61</td>\n",
       "      <td>-3.25</td>\n",
       "      <td>0.967380</td>\n",
       "    </tr>\n",
       "    <tr>\n",
       "      <th>131341</th>\n",
       "      <td>2021-04-29-US-SJC-2</td>\n",
       "      <td>SamsungS20Ultra</td>\n",
       "      <td>1303760319000</td>\n",
       "      <td>37.334485</td>\n",
       "      <td>-121.899570</td>\n",
       "      <td>-7.64</td>\n",
       "      <td>2021-04-29-US-SJC-2_SamsungS20Ultra</td>\n",
       "      <td>0.0</td>\n",
       "      <td>1.0</td>\n",
       "      <td>37.334495</td>\n",
       "      <td>...</td>\n",
       "      <td>-0.000010</td>\n",
       "      <td>-1.590000e-05</td>\n",
       "      <td>-3.000000e-06</td>\n",
       "      <td>1.300000e-05</td>\n",
       "      <td>0.000040</td>\n",
       "      <td>5.300000e-05</td>\n",
       "      <td>1.09</td>\n",
       "      <td>1.80</td>\n",
       "      <td>1.75</td>\n",
       "      <td>0.978160</td>\n",
       "    </tr>\n",
       "  </tbody>\n",
       "</table>\n",
       "<p>131342 rows × 55 columns</p>\n",
       "</div>"
      ],
      "text/plain": [
       "             collectionName        phoneName  millisSinceGpsEpoch     latDeg  \\\n",
       "0       2020-05-14-US-MTV-1           Pixel4        1273529463442  37.423575   \n",
       "1       2020-05-14-US-MTV-1           Pixel4        1273529464442  37.423578   \n",
       "2       2020-05-14-US-MTV-1           Pixel4        1273529465442  37.423573   \n",
       "3       2020-05-14-US-MTV-1           Pixel4        1273529466442  37.423583   \n",
       "4       2020-05-14-US-MTV-1           Pixel4        1273529467442  37.423579   \n",
       "...                     ...              ...                  ...        ...   \n",
       "131337  2021-04-29-US-SJC-2  SamsungS20Ultra        1303760315000  37.334460   \n",
       "131338  2021-04-29-US-SJC-2  SamsungS20Ultra        1303760316000  37.334472   \n",
       "131339  2021-04-29-US-SJC-2  SamsungS20Ultra        1303760317000  37.334491   \n",
       "131340  2021-04-29-US-SJC-2  SamsungS20Ultra        1303760318000  37.334495   \n",
       "131341  2021-04-29-US-SJC-2  SamsungS20Ultra        1303760319000  37.334485   \n",
       "\n",
       "            lngDeg  heightAboveWgs84EllipsoidM  \\\n",
       "0      -122.094091                      -34.06   \n",
       "1      -122.094101                      -33.29   \n",
       "2      -122.094111                      -30.99   \n",
       "3      -122.094121                      -32.83   \n",
       "4      -122.094114                      -34.49   \n",
       "...            ...                         ...   \n",
       "131337 -121.899600                       -8.09   \n",
       "131338 -121.899583                       -7.59   \n",
       "131339 -121.899597                       -8.35   \n",
       "131340 -121.899583                       -8.73   \n",
       "131341 -121.899570                       -7.64   \n",
       "\n",
       "                                      phone  speedMps  isSpeed0  latDeg_s1  \\\n",
       "0                2020-05-14-US-MTV-1_Pixel4       0.0       1.0        NaN   \n",
       "1                2020-05-14-US-MTV-1_Pixel4       0.0       1.0  37.423575   \n",
       "2                2020-05-14-US-MTV-1_Pixel4       0.0       1.0  37.423578   \n",
       "3                2020-05-14-US-MTV-1_Pixel4       0.0       1.0  37.423573   \n",
       "4                2020-05-14-US-MTV-1_Pixel4       0.0       1.0  37.423583   \n",
       "...                                     ...       ...       ...        ...   \n",
       "131337  2021-04-29-US-SJC-2_SamsungS20Ultra       0.0       1.0  37.334457   \n",
       "131338  2021-04-29-US-SJC-2_SamsungS20Ultra       0.0       1.0  37.334460   \n",
       "131339  2021-04-29-US-SJC-2_SamsungS20Ultra       0.0       1.0  37.334472   \n",
       "131340  2021-04-29-US-SJC-2_SamsungS20Ultra       0.0       1.0  37.334491   \n",
       "131341  2021-04-29-US-SJC-2_SamsungS20Ultra       0.0       1.0  37.334495   \n",
       "\n",
       "        ...  latDeg_s1_diff_sum  latDeg_s2_diff_sum  latDeg_s3_diff_sum  \\\n",
       "0       ...           -0.000002       -4.000000e-07       -7.700000e-06   \n",
       "1       ...            0.000007        1.900000e-06        3.000000e-07   \n",
       "2       ...           -0.000014       -2.170000e-05       -2.650000e-05   \n",
       "3       ...            0.000013        2.200000e-05        3.950000e-05   \n",
       "4       ...           -0.000002        1.080000e-05        2.350000e-05   \n",
       "...     ...                 ...                 ...                 ...   \n",
       "131337  ...           -0.000010       -4.930000e-05       -9.210000e-05   \n",
       "131338  ...           -0.000007       -1.440000e-05       -2.340000e-05   \n",
       "131339  ...            0.000015        5.270000e-05        8.670000e-05   \n",
       "131340  ...            0.000014        3.620000e-05        7.120000e-05   \n",
       "131341  ...           -0.000010       -1.590000e-05       -3.000000e-06   \n",
       "\n",
       "        lngDeg_s1_diff_sum  lngDeg_s2_diff_sum  lngDeg_s3_diff_sum  \\\n",
       "0             9.600000e-06            0.000029        5.880000e-05   \n",
       "1             3.000000e-07            0.000020        3.320000e-05   \n",
       "2             3.000000e-07           -0.000016       -9.000001e-07   \n",
       "3            -1.750000e-05           -0.000032       -6.930000e-05   \n",
       "4             1.980000e-05            0.000017        6.800000e-06   \n",
       "...                    ...                 ...                 ...   \n",
       "131337       -6.600000e-06           -0.000022       -3.630000e-05   \n",
       "131338        3.070000e-05            0.000058        4.830000e-05   \n",
       "131339       -2.800000e-05           -0.000052       -3.950000e-05   \n",
       "131340        1.000000e-06            0.000001        1.770000e-05   \n",
       "131341        1.300000e-05            0.000040        5.300000e-05   \n",
       "\n",
       "        heightAboveWgs84EllipsoidM_s1_diff_sum  \\\n",
       "0                                        -0.77   \n",
       "1                                        -1.53   \n",
       "2                                         4.14   \n",
       "3                                        -0.18   \n",
       "4                                        -2.58   \n",
       "...                                        ...   \n",
       "131337                                   -2.68   \n",
       "131338                                    1.26   \n",
       "131339                                   -0.38   \n",
       "131340                                   -1.47   \n",
       "131341                                    1.09   \n",
       "\n",
       "        heightAboveWgs84EllipsoidM_s2_diff_sum  \\\n",
       "0                                        -3.84   \n",
       "1                                        -1.99   \n",
       "2                                        10.71   \n",
       "3                                         1.02   \n",
       "4                                        -7.05   \n",
       "...                                        ...   \n",
       "131337                                   -2.07   \n",
       "131338                                    0.72   \n",
       "131339                                   -1.35   \n",
       "131340                                   -2.61   \n",
       "131341                                    1.80   \n",
       "\n",
       "        heightAboveWgs84EllipsoidM_s3_diff_sum      pred  \n",
       "0                                        -5.07  0.999887  \n",
       "1                                        -0.79  0.999892  \n",
       "2                                        13.29  0.999215  \n",
       "3                                         2.94  0.884884  \n",
       "4                                       -11.14  0.986505  \n",
       "...                                        ...       ...  \n",
       "131337                                   -1.90  0.807906  \n",
       "131338                                    1.62  0.946789  \n",
       "131339                                   -3.79  0.954457  \n",
       "131340                                   -3.25  0.967380  \n",
       "131341                                    1.75  0.978160  \n",
       "\n",
       "[131342 rows x 55 columns]"
      ]
     },
     "execution_count": 26,
     "metadata": {},
     "output_type": "execute_result"
    }
   ],
   "source": [
    "oof"
   ]
  },
  {
   "cell_type": "code",
   "execution_count": 27,
   "id": "blank-messenger",
   "metadata": {},
   "outputs": [],
   "source": [
    "os.makedirs(OUTPUT + '/speed0_pred/train', exist_ok=True)\n",
    "phones = oof['phone'].unique()\n",
    "\n",
    "for phone in phones:\n",
    "    fig, axes = plt.subplots(figsize=(50, 20), nrows=2,sharex=True)\n",
    "    tmp = oof[oof['phone']==phone].copy()\n",
    "\n",
    "    axes[0].plot(tmp['millisSinceGpsEpoch'], tmp['speedMps'], label='speedMps')\n",
    "\n",
    "    axes[1].plot(tmp['millisSinceGpsEpoch'], tmp['isSpeed0'], label='isSpeed0')\n",
    "    axes[1].plot(tmp['millisSinceGpsEpoch'], tmp['pred'], label='pred')\n",
    "\n",
    "    axes[0].legend(loc='lower right')\n",
    "    axes[1].legend(loc='lower right')\n",
    "    axes[0].grid(color='g', linestyle=':', linewidth=0.3)\n",
    "    axes[1].grid(color='g', linestyle=':', linewidth=0.3)\n",
    "    fig.suptitle(phone, fontsize=16)\n",
    "    fig.savefig(OUTPUT + '/speed0_pred/train/' + phone + '.png')\n",
    "    plt.close()"
   ]
  },
  {
   "cell_type": "code",
   "execution_count": 28,
   "id": "packed-expression",
   "metadata": {},
   "outputs": [],
   "source": [
    "os.makedirs(OUTPUT + '/speed0_pred/test', exist_ok=True)\n",
    "phones = test['phone'].unique()\n",
    "\n",
    "for phone in phones:\n",
    "    fig, axes = plt.subplots(figsize=(50, 20), nrows=2,sharex=True)\n",
    "    tmp = test[test['phone']==phone].copy()\n",
    "\n",
    "    axes[0].plot(tmp['millisSinceGpsEpoch'], tmp['pred'], label='pred')\n",
    "    axes[1].plot(tmp['millisSinceGpsEpoch'], tmp['pred'], label='pred')\n",
    "\n",
    "    axes[0].legend(loc='lower right')\n",
    "    axes[0].grid(color='g', linestyle=':', linewidth=0.3)\n",
    "    fig.suptitle(phone, fontsize=16)\n",
    "    fig.savefig(OUTPUT + '/speed0_pred/test/' + phone + '.png')\n",
    "    plt.close()"
   ]
  },
  {
   "cell_type": "code",
   "execution_count": 29,
   "id": "closed-multimedia",
   "metadata": {},
   "outputs": [],
   "source": [
    "train_speed0 = oof[['collectionName', 'phoneName', 'millisSinceGpsEpoch', 'pred']].copy()\n",
    "test_speed0 = test[['collectionName', 'phoneName', 'millisSinceGpsEpoch', 'pred']].copy()\n",
    "\n",
    "train_speed0['isSpeed0'] = 0\n",
    "test_speed0['isSpeed0'] = 0\n",
    "train_speed0.loc[train_speed0['pred']>0.5, 'isSpeed0'] = 1\n",
    "test_speed0.loc[test_speed0['pred']>0.5, 'isSpeed0'] = 1"
   ]
  },
  {
   "cell_type": "code",
   "execution_count": 30,
   "id": "every-monday",
   "metadata": {},
   "outputs": [],
   "source": [
    "train_speed0.to_csv(OUTPUT + '/train_speed0.csv', index=False)\n",
    "test_speed0.to_csv(OUTPUT + '/test_speed0.csv', index=False)"
   ]
  },
  {
   "cell_type": "markdown",
   "id": "republican-noise",
   "metadata": {},
   "source": [
    "# 学習"
   ]
  },
  {
   "cell_type": "code",
   "execution_count": 31,
   "id": "least-straight",
   "metadata": {},
   "outputs": [],
   "source": [
    "base_train = pd.read_csv(INPUT + '/' + 'baseline_locations_train.csv')\n",
    "base_test = pd.read_csv(INPUT + '/' + 'baseline_locations_test.csv')\n",
    "sample_sub = pd.read_csv(INPUT + '/' + 'sample_submission.csv')"
   ]
  },
  {
   "cell_type": "code",
   "execution_count": 32,
   "id": "individual-innocent",
   "metadata": {},
   "outputs": [
    {
     "name": "stdout",
     "output_type": "stream",
     "text": [
      "ground_truth.csv count :  73\n"
     ]
    },
    {
     "data": {
      "application/vnd.jupyter.widget-view+json": {
       "model_id": "c7e4dd7381944bb097187f1e69a4cce6",
       "version_major": 2,
       "version_minor": 0
      },
      "text/plain": [
       "  0%|          | 0/73 [00:00<?, ?it/s]"
      ]
     },
     "metadata": {},
     "output_type": "display_data"
    },
    {
     "data": {
      "text/html": [
       "<div>\n",
       "<style scoped>\n",
       "    .dataframe tbody tr th:only-of-type {\n",
       "        vertical-align: middle;\n",
       "    }\n",
       "\n",
       "    .dataframe tbody tr th {\n",
       "        vertical-align: top;\n",
       "    }\n",
       "\n",
       "    .dataframe thead th {\n",
       "        text-align: right;\n",
       "    }\n",
       "</style>\n",
       "<table border=\"1\" class=\"dataframe\">\n",
       "  <thead>\n",
       "    <tr style=\"text-align: right;\">\n",
       "      <th></th>\n",
       "      <th>collectionName</th>\n",
       "      <th>phoneName</th>\n",
       "      <th>millisSinceGpsEpoch</th>\n",
       "      <th>latDeg</th>\n",
       "      <th>lngDeg</th>\n",
       "      <th>heightAboveWgs84EllipsoidM</th>\n",
       "      <th>timeSinceFirstFixSeconds</th>\n",
       "      <th>hDop</th>\n",
       "      <th>vDop</th>\n",
       "      <th>speedMps</th>\n",
       "      <th>courseDegree</th>\n",
       "    </tr>\n",
       "  </thead>\n",
       "  <tbody>\n",
       "    <tr>\n",
       "      <th>0</th>\n",
       "      <td>2020-05-21-US-MTV-2</td>\n",
       "      <td>Pixel4</td>\n",
       "      <td>1274131364434</td>\n",
       "      <td>37.628927</td>\n",
       "      <td>-122.426295</td>\n",
       "      <td>65.36</td>\n",
       "      <td>64.43</td>\n",
       "      <td>2.6</td>\n",
       "      <td>0.0</td>\n",
       "      <td>0.0</td>\n",
       "      <td>154.3</td>\n",
       "    </tr>\n",
       "    <tr>\n",
       "      <th>1</th>\n",
       "      <td>2020-05-21-US-MTV-2</td>\n",
       "      <td>Pixel4</td>\n",
       "      <td>1274131365434</td>\n",
       "      <td>37.628927</td>\n",
       "      <td>-122.426295</td>\n",
       "      <td>65.36</td>\n",
       "      <td>65.43</td>\n",
       "      <td>2.6</td>\n",
       "      <td>0.0</td>\n",
       "      <td>0.0</td>\n",
       "      <td>154.3</td>\n",
       "    </tr>\n",
       "    <tr>\n",
       "      <th>2</th>\n",
       "      <td>2020-05-21-US-MTV-2</td>\n",
       "      <td>Pixel4</td>\n",
       "      <td>1274131366434</td>\n",
       "      <td>37.628927</td>\n",
       "      <td>-122.426295</td>\n",
       "      <td>65.36</td>\n",
       "      <td>66.43</td>\n",
       "      <td>2.6</td>\n",
       "      <td>0.0</td>\n",
       "      <td>0.0</td>\n",
       "      <td>154.3</td>\n",
       "    </tr>\n",
       "    <tr>\n",
       "      <th>3</th>\n",
       "      <td>2020-05-21-US-MTV-2</td>\n",
       "      <td>Pixel4</td>\n",
       "      <td>1274131367434</td>\n",
       "      <td>37.628927</td>\n",
       "      <td>-122.426295</td>\n",
       "      <td>65.36</td>\n",
       "      <td>67.43</td>\n",
       "      <td>2.6</td>\n",
       "      <td>0.0</td>\n",
       "      <td>0.0</td>\n",
       "      <td>154.3</td>\n",
       "    </tr>\n",
       "    <tr>\n",
       "      <th>4</th>\n",
       "      <td>2020-05-21-US-MTV-2</td>\n",
       "      <td>Pixel4</td>\n",
       "      <td>1274131368434</td>\n",
       "      <td>37.628927</td>\n",
       "      <td>-122.426295</td>\n",
       "      <td>65.36</td>\n",
       "      <td>68.43</td>\n",
       "      <td>2.6</td>\n",
       "      <td>0.0</td>\n",
       "      <td>0.0</td>\n",
       "      <td>154.3</td>\n",
       "    </tr>\n",
       "  </tbody>\n",
       "</table>\n",
       "</div>"
      ],
      "text/plain": [
       "        collectionName phoneName  millisSinceGpsEpoch     latDeg      lngDeg  \\\n",
       "0  2020-05-21-US-MTV-2    Pixel4        1274131364434  37.628927 -122.426295   \n",
       "1  2020-05-21-US-MTV-2    Pixel4        1274131365434  37.628927 -122.426295   \n",
       "2  2020-05-21-US-MTV-2    Pixel4        1274131366434  37.628927 -122.426295   \n",
       "3  2020-05-21-US-MTV-2    Pixel4        1274131367434  37.628927 -122.426295   \n",
       "4  2020-05-21-US-MTV-2    Pixel4        1274131368434  37.628927 -122.426295   \n",
       "\n",
       "   heightAboveWgs84EllipsoidM  timeSinceFirstFixSeconds  hDop  vDop  speedMps  \\\n",
       "0                       65.36                     64.43   2.6   0.0       0.0   \n",
       "1                       65.36                     65.43   2.6   0.0       0.0   \n",
       "2                       65.36                     66.43   2.6   0.0       0.0   \n",
       "3                       65.36                     67.43   2.6   0.0       0.0   \n",
       "4                       65.36                     68.43   2.6   0.0       0.0   \n",
       "\n",
       "   courseDegree  \n",
       "0         154.3  \n",
       "1         154.3  \n",
       "2         154.3  \n",
       "3         154.3  \n",
       "4         154.3  "
      ]
     },
     "metadata": {},
     "output_type": "display_data"
    }
   ],
   "source": [
    "# ground_truth\n",
    "p = pathlib.Path(INPUT)\n",
    "gt_files = list(p.glob('train/*/*/ground_truth.csv'))\n",
    "print('ground_truth.csv count : ', len(gt_files))\n",
    "\n",
    "gts = []\n",
    "for gt_file in tqdm(gt_files):\n",
    "    gts.append(pd.read_csv(gt_file))\n",
    "ground_truth = pd.concat(gts)\n",
    "\n",
    "display(ground_truth.head())"
   ]
  },
  {
   "cell_type": "code",
   "execution_count": 33,
   "id": "headed-cancellation",
   "metadata": {},
   "outputs": [],
   "source": [
    "def add_distance_diff(df):\n",
    "    df['latDeg_prev'] = df['latDeg'].shift(1)\n",
    "    df['latDeg_next'] = df['latDeg'].shift(-1)\n",
    "    df['lngDeg_prev'] = df['lngDeg'].shift(1)\n",
    "    df['lngDeg_next'] = df['lngDeg'].shift(-1)\n",
    "    df['phone_prev'] = df['phone'].shift(1)\n",
    "    df['phone_next'] = df['phone'].shift(-1)\n",
    "    \n",
    "    df['dist_prev'] = calc_haversine(df['latDeg'], df['lngDeg'], df['latDeg_prev'], df['lngDeg_prev'])\n",
    "    df['dist_next'] = calc_haversine(df['latDeg'], df['lngDeg'], df['latDeg_next'], df['lngDeg_next'])\n",
    "    \n",
    "    df.loc[df['phone']!=df['phone_prev'], ['latDeg_prev', 'lngDeg_prev', 'dist_prev']] = np.nan\n",
    "    df.loc[df['phone']!=df['phone_next'], ['latDeg_next', 'lngDeg_next', 'dist_next']] = np.nan\n",
    "    \n",
    "    return df"
   ]
  },
  {
   "cell_type": "code",
   "execution_count": 34,
   "id": "wooden-progress",
   "metadata": {},
   "outputs": [],
   "source": [
    "# reject outlier\n",
    "train_ro = add_distance_diff(base_train)\n",
    "th = 50\n",
    "train_ro.loc[((train_ro['dist_prev'] > th) & (train_ro['dist_next'] > th)), ['latDeg', 'lngDeg']] = np.nan\n",
    "train_ro.to_csv(OUTPUT + '/train_ro.csv', index=False)"
   ]
  },
  {
   "cell_type": "code",
   "execution_count": 35,
   "id": "entire-bolivia",
   "metadata": {},
   "outputs": [],
   "source": [
    "def sp0_process(df, sp0_result):\n",
    "    df = df.merge(sp0_result, on=['collectionName', 'phoneName', 'millisSinceGpsEpoch'], how='inner')\n",
    "    df['phone'] = df['collectionName'] + '_' + df['phoneName']\n",
    "    df['group'] = df.groupby('phone').cumcount()\n",
    "    df.loc[(df['group']>0)&(df['isSpeed0']==1),'group'] = np.nan\n",
    "    df['group'] = df['group'].fillna(method='ffill')\n",
    "    df[['latDeg', 'lngDeg']] = df.groupby(['phone', 'group'])[['latDeg','lngDeg']].transform('mean')\n",
    "    return df"
   ]
  },
  {
   "cell_type": "code",
   "execution_count": 36,
   "id": "grand-saskatchewan",
   "metadata": {},
   "outputs": [],
   "source": [
    "train_sp0 = sp0_process(train_ro, train_speed0)\n",
    "train_sp0.to_csv(OUTPUT + '/train_sp0.csv', index=False)"
   ]
  },
  {
   "cell_type": "code",
   "execution_count": 37,
   "id": "trying-maple",
   "metadata": {},
   "outputs": [],
   "source": [
    "import simdkalman"
   ]
  },
  {
   "cell_type": "code",
   "execution_count": 38,
   "id": "surgical-envelope",
   "metadata": {},
   "outputs": [],
   "source": [
    "T = 1.0\n",
    "state_transition = np.array([[1, 0, T, 0, 0.5 * T ** 2, 0], [0, 1, 0, T, 0, 0.5 * T ** 2], [0, 0, 1, 0, T, 0],\n",
    "                             [0, 0, 0, 1, 0, T], [0, 0, 0, 0, 1, 0], [0, 0, 0, 0, 0, 1]])\n",
    "process_noise = np.diag([1e-5, 1e-5, 5e-6, 5e-6, 1e-6, 1e-6]) + np.ones((6, 6)) * 1e-9\n",
    "observation_model = np.array([[1, 0, 0, 0, 0, 0], [0, 1, 0, 0, 0, 0]])\n",
    "observation_noise = np.diag([5e-5, 5e-5]) + np.ones((2, 2)) * 1e-9\n",
    "\n",
    "kf = simdkalman.KalmanFilter(\n",
    "        state_transition = state_transition,\n",
    "        process_noise = process_noise,\n",
    "        observation_model = observation_model,\n",
    "        observation_noise = observation_noise)\n",
    "\n",
    "def apply_kf_smoothing(df, kf_=kf):\n",
    "    unique_paths = df[['collectionName', 'phoneName']].drop_duplicates().to_numpy()\n",
    "    for collection, phone in unique_paths:\n",
    "        cond = np.logical_and(df['collectionName'] == collection, df['phoneName'] == phone)\n",
    "        data = df[cond][['latDeg', 'lngDeg']].to_numpy()\n",
    "        data = data.reshape(1, len(data), 2)\n",
    "        smoothed = kf_.smooth(data)\n",
    "        df.loc[cond, 'latDeg'] = smoothed.states.mean[0, :, 0]\n",
    "        df.loc[cond, 'lngDeg'] = smoothed.states.mean[0, :, 1]\n",
    "    return df"
   ]
  },
  {
   "cell_type": "code",
   "execution_count": 39,
   "id": "hollow-oxygen",
   "metadata": {},
   "outputs": [
    {
     "name": "stderr",
     "output_type": "stream",
     "text": [
      "/opt/conda/lib/python3.7/site-packages/pandas/core/indexing.py:1743: SettingWithCopyWarning: \n",
      "A value is trying to be set on a copy of a slice from a DataFrame.\n",
      "Try using .loc[row_indexer,col_indexer] = value instead\n",
      "\n",
      "See the caveats in the documentation: https://pandas.pydata.org/pandas-docs/stable/user_guide/indexing.html#returning-a-view-versus-a-copy\n",
      "  isetter(ilocs[0], value)\n"
     ]
    }
   ],
   "source": [
    "cols = ['collectionName', 'phoneName', 'millisSinceGpsEpoch', 'latDeg', 'lngDeg']\n",
    "train_ro_kf = apply_kf_smoothing(train_sp0[cols])\n",
    "train_ro_kf.to_csv(OUTPUT + '/train_ro_kf.csv', index=False)"
   ]
  },
  {
   "cell_type": "code",
   "execution_count": 40,
   "id": "fundamental-lunch",
   "metadata": {},
   "outputs": [],
   "source": [
    "def percentile50(x):\n",
    "    return np.percentile(x, 50)\n",
    "def percentile95(x):\n",
    "    return np.percentile(x, 95)"
   ]
  },
  {
   "cell_type": "code",
   "execution_count": 41,
   "id": "outer-duncan",
   "metadata": {},
   "outputs": [],
   "source": [
    "def get_train_score(df, gt):\n",
    "    gt = gt.rename(columns={'latDeg':'latDeg_gt', 'lngDeg':'lngDeg_gt'})\n",
    "    df = df.merge(gt, on=['collectionName', 'phoneName', 'millisSinceGpsEpoch'], how='inner')\n",
    "    # calc_distance_error\n",
    "    df['err'] = calc_haversine(df['latDeg_gt'], df['lngDeg_gt'], df['latDeg'], df['lngDeg'])\n",
    "    # calc_evaluate_score\n",
    "    df['phone'] = df['collectionName'] + '_' + df['phoneName']\n",
    "    res = df.groupby('phone')['err'].agg([percentile50, percentile95])\n",
    "    res['p50_p90_mean'] = (res['percentile50'] + res['percentile95']) / 2 \n",
    "    score = res['p50_p90_mean'].mean()\n",
    "    return score"
   ]
  },
  {
   "cell_type": "code",
   "execution_count": 42,
   "id": "surrounded-raleigh",
   "metadata": {},
   "outputs": [
    {
     "name": "stdout",
     "output_type": "stream",
     "text": [
      "result :  4.367647466628065\n"
     ]
    }
   ],
   "source": [
    "print('result : ', get_train_score(train_ro_kf, ground_truth))"
   ]
  },
  {
   "cell_type": "code",
   "execution_count": 43,
   "id": "convenient-placement",
   "metadata": {},
   "outputs": [],
   "source": [
    "def make_lerp_data(df):\n",
    "    '''\n",
    "    Generate interpolated lat,lng values for different phone times in the same collection.\n",
    "    '''\n",
    "    org_columns = df.columns\n",
    "    \n",
    "    # Generate a combination of time x collection x phone and combine it with the original data (generate records to be interpolated)\n",
    "    time_list = df[['collectionName', 'millisSinceGpsEpoch']].drop_duplicates()\n",
    "    phone_list =df[['collectionName', 'phoneName']].drop_duplicates()\n",
    "    tmp = time_list.merge(phone_list, on='collectionName', how='outer')\n",
    "    \n",
    "    lerp_df = tmp.merge(df, on=['collectionName', 'millisSinceGpsEpoch', 'phoneName'], how='left')\n",
    "    lerp_df['phone'] = lerp_df['collectionName'] + '_' + lerp_df['phoneName']\n",
    "    lerp_df = lerp_df.sort_values(['phone', 'millisSinceGpsEpoch'])\n",
    "    \n",
    "    # linear interpolation\n",
    "    lerp_df['latDeg_prev'] = lerp_df['latDeg'].shift(1)\n",
    "    lerp_df['latDeg_next'] = lerp_df['latDeg'].shift(-1)\n",
    "    lerp_df['lngDeg_prev'] = lerp_df['lngDeg'].shift(1)\n",
    "    lerp_df['lngDeg_next'] = lerp_df['lngDeg'].shift(-1)\n",
    "    lerp_df['phone_prev'] = lerp_df['phone'].shift(1)\n",
    "    lerp_df['phone_next'] = lerp_df['phone'].shift(-1)\n",
    "    lerp_df['time_prev'] = lerp_df['millisSinceGpsEpoch'].shift(1)\n",
    "    lerp_df['time_next'] = lerp_df['millisSinceGpsEpoch'].shift(-1)\n",
    "    # Leave only records to be interpolated\n",
    "    lerp_df = lerp_df[(lerp_df['latDeg'].isnull())&(lerp_df['phone']==lerp_df['phone_prev'])&(lerp_df['phone']==lerp_df['phone_next'])].copy()\n",
    "    # calc lerp\n",
    "    lerp_df['latDeg'] = lerp_df['latDeg_prev'] + ((lerp_df['latDeg_next'] - lerp_df['latDeg_prev']) * ((lerp_df['millisSinceGpsEpoch'] - lerp_df['time_prev']) / (lerp_df['time_next'] - lerp_df['time_prev']))) \n",
    "    lerp_df['lngDeg'] = lerp_df['lngDeg_prev'] + ((lerp_df['lngDeg_next'] - lerp_df['lngDeg_prev']) * ((lerp_df['millisSinceGpsEpoch'] - lerp_df['time_prev']) / (lerp_df['time_next'] - lerp_df['time_prev']))) \n",
    "    \n",
    "    # Leave only the data that has a complete set of previous and next data.\n",
    "    lerp_df = lerp_df[~lerp_df['latDeg'].isnull()]\n",
    "    \n",
    "    return lerp_df[org_columns]"
   ]
  },
  {
   "cell_type": "code",
   "execution_count": 44,
   "id": "federal-saudi",
   "metadata": {},
   "outputs": [],
   "source": [
    "def calc_mean_pred(df, lerp_df):\n",
    "    '''\n",
    "    Make a prediction based on the average of the predictions of phones in the same collection.\n",
    "    '''\n",
    "    add_lerp = pd.concat([df, lerp_df])\n",
    "    mean_pred_result = add_lerp.groupby(['collectionName', 'millisSinceGpsEpoch'])[['latDeg', 'lngDeg']].mean().reset_index()\n",
    "    mean_pred_df = df[['collectionName', 'phoneName', 'millisSinceGpsEpoch']].copy()\n",
    "    mean_pred_df = mean_pred_df.merge(mean_pred_result[['collectionName', 'millisSinceGpsEpoch', 'latDeg', 'lngDeg']], on=['collectionName', 'millisSinceGpsEpoch'], how='left')\n",
    "    return mean_pred_df"
   ]
  },
  {
   "cell_type": "code",
   "execution_count": 45,
   "id": "searching-collectible",
   "metadata": {},
   "outputs": [],
   "source": [
    "train_lerp = make_lerp_data(train_ro_kf)\n",
    "train_mean_pred = calc_mean_pred(train_ro_kf, train_lerp)\n",
    "train_mean_pred.to_csv(OUTPUT + '/train_mean_pred.csv', index=False)"
   ]
  },
  {
   "cell_type": "code",
   "execution_count": 46,
   "id": "representative-sword",
   "metadata": {},
   "outputs": [
    {
     "name": "stdout",
     "output_type": "stream",
     "text": [
      "+ phones_mean_pred :  3.963164235398338\n"
     ]
    }
   ],
   "source": [
    "print('+ phones_mean_pred : ', get_train_score(train_mean_pred, ground_truth))"
   ]
  },
  {
   "cell_type": "markdown",
   "id": "governmental-highland",
   "metadata": {},
   "source": [
    "# make_sub"
   ]
  },
  {
   "cell_type": "code",
   "execution_count": 47,
   "id": "canadian-tactics",
   "metadata": {},
   "outputs": [],
   "source": [
    "base_test = pd.read_csv(INPUT + '/' + 'baseline_locations_test.csv')\n",
    "base_test = add_distance_diff(base_test)\n",
    "th = 50\n",
    "base_test.loc[((base_test['dist_prev'] > th) & (base_test['dist_next'] > th)), ['latDeg', 'lngDeg']] = np.nan\n",
    "base_test = sp0_process(base_test, test_speed0)\n",
    "\n",
    "test_kf = apply_kf_smoothing(base_test)\n",
    "\n",
    "test_lerp = make_lerp_data(test_kf)\n",
    "test_mean_pred = calc_mean_pred(test_kf, test_lerp)\n",
    "\n",
    "sample_sub['latDeg'] = test_mean_pred['latDeg']\n",
    "sample_sub['lngDeg'] = test_mean_pred['lngDeg']\n",
    "sample_sub.to_csv(OUTPUT + '/submission.csv', index=False)"
   ]
  },
  {
   "cell_type": "code",
   "execution_count": 48,
   "id": "automated-magazine",
   "metadata": {},
   "outputs": [
    {
     "name": "stdout",
     "output_type": "stream",
     "text": [
      "(91486, 4)\n"
     ]
    },
    {
     "data": {
      "text/html": [
       "<div>\n",
       "<style scoped>\n",
       "    .dataframe tbody tr th:only-of-type {\n",
       "        vertical-align: middle;\n",
       "    }\n",
       "\n",
       "    .dataframe tbody tr th {\n",
       "        vertical-align: top;\n",
       "    }\n",
       "\n",
       "    .dataframe thead th {\n",
       "        text-align: right;\n",
       "    }\n",
       "</style>\n",
       "<table border=\"1\" class=\"dataframe\">\n",
       "  <thead>\n",
       "    <tr style=\"text-align: right;\">\n",
       "      <th></th>\n",
       "      <th>phone</th>\n",
       "      <th>millisSinceGpsEpoch</th>\n",
       "      <th>latDeg</th>\n",
       "      <th>lngDeg</th>\n",
       "    </tr>\n",
       "  </thead>\n",
       "  <tbody>\n",
       "    <tr>\n",
       "      <th>0</th>\n",
       "      <td>2020-05-15-US-MTV-1_Pixel4</td>\n",
       "      <td>1273608785432</td>\n",
       "      <td>37.416593</td>\n",
       "      <td>-122.082024</td>\n",
       "    </tr>\n",
       "    <tr>\n",
       "      <th>1</th>\n",
       "      <td>2020-05-15-US-MTV-1_Pixel4</td>\n",
       "      <td>1273608786432</td>\n",
       "      <td>37.416600</td>\n",
       "      <td>-122.082048</td>\n",
       "    </tr>\n",
       "    <tr>\n",
       "      <th>2</th>\n",
       "      <td>2020-05-15-US-MTV-1_Pixel4</td>\n",
       "      <td>1273608787432</td>\n",
       "      <td>37.416604</td>\n",
       "      <td>-122.082062</td>\n",
       "    </tr>\n",
       "    <tr>\n",
       "      <th>3</th>\n",
       "      <td>2020-05-15-US-MTV-1_Pixel4</td>\n",
       "      <td>1273608788432</td>\n",
       "      <td>37.416607</td>\n",
       "      <td>-122.082068</td>\n",
       "    </tr>\n",
       "    <tr>\n",
       "      <th>4</th>\n",
       "      <td>2020-05-15-US-MTV-1_Pixel4</td>\n",
       "      <td>1273608789432</td>\n",
       "      <td>37.416607</td>\n",
       "      <td>-122.082071</td>\n",
       "    </tr>\n",
       "  </tbody>\n",
       "</table>\n",
       "</div>"
      ],
      "text/plain": [
       "                        phone  millisSinceGpsEpoch     latDeg      lngDeg\n",
       "0  2020-05-15-US-MTV-1_Pixel4        1273608785432  37.416593 -122.082024\n",
       "1  2020-05-15-US-MTV-1_Pixel4        1273608786432  37.416600 -122.082048\n",
       "2  2020-05-15-US-MTV-1_Pixel4        1273608787432  37.416604 -122.082062\n",
       "3  2020-05-15-US-MTV-1_Pixel4        1273608788432  37.416607 -122.082068\n",
       "4  2020-05-15-US-MTV-1_Pixel4        1273608789432  37.416607 -122.082071"
      ]
     },
     "execution_count": 48,
     "metadata": {},
     "output_type": "execute_result"
    }
   ],
   "source": [
    "print(sample_sub.shape)\n",
    "sample_sub.head()"
   ]
  },
  {
   "cell_type": "code",
   "execution_count": null,
   "id": "broken-seattle",
   "metadata": {},
   "outputs": [],
   "source": []
  }
 ],
 "metadata": {
  "kernelspec": {
   "display_name": "Python 3",
   "language": "python",
   "name": "python3"
  },
  "language_info": {
   "codemirror_mode": {
    "name": "ipython",
    "version": 3
   },
   "file_extension": ".py",
   "mimetype": "text/x-python",
   "name": "python",
   "nbconvert_exporter": "python",
   "pygments_lexer": "ipython3",
   "version": "3.7.10"
  }
 },
 "nbformat": 4,
 "nbformat_minor": 5
}
