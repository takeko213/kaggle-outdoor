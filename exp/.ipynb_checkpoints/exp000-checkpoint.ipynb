{
 "cells": [
  {
   "cell_type": "markdown",
   "id": "inappropriate-rubber",
   "metadata": {},
   "source": [
    "# exp000\n",
    "baselineの値を代入するだけ"
   ]
  },
  {
   "cell_type": "code",
   "execution_count": 18,
   "id": "accepted-muslim",
   "metadata": {},
   "outputs": [],
   "source": [
    "import os\n",
    "import pandas as pd\n",
    "import ipynb_path"
   ]
  },
  {
   "cell_type": "code",
   "execution_count": 19,
   "id": "handed-paste",
   "metadata": {},
   "outputs": [],
   "source": [
    "def get_nb_name():\n",
    "    nb_path = ipynb_path.get()\n",
    "    nb_name = nb_path.rsplit('/',1)[1].replace('.ipynb','')\n",
    "    return nb_name"
   ]
  },
  {
   "cell_type": "code",
   "execution_count": 20,
   "id": "explicit-richmond",
   "metadata": {},
   "outputs": [],
   "source": [
    "# directory setting\n",
    "nb_name = get_nb_name()\n",
    "INPUT = '../input/google-smartphone-decimeter-challenge'\n",
    "OUTPUT = '../output/' + nb_name\n",
    "os.makedirs(OUTPUT, exist_ok=True)"
   ]
  },
  {
   "cell_type": "code",
   "execution_count": 21,
   "id": "silver-adams",
   "metadata": {},
   "outputs": [],
   "source": [
    "base_train = pd.read_csv(INPUT + '/' + 'baseline_locations_train.csv')\n",
    "base_test = pd.read_csv(INPUT + '/' + 'baseline_locations_test.csv')\n",
    "sample_sub = pd.read_csv(INPUT + '/' + 'sample_submission.csv')"
   ]
  },
  {
   "cell_type": "code",
   "execution_count": 23,
   "id": "lovely-chapter",
   "metadata": {},
   "outputs": [],
   "source": [
    "sample_sub['latDeg'] = base_test['latDeg']\n",
    "sample_sub['lngDeg'] = base_test['lngDeg']"
   ]
  },
  {
   "cell_type": "code",
   "execution_count": 25,
   "id": "applicable-member",
   "metadata": {},
   "outputs": [],
   "source": [
    "sample_sub.to_csv(OUTPUT + '/sub.csv', index=False)"
   ]
  }
 ],
 "metadata": {
  "kernelspec": {
   "display_name": "Python 3",
   "language": "python",
   "name": "python3"
  },
  "language_info": {
   "codemirror_mode": {
    "name": "ipython",
    "version": 3
   },
   "file_extension": ".py",
   "mimetype": "text/x-python",
   "name": "python",
   "nbconvert_exporter": "python",
   "pygments_lexer": "ipython3",
   "version": "3.7.10"
  }
 },
 "nbformat": 4,
 "nbformat_minor": 5
}
