{
 "cells": [
  {
   "cell_type": "markdown",
   "id": "antique-slave",
   "metadata": {},
   "source": [
    "# exp051\n",
    "deg計算にセンサ＋baselineの特徴量加えて機械学習で予測"
   ]
  },
  {
   "cell_type": "code",
   "execution_count": 1,
   "id": "induced-avatar",
   "metadata": {},
   "outputs": [
    {
     "data": {
      "text/html": [
       "<style type='text/css'>\n",
       ".datatable table.frame { margin-bottom: 0; }\n",
       ".datatable table.frame thead { border-bottom: none; }\n",
       ".datatable table.frame tr.coltypes td {  color: #FFFFFF;  line-height: 6px;  padding: 0 0.5em;}\n",
       ".datatable .bool    { background: #DDDD99; }\n",
       ".datatable .object  { background: #565656; }\n",
       ".datatable .int     { background: #5D9E5D; }\n",
       ".datatable .float   { background: #4040CC; }\n",
       ".datatable .str     { background: #CC4040; }\n",
       ".datatable .row_index {  background: var(--jp-border-color3);  border-right: 1px solid var(--jp-border-color0);  color: var(--jp-ui-font-color3);  font-size: 9px;}\n",
       ".datatable .frame tr.coltypes .row_index {  background: var(--jp-border-color0);}\n",
       ".datatable th:nth-child(2) { padding-left: 12px; }\n",
       ".datatable .hellipsis {  color: var(--jp-cell-editor-border-color);}\n",
       ".datatable .vellipsis {  background: var(--jp-layout-color0);  color: var(--jp-cell-editor-border-color);}\n",
       ".datatable .na {  color: var(--jp-cell-editor-border-color);  font-size: 80%;}\n",
       ".datatable .footer { font-size: 9px; }\n",
       ".datatable .frame_dimensions {  background: var(--jp-border-color3);  border-top: 1px solid var(--jp-border-color0);  color: var(--jp-ui-font-color3);  display: inline-block;  opacity: 0.6;  padding: 1px 10px 1px 5px;}\n",
       "</style>\n"
      ],
      "text/plain": [
       "<IPython.core.display.HTML object>"
      ]
     },
     "metadata": {},
     "output_type": "display_data"
    }
   ],
   "source": [
    "import os\n",
    "import pandas as pd\n",
    "import numpy as np\n",
    "import ipynb_path\n",
    "import matplotlib.pyplot as plt\n",
    "from matplotlib_venn import venn2, venn2_circles\n",
    "import seaborn as sns\n",
    "import plotly\n",
    "import plotly.express as px\n",
    "%matplotlib inline\n",
    "pd.set_option('display.max_rows', 200)\n",
    "from math import * \n",
    "import warnings\n",
    "warnings.simplefilter('ignore')\n",
    "import pathlib\n",
    "import itertools\n",
    "import lightgbm as lgb\n",
    "from optuna.integration import lightgbm as optuna_lgb\n",
    "import simdkalman\n",
    "import optuna\n",
    "import pyproj\n",
    "from pyproj import Proj, transform\n",
    "from sklearn import metrics\n",
    "from sklearn.metrics import roc_curve, precision_recall_curve, confusion_matrix, accuracy_score"
   ]
  },
  {
   "cell_type": "code",
   "execution_count": 2,
   "id": "romance-arbor",
   "metadata": {},
   "outputs": [],
   "source": [
    "def get_nb_name():\n",
    "    nb_path = ipynb_path.get()\n",
    "    nb_name = nb_path.rsplit('/',1)[1].replace('.ipynb','')\n",
    "    return nb_name"
   ]
  },
  {
   "cell_type": "code",
   "execution_count": 3,
   "id": "electrical-providence",
   "metadata": {},
   "outputs": [],
   "source": [
    "# ground_truth\n",
    "def get_ground_truth():\n",
    "    p = pathlib.Path(INPUT)\n",
    "    gt_files = list(p.glob('train/*/*/ground_truth.csv'))\n",
    "\n",
    "    gts = []\n",
    "    for gt_file in gt_files:\n",
    "        gts.append(pd.read_csv(gt_file))\n",
    "    ground_truth = pd.concat(gts)\n",
    "\n",
    "    return ground_truth"
   ]
  },
  {
   "cell_type": "code",
   "execution_count": 4,
   "id": "unauthorized-quest",
   "metadata": {},
   "outputs": [],
   "source": [
    "def get_data():\n",
    "    base_train = pd.read_csv(INPUT + '/' + 'baseline_locations_train.csv')\n",
    "    base_test = pd.read_csv(INPUT + '/' + 'baseline_locations_test.csv')\n",
    "    sample_sub = pd.read_csv(INPUT + '/' + 'sample_submission.csv')\n",
    "    ground_truth = get_ground_truth()\n",
    "    return base_train, base_test, sample_sub, ground_truth"
   ]
  },
  {
   "cell_type": "code",
   "execution_count": 5,
   "id": "blocked-syntax",
   "metadata": {},
   "outputs": [],
   "source": [
    "def visualize_trafic(df, center, zoom=9):\n",
    "    fig = px.scatter_mapbox(df,\n",
    "                            \n",
    "                            # Here, plotly gets, (x,y) coordinates\n",
    "                            lat=\"latDeg\",\n",
    "                            lon=\"lngDeg\",\n",
    "                            \n",
    "                            #Here, plotly detects color of series\n",
    "                            color=\"phoneName\",\n",
    "                            labels=\"phoneName\",\n",
    "                            \n",
    "                            zoom=zoom,\n",
    "                            center=center,\n",
    "                            height=1000,\n",
    "                            width=2000)\n",
    "    fig.update_layout(mapbox_style='stamen-terrain')\n",
    "    fig.update_layout(margin={\"r\": 0, \"t\": 0, \"l\": 0, \"b\": 0})\n",
    "    fig.update_layout(title_text=\"GPS trafic\")\n",
    "    fig.show()"
   ]
  },
  {
   "cell_type": "code",
   "execution_count": 6,
   "id": "shared-emphasis",
   "metadata": {},
   "outputs": [],
   "source": [
    "def visualize_collection(df, collection):\n",
    "    target_df = df[df['collectionName']==collection].copy()\n",
    "    lat_center = target_df['latDeg'].mean()\n",
    "    lng_center = target_df['lngDeg'].mean()\n",
    "    center = {\"lat\":lat_center, \"lon\":lng_center}\n",
    "    \n",
    "    visualize_trafic(target_df, center)"
   ]
  },
  {
   "cell_type": "code",
   "execution_count": 7,
   "id": "stock-impossible",
   "metadata": {},
   "outputs": [],
   "source": [
    "def calc_haversine(lat1, lon1, lat2, lon2):\n",
    "    \"\"\"Calculates the great circle distance between two points\n",
    "    on the earth. Inputs are array-like and specified in decimal degrees.\n",
    "    \"\"\"\n",
    "    RADIUS = 6_367_000\n",
    "    lat1, lon1, lat2, lon2 = map(np.radians, [lat1, lon1, lat2, lon2])\n",
    "    dlat = lat2 - lat1\n",
    "    dlon = lon2 - lon1\n",
    "    a = np.sin(dlat/2)**2 + \\\n",
    "        np.cos(lat1) * np.cos(lat2) * np.sin(dlon/2)**2\n",
    "    dist = 2 * RADIUS * np.arcsin(a**0.5)\n",
    "    return dist"
   ]
  },
  {
   "cell_type": "code",
   "execution_count": 8,
   "id": "racial-bosnia",
   "metadata": {},
   "outputs": [],
   "source": [
    "# lowpass filter\n",
    "\n",
    "from scipy.signal import butter, lfilter\n",
    "\n",
    "def butter_lowpass(cutoff, fs, order=5):\n",
    "    nyq = 0.5 * fs\n",
    "    normal_cutoff = cutoff / nyq\n",
    "    b, a = butter(order, normal_cutoff, btype='low', analog=False)\n",
    "    return b, a\n",
    "\n",
    "def butter_lowpass_filter(data, cutoff, fs, order=5):\n",
    "    b, a = butter_lowpass(cutoff, fs, order=order)\n",
    "    y = lfilter(b, a, data)\n",
    "    return y\n",
    "\n",
    "order = 3\n",
    "fs = 50.0\n",
    "cutoff = 2.5"
   ]
  },
  {
   "cell_type": "code",
   "execution_count": 9,
   "id": "laden-mississippi",
   "metadata": {},
   "outputs": [],
   "source": [
    "# Offset correction\n",
    "# refarence https://github.com/J-ROCKET-BOY/SS-Fitting\n",
    "\n",
    "def SS_fit(data) : \n",
    "\n",
    "    x = data[:,[0]]\n",
    "    y = data[:,[1]]\n",
    "    z = data[:,[2]]\n",
    "\n",
    "    data_len = len(x)\n",
    "    \n",
    "    x2 = np.power(x,2)\n",
    "    y2 = np.power(y,2)\n",
    "    z2 = np.power(z,2)\n",
    "\n",
    "    r1 = -x*(x2+y2+z2)\n",
    "    r2= -y*(x2+y2+z2)\n",
    "    r3 = -z*(x2+y2+z2)\n",
    "    r4 = -(x2+y2+z2)\n",
    "\n",
    "    left = np.array([[np.sum(x2),np.sum(x*y),np.sum(x*z),np.sum(x)],\n",
    "                     [np.sum(x*y),np.sum(y2),np.sum(y*z),np.sum(y)],\n",
    "                     [np.sum(x*z),np.sum(y*z),np.sum(z2),np.sum(z)],\n",
    "                     [np.sum(x), np.sum(y), np.sum(z), data_len]])\n",
    "    \n",
    "    right = np.array([np.sum(r1),\n",
    "                      np.sum(r2),\n",
    "                      np.sum(r3),\n",
    "                      np.sum(r4)])\n",
    "    \n",
    "    si = np.dot(np.linalg.inv(left),right)\n",
    "\n",
    "    x0 = (-1/2)* si[0]\n",
    "    y0 = (-1/2)* si[1]\n",
    "    z0 = (-1/2)* si[2]\n",
    "    \n",
    "    return np.array([x0,y0,z0])"
   ]
  },
  {
   "cell_type": "code",
   "execution_count": 10,
   "id": "portuguese-terminal",
   "metadata": {},
   "outputs": [],
   "source": [
    "# Vincenty's formulae\n",
    "# refarence https://qiita.com/r-fuji/items/99ca549b963cedc106ab\n",
    "\n",
    "def vincenty_inverse(lat1, lon1, lat2, lon2):\n",
    "\n",
    "    # Not advanced\n",
    "    if isclose(lat1, lat2) and isclose(lon1, lon2):\n",
    "        return False\n",
    "    \n",
    "    # WGS84\n",
    "    a = 6378137.0\n",
    "    ƒ = 1 / 298.257223563\n",
    "    b = (1 - ƒ) * a\n",
    "\n",
    "    lat_1 = atan((1 - ƒ) * tan(radians(lat1)))\n",
    "    lat_2 = atan((1 - ƒ) * tan(radians(lat2)))\n",
    "    \n",
    "    lon_diff = radians(lon2) - radians(lon1)\n",
    "    λ = lon_diff\n",
    "\n",
    "    for i in range(1000):\n",
    "        sinλ = sin(λ)\n",
    "        cosλ = cos(λ)\n",
    "        sinσ = sqrt((cos(lat_2) * sinλ) ** 2 + (cos(lat_1) * sin(lat_2) - sin(lat_1) * cos(lat_2) * cosλ) ** 2)\n",
    "        cosσ = sin(lat_1) * sin(lat_2) + cos(lat_1) * cos(lat_2) * cosλ\n",
    "        σ = atan2(sinσ, cosσ)\n",
    "        sinα = cos(lat_1) * cos(lat_2) * sinλ / sinσ\n",
    "        cos2α = 1 - sinα ** 2\n",
    "        cos2σm = cosσ - 2 * sin(lat_1) * sin(lat_2) / cos2α\n",
    "        C = ƒ / 16 * cos2α * (4 + ƒ * (4 - 3 * cos2α))\n",
    "        λʹ = λ\n",
    "        λ = lon_diff + (1 - C) * ƒ * sinα * (σ + C * sinσ * (cos2σm + C * cosσ * (-1 + 2 * cos2σm ** 2)))\n",
    "        \n",
    "        if abs(λ - λʹ) <= 1e-12:\n",
    "            break\n",
    "    else:\n",
    "        return None\n",
    "\n",
    "    α = atan2(cos(lat_2) * sinλ, cos(lat_1) * sin(lat_2) - sin(lat_1) * cos(lat_2) * cosλ)\n",
    "\n",
    "    if α < 0:\n",
    "        α = α + pi * 2\n",
    "\n",
    "    return degrees(α)"
   ]
  },
  {
   "cell_type": "code",
   "execution_count": 11,
   "id": "chemical-house",
   "metadata": {},
   "outputs": [],
   "source": [
    "def calc3(row):\n",
    "    deg = - degrees(atan2(-1*row['calc2'],row['calc1']))\n",
    "    if deg < 0:\n",
    "        deg += 360\n",
    "    return deg "
   ]
  },
  {
   "cell_type": "code",
   "execution_count": 12,
   "id": "blond-ticket",
   "metadata": {},
   "outputs": [],
   "source": [
    "def calc_degree_by_gt(df):\n",
    "    phones = df['phone'].unique()\n",
    "    df['deg'] = np.nan\n",
    "    \n",
    "    for idx in range(len(df)-1):\n",
    "        if df.at[idx, 'phone'] != df.at[idx+1, 'phone']:\n",
    "            continue\n",
    "            \n",
    "        lat = df.at[idx, 'latDeg_gt']\n",
    "        lng = df.at[idx, 'lngDeg_gt']\n",
    "        lat_next = df.at[idx+1, 'latDeg_gt']\n",
    "        lng_next = df.at[idx+1, 'lngDeg_gt']\n",
    "        \n",
    "        res = vincenty_inverse(lat, lng, lat_next, lng_next)\n",
    "        if res:\n",
    "            df.at[idx, 'deg'] = res\n",
    "    \n",
    "    return df"
   ]
  },
  {
   "cell_type": "code",
   "execution_count": 13,
   "id": "clear-nightlife",
   "metadata": {},
   "outputs": [],
   "source": [
    "def calc_degree_by_imu(df, accel, mag):\n",
    "    df['phone'] = df['collectionName'] + '_' + df['phoneName']\n",
    "    accel['phone'] = accel['collectionName'] + '_' + accel['phoneName']\n",
    "    mag['phone'] = mag['collectionName'] + '_' + mag['phoneName']\n",
    "    \n",
    "    # utc -> gps\n",
    "    accel['millisSinceGpsEpoch'] = accel['utcTimeMillis'] - 315964800000 + 18000\n",
    "    mag['millisSinceGpsEpoch'] = mag['utcTimeMillis'] - 315964800000 + 18000\n",
    "    \n",
    "    # resampling追加\n",
    "    df['secondSinceGpsEpoch'] = df['millisSinceGpsEpoch'] // 1000\n",
    "    accel['secondSinceGpsEpoch'] = accel['millisSinceGpsEpoch'] // 1000\n",
    "    mag['secondSinceGpsEpoch'] = mag['millisSinceGpsEpoch'] // 1000\n",
    "    \n",
    "    # clipping\n",
    "    accel[['UncalAccelXMps2', 'UncalAccelYMps2', 'UncalAccelZMps2']] = accel.groupby('phone')['UncalAccelXMps2', 'UncalAccelYMps2', 'UncalAccelZMps2'].transform(lambda x: x.clip(x.quantile(0.001), x.quantile(0.999)))\n",
    "    mag[['UncalMagXMicroT', 'UncalMagYMicroT', 'UncalMagZMicroT']] = mag.groupby('phone')['UncalMagXMicroT', 'UncalMagYMicroT', 'UncalMagZMicroT'].transform(lambda x: x.clip(x.quantile(0.001), x.quantile(0.999)))\n",
    "    \n",
    "    #     acce filtering and smooting\n",
    "    accel[\"global_x\"] = accel[\"UncalAccelZMps2\"]\n",
    "    accel[\"global_y\"] = accel[\"UncalAccelXMps2\"]\n",
    "    accel[\"global_z\"] = accel[\"UncalAccelYMps2\"]\n",
    "    accel[\"x_f\"] = butter_lowpass_filter(accel[\"global_x\"], cutoff, fs, order)\n",
    "    accel[\"y_f\"] = butter_lowpass_filter(accel[\"global_y\"], cutoff, fs, order)\n",
    "    accel[\"z_f\"] = butter_lowpass_filter(accel[\"global_z\"], cutoff, fs, order)\n",
    "    \n",
    "    mag[\"global_mx\"] = mag[\"UncalMagZMicroT\"]\n",
    "    mag[\"global_my\"] = mag[\"UncalMagYMicroT\"]\n",
    "    mag[\"global_mz\"] = mag[\"UncalMagXMicroT\"]\n",
    "\n",
    "    \n",
    "    output_df = pd.DataFrame()\n",
    "    for phone in mag['phone'].unique():\n",
    "        df_tmp = df[df['phone']==phone]\n",
    "        accel_tmp = accel[accel['phone']==phone].copy()\n",
    "        mag_tmp = mag[mag['phone']==phone].copy()\n",
    "    \n",
    "        smooth_range = 1000\n",
    "        accel_tmp[\"x_f\"] = accel_tmp.groupby('phone')[\"x_f\"].rolling(smooth_range, center=True, min_periods=1).mean().values\n",
    "        accel_tmp[\"y_f\"] = accel_tmp.groupby('phone')[\"y_f\"].rolling(smooth_range, center=True, min_periods=1).mean().values\n",
    "        accel_tmp[\"z_f\"] = accel_tmp.groupby('phone')[\"z_f\"].rolling(smooth_range, center=True, min_periods=1).mean().values\n",
    "\n",
    "        mag_tmp[\"global_mx\"] = mag_tmp.groupby('phone')[\"global_mx\"].rolling(smooth_range,  min_periods=1).mean().values\n",
    "        mag_tmp[\"global_my\"] = mag_tmp.groupby('phone')[\"global_mz\"].rolling(smooth_range,  min_periods=1).mean().values\n",
    "        mag_tmp[\"global_mz\"] = mag_tmp.groupby('phone')[\"global_my\"].rolling(smooth_range,  min_periods=1).mean().values\n",
    "\n",
    "        offset = SS_fit(np.array(mag_tmp[[\"global_mx\",\"global_my\",\"global_mz\"]]))\n",
    "        mag_tmp[\"global_mx\"] = (mag_tmp[\"global_mx\"] - offset[0])*-1\n",
    "        mag_tmp[\"global_my\"] = mag_tmp[\"global_my\"] - offset[1]\n",
    "        mag_tmp[\"global_mz\"] = mag_tmp[\"global_mz\"] - offset[2]\n",
    "        \n",
    "        accel_tmp = accel_tmp.groupby(['phone', 'secondSinceGpsEpoch'])['x_f', 'y_f', 'z_f'].mean().reset_index()\n",
    "        accel_tmp.columns = ['phone', 'secondSinceGpsEpoch', 'x_f', 'y_f', 'z_f']\n",
    "    \n",
    "        mag_tmp = mag_tmp.groupby(['phone', 'secondSinceGpsEpoch'])['global_mx', 'global_my', 'global_mz'].mean().reset_index()\n",
    "        mag_tmp.columns = ['phone', 'secondSinceGpsEpoch', 'global_mx', 'global_my', 'global_mz']    \n",
    "\n",
    "        df_tmp = df_tmp.merge(accel_tmp, on=['phone', 'secondSinceGpsEpoch'], how='left')\n",
    "        df_tmp = df_tmp.merge(mag_tmp, on=['phone', 'secondSinceGpsEpoch'], how='left')\n",
    "        \n",
    "        start_mean_range = 10\n",
    "        x_start_mean = df_tmp[:start_mean_range][\"x_f\"].mean()\n",
    "        y_start_mean = df_tmp[:start_mean_range][\"y_f\"].mean()\n",
    "        z_start_mean = df_tmp[:start_mean_range][\"z_f\"].mean() \n",
    "\n",
    "        #     roll and picth, device tilt\n",
    "        r = atan(y_start_mean/z_start_mean)\n",
    "        p = atan(x_start_mean/(y_start_mean**2 + z_start_mean**2)**0.5)\n",
    "\n",
    "    #     calculation　degrees\n",
    "\n",
    "        df_tmp[\"calc1\"] = df_tmp[\"global_mx\"]*cos(p) + df_tmp[\"global_my\"]*sin(r)*sin(p) + df_tmp[\"global_mz\"]*sin(p)*cos(r)\n",
    "        df_tmp[\"calc2\"] = df_tmp[\"global_mz\"]*sin(r) - df_tmp[\"global_my\"]*cos(r)\n",
    "        df_tmp[\"calc_deg\"] = df_tmp.apply(calc3, axis=1)\n",
    "        output_df = output_df.append(df_tmp)\n",
    "    return output_df"
   ]
  },
  {
   "cell_type": "code",
   "execution_count": 14,
   "id": "miniature-strip",
   "metadata": {},
   "outputs": [],
   "source": [
    "# directory setting\n",
    "nb_name = get_nb_name()\n",
    "INPUT = '../input/google-smartphone-decimeter-challenge'\n",
    "OUTPUT = '../output/' + nb_name\n",
    "os.makedirs(OUTPUT, exist_ok=True)"
   ]
  },
  {
   "cell_type": "markdown",
   "id": "conditional-flesh",
   "metadata": {},
   "source": [
    "# データ読み込み"
   ]
  },
  {
   "cell_type": "code",
   "execution_count": 15,
   "id": "regular-product",
   "metadata": {},
   "outputs": [],
   "source": [
    "accel_train = pd.read_csv(INPUT + '/prep/gnss/train/UncalAccel.csv')\n",
    "mag_train = pd.read_csv(INPUT + '/prep/gnss/train/UncalMag.csv')\n",
    "accel_test = pd.read_csv(INPUT + '/prep/gnss/test/UncalAccel.csv')\n",
    "mag_test = pd.read_csv(INPUT + '/prep/gnss/test/UncalMag.csv')\n",
    "train = pd.read_csv(INPUT + '/' + 'baseline_locations_train.csv')\n",
    "test = pd.read_csv(INPUT + '/' + 'baseline_locations_test.csv')\n",
    "ground_truth = pd.read_csv(INPUT + '/prep/ground_truth_train.csv')\n",
    "\n",
    "ground_truth = ground_truth.rename(columns={'latDeg':'latDeg_gt', 'lngDeg':'lngDeg_gt'})\n",
    "gt = ground_truth[['collectionName', 'phoneName', 'millisSinceGpsEpoch', 'latDeg_gt', 'lngDeg_gt', 'speedMps', 'courseDegree']].copy()\n",
    "train = train.merge(gt, on=['collectionName', 'phoneName', 'millisSinceGpsEpoch'], how='inner')"
   ]
  },
  {
   "cell_type": "markdown",
   "id": "underlying-barrier",
   "metadata": {},
   "source": [
    "# IMUからdegを算出"
   ]
  },
  {
   "cell_type": "code",
   "execution_count": 16,
   "id": "neutral-missouri",
   "metadata": {},
   "outputs": [],
   "source": [
    "train = calc_degree_by_imu(train, accel_train, mag_train)\n",
    "test = calc_degree_by_imu(test, accel_test, mag_test)"
   ]
  },
  {
   "cell_type": "markdown",
   "id": "pressed-reviewer",
   "metadata": {},
   "source": [
    "# 座標移動からdegを算出"
   ]
  },
  {
   "cell_type": "code",
   "execution_count": 17,
   "id": "usual-morgan",
   "metadata": {},
   "outputs": [],
   "source": [
    "train = train.reset_index(drop=True)\n",
    "test = test.reset_index(drop=True)\n",
    "\n",
    "train = calc_degree_by_gt(train)"
   ]
  },
  {
   "cell_type": "code",
   "execution_count": 18,
   "id": "desirable-regard",
   "metadata": {},
   "outputs": [
    {
     "data": {
      "text/html": [
       "<div>\n",
       "<style scoped>\n",
       "    .dataframe tbody tr th:only-of-type {\n",
       "        vertical-align: middle;\n",
       "    }\n",
       "\n",
       "    .dataframe tbody tr th {\n",
       "        vertical-align: top;\n",
       "    }\n",
       "\n",
       "    .dataframe thead th {\n",
       "        text-align: right;\n",
       "    }\n",
       "</style>\n",
       "<table border=\"1\" class=\"dataframe\">\n",
       "  <thead>\n",
       "    <tr style=\"text-align: right;\">\n",
       "      <th></th>\n",
       "      <th>collectionName</th>\n",
       "      <th>phoneName</th>\n",
       "      <th>millisSinceGpsEpoch</th>\n",
       "      <th>latDeg</th>\n",
       "      <th>lngDeg</th>\n",
       "      <th>heightAboveWgs84EllipsoidM</th>\n",
       "      <th>phone</th>\n",
       "      <th>latDeg_gt</th>\n",
       "      <th>lngDeg_gt</th>\n",
       "      <th>speedMps</th>\n",
       "      <th>...</th>\n",
       "      <th>x_f</th>\n",
       "      <th>y_f</th>\n",
       "      <th>z_f</th>\n",
       "      <th>global_mx</th>\n",
       "      <th>global_my</th>\n",
       "      <th>global_mz</th>\n",
       "      <th>calc1</th>\n",
       "      <th>calc2</th>\n",
       "      <th>calc_deg</th>\n",
       "      <th>deg</th>\n",
       "    </tr>\n",
       "  </thead>\n",
       "  <tbody>\n",
       "    <tr>\n",
       "      <th>0</th>\n",
       "      <td>2020-05-21-US-MTV-2</td>\n",
       "      <td>Pixel4</td>\n",
       "      <td>1274131364434</td>\n",
       "      <td>37.628920</td>\n",
       "      <td>-122.426283</td>\n",
       "      <td>-6.52</td>\n",
       "      <td>2020-05-21-US-MTV-2_Pixel4</td>\n",
       "      <td>37.628927</td>\n",
       "      <td>-122.426295</td>\n",
       "      <td>0.0</td>\n",
       "      <td>...</td>\n",
       "      <td>0.743162</td>\n",
       "      <td>-0.648938</td>\n",
       "      <td>9.677418</td>\n",
       "      <td>-21.300935</td>\n",
       "      <td>-2.563242</td>\n",
       "      <td>-6.308718</td>\n",
       "      <td>-21.715691</td>\n",
       "      <td>2.966373</td>\n",
       "      <td>172.221514</td>\n",
       "      <td>NaN</td>\n",
       "    </tr>\n",
       "    <tr>\n",
       "      <th>1</th>\n",
       "      <td>2020-05-21-US-MTV-2</td>\n",
       "      <td>Pixel4</td>\n",
       "      <td>1274131365434</td>\n",
       "      <td>37.628876</td>\n",
       "      <td>-122.426267</td>\n",
       "      <td>1.82</td>\n",
       "      <td>2020-05-21-US-MTV-2_Pixel4</td>\n",
       "      <td>37.628927</td>\n",
       "      <td>-122.426295</td>\n",
       "      <td>0.0</td>\n",
       "      <td>...</td>\n",
       "      <td>0.756263</td>\n",
       "      <td>-0.629775</td>\n",
       "      <td>9.756054</td>\n",
       "      <td>-22.126694</td>\n",
       "      <td>-2.557740</td>\n",
       "      <td>-6.296307</td>\n",
       "      <td>-22.537969</td>\n",
       "      <td>2.960079</td>\n",
       "      <td>172.517745</td>\n",
       "      <td>NaN</td>\n",
       "    </tr>\n",
       "    <tr>\n",
       "      <th>2</th>\n",
       "      <td>2020-05-21-US-MTV-2</td>\n",
       "      <td>Pixel4</td>\n",
       "      <td>1274131366434</td>\n",
       "      <td>37.628894</td>\n",
       "      <td>-122.426274</td>\n",
       "      <td>-0.82</td>\n",
       "      <td>2020-05-21-US-MTV-2_Pixel4</td>\n",
       "      <td>37.628927</td>\n",
       "      <td>-122.426295</td>\n",
       "      <td>0.0</td>\n",
       "      <td>...</td>\n",
       "      <td>0.751826</td>\n",
       "      <td>-0.629631</td>\n",
       "      <td>9.755231</td>\n",
       "      <td>-22.311710</td>\n",
       "      <td>-2.595542</td>\n",
       "      <td>-6.302302</td>\n",
       "      <td>-22.722693</td>\n",
       "      <td>2.998190</td>\n",
       "      <td>172.483416</td>\n",
       "      <td>NaN</td>\n",
       "    </tr>\n",
       "    <tr>\n",
       "      <th>3</th>\n",
       "      <td>2020-05-21-US-MTV-2</td>\n",
       "      <td>Pixel4</td>\n",
       "      <td>1274131367434</td>\n",
       "      <td>37.628883</td>\n",
       "      <td>-122.426266</td>\n",
       "      <td>1.03</td>\n",
       "      <td>2020-05-21-US-MTV-2_Pixel4</td>\n",
       "      <td>37.628927</td>\n",
       "      <td>-122.426295</td>\n",
       "      <td>0.0</td>\n",
       "      <td>...</td>\n",
       "      <td>0.747335</td>\n",
       "      <td>-0.630461</td>\n",
       "      <td>9.754735</td>\n",
       "      <td>-22.513921</td>\n",
       "      <td>-2.631065</td>\n",
       "      <td>-6.313635</td>\n",
       "      <td>-22.924988</td>\n",
       "      <td>3.034373</td>\n",
       "      <td>172.460105</td>\n",
       "      <td>NaN</td>\n",
       "    </tr>\n",
       "    <tr>\n",
       "      <th>4</th>\n",
       "      <td>2020-05-21-US-MTV-2</td>\n",
       "      <td>Pixel4</td>\n",
       "      <td>1274131368434</td>\n",
       "      <td>37.628909</td>\n",
       "      <td>-122.426295</td>\n",
       "      <td>-3.86</td>\n",
       "      <td>2020-05-21-US-MTV-2_Pixel4</td>\n",
       "      <td>37.628927</td>\n",
       "      <td>-122.426295</td>\n",
       "      <td>0.0</td>\n",
       "      <td>...</td>\n",
       "      <td>0.747015</td>\n",
       "      <td>-0.631099</td>\n",
       "      <td>9.755063</td>\n",
       "      <td>-22.456317</td>\n",
       "      <td>-2.654004</td>\n",
       "      <td>-6.327174</td>\n",
       "      <td>-22.868504</td>\n",
       "      <td>3.058140</td>\n",
       "      <td>172.383188</td>\n",
       "      <td>NaN</td>\n",
       "    </tr>\n",
       "    <tr>\n",
       "      <th>...</th>\n",
       "      <td>...</td>\n",
       "      <td>...</td>\n",
       "      <td>...</td>\n",
       "      <td>...</td>\n",
       "      <td>...</td>\n",
       "      <td>...</td>\n",
       "      <td>...</td>\n",
       "      <td>...</td>\n",
       "      <td>...</td>\n",
       "      <td>...</td>\n",
       "      <td>...</td>\n",
       "      <td>...</td>\n",
       "      <td>...</td>\n",
       "      <td>...</td>\n",
       "      <td>...</td>\n",
       "      <td>...</td>\n",
       "      <td>...</td>\n",
       "      <td>...</td>\n",
       "      <td>...</td>\n",
       "      <td>...</td>\n",
       "      <td>...</td>\n",
       "    </tr>\n",
       "    <tr>\n",
       "      <th>122070</th>\n",
       "      <td>2020-05-29-US-MTV-2</td>\n",
       "      <td>Pixel4XL</td>\n",
       "      <td>1274832059447</td>\n",
       "      <td>37.416390</td>\n",
       "      <td>-122.078071</td>\n",
       "      <td>-26.83</td>\n",
       "      <td>2020-05-29-US-MTV-2_Pixel4XL</td>\n",
       "      <td>37.415923</td>\n",
       "      <td>-122.080712</td>\n",
       "      <td>0.0</td>\n",
       "      <td>...</td>\n",
       "      <td>NaN</td>\n",
       "      <td>NaN</td>\n",
       "      <td>NaN</td>\n",
       "      <td>8.396728</td>\n",
       "      <td>23.438402</td>\n",
       "      <td>15.720410</td>\n",
       "      <td>11.400012</td>\n",
       "      <td>-22.770169</td>\n",
       "      <td>296.595093</td>\n",
       "      <td>NaN</td>\n",
       "    </tr>\n",
       "    <tr>\n",
       "      <th>122071</th>\n",
       "      <td>2020-05-29-US-MTV-2</td>\n",
       "      <td>Pixel4XL</td>\n",
       "      <td>1274832060447</td>\n",
       "      <td>37.416390</td>\n",
       "      <td>-122.078071</td>\n",
       "      <td>-26.83</td>\n",
       "      <td>2020-05-29-US-MTV-2_Pixel4XL</td>\n",
       "      <td>37.415923</td>\n",
       "      <td>-122.080712</td>\n",
       "      <td>0.0</td>\n",
       "      <td>...</td>\n",
       "      <td>NaN</td>\n",
       "      <td>NaN</td>\n",
       "      <td>NaN</td>\n",
       "      <td>8.458121</td>\n",
       "      <td>23.400291</td>\n",
       "      <td>15.718915</td>\n",
       "      <td>11.459717</td>\n",
       "      <td>-22.732151</td>\n",
       "      <td>296.753556</td>\n",
       "      <td>NaN</td>\n",
       "    </tr>\n",
       "    <tr>\n",
       "      <th>122072</th>\n",
       "      <td>2020-05-29-US-MTV-2</td>\n",
       "      <td>Pixel4XL</td>\n",
       "      <td>1274832061447</td>\n",
       "      <td>37.416390</td>\n",
       "      <td>-122.078071</td>\n",
       "      <td>-26.83</td>\n",
       "      <td>2020-05-29-US-MTV-2_Pixel4XL</td>\n",
       "      <td>37.415923</td>\n",
       "      <td>-122.080712</td>\n",
       "      <td>0.0</td>\n",
       "      <td>...</td>\n",
       "      <td>NaN</td>\n",
       "      <td>NaN</td>\n",
       "      <td>NaN</td>\n",
       "      <td>8.536251</td>\n",
       "      <td>23.342974</td>\n",
       "      <td>15.712876</td>\n",
       "      <td>11.534846</td>\n",
       "      <td>-22.675132</td>\n",
       "      <td>296.962452</td>\n",
       "      <td>NaN</td>\n",
       "    </tr>\n",
       "    <tr>\n",
       "      <th>122073</th>\n",
       "      <td>2020-05-29-US-MTV-2</td>\n",
       "      <td>Pixel4XL</td>\n",
       "      <td>1274832062447</td>\n",
       "      <td>37.416390</td>\n",
       "      <td>-122.078071</td>\n",
       "      <td>-26.83</td>\n",
       "      <td>2020-05-29-US-MTV-2_Pixel4XL</td>\n",
       "      <td>37.415923</td>\n",
       "      <td>-122.080712</td>\n",
       "      <td>0.0</td>\n",
       "      <td>...</td>\n",
       "      <td>NaN</td>\n",
       "      <td>NaN</td>\n",
       "      <td>NaN</td>\n",
       "      <td>8.650278</td>\n",
       "      <td>23.247316</td>\n",
       "      <td>15.701961</td>\n",
       "      <td>11.644003</td>\n",
       "      <td>-22.580006</td>\n",
       "      <td>297.279145</td>\n",
       "      <td>NaN</td>\n",
       "    </tr>\n",
       "    <tr>\n",
       "      <th>122074</th>\n",
       "      <td>2020-05-29-US-MTV-2</td>\n",
       "      <td>Pixel4XL</td>\n",
       "      <td>1274832063447</td>\n",
       "      <td>37.416390</td>\n",
       "      <td>-122.078071</td>\n",
       "      <td>-26.83</td>\n",
       "      <td>2020-05-29-US-MTV-2_Pixel4XL</td>\n",
       "      <td>37.415923</td>\n",
       "      <td>-122.080712</td>\n",
       "      <td>0.0</td>\n",
       "      <td>...</td>\n",
       "      <td>NaN</td>\n",
       "      <td>NaN</td>\n",
       "      <td>NaN</td>\n",
       "      <td>NaN</td>\n",
       "      <td>NaN</td>\n",
       "      <td>NaN</td>\n",
       "      <td>NaN</td>\n",
       "      <td>NaN</td>\n",
       "      <td>NaN</td>\n",
       "      <td>NaN</td>\n",
       "    </tr>\n",
       "  </tbody>\n",
       "</table>\n",
       "<p>122075 rows × 22 columns</p>\n",
       "</div>"
      ],
      "text/plain": [
       "             collectionName phoneName  millisSinceGpsEpoch     latDeg  \\\n",
       "0       2020-05-21-US-MTV-2    Pixel4        1274131364434  37.628920   \n",
       "1       2020-05-21-US-MTV-2    Pixel4        1274131365434  37.628876   \n",
       "2       2020-05-21-US-MTV-2    Pixel4        1274131366434  37.628894   \n",
       "3       2020-05-21-US-MTV-2    Pixel4        1274131367434  37.628883   \n",
       "4       2020-05-21-US-MTV-2    Pixel4        1274131368434  37.628909   \n",
       "...                     ...       ...                  ...        ...   \n",
       "122070  2020-05-29-US-MTV-2  Pixel4XL        1274832059447  37.416390   \n",
       "122071  2020-05-29-US-MTV-2  Pixel4XL        1274832060447  37.416390   \n",
       "122072  2020-05-29-US-MTV-2  Pixel4XL        1274832061447  37.416390   \n",
       "122073  2020-05-29-US-MTV-2  Pixel4XL        1274832062447  37.416390   \n",
       "122074  2020-05-29-US-MTV-2  Pixel4XL        1274832063447  37.416390   \n",
       "\n",
       "            lngDeg  heightAboveWgs84EllipsoidM                         phone  \\\n",
       "0      -122.426283                       -6.52    2020-05-21-US-MTV-2_Pixel4   \n",
       "1      -122.426267                        1.82    2020-05-21-US-MTV-2_Pixel4   \n",
       "2      -122.426274                       -0.82    2020-05-21-US-MTV-2_Pixel4   \n",
       "3      -122.426266                        1.03    2020-05-21-US-MTV-2_Pixel4   \n",
       "4      -122.426295                       -3.86    2020-05-21-US-MTV-2_Pixel4   \n",
       "...            ...                         ...                           ...   \n",
       "122070 -122.078071                      -26.83  2020-05-29-US-MTV-2_Pixel4XL   \n",
       "122071 -122.078071                      -26.83  2020-05-29-US-MTV-2_Pixel4XL   \n",
       "122072 -122.078071                      -26.83  2020-05-29-US-MTV-2_Pixel4XL   \n",
       "122073 -122.078071                      -26.83  2020-05-29-US-MTV-2_Pixel4XL   \n",
       "122074 -122.078071                      -26.83  2020-05-29-US-MTV-2_Pixel4XL   \n",
       "\n",
       "        latDeg_gt   lngDeg_gt  speedMps  ...       x_f       y_f       z_f  \\\n",
       "0       37.628927 -122.426295       0.0  ...  0.743162 -0.648938  9.677418   \n",
       "1       37.628927 -122.426295       0.0  ...  0.756263 -0.629775  9.756054   \n",
       "2       37.628927 -122.426295       0.0  ...  0.751826 -0.629631  9.755231   \n",
       "3       37.628927 -122.426295       0.0  ...  0.747335 -0.630461  9.754735   \n",
       "4       37.628927 -122.426295       0.0  ...  0.747015 -0.631099  9.755063   \n",
       "...           ...         ...       ...  ...       ...       ...       ...   \n",
       "122070  37.415923 -122.080712       0.0  ...       NaN       NaN       NaN   \n",
       "122071  37.415923 -122.080712       0.0  ...       NaN       NaN       NaN   \n",
       "122072  37.415923 -122.080712       0.0  ...       NaN       NaN       NaN   \n",
       "122073  37.415923 -122.080712       0.0  ...       NaN       NaN       NaN   \n",
       "122074  37.415923 -122.080712       0.0  ...       NaN       NaN       NaN   \n",
       "\n",
       "        global_mx  global_my  global_mz      calc1      calc2    calc_deg  deg  \n",
       "0      -21.300935  -2.563242  -6.308718 -21.715691   2.966373  172.221514  NaN  \n",
       "1      -22.126694  -2.557740  -6.296307 -22.537969   2.960079  172.517745  NaN  \n",
       "2      -22.311710  -2.595542  -6.302302 -22.722693   2.998190  172.483416  NaN  \n",
       "3      -22.513921  -2.631065  -6.313635 -22.924988   3.034373  172.460105  NaN  \n",
       "4      -22.456317  -2.654004  -6.327174 -22.868504   3.058140  172.383188  NaN  \n",
       "...           ...        ...        ...        ...        ...         ...  ...  \n",
       "122070   8.396728  23.438402  15.720410  11.400012 -22.770169  296.595093  NaN  \n",
       "122071   8.458121  23.400291  15.718915  11.459717 -22.732151  296.753556  NaN  \n",
       "122072   8.536251  23.342974  15.712876  11.534846 -22.675132  296.962452  NaN  \n",
       "122073   8.650278  23.247316  15.701961  11.644003 -22.580006  297.279145  NaN  \n",
       "122074        NaN        NaN        NaN        NaN        NaN         NaN  NaN  \n",
       "\n",
       "[122075 rows x 22 columns]"
      ]
     },
     "execution_count": 18,
     "metadata": {},
     "output_type": "execute_result"
    }
   ],
   "source": [
    "train"
   ]
  },
  {
   "cell_type": "code",
   "execution_count": 19,
   "id": "gothic-devil",
   "metadata": {},
   "outputs": [],
   "source": [
    "train_calc_deg = train[['phone', 'millisSinceGpsEpoch', 'x_f', 'y_f', 'z_f', 'global_mx', 'global_my', 'global_mz', 'calc_deg', 'courseDegree']].copy()\n",
    "test_calc_deg = test[['phone', 'millisSinceGpsEpoch', 'x_f', 'y_f', 'z_f', 'global_mx', 'global_my', 'global_mz', 'calc_deg']].copy()"
   ]
  },
  {
   "cell_type": "code",
   "execution_count": 34,
   "id": "broad-freeware",
   "metadata": {},
   "outputs": [
    {
     "name": "stdout",
     "output_type": "stream",
     "text": [
      "total :  84.5024899146548\n",
      "2020-05-21-US-MTV-2_Pixel4 :  87.78717058376309\n",
      "2020-05-21-US-MTV-2_Pixel4XL :  47.553805968522695\n",
      "2020-06-11-US-MTV-1_Pixel4 :  53.490707520070636\n",
      "2020-06-11-US-MTV-1_Pixel4XL :  37.38967507227319\n",
      "2020-06-05-US-MTV-2_Pixel4 :  82.82281181335607\n",
      "2020-06-05-US-MTV-2_Pixel4XL :  75.52969852883378\n",
      "2020-07-17-US-MTV-1_Mi8 :  122.12343774367895\n",
      "2021-04-22-US-SJC-1_Pixel4 :  197.61306859900571\n",
      "2021-04-22-US-SJC-1_SamsungS20Ultra :  192.61064181914512\n",
      "2020-05-14-US-MTV-2_Pixel4 :  37.986392947527335\n",
      "2020-05-14-US-MTV-2_Pixel4XLModded :  165.42007293534763\n",
      "2021-01-05-US-SVL-1_Pixel5 :  98.79141043277872\n",
      "2021-01-05-US-SVL-1_Pixel4 :  97.3379811708587\n",
      "2021-01-05-US-SVL-1_Pixel4XL :  95.50597771739793\n",
      "2021-01-05-US-SVL-1_Mi8 :  52.551869475509335\n",
      "2020-06-04-US-MTV-1_Pixel4 :  68.83339563474938\n",
      "2020-06-04-US-MTV-1_Pixel4XL :  15.096926576958422\n",
      "2020-06-04-US-MTV-1_Pixel4XLModded :  183.20118569355273\n",
      "2021-01-05-US-SVL-2_Pixel4Modded :  107.99298283867732\n",
      "2021-01-05-US-SVL-2_Pixel4 :  108.41353636074994\n",
      "2021-01-05-US-SVL-2_Pixel4XL :  105.81348067475089\n",
      "2021-04-15-US-MTV-1_Pixel5 :  46.51388154988889\n",
      "2021-04-15-US-MTV-1_Pixel4Modded :  64.50518153298806\n",
      "2021-04-15-US-MTV-1_Pixel4 :  43.91945160619086\n",
      "2021-04-15-US-MTV-1_SamsungS20Ultra :  44.23848428350488\n",
      "2020-09-04-US-SF-2_Pixel4 :  44.93598318750283\n",
      "2020-09-04-US-SF-2_Pixel4XL :  15.035701841237662\n",
      "2020-09-04-US-SF-2_Mi8 :  20.94182047789888\n",
      "2020-05-14-US-MTV-1_Pixel4 :  47.346488317343805\n",
      "2020-05-14-US-MTV-1_Pixel4XLModded :  170.5544045762034\n",
      "2021-04-28-US-MTV-1_Pixel5 :  40.141564764134024\n",
      "2021-04-28-US-MTV-1_Pixel4 :  27.715507303901653\n",
      "2021-04-28-US-MTV-1_SamsungS20Ultra :  28.63645421341372\n",
      "2020-06-05-US-MTV-1_Pixel4 :  42.59241314061995\n",
      "2020-06-05-US-MTV-1_Pixel4XL :  53.810775725268606\n",
      "2020-06-05-US-MTV-1_Pixel4XLModded :  130.3346290776285\n",
      "2020-05-21-US-MTV-1_Pixel4 :  11.321207587680576\n",
      "2020-05-29-US-MTV-1_Pixel4 :  60.42115482802974\n",
      "2020-05-29-US-MTV-1_Pixel4XL :  52.94306009135316\n",
      "2020-05-29-US-MTV-1_Pixel4XLModded :  204.56207535882297\n",
      "2020-09-04-US-SF-1_Pixel4 :  28.517602797746363\n",
      "2020-09-04-US-SF-1_Pixel4XL :  31.853121774314904\n",
      "2020-09-04-US-SF-1_Mi8 :  17.62214995935869\n",
      "2021-04-28-US-SJC-1_Pixel4 :  36.19051935465239\n",
      "2021-04-28-US-SJC-1_SamsungS20Ultra :  35.5597242192437\n",
      "2020-07-17-US-MTV-2_Mi8 :  28.691569659776924\n",
      "2021-01-04-US-RWC-1_Pixel5 :  54.68305514000773\n",
      "2021-01-04-US-RWC-1_Pixel4Modded :  45.18768136953008\n",
      "2021-01-04-US-RWC-1_Pixel4 :  49.89706518460898\n",
      "2021-01-04-US-RWC-1_Pixel4XL :  47.88637426108443\n",
      "2020-07-08-US-MTV-1_Pixel4 :  37.122196217204475\n",
      "2020-07-08-US-MTV-1_Pixel4XL :  39.7379572316031\n",
      "2020-07-08-US-MTV-1_Pixel4XLModded :  47.97200482965248\n",
      "2021-04-29-US-MTV-1_Pixel5 :  106.11844553959497\n",
      "2021-04-29-US-MTV-1_Pixel4 :  107.14103644196773\n",
      "2021-04-29-US-MTV-1_SamsungS20Ultra :  107.15043909617283\n",
      "2021-04-29-US-SJC-2_Pixel4 :  38.122546294285314\n",
      "2021-04-29-US-SJC-2_SamsungS20Ultra :  37.03085843664152\n",
      "2021-01-04-US-RWC-2_Pixel5 :  47.51225969152617\n",
      "2021-01-04-US-RWC-2_Pixel4Modded :  50.77623356022166\n",
      "2021-01-04-US-RWC-2_Pixel4 :  47.92232255518668\n",
      "2021-01-04-US-RWC-2_Pixel4XL :  42.44959701963553\n",
      "2021-03-10-US-SVL-1_Pixel4XL :  31.34806508145423\n",
      "2021-03-10-US-SVL-1_SamsungS20Ultra :  30.314910636409095\n",
      "2021-04-26-US-SVL-1_Pixel5 :  30.398851159312457\n",
      "2021-04-26-US-SVL-1_Mi8 :  52.75622441347426\n",
      "2020-05-29-US-MTV-2_Pixel4 :  100.0558170821566\n",
      "2020-05-29-US-MTV-2_Pixel4XL :  97.71919893620249\n"
     ]
    }
   ],
   "source": [
    "# calc_degがあまりに悪いものは除外しておく\n",
    "from sklearn.metrics import mean_squared_error\n",
    "train_calc_deg = train_calc_deg.dropna(subset=['calc_deg'])\n",
    "print('total : ', np.sqrt(mean_squared_error(train_calc_deg['courseDegree'], train_calc_deg['calc_deg'])))\n",
    "phones = train_calc_deg['phone'].unique()\n",
    "for phone in phones:\n",
    "    tmp = train_calc_deg[train_calc_deg['phone']==phone].copy()\n",
    "    print(phone + ' : ', np.sqrt(mean_squared_error(tmp['courseDegree'], tmp['calc_deg'])))"
   ]
  },
  {
   "cell_type": "markdown",
   "id": "gorgeous-interpretation",
   "metadata": {},
   "source": [
    "# ML"
   ]
  },
  {
   "cell_type": "code",
   "execution_count": 20,
   "id": "authorized-halloween",
   "metadata": {},
   "outputs": [],
   "source": [
    "def add_features(df):\n",
    "    for c,i in itertools.product(['latDeg', 'lngDeg', 'heightAboveWgs84EllipsoidM', 'calc_deg'], [1,2,3,4,5,-1,-2,-3,-4,-5]):\n",
    "        col = c+ '_s' + str(i)\n",
    "        df[col] = df[c].shift(i)\n",
    "        df[col+'_diff'] = df[c] - df[col]\n",
    "        df.loc[df['phone']!=df['phone'].shift(i), [col, col+'_diff']] = np.nan\n",
    "    \n",
    "    for c in ['latDeg', 'lngDeg', 'heightAboveWgs84EllipsoidM', 'calc_deg']:\n",
    "        df[c+'_s1_diff_sum'] = df[c+'_s1_diff'].fillna(0) + df[c+'_s-1_diff'].fillna(0)\n",
    "        df[c+'_s2_diff_sum'] = df[c+'_s1_diff_sum'] + df[c+'_s2_diff'].fillna(0) + df[c+'_s-2_diff'].fillna(0)\n",
    "        df[c+'_s3_diff_sum'] = df[c+'_s2_diff_sum'] + df[c+'_s3_diff'].fillna(0) + df[c+'_s-3_diff'].fillna(0)\n",
    "        df[c+'_s4_diff_sum'] = df[c+'_s3_diff_sum'] + df[c+'_s4_diff'].fillna(0) + df[c+'_s-4_diff'].fillna(0)\n",
    "        df[c+'_s5_diff_sum'] = df[c+'_s4_diff_sum'] + df[c+'_s5_diff'].fillna(0) + df[c+'_s-5_diff'].fillna(0)\n",
    "    \n",
    "    return df"
   ]
  },
  {
   "cell_type": "code",
   "execution_count": 21,
   "id": "transparent-capitol",
   "metadata": {},
   "outputs": [],
   "source": [
    "def add_sensor_features(df, accel, gyro, mag, ori):\n",
    "    # phoneを追加\n",
    "    df['phone'] = df['collectionName'] + '_' + df['phoneName']\n",
    "    accel['phone'] = accel['collectionName'] + '_' + accel['phoneName']\n",
    "    gyro['phone'] = gyro['collectionName'] + '_' + gyro['phoneName']\n",
    "    mag['phone'] = mag['collectionName'] + '_' + mag['phoneName']\n",
    "    ori['phone'] = ori['collectionName'] + '_' + ori['phoneName']\n",
    "    \n",
    "     # 一定の値しか入っていないphoneを除外しておく\n",
    "    ori = ori[~ori['phone'].isin(['2021-04-29-US-MTV-1_SamsungS20Ultra', '2021-04-28-US-MTV-1_SamsungS20Ultra', '2021-04-28-US-SJC-1_SamsungS20Ultra', '2021-04-29-US-SJC-2_SamsungS20Ultra',\n",
    "                                 '2021-04-28-US-MTV-2_SamsungS20Ultra', '2021-04-29-US-SJC-3_SamsungS20Ultra', '2021-04-29-US-MTV-2_SamsungS20Ultra'])]\n",
    "    \n",
    "    \n",
    "    # phonenameをラベルエンコーディング\n",
    "    phoneName_map = {'Pixel4':1, 'Pixel4XLModded':2, 'Pixel4XL':3, 'Mi8':4, 'Pixel4Modded':5, 'Pixel5':6, 'SamsungS20Ultra':7}\n",
    "    df['phoneName_le'] = df['phoneName'].map(phoneName_map)\n",
    "    \n",
    "    # utc -> gps\n",
    "    accel['millisSinceGpsEpoch'] = accel['utcTimeMillis'] - 315964800000 + 18000\n",
    "    gyro['millisSinceGpsEpoch'] = gyro['utcTimeMillis'] - 315964800000 + 18000\n",
    "    mag['millisSinceGpsEpoch'] = mag['utcTimeMillis'] - 315964800000 + 18000\n",
    "    ori['millisSinceGpsEpoch'] = ori['utcTimeMillis'] - 315964800000 + 18000\n",
    "    \n",
    "    # resampling追加\n",
    "    df['secondSinceGpsEpoch'] = df['millisSinceGpsEpoch'] // 1000\n",
    "    accel['secondSinceGpsEpoch'] = accel['millisSinceGpsEpoch'] // 1000\n",
    "    gyro['secondSinceGpsEpoch'] = gyro['millisSinceGpsEpoch'] // 1000\n",
    "    mag['secondSinceGpsEpoch'] = mag['millisSinceGpsEpoch'] // 1000\n",
    "    ori['secondSinceGpsEpoch'] = ori['millisSinceGpsEpoch'] // 1000\n",
    "    \n",
    "    # clipping\n",
    "    accel[['UncalAccelXMps2', 'UncalAccelYMps2', 'UncalAccelZMps2']] = accel.groupby('phone')['UncalAccelXMps2', 'UncalAccelYMps2', 'UncalAccelZMps2'].transform(lambda x: x.clip(x.quantile(0.001), x.quantile(0.999)))\n",
    "    gyro[['UncalGyroXRadPerSec', 'UncalGyroYRadPerSec', 'UncalGyroZRadPerSec']] = gyro.groupby('phone')['UncalGyroXRadPerSec', 'UncalGyroYRadPerSec', 'UncalGyroZRadPerSec'].transform(lambda x: x.clip(x.quantile(0.001), x.quantile(0.999)))\n",
    "    mag[['UncalMagXMicroT', 'UncalMagYMicroT', 'UncalMagZMicroT']] = mag.groupby('phone')['UncalMagXMicroT', 'UncalMagYMicroT', 'UncalMagZMicroT'].transform(lambda x: x.clip(x.quantile(0.001), x.quantile(0.999)))\n",
    "    \n",
    "    accel = accel.groupby(['phone', 'secondSinceGpsEpoch'])['UncalAccelXMps2', 'UncalAccelYMps2', 'UncalAccelZMps2'].agg(['mean', 'std']).reset_index()\n",
    "    accel.columns = ['phone', 'secondSinceGpsEpoch', 'UncalAccelXMps2_mean', 'UncalAccelXMps2_std', 'UncalAccelYMps2_mean', 'UncalAccelYMps2_std', 'UncalAccelZMps2_mean', 'UncalAccelZMps2_std']\n",
    "    gyro = gyro.groupby(['phone', 'secondSinceGpsEpoch'])['UncalGyroXRadPerSec', 'UncalGyroYRadPerSec', 'UncalGyroZRadPerSec'].agg(['mean', 'std']).reset_index()\n",
    "    gyro.columns = ['phone', 'secondSinceGpsEpoch', 'UncalGyroXRadPerSec_mean', 'UncalGyroXRadPerSec_std', 'UncalGyroYRadPerSec_mean', 'UncalGyroYRadPerSec_std', 'UncalGyroZRadPerSec_mean', 'UncalGyroZRadPerSec_std' ]\n",
    "    mag = mag.groupby(['phone', 'secondSinceGpsEpoch'])['UncalMagXMicroT', 'UncalMagYMicroT', 'UncalMagZMicroT'].agg(['mean', 'std']).reset_index()\n",
    "    mag.columns = ['phone', 'secondSinceGpsEpoch', 'UncalMagXMicroT_mean', 'UncalMagXMicroT_std', 'UncalMagYMicroT_mean', 'UncalMagYMicroT_std', 'UncalMagZMicroT_mean', 'UncalMagZMicroT_std']\n",
    "    ori = ori.groupby(['phone', 'secondSinceGpsEpoch'])['yawDeg', 'rollDeg', 'pitchDeg'].agg(['mean', 'std']).reset_index()\n",
    "    ori.columns = ['phone', 'secondSinceGpsEpoch', 'yawDeg_mean', 'yawDeg_std', 'rollDeg_mean', 'rollDeg_std', 'pitchDeg_mean', 'pitchDeg_std']\n",
    "    \n",
    "    \n",
    "    # shift特徴量\n",
    "    for c, i in itertools.product(['UncalAccelXMps2_mean', 'UncalAccelXMps2_std', 'UncalAccelYMps2_mean', 'UncalAccelYMps2_std', 'UncalAccelZMps2_mean', 'UncalAccelZMps2_std'], [1,2,3,4,5-1,-2,-3,-4,-5]):\n",
    "        col = c+ '_s' + str(i)\n",
    "        accel[col] = accel[c].shift(i)\n",
    "        accel[col+'_diff'] = accel[c] - accel[col]\n",
    "        accel.loc[accel['phone']!=accel['phone'].shift(i), [col, col+'_diff']] = np.nan\n",
    "    for c, i in itertools.product(['UncalGyroXRadPerSec_mean', 'UncalGyroXRadPerSec_std', 'UncalGyroYRadPerSec_mean', 'UncalGyroYRadPerSec_std', 'UncalGyroZRadPerSec_mean', 'UncalGyroZRadPerSec_std'], [1,2,3,4,5-1,-2,-3,-4,-5]):\n",
    "        col = c+ '_s' + str(i)\n",
    "        gyro[col] = gyro[c].shift(i)\n",
    "        gyro[col+'_diff'] = gyro[c] - gyro[col]\n",
    "        gyro.loc[gyro['phone']!=gyro['phone'].shift(i), [col, col+'_diff']] = np.nan\n",
    "    for c, i in itertools.product(['UncalMagXMicroT_mean', 'UncalMagXMicroT_std', 'UncalMagYMicroT_mean', 'UncalMagYMicroT_std', 'UncalMagZMicroT_mean', 'UncalMagZMicroT_std'], [1,2,3,4,5-1,-2,-3,-4,-5]):\n",
    "        col = c+ '_s' + str(i)\n",
    "        mag[col] = mag[c].shift(i)\n",
    "        mag[col+'_diff'] = mag[c] - mag[col]\n",
    "        mag.loc[mag['phone']!=mag['phone'].shift(i), [col, col+'_diff']] = np.nan\n",
    "    for c, i in itertools.product(['yawDeg_mean', 'yawDeg_std', 'rollDeg_mean', 'rollDeg_std', 'pitchDeg_mean', 'pitchDeg_std'], [1,2,3,-1,-2,-3]):\n",
    "        col = c+ '_s' + str(i)\n",
    "        ori[col] = ori[c].shift(i)\n",
    "        ori[col+'_diff'] = ori[c] - ori[col]\n",
    "        ori.loc[ori['phone']!=ori['phone'].shift(i), [col, col+'_diff']] = np.nan        \n",
    "    \n",
    "    df = df.merge(accel, on=['phone', 'secondSinceGpsEpoch'], how='left')\n",
    "    df = df.merge(gyro, on=['phone', 'secondSinceGpsEpoch'], how='left')\n",
    "    df = df.merge(mag, on=['phone', 'secondSinceGpsEpoch'], how='left')\n",
    "    df = df.merge(ori, on=['phone', 'secondSinceGpsEpoch'], how='left')\n",
    "    \n",
    "    df.drop(['secondSinceGpsEpoch'], axis=1, inplace=True)\n",
    "    \n",
    "    return df"
   ]
  },
  {
   "cell_type": "code",
   "execution_count": 22,
   "id": "focal-papua",
   "metadata": {},
   "outputs": [],
   "source": [
    "train, test, sub, gt = get_data()\n",
    "accel_train = pd.read_csv(INPUT + '/prep/gnss/train/UncalAccel.csv')\n",
    "gyro_train = pd.read_csv(INPUT + '/prep/gnss/train/UncalGyro.csv')\n",
    "mag_train = pd.read_csv(INPUT + '/prep/gnss/train/UncalMag.csv')\n",
    "ori_train = pd.read_csv(INPUT + '/prep/gnss/train/OrientationDeg.csv')\n",
    "#accel_test = pd.read_csv(INPUT + '/prep/gnss/test/UncalAccel.csv')\n",
    "#gyro_test = pd.read_csv(INPUT + '/prep/gnss/test/UncalGyro.csv')\n",
    "#mag_test = pd.read_csv(INPUT + '/prep/gnss/test/UncalMag.csv')\n",
    "#ori_test = pd.read_csv(INPUT + '/prep/gnss/test/OrientationDeg.csv')"
   ]
  },
  {
   "cell_type": "code",
   "execution_count": 23,
   "id": "geographic-globe",
   "metadata": {},
   "outputs": [],
   "source": [
    "train = train.merge(train_calc_deg, on=['phone', 'millisSinceGpsEpoch'], how='inner')\n",
    "#test = test.merge(test_calc_deg, on='phone', how='left')\n",
    "train = add_features(train)\n",
    "train = add_sensor_features(train, accel_train, gyro_train, mag_train, ori_train)\n",
    "#test = add_features(test)\n",
    "#test = add_sensor_features(test, accel_test, gyro_test, mag_test, ori_test)"
   ]
  },
  {
   "cell_type": "code",
   "execution_count": null,
   "id": "elder-vegetation",
   "metadata": {},
   "outputs": [],
   "source": []
  },
  {
   "cell_type": "code",
   "execution_count": 28,
   "id": "unlikely-farming",
   "metadata": {},
   "outputs": [
    {
     "ename": "KeyError",
     "evalue": "'calc_deg'",
     "output_type": "error",
     "traceback": [
      "\u001b[0;31m---------------------------------------------------------------------------\u001b[0m",
      "\u001b[0;31mKeyError\u001b[0m                                  Traceback (most recent call last)",
      "\u001b[0;32m/opt/conda/lib/python3.7/site-packages/pandas/core/indexes/base.py\u001b[0m in \u001b[0;36mget_loc\u001b[0;34m(self, key, method, tolerance)\u001b[0m\n\u001b[1;32m   2897\u001b[0m             \u001b[0;32mtry\u001b[0m\u001b[0;34m:\u001b[0m\u001b[0;34m\u001b[0m\u001b[0;34m\u001b[0m\u001b[0m\n\u001b[0;32m-> 2898\u001b[0;31m                 \u001b[0;32mreturn\u001b[0m \u001b[0mself\u001b[0m\u001b[0;34m.\u001b[0m\u001b[0m_engine\u001b[0m\u001b[0;34m.\u001b[0m\u001b[0mget_loc\u001b[0m\u001b[0;34m(\u001b[0m\u001b[0mcasted_key\u001b[0m\u001b[0;34m)\u001b[0m\u001b[0;34m\u001b[0m\u001b[0;34m\u001b[0m\u001b[0m\n\u001b[0m\u001b[1;32m   2899\u001b[0m             \u001b[0;32mexcept\u001b[0m \u001b[0mKeyError\u001b[0m \u001b[0;32mas\u001b[0m \u001b[0merr\u001b[0m\u001b[0;34m:\u001b[0m\u001b[0;34m\u001b[0m\u001b[0;34m\u001b[0m\u001b[0m\n",
      "\u001b[0;32mpandas/_libs/index.pyx\u001b[0m in \u001b[0;36mpandas._libs.index.IndexEngine.get_loc\u001b[0;34m()\u001b[0m\n",
      "\u001b[0;32mpandas/_libs/index.pyx\u001b[0m in \u001b[0;36mpandas._libs.index.IndexEngine.get_loc\u001b[0;34m()\u001b[0m\n",
      "\u001b[0;32mpandas/_libs/hashtable_class_helper.pxi\u001b[0m in \u001b[0;36mpandas._libs.hashtable.PyObjectHashTable.get_item\u001b[0;34m()\u001b[0m\n",
      "\u001b[0;32mpandas/_libs/hashtable_class_helper.pxi\u001b[0m in \u001b[0;36mpandas._libs.hashtable.PyObjectHashTable.get_item\u001b[0;34m()\u001b[0m\n",
      "\u001b[0;31mKeyError\u001b[0m: 'calc_deg'",
      "\nThe above exception was the direct cause of the following exception:\n",
      "\u001b[0;31mKeyError\u001b[0m                                  Traceback (most recent call last)",
      "\u001b[0;32m<ipython-input-28-6ffd33f97e09>\u001b[0m in \u001b[0;36m<module>\u001b[0;34m\u001b[0m\n\u001b[1;32m      1\u001b[0m \u001b[0;32mfrom\u001b[0m \u001b[0msklearn\u001b[0m\u001b[0;34m.\u001b[0m\u001b[0mmetrics\u001b[0m \u001b[0;32mimport\u001b[0m \u001b[0mmean_squared_error\u001b[0m\u001b[0;34m\u001b[0m\u001b[0;34m\u001b[0m\u001b[0m\n\u001b[0;32m----> 2\u001b[0;31m \u001b[0mprint\u001b[0m\u001b[0;34m(\u001b[0m\u001b[0;34m'total : '\u001b[0m\u001b[0;34m,\u001b[0m \u001b[0mnp\u001b[0m\u001b[0;34m.\u001b[0m\u001b[0msqrt\u001b[0m\u001b[0;34m(\u001b[0m\u001b[0mmean_squared_error\u001b[0m\u001b[0;34m(\u001b[0m\u001b[0mtrain_calc_deg\u001b[0m\u001b[0;34m[\u001b[0m\u001b[0;34m'courseDegree'\u001b[0m\u001b[0;34m]\u001b[0m\u001b[0;34m,\u001b[0m \u001b[0moof1\u001b[0m\u001b[0;34m[\u001b[0m\u001b[0;34m'calc_deg'\u001b[0m\u001b[0;34m]\u001b[0m\u001b[0;34m)\u001b[0m\u001b[0;34m)\u001b[0m\u001b[0;34m)\u001b[0m\u001b[0;34m\u001b[0m\u001b[0;34m\u001b[0m\u001b[0m\n\u001b[0m\u001b[1;32m      3\u001b[0m \u001b[0mphones\u001b[0m \u001b[0;34m=\u001b[0m \u001b[0mtrain_calc_deg\u001b[0m\u001b[0;34m[\u001b[0m\u001b[0;34m'phone'\u001b[0m\u001b[0;34m]\u001b[0m\u001b[0;34m.\u001b[0m\u001b[0munique\u001b[0m\u001b[0;34m(\u001b[0m\u001b[0;34m)\u001b[0m\u001b[0;34m\u001b[0m\u001b[0;34m\u001b[0m\u001b[0m\n\u001b[1;32m      4\u001b[0m \u001b[0;32mfor\u001b[0m \u001b[0mphone\u001b[0m \u001b[0;32min\u001b[0m \u001b[0mphones\u001b[0m\u001b[0;34m:\u001b[0m\u001b[0;34m\u001b[0m\u001b[0;34m\u001b[0m\u001b[0m\n\u001b[1;32m      5\u001b[0m     \u001b[0mtmp\u001b[0m \u001b[0;34m=\u001b[0m \u001b[0mtrain_calc_deg\u001b[0m\u001b[0;34m[\u001b[0m\u001b[0mtrian_calc_deg\u001b[0m\u001b[0;34m[\u001b[0m\u001b[0;34m'phone'\u001b[0m\u001b[0;34m]\u001b[0m\u001b[0;34m==\u001b[0m\u001b[0mphone\u001b[0m\u001b[0;34m]\u001b[0m\u001b[0;34m.\u001b[0m\u001b[0mcopy\u001b[0m\u001b[0;34m(\u001b[0m\u001b[0;34m)\u001b[0m\u001b[0;34m\u001b[0m\u001b[0;34m\u001b[0m\u001b[0m\n",
      "\u001b[0;32m/opt/conda/lib/python3.7/site-packages/pandas/core/frame.py\u001b[0m in \u001b[0;36m__getitem__\u001b[0;34m(self, key)\u001b[0m\n\u001b[1;32m   2904\u001b[0m             \u001b[0;32mif\u001b[0m \u001b[0mself\u001b[0m\u001b[0;34m.\u001b[0m\u001b[0mcolumns\u001b[0m\u001b[0;34m.\u001b[0m\u001b[0mnlevels\u001b[0m \u001b[0;34m>\u001b[0m \u001b[0;36m1\u001b[0m\u001b[0;34m:\u001b[0m\u001b[0;34m\u001b[0m\u001b[0;34m\u001b[0m\u001b[0m\n\u001b[1;32m   2905\u001b[0m                 \u001b[0;32mreturn\u001b[0m \u001b[0mself\u001b[0m\u001b[0;34m.\u001b[0m\u001b[0m_getitem_multilevel\u001b[0m\u001b[0;34m(\u001b[0m\u001b[0mkey\u001b[0m\u001b[0;34m)\u001b[0m\u001b[0;34m\u001b[0m\u001b[0;34m\u001b[0m\u001b[0m\n\u001b[0;32m-> 2906\u001b[0;31m             \u001b[0mindexer\u001b[0m \u001b[0;34m=\u001b[0m \u001b[0mself\u001b[0m\u001b[0;34m.\u001b[0m\u001b[0mcolumns\u001b[0m\u001b[0;34m.\u001b[0m\u001b[0mget_loc\u001b[0m\u001b[0;34m(\u001b[0m\u001b[0mkey\u001b[0m\u001b[0;34m)\u001b[0m\u001b[0;34m\u001b[0m\u001b[0;34m\u001b[0m\u001b[0m\n\u001b[0m\u001b[1;32m   2907\u001b[0m             \u001b[0;32mif\u001b[0m \u001b[0mis_integer\u001b[0m\u001b[0;34m(\u001b[0m\u001b[0mindexer\u001b[0m\u001b[0;34m)\u001b[0m\u001b[0;34m:\u001b[0m\u001b[0;34m\u001b[0m\u001b[0;34m\u001b[0m\u001b[0m\n\u001b[1;32m   2908\u001b[0m                 \u001b[0mindexer\u001b[0m \u001b[0;34m=\u001b[0m \u001b[0;34m[\u001b[0m\u001b[0mindexer\u001b[0m\u001b[0;34m]\u001b[0m\u001b[0;34m\u001b[0m\u001b[0;34m\u001b[0m\u001b[0m\n",
      "\u001b[0;32m/opt/conda/lib/python3.7/site-packages/pandas/core/indexes/base.py\u001b[0m in \u001b[0;36mget_loc\u001b[0;34m(self, key, method, tolerance)\u001b[0m\n\u001b[1;32m   2898\u001b[0m                 \u001b[0;32mreturn\u001b[0m \u001b[0mself\u001b[0m\u001b[0;34m.\u001b[0m\u001b[0m_engine\u001b[0m\u001b[0;34m.\u001b[0m\u001b[0mget_loc\u001b[0m\u001b[0;34m(\u001b[0m\u001b[0mcasted_key\u001b[0m\u001b[0;34m)\u001b[0m\u001b[0;34m\u001b[0m\u001b[0;34m\u001b[0m\u001b[0m\n\u001b[1;32m   2899\u001b[0m             \u001b[0;32mexcept\u001b[0m \u001b[0mKeyError\u001b[0m \u001b[0;32mas\u001b[0m \u001b[0merr\u001b[0m\u001b[0;34m:\u001b[0m\u001b[0;34m\u001b[0m\u001b[0;34m\u001b[0m\u001b[0m\n\u001b[0;32m-> 2900\u001b[0;31m                 \u001b[0;32mraise\u001b[0m \u001b[0mKeyError\u001b[0m\u001b[0;34m(\u001b[0m\u001b[0mkey\u001b[0m\u001b[0;34m)\u001b[0m \u001b[0;32mfrom\u001b[0m \u001b[0merr\u001b[0m\u001b[0;34m\u001b[0m\u001b[0;34m\u001b[0m\u001b[0m\n\u001b[0m\u001b[1;32m   2901\u001b[0m \u001b[0;34m\u001b[0m\u001b[0m\n\u001b[1;32m   2902\u001b[0m         \u001b[0;32mif\u001b[0m \u001b[0mtolerance\u001b[0m \u001b[0;32mis\u001b[0m \u001b[0;32mnot\u001b[0m \u001b[0;32mNone\u001b[0m\u001b[0;34m:\u001b[0m\u001b[0;34m\u001b[0m\u001b[0;34m\u001b[0m\u001b[0m\n",
      "\u001b[0;31mKeyError\u001b[0m: 'calc_deg'"
     ]
    }
   ],
   "source": []
  },
  {
   "cell_type": "code",
   "execution_count": null,
   "id": "positive-course",
   "metadata": {},
   "outputs": [],
   "source": [
    "# calc_degの結果があまりに悪いものは除外\n",
    "\n",
    "reject_phone = []"
   ]
  },
  {
   "cell_type": "markdown",
   "id": "efficient-breeding",
   "metadata": {},
   "source": [
    "# lgb_tuner"
   ]
  },
  {
   "cell_type": "code",
   "execution_count": 24,
   "id": "breeding-particle",
   "metadata": {},
   "outputs": [],
   "source": [
    "target1 = 'courseDegree'\n",
    "not_use_cols = ['speedMps', 'courseDegree', 'collectionName', 'phoneName', 'phone', 'millisSinceGpsEpoch', 'latDeg', 'lngDeg', 'heightAboveWgs84EllipsoidM',\n",
    "                'latDeg_s1', 'latDeg_s2', 'latDeg_s3', 'latDeg_s-1', 'latDeg_s-2',\n",
    "                'latDeg_s-3', 'lngDeg_s1', 'lngDeg_s2', 'lngDeg_s3', 'lngDeg_s-1',\n",
    "                'lngDeg_s-2', 'lngDeg_s-3', 'heightAboveWgs84EllipsoidM_s1',\n",
    "                'heightAboveWgs84EllipsoidM_s2', 'heightAboveWgs84EllipsoidM_s3',\n",
    "                'heightAboveWgs84EllipsoidM_s-1', 'heightAboveWgs84EllipsoidM_s-2',\n",
    "                'heightAboveWgs84EllipsoidM_s-3', target1]\n",
    "\n",
    "features = [c for c in train.columns if c not in not_use_cols]\n",
    "\n",
    "params = {'objective': 'regression',\n",
    "          'metric': 'rmse',\n",
    "          'learning_rate': 0.1, \n",
    "          'seed': 42}"
   ]
  },
  {
   "cell_type": "code",
   "execution_count": 25,
   "id": "suited-mother",
   "metadata": {},
   "outputs": [
    {
     "name": "stdout",
     "output_type": "stream",
     "text": [
      "valid :  2021-04-22-US-SJC-1\n"
     ]
    },
    {
     "name": "stderr",
     "output_type": "stream",
     "text": [
      "\u001b[32m[I 2021-06-22 05:46:43,558]\u001b[0m A new study created in memory with name: no-name-f1cb41d8-4088-4e90-87e4-fd512faf1394\u001b[0m\n",
      "feature_fraction, val_score: inf:   0%|          | 0/7 [00:00<?, ?it/s]"
     ]
    },
    {
     "name": "stdout",
     "output_type": "stream",
     "text": [
      "[LightGBM] [Warning] Auto-choosing col-wise multi-threading, the overhead of testing was 0.091291 seconds.\n",
      "You can set `force_col_wise=true` to remove the overhead.\n",
      "[LightGBM] [Info] Total Bins 120623\n",
      "[LightGBM] [Info] Number of data points in the train set: 125626, number of used features: 474\n",
      "[LightGBM] [Info] Start training from score 192.148234\n",
      "Training until validation scores don't improve for 100 rounds\n"
     ]
    },
    {
     "name": "stderr",
     "output_type": "stream",
     "text": [
      "feature_fraction, val_score: 119.089312:  14%|#4        | 1/7 [00:07<00:42,  7.16s/it]\u001b[32m[I 2021-06-22 05:46:50,723]\u001b[0m Trial 0 finished with value: 119.08931225229111 and parameters: {'feature_fraction': 0.5}. Best is trial 0 with value: 119.08931225229111.\u001b[0m\n",
      "feature_fraction, val_score: 119.089312:  14%|#4        | 1/7 [00:07<00:42,  7.16s/it]"
     ]
    },
    {
     "name": "stdout",
     "output_type": "stream",
     "text": [
      "[100]\tvalid_0's rmse: 25.53\tvalid_1's rmse: 195.172\n",
      "Early stopping, best iteration is:\n",
      "[1]\tvalid_0's rmse: 102.029\tvalid_1's rmse: 119.089\n",
      "[LightGBM] [Warning] Auto-choosing col-wise multi-threading, the overhead of testing was 0.224503 seconds.\n",
      "You can set `force_col_wise=true` to remove the overhead.\n",
      "[LightGBM] [Info] Total Bins 120623\n",
      "[LightGBM] [Info] Number of data points in the train set: 125626, number of used features: 474\n",
      "[LightGBM] [Info] Start training from score 192.148234\n",
      "Training until validation scores don't improve for 100 rounds\n"
     ]
    },
    {
     "name": "stderr",
     "output_type": "stream",
     "text": [
      "feature_fraction, val_score: 119.089312:  29%|##8       | 2/7 [00:16<00:42,  8.47s/it]\u001b[32m[I 2021-06-22 05:47:00,109]\u001b[0m Trial 1 finished with value: 119.68967546995832 and parameters: {'feature_fraction': 0.8}. Best is trial 0 with value: 119.08931225229111.\u001b[0m\n",
      "feature_fraction, val_score: 119.089312:  29%|##8       | 2/7 [00:16<00:42,  8.47s/it]"
     ]
    },
    {
     "name": "stdout",
     "output_type": "stream",
     "text": [
      "[100]\tvalid_0's rmse: 25.7436\tvalid_1's rmse: 190.854\n",
      "Early stopping, best iteration is:\n",
      "[1]\tvalid_0's rmse: 101.965\tvalid_1's rmse: 119.69\n",
      "[LightGBM] [Warning] Auto-choosing col-wise multi-threading, the overhead of testing was 0.252045 seconds.\n",
      "You can set `force_col_wise=true` to remove the overhead.\n",
      "[LightGBM] [Info] Total Bins 120623\n",
      "[LightGBM] [Info] Number of data points in the train set: 125626, number of used features: 474\n",
      "[LightGBM] [Info] Start training from score 192.148234\n",
      "Training until validation scores don't improve for 100 rounds\n"
     ]
    },
    {
     "name": "stderr",
     "output_type": "stream",
     "text": [
      "feature_fraction, val_score: 119.089312:  43%|####2     | 3/7 [00:23<00:31,  7.77s/it]\u001b[32m[I 2021-06-22 05:47:07,040]\u001b[0m Trial 2 finished with value: 120.19179063240325 and parameters: {'feature_fraction': 1.0}. Best is trial 0 with value: 119.08931225229111.\u001b[0m\n",
      "feature_fraction, val_score: 119.089312:  43%|####2     | 3/7 [00:23<00:31,  7.77s/it]"
     ]
    },
    {
     "name": "stdout",
     "output_type": "stream",
     "text": [
      "[100]\tvalid_0's rmse: 25.7724\tvalid_1's rmse: 189.906\n",
      "Early stopping, best iteration is:\n",
      "[1]\tvalid_0's rmse: 101.776\tvalid_1's rmse: 120.192\n",
      "[LightGBM] [Warning] Auto-choosing col-wise multi-threading, the overhead of testing was 0.178941 seconds.\n",
      "You can set `force_col_wise=true` to remove the overhead.\n",
      "[LightGBM] [Info] Total Bins 120623\n",
      "[LightGBM] [Info] Number of data points in the train set: 125626, number of used features: 474\n",
      "[LightGBM] [Info] Start training from score 192.148234\n",
      "Training until validation scores don't improve for 100 rounds\n"
     ]
    },
    {
     "name": "stderr",
     "output_type": "stream",
     "text": [
      "feature_fraction, val_score: 119.089312:  57%|#####7    | 4/7 [00:28<00:20,  6.85s/it]\u001b[32m[I 2021-06-22 05:47:12,486]\u001b[0m Trial 3 finished with value: 119.28772421169076 and parameters: {'feature_fraction': 0.6}. Best is trial 0 with value: 119.08931225229111.\u001b[0m\n",
      "feature_fraction, val_score: 119.089312:  57%|#####7    | 4/7 [00:28<00:20,  6.85s/it]"
     ]
    },
    {
     "name": "stdout",
     "output_type": "stream",
     "text": [
      "[100]\tvalid_0's rmse: 25.9449\tvalid_1's rmse: 195.456\n",
      "Early stopping, best iteration is:\n",
      "[1]\tvalid_0's rmse: 101.955\tvalid_1's rmse: 119.288\n",
      "[LightGBM] [Warning] Auto-choosing col-wise multi-threading, the overhead of testing was 0.133332 seconds.\n",
      "You can set `force_col_wise=true` to remove the overhead.\n",
      "[LightGBM] [Info] Total Bins 120623\n",
      "[LightGBM] [Info] Number of data points in the train set: 125626, number of used features: 474\n",
      "[LightGBM] [Info] Start training from score 192.148234\n",
      "Training until validation scores don't improve for 100 rounds\n"
     ]
    },
    {
     "name": "stderr",
     "output_type": "stream",
     "text": [
      "feature_fraction, val_score: 119.089312:  71%|#######1  | 5/7 [00:34<00:12,  6.48s/it]\u001b[32m[I 2021-06-22 05:47:18,307]\u001b[0m Trial 4 finished with value: 119.93610314801192 and parameters: {'feature_fraction': 0.8999999999999999}. Best is trial 0 with value: 119.08931225229111.\u001b[0m\n",
      "feature_fraction, val_score: 119.089312:  71%|#######1  | 5/7 [00:34<00:12,  6.48s/it]"
     ]
    },
    {
     "name": "stdout",
     "output_type": "stream",
     "text": [
      "[100]\tvalid_0's rmse: 25.7954\tvalid_1's rmse: 190.445\n",
      "Early stopping, best iteration is:\n",
      "[1]\tvalid_0's rmse: 101.997\tvalid_1's rmse: 119.936\n",
      "[LightGBM] [Warning] Auto-choosing row-wise multi-threading, the overhead of testing was 0.103993 seconds.\n",
      "You can set `force_row_wise=true` to remove the overhead.\n",
      "And if memory is not enough, you can set `force_col_wise=true`.\n",
      "[LightGBM] [Info] Total Bins 120623\n",
      "[LightGBM] [Info] Number of data points in the train set: 125626, number of used features: 474\n",
      "[LightGBM] [Info] Start training from score 192.148234\n",
      "Training until validation scores don't improve for 100 rounds\n"
     ]
    },
    {
     "name": "stderr",
     "output_type": "stream",
     "text": [
      "feature_fraction, val_score: 119.047561:  86%|########5 | 6/7 [00:42<00:06,  6.80s/it]\u001b[32m[I 2021-06-22 05:47:25,742]\u001b[0m Trial 5 finished with value: 119.0475613771437 and parameters: {'feature_fraction': 0.4}. Best is trial 5 with value: 119.0475613771437.\u001b[0m\n",
      "feature_fraction, val_score: 119.047561:  86%|########5 | 6/7 [00:42<00:06,  6.80s/it]"
     ]
    },
    {
     "name": "stdout",
     "output_type": "stream",
     "text": [
      "[100]\tvalid_0's rmse: 25.8771\tvalid_1's rmse: 192.651\n",
      "Early stopping, best iteration is:\n",
      "[1]\tvalid_0's rmse: 102.029\tvalid_1's rmse: 119.048\n",
      "[LightGBM] [Warning] Auto-choosing col-wise multi-threading, the overhead of testing was 0.136749 seconds.\n",
      "You can set `force_col_wise=true` to remove the overhead.\n",
      "[LightGBM] [Info] Total Bins 120623\n",
      "[LightGBM] [Info] Number of data points in the train set: 125626, number of used features: 474\n",
      "[LightGBM] [Info] Start training from score 192.148234\n",
      "Training until validation scores don't improve for 100 rounds\n"
     ]
    },
    {
     "name": "stderr",
     "output_type": "stream",
     "text": [
      "feature_fraction, val_score: 119.047561: 100%|##########| 7/7 [00:50<00:00,  7.45s/it]\u001b[32m[I 2021-06-22 05:47:34,535]\u001b[0m Trial 6 finished with value: 119.08341216980659 and parameters: {'feature_fraction': 0.7}. Best is trial 5 with value: 119.0475613771437.\u001b[0m\n",
      "feature_fraction, val_score: 119.047561: 100%|##########| 7/7 [00:50<00:00,  7.28s/it]\n",
      "num_leaves, val_score: 119.047561:   0%|          | 0/20 [00:00<?, ?it/s]"
     ]
    },
    {
     "name": "stdout",
     "output_type": "stream",
     "text": [
      "[100]\tvalid_0's rmse: 25.7504\tvalid_1's rmse: 191.582\n",
      "Early stopping, best iteration is:\n",
      "[1]\tvalid_0's rmse: 102.035\tvalid_1's rmse: 119.083\n",
      "[LightGBM] [Warning] Auto-choosing row-wise multi-threading, the overhead of testing was 0.112631 seconds.\n",
      "You can set `force_row_wise=true` to remove the overhead.\n",
      "And if memory is not enough, you can set `force_col_wise=true`.\n",
      "[LightGBM] [Info] Total Bins 120623\n",
      "[LightGBM] [Info] Number of data points in the train set: 125626, number of used features: 474\n",
      "[LightGBM] [Info] Start training from score 192.148234\n",
      "Training until validation scores don't improve for 100 rounds\n"
     ]
    },
    {
     "name": "stderr",
     "output_type": "stream",
     "text": [
      "num_leaves, val_score: 119.047561:   5%|5         | 1/20 [00:09<03:08,  9.90s/it]\u001b[32m[I 2021-06-22 05:47:44,435]\u001b[0m Trial 7 finished with value: 119.68833360926388 and parameters: {'num_leaves': 72}. Best is trial 7 with value: 119.68833360926388.\u001b[0m\n",
      "num_leaves, val_score: 119.047561:   5%|5         | 1/20 [00:09<03:08,  9.90s/it]"
     ]
    },
    {
     "name": "stdout",
     "output_type": "stream",
     "text": [
      "[100]\tvalid_0's rmse: 18.2776\tvalid_1's rmse: 194.19\n",
      "Early stopping, best iteration is:\n",
      "[1]\tvalid_0's rmse: 101.416\tvalid_1's rmse: 119.688\n",
      "[LightGBM] [Warning] Auto-choosing row-wise multi-threading, the overhead of testing was 0.115285 seconds.\n",
      "You can set `force_row_wise=true` to remove the overhead.\n",
      "And if memory is not enough, you can set `force_col_wise=true`.\n",
      "[LightGBM] [Info] Total Bins 120623\n",
      "[LightGBM] [Info] Number of data points in the train set: 125626, number of used features: 474\n",
      "[LightGBM] [Info] Start training from score 192.148234\n",
      "Training until validation scores don't improve for 100 rounds\n"
     ]
    },
    {
     "name": "stderr",
     "output_type": "stream",
     "text": [
      "num_leaves, val_score: 119.047561:  10%|#         | 2/20 [00:24<03:47, 12.62s/it]\u001b[32m[I 2021-06-22 05:47:58,958]\u001b[0m Trial 8 finished with value: 119.75215044747308 and parameters: {'num_leaves': 189}. Best is trial 7 with value: 119.68833360926388.\u001b[0m\n",
      "num_leaves, val_score: 119.047561:  10%|#         | 2/20 [00:24<03:47, 12.62s/it]"
     ]
    },
    {
     "name": "stdout",
     "output_type": "stream",
     "text": [
      "[100]\tvalid_0's rmse: 10.9174\tvalid_1's rmse: 192.205\n",
      "Early stopping, best iteration is:\n",
      "[1]\tvalid_0's rmse: 100.784\tvalid_1's rmse: 119.752\n",
      "[LightGBM] [Warning] Auto-choosing row-wise multi-threading, the overhead of testing was 0.112934 seconds.\n",
      "You can set `force_row_wise=true` to remove the overhead.\n",
      "And if memory is not enough, you can set `force_col_wise=true`.\n",
      "[LightGBM] [Info] Total Bins 120623\n",
      "[LightGBM] [Info] Number of data points in the train set: 125626, number of used features: 474\n",
      "[LightGBM] [Info] Start training from score 192.148234\n",
      "Training until validation scores don't improve for 100 rounds\n"
     ]
    },
    {
     "name": "stderr",
     "output_type": "stream",
     "text": [
      "num_leaves, val_score: 119.047561:  15%|#5        | 3/20 [00:39<03:50, 13.56s/it]\u001b[32m[I 2021-06-22 05:48:13,642]\u001b[0m Trial 9 finished with value: 119.75215044747308 and parameters: {'num_leaves': 187}. Best is trial 7 with value: 119.68833360926388.\u001b[0m\n",
      "num_leaves, val_score: 119.047561:  15%|#5        | 3/20 [00:39<03:50, 13.56s/it]"
     ]
    },
    {
     "name": "stdout",
     "output_type": "stream",
     "text": [
      "[100]\tvalid_0's rmse: 10.8943\tvalid_1's rmse: 192.126\n",
      "Early stopping, best iteration is:\n",
      "[1]\tvalid_0's rmse: 100.789\tvalid_1's rmse: 119.752\n",
      "[LightGBM] [Warning] Auto-choosing row-wise multi-threading, the overhead of testing was 0.047911 seconds.\n",
      "You can set `force_row_wise=true` to remove the overhead.\n",
      "And if memory is not enough, you can set `force_col_wise=true`.\n",
      "[LightGBM] [Info] Total Bins 120623\n",
      "[LightGBM] [Info] Number of data points in the train set: 125626, number of used features: 474\n",
      "[LightGBM] [Info] Start training from score 192.148234\n",
      "Training until validation scores don't improve for 100 rounds\n"
     ]
    },
    {
     "name": "stderr",
     "output_type": "stream",
     "text": [
      "num_leaves, val_score: 119.047561:  20%|##        | 4/20 [00:55<03:53, 14.60s/it]\u001b[32m[I 2021-06-22 05:48:29,841]\u001b[0m Trial 10 finished with value: 119.70619842611067 and parameters: {'num_leaves': 229}. Best is trial 7 with value: 119.68833360926388.\u001b[0m\n",
      "num_leaves, val_score: 119.047561:  20%|##        | 4/20 [00:55<03:53, 14.60s/it]"
     ]
    },
    {
     "name": "stdout",
     "output_type": "stream",
     "text": [
      "[100]\tvalid_0's rmse: 9.42069\tvalid_1's rmse: 192.776\n",
      "Early stopping, best iteration is:\n",
      "[1]\tvalid_0's rmse: 100.674\tvalid_1's rmse: 119.706\n",
      "[LightGBM] [Warning] Auto-choosing row-wise multi-threading, the overhead of testing was 0.096379 seconds.\n",
      "You can set `force_row_wise=true` to remove the overhead.\n",
      "And if memory is not enough, you can set `force_col_wise=true`.\n",
      "[LightGBM] [Info] Total Bins 120623\n",
      "[LightGBM] [Info] Number of data points in the train set: 125626, number of used features: 474\n",
      "[LightGBM] [Info] Start training from score 192.148234\n",
      "Training until validation scores don't improve for 100 rounds\n"
     ]
    },
    {
     "name": "stderr",
     "output_type": "stream",
     "text": [
      "num_leaves, val_score: 119.047561:  25%|##5       | 5/20 [01:08<03:33, 14.21s/it]\u001b[32m[I 2021-06-22 05:48:43,353]\u001b[0m Trial 11 finished with value: 119.81065064719363 and parameters: {'num_leaves': 156}. Best is trial 7 with value: 119.68833360926388.\u001b[0m\n",
      "num_leaves, val_score: 119.047561:  25%|##5       | 5/20 [01:08<03:33, 14.21s/it]"
     ]
    },
    {
     "name": "stdout",
     "output_type": "stream",
     "text": [
      "[100]\tvalid_0's rmse: 12.3207\tvalid_1's rmse: 191.102\n",
      "Early stopping, best iteration is:\n",
      "[1]\tvalid_0's rmse: 100.886\tvalid_1's rmse: 119.811\n",
      "[LightGBM] [Warning] Auto-choosing row-wise multi-threading, the overhead of testing was 0.113589 seconds.\n",
      "You can set `force_row_wise=true` to remove the overhead.\n",
      "And if memory is not enough, you can set `force_col_wise=true`.\n",
      "[LightGBM] [Info] Total Bins 120623\n",
      "[LightGBM] [Info] Number of data points in the train set: 125626, number of used features: 474\n",
      "[LightGBM] [Info] Start training from score 192.148234\n",
      "Training until validation scores don't improve for 100 rounds\n"
     ]
    },
    {
     "name": "stderr",
     "output_type": "stream",
     "text": [
      "num_leaves, val_score: 119.047561:  30%|###       | 6/20 [01:15<02:41, 11.57s/it]\u001b[32m[I 2021-06-22 05:48:49,797]\u001b[0m Trial 12 finished with value: 120.1469962058098 and parameters: {'num_leaves': 22}. Best is trial 7 with value: 119.68833360926388.\u001b[0m\n",
      "num_leaves, val_score: 119.047561:  30%|###       | 6/20 [01:15<02:41, 11.57s/it]"
     ]
    },
    {
     "name": "stdout",
     "output_type": "stream",
     "text": [
      "[100]\tvalid_0's rmse: 29.0677\tvalid_1's rmse: 191.85\n",
      "Early stopping, best iteration is:\n",
      "[1]\tvalid_0's rmse: 102.348\tvalid_1's rmse: 120.147\n",
      "[LightGBM] [Warning] Auto-choosing row-wise multi-threading, the overhead of testing was 0.114451 seconds.\n",
      "You can set `force_row_wise=true` to remove the overhead.\n",
      "And if memory is not enough, you can set `force_col_wise=true`.\n",
      "[LightGBM] [Info] Total Bins 120623\n",
      "[LightGBM] [Info] Number of data points in the train set: 125626, number of used features: 474\n",
      "[LightGBM] [Info] Start training from score 192.148234\n",
      "Training until validation scores don't improve for 100 rounds\n"
     ]
    },
    {
     "name": "stderr",
     "output_type": "stream",
     "text": [
      "num_leaves, val_score: 119.047561:  35%|###5      | 7/20 [01:31<02:49, 13.01s/it]\u001b[32m[I 2021-06-22 05:49:05,784]\u001b[0m Trial 13 finished with value: 119.69375598891355 and parameters: {'num_leaves': 222}. Best is trial 7 with value: 119.68833360926388.\u001b[0m\n",
      "num_leaves, val_score: 119.047561:  35%|###5      | 7/20 [01:31<02:49, 13.01s/it]"
     ]
    },
    {
     "name": "stdout",
     "output_type": "stream",
     "text": [
      "[100]\tvalid_0's rmse: 9.65384\tvalid_1's rmse: 192.069\n",
      "Early stopping, best iteration is:\n",
      "[1]\tvalid_0's rmse: 100.687\tvalid_1's rmse: 119.694\n",
      "[LightGBM] [Warning] Auto-choosing row-wise multi-threading, the overhead of testing was 0.104616 seconds.\n",
      "You can set `force_row_wise=true` to remove the overhead.\n",
      "And if memory is not enough, you can set `force_col_wise=true`.\n",
      "[LightGBM] [Info] Total Bins 120623\n",
      "[LightGBM] [Info] Number of data points in the train set: 125626, number of used features: 474\n",
      "[LightGBM] [Info] Start training from score 192.148234\n",
      "Training until validation scores don't improve for 100 rounds\n"
     ]
    },
    {
     "name": "stderr",
     "output_type": "stream",
     "text": [
      "num_leaves, val_score: 119.047561:  40%|####      | 8/20 [01:40<02:21, 11.77s/it]\u001b[32m[I 2021-06-22 05:49:14,902]\u001b[0m Trial 14 finished with value: 119.7213987357888 and parameters: {'num_leaves': 60}. Best is trial 7 with value: 119.68833360926388.\u001b[0m\n",
      "num_leaves, val_score: 119.047561:  40%|####      | 8/20 [01:40<02:21, 11.77s/it]"
     ]
    },
    {
     "name": "stdout",
     "output_type": "stream",
     "text": [
      "[100]\tvalid_0's rmse: 20.0223\tvalid_1's rmse: 195.175\n",
      "Early stopping, best iteration is:\n",
      "[1]\tvalid_0's rmse: 101.558\tvalid_1's rmse: 119.721\n",
      "[LightGBM] [Warning] Auto-choosing row-wise multi-threading, the overhead of testing was 0.114808 seconds.\n",
      "You can set `force_row_wise=true` to remove the overhead.\n",
      "And if memory is not enough, you can set `force_col_wise=true`.\n",
      "[LightGBM] [Info] Total Bins 120623\n",
      "[LightGBM] [Info] Number of data points in the train set: 125626, number of used features: 474\n",
      "[LightGBM] [Info] Start training from score 192.148234\n",
      "Training until validation scores don't improve for 100 rounds\n"
     ]
    },
    {
     "name": "stderr",
     "output_type": "stream",
     "text": [
      "num_leaves, val_score: 119.047561:  45%|####5     | 9/20 [01:51<02:07, 11.63s/it]\u001b[32m[I 2021-06-22 05:49:26,229]\u001b[0m Trial 15 finished with value: 119.68512094327106 and parameters: {'num_leaves': 78}. Best is trial 15 with value: 119.68512094327106.\u001b[0m\n",
      "num_leaves, val_score: 119.047561:  45%|####5     | 9/20 [01:51<02:07, 11.63s/it]"
     ]
    },
    {
     "name": "stdout",
     "output_type": "stream",
     "text": [
      "[100]\tvalid_0's rmse: 17.8917\tvalid_1's rmse: 195.141\n",
      "Early stopping, best iteration is:\n",
      "[1]\tvalid_0's rmse: 101.356\tvalid_1's rmse: 119.685\n",
      "[LightGBM] [Warning] Auto-choosing row-wise multi-threading, the overhead of testing was 0.113017 seconds.\n",
      "You can set `force_row_wise=true` to remove the overhead.\n",
      "And if memory is not enough, you can set `force_col_wise=true`.\n",
      "[LightGBM] [Info] Total Bins 120623\n",
      "[LightGBM] [Info] Number of data points in the train set: 125626, number of used features: 474\n",
      "[LightGBM] [Info] Start training from score 192.148234\n",
      "Training until validation scores don't improve for 100 rounds\n",
      "[100]\tvalid_0's rmse: 9.1676\tvalid_1's rmse: 193.004\n"
     ]
    },
    {
     "name": "stderr",
     "output_type": "stream",
     "text": [
      "num_leaves, val_score: 119.047561:  50%|#####     | 10/20 [02:25<03:04, 18.49s/it]\u001b[32m[I 2021-06-22 05:50:00,078]\u001b[0m Trial 16 finished with value: 119.70358533945152 and parameters: {'num_leaves': 238}. Best is trial 15 with value: 119.68512094327106.\u001b[0m\n",
      "num_leaves, val_score: 119.047561:  50%|#####     | 10/20 [02:25<03:04, 18.49s/it]"
     ]
    },
    {
     "name": "stdout",
     "output_type": "stream",
     "text": [
      "Early stopping, best iteration is:\n",
      "[1]\tvalid_0's rmse: 100.659\tvalid_1's rmse: 119.704\n",
      "[LightGBM] [Warning] Auto-choosing row-wise multi-threading, the overhead of testing was 0.099333 seconds.\n",
      "You can set `force_row_wise=true` to remove the overhead.\n",
      "And if memory is not enough, you can set `force_col_wise=true`.\n",
      "[LightGBM] [Info] Total Bins 120623\n",
      "[LightGBM] [Info] Number of data points in the train set: 125626, number of used features: 474\n",
      "[LightGBM] [Info] Start training from score 192.148234\n",
      "Training until validation scores don't improve for 100 rounds\n"
     ]
    },
    {
     "name": "stderr",
     "output_type": "stream",
     "text": [
      "num_leaves, val_score: 119.047561:  55%|#####5    | 11/20 [02:38<02:31, 16.83s/it]\u001b[32m[I 2021-06-22 05:50:13,152]\u001b[0m Trial 17 finished with value: 119.39968047199699 and parameters: {'num_leaves': 111}. Best is trial 17 with value: 119.39968047199699.\u001b[0m\n",
      "num_leaves, val_score: 119.047561:  55%|#####5    | 11/20 [02:38<02:31, 16.83s/it]"
     ]
    },
    {
     "name": "stdout",
     "output_type": "stream",
     "text": [
      "[100]\tvalid_0's rmse: 14.9679\tvalid_1's rmse: 192.038\n",
      "Early stopping, best iteration is:\n",
      "[1]\tvalid_0's rmse: 101.098\tvalid_1's rmse: 119.4\n",
      "[LightGBM] [Warning] Auto-choosing row-wise multi-threading, the overhead of testing was 0.109199 seconds.\n",
      "You can set `force_row_wise=true` to remove the overhead.\n",
      "And if memory is not enough, you can set `force_col_wise=true`.\n",
      "[LightGBM] [Info] Total Bins 120623\n",
      "[LightGBM] [Info] Number of data points in the train set: 125626, number of used features: 474\n",
      "[LightGBM] [Info] Start training from score 192.148234\n",
      "Training until validation scores don't improve for 100 rounds\n"
     ]
    },
    {
     "name": "stderr",
     "output_type": "stream",
     "text": [
      "num_leaves, val_score: 119.047561:  60%|######    | 12/20 [02:50<02:02, 15.25s/it]\u001b[32m[I 2021-06-22 05:50:24,796]\u001b[0m Trial 18 finished with value: 119.3978752343847 and parameters: {'num_leaves': 110}. Best is trial 18 with value: 119.3978752343847.\u001b[0m\n",
      "num_leaves, val_score: 119.047561:  60%|######    | 12/20 [02:50<02:02, 15.25s/it]"
     ]
    },
    {
     "name": "stdout",
     "output_type": "stream",
     "text": [
      "[100]\tvalid_0's rmse: 15.1189\tvalid_1's rmse: 194.175\n",
      "Early stopping, best iteration is:\n",
      "[1]\tvalid_0's rmse: 101.104\tvalid_1's rmse: 119.398\n",
      "[LightGBM] [Warning] Auto-choosing row-wise multi-threading, the overhead of testing was 0.113468 seconds.\n",
      "You can set `force_row_wise=true` to remove the overhead.\n",
      "And if memory is not enough, you can set `force_col_wise=true`.\n",
      "[LightGBM] [Info] Total Bins 120623\n",
      "[LightGBM] [Info] Number of data points in the train set: 125626, number of used features: 474\n",
      "[LightGBM] [Info] Start training from score 192.148234\n",
      "Training until validation scores don't improve for 100 rounds\n"
     ]
    },
    {
     "name": "stderr",
     "output_type": "stream",
     "text": [
      "num_leaves, val_score: 119.047561:  65%|######5   | 13/20 [03:02<01:40, 14.30s/it]\u001b[32m[I 2021-06-22 05:50:36,900]\u001b[0m Trial 19 finished with value: 119.38564377352468 and parameters: {'num_leaves': 117}. Best is trial 19 with value: 119.38564377352468.\u001b[0m\n",
      "num_leaves, val_score: 119.047561:  65%|######5   | 13/20 [03:02<01:40, 14.30s/it]"
     ]
    },
    {
     "name": "stdout",
     "output_type": "stream",
     "text": [
      "[100]\tvalid_0's rmse: 14.3621\tvalid_1's rmse: 190.057\n",
      "Early stopping, best iteration is:\n",
      "[1]\tvalid_0's rmse: 101.066\tvalid_1's rmse: 119.386\n",
      "[LightGBM] [Warning] Auto-choosing row-wise multi-threading, the overhead of testing was 0.108745 seconds.\n",
      "You can set `force_row_wise=true` to remove the overhead.\n",
      "And if memory is not enough, you can set `force_col_wise=true`.\n",
      "[LightGBM] [Info] Total Bins 120623\n",
      "[LightGBM] [Info] Number of data points in the train set: 125626, number of used features: 474\n",
      "[LightGBM] [Info] Start training from score 192.148234\n",
      "Training until validation scores don't improve for 100 rounds\n"
     ]
    },
    {
     "name": "stderr",
     "output_type": "stream",
     "text": [
      "num_leaves, val_score: 119.047561:  70%|#######   | 14/20 [03:15<01:23, 13.86s/it]\u001b[32m[I 2021-06-22 05:50:49,741]\u001b[0m Trial 20 finished with value: 119.50426904320656 and parameters: {'num_leaves': 131}. Best is trial 19 with value: 119.38564377352468.\u001b[0m\n",
      "num_leaves, val_score: 119.047561:  70%|#######   | 14/20 [03:15<01:23, 13.86s/it]"
     ]
    },
    {
     "name": "stdout",
     "output_type": "stream",
     "text": [
      "[100]\tvalid_0's rmse: 13.7466\tvalid_1's rmse: 191.765\n",
      "Early stopping, best iteration is:\n",
      "[1]\tvalid_0's rmse: 100.991\tvalid_1's rmse: 119.504\n",
      "[LightGBM] [Warning] Auto-choosing row-wise multi-threading, the overhead of testing was 0.116153 seconds.\n",
      "You can set `force_row_wise=true` to remove the overhead.\n",
      "And if memory is not enough, you can set `force_col_wise=true`.\n",
      "[LightGBM] [Info] Total Bins 120623\n",
      "[LightGBM] [Info] Number of data points in the train set: 125626, number of used features: 474\n",
      "[LightGBM] [Info] Start training from score 192.148234\n",
      "Training until validation scores don't improve for 100 rounds\n"
     ]
    },
    {
     "name": "stderr",
     "output_type": "stream",
     "text": [
      "num_leaves, val_score: 119.047561:  75%|#######5  | 15/20 [03:27<01:07, 13.49s/it]\u001b[32m[I 2021-06-22 05:51:02,389]\u001b[0m Trial 21 finished with value: 119.399680471997 and parameters: {'num_leaves': 111}. Best is trial 19 with value: 119.38564377352468.\u001b[0m\n",
      "num_leaves, val_score: 119.047561:  75%|#######5  | 15/20 [03:27<01:07, 13.49s/it]"
     ]
    },
    {
     "name": "stdout",
     "output_type": "stream",
     "text": [
      "[100]\tvalid_0's rmse: 14.9679\tvalid_1's rmse: 192.038\n",
      "Early stopping, best iteration is:\n",
      "[1]\tvalid_0's rmse: 101.098\tvalid_1's rmse: 119.4\n",
      "[LightGBM] [Warning] Auto-choosing row-wise multi-threading, the overhead of testing was 0.115043 seconds.\n",
      "You can set `force_row_wise=true` to remove the overhead.\n",
      "And if memory is not enough, you can set `force_col_wise=true`.\n",
      "[LightGBM] [Info] Total Bins 120623\n",
      "[LightGBM] [Info] Number of data points in the train set: 125626, number of used features: 474\n",
      "[LightGBM] [Info] Start training from score 192.148234\n",
      "Training until validation scores don't improve for 100 rounds\n"
     ]
    },
    {
     "name": "stderr",
     "output_type": "stream",
     "text": [
      "num_leaves, val_score: 119.047561:  80%|########  | 16/20 [03:59<01:15, 18.91s/it]\u001b[32m[I 2021-06-22 05:51:33,868]\u001b[0m Trial 22 finished with value: 119.53584776716588 and parameters: {'num_leaves': 149}. Best is trial 19 with value: 119.38564377352468.\u001b[0m\n",
      "num_leaves, val_score: 119.047561:  80%|########  | 16/20 [03:59<01:15, 18.91s/it]"
     ]
    },
    {
     "name": "stdout",
     "output_type": "stream",
     "text": [
      "[100]\tvalid_0's rmse: 12.6985\tvalid_1's rmse: 190.844\n",
      "Early stopping, best iteration is:\n",
      "[1]\tvalid_0's rmse: 100.912\tvalid_1's rmse: 119.536\n",
      "[LightGBM] [Warning] Auto-choosing row-wise multi-threading, the overhead of testing was 0.120401 seconds.\n",
      "You can set `force_row_wise=true` to remove the overhead.\n",
      "And if memory is not enough, you can set `force_col_wise=true`.\n",
      "[LightGBM] [Info] Total Bins 120623\n",
      "[LightGBM] [Info] Number of data points in the train set: 125626, number of used features: 474\n"
     ]
    },
    {
     "ename": "KeyboardInterrupt",
     "evalue": "",
     "output_type": "error",
     "traceback": [
      "\u001b[0;31m---------------------------------------------------------------------------\u001b[0m",
      "\u001b[0;31mKeyboardInterrupt\u001b[0m                         Traceback (most recent call last)",
      "\u001b[0;32m<ipython-input-25-d9f6497c6d63>\u001b[0m in \u001b[0;36m<module>\u001b[0;34m\u001b[0m\n\u001b[1;32m     17\u001b[0m \u001b[0;34m\u001b[0m\u001b[0m\n\u001b[1;32m     18\u001b[0m study = optuna_lgb.train(params, tr_data, valid_sets=[tr_data, vl_data],\n\u001b[0;32m---> 19\u001b[0;31m                          num_boost_round=20000, early_stopping_rounds=100, verbose_eval=100)\n\u001b[0m",
      "\u001b[0;32m/opt/conda/lib/python3.7/site-packages/optuna/integration/_lightgbm_tuner/__init__.py\u001b[0m in \u001b[0;36mtrain\u001b[0;34m(*args, **kwargs)\u001b[0m\n\u001b[1;32m     33\u001b[0m \u001b[0;34m\u001b[0m\u001b[0m\n\u001b[1;32m     34\u001b[0m     \u001b[0mauto_booster\u001b[0m \u001b[0;34m=\u001b[0m \u001b[0mLightGBMTuner\u001b[0m\u001b[0;34m(\u001b[0m\u001b[0;34m*\u001b[0m\u001b[0margs\u001b[0m\u001b[0;34m,\u001b[0m \u001b[0;34m**\u001b[0m\u001b[0mkwargs\u001b[0m\u001b[0;34m)\u001b[0m\u001b[0;34m\u001b[0m\u001b[0;34m\u001b[0m\u001b[0m\n\u001b[0;32m---> 35\u001b[0;31m     \u001b[0mauto_booster\u001b[0m\u001b[0;34m.\u001b[0m\u001b[0mrun\u001b[0m\u001b[0;34m(\u001b[0m\u001b[0;34m)\u001b[0m\u001b[0;34m\u001b[0m\u001b[0;34m\u001b[0m\u001b[0m\n\u001b[0m\u001b[1;32m     36\u001b[0m     \u001b[0;32mreturn\u001b[0m \u001b[0mauto_booster\u001b[0m\u001b[0;34m.\u001b[0m\u001b[0mget_best_booster\u001b[0m\u001b[0;34m(\u001b[0m\u001b[0;34m)\u001b[0m\u001b[0;34m\u001b[0m\u001b[0;34m\u001b[0m\u001b[0m\n",
      "\u001b[0;32m/opt/conda/lib/python3.7/site-packages/optuna/integration/_lightgbm_tuner/optimize.py\u001b[0m in \u001b[0;36mrun\u001b[0;34m(self)\u001b[0m\n\u001b[1;32m    542\u001b[0m \u001b[0;34m\u001b[0m\u001b[0m\n\u001b[1;32m    543\u001b[0m         \u001b[0mself\u001b[0m\u001b[0;34m.\u001b[0m\u001b[0mtune_feature_fraction\u001b[0m\u001b[0;34m(\u001b[0m\u001b[0;34m)\u001b[0m\u001b[0;34m\u001b[0m\u001b[0;34m\u001b[0m\u001b[0m\n\u001b[0;32m--> 544\u001b[0;31m         \u001b[0mself\u001b[0m\u001b[0;34m.\u001b[0m\u001b[0mtune_num_leaves\u001b[0m\u001b[0;34m(\u001b[0m\u001b[0;34m)\u001b[0m\u001b[0;34m\u001b[0m\u001b[0;34m\u001b[0m\u001b[0m\n\u001b[0m\u001b[1;32m    545\u001b[0m         \u001b[0mself\u001b[0m\u001b[0;34m.\u001b[0m\u001b[0mtune_bagging\u001b[0m\u001b[0;34m(\u001b[0m\u001b[0;34m)\u001b[0m\u001b[0;34m\u001b[0m\u001b[0;34m\u001b[0m\u001b[0m\n\u001b[1;32m    546\u001b[0m         \u001b[0mself\u001b[0m\u001b[0;34m.\u001b[0m\u001b[0mtune_feature_fraction_stage2\u001b[0m\u001b[0;34m(\u001b[0m\u001b[0;34m)\u001b[0m\u001b[0;34m\u001b[0m\u001b[0;34m\u001b[0m\u001b[0m\n",
      "\u001b[0;32m/opt/conda/lib/python3.7/site-packages/optuna/integration/_lightgbm_tuner/optimize.py\u001b[0m in \u001b[0;36mtune_num_leaves\u001b[0;34m(self, n_trials)\u001b[0m\n\u001b[1;32m    569\u001b[0m \u001b[0;34m\u001b[0m\u001b[0m\n\u001b[1;32m    570\u001b[0m     \u001b[0;32mdef\u001b[0m \u001b[0mtune_num_leaves\u001b[0m\u001b[0;34m(\u001b[0m\u001b[0mself\u001b[0m\u001b[0;34m,\u001b[0m \u001b[0mn_trials\u001b[0m\u001b[0;34m:\u001b[0m \u001b[0mint\u001b[0m \u001b[0;34m=\u001b[0m \u001b[0;36m20\u001b[0m\u001b[0;34m)\u001b[0m \u001b[0;34m->\u001b[0m \u001b[0;32mNone\u001b[0m\u001b[0;34m:\u001b[0m\u001b[0;34m\u001b[0m\u001b[0;34m\u001b[0m\u001b[0m\n\u001b[0;32m--> 571\u001b[0;31m         \u001b[0mself\u001b[0m\u001b[0;34m.\u001b[0m\u001b[0m_tune_params\u001b[0m\u001b[0;34m(\u001b[0m\u001b[0;34m[\u001b[0m\u001b[0;34m\"num_leaves\"\u001b[0m\u001b[0;34m]\u001b[0m\u001b[0;34m,\u001b[0m \u001b[0mn_trials\u001b[0m\u001b[0;34m,\u001b[0m \u001b[0moptuna\u001b[0m\u001b[0;34m.\u001b[0m\u001b[0msamplers\u001b[0m\u001b[0;34m.\u001b[0m\u001b[0mTPESampler\u001b[0m\u001b[0;34m(\u001b[0m\u001b[0;34m)\u001b[0m\u001b[0;34m,\u001b[0m \u001b[0;34m\"num_leaves\"\u001b[0m\u001b[0;34m)\u001b[0m\u001b[0;34m\u001b[0m\u001b[0;34m\u001b[0m\u001b[0m\n\u001b[0m\u001b[1;32m    572\u001b[0m \u001b[0;34m\u001b[0m\u001b[0m\n\u001b[1;32m    573\u001b[0m     \u001b[0;32mdef\u001b[0m \u001b[0mtune_bagging\u001b[0m\u001b[0;34m(\u001b[0m\u001b[0mself\u001b[0m\u001b[0;34m,\u001b[0m \u001b[0mn_trials\u001b[0m\u001b[0;34m:\u001b[0m \u001b[0mint\u001b[0m \u001b[0;34m=\u001b[0m \u001b[0;36m10\u001b[0m\u001b[0;34m)\u001b[0m \u001b[0;34m->\u001b[0m \u001b[0;32mNone\u001b[0m\u001b[0;34m:\u001b[0m\u001b[0;34m\u001b[0m\u001b[0;34m\u001b[0m\u001b[0m\n",
      "\u001b[0;32m/opt/conda/lib/python3.7/site-packages/optuna/integration/_lightgbm_tuner/optimize.py\u001b[0m in \u001b[0;36m_tune_params\u001b[0;34m(self, target_param_names, n_trials, sampler, step_name)\u001b[0m\n\u001b[1;32m    646\u001b[0m                 \u001b[0mtimeout\u001b[0m\u001b[0;34m=\u001b[0m\u001b[0m_timeout\u001b[0m\u001b[0;34m,\u001b[0m\u001b[0;34m\u001b[0m\u001b[0;34m\u001b[0m\u001b[0m\n\u001b[1;32m    647\u001b[0m                 \u001b[0mcatch\u001b[0m\u001b[0;34m=\u001b[0m\u001b[0;34m(\u001b[0m\u001b[0;34m)\u001b[0m\u001b[0;34m,\u001b[0m\u001b[0;34m\u001b[0m\u001b[0;34m\u001b[0m\u001b[0m\n\u001b[0;32m--> 648\u001b[0;31m                 \u001b[0mcallbacks\u001b[0m\u001b[0;34m=\u001b[0m\u001b[0mself\u001b[0m\u001b[0;34m.\u001b[0m\u001b[0m_optuna_callbacks\u001b[0m\u001b[0;34m,\u001b[0m\u001b[0;34m\u001b[0m\u001b[0;34m\u001b[0m\u001b[0m\n\u001b[0m\u001b[1;32m    649\u001b[0m             )\n\u001b[1;32m    650\u001b[0m \u001b[0;34m\u001b[0m\u001b[0m\n",
      "\u001b[0;32m/opt/conda/lib/python3.7/site-packages/optuna/study.py\u001b[0m in \u001b[0;36moptimize\u001b[0;34m(self, func, n_trials, timeout, n_jobs, catch, callbacks, gc_after_trial, show_progress_bar)\u001b[0m\n\u001b[1;32m    407\u001b[0m             \u001b[0mcallbacks\u001b[0m\u001b[0;34m=\u001b[0m\u001b[0mcallbacks\u001b[0m\u001b[0;34m,\u001b[0m\u001b[0;34m\u001b[0m\u001b[0;34m\u001b[0m\u001b[0m\n\u001b[1;32m    408\u001b[0m             \u001b[0mgc_after_trial\u001b[0m\u001b[0;34m=\u001b[0m\u001b[0mgc_after_trial\u001b[0m\u001b[0;34m,\u001b[0m\u001b[0;34m\u001b[0m\u001b[0;34m\u001b[0m\u001b[0m\n\u001b[0;32m--> 409\u001b[0;31m             \u001b[0mshow_progress_bar\u001b[0m\u001b[0;34m=\u001b[0m\u001b[0mshow_progress_bar\u001b[0m\u001b[0;34m,\u001b[0m\u001b[0;34m\u001b[0m\u001b[0;34m\u001b[0m\u001b[0m\n\u001b[0m\u001b[1;32m    410\u001b[0m         )\n\u001b[1;32m    411\u001b[0m \u001b[0;34m\u001b[0m\u001b[0m\n",
      "\u001b[0;32m/opt/conda/lib/python3.7/site-packages/optuna/_optimize.py\u001b[0m in \u001b[0;36m_optimize\u001b[0;34m(study, func, n_trials, timeout, n_jobs, catch, callbacks, gc_after_trial, show_progress_bar)\u001b[0m\n\u001b[1;32m     74\u001b[0m                 \u001b[0mreseed_sampler_rng\u001b[0m\u001b[0;34m=\u001b[0m\u001b[0;32mFalse\u001b[0m\u001b[0;34m,\u001b[0m\u001b[0;34m\u001b[0m\u001b[0;34m\u001b[0m\u001b[0m\n\u001b[1;32m     75\u001b[0m                 \u001b[0mtime_start\u001b[0m\u001b[0;34m=\u001b[0m\u001b[0;32mNone\u001b[0m\u001b[0;34m,\u001b[0m\u001b[0;34m\u001b[0m\u001b[0;34m\u001b[0m\u001b[0m\n\u001b[0;32m---> 76\u001b[0;31m                 \u001b[0mprogress_bar\u001b[0m\u001b[0;34m=\u001b[0m\u001b[0mprogress_bar\u001b[0m\u001b[0;34m,\u001b[0m\u001b[0;34m\u001b[0m\u001b[0;34m\u001b[0m\u001b[0m\n\u001b[0m\u001b[1;32m     77\u001b[0m             )\n\u001b[1;32m     78\u001b[0m         \u001b[0;32melse\u001b[0m\u001b[0;34m:\u001b[0m\u001b[0;34m\u001b[0m\u001b[0;34m\u001b[0m\u001b[0m\n",
      "\u001b[0;32m/opt/conda/lib/python3.7/site-packages/optuna/_optimize.py\u001b[0m in \u001b[0;36m_optimize_sequential\u001b[0;34m(study, func, n_trials, timeout, catch, callbacks, gc_after_trial, reseed_sampler_rng, time_start, progress_bar)\u001b[0m\n\u001b[1;32m    161\u001b[0m \u001b[0;34m\u001b[0m\u001b[0m\n\u001b[1;32m    162\u001b[0m         \u001b[0;32mtry\u001b[0m\u001b[0;34m:\u001b[0m\u001b[0;34m\u001b[0m\u001b[0;34m\u001b[0m\u001b[0m\n\u001b[0;32m--> 163\u001b[0;31m             \u001b[0mtrial\u001b[0m \u001b[0;34m=\u001b[0m \u001b[0m_run_trial\u001b[0m\u001b[0;34m(\u001b[0m\u001b[0mstudy\u001b[0m\u001b[0;34m,\u001b[0m \u001b[0mfunc\u001b[0m\u001b[0;34m,\u001b[0m \u001b[0mcatch\u001b[0m\u001b[0;34m)\u001b[0m\u001b[0;34m\u001b[0m\u001b[0;34m\u001b[0m\u001b[0m\n\u001b[0m\u001b[1;32m    164\u001b[0m         \u001b[0;32mexcept\u001b[0m \u001b[0mException\u001b[0m\u001b[0;34m:\u001b[0m\u001b[0;34m\u001b[0m\u001b[0;34m\u001b[0m\u001b[0m\n\u001b[1;32m    165\u001b[0m             \u001b[0;32mraise\u001b[0m\u001b[0;34m\u001b[0m\u001b[0;34m\u001b[0m\u001b[0m\n",
      "\u001b[0;32m/opt/conda/lib/python3.7/site-packages/optuna/_optimize.py\u001b[0m in \u001b[0;36m_run_trial\u001b[0;34m(study, func, catch)\u001b[0m\n\u001b[1;32m    215\u001b[0m \u001b[0;34m\u001b[0m\u001b[0m\n\u001b[1;32m    216\u001b[0m     \u001b[0;32mtry\u001b[0m\u001b[0;34m:\u001b[0m\u001b[0;34m\u001b[0m\u001b[0;34m\u001b[0m\u001b[0m\n\u001b[0;32m--> 217\u001b[0;31m         \u001b[0mvalue_or_values\u001b[0m \u001b[0;34m=\u001b[0m \u001b[0mfunc\u001b[0m\u001b[0;34m(\u001b[0m\u001b[0mtrial\u001b[0m\u001b[0;34m)\u001b[0m\u001b[0;34m\u001b[0m\u001b[0;34m\u001b[0m\u001b[0m\n\u001b[0m\u001b[1;32m    218\u001b[0m     \u001b[0;32mexcept\u001b[0m \u001b[0mexceptions\u001b[0m\u001b[0;34m.\u001b[0m\u001b[0mTrialPruned\u001b[0m \u001b[0;32mas\u001b[0m \u001b[0me\u001b[0m\u001b[0;34m:\u001b[0m\u001b[0;34m\u001b[0m\u001b[0;34m\u001b[0m\u001b[0m\n\u001b[1;32m    219\u001b[0m         \u001b[0;31m# TODO(mamu): Handle multi-objective cases.\u001b[0m\u001b[0;34m\u001b[0m\u001b[0;34m\u001b[0m\u001b[0;34m\u001b[0m\u001b[0m\n",
      "\u001b[0;32m/opt/conda/lib/python3.7/site-packages/optuna/integration/_lightgbm_tuner/optimize.py\u001b[0m in \u001b[0;36m__call__\u001b[0;34m(self, trial)\u001b[0m\n\u001b[1;32m    247\u001b[0m         \u001b[0mkwargs\u001b[0m \u001b[0;34m=\u001b[0m \u001b[0mcopy\u001b[0m\u001b[0;34m.\u001b[0m\u001b[0mcopy\u001b[0m\u001b[0;34m(\u001b[0m\u001b[0mself\u001b[0m\u001b[0;34m.\u001b[0m\u001b[0mlgbm_kwargs\u001b[0m\u001b[0;34m)\u001b[0m\u001b[0;34m\u001b[0m\u001b[0;34m\u001b[0m\u001b[0m\n\u001b[1;32m    248\u001b[0m         \u001b[0mkwargs\u001b[0m\u001b[0;34m[\u001b[0m\u001b[0;34m\"valid_sets\"\u001b[0m\u001b[0;34m]\u001b[0m \u001b[0;34m=\u001b[0m \u001b[0mself\u001b[0m\u001b[0;34m.\u001b[0m\u001b[0m_copy_valid_sets\u001b[0m\u001b[0;34m(\u001b[0m\u001b[0mkwargs\u001b[0m\u001b[0;34m[\u001b[0m\u001b[0;34m\"valid_sets\"\u001b[0m\u001b[0;34m]\u001b[0m\u001b[0;34m)\u001b[0m\u001b[0;34m\u001b[0m\u001b[0;34m\u001b[0m\u001b[0m\n\u001b[0;32m--> 249\u001b[0;31m         \u001b[0mbooster\u001b[0m \u001b[0;34m=\u001b[0m \u001b[0mlgb\u001b[0m\u001b[0;34m.\u001b[0m\u001b[0mtrain\u001b[0m\u001b[0;34m(\u001b[0m\u001b[0mself\u001b[0m\u001b[0;34m.\u001b[0m\u001b[0mlgbm_params\u001b[0m\u001b[0;34m,\u001b[0m \u001b[0mtrain_set\u001b[0m\u001b[0;34m,\u001b[0m \u001b[0;34m**\u001b[0m\u001b[0mkwargs\u001b[0m\u001b[0;34m)\u001b[0m\u001b[0;34m\u001b[0m\u001b[0;34m\u001b[0m\u001b[0m\n\u001b[0m\u001b[1;32m    250\u001b[0m \u001b[0;34m\u001b[0m\u001b[0m\n\u001b[1;32m    251\u001b[0m         \u001b[0mval_score\u001b[0m \u001b[0;34m=\u001b[0m \u001b[0mself\u001b[0m\u001b[0;34m.\u001b[0m\u001b[0m_get_booster_best_score\u001b[0m\u001b[0;34m(\u001b[0m\u001b[0mbooster\u001b[0m\u001b[0;34m)\u001b[0m\u001b[0;34m\u001b[0m\u001b[0;34m\u001b[0m\u001b[0m\n",
      "\u001b[0;32m/opt/conda/lib/python3.7/site-packages/lightgbm/engine.py\u001b[0m in \u001b[0;36mtrain\u001b[0;34m(params, train_set, num_boost_round, valid_sets, valid_names, fobj, feval, init_model, feature_name, categorical_feature, early_stopping_rounds, evals_result, verbose_eval, learning_rates, keep_training_booster, callbacks)\u001b[0m\n\u001b[1;32m    230\u001b[0m             \u001b[0mbooster\u001b[0m\u001b[0;34m.\u001b[0m\u001b[0mset_train_data_name\u001b[0m\u001b[0;34m(\u001b[0m\u001b[0mtrain_data_name\u001b[0m\u001b[0;34m)\u001b[0m\u001b[0;34m\u001b[0m\u001b[0;34m\u001b[0m\u001b[0m\n\u001b[1;32m    231\u001b[0m         \u001b[0;32mfor\u001b[0m \u001b[0mvalid_set\u001b[0m\u001b[0;34m,\u001b[0m \u001b[0mname_valid_set\u001b[0m \u001b[0;32min\u001b[0m \u001b[0mzip\u001b[0m\u001b[0;34m(\u001b[0m\u001b[0mreduced_valid_sets\u001b[0m\u001b[0;34m,\u001b[0m \u001b[0mname_valid_sets\u001b[0m\u001b[0;34m)\u001b[0m\u001b[0;34m:\u001b[0m\u001b[0;34m\u001b[0m\u001b[0;34m\u001b[0m\u001b[0m\n\u001b[0;32m--> 232\u001b[0;31m             \u001b[0mbooster\u001b[0m\u001b[0;34m.\u001b[0m\u001b[0madd_valid\u001b[0m\u001b[0;34m(\u001b[0m\u001b[0mvalid_set\u001b[0m\u001b[0;34m,\u001b[0m \u001b[0mname_valid_set\u001b[0m\u001b[0;34m)\u001b[0m\u001b[0;34m\u001b[0m\u001b[0;34m\u001b[0m\u001b[0m\n\u001b[0m\u001b[1;32m    233\u001b[0m     \u001b[0;32mfinally\u001b[0m\u001b[0;34m:\u001b[0m\u001b[0;34m\u001b[0m\u001b[0;34m\u001b[0m\u001b[0m\n\u001b[1;32m    234\u001b[0m         \u001b[0mtrain_set\u001b[0m\u001b[0;34m.\u001b[0m\u001b[0m_reverse_update_params\u001b[0m\u001b[0;34m(\u001b[0m\u001b[0;34m)\u001b[0m\u001b[0;34m\u001b[0m\u001b[0;34m\u001b[0m\u001b[0m\n",
      "\u001b[0;32m/opt/conda/lib/python3.7/site-packages/lightgbm/basic.py\u001b[0m in \u001b[0;36madd_valid\u001b[0;34m(self, data, name)\u001b[0m\n\u001b[1;32m   2557\u001b[0m         _safe_call(_LIB.LGBM_BoosterAddValidData(\n\u001b[1;32m   2558\u001b[0m             \u001b[0mself\u001b[0m\u001b[0;34m.\u001b[0m\u001b[0mhandle\u001b[0m\u001b[0;34m,\u001b[0m\u001b[0;34m\u001b[0m\u001b[0;34m\u001b[0m\u001b[0m\n\u001b[0;32m-> 2559\u001b[0;31m             data.construct().handle))\n\u001b[0m\u001b[1;32m   2560\u001b[0m         \u001b[0mself\u001b[0m\u001b[0;34m.\u001b[0m\u001b[0mvalid_sets\u001b[0m\u001b[0;34m.\u001b[0m\u001b[0mappend\u001b[0m\u001b[0;34m(\u001b[0m\u001b[0mdata\u001b[0m\u001b[0;34m)\u001b[0m\u001b[0;34m\u001b[0m\u001b[0;34m\u001b[0m\u001b[0m\n\u001b[1;32m   2561\u001b[0m         \u001b[0mself\u001b[0m\u001b[0;34m.\u001b[0m\u001b[0mname_valid_sets\u001b[0m\u001b[0;34m.\u001b[0m\u001b[0mappend\u001b[0m\u001b[0;34m(\u001b[0m\u001b[0mname\u001b[0m\u001b[0;34m)\u001b[0m\u001b[0;34m\u001b[0m\u001b[0;34m\u001b[0m\u001b[0m\n",
      "\u001b[0;32m/opt/conda/lib/python3.7/site-packages/lightgbm/basic.py\u001b[0m in \u001b[0;36mconstruct\u001b[0;34m(self)\u001b[0m\n\u001b[1;32m   1438\u001b[0m                                     \u001b[0mweight\u001b[0m\u001b[0;34m=\u001b[0m\u001b[0mself\u001b[0m\u001b[0;34m.\u001b[0m\u001b[0mweight\u001b[0m\u001b[0;34m,\u001b[0m \u001b[0mgroup\u001b[0m\u001b[0;34m=\u001b[0m\u001b[0mself\u001b[0m\u001b[0;34m.\u001b[0m\u001b[0mgroup\u001b[0m\u001b[0;34m,\u001b[0m\u001b[0;34m\u001b[0m\u001b[0;34m\u001b[0m\u001b[0m\n\u001b[1;32m   1439\u001b[0m                                     \u001b[0minit_score\u001b[0m\u001b[0;34m=\u001b[0m\u001b[0mself\u001b[0m\u001b[0;34m.\u001b[0m\u001b[0minit_score\u001b[0m\u001b[0;34m,\u001b[0m \u001b[0mpredictor\u001b[0m\u001b[0;34m=\u001b[0m\u001b[0mself\u001b[0m\u001b[0;34m.\u001b[0m\u001b[0m_predictor\u001b[0m\u001b[0;34m,\u001b[0m\u001b[0;34m\u001b[0m\u001b[0;34m\u001b[0m\u001b[0m\n\u001b[0;32m-> 1440\u001b[0;31m                                     silent=self.silent, feature_name=self.feature_name, params=self.params)\n\u001b[0m\u001b[1;32m   1441\u001b[0m                 \u001b[0;32melse\u001b[0m\u001b[0;34m:\u001b[0m\u001b[0;34m\u001b[0m\u001b[0;34m\u001b[0m\u001b[0m\n\u001b[1;32m   1442\u001b[0m                     \u001b[0;31m# construct subset\u001b[0m\u001b[0;34m\u001b[0m\u001b[0;34m\u001b[0m\u001b[0;34m\u001b[0m\u001b[0m\n",
      "\u001b[0;32m/opt/conda/lib/python3.7/site-packages/lightgbm/basic.py\u001b[0m in \u001b[0;36m_lazy_init\u001b[0;34m(self, data, label, reference, weight, group, init_score, predictor, silent, feature_name, categorical_feature, params)\u001b[0m\n\u001b[1;32m   1268\u001b[0m             \u001b[0mself\u001b[0m\u001b[0;34m.\u001b[0m\u001b[0m__init_from_csc\u001b[0m\u001b[0;34m(\u001b[0m\u001b[0mdata\u001b[0m\u001b[0;34m,\u001b[0m \u001b[0mparams_str\u001b[0m\u001b[0;34m,\u001b[0m \u001b[0mref_dataset\u001b[0m\u001b[0;34m)\u001b[0m\u001b[0;34m\u001b[0m\u001b[0;34m\u001b[0m\u001b[0m\n\u001b[1;32m   1269\u001b[0m         \u001b[0;32melif\u001b[0m \u001b[0misinstance\u001b[0m\u001b[0;34m(\u001b[0m\u001b[0mdata\u001b[0m\u001b[0;34m,\u001b[0m \u001b[0mnp\u001b[0m\u001b[0;34m.\u001b[0m\u001b[0mndarray\u001b[0m\u001b[0;34m)\u001b[0m\u001b[0;34m:\u001b[0m\u001b[0;34m\u001b[0m\u001b[0;34m\u001b[0m\u001b[0m\n\u001b[0;32m-> 1270\u001b[0;31m             \u001b[0mself\u001b[0m\u001b[0;34m.\u001b[0m\u001b[0m__init_from_np2d\u001b[0m\u001b[0;34m(\u001b[0m\u001b[0mdata\u001b[0m\u001b[0;34m,\u001b[0m \u001b[0mparams_str\u001b[0m\u001b[0;34m,\u001b[0m \u001b[0mref_dataset\u001b[0m\u001b[0;34m)\u001b[0m\u001b[0;34m\u001b[0m\u001b[0;34m\u001b[0m\u001b[0m\n\u001b[0m\u001b[1;32m   1271\u001b[0m         \u001b[0;32melif\u001b[0m \u001b[0misinstance\u001b[0m\u001b[0;34m(\u001b[0m\u001b[0mdata\u001b[0m\u001b[0;34m,\u001b[0m \u001b[0mlist\u001b[0m\u001b[0;34m)\u001b[0m \u001b[0;32mand\u001b[0m \u001b[0mlen\u001b[0m\u001b[0;34m(\u001b[0m\u001b[0mdata\u001b[0m\u001b[0;34m)\u001b[0m \u001b[0;34m>\u001b[0m \u001b[0;36m0\u001b[0m \u001b[0;32mand\u001b[0m \u001b[0mall\u001b[0m\u001b[0;34m(\u001b[0m\u001b[0misinstance\u001b[0m\u001b[0;34m(\u001b[0m\u001b[0mx\u001b[0m\u001b[0;34m,\u001b[0m \u001b[0mnp\u001b[0m\u001b[0;34m.\u001b[0m\u001b[0mndarray\u001b[0m\u001b[0;34m)\u001b[0m \u001b[0;32mfor\u001b[0m \u001b[0mx\u001b[0m \u001b[0;32min\u001b[0m \u001b[0mdata\u001b[0m\u001b[0;34m)\u001b[0m\u001b[0;34m:\u001b[0m\u001b[0;34m\u001b[0m\u001b[0;34m\u001b[0m\u001b[0m\n\u001b[1;32m   1272\u001b[0m             \u001b[0mself\u001b[0m\u001b[0;34m.\u001b[0m\u001b[0m__init_from_list_np2d\u001b[0m\u001b[0;34m(\u001b[0m\u001b[0mdata\u001b[0m\u001b[0;34m,\u001b[0m \u001b[0mparams_str\u001b[0m\u001b[0;34m,\u001b[0m \u001b[0mref_dataset\u001b[0m\u001b[0;34m)\u001b[0m\u001b[0;34m\u001b[0m\u001b[0;34m\u001b[0m\u001b[0m\n",
      "\u001b[0;32m/opt/conda/lib/python3.7/site-packages/lightgbm/basic.py\u001b[0m in \u001b[0;36m__init_from_np2d\u001b[0;34m(self, mat, params_str, ref_dataset)\u001b[0m\n\u001b[1;32m   1318\u001b[0m             \u001b[0mc_str\u001b[0m\u001b[0;34m(\u001b[0m\u001b[0mparams_str\u001b[0m\u001b[0;34m)\u001b[0m\u001b[0;34m,\u001b[0m\u001b[0;34m\u001b[0m\u001b[0;34m\u001b[0m\u001b[0m\n\u001b[1;32m   1319\u001b[0m             \u001b[0mref_dataset\u001b[0m\u001b[0;34m,\u001b[0m\u001b[0;34m\u001b[0m\u001b[0;34m\u001b[0m\u001b[0m\n\u001b[0;32m-> 1320\u001b[0;31m             ctypes.byref(self.handle)))\n\u001b[0m\u001b[1;32m   1321\u001b[0m         \u001b[0;32mreturn\u001b[0m \u001b[0mself\u001b[0m\u001b[0;34m\u001b[0m\u001b[0;34m\u001b[0m\u001b[0m\n\u001b[1;32m   1322\u001b[0m \u001b[0;34m\u001b[0m\u001b[0m\n",
      "\u001b[0;31mKeyboardInterrupt\u001b[0m: "
     ]
    }
   ],
   "source": [
    "collections = ['2021-04-22-US-SJC-1', '2021-04-29-US-SJC-2', '2021-04-28-US-SJC-1']\n",
    "\n",
    "oof1 = pd.DataFrame()\n",
    "imp1 = pd.DataFrame()\n",
    "test_preds = np.zeros(len(test))\n",
    "n = len(collections)\n",
    "\n",
    "for collection in collections:\n",
    "    print('valid : ', collection)\n",
    "    tr_idx = train[train['collectionName']!=collection].index\n",
    "    vl_idx = train[train['collectionName']==collection].index\n",
    "    tr_x, tr_y = train[features].iloc[tr_idx], train[target1].iloc[tr_idx]\n",
    "    vl_x, vl_y = train[features].iloc[vl_idx], train[target1].iloc[vl_idx]\n",
    "    tr_data = lgb.Dataset(tr_x, label=tr_y)\n",
    "    vl_data = lgb.Dataset(vl_x, label=vl_y)\n",
    "    break\n",
    "    \n",
    "study = optuna_lgb.train(params, tr_data, valid_sets=[tr_data, vl_data],\n",
    "                         num_boost_round=20000, early_stopping_rounds=100, verbose_eval=100)"
   ]
  },
  {
   "cell_type": "code",
   "execution_count": null,
   "id": "industrial-breed",
   "metadata": {},
   "outputs": [],
   "source": [
    "study.params"
   ]
  },
  {
   "cell_type": "code",
   "execution_count": null,
   "id": "fifth-congo",
   "metadata": {},
   "outputs": [],
   "source": [
    "opt_params = study.params"
   ]
  },
  {
   "cell_type": "code",
   "execution_count": null,
   "id": "known-toddler",
   "metadata": {},
   "outputs": [],
   "source": [
    "collections = ['2021-04-22-US-SJC-1', '2021-04-29-US-SJC-2', '2021-04-28-US-SJC-1']\n",
    "\n",
    "oof1 = pd.DataFrame()\n",
    "imp1 = pd.DataFrame()\n",
    "test_preds = np.zeros(len(test))\n",
    "n = len(collections)\n",
    "\n",
    "for collection in collections:\n",
    "    print('valid : ', collection)\n",
    "    tr_idx = train[train['collectionName']!=collection].index\n",
    "    vl_idx = train[train['collectionName']==collection].index\n",
    "    tr_x, tr_y = train[features].iloc[tr_idx], train[target1].iloc[tr_idx]\n",
    "    vl_x, vl_y = train[features].iloc[vl_idx], train[target1].iloc[vl_idx]\n",
    "    tr_data = lgb.Dataset(tr_x, label=tr_y)\n",
    "    vl_data = lgb.Dataset(vl_x, label=vl_y)\n",
    "    \n",
    "    model = lgb.train(opt_params, tr_data, valid_sets=[tr_data, vl_data],\n",
    "                      num_boost_round=20000, early_stopping_rounds=100, verbose_eval=100)\n",
    "    vl_pred = model.predict(vl_x, num_iteration=model.best_iteration)\n",
    "    \n",
    "    oof_tmp = train.iloc[vl_idx].copy()\n",
    "    oof_tmp['pred'] = vl_pred\n",
    "    oof1 = oof1.append(oof_tmp)\n",
    "    \n",
    "    imp_tmp = pd.DataFrame()\n",
    "    imp_tmp['feature'] = model.feature_name()\n",
    "    imp_tmp['importance'] = model.feature_importance()\n",
    "    imp_tmp['valid_collection'] = collection\n",
    "    imp1 = imp1.append(imp_tmp)\n",
    "    \n",
    "    #pred = model.predict(test[features], num_iteration=model.best_iteration)\n",
    "    #test_preds += pred / n\n",
    "#test['pred'] = test_preds"
   ]
  },
  {
   "cell_type": "markdown",
   "id": "shaped-emergency",
   "metadata": {},
   "source": [
    "# 可視化・評価"
   ]
  },
  {
   "cell_type": "code",
   "execution_count": null,
   "id": "incomplete-muscle",
   "metadata": {},
   "outputs": [],
   "source": [
    "for phone in oof1['phone'].unique():\n",
    "\n",
    "    fig, axes = plt.subplots(figsize=(30, 10), nrows=1,sharex=True)\n",
    "    tmp = oof1[oof1['phone']==phone].copy()\n",
    "    \n",
    "    axes.plot(tmp['millisSinceGpsEpoch'], tmp['deg'], label='gt')\n",
    "    axes.plot(tmp['millisSinceGpsEpoch'], tmp['calc_deg'], label='calc')\n",
    "    axes.plot(tmp['millisSinceGpsEpoch'], tmp['pred'], label='pred')\n",
    "    axes.legend(loc='upper right')\n",
    "    axes.grid(color='g', linestyle=':', linewidth=0.3)\n",
    "\n",
    "    fig.suptitle(phone, fontsize=16)\n",
    "    fig.savefig(OUTPUT + '/' + phone + '.png')\n",
    "    plt.close()"
   ]
  },
  {
   "cell_type": "code",
   "execution_count": null,
   "id": "sound-walnut",
   "metadata": {},
   "outputs": [],
   "source": []
  }
 ],
 "metadata": {
  "kernelspec": {
   "display_name": "Python 3",
   "language": "python",
   "name": "python3"
  },
  "language_info": {
   "codemirror_mode": {
    "name": "ipython",
    "version": 3
   },
   "file_extension": ".py",
   "mimetype": "text/x-python",
   "name": "python",
   "nbconvert_exporter": "python",
   "pygments_lexer": "ipython3",
   "version": "3.7.10"
  }
 },
 "nbformat": 4,
 "nbformat_minor": 5
}
