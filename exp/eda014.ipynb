{
 "cells": [
  {
   "cell_type": "markdown",
   "id": "chicken-nickname",
   "metadata": {},
   "source": [
    "# eda014\n",
    "OrientationDegの可視化"
   ]
  },
  {
   "cell_type": "code",
   "execution_count": 1,
   "id": "suited-trader",
   "metadata": {},
   "outputs": [],
   "source": [
    "import os\n",
    "import pandas as pd\n",
    "import numpy as np\n",
    "import ipynb_path\n",
    "import matplotlib.pyplot as plt\n",
    "from matplotlib_venn import venn2, venn2_circles\n",
    "import seaborn as sns\n",
    "import plotly\n",
    "import plotly.express as px\n",
    "%matplotlib inline\n",
    "pd.set_option('display.max_rows', 200)"
   ]
  },
  {
   "cell_type": "code",
   "execution_count": 2,
   "id": "likely-democrat",
   "metadata": {},
   "outputs": [],
   "source": [
    "def get_nb_name():\n",
    "    nb_path = ipynb_path.get()\n",
    "    nb_name = nb_path.rsplit('/',1)[1].replace('.ipynb','')\n",
    "    return nb_name"
   ]
  },
  {
   "cell_type": "code",
   "execution_count": 3,
   "id": "multiple-stack",
   "metadata": {},
   "outputs": [],
   "source": [
    "def visualize_trafic(df, center, zoom=9):\n",
    "    fig = px.scatter_mapbox(df,\n",
    "                            \n",
    "                            # Here, plotly gets, (x,y) coordinates\n",
    "                            lat=\"latDeg\",\n",
    "                            lon=\"lngDeg\",\n",
    "                            \n",
    "                            #Here, plotly detects color of series\n",
    "                            color=\"phoneName\",\n",
    "                            labels=\"phoneName\",\n",
    "                            \n",
    "                            zoom=zoom,\n",
    "                            center=center,\n",
    "                            height=1000,\n",
    "                            width=2000)\n",
    "    fig.update_layout(mapbox_style='stamen-terrain')\n",
    "    fig.update_layout(margin={\"r\": 0, \"t\": 0, \"l\": 0, \"b\": 0})\n",
    "    fig.update_layout(title_text=\"GPS trafic\")\n",
    "    fig.show()"
   ]
  },
  {
   "cell_type": "code",
   "execution_count": 4,
   "id": "voluntary-january",
   "metadata": {},
   "outputs": [],
   "source": [
    "def visualize_collection(df, collection):\n",
    "    target_df = df[df['collectionName']==collection].copy()\n",
    "    lat_center = target_df['latDeg'].mean()\n",
    "    lng_center = target_df['lngDeg'].mean()\n",
    "    center = {\"lat\":lat_center, \"lon\":lng_center}\n",
    "    \n",
    "    visualize_trafic(target_df, center)"
   ]
  },
  {
   "cell_type": "code",
   "execution_count": 5,
   "id": "still-royal",
   "metadata": {},
   "outputs": [],
   "source": [
    "def calc_haversine(lat1, lon1, lat2, lon2):\n",
    "    \"\"\"Calculates the great circle distance between two points\n",
    "    on the earth. Inputs are array-like and specified in decimal degrees.\n",
    "    \"\"\"\n",
    "    RADIUS = 6_367_000\n",
    "    lat1, lon1, lat2, lon2 = map(np.radians, [lat1, lon1, lat2, lon2])\n",
    "    dlat = lat2 - lat1\n",
    "    dlon = lon2 - lon1\n",
    "    a = np.sin(dlat/2)**2 + \\\n",
    "        np.cos(lat1) * np.cos(lat2) * np.sin(dlon/2)**2\n",
    "    dist = 2 * RADIUS * np.arcsin(a**0.5)\n",
    "    return dist"
   ]
  },
  {
   "cell_type": "code",
   "execution_count": 6,
   "id": "numeric-battery",
   "metadata": {},
   "outputs": [],
   "source": [
    "# directory setting\n",
    "nb_name = get_nb_name()\n",
    "INPUT = '../input/google-smartphone-decimeter-challenge'\n",
    "OUTPUT = '../output/' + nb_name\n",
    "os.makedirs(OUTPUT, exist_ok=True)"
   ]
  },
  {
   "cell_type": "code",
   "execution_count": 7,
   "id": "covered-hanging",
   "metadata": {},
   "outputs": [],
   "source": [
    "# reading data\n",
    "base_train = pd.read_csv(INPUT + '/' + 'baseline_locations_train.csv')\n",
    "base_test = pd.read_csv(INPUT + '/' + 'baseline_locations_test.csv')\n",
    "sample_sub = pd.read_csv(INPUT + '/' + 'sample_submission.csv')\n",
    "ground_truth = pd.read_csv(INPUT + '/prep/ground_truth_train.csv')"
   ]
  },
  {
   "cell_type": "code",
   "execution_count": 8,
   "id": "entertaining-antique",
   "metadata": {},
   "outputs": [],
   "source": [
    "ori_train = pd.read_csv(INPUT + '/prep/gnss/train/OrientationDeg.csv')\n",
    "ori_test = pd.read_csv(INPUT + '/prep/gnss/test/OrientationDeg.csv')"
   ]
  },
  {
   "cell_type": "code",
   "execution_count": 11,
   "id": "dutch-nightmare",
   "metadata": {},
   "outputs": [],
   "source": [
    "def viz(df, gnss, df_cols, gnss_cols, output_dir):\n",
    "    os.makedirs(output_dir, exist_ok=True)\n",
    "    gnss['millisSinceGpsEpoch'] = gnss['utcTimeMillis'] - 315964800000 + 18000\n",
    "    gnss['phone'] = gnss['collectionName'] + '_' + gnss['phoneName']\n",
    "    df['phone'] = df['collectionName'] + '_' + df['phoneName']\n",
    "    phones = df['phone'].unique()\n",
    "    \n",
    "    df_cols_n = len(df_cols)\n",
    "    gnss_cols_n = len(gnss_cols)\n",
    "    cols_n = df_cols_n + gnss_cols_n\n",
    "    \n",
    "    for phone in phones:\n",
    "        df_tmp = df[df['phone']==phone].copy()\n",
    "        gnss_tmp = gnss[gnss['phone']==phone].copy()\n",
    "        \n",
    "        if len(gnss_tmp) == 0:\n",
    "            continue\n",
    "        \n",
    "        fig, axes = plt.subplots(figsize=(5*cols_n, 20), nrows=cols_n,sharex=True)\n",
    "        for i,c in enumerate(df_cols):\n",
    "            axes[i].plot(df_tmp['millisSinceGpsEpoch'], df_tmp[c], label=c)\n",
    "        for j,c in enumerate(gnss_cols):\n",
    "            axes[i+j+1].plot(gnss_tmp['millisSinceGpsEpoch'], gnss_tmp[c], label=c)\n",
    "        for k in range(cols_n):\n",
    "            axes[k].legend(loc='upper right')\n",
    "            axes[k].grid(color='g', linestyle=':', linewidth=0.3)\n",
    "        fig.suptitle(phone, fontsize=16)\n",
    "        fig.savefig(output_dir + '/' + phone + '.png')\n",
    "        plt.close()"
   ]
  },
  {
   "cell_type": "code",
   "execution_count": 13,
   "id": "conceptual-furniture",
   "metadata": {},
   "outputs": [
    {
     "data": {
      "text/plain": [
       "Index(['collectionName', 'phoneName', 'utcTimeMillis', 'elapsedRealtimeNanos',\n",
       "       'yawDeg', 'rollDeg', 'pitchDeg'],\n",
       "      dtype='object')"
      ]
     },
     "execution_count": 13,
     "metadata": {},
     "output_type": "execute_result"
    }
   ],
   "source": [
    "ori_train.columns"
   ]
  },
  {
   "cell_type": "code",
   "execution_count": 14,
   "id": "reasonable-observer",
   "metadata": {},
   "outputs": [],
   "source": [
    "viz(ground_truth,\n",
    "    ori_train,\n",
    "    df_cols=['speedMps', 'courseDegree'],\n",
    "    gnss_cols=['yawDeg', 'rollDeg', 'pitchDeg'],\n",
    "    output_dir= OUTPUT + '/gnss_ts/gt/ori')"
   ]
  },
  {
   "cell_type": "code",
   "execution_count": 15,
   "id": "dimensional-excess",
   "metadata": {},
   "outputs": [],
   "source": [
    "def add_distance_diff(df):\n",
    "    df['latDeg_prev'] = df['latDeg'].shift(1)\n",
    "    df['latDeg_next'] = df['latDeg'].shift(-1)\n",
    "    df['lngDeg_prev'] = df['lngDeg'].shift(1)\n",
    "    df['lngDeg_next'] = df['lngDeg'].shift(-1)\n",
    "    df['phone_prev'] = df['phone'].shift(1)\n",
    "    df['phone_next'] = df['phone'].shift(-1)\n",
    "    \n",
    "    df['dist_prev'] = calc_haversine(df['latDeg'], df['lngDeg'], df['latDeg_prev'], df['lngDeg_prev'])\n",
    "    df['dist_next'] = calc_haversine(df['latDeg'], df['lngDeg'], df['latDeg_next'], df['lngDeg_next'])\n",
    "    \n",
    "    df.loc[df['phone']!=df['phone_prev'], ['latDeg_prev', 'lngDeg_prev', 'dist_prev']] = np.nan\n",
    "    df.loc[df['phone']!=df['phone_next'], ['latDeg_next', 'lngDeg_next', 'dist_next']] = np.nan\n",
    "    \n",
    "    return df\n",
    "\n",
    "base_test = add_distance_diff(base_test)"
   ]
  },
  {
   "cell_type": "code",
   "execution_count": 18,
   "id": "miniature-wales",
   "metadata": {},
   "outputs": [],
   "source": [
    "viz(base_test,\n",
    "    ori_test,\n",
    "    df_cols=['dist_prev'],\n",
    "    gnss_cols=['yawDeg', 'rollDeg', 'pitchDeg'],\n",
    "    output_dir= OUTPUT + '/gnss_ts/test/ori')"
   ]
  },
  {
   "cell_type": "code",
   "execution_count": null,
   "id": "documented-terrorism",
   "metadata": {},
   "outputs": [],
   "source": []
  },
  {
   "cell_type": "code",
   "execution_count": 21,
   "id": "important-border",
   "metadata": {},
   "outputs": [],
   "source": [
    "ori_train['millisSinceGpsEpoch'] = ori_train['utcTimeMillis'] - 315964800000 + 18000"
   ]
  },
  {
   "cell_type": "code",
   "execution_count": 25,
   "id": "amateur-manor",
   "metadata": {},
   "outputs": [],
   "source": [
    "def add_sensor_features(df, ori):\n",
    "    # phoneを追加\n",
    "    df['phone'] = df['collectionName'] + '_' + df['phoneName']\n",
    "    ori['phone'] = ori['collectionName'] + '_' + ori['phoneName']\n",
    "    \n",
    "    # utc -> gps\n",
    "    ori['millisSinceGpsEpoch'] = ori['utcTimeMillis'] - 315964800000 + 18000\n",
    "    \n",
    "    # resampling追加\n",
    "    df['secondSinceGpsEpoch'] = df['millisSinceGpsEpoch'] // 1000\n",
    "    ori['secondSinceGpsEpoch'] = ori['millisSinceGpsEpoch'] // 1000\n",
    "    \n",
    "    ori = ori.groupby(['phone', 'secondSinceGpsEpoch'])['yawDeg', 'rollDeg', 'pitchDeg'].agg(['mean', 'median', 'max', 'min', 'std']).reset_index()\n",
    "    ori.columns = ['phone', 'secondSinceGpsEpoch', \n",
    "                   'yawDeg_mean', 'yawDeg_median', 'yawDeg_max', 'yawDeg_min', 'yawDeg_std',\n",
    "                   'rollDeg_mean', 'rollDeg_median', 'rollDeg_max', 'rollDeg_min', 'rollDeg_std',\n",
    "                   'pitchDeg_mean', 'pitchDeg_median', 'pitchDeg_max', 'pitchDeg_min', 'pitchDeg_std']\n",
    "    \n",
    "    df = df.merge(ori, on=['phone', 'secondSinceGpsEpoch'], how='left')\n",
    "    \n",
    "    df.drop(['secondSinceGpsEpoch'], axis=1, inplace=True)\n",
    "    \n",
    "    return df"
   ]
  },
  {
   "cell_type": "code",
   "execution_count": 26,
   "id": "acute-furniture",
   "metadata": {},
   "outputs": [
    {
     "name": "stderr",
     "output_type": "stream",
     "text": [
      "/opt/conda/lib/python3.7/site-packages/ipykernel_launcher.py:13: FutureWarning: Indexing with multiple keys (implicitly converted to a tuple of keys) will be deprecated, use a list instead.\n",
      "  del sys.path[0]\n"
     ]
    }
   ],
   "source": [
    "base_train = add_sensor_features(base_train, ori_train)"
   ]
  },
  {
   "cell_type": "code",
   "execution_count": 29,
   "id": "acoustic-patrick",
   "metadata": {},
   "outputs": [],
   "source": [
    "base_train[['speedMps', 'courseDegree']] = ground_truth[['speedMps', 'courseDegree']]"
   ]
  },
  {
   "cell_type": "code",
   "execution_count": 40,
   "id": "verified-mainland",
   "metadata": {},
   "outputs": [],
   "source": [
    "def viz2(df, cols, output_dir):\n",
    "    os.makedirs(output_dir, exist_ok=True)\n",
    "    phones = df['phone'].unique()\n",
    "    cols_n = len(cols)\n",
    "    \n",
    "    for phone in phones:\n",
    "        df_tmp = df[df['phone']==phone].copy()\n",
    "        \n",
    "        fig, axes = plt.subplots(figsize=(5*cols_n, 20), nrows=cols_n,sharex=True)\n",
    "        for i,c in enumerate(cols):\n",
    "            axes[i].plot(df_tmp['millisSinceGpsEpoch'], df_tmp[c], label=c)\n",
    "            axes[i].legend(loc='upper right')\n",
    "            axes[i].grid(color='g', linestyle=':', linewidth=0.3)\n",
    "        fig.suptitle(phone, fontsize=16)\n",
    "        fig.savefig(output_dir + '/' + phone + '.png')\n",
    "        plt.close()"
   ]
  },
  {
   "cell_type": "code",
   "execution_count": 38,
   "id": "occupational-constitution",
   "metadata": {},
   "outputs": [],
   "source": [
    "viz2(base_train,\n",
    "    cols=['speedMps', 'courseDegree', 'yawDeg_mean', 'yawDeg_median', 'yawDeg_max', 'yawDeg_min', 'yawDeg_std'],\n",
    "    output_dir= OUTPUT + '/gnss_ts/gt/ori_f_yaw')"
   ]
  },
  {
   "cell_type": "code",
   "execution_count": 41,
   "id": "surgical-collective",
   "metadata": {},
   "outputs": [],
   "source": [
    "viz2(base_train,\n",
    "    cols=['speedMps', 'courseDegree', 'rollDeg_mean', 'rollDeg_median', 'rollDeg_max', 'rollDeg_min', 'rollDeg_std'],\n",
    "    output_dir= OUTPUT + '/gnss_ts/gt/ori_f_roll')"
   ]
  },
  {
   "cell_type": "code",
   "execution_count": 42,
   "id": "bridal-concord",
   "metadata": {},
   "outputs": [],
   "source": [
    "viz2(base_train,\n",
    "    cols=['speedMps', 'courseDegree', 'pitchDeg_mean', 'pitchDeg_median', 'pitchDeg_max', 'pitchDeg_min', 'pitchDeg_std'],\n",
    "    output_dir= OUTPUT + '/gnss_ts/gt/ori_f_yaw')"
   ]
  },
  {
   "cell_type": "code",
   "execution_count": 45,
   "id": "authorized-location",
   "metadata": {},
   "outputs": [
    {
     "data": {
      "text/plain": [
       "2021-04-22-US-SJC-1_SamsungS20Ultra    360\n",
       "2021-04-15-US-MTV-1_Pixel5             360\n",
       "2021-04-28-US-SJC-1_Pixel4             360\n",
       "2021-03-10-US-SVL-1_Pixel4XL           360\n",
       "2021-04-29-US-MTV-1_Pixel5             360\n",
       "2021-04-22-US-SJC-1_Pixel4             360\n",
       "2021-04-28-US-MTV-1_Pixel5             360\n",
       "2021-03-10-US-SVL-1_SamsungS20Ultra    360\n",
       "2021-04-26-US-SVL-1_Pixel5             354\n",
       "2021-04-15-US-MTV-1_Pixel4Modded       351\n",
       "2021-04-28-US-MTV-1_Pixel4             345\n",
       "2021-04-15-US-MTV-1_SamsungS20Ultra    333\n",
       "2021-04-15-US-MTV-1_Pixel4             332\n",
       "2021-04-26-US-SVL-1_Mi8                328\n",
       "2021-04-29-US-SJC-2_Pixel4             257\n",
       "2021-04-29-US-MTV-1_Pixel4             242\n",
       "2021-04-29-US-MTV-1_SamsungS20Ultra      1\n",
       "2021-04-28-US-MTV-1_SamsungS20Ultra      1\n",
       "2021-04-28-US-SJC-1_SamsungS20Ultra      1\n",
       "2021-04-29-US-SJC-2_SamsungS20Ultra      1\n",
       "Name: phone, dtype: int64"
      ]
     },
     "execution_count": 45,
     "metadata": {},
     "output_type": "execute_result"
    }
   ],
   "source": [
    "ori_train[['phone', 'yawDeg']].drop_duplicates()['phone'].value_counts()"
   ]
  },
  {
   "cell_type": "code",
   "execution_count": 46,
   "id": "living-fairy",
   "metadata": {},
   "outputs": [
    {
     "data": {
      "text/plain": [
       "2021-03-25-US-PAO-1_Pixel5             360\n",
       "2021-03-25-US-PAO-1_SamsungS20Ultra    360\n",
       "2021-03-16-US-RWC-2_Pixel4XL           360\n",
       "2021-04-26-US-SVL-2_SamsungS20Ultra    360\n",
       "2021-03-25-US-PAO-1_Pixel4             360\n",
       "2021-04-29-US-MTV-2_Pixel5             360\n",
       "2021-04-21-US-MTV-1_Pixel4             360\n",
       "2021-04-02-US-SJC-1_Pixel5             360\n",
       "2021-04-08-US-MTV-1_Pixel5             360\n",
       "2021-03-16-US-MTV-2_SamsungS20Ultra    360\n",
       "2021-04-02-US-SJC-1_Pixel4             360\n",
       "2021-04-21-US-MTV-1_Pixel4Modded       360\n",
       "2021-04-22-US-SJC-2_SamsungS20Ultra    360\n",
       "2021-04-08-US-MTV-1_Pixel4             354\n",
       "2021-03-16-US-RWC-2_Pixel5             352\n",
       "2021-03-16-US-RWC-2_SamsungS20Ultra    348\n",
       "2021-03-25-US-PAO-1_Mi8                340\n",
       "2021-03-16-US-MTV-2_Pixel4Modded       334\n",
       "2021-04-28-US-MTV-2_Pixel4             301\n",
       "2021-04-29-US-SJC-3_Pixel4             291\n",
       "2021-04-08-US-MTV-1_SamsungS20Ultra    285\n",
       "2021-04-29-US-MTV-2_Pixel4             246\n",
       "2021-03-25-US-PAO-1_Pixel4Modded       224\n",
       "2021-04-08-US-MTV-1_Pixel4Modded       207\n",
       "2021-04-28-US-MTV-2_SamsungS20Ultra      1\n",
       "2021-04-29-US-SJC-3_SamsungS20Ultra      1\n",
       "2021-04-29-US-MTV-2_SamsungS20Ultra      1\n",
       "Name: phone, dtype: int64"
      ]
     },
     "execution_count": 46,
     "metadata": {},
     "output_type": "execute_result"
    }
   ],
   "source": [
    "ori_test[['phone', 'yawDeg']].drop_duplicates()['phone'].value_counts()"
   ]
  },
  {
   "cell_type": "code",
   "execution_count": null,
   "id": "blank-appliance",
   "metadata": {},
   "outputs": [],
   "source": []
  }
 ],
 "metadata": {
  "kernelspec": {
   "display_name": "Python 3",
   "language": "python",
   "name": "python3"
  },
  "language_info": {
   "codemirror_mode": {
    "name": "ipython",
    "version": 3
   },
   "file_extension": ".py",
   "mimetype": "text/x-python",
   "name": "python",
   "nbconvert_exporter": "python",
   "pygments_lexer": "ipython3",
   "version": "3.7.10"
  }
 },
 "nbformat": 4,
 "nbformat_minor": 5
}
