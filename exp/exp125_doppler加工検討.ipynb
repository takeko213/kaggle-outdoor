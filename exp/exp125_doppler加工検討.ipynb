{
 "cells": [
  {
   "cell_type": "markdown",
   "id": "generic-madness",
   "metadata": {},
   "source": [
    "# exp125\n",
    "doppler加工"
   ]
  },
  {
   "cell_type": "code",
   "execution_count": 180,
   "id": "outside-discovery",
   "metadata": {},
   "outputs": [],
   "source": [
    "# import library\n",
    "import os\n",
    "import pandas as pd\n",
    "import numpy as np\n",
    "import matplotlib.pyplot as plt\n",
    "from matplotlib_venn import venn2, venn2_circles\n",
    "import seaborn as sns\n",
    "from tqdm.notebook import tqdm\n",
    "import pathlib\n",
    "import plotly\n",
    "import plotly.express as px\n",
    "import itertools\n",
    "import lightgbm as lgb\n",
    "from optuna.integration import lightgbm as optuna_lgb\n",
    "import simdkalman\n",
    "import optuna\n",
    "import pyproj\n",
    "from pyproj import Proj, transform\n",
    "from sklearn import metrics\n",
    "from sklearn.metrics import roc_curve, precision_recall_curve, confusion_matrix, accuracy_score\n",
    "pd.set_option('display.max_rows', 100)"
   ]
  },
  {
   "cell_type": "code",
   "execution_count": 181,
   "id": "analyzed-vegetarian",
   "metadata": {},
   "outputs": [],
   "source": [
    "import ipynb_path\n",
    "\n",
    "def get_nb_name():\n",
    "    nb_path = ipynb_path.get()\n",
    "    nb_name = nb_path.rsplit('/',1)[1].replace('.ipynb','')\n",
    "    return nb_name"
   ]
  },
  {
   "cell_type": "code",
   "execution_count": 182,
   "id": "flush-retro",
   "metadata": {},
   "outputs": [],
   "source": [
    "# directory setting\n",
    "nb_name = get_nb_name()\n",
    "INPUT = '../input/google-smartphone-decimeter-challenge'\n",
    "OUTPUT = '../output/' + nb_name\n",
    "os.makedirs(OUTPUT, exist_ok=True)"
   ]
  },
  {
   "cell_type": "markdown",
   "id": "assumed-vienna",
   "metadata": {},
   "source": [
    "# utils"
   ]
  },
  {
   "cell_type": "code",
   "execution_count": 183,
   "id": "entire-fault",
   "metadata": {},
   "outputs": [],
   "source": [
    "def get_train_score(df, gt):\n",
    "    gt = gt.rename(columns={'latDeg':'latDeg_gt', 'lngDeg':'lngDeg_gt'})\n",
    "    df = df.merge(gt, on=['collectionName', 'phoneName', 'millisSinceGpsEpoch'], how='inner')\n",
    "    # calc_distance_error\n",
    "    df['err'] = calc_haversine(df['latDeg_gt'], df['lngDeg_gt'], df['latDeg'], df['lngDeg'])\n",
    "    # calc_evaluate_score\n",
    "    df['phone'] = df['collectionName'] + '_' + df['phoneName']\n",
    "    res = df.groupby('phone')['err'].agg([percentile50, percentile95])\n",
    "    res['p50_p90_mean'] = (res['percentile50'] + res['percentile95']) / 2 \n",
    "    score = res['p50_p90_mean'].mean()\n",
    "    return score"
   ]
  },
  {
   "cell_type": "code",
   "execution_count": 184,
   "id": "fifteen-growing",
   "metadata": {},
   "outputs": [],
   "source": [
    "def calc_haversine(lat1, lon1, lat2, lon2):\n",
    "    \"\"\"Calculates the great circle distance between two points\n",
    "    on the earth. Inputs are array-like and specified in decimal degrees.\n",
    "    \"\"\"\n",
    "    RADIUS = 6_367_000\n",
    "    lat1, lon1, lat2, lon2 = map(np.radians, [lat1, lon1, lat2, lon2])\n",
    "    dlat = lat2 - lat1\n",
    "    dlon = lon2 - lon1\n",
    "    a = np.sin(dlat/2)**2 + \\\n",
    "        np.cos(lat1) * np.cos(lat2) * np.sin(dlon/2)**2\n",
    "    dist = 2 * RADIUS * np.arcsin(a**0.5)\n",
    "    return dist"
   ]
  },
  {
   "cell_type": "code",
   "execution_count": 185,
   "id": "invalid-consolidation",
   "metadata": {},
   "outputs": [],
   "source": [
    "def visualize_trafic(df, center, zoom=9):\n",
    "    fig = px.scatter_mapbox(df,\n",
    "                            \n",
    "                            # Here, plotly gets, (x,y) coordinates\n",
    "                            lat=\"latDeg\",\n",
    "                            lon=\"lngDeg\",\n",
    "                            \n",
    "                            #Here, plotly detects color of series\n",
    "                            color=\"phoneName\",\n",
    "                            labels=\"phoneName\",\n",
    "                            \n",
    "                            zoom=zoom,\n",
    "                            center=center,\n",
    "                            height=600,\n",
    "                            width=800)\n",
    "    fig.update_layout(mapbox_style='stamen-terrain')\n",
    "    fig.update_layout(margin={\"r\": 0, \"t\": 0, \"l\": 0, \"b\": 0})\n",
    "    fig.update_layout(title_text=\"GPS trafic\")\n",
    "    fig.show()\n",
    "    \n",
    "def visualize_collection(df, collection):\n",
    "    target_df = df[df['collectionName']==collection].copy()\n",
    "    lat_center = target_df['latDeg'].mean()\n",
    "    lng_center = target_df['lngDeg'].mean()\n",
    "    center = {\"lat\":lat_center, \"lon\":lng_center}\n",
    "    \n",
    "    visualize_trafic(target_df, center)"
   ]
  },
  {
   "cell_type": "code",
   "execution_count": 186,
   "id": "injured-daisy",
   "metadata": {},
   "outputs": [],
   "source": [
    "# ground_truth\n",
    "def get_ground_truth():\n",
    "    p = pathlib.Path(INPUT)\n",
    "    gt_files = list(p.glob('train/*/*/ground_truth.csv'))\n",
    "\n",
    "    gts = []\n",
    "    for gt_file in gt_files:\n",
    "        gts.append(pd.read_csv(gt_file))\n",
    "    ground_truth = pd.concat(gts)\n",
    "\n",
    "    return ground_truth"
   ]
  },
  {
   "cell_type": "code",
   "execution_count": 187,
   "id": "appointed-session",
   "metadata": {},
   "outputs": [],
   "source": [
    "def percentile50(x):\n",
    "    return np.percentile(x, 50)\n",
    "def percentile95(x):\n",
    "    return np.percentile(x, 95)"
   ]
  },
  {
   "cell_type": "code",
   "execution_count": 188,
   "id": "eleven-stranger",
   "metadata": {},
   "outputs": [],
   "source": [
    "class train_result:\n",
    "    def __init__(self, df):\n",
    "        self.df = df\n",
    "        self.gt = get_ground_truth()\n",
    "        self.bl = pd.read_csv(INPUT + '/' + 'baseline_locations_train.csv')\n",
    "        \n",
    "        self.gt = self.gt.rename(columns={'latDeg':'latDeg_gt', 'lngDeg':'lngDeg_gt'})\n",
    "        self.df = self.df.merge(self.gt, on=['collectionName', 'phoneName', 'millisSinceGpsEpoch'], how='inner')\n",
    "        self.df['phone'] = self.df['collectionName'] + '_' + self.df['phoneName']\n",
    "        self.df['err'] =  calc_haversine(self.df['latDeg_gt'], self.df['lngDeg_gt'], self.df['latDeg'], self.df['lngDeg'])\n",
    "        \n",
    "        self.phone_res = self.calc_err('phone')\n",
    "        self.clc_res = self.calc_err('collectionName')\n",
    "        self.phonename_res = self.calc_err('phoneName')\n",
    "        \n",
    "    def calc_err(self, by):\n",
    "        res = self.df.groupby(by)['err'].agg([percentile50, percentile95])\n",
    "        res['p50_p90_mean'] = (res['percentile50'] + res['percentile95']) / 2\n",
    "        return res\n",
    "    \n",
    "    @property\n",
    "    def score(self):\n",
    "        return self.phone_res['p50_p90_mean'].mean()\n",
    "    @property\n",
    "    def raw_data(self):\n",
    "        return self.df\n",
    "    @property\n",
    "    def err(self):\n",
    "        return self.phone_res\n",
    "    @property\n",
    "    def collection_err(self):\n",
    "        return self.clc_res\n",
    "    @property\n",
    "    def phonename_err(self):\n",
    "        return self.phonename_res\n",
    "    \n",
    "    def viz_map(self, collection, show_gt=True, show_bl=True):\n",
    "        tmp = self.df[self.df['collectionName']==collection][['collectionName', 'phoneName', 'latDeg', 'lngDeg']]\n",
    "        tmp2 = self.df[self.df['collectionName']==collection][['collectionName', 'phoneName', 'latDeg_gt', 'lngDeg_gt']]\n",
    "        tmp2 = tmp2.rename(columns={'latDeg_gt':'latDeg', 'lngDeg_gt':'lngDeg'})\n",
    "        tmp2['phoneName'] = tmp2['phoneName'] + '_GT'\n",
    "        tmp3 = self.bl[self.bl['collectionName']==collection][['collectionName', 'phoneName', 'latDeg', 'lngDeg']]\n",
    "        tmp3['phoneName'] = tmp3['phoneName'] + '_BL'\n",
    "        \n",
    "        if show_gt:\n",
    "            tmp = tmp.append(tmp2)\n",
    "        if show_bl:\n",
    "            tmp = tmp.append(tmp3)\n",
    "        visualize_collection(tmp, collection)"
   ]
  },
  {
   "cell_type": "code",
   "execution_count": 189,
   "id": "reduced-multiple",
   "metadata": {},
   "outputs": [],
   "source": [
    "def get_data():\n",
    "    base_train = pd.read_csv(INPUT + '/' + 'baseline_locations_train.csv')\n",
    "    base_test = pd.read_csv(INPUT + '/' + 'baseline_locations_test.csv')\n",
    "    sample_sub = pd.read_csv(INPUT + '/' + 'sample_submission.csv')\n",
    "    ground_truth = get_ground_truth()\n",
    "    return base_train, base_test, sample_sub, ground_truth"
   ]
  },
  {
   "cell_type": "code",
   "execution_count": 190,
   "id": "valuable-russian",
   "metadata": {},
   "outputs": [],
   "source": [
    "train, test, sub, gt = get_data()\n",
    "gt['phone'] = gt['collectionName'] + '_' + gt['phoneName']"
   ]
  },
  {
   "cell_type": "code",
   "execution_count": 191,
   "id": "executive-constitutional",
   "metadata": {},
   "outputs": [],
   "source": [
    "dop_train = pd.read_csv('../output/prep/doppler_v001/result_train.csv')\n",
    "dop_test = pd.read_csv('../output/prep/doppler_v001/result_test.csv')"
   ]
  },
  {
   "cell_type": "code",
   "execution_count": 192,
   "id": "unable-tradition",
   "metadata": {},
   "outputs": [],
   "source": [
    "dop_train = dop_train.sort_values(['phone', 'millisSinceGpsEpoch'])\n",
    "dop_test = dop_test.sort_values(['phone', 'millisSinceGpsEpoch'])"
   ]
  },
  {
   "cell_type": "code",
   "execution_count": 193,
   "id": "matched-dealing",
   "metadata": {},
   "outputs": [],
   "source": [
    "dop_train['d'] = np.sqrt(dop_train['xVehVel']**2 + dop_train['yVehVel']**2 + dop_train['zVehVel']**2)\n",
    "dop_test['d'] = np.sqrt(dop_test['xVehVel']**2 + dop_test['yVehVel']**2 + dop_test['zVehVel']**2)"
   ]
  },
  {
   "cell_type": "code",
   "execution_count": 194,
   "id": "satisfied-flash",
   "metadata": {},
   "outputs": [],
   "source": [
    "dop_train_org = dop_train.copy()\n",
    "dop_test_org = dop_test.copy()"
   ]
  },
  {
   "cell_type": "markdown",
   "id": "likely-complex",
   "metadata": {},
   "source": [
    "# speed変化量が大きすぎるデータを除外"
   ]
  },
  {
   "cell_type": "code",
   "execution_count": 195,
   "id": "fallen-simulation",
   "metadata": {},
   "outputs": [],
   "source": [
    "# gtでのspeed変化量を確認\n",
    "gt['speed_diff'] = abs(gt['speedMps'] - gt.groupby('phone')['speedMps'].shift(1))"
   ]
  },
  {
   "cell_type": "code",
   "execution_count": 196,
   "id": "individual-romania",
   "metadata": {},
   "outputs": [
    {
     "data": {
      "image/png": "[encoded data removed]",
      "text/plain": [
       "<Figure size 432x288 with 1 Axes>"
      ]
     },
     "metadata": {
      "needs_background": "light"
     },
     "output_type": "display_data"
    }
   ],
   "source": [
    "gt['speed_diff'].hist()\n",
    "plt.yscale('log')"
   ]
  },
  {
   "cell_type": "code",
   "execution_count": 197,
   "id": "collective-ethnic",
   "metadata": {},
   "outputs": [
    {
     "data": {
      "text/plain": [
       "12.21"
      ]
     },
     "execution_count": 197,
     "metadata": {},
     "output_type": "execute_result"
    }
   ],
   "source": [
    "gt['speed_diff'].max()"
   ]
  },
  {
   "cell_type": "code",
   "execution_count": 198,
   "id": "guided-slide",
   "metadata": {},
   "outputs": [
    {
     "data": {
      "text/html": [
       "<div>\n",
       "<style scoped>\n",
       "    .dataframe tbody tr th:only-of-type {\n",
       "        vertical-align: middle;\n",
       "    }\n",
       "\n",
       "    .dataframe tbody tr th {\n",
       "        vertical-align: top;\n",
       "    }\n",
       "\n",
       "    .dataframe thead th {\n",
       "        text-align: right;\n",
       "    }\n",
       "</style>\n",
       "<table border=\"1\" class=\"dataframe\">\n",
       "  <thead>\n",
       "    <tr style=\"text-align: right;\">\n",
       "      <th></th>\n",
       "      <th>collectionName</th>\n",
       "      <th>phoneName</th>\n",
       "      <th>millisSinceGpsEpoch</th>\n",
       "      <th>latDeg</th>\n",
       "      <th>lngDeg</th>\n",
       "      <th>heightAboveWgs84EllipsoidM</th>\n",
       "      <th>timeSinceFirstFixSeconds</th>\n",
       "      <th>hDop</th>\n",
       "      <th>vDop</th>\n",
       "      <th>speedMps</th>\n",
       "      <th>courseDegree</th>\n",
       "      <th>phone</th>\n",
       "      <th>speed_diff</th>\n",
       "    </tr>\n",
       "  </thead>\n",
       "  <tbody>\n",
       "    <tr>\n",
       "      <th>894</th>\n",
       "      <td>2021-01-05-US-SVL-1</td>\n",
       "      <td>Pixel5</td>\n",
       "      <td>1293917236437</td>\n",
       "      <td>37.378337</td>\n",
       "      <td>-122.067502</td>\n",
       "      <td>68.45</td>\n",
       "      <td>1114.44</td>\n",
       "      <td>0.0</td>\n",
       "      <td>0.0</td>\n",
       "      <td>16.69</td>\n",
       "      <td>0.61</td>\n",
       "      <td>2021-01-05-US-SVL-1_Pixel5</td>\n",
       "      <td>7.37</td>\n",
       "    </tr>\n",
       "    <tr>\n",
       "      <th>387</th>\n",
       "      <td>2021-01-05-US-SVL-2</td>\n",
       "      <td>Pixel4XL</td>\n",
       "      <td>1293919154436</td>\n",
       "      <td>37.378361</td>\n",
       "      <td>-122.067510</td>\n",
       "      <td>68.44</td>\n",
       "      <td>670.44</td>\n",
       "      <td>0.0</td>\n",
       "      <td>0.0</td>\n",
       "      <td>17.80</td>\n",
       "      <td>1.31</td>\n",
       "      <td>2021-01-05-US-SVL-2_Pixel4XL</td>\n",
       "      <td>8.00</td>\n",
       "    </tr>\n",
       "    <tr>\n",
       "      <th>742</th>\n",
       "      <td>2021-01-05-US-SVL-2</td>\n",
       "      <td>Pixel4XL</td>\n",
       "      <td>1293919511445</td>\n",
       "      <td>37.378357</td>\n",
       "      <td>-122.067510</td>\n",
       "      <td>68.44</td>\n",
       "      <td>1027.44</td>\n",
       "      <td>0.0</td>\n",
       "      <td>0.0</td>\n",
       "      <td>17.69</td>\n",
       "      <td>2.04</td>\n",
       "      <td>2021-01-05-US-SVL-2_Pixel4XL</td>\n",
       "      <td>5.15</td>\n",
       "    </tr>\n",
       "    <tr>\n",
       "      <th>2334</th>\n",
       "      <td>2020-09-04-US-SF-2</td>\n",
       "      <td>Pixel4</td>\n",
       "      <td>1283279934430</td>\n",
       "      <td>37.412012</td>\n",
       "      <td>-122.076601</td>\n",
       "      <td>43.42</td>\n",
       "      <td>2520.43</td>\n",
       "      <td>1.0</td>\n",
       "      <td>0.0</td>\n",
       "      <td>17.46</td>\n",
       "      <td>343.90</td>\n",
       "      <td>2020-09-04-US-SF-2_Pixel4</td>\n",
       "      <td>12.21</td>\n",
       "    </tr>\n",
       "  </tbody>\n",
       "</table>\n",
       "</div>"
      ],
      "text/plain": [
       "           collectionName phoneName  millisSinceGpsEpoch     latDeg  \\\n",
       "894   2021-01-05-US-SVL-1    Pixel5        1293917236437  37.378337   \n",
       "387   2021-01-05-US-SVL-2  Pixel4XL        1293919154436  37.378361   \n",
       "742   2021-01-05-US-SVL-2  Pixel4XL        1293919511445  37.378357   \n",
       "2334   2020-09-04-US-SF-2    Pixel4        1283279934430  37.412012   \n",
       "\n",
       "          lngDeg  heightAboveWgs84EllipsoidM  timeSinceFirstFixSeconds  hDop  \\\n",
       "894  -122.067502                       68.45                   1114.44   0.0   \n",
       "387  -122.067510                       68.44                    670.44   0.0   \n",
       "742  -122.067510                       68.44                   1027.44   0.0   \n",
       "2334 -122.076601                       43.42                   2520.43   1.0   \n",
       "\n",
       "      vDop  speedMps  courseDegree                         phone  speed_diff  \n",
       "894    0.0     16.69          0.61    2021-01-05-US-SVL-1_Pixel5        7.37  \n",
       "387    0.0     17.80          1.31  2021-01-05-US-SVL-2_Pixel4XL        8.00  \n",
       "742    0.0     17.69          2.04  2021-01-05-US-SVL-2_Pixel4XL        5.15  \n",
       "2334   0.0     17.46        343.90     2020-09-04-US-SF-2_Pixel4       12.21  "
      ]
     },
     "execution_count": 198,
     "metadata": {},
     "output_type": "execute_result"
    }
   ],
   "source": [
    "gt[gt['speed_diff']>5]"
   ]
  },
  {
   "cell_type": "code",
   "execution_count": 199,
   "id": "gross-letters",
   "metadata": {},
   "outputs": [],
   "source": [
    "th=5"
   ]
  },
  {
   "cell_type": "markdown",
   "id": "short-customs",
   "metadata": {},
   "source": [
    "いったん5で"
   ]
  },
  {
   "cell_type": "code",
   "execution_count": 200,
   "id": "premium-exploration",
   "metadata": {},
   "outputs": [],
   "source": [
    "dop_train['d_diff_prev'] = abs(dop_train['d'] - dop_train.groupby('phone')['d'].shift(1))\n",
    "dop_test['d_diff_prev'] = abs(dop_test['d'] - dop_test.groupby('phone')['d'].shift(1))\n",
    "dop_train['d_diff_next'] = abs(dop_train['d'] - dop_train.groupby('phone')['d'].shift(-1))\n",
    "dop_test['d_diff_next'] = abs(dop_test['d'] - dop_test.groupby('phone')['d'].shift(-1))"
   ]
  },
  {
   "cell_type": "code",
   "execution_count": 201,
   "id": "conventional-circus",
   "metadata": {},
   "outputs": [],
   "source": [
    "dop_train.loc[(dop_train['d_diff_prev']>th)&(dop_train['d_diff_next']>th), ['xVehVel', 'yVehVel', 'zVehVel', 'd']] = np.nan \n",
    "dop_test.loc[(dop_test['d_diff_prev']>th)&(dop_test['d_diff_next']>th), ['xVehVel', 'yVehVel', 'zVehVel', 'd']] = np.nan "
   ]
  },
  {
   "cell_type": "markdown",
   "id": "greek-crossing",
   "metadata": {},
   "source": [
    "# speedが大きすぎるデータを除外"
   ]
  },
  {
   "cell_type": "code",
   "execution_count": 202,
   "id": "brilliant-revision",
   "metadata": {},
   "outputs": [],
   "source": [
    "dop_train.loc[dop_train['d']>50, ['xVehVel', 'yVehVel', 'zVehVel', 'd']] = np.nan \n",
    "dop_test.loc[dop_test['d']>50, ['xVehVel', 'yVehVel', 'zVehVel', 'd']] = np.nan "
   ]
  },
  {
   "cell_type": "code",
   "execution_count": 203,
   "id": "extraordinary-bahamas",
   "metadata": {},
   "outputs": [],
   "source": [
    "os.makedirs(f'{OUTPUT}/train/ro', exist_ok=True)"
   ]
  },
  {
   "cell_type": "code",
   "execution_count": 204,
   "id": "domestic-opinion",
   "metadata": {},
   "outputs": [],
   "source": [
    "for phone in gt['phone'].unique():\n",
    "    gt_tmp = gt[gt['phone']==phone].copy()\n",
    "    dop_tmp = dop_train[dop_train['phone']==phone].copy()\n",
    "    \n",
    "    fig, axes = plt.subplots(figsize=(40, 15), nrows=3, sharex=True)\n",
    "    axes[0].plot(gt_tmp['millisSinceGpsEpoch'], gt_tmp['speedMps'], label='speed')\n",
    "    axes[0].plot(dop_tmp['millisSinceGpsEpoch'], dop_tmp['d'], label='d')\n",
    "    axes[0].legend(loc='upper right')\n",
    "    axes[0].grid(color='g', linestyle=':', linewidth=0.3)\n",
    "    \n",
    "    axes[1].plot(gt_tmp['millisSinceGpsEpoch'], gt_tmp['courseDegree'], label='deg')\n",
    "    axes[1].legend(loc='upper right')\n",
    "    axes[1].grid(color='g', linestyle=':', linewidth=0.3)\n",
    "    \n",
    "    axes[2].plot(dop_tmp['millisSinceGpsEpoch'], dop_tmp['xVehVel'], label='xVel')\n",
    "    axes[2].plot(dop_tmp['millisSinceGpsEpoch'], dop_tmp['yVehVel'], label='yVel')\n",
    "    axes[2].plot(dop_tmp['millisSinceGpsEpoch'], dop_tmp['zVehVel'], label='zVel')\n",
    "    axes[2].legend(loc='upper right')\n",
    "    axes[2].grid(color='g', linestyle=':', linewidth=0.3)\n",
    "    fig.suptitle(phone, fontsize=16)\n",
    "    fig.savefig(f'{OUTPUT}/train/ro/{phone}.png')\n",
    "    plt.close()"
   ]
  },
  {
   "cell_type": "code",
   "execution_count": 205,
   "id": "greenhouse-procedure",
   "metadata": {},
   "outputs": [],
   "source": [
    "os.makedirs(f'{OUTPUT}/test/ro', exist_ok=True)"
   ]
  },
  {
   "cell_type": "code",
   "execution_count": 206,
   "id": "atomic-springer",
   "metadata": {},
   "outputs": [],
   "source": [
    "for phone in dop_test['phone'].unique():\n",
    "    dop_tmp = dop_test[dop_test['phone']==phone].copy()\n",
    "    \n",
    "    fig, axes = plt.subplots(figsize=(40, 10), nrows=2, sharex=True)\n",
    "    axes[0].plot(dop_tmp['millisSinceGpsEpoch'], dop_tmp['d'], label='d')\n",
    "    axes[0].legend(loc='upper right')\n",
    "    axes[0].grid(color='g', linestyle=':', linewidth=0.3)\n",
    "        \n",
    "    axes[1].plot(dop_tmp['millisSinceGpsEpoch'], dop_tmp['xVehVel'], label='xVel')\n",
    "    axes[1].plot(dop_tmp['millisSinceGpsEpoch'], dop_tmp['yVehVel'], label='yVel')\n",
    "    axes[1].plot(dop_tmp['millisSinceGpsEpoch'], dop_tmp['zVehVel'], label='zVel')\n",
    "    axes[1].legend(loc='upper right')\n",
    "    axes[1].grid(color='g', linestyle=':', linewidth=0.3)\n",
    "    fig.suptitle(phone, fontsize=16)\n",
    "    fig.savefig(f'{OUTPUT}/test/ro/{phone}.png')\n",
    "    plt.close()"
   ]
  },
  {
   "cell_type": "markdown",
   "id": "abroad-distinction",
   "metadata": {},
   "source": [
    "# 移動平均"
   ]
  },
  {
   "cell_type": "code",
   "execution_count": 207,
   "id": "passing-injury",
   "metadata": {},
   "outputs": [],
   "source": [
    "for s, c in itertools.product([3,5,10,15], ['xVehVel', 'yVehVel', 'zVehVel', 'd']):\n",
    "    dop_train[f'{c}_rl{s}'] = dop_train.groupby('phone')[c].rolling(s, min_periods=1).mean().values\n",
    "    dop_test[f'{c}_rl{s}'] = dop_test.groupby('phone')[c].rolling(s, min_periods=1).mean().values"
   ]
  },
  {
   "cell_type": "code",
   "execution_count": 208,
   "id": "exposed-stationery",
   "metadata": {},
   "outputs": [],
   "source": [
    "os.makedirs(f'{OUTPUT}/train/rolling', exist_ok=True)"
   ]
  },
  {
   "cell_type": "code",
   "execution_count": 209,
   "id": "conscious-thread",
   "metadata": {},
   "outputs": [],
   "source": [
    "for phone in gt['phone'].unique():\n",
    "    gt_tmp = gt[gt['phone']==phone].copy()\n",
    "    dop_tmp = dop_train[dop_train['phone']==phone].copy()\n",
    "    \n",
    "    fig, axes = plt.subplots(figsize=(40, 20), nrows=4, sharex=True)\n",
    "    axes[0].plot(gt_tmp['millisSinceGpsEpoch'], gt_tmp['speedMps'], label='speed')\n",
    "    axes[0].plot(dop_tmp['millisSinceGpsEpoch'], dop_tmp['d'], label='d')\n",
    "    axes[0].plot(dop_tmp['millisSinceGpsEpoch'], dop_tmp['d_rl3'], label='d_rl3')\n",
    "    axes[0].plot(dop_tmp['millisSinceGpsEpoch'], dop_tmp['d_rl5'], label='d_rl5')\n",
    "    axes[0].plot(dop_tmp['millisSinceGpsEpoch'], dop_tmp['d_rl10'], label='d_rl10')\n",
    "    axes[0].plot(dop_tmp['millisSinceGpsEpoch'], dop_tmp['d_rl15'], label='d_rl15')\n",
    "    axes[0].legend(loc='upper right')\n",
    "    axes[0].grid(color='g', linestyle=':', linewidth=0.3)\n",
    "    \n",
    "    axes[1].plot(dop_tmp['millisSinceGpsEpoch'], dop_tmp['xVehVel'], label='xVel')\n",
    "    axes[1].plot(dop_tmp['millisSinceGpsEpoch'], dop_tmp['xVehVel_rl3'], label='xVel_rl3')\n",
    "    axes[1].plot(dop_tmp['millisSinceGpsEpoch'], dop_tmp['xVehVel_rl5'], label='xVel_rl5')\n",
    "    axes[1].plot(dop_tmp['millisSinceGpsEpoch'], dop_tmp['xVehVel_rl10'], label='xVel_rl10')\n",
    "    axes[1].plot(dop_tmp['millisSinceGpsEpoch'], dop_tmp['xVehVel_rl15'], label='xVel_rl15')\n",
    "    axes[1].legend(loc='upper right')\n",
    "    axes[1].grid(color='g', linestyle=':', linewidth=0.3)\n",
    "    \n",
    "    axes[2].plot(dop_tmp['millisSinceGpsEpoch'], dop_tmp['yVehVel'], label='yVel')\n",
    "    axes[2].plot(dop_tmp['millisSinceGpsEpoch'], dop_tmp['yVehVel_rl3'], label='yVel_rl3')\n",
    "    axes[2].plot(dop_tmp['millisSinceGpsEpoch'], dop_tmp['yVehVel_rl5'], label='yVel_rl5')\n",
    "    axes[2].plot(dop_tmp['millisSinceGpsEpoch'], dop_tmp['yVehVel_rl10'], label='yVel_rl10')\n",
    "    axes[2].plot(dop_tmp['millisSinceGpsEpoch'], dop_tmp['yVehVel_rl15'], label='yVel_rl15')\n",
    "    axes[2].legend(loc='upper right')\n",
    "    axes[2].grid(color='g', linestyle=':', linewidth=0.3)\n",
    "    \n",
    "    axes[3].plot(dop_tmp['millisSinceGpsEpoch'], dop_tmp['zVehVel'], label='zVel')\n",
    "    axes[3].plot(dop_tmp['millisSinceGpsEpoch'], dop_tmp['zVehVel_rl3'], label='zVel_rl3')\n",
    "    axes[3].plot(dop_tmp['millisSinceGpsEpoch'], dop_tmp['zVehVel_rl5'], label='zVel_rl5')\n",
    "    axes[3].plot(dop_tmp['millisSinceGpsEpoch'], dop_tmp['zVehVel_rl10'], label='zVel_rl10')\n",
    "    axes[3].plot(dop_tmp['millisSinceGpsEpoch'], dop_tmp['zVehVel_rl15'], label='zVel_rl15')\n",
    "    axes[3].legend(loc='upper right')\n",
    "    axes[3].grid(color='g', linestyle=':', linewidth=0.3)\n",
    "    \n",
    "    fig.suptitle(phone, fontsize=16)\n",
    "    fig.savefig(f'{OUTPUT}/train/rolling/{phone}.png')\n",
    "    plt.close()"
   ]
  }
 ],
 "metadata": {
  "kernelspec": {
   "display_name": "Python 3",
   "language": "python",
   "name": "python3"
  },
  "language_info": {
   "codemirror_mode": {
    "name": "ipython",
    "version": 3
   },
   "file_extension": ".py",
   "mimetype": "text/x-python",
   "name": "python",
   "nbconvert_exporter": "python",
   "pygments_lexer": "ipython3",
   "version": "3.7.10"
  }
 },
 "nbformat": 4,
 "nbformat_minor": 5
}
