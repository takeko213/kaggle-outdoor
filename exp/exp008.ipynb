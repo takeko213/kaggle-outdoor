{
 "cells": [
  {
   "cell_type": "markdown",
   "id": "passive-surname",
   "metadata": {},
   "source": [
    "# exp008\n",
    "phones_meanの重み探索"
   ]
  },
  {
   "cell_type": "code",
   "execution_count": 1,
   "id": "illegal-matrix",
   "metadata": {},
   "outputs": [],
   "source": [
    "# import library\n",
    "import os\n",
    "import pandas as pd\n",
    "import numpy as np\n",
    "import matplotlib.pyplot as plt\n",
    "from matplotlib_venn import venn2, venn2_circles\n",
    "import seaborn as sns\n",
    "from tqdm.notebook import tqdm\n",
    "import pathlib\n",
    "import plotly\n",
    "import plotly.express as px"
   ]
  },
  {
   "cell_type": "markdown",
   "id": "mechanical-pulse",
   "metadata": {},
   "source": [
    "# utils"
   ]
  },
  {
   "cell_type": "code",
   "execution_count": 2,
   "id": "commercial-tender",
   "metadata": {},
   "outputs": [],
   "source": [
    "def calc_haversine(lat1, lon1, lat2, lon2):\n",
    "    \"\"\"Calculates the great circle distance between two points\n",
    "    on the earth. Inputs are array-like and specified in decimal degrees.\n",
    "    \"\"\"\n",
    "    RADIUS = 6_367_000\n",
    "    lat1, lon1, lat2, lon2 = map(np.radians, [lat1, lon1, lat2, lon2])\n",
    "    dlat = lat2 - lat1\n",
    "    dlon = lon2 - lon1\n",
    "    a = np.sin(dlat/2)**2 + \\\n",
    "        np.cos(lat1) * np.cos(lat2) * np.sin(dlon/2)**2\n",
    "    dist = 2 * RADIUS * np.arcsin(a**0.5)\n",
    "    return dist"
   ]
  },
  {
   "cell_type": "code",
   "execution_count": 3,
   "id": "creative-cocktail",
   "metadata": {},
   "outputs": [],
   "source": [
    "def visualize_trafic(df, center, zoom=9):\n",
    "    fig = px.scatter_mapbox(df,\n",
    "                            \n",
    "                            # Here, plotly gets, (x,y) coordinates\n",
    "                            lat=\"latDeg\",\n",
    "                            lon=\"lngDeg\",\n",
    "                            \n",
    "                            #Here, plotly detects color of series\n",
    "                            color=\"phoneName\",\n",
    "                            labels=\"phoneName\",\n",
    "                            \n",
    "                            zoom=zoom,\n",
    "                            center=center,\n",
    "                            height=600,\n",
    "                            width=800)\n",
    "    fig.update_layout(mapbox_style='stamen-terrain')\n",
    "    fig.update_layout(margin={\"r\": 0, \"t\": 0, \"l\": 0, \"b\": 0})\n",
    "    fig.update_layout(title_text=\"GPS trafic\")\n",
    "    fig.show()\n",
    "    \n",
    "def visualize_collection(df, collection):\n",
    "    target_df = df[df['collectionName']==collection].copy()\n",
    "    lat_center = target_df['latDeg'].mean()\n",
    "    lng_center = target_df['lngDeg'].mean()\n",
    "    center = {\"lat\":lat_center, \"lon\":lng_center}\n",
    "    \n",
    "    visualize_trafic(target_df, center)"
   ]
  },
  {
   "cell_type": "markdown",
   "id": "foreign-subject",
   "metadata": {},
   "source": [
    "# data prep"
   ]
  },
  {
   "cell_type": "code",
   "execution_count": 4,
   "id": "forbidden-bibliography",
   "metadata": {},
   "outputs": [],
   "source": [
    "import ipynb_path\n",
    "\n",
    "def get_nb_name():\n",
    "    nb_path = ipynb_path.get()\n",
    "    nb_name = nb_path.rsplit('/',1)[1].replace('.ipynb','')\n",
    "    return nb_name"
   ]
  },
  {
   "cell_type": "code",
   "execution_count": 5,
   "id": "equal-prime",
   "metadata": {},
   "outputs": [],
   "source": [
    "# directory setting\n",
    "nb_name = get_nb_name()\n",
    "INPUT = '../input/google-smartphone-decimeter-challenge'\n",
    "OUTPUT = '../output/' + nb_name\n",
    "os.makedirs(OUTPUT, exist_ok=True)"
   ]
  },
  {
   "cell_type": "code",
   "execution_count": 6,
   "id": "light-accuracy",
   "metadata": {},
   "outputs": [],
   "source": [
    "base_train = pd.read_csv(INPUT + '/' + 'baseline_locations_train.csv')\n",
    "base_test = pd.read_csv(INPUT + '/' + 'baseline_locations_test.csv')\n",
    "sample_sub = pd.read_csv(INPUT + '/' + 'sample_submission.csv')"
   ]
  },
  {
   "cell_type": "code",
   "execution_count": 7,
   "id": "outer-herald",
   "metadata": {},
   "outputs": [
    {
     "name": "stdout",
     "output_type": "stream",
     "text": [
      "ground_truth.csv count :  73\n"
     ]
    },
    {
     "data": {
      "application/vnd.jupyter.widget-view+json": {
       "model_id": "6b25568eea1a439fa4b01e8e9149f839",
       "version_major": 2,
       "version_minor": 0
      },
      "text/plain": [
       "  0%|          | 0/73 [00:00<?, ?it/s]"
      ]
     },
     "metadata": {},
     "output_type": "display_data"
    },
    {
     "data": {
      "text/html": [
       "<div>\n",
       "<style scoped>\n",
       "    .dataframe tbody tr th:only-of-type {\n",
       "        vertical-align: middle;\n",
       "    }\n",
       "\n",
       "    .dataframe tbody tr th {\n",
       "        vertical-align: top;\n",
       "    }\n",
       "\n",
       "    .dataframe thead th {\n",
       "        text-align: right;\n",
       "    }\n",
       "</style>\n",
       "<table border=\"1\" class=\"dataframe\">\n",
       "  <thead>\n",
       "    <tr style=\"text-align: right;\">\n",
       "      <th></th>\n",
       "      <th>collectionName</th>\n",
       "      <th>phoneName</th>\n",
       "      <th>millisSinceGpsEpoch</th>\n",
       "      <th>latDeg</th>\n",
       "      <th>lngDeg</th>\n",
       "      <th>heightAboveWgs84EllipsoidM</th>\n",
       "      <th>timeSinceFirstFixSeconds</th>\n",
       "      <th>hDop</th>\n",
       "      <th>vDop</th>\n",
       "      <th>speedMps</th>\n",
       "      <th>courseDegree</th>\n",
       "    </tr>\n",
       "  </thead>\n",
       "  <tbody>\n",
       "    <tr>\n",
       "      <th>0</th>\n",
       "      <td>2020-05-21-US-MTV-2</td>\n",
       "      <td>Pixel4</td>\n",
       "      <td>1274131364434</td>\n",
       "      <td>37.628927</td>\n",
       "      <td>-122.426295</td>\n",
       "      <td>65.36</td>\n",
       "      <td>64.43</td>\n",
       "      <td>2.6</td>\n",
       "      <td>0.0</td>\n",
       "      <td>0.0</td>\n",
       "      <td>154.3</td>\n",
       "    </tr>\n",
       "    <tr>\n",
       "      <th>1</th>\n",
       "      <td>2020-05-21-US-MTV-2</td>\n",
       "      <td>Pixel4</td>\n",
       "      <td>1274131365434</td>\n",
       "      <td>37.628927</td>\n",
       "      <td>-122.426295</td>\n",
       "      <td>65.36</td>\n",
       "      <td>65.43</td>\n",
       "      <td>2.6</td>\n",
       "      <td>0.0</td>\n",
       "      <td>0.0</td>\n",
       "      <td>154.3</td>\n",
       "    </tr>\n",
       "    <tr>\n",
       "      <th>2</th>\n",
       "      <td>2020-05-21-US-MTV-2</td>\n",
       "      <td>Pixel4</td>\n",
       "      <td>1274131366434</td>\n",
       "      <td>37.628927</td>\n",
       "      <td>-122.426295</td>\n",
       "      <td>65.36</td>\n",
       "      <td>66.43</td>\n",
       "      <td>2.6</td>\n",
       "      <td>0.0</td>\n",
       "      <td>0.0</td>\n",
       "      <td>154.3</td>\n",
       "    </tr>\n",
       "    <tr>\n",
       "      <th>3</th>\n",
       "      <td>2020-05-21-US-MTV-2</td>\n",
       "      <td>Pixel4</td>\n",
       "      <td>1274131367434</td>\n",
       "      <td>37.628927</td>\n",
       "      <td>-122.426295</td>\n",
       "      <td>65.36</td>\n",
       "      <td>67.43</td>\n",
       "      <td>2.6</td>\n",
       "      <td>0.0</td>\n",
       "      <td>0.0</td>\n",
       "      <td>154.3</td>\n",
       "    </tr>\n",
       "    <tr>\n",
       "      <th>4</th>\n",
       "      <td>2020-05-21-US-MTV-2</td>\n",
       "      <td>Pixel4</td>\n",
       "      <td>1274131368434</td>\n",
       "      <td>37.628927</td>\n",
       "      <td>-122.426295</td>\n",
       "      <td>65.36</td>\n",
       "      <td>68.43</td>\n",
       "      <td>2.6</td>\n",
       "      <td>0.0</td>\n",
       "      <td>0.0</td>\n",
       "      <td>154.3</td>\n",
       "    </tr>\n",
       "  </tbody>\n",
       "</table>\n",
       "</div>"
      ],
      "text/plain": [
       "        collectionName phoneName  millisSinceGpsEpoch     latDeg      lngDeg  \\\n",
       "0  2020-05-21-US-MTV-2    Pixel4        1274131364434  37.628927 -122.426295   \n",
       "1  2020-05-21-US-MTV-2    Pixel4        1274131365434  37.628927 -122.426295   \n",
       "2  2020-05-21-US-MTV-2    Pixel4        1274131366434  37.628927 -122.426295   \n",
       "3  2020-05-21-US-MTV-2    Pixel4        1274131367434  37.628927 -122.426295   \n",
       "4  2020-05-21-US-MTV-2    Pixel4        1274131368434  37.628927 -122.426295   \n",
       "\n",
       "   heightAboveWgs84EllipsoidM  timeSinceFirstFixSeconds  hDop  vDop  speedMps  \\\n",
       "0                       65.36                     64.43   2.6   0.0       0.0   \n",
       "1                       65.36                     65.43   2.6   0.0       0.0   \n",
       "2                       65.36                     66.43   2.6   0.0       0.0   \n",
       "3                       65.36                     67.43   2.6   0.0       0.0   \n",
       "4                       65.36                     68.43   2.6   0.0       0.0   \n",
       "\n",
       "   courseDegree  \n",
       "0         154.3  \n",
       "1         154.3  \n",
       "2         154.3  \n",
       "3         154.3  \n",
       "4         154.3  "
      ]
     },
     "metadata": {},
     "output_type": "display_data"
    }
   ],
   "source": [
    "# ground_truth\n",
    "p = pathlib.Path(INPUT)\n",
    "gt_files = list(p.glob('train/*/*/ground_truth.csv'))\n",
    "print('ground_truth.csv count : ', len(gt_files))\n",
    "\n",
    "gts = []\n",
    "for gt_file in tqdm(gt_files):\n",
    "    gts.append(pd.read_csv(gt_file))\n",
    "ground_truth = pd.concat(gts)\n",
    "\n",
    "display(ground_truth.head())"
   ]
  },
  {
   "cell_type": "markdown",
   "id": "numeric-release",
   "metadata": {},
   "source": [
    "# reject outlier"
   ]
  },
  {
   "cell_type": "code",
   "execution_count": 8,
   "id": "female-habitat",
   "metadata": {},
   "outputs": [],
   "source": [
    "def add_distance_diff(df):\n",
    "    df['latDeg_prev'] = df['latDeg'].shift(1)\n",
    "    df['latDeg_next'] = df['latDeg'].shift(-1)\n",
    "    df['lngDeg_prev'] = df['lngDeg'].shift(1)\n",
    "    df['lngDeg_next'] = df['lngDeg'].shift(-1)\n",
    "    df['phone_prev'] = df['phone'].shift(1)\n",
    "    df['phone_next'] = df['phone'].shift(-1)\n",
    "    \n",
    "    df['dist_prev'] = calc_haversine(df['latDeg'], df['lngDeg'], df['latDeg_prev'], df['lngDeg_prev'])\n",
    "    df['dist_next'] = calc_haversine(df['latDeg'], df['lngDeg'], df['latDeg_next'], df['lngDeg_next'])\n",
    "    \n",
    "    df.loc[df['phone']!=df['phone_prev'], ['latDeg_prev', 'lngDeg_prev', 'dist_prev']] = np.nan\n",
    "    df.loc[df['phone']!=df['phone_next'], ['latDeg_next', 'lngDeg_next', 'dist_next']] = np.nan\n",
    "    \n",
    "    return df"
   ]
  },
  {
   "cell_type": "code",
   "execution_count": 9,
   "id": "sonic-picking",
   "metadata": {},
   "outputs": [],
   "source": [
    "# reject outlier\n",
    "train_ro = add_distance_diff(base_train)\n",
    "th = 50\n",
    "train_ro.loc[((train_ro['dist_prev'] > th) & (train_ro['dist_next'] > th)), ['latDeg', 'lngDeg']] = np.nan"
   ]
  },
  {
   "cell_type": "markdown",
   "id": "statutory-married",
   "metadata": {},
   "source": [
    "# kalman filter"
   ]
  },
  {
   "cell_type": "code",
   "execution_count": 10,
   "id": "pleasant-latest",
   "metadata": {},
   "outputs": [],
   "source": [
    "import simdkalman"
   ]
  },
  {
   "cell_type": "code",
   "execution_count": 11,
   "id": "formed-cambodia",
   "metadata": {},
   "outputs": [],
   "source": [
    "T = 1.0\n",
    "state_transition = np.array([[1, 0, T, 0, 0.5 * T ** 2, 0], [0, 1, 0, T, 0, 0.5 * T ** 2], [0, 0, 1, 0, T, 0],\n",
    "                             [0, 0, 0, 1, 0, T], [0, 0, 0, 0, 1, 0], [0, 0, 0, 0, 0, 1]])\n",
    "process_noise = np.diag([1e-5, 1e-5, 5e-6, 5e-6, 1e-6, 1e-6]) + np.ones((6, 6)) * 1e-9\n",
    "observation_model = np.array([[1, 0, 0, 0, 0, 0], [0, 1, 0, 0, 0, 0]])\n",
    "observation_noise = np.diag([5e-5, 5e-5]) + np.ones((2, 2)) * 1e-9\n",
    "\n",
    "kf = simdkalman.KalmanFilter(\n",
    "        state_transition = state_transition,\n",
    "        process_noise = process_noise,\n",
    "        observation_model = observation_model,\n",
    "        observation_noise = observation_noise)\n",
    "\n",
    "def apply_kf_smoothing(df, kf_=kf):\n",
    "    unique_paths = df[['collectionName', 'phoneName']].drop_duplicates().to_numpy()\n",
    "    for collection, phone in unique_paths:\n",
    "        cond = np.logical_and(df['collectionName'] == collection, df['phoneName'] == phone)\n",
    "        data = df[cond][['latDeg', 'lngDeg']].to_numpy()\n",
    "        data = data.reshape(1, len(data), 2)\n",
    "        smoothed = kf_.smooth(data)\n",
    "        df.loc[cond, 'latDeg'] = smoothed.states.mean[0, :, 0]\n",
    "        df.loc[cond, 'lngDeg'] = smoothed.states.mean[0, :, 1]\n",
    "    return df"
   ]
  },
  {
   "cell_type": "code",
   "execution_count": 12,
   "id": "lesser-pressure",
   "metadata": {},
   "outputs": [
    {
     "name": "stderr",
     "output_type": "stream",
     "text": [
      "/opt/conda/lib/python3.7/site-packages/pandas/core/indexing.py:1743: SettingWithCopyWarning: \n",
      "A value is trying to be set on a copy of a slice from a DataFrame.\n",
      "Try using .loc[row_indexer,col_indexer] = value instead\n",
      "\n",
      "See the caveats in the documentation: https://pandas.pydata.org/pandas-docs/stable/user_guide/indexing.html#returning-a-view-versus-a-copy\n",
      "  isetter(ilocs[0], value)\n"
     ]
    }
   ],
   "source": [
    "cols = ['collectionName', 'phoneName', 'millisSinceGpsEpoch', 'latDeg', 'lngDeg']\n",
    "train_ro_kf = apply_kf_smoothing(train_ro[cols])"
   ]
  },
  {
   "cell_type": "markdown",
   "id": "related-english",
   "metadata": {},
   "source": [
    "# phones mean prediction"
   ]
  },
  {
   "cell_type": "code",
   "execution_count": 13,
   "id": "persistent-bennett",
   "metadata": {},
   "outputs": [],
   "source": [
    "def make_lerp_data(df):\n",
    "    '''\n",
    "    Generate interpolated lat,lng values for different phone times in the same collection.\n",
    "    '''\n",
    "    org_columns = df.columns\n",
    "    \n",
    "    # Generate a combination of time x collection x phone and combine it with the original data (generate records to be interpolated)\n",
    "    time_list = df[['collectionName', 'millisSinceGpsEpoch']].drop_duplicates()\n",
    "    phone_list =df[['collectionName', 'phoneName']].drop_duplicates()\n",
    "    tmp = time_list.merge(phone_list, on='collectionName', how='outer')\n",
    "    \n",
    "    lerp_df = tmp.merge(df, on=['collectionName', 'millisSinceGpsEpoch', 'phoneName'], how='left')\n",
    "    lerp_df['phone'] = lerp_df['collectionName'] + '_' + lerp_df['phoneName']\n",
    "    lerp_df = lerp_df.sort_values(['phone', 'millisSinceGpsEpoch'])\n",
    "    \n",
    "    # linear interpolation\n",
    "    lerp_df['latDeg_prev'] = lerp_df['latDeg'].shift(1)\n",
    "    lerp_df['latDeg_next'] = lerp_df['latDeg'].shift(-1)\n",
    "    lerp_df['lngDeg_prev'] = lerp_df['lngDeg'].shift(1)\n",
    "    lerp_df['lngDeg_next'] = lerp_df['lngDeg'].shift(-1)\n",
    "    lerp_df['phone_prev'] = lerp_df['phone'].shift(1)\n",
    "    lerp_df['phone_next'] = lerp_df['phone'].shift(-1)\n",
    "    lerp_df['time_prev'] = lerp_df['millisSinceGpsEpoch'].shift(1)\n",
    "    lerp_df['time_next'] = lerp_df['millisSinceGpsEpoch'].shift(-1)\n",
    "    # Leave only records to be interpolated\n",
    "    lerp_df = lerp_df[(lerp_df['latDeg'].isnull())&(lerp_df['phone']==lerp_df['phone_prev'])&(lerp_df['phone']==lerp_df['phone_next'])].copy()\n",
    "    # calc lerp\n",
    "    lerp_df['latDeg'] = lerp_df['latDeg_prev'] + ((lerp_df['latDeg_next'] - lerp_df['latDeg_prev']) * ((lerp_df['millisSinceGpsEpoch'] - lerp_df['time_prev']) / (lerp_df['time_next'] - lerp_df['time_prev']))) \n",
    "    lerp_df['lngDeg'] = lerp_df['lngDeg_prev'] + ((lerp_df['lngDeg_next'] - lerp_df['lngDeg_prev']) * ((lerp_df['millisSinceGpsEpoch'] - lerp_df['time_prev']) / (lerp_df['time_next'] - lerp_df['time_prev']))) \n",
    "    \n",
    "    # Leave only the data that has a complete set of previous and next data.\n",
    "    lerp_df = lerp_df[~lerp_df['latDeg'].isnull()]\n",
    "    \n",
    "    return lerp_df[org_columns]"
   ]
  },
  {
   "cell_type": "code",
   "execution_count": 14,
   "id": "excellent-grounds",
   "metadata": {},
   "outputs": [],
   "source": [
    "def calc_weighted_mean_pred(df, lerp_df, weights):\n",
    "    '''\n",
    "    Make a prediction based on the average of the predictions of phones in the same collection.\n",
    "    '''\n",
    "    add_lerp = pd.concat([df, lerp_df])\n",
    "    add_lerp['w'] = add_lerp['phoneName'].map(weights)\n",
    "    lat_wm = add_lerp.groupby(['collectionName', 'millisSinceGpsEpoch']).apply(lambda dfx: (dfx['w'] * dfx['latDeg'] / dfx['w'].sum()).sum())\n",
    "    lng_wm = add_lerp.groupby(['collectionName', 'millisSinceGpsEpoch']).apply(lambda dfx: (dfx['w'] * dfx['lngDeg'] / dfx['w'].sum()).sum())\n",
    "    mean_pred_result = pd.DataFrame(data=dict(latDeg=lat_wm, lngDeg=lng_wm)).reset_index()\n",
    "    mean_pred_df = df[['collectionName', 'phoneName', 'millisSinceGpsEpoch']].copy()\n",
    "    mean_pred_df = mean_pred_df.merge(mean_pred_result[['collectionName', 'millisSinceGpsEpoch', 'latDeg', 'lngDeg']], on=['collectionName', 'millisSinceGpsEpoch'], how='left')\n",
    "    return mean_pred_df"
   ]
  },
  {
   "cell_type": "code",
   "execution_count": 15,
   "id": "colored-champagne",
   "metadata": {},
   "outputs": [],
   "source": [
    "train_lerp = make_lerp_data(train_ro_kf)"
   ]
  },
  {
   "cell_type": "code",
   "execution_count": 16,
   "id": "improving-destiny",
   "metadata": {},
   "outputs": [],
   "source": [
    "weights = {'Pixel4':1, 'Pixel4XLModded':1, 'Pixel4XL':1, 'Mi8':1, 'Pixel5':1,'Pixel4Modded':1, 'SamsungS20Ultra':1}"
   ]
  },
  {
   "cell_type": "markdown",
   "id": "canadian-speech",
   "metadata": {},
   "source": [
    "# evaluate train score"
   ]
  },
  {
   "cell_type": "code",
   "execution_count": 17,
   "id": "legendary-burke",
   "metadata": {},
   "outputs": [],
   "source": [
    "def percentile50(x):\n",
    "    return np.percentile(x, 50)\n",
    "def percentile95(x):\n",
    "    return np.percentile(x, 95)"
   ]
  },
  {
   "cell_type": "code",
   "execution_count": 18,
   "id": "rubber-morocco",
   "metadata": {},
   "outputs": [],
   "source": [
    "def get_train_score(df, gt):\n",
    "    gt = gt.rename(columns={'latDeg':'latDeg_gt', 'lngDeg':'lngDeg_gt'})\n",
    "    df = df.merge(gt, on=['collectionName', 'phoneName', 'millisSinceGpsEpoch'], how='inner')\n",
    "    # calc_distance_error\n",
    "    df['err'] = calc_haversine(df['latDeg_gt'], df['lngDeg_gt'], df['latDeg'], df['lngDeg'])\n",
    "    # calc_evaluate_score\n",
    "    df['phone'] = df['collectionName'] + '_' + df['phoneName']\n",
    "    res = df.groupby('phone')['err'].agg([percentile50, percentile95])\n",
    "    res['p50_p90_mean'] = (res['percentile50'] + res['percentile95']) / 2 \n",
    "    score = res['p50_p90_mean'].mean()\n",
    "    return score"
   ]
  },
  {
   "cell_type": "markdown",
   "id": "unknown-tunisia",
   "metadata": {},
   "source": [
    "# optunaでweight探索"
   ]
  },
  {
   "cell_type": "markdown",
   "id": "brown-christopher",
   "metadata": {},
   "source": [
    "kf + reject_outlier :  4.5511221131190664  \n",
    "phones_mean_pred :  4.117064134846772"
   ]
  },
  {
   "cell_type": "code",
   "execution_count": 19,
   "id": "weird-garlic",
   "metadata": {},
   "outputs": [],
   "source": [
    "import optuna"
   ]
  },
  {
   "cell_type": "code",
   "execution_count": 20,
   "id": "purple-edinburgh",
   "metadata": {},
   "outputs": [],
   "source": [
    "def objective(trial):\n",
    "    Pixel4 = trial.suggest_int('Pixel4', 0, 10)\n",
    "    Pixel4XLModded = trial.suggest_int('Pixel4XLModded', 0, 10)\n",
    "    Pixel4XL = trial.suggest_int('Pixel4XL', 0, 10)\n",
    "    Mi8 = trial.suggest_int('Mi8', 0, 10)\n",
    "    Pixel5 = trial.suggest_int('Pixel5', 0, 10)\n",
    "    Pixel4Modded = trial.suggest_int('Pixel4Modded', 0, 10)\n",
    "    SamsungS20Ultra = trial.suggest_int('SamsungS20Ultra', 0, 10)\n",
    "    \n",
    "    weights = {'Pixel4':Pixel4, 'Pixel4XLModded':Pixel4XLModded, 'Pixel4XL':Pixel4XL, 'Mi8':Mi8, \n",
    "               'Pixel5':Pixel5,'Pixel4Modded':Pixel4Modded, 'SamsungS20Ultra':SamsungS20Ultra}\n",
    "    \n",
    "    pred = calc_weighted_mean_pred(train_ro_kf, train_lerp, weights)\n",
    "    \n",
    "    return get_train_score(pred, ground_truth)"
   ]
  },
  {
   "cell_type": "code",
   "execution_count": 21,
   "id": "stretch-woman",
   "metadata": {},
   "outputs": [
    {
     "name": "stderr",
     "output_type": "stream",
     "text": [
      "\u001b[32m[I 2021-06-07 20:28:05,903]\u001b[0m A new study created in memory with name: no-name-3b4afab2-16cf-4741-915e-5c47adb2e9fe\u001b[0m\n",
      "\u001b[32m[I 2021-06-07 20:29:26,145]\u001b[0m Trial 0 finished with value: 3502282.347641366 and parameters: {'pixel4_w': 5, 'pixel4xlmodded_w': 0, 'pixel4xl_w': 0, 'mi8_w': 10, 'pixel5_w': 0, 'pixel4modded_w': 6, 'samsungs20ultra_w': 3}. Best is trial 0 with value: 3502282.347641366.\u001b[0m\n",
      "\u001b[32m[I 2021-06-07 20:30:50,687]\u001b[0m Trial 1 finished with value: 4.282538431228583 and parameters: {'pixel4_w': 2, 'pixel4xlmodded_w': 7, 'pixel4xl_w': 8, 'mi8_w': 7, 'pixel5_w': 3, 'pixel4modded_w': 1, 'samsungs20ultra_w': 1}. Best is trial 1 with value: 4.282538431228583.\u001b[0m\n",
      "\u001b[32m[I 2021-06-07 20:32:15,719]\u001b[0m Trial 2 finished with value: 4.294593927678773 and parameters: {'pixel4_w': 8, 'pixel4xlmodded_w': 9, 'pixel4xl_w': 7, 'mi8_w': 5, 'pixel5_w': 4, 'pixel4modded_w': 6, 'samsungs20ultra_w': 1}. Best is trial 1 with value: 4.282538431228583.\u001b[0m\n",
      "\u001b[32m[I 2021-06-07 20:33:41,927]\u001b[0m Trial 3 finished with value: 4.1290217691554325 and parameters: {'pixel4_w': 4, 'pixel4xlmodded_w': 8, 'pixel4xl_w': 7, 'mi8_w': 1, 'pixel5_w': 10, 'pixel4modded_w': 8, 'samsungs20ultra_w': 6}. Best is trial 3 with value: 4.1290217691554325.\u001b[0m\n",
      "\u001b[32m[I 2021-06-07 20:35:08,580]\u001b[0m Trial 4 finished with value: 4.151762801223979 and parameters: {'pixel4_w': 4, 'pixel4xlmodded_w': 6, 'pixel4xl_w': 6, 'mi8_w': 8, 'pixel5_w': 3, 'pixel4modded_w': 2, 'samsungs20ultra_w': 7}. Best is trial 3 with value: 4.1290217691554325.\u001b[0m\n",
      "\u001b[32m[I 2021-06-07 20:36:33,097]\u001b[0m Trial 5 finished with value: 525048.4265018902 and parameters: {'pixel4_w': 10, 'pixel4xlmodded_w': 2, 'pixel4xl_w': 7, 'mi8_w': 9, 'pixel5_w': 3, 'pixel4modded_w': 2, 'samsungs20ultra_w': 0}. Best is trial 3 with value: 4.1290217691554325.\u001b[0m\n",
      "\u001b[32m[I 2021-06-07 20:37:59,220]\u001b[0m Trial 6 finished with value: 4.166824356930896 and parameters: {'pixel4_w': 9, 'pixel4xlmodded_w': 1, 'pixel4xl_w': 8, 'mi8_w': 9, 'pixel5_w': 3, 'pixel4modded_w': 2, 'samsungs20ultra_w': 5}. Best is trial 3 with value: 4.1290217691554325.\u001b[0m\n",
      "\u001b[32m[I 2021-06-07 20:39:24,779]\u001b[0m Trial 7 finished with value: 4.24281258925791 and parameters: {'pixel4_w': 10, 'pixel4xlmodded_w': 6, 'pixel4xl_w': 5, 'mi8_w': 7, 'pixel5_w': 4, 'pixel4modded_w': 8, 'samsungs20ultra_w': 2}. Best is trial 3 with value: 4.1290217691554325.\u001b[0m\n",
      "\u001b[32m[I 2021-06-07 20:40:50,482]\u001b[0m Trial 8 finished with value: 4.15895660762676 and parameters: {'pixel4_w': 2, 'pixel4xlmodded_w': 6, 'pixel4xl_w': 1, 'mi8_w': 1, 'pixel5_w': 6, 'pixel4modded_w': 2, 'samsungs20ultra_w': 3}. Best is trial 3 with value: 4.1290217691554325.\u001b[0m\n",
      "\u001b[32m[I 2021-06-07 20:42:16,004]\u001b[0m Trial 9 finished with value: 4.2686108643079566 and parameters: {'pixel4_w': 5, 'pixel4xlmodded_w': 10, 'pixel4xl_w': 9, 'mi8_w': 3, 'pixel5_w': 4, 'pixel4modded_w': 10, 'samsungs20ultra_w': 1}. Best is trial 3 with value: 4.1290217691554325.\u001b[0m\n",
      "\u001b[32m[I 2021-06-07 20:43:36,939]\u001b[0m Trial 10 finished with value: 4028088.6950796093 and parameters: {'pixel4_w': 0, 'pixel4xlmodded_w': 3, 'pixel4xl_w': 3, 'mi8_w': 0, 'pixel5_w': 10, 'pixel4modded_w': 10, 'samsungs20ultra_w': 10}. Best is trial 3 with value: 4.1290217691554325.\u001b[0m\n",
      "\u001b[32m[I 2021-06-07 20:45:03,829]\u001b[0m Trial 11 finished with value: 4.178026825423265 and parameters: {'pixel4_w': 3, 'pixel4xlmodded_w': 8, 'pixel4xl_w': 5, 'mi8_w': 3, 'pixel5_w': 10, 'pixel4modded_w': 4, 'samsungs20ultra_w': 7}. Best is trial 3 with value: 4.1290217691554325.\u001b[0m\n",
      "\u001b[32m[I 2021-06-07 20:46:31,511]\u001b[0m Trial 12 finished with value: 4.093292344197793 and parameters: {'pixel4_w': 7, 'pixel4xlmodded_w': 4, 'pixel4xl_w': 10, 'mi8_w': 6, 'pixel5_w': 7, 'pixel4modded_w': 8, 'samsungs20ultra_w': 8}. Best is trial 12 with value: 4.093292344197793.\u001b[0m\n",
      "\u001b[32m[I 2021-06-07 20:47:57,550]\u001b[0m Trial 13 finished with value: 4.0809846186392855 and parameters: {'pixel4_w': 7, 'pixel4xlmodded_w': 4, 'pixel4xl_w': 10, 'mi8_w': 5, 'pixel5_w': 8, 'pixel4modded_w': 8, 'samsungs20ultra_w': 10}. Best is trial 13 with value: 4.0809846186392855.\u001b[0m\n",
      "\u001b[32m[I 2021-06-07 20:49:23,796]\u001b[0m Trial 14 finished with value: 4.079132758704294 and parameters: {'pixel4_w': 7, 'pixel4xlmodded_w': 4, 'pixel4xl_w': 10, 'mi8_w': 5, 'pixel5_w': 7, 'pixel4modded_w': 8, 'samsungs20ultra_w': 10}. Best is trial 14 with value: 4.079132758704294.\u001b[0m\n",
      "\u001b[32m[I 2021-06-07 20:50:50,154]\u001b[0m Trial 15 finished with value: 4.082658918753032 and parameters: {'pixel4_w': 7, 'pixel4xlmodded_w': 4, 'pixel4xl_w': 10, 'mi8_w': 4, 'pixel5_w': 8, 'pixel4modded_w': 9, 'samsungs20ultra_w': 10}. Best is trial 14 with value: 4.079132758704294.\u001b[0m\n",
      "\u001b[32m[I 2021-06-07 20:52:15,570]\u001b[0m Trial 16 finished with value: 4.0945473760939555 and parameters: {'pixel4_w': 7, 'pixel4xlmodded_w': 4, 'pixel4xl_w': 10, 'mi8_w': 5, 'pixel5_w': 8, 'pixel4modded_w': 6, 'samsungs20ultra_w': 9}. Best is trial 14 with value: 4.079132758704294.\u001b[0m\n",
      "\u001b[32m[I 2021-06-07 20:53:40,630]\u001b[0m Trial 17 finished with value: 4.098003717614395 and parameters: {'pixel4_w': 6, 'pixel4xlmodded_w': 2, 'pixel4xl_w': 9, 'mi8_w': 3, 'pixel5_w': 8, 'pixel4modded_w': 4, 'samsungs20ultra_w': 9}. Best is trial 14 with value: 4.079132758704294.\u001b[0m\n",
      "\u001b[32m[I 2021-06-07 20:55:05,677]\u001b[0m Trial 18 finished with value: 4.127385242759456 and parameters: {'pixel4_w': 9, 'pixel4xlmodded_w': 5, 'pixel4xl_w': 3, 'mi8_w': 6, 'pixel5_w': 6, 'pixel4modded_w': 7, 'samsungs20ultra_w': 10}. Best is trial 14 with value: 4.079132758704294.\u001b[0m\n",
      "\u001b[32m[I 2021-06-07 20:56:32,530]\u001b[0m Trial 19 finished with value: 4.102812286942163 and parameters: {'pixel4_w': 8, 'pixel4xlmodded_w': 3, 'pixel4xl_w': 9, 'mi8_w': 4, 'pixel5_w': 9, 'pixel4modded_w': 9, 'samsungs20ultra_w': 8}. Best is trial 14 with value: 4.079132758704294.\u001b[0m\n",
      "\u001b[32m[I 2021-06-07 20:57:57,214]\u001b[0m Trial 20 finished with value: 700472.5666921855 and parameters: {'pixel4_w': 6, 'pixel4xlmodded_w': 0, 'pixel4xl_w': 3, 'mi8_w': 2, 'pixel5_w': 6, 'pixel4modded_w': 5, 'samsungs20ultra_w': 9}. Best is trial 14 with value: 4.079132758704294.\u001b[0m\n",
      "\u001b[32m[I 2021-06-07 20:59:24,036]\u001b[0m Trial 21 finished with value: 4.082658918753032 and parameters: {'pixel4_w': 7, 'pixel4xlmodded_w': 4, 'pixel4xl_w': 10, 'mi8_w': 4, 'pixel5_w': 8, 'pixel4modded_w': 9, 'samsungs20ultra_w': 10}. Best is trial 14 with value: 4.079132758704294.\u001b[0m\n",
      "\u001b[32m[I 2021-06-07 21:00:49,469]\u001b[0m Trial 22 finished with value: 4.092558093748064 and parameters: {'pixel4_w': 8, 'pixel4xlmodded_w': 5, 'pixel4xl_w': 10, 'mi8_w': 4, 'pixel5_w': 7, 'pixel4modded_w': 9, 'samsungs20ultra_w': 10}. Best is trial 14 with value: 4.079132758704294.\u001b[0m\n",
      "\u001b[32m[I 2021-06-07 21:02:15,249]\u001b[0m Trial 23 finished with value: 4.069082337222401 and parameters: {'pixel4_w': 6, 'pixel4xlmodded_w': 3, 'pixel4xl_w': 8, 'mi8_w': 6, 'pixel5_w': 9, 'pixel4modded_w': 10, 'samsungs20ultra_w': 8}. Best is trial 23 with value: 4.069082337222401.\u001b[0m\n",
      "\u001b[32m[I 2021-06-07 21:03:41,171]\u001b[0m Trial 24 finished with value: 4.063524488588923 and parameters: {'pixel4_w': 6, 'pixel4xlmodded_w': 2, 'pixel4xl_w': 8, 'mi8_w': 6, 'pixel5_w': 9, 'pixel4modded_w': 10, 'samsungs20ultra_w': 8}. Best is trial 24 with value: 4.063524488588923.\u001b[0m\n",
      "\u001b[32m[I 2021-06-07 21:05:06,819]\u001b[0m Trial 25 finished with value: 4.062783020518904 and parameters: {'pixel4_w': 6, 'pixel4xlmodded_w': 2, 'pixel4xl_w': 8, 'mi8_w': 7, 'pixel5_w': 9, 'pixel4modded_w': 10, 'samsungs20ultra_w': 8}. Best is trial 25 with value: 4.062783020518904.\u001b[0m\n",
      "\u001b[32m[I 2021-06-07 21:06:33,813]\u001b[0m Trial 26 finished with value: 4.080558402154448 and parameters: {'pixel4_w': 6, 'pixel4xlmodded_w': 1, 'pixel4xl_w': 8, 'mi8_w': 7, 'pixel5_w': 9, 'pixel4modded_w': 10, 'samsungs20ultra_w': 6}. Best is trial 25 with value: 4.062783020518904.\u001b[0m\n",
      "\u001b[32m[I 2021-06-07 21:08:00,810]\u001b[0m Trial 27 finished with value: 4.09595774335571 and parameters: {'pixel4_w': 4, 'pixel4xlmodded_w': 2, 'pixel4xl_w': 7, 'mi8_w': 8, 'pixel5_w': 9, 'pixel4modded_w': 10, 'samsungs20ultra_w': 8}. Best is trial 25 with value: 4.062783020518904.\u001b[0m\n",
      "\u001b[32m[I 2021-06-07 21:09:24,725]\u001b[0m Trial 28 finished with value: 4.061079316295777 and parameters: {'pixel4_w': 5, 'pixel4xlmodded_w': 1, 'pixel4xl_w': 6, 'mi8_w': 6, 'pixel5_w': 10, 'pixel4modded_w': 10, 'samsungs20ultra_w': 7}. Best is trial 28 with value: 4.061079316295777.\u001b[0m\n",
      "\u001b[32m[I 2021-06-07 21:10:47,066]\u001b[0m Trial 29 finished with value: 700472.5750000826 and parameters: {'pixel4_w': 5, 'pixel4xlmodded_w': 0, 'pixel4xl_w': 6, 'mi8_w': 10, 'pixel5_w': 1, 'pixel4modded_w': 7, 'samsungs20ultra_w': 4}. Best is trial 28 with value: 4.061079316295777.\u001b[0m\n",
      "\u001b[32m[I 2021-06-07 21:12:11,535]\u001b[0m Trial 30 finished with value: 4.0770320077395 and parameters: {'pixel4_w': 5, 'pixel4xlmodded_w': 1, 'pixel4xl_w': 4, 'mi8_w': 8, 'pixel5_w': 10, 'pixel4modded_w': 7, 'samsungs20ultra_w': 6}. Best is trial 28 with value: 4.061079316295777.\u001b[0m\n",
      "\u001b[32m[I 2021-06-07 21:13:37,470]\u001b[0m Trial 31 finished with value: 4.084600771086199 and parameters: {'pixel4_w': 6, 'pixel4xlmodded_w': 3, 'pixel4xl_w': 6, 'mi8_w': 6, 'pixel5_w': 9, 'pixel4modded_w': 10, 'samsungs20ultra_w': 7}. Best is trial 28 with value: 4.061079316295777.\u001b[0m\n",
      "\u001b[32m[I 2021-06-07 21:15:02,680]\u001b[0m Trial 32 finished with value: 4.140755120622409 and parameters: {'pixel4_w': 3, 'pixel4xlmodded_w': 2, 'pixel4xl_w': 8, 'mi8_w': 7, 'pixel5_w': 9, 'pixel4modded_w': 9, 'samsungs20ultra_w': 8}. Best is trial 28 with value: 4.061079316295777.\u001b[0m\n",
      "\u001b[32m[I 2021-06-07 21:16:29,030]\u001b[0m Trial 33 finished with value: 4.061073398201115 and parameters: {'pixel4_w': 5, 'pixel4xlmodded_w': 1, 'pixel4xl_w': 8, 'mi8_w': 6, 'pixel5_w': 10, 'pixel4modded_w': 10, 'samsungs20ultra_w': 7}. Best is trial 33 with value: 4.061073398201115.\u001b[0m\n",
      "\u001b[32m[I 2021-06-07 21:17:50,190]\u001b[0m Trial 34 finished with value: 1050846.311210633 and parameters: {'pixel4_w': 4, 'pixel4xlmodded_w': 0, 'pixel4xl_w': 7, 'mi8_w': 7, 'pixel5_w': 10, 'pixel4modded_w': 0, 'samsungs20ultra_w': 5}. Best is trial 33 with value: 4.061073398201115.\u001b[0m\n",
      "\u001b[32m[I 2021-06-07 21:19:11,934]\u001b[0m Trial 35 finished with value: 1050416.5800998632 and parameters: {'pixel4_w': 5, 'pixel4xlmodded_w': 1, 'pixel4xl_w': 9, 'mi8_w': 6, 'pixel5_w': 0, 'pixel4modded_w': 9, 'samsungs20ultra_w': 7}. Best is trial 33 with value: 4.061073398201115.\u001b[0m\n",
      "\u001b[32m[I 2021-06-07 21:20:35,201]\u001b[0m Trial 36 finished with value: 700472.5477188954 and parameters: {'pixel4_w': 3, 'pixel4xlmodded_w': 0, 'pixel4xl_w': 6, 'mi8_w': 9, 'pixel5_w': 10, 'pixel4modded_w': 10, 'samsungs20ultra_w': 6}. Best is trial 33 with value: 4.061073398201115.\u001b[0m\n",
      "\u001b[32m[I 2021-06-07 21:22:02,090]\u001b[0m Trial 37 finished with value: 4.069353766130512 and parameters: {'pixel4_w': 4, 'pixel4xlmodded_w': 1, 'pixel4xl_w': 7, 'mi8_w': 8, 'pixel5_w': 10, 'pixel4modded_w': 9, 'samsungs20ultra_w': 7}. Best is trial 33 with value: 4.061073398201115.\u001b[0m\n",
      "\u001b[32m[I 2021-06-07 21:23:28,584]\u001b[0m Trial 38 finished with value: 4.0799404884126025 and parameters: {'pixel4_w': 5, 'pixel4xlmodded_w': 2, 'pixel4xl_w': 8, 'mi8_w': 6, 'pixel5_w': 9, 'pixel4modded_w': 10, 'samsungs20ultra_w': 9}. Best is trial 33 with value: 4.061073398201115.\u001b[0m\n",
      "\u001b[32m[I 2021-06-07 21:24:55,072]\u001b[0m Trial 39 finished with value: 4.091326282720186 and parameters: {'pixel4_w': 6, 'pixel4xlmodded_w': 1, 'pixel4xl_w': 6, 'mi8_w': 7, 'pixel5_w': 10, 'pixel4modded_w': 8, 'samsungs20ultra_w': 5}. Best is trial 33 with value: 4.061073398201115.\u001b[0m\n",
      "\u001b[32m[I 2021-06-07 21:26:20,252]\u001b[0m Trial 40 finished with value: 4.2821576117924165 and parameters: {'pixel4_w': 1, 'pixel4xlmodded_w': 2, 'pixel4xl_w': 7, 'mi8_w': 5, 'pixel5_w': 7, 'pixel4modded_w': 9, 'samsungs20ultra_w': 6}. Best is trial 33 with value: 4.061073398201115.\u001b[0m\n",
      "\u001b[32m[I 2021-06-07 21:27:45,726]\u001b[0m Trial 41 finished with value: 4.069082337222401 and parameters: {'pixel4_w': 6, 'pixel4xlmodded_w': 3, 'pixel4xl_w': 8, 'mi8_w': 6, 'pixel5_w': 9, 'pixel4modded_w': 10, 'samsungs20ultra_w': 8}. Best is trial 33 with value: 4.061073398201115.\u001b[0m\n",
      "\u001b[32m[I 2021-06-07 21:29:11,407]\u001b[0m Trial 42 finished with value: 4.0734962281063645 and parameters: {'pixel4_w': 5, 'pixel4xlmodded_w': 3, 'pixel4xl_w': 8, 'mi8_w': 7, 'pixel5_w': 9, 'pixel4modded_w': 10, 'samsungs20ultra_w': 7}. Best is trial 33 with value: 4.061073398201115.\u001b[0m\n",
      "\u001b[32m[I 2021-06-07 21:30:36,946]\u001b[0m Trial 43 finished with value: 4.085357312504316 and parameters: {'pixel4_w': 8, 'pixel4xlmodded_w': 1, 'pixel4xl_w': 9, 'mi8_w': 6, 'pixel5_w': 8, 'pixel4modded_w': 10, 'samsungs20ultra_w': 8}. Best is trial 33 with value: 4.061073398201115.\u001b[0m\n",
      "\u001b[32m[I 2021-06-07 21:32:02,727]\u001b[0m Trial 44 finished with value: 4.118249148153109 and parameters: {'pixel4_w': 4, 'pixel4xlmodded_w': 2, 'pixel4xl_w': 5, 'mi8_w': 8, 'pixel5_w': 10, 'pixel4modded_w': 9, 'samsungs20ultra_w': 9}. Best is trial 33 with value: 4.061073398201115.\u001b[0m\n",
      "\u001b[32m[I 2021-06-07 21:33:27,083]\u001b[0m Trial 45 finished with value: 700472.5400720999 and parameters: {'pixel4_w': 6, 'pixel4xlmodded_w': 0, 'pixel4xl_w': 9, 'mi8_w': 6, 'pixel5_w': 10, 'pixel4modded_w': 8, 'samsungs20ultra_w': 7}. Best is trial 33 with value: 4.061073398201115.\u001b[0m\n",
      "\u001b[32m[I 2021-06-07 21:34:53,047]\u001b[0m Trial 46 finished with value: 4.0934971055142455 and parameters: {'pixel4_w': 6, 'pixel4xlmodded_w': 2, 'pixel4xl_w': 8, 'mi8_w': 5, 'pixel5_w': 5, 'pixel4modded_w': 10, 'samsungs20ultra_w': 4}. Best is trial 33 with value: 4.061073398201115.\u001b[0m\n",
      "\u001b[32m[I 2021-06-07 21:36:18,894]\u001b[0m Trial 47 finished with value: 4.10514912235183 and parameters: {'pixel4_w': 4, 'pixel4xlmodded_w': 3, 'pixel4xl_w': 7, 'mi8_w': 7, 'pixel5_w': 9, 'pixel4modded_w': 10, 'samsungs20ultra_w': 8}. Best is trial 33 with value: 4.061073398201115.\u001b[0m\n",
      "\u001b[32m[I 2021-06-07 21:37:44,791]\u001b[0m Trial 48 finished with value: 4.062703163332041 and parameters: {'pixel4_w': 5, 'pixel4xlmodded_w': 1, 'pixel4xl_w': 6, 'mi8_w': 9, 'pixel5_w': 8, 'pixel4modded_w': 8, 'samsungs20ultra_w': 7}. Best is trial 33 with value: 4.061073398201115.\u001b[0m\n",
      "\u001b[32m[I 2021-06-07 21:39:11,684]\u001b[0m Trial 49 finished with value: 4.098717297977953 and parameters: {'pixel4_w': 3, 'pixel4xlmodded_w': 1, 'pixel4xl_w': 4, 'mi8_w': 10, 'pixel5_w': 7, 'pixel4modded_w': 7, 'samsungs20ultra_w': 6}. Best is trial 33 with value: 4.061073398201115.\u001b[0m\n",
      "\u001b[32m[I 2021-06-07 21:40:35,557]\u001b[0m Trial 50 finished with value: 700472.5381343811 and parameters: {'pixel4_w': 5, 'pixel4xlmodded_w': 0, 'pixel4xl_w': 4, 'mi8_w': 9, 'pixel5_w': 8, 'pixel4modded_w': 6, 'samsungs20ultra_w': 7}. Best is trial 33 with value: 4.061073398201115.\u001b[0m\n",
      "\u001b[32m[I 2021-06-07 21:42:00,592]\u001b[0m Trial 51 finished with value: 4.070323106992483 and parameters: {'pixel4_w': 7, 'pixel4xlmodded_w': 1, 'pixel4xl_w': 7, 'mi8_w': 9, 'pixel5_w': 9, 'pixel4modded_w': 8, 'samsungs20ultra_w': 9}. Best is trial 33 with value: 4.061073398201115.\u001b[0m\n",
      "\u001b[32m[I 2021-06-07 21:43:26,140]\u001b[0m Trial 52 finished with value: 4.066059341256037 and parameters: {'pixel4_w': 5, 'pixel4xlmodded_w': 2, 'pixel4xl_w': 6, 'mi8_w': 5, 'pixel5_w': 8, 'pixel4modded_w': 9, 'samsungs20ultra_w': 8}. Best is trial 33 with value: 4.061073398201115.\u001b[0m\n",
      "\u001b[32m[I 2021-06-07 21:44:50,887]\u001b[0m Trial 53 finished with value: 4.070118013267046 and parameters: {'pixel4_w': 5, 'pixel4xlmodded_w': 2, 'pixel4xl_w': 5, 'mi8_w': 5, 'pixel5_w': 8, 'pixel4modded_w': 9, 'samsungs20ultra_w': 7}. Best is trial 33 with value: 4.061073398201115.\u001b[0m\n",
      "\u001b[32m[I 2021-06-07 21:46:16,376]\u001b[0m Trial 54 finished with value: 4.090546024209556 and parameters: {'pixel4_w': 4, 'pixel4xlmodded_w': 1, 'pixel4xl_w': 6, 'mi8_w': 4, 'pixel5_w': 8, 'pixel4modded_w': 9, 'samsungs20ultra_w': 8}. Best is trial 33 with value: 4.061073398201115.\u001b[0m\n",
      "\u001b[32m[I 2021-06-07 21:47:36,682]\u001b[0m Trial 55 finished with value: 2451869.77656824 and parameters: {'pixel4_w': 5, 'pixel4xlmodded_w': 0, 'pixel4xl_w': 0, 'mi8_w': 5, 'pixel5_w': 6, 'pixel4modded_w': 8, 'samsungs20ultra_w': 7}. Best is trial 33 with value: 4.061073398201115.\u001b[0m\n",
      "\u001b[32m[I 2021-06-07 21:49:01,870]\u001b[0m Trial 56 finished with value: 4.140711304057308 and parameters: {'pixel4_w': 4, 'pixel4xlmodded_w': 2, 'pixel4xl_w': 6, 'mi8_w': 6, 'pixel5_w': 7, 'pixel4modded_w': 3, 'samsungs20ultra_w': 9}. Best is trial 33 with value: 4.061073398201115.\u001b[0m\n",
      "\u001b[32m[I 2021-06-07 21:50:26,403]\u001b[0m Trial 57 finished with value: 4.097105934926696 and parameters: {'pixel4_w': 6, 'pixel4xlmodded_w': 7, 'pixel4xl_w': 5, 'mi8_w': 8, 'pixel5_w': 10, 'pixel4modded_w': 9, 'samsungs20ultra_w': 8}. Best is trial 33 with value: 4.061073398201115.\u001b[0m\n",
      "\u001b[32m[I 2021-06-07 21:51:50,927]\u001b[0m Trial 58 finished with value: 4.110461466414948 and parameters: {'pixel4_w': 7, 'pixel4xlmodded_w': 1, 'pixel4xl_w': 6, 'mi8_w': 3, 'pixel5_w': 5, 'pixel4modded_w': 5, 'samsungs20ultra_w': 6}. Best is trial 33 with value: 4.061073398201115.\u001b[0m\n",
      "\u001b[32m[I 2021-06-07 21:53:16,851]\u001b[0m Trial 59 finished with value: 4.229678944859575 and parameters: {'pixel4_w': 2, 'pixel4xlmodded_w': 3, 'pixel4xl_w': 7, 'mi8_w': 5, 'pixel5_w': 8, 'pixel4modded_w': 8, 'samsungs20ultra_w': 9}. Best is trial 33 with value: 4.061073398201115.\u001b[0m\n",
      "\u001b[32m[I 2021-06-07 21:54:42,267]\u001b[0m Trial 60 finished with value: 4.081463379212769 and parameters: {'pixel4_w': 5, 'pixel4xlmodded_w': 2, 'pixel4xl_w': 5, 'mi8_w': 4, 'pixel5_w': 8, 'pixel4modded_w': 9, 'samsungs20ultra_w': 6}. Best is trial 33 with value: 4.061073398201115.\u001b[0m\n",
      "\u001b[32m[I 2021-06-07 21:56:08,288]\u001b[0m Trial 61 finished with value: 4.069082337222401 and parameters: {'pixel4_w': 6, 'pixel4xlmodded_w': 3, 'pixel4xl_w': 8, 'mi8_w': 6, 'pixel5_w': 9, 'pixel4modded_w': 10, 'samsungs20ultra_w': 8}. Best is trial 33 with value: 4.061073398201115.\u001b[0m\n",
      "\u001b[32m[I 2021-06-07 21:57:32,185]\u001b[0m Trial 62 finished with value: 4.063688854843523 and parameters: {'pixel4_w': 6, 'pixel4xlmodded_w': 2, 'pixel4xl_w': 9, 'mi8_w': 7, 'pixel5_w': 9, 'pixel4modded_w': 10, 'samsungs20ultra_w': 8}. Best is trial 33 with value: 4.061073398201115.\u001b[0m\n",
      "\u001b[32m[I 2021-06-07 21:58:56,954]\u001b[0m Trial 63 finished with value: 4.087610055669349 and parameters: {'pixel4_w': 7, 'pixel4xlmodded_w': 2, 'pixel4xl_w': 9, 'mi8_w': 7, 'pixel5_w': 10, 'pixel4modded_w': 10, 'samsungs20ultra_w': 7}. Best is trial 33 with value: 4.061073398201115.\u001b[0m\n",
      "\u001b[32m[I 2021-06-07 22:00:22,344]\u001b[0m Trial 64 finished with value: 4.055075948052618 and parameters: {'pixel4_w': 5, 'pixel4xlmodded_w': 1, 'pixel4xl_w': 7, 'mi8_w': 8, 'pixel5_w': 9, 'pixel4modded_w': 10, 'samsungs20ultra_w': 8}. Best is trial 64 with value: 4.055075948052618.\u001b[0m\n",
      "\u001b[32m[I 2021-06-07 22:01:45,849]\u001b[0m Trial 65 finished with value: 4.056244602892879 and parameters: {'pixel4_w': 6, 'pixel4xlmodded_w': 1, 'pixel4xl_w': 7, 'mi8_w': 8, 'pixel5_w': 9, 'pixel4modded_w': 10, 'samsungs20ultra_w': 9}. Best is trial 64 with value: 4.055075948052618.\u001b[0m\n",
      "\u001b[32m[I 2021-06-07 22:03:09,029]\u001b[0m Trial 66 finished with value: 700472.5205365033 and parameters: {'pixel4_w': 6, 'pixel4xlmodded_w': 0, 'pixel4xl_w': 7, 'mi8_w': 9, 'pixel5_w': 10, 'pixel4modded_w': 10, 'samsungs20ultra_w': 9}. Best is trial 64 with value: 4.055075948052618.\u001b[0m\n",
      "\u001b[32m[I 2021-06-07 22:04:32,617]\u001b[0m Trial 67 finished with value: 4.079485191360692 and parameters: {'pixel4_w': 8, 'pixel4xlmodded_w': 1, 'pixel4xl_w': 7, 'mi8_w': 8, 'pixel5_w': 9, 'pixel4modded_w': 10, 'samsungs20ultra_w': 9}. Best is trial 64 with value: 4.055075948052618.\u001b[0m\n",
      "\u001b[32m[I 2021-06-07 22:05:58,874]\u001b[0m Trial 68 finished with value: 4.072694715209205 and parameters: {'pixel4_w': 4, 'pixel4xlmodded_w': 1, 'pixel4xl_w': 8, 'mi8_w': 10, 'pixel5_w': 10, 'pixel4modded_w': 9, 'samsungs20ultra_w': 7}. Best is trial 64 with value: 4.055075948052618.\u001b[0m\n",
      "\u001b[32m[I 2021-06-07 22:07:22,415]\u001b[0m Trial 69 finished with value: 700472.548642289 and parameters: {'pixel4_w': 5, 'pixel4xlmodded_w': 0, 'pixel4xl_w': 7, 'mi8_w': 9, 'pixel5_w': 9, 'pixel4modded_w': 10, 'samsungs20ultra_w': 10}. Best is trial 64 with value: 4.055075948052618.\u001b[0m\n",
      "\u001b[32m[I 2021-06-07 22:08:47,611]\u001b[0m Trial 70 finished with value: 4.08031614907746 and parameters: {'pixel4_w': 7, 'pixel4xlmodded_w': 1, 'pixel4xl_w': 8, 'mi8_w': 8, 'pixel5_w': 9, 'pixel4modded_w': 7, 'samsungs20ultra_w': 8}. Best is trial 64 with value: 4.055075948052618.\u001b[0m\n",
      "\u001b[32m[I 2021-06-07 22:10:11,345]\u001b[0m Trial 71 finished with value: 4.107615973201965 and parameters: {'pixel4_w': 6, 'pixel4xlmodded_w': 10, 'pixel4xl_w': 9, 'mi8_w': 7, 'pixel5_w': 2, 'pixel4modded_w': 10, 'samsungs20ultra_w': 8}. Best is trial 64 with value: 4.055075948052618.\u001b[0m\n",
      "\u001b[32m[I 2021-06-07 22:11:36,251]\u001b[0m Trial 72 finished with value: 4.057239662242125 and parameters: {'pixel4_w': 6, 'pixel4xlmodded_w': 1, 'pixel4xl_w': 9, 'mi8_w': 7, 'pixel5_w': 10, 'pixel4modded_w': 10, 'samsungs20ultra_w': 9}. Best is trial 64 with value: 4.055075948052618.\u001b[0m\n",
      "\u001b[32m[I 2021-06-07 22:13:01,791]\u001b[0m Trial 73 finished with value: 4.065285664542693 and parameters: {'pixel4_w': 7, 'pixel4xlmodded_w': 1, 'pixel4xl_w': 8, 'mi8_w': 8, 'pixel5_w': 10, 'pixel4modded_w': 9, 'samsungs20ultra_w': 9}. Best is trial 64 with value: 4.055075948052618.\u001b[0m\n",
      "\u001b[32m[I 2021-06-07 22:14:23,531]\u001b[0m Trial 74 finished with value: 1225516.8264043499 and parameters: {'pixel4_w': 6, 'pixel4xlmodded_w': 0, 'pixel4xl_w': 7, 'mi8_w': 8, 'pixel5_w': 10, 'pixel4modded_w': 10, 'samsungs20ultra_w': 0}. Best is trial 64 with value: 4.055075948052618.\u001b[0m\n",
      "\u001b[32m[I 2021-06-07 22:15:50,159]\u001b[0m Trial 75 finished with value: 4.0858622275989 and parameters: {'pixel4_w': 5, 'pixel4xlmodded_w': 1, 'pixel4xl_w': 8, 'mi8_w': 7, 'pixel5_w': 9, 'pixel4modded_w': 10, 'samsungs20ultra_w': 10}. Best is trial 64 with value: 4.055075948052618.\u001b[0m\n",
      "\u001b[32m[I 2021-06-07 22:17:12,724]\u001b[0m Trial 76 finished with value: 700472.5366830168 and parameters: {'pixel4_w': 5, 'pixel4xlmodded_w': 0, 'pixel4xl_w': 6, 'mi8_w': 9, 'pixel5_w': 10, 'pixel4modded_w': 9, 'samsungs20ultra_w': 9}. Best is trial 64 with value: 4.055075948052618.\u001b[0m\n",
      "\u001b[32m[I 2021-06-07 22:18:36,474]\u001b[0m Trial 77 finished with value: 4.068420176649549 and parameters: {'pixel4_w': 6, 'pixel4xlmodded_w': 1, 'pixel4xl_w': 7, 'mi8_w': 7, 'pixel5_w': 9, 'pixel4modded_w': 10, 'samsungs20ultra_w': 7}. Best is trial 64 with value: 4.055075948052618.\u001b[0m\n",
      "\u001b[32m[I 2021-06-07 22:20:00,368]\u001b[0m Trial 78 finished with value: 700472.5386765624 and parameters: {'pixel4_w': 5, 'pixel4xlmodded_w': 0, 'pixel4xl_w': 9, 'mi8_w': 6, 'pixel5_w': 9, 'pixel4modded_w': 9, 'samsungs20ultra_w': 9}. Best is trial 64 with value: 4.055075948052618.\u001b[0m\n",
      "\u001b[32m[I 2021-06-07 22:21:25,199]\u001b[0m Trial 79 finished with value: 4.057570075054869 and parameters: {'pixel4_w': 6, 'pixel4xlmodded_w': 1, 'pixel4xl_w': 8, 'mi8_w': 7, 'pixel5_w': 10, 'pixel4modded_w': 10, 'samsungs20ultra_w': 8}. Best is trial 64 with value: 4.055075948052618.\u001b[0m\n",
      "\u001b[32m[I 2021-06-07 22:22:52,592]\u001b[0m Trial 80 finished with value: 4.090251665610727 and parameters: {'pixel4_w': 4, 'pixel4xlmodded_w': 1, 'pixel4xl_w': 6, 'mi8_w': 8, 'pixel5_w': 10, 'pixel4modded_w': 8, 'samsungs20ultra_w': 8}. Best is trial 64 with value: 4.055075948052618.\u001b[0m\n",
      "\u001b[32m[I 2021-06-07 22:24:17,757]\u001b[0m Trial 81 finished with value: 4.064126062281249 and parameters: {'pixel4_w': 6, 'pixel4xlmodded_w': 2, 'pixel4xl_w': 8, 'mi8_w': 7, 'pixel5_w': 10, 'pixel4modded_w': 10, 'samsungs20ultra_w': 8}. Best is trial 64 with value: 4.055075948052618.\u001b[0m\n",
      "\u001b[32m[I 2021-06-07 22:25:43,795]\u001b[0m Trial 82 finished with value: 4.071111680989133 and parameters: {'pixel4_w': 6, 'pixel4xlmodded_w': 1, 'pixel4xl_w': 7, 'mi8_w': 6, 'pixel5_w': 10, 'pixel4modded_w': 10, 'samsungs20ultra_w': 7}. Best is trial 64 with value: 4.055075948052618.\u001b[0m\n",
      "\u001b[32m[I 2021-06-07 22:27:10,311]\u001b[0m Trial 83 finished with value: 4.077294449802252 and parameters: {'pixel4_w': 7, 'pixel4xlmodded_w': 2, 'pixel4xl_w': 8, 'mi8_w': 7, 'pixel5_w': 9, 'pixel4modded_w': 10, 'samsungs20ultra_w': 8}. Best is trial 64 with value: 4.055075948052618.\u001b[0m\n",
      "\u001b[32m[I 2021-06-07 22:28:33,192]\u001b[0m Trial 84 finished with value: 700472.5386765624 and parameters: {'pixel4_w': 5, 'pixel4xlmodded_w': 0, 'pixel4xl_w': 9, 'mi8_w': 6, 'pixel5_w': 9, 'pixel4modded_w': 9, 'samsungs20ultra_w': 9}. Best is trial 64 with value: 4.055075948052618.\u001b[0m\n",
      "\u001b[32m[I 2021-06-07 22:29:58,452]\u001b[0m Trial 85 finished with value: 4.0719141193771655 and parameters: {'pixel4_w': 6, 'pixel4xlmodded_w': 1, 'pixel4xl_w': 8, 'mi8_w': 8, 'pixel5_w': 10, 'pixel4modded_w': 9, 'samsungs20ultra_w': 7}. Best is trial 64 with value: 4.055075948052618.\u001b[0m\n",
      "\u001b[32m[I 2021-06-07 22:31:23,711]\u001b[0m Trial 86 finished with value: 4.070615642902222 and parameters: {'pixel4_w': 5, 'pixel4xlmodded_w': 1, 'pixel4xl_w': 10, 'mi8_w': 7, 'pixel5_w': 8, 'pixel4modded_w': 10, 'samsungs20ultra_w': 6}. Best is trial 64 with value: 4.055075948052618.\u001b[0m\n",
      "\u001b[32m[I 2021-06-07 22:32:47,618]\u001b[0m Trial 87 finished with value: 4.062762387728901 and parameters: {'pixel4_w': 6, 'pixel4xlmodded_w': 2, 'pixel4xl_w': 7, 'mi8_w': 8, 'pixel5_w': 9, 'pixel4modded_w': 10, 'samsungs20ultra_w': 8}. Best is trial 64 with value: 4.055075948052618.\u001b[0m\n",
      "\u001b[32m[I 2021-06-07 22:34:13,033]\u001b[0m Trial 88 finished with value: 4.115004904667731 and parameters: {'pixel4_w': 5, 'pixel4xlmodded_w': 9, 'pixel4xl_w': 6, 'mi8_w': 8, 'pixel5_w': 10, 'pixel4modded_w': 10, 'samsungs20ultra_w': 9}. Best is trial 64 with value: 4.055075948052618.\u001b[0m\n",
      "\u001b[32m[I 2021-06-07 22:35:37,952]\u001b[0m Trial 89 finished with value: 4.109264986823429 and parameters: {'pixel4_w': 4, 'pixel4xlmodded_w': 1, 'pixel4xl_w': 7, 'mi8_w': 9, 'pixel5_w': 9, 'pixel4modded_w': 4, 'samsungs20ultra_w': 8}. Best is trial 64 with value: 4.055075948052618.\u001b[0m\n",
      "\u001b[32m[I 2021-06-07 22:37:02,855]\u001b[0m Trial 90 finished with value: 4.079947404304298 and parameters: {'pixel4_w': 6, 'pixel4xlmodded_w': 2, 'pixel4xl_w': 7, 'mi8_w': 9, 'pixel5_w': 8, 'pixel4modded_w': 6, 'samsungs20ultra_w': 10}. Best is trial 64 with value: 4.055075948052618.\u001b[0m\n",
      "\u001b[32m[I 2021-06-07 22:38:27,278]\u001b[0m Trial 91 finished with value: 4.086927938078886 and parameters: {'pixel4_w': 7, 'pixel4xlmodded_w': 2, 'pixel4xl_w': 8, 'mi8_w': 7, 'pixel5_w': 9, 'pixel4modded_w': 10, 'samsungs20ultra_w': 7}. Best is trial 64 with value: 4.055075948052618.\u001b[0m\n",
      "\u001b[32m[I 2021-06-07 22:39:54,216]\u001b[0m Trial 92 finished with value: 4.057895342727384 and parameters: {'pixel4_w': 6, 'pixel4xlmodded_w': 1, 'pixel4xl_w': 9, 'mi8_w': 8, 'pixel5_w': 10, 'pixel4modded_w': 10, 'samsungs20ultra_w': 8}. Best is trial 64 with value: 4.055075948052618.\u001b[0m\n",
      "\u001b[32m[I 2021-06-07 22:41:20,121]\u001b[0m Trial 93 finished with value: 4.057895342727384 and parameters: {'pixel4_w': 6, 'pixel4xlmodded_w': 1, 'pixel4xl_w': 9, 'mi8_w': 8, 'pixel5_w': 10, 'pixel4modded_w': 10, 'samsungs20ultra_w': 8}. Best is trial 64 with value: 4.055075948052618.\u001b[0m\n",
      "\u001b[32m[I 2021-06-07 22:42:44,688]\u001b[0m Trial 94 finished with value: 700472.5250413214 and parameters: {'pixel4_w': 6, 'pixel4xlmodded_w': 0, 'pixel4xl_w': 10, 'mi8_w': 8, 'pixel5_w': 10, 'pixel4modded_w': 9, 'samsungs20ultra_w': 8}. Best is trial 64 with value: 4.055075948052618.\u001b[0m\n",
      "\u001b[32m[I 2021-06-07 22:44:08,969]\u001b[0m Trial 95 finished with value: 4.082911828411584 and parameters: {'pixel4_w': 7, 'pixel4xlmodded_w': 1, 'pixel4xl_w': 9, 'mi8_w': 10, 'pixel5_w': 10, 'pixel4modded_w': 10, 'samsungs20ultra_w': 7}. Best is trial 64 with value: 4.055075948052618.\u001b[0m\n",
      "\u001b[32m[I 2021-06-07 22:45:34,696]\u001b[0m Trial 96 finished with value: 4.072734215780974 and parameters: {'pixel4_w': 5, 'pixel4xlmodded_w': 1, 'pixel4xl_w': 9, 'mi8_w': 9, 'pixel5_w': 10, 'pixel4modded_w': 10, 'samsungs20ultra_w': 9}. Best is trial 64 with value: 4.055075948052618.\u001b[0m\n",
      "\u001b[32m[I 2021-06-07 22:46:57,938]\u001b[0m Trial 97 finished with value: 700472.5883789834 and parameters: {'pixel4_w': 6, 'pixel4xlmodded_w': 0, 'pixel4xl_w': 9, 'mi8_w': 8, 'pixel5_w': 10, 'pixel4modded_w': 1, 'samsungs20ultra_w': 8}. Best is trial 64 with value: 4.055075948052618.\u001b[0m\n",
      "\u001b[32m[I 2021-06-07 22:48:22,771]\u001b[0m Trial 98 finished with value: 4.065714342772548 and parameters: {'pixel4_w': 5, 'pixel4xlmodded_w': 1, 'pixel4xl_w': 9, 'mi8_w': 8, 'pixel5_w': 4, 'pixel4modded_w': 9, 'samsungs20ultra_w': 7}. Best is trial 64 with value: 4.055075948052618.\u001b[0m\n",
      "\u001b[32m[I 2021-06-07 22:49:47,520]\u001b[0m Trial 99 finished with value: 4.079172490333963 and parameters: {'pixel4_w': 7, 'pixel4xlmodded_w': 1, 'pixel4xl_w': 6, 'mi8_w': 8, 'pixel5_w': 10, 'pixel4modded_w': 10, 'samsungs20ultra_w': 8}. Best is trial 64 with value: 4.055075948052618.\u001b[0m\n"
     ]
    },
    {
     "name": "stdout",
     "output_type": "stream",
     "text": [
      "4.055075948052618\n",
      "{'pixel4_w': 5, 'pixel4xlmodded_w': 1, 'pixel4xl_w': 7, 'mi8_w': 8, 'pixel5_w': 9, 'pixel4modded_w': 10, 'samsungs20ultra_w': 8}\n"
     ]
    }
   ],
   "source": [
    "study = optuna.create_study(direction=\"minimize\")\n",
    "study.optimize(objective, n_trials=100)\n",
    "print(study.best_value)\n",
    "print(study.best_params)\n",
    "opt_weights = study.best_params"
   ]
  },
  {
   "cell_type": "code",
   "execution_count": 23,
   "id": "southwest-broadway",
   "metadata": {},
   "outputs": [],
   "source": [
    "base_test = add_distance_diff(base_test)\n",
    "th = 50\n",
    "base_test.loc[((base_test['dist_prev'] > th) & (base_test['dist_next'] > th)), ['latDeg', 'lngDeg']] = np.nan\n",
    "\n",
    "test_kf = apply_kf_smoothing(base_test)\n",
    "\n",
    "test_lerp = make_lerp_data(test_kf)\n",
    "test_mean_pred = calc_weighted_mean_pred(test_kf, test_lerp, weights)\n",
    "\n",
    "sample_sub['latDeg'] = test_mean_pred['latDeg']\n",
    "sample_sub['lngDeg'] = test_mean_pred['lngDeg']\n",
    "sample_sub.to_csv(OUTPUT + '/submission.csv', index=False)"
   ]
  },
  {
   "cell_type": "code",
   "execution_count": null,
   "id": "oriented-litigation",
   "metadata": {},
   "outputs": [],
   "source": []
  }
 ],
 "metadata": {
  "kernelspec": {
   "display_name": "Python 3",
   "language": "python",
   "name": "python3"
  },
  "language_info": {
   "codemirror_mode": {
    "name": "ipython",
    "version": 3
   },
   "file_extension": ".py",
   "mimetype": "text/x-python",
   "name": "python",
   "nbconvert_exporter": "python",
   "pygments_lexer": "ipython3",
   "version": "3.7.10"
  }
 },
 "nbformat": 4,
 "nbformat_minor": 5
}
