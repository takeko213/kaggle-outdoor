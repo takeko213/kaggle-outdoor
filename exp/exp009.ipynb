{
 "cells": [
  {
   "cell_type": "markdown",
   "id": "internal-entrance",
   "metadata": {},
   "source": [
    "# exp009\n",
    "speed0の後処理検討"
   ]
  },
  {
   "cell_type": "code",
   "execution_count": 1,
   "id": "operating-sustainability",
   "metadata": {},
   "outputs": [],
   "source": [
    "# import library\n",
    "import os\n",
    "import pandas as pd\n",
    "import numpy as np\n",
    "import matplotlib.pyplot as plt\n",
    "from matplotlib_venn import venn2, venn2_circles\n",
    "import seaborn as sns\n",
    "from tqdm.notebook import tqdm\n",
    "import pathlib\n",
    "import plotly\n",
    "import plotly.express as px"
   ]
  },
  {
   "cell_type": "markdown",
   "id": "backed-career",
   "metadata": {},
   "source": [
    "# utils"
   ]
  },
  {
   "cell_type": "code",
   "execution_count": 2,
   "id": "mounted-treasurer",
   "metadata": {},
   "outputs": [],
   "source": [
    "def calc_haversine(lat1, lon1, lat2, lon2):\n",
    "    \"\"\"Calculates the great circle distance between two points\n",
    "    on the earth. Inputs are array-like and specified in decimal degrees.\n",
    "    \"\"\"\n",
    "    RADIUS = 6_367_000\n",
    "    lat1, lon1, lat2, lon2 = map(np.radians, [lat1, lon1, lat2, lon2])\n",
    "    dlat = lat2 - lat1\n",
    "    dlon = lon2 - lon1\n",
    "    a = np.sin(dlat/2)**2 + \\\n",
    "        np.cos(lat1) * np.cos(lat2) * np.sin(dlon/2)**2\n",
    "    dist = 2 * RADIUS * np.arcsin(a**0.5)\n",
    "    return dist"
   ]
  },
  {
   "cell_type": "code",
   "execution_count": 3,
   "id": "signed-report",
   "metadata": {},
   "outputs": [],
   "source": [
    "def visualize_trafic(df, center, zoom=9):\n",
    "    fig = px.scatter_mapbox(df,\n",
    "                            \n",
    "                            # Here, plotly gets, (x,y) coordinates\n",
    "                            lat=\"latDeg\",\n",
    "                            lon=\"lngDeg\",\n",
    "                            \n",
    "                            #Here, plotly detects color of series\n",
    "                            color=\"phoneName\",\n",
    "                            labels=\"phoneName\",\n",
    "                            \n",
    "                            zoom=zoom,\n",
    "                            center=center,\n",
    "                            height=600,\n",
    "                            width=800)\n",
    "    fig.update_layout(mapbox_style='stamen-terrain')\n",
    "    fig.update_layout(margin={\"r\": 0, \"t\": 0, \"l\": 0, \"b\": 0})\n",
    "    fig.update_layout(title_text=\"GPS trafic\")\n",
    "    fig.show()\n",
    "    \n",
    "def visualize_collection(df, collection):\n",
    "    target_df = df[df['collectionName']==collection].copy()\n",
    "    lat_center = target_df['latDeg'].mean()\n",
    "    lng_center = target_df['lngDeg'].mean()\n",
    "    center = {\"lat\":lat_center, \"lon\":lng_center}\n",
    "    \n",
    "    visualize_trafic(target_df, center)"
   ]
  },
  {
   "cell_type": "markdown",
   "id": "favorite-novelty",
   "metadata": {},
   "source": [
    "# data prep"
   ]
  },
  {
   "cell_type": "code",
   "execution_count": 4,
   "id": "opening-tribe",
   "metadata": {},
   "outputs": [],
   "source": [
    "import ipynb_path\n",
    "\n",
    "def get_nb_name():\n",
    "    nb_path = ipynb_path.get()\n",
    "    nb_name = nb_path.rsplit('/',1)[1].replace('.ipynb','')\n",
    "    return nb_name"
   ]
  },
  {
   "cell_type": "code",
   "execution_count": 5,
   "id": "pleased-whole",
   "metadata": {},
   "outputs": [],
   "source": [
    "# directory setting\n",
    "nb_name = get_nb_name()\n",
    "INPUT = '../input/google-smartphone-decimeter-challenge'\n",
    "OUTPUT = '../output/' + nb_name\n",
    "os.makedirs(OUTPUT, exist_ok=True)"
   ]
  },
  {
   "cell_type": "code",
   "execution_count": 6,
   "id": "prompt-threshold",
   "metadata": {},
   "outputs": [],
   "source": [
    "base_train = pd.read_csv(INPUT + '/' + 'baseline_locations_train.csv')\n",
    "base_test = pd.read_csv(INPUT + '/' + 'baseline_locations_test.csv')\n",
    "sample_sub = pd.read_csv(INPUT + '/' + 'sample_submission.csv')"
   ]
  },
  {
   "cell_type": "code",
   "execution_count": 7,
   "id": "uniform-barcelona",
   "metadata": {},
   "outputs": [
    {
     "name": "stdout",
     "output_type": "stream",
     "text": [
      "ground_truth.csv count :  73\n"
     ]
    },
    {
     "data": {
      "application/vnd.jupyter.widget-view+json": {
       "model_id": "904087c4358e414d8e6ac44566f1cb5e",
       "version_major": 2,
       "version_minor": 0
      },
      "text/plain": [
       "  0%|          | 0/73 [00:00<?, ?it/s]"
      ]
     },
     "metadata": {},
     "output_type": "display_data"
    },
    {
     "data": {
      "text/html": [
       "<div>\n",
       "<style scoped>\n",
       "    .dataframe tbody tr th:only-of-type {\n",
       "        vertical-align: middle;\n",
       "    }\n",
       "\n",
       "    .dataframe tbody tr th {\n",
       "        vertical-align: top;\n",
       "    }\n",
       "\n",
       "    .dataframe thead th {\n",
       "        text-align: right;\n",
       "    }\n",
       "</style>\n",
       "<table border=\"1\" class=\"dataframe\">\n",
       "  <thead>\n",
       "    <tr style=\"text-align: right;\">\n",
       "      <th></th>\n",
       "      <th>collectionName</th>\n",
       "      <th>phoneName</th>\n",
       "      <th>millisSinceGpsEpoch</th>\n",
       "      <th>latDeg</th>\n",
       "      <th>lngDeg</th>\n",
       "      <th>heightAboveWgs84EllipsoidM</th>\n",
       "      <th>timeSinceFirstFixSeconds</th>\n",
       "      <th>hDop</th>\n",
       "      <th>vDop</th>\n",
       "      <th>speedMps</th>\n",
       "      <th>courseDegree</th>\n",
       "    </tr>\n",
       "  </thead>\n",
       "  <tbody>\n",
       "    <tr>\n",
       "      <th>0</th>\n",
       "      <td>2020-05-21-US-MTV-2</td>\n",
       "      <td>Pixel4</td>\n",
       "      <td>1274131364434</td>\n",
       "      <td>37.628927</td>\n",
       "      <td>-122.426295</td>\n",
       "      <td>65.36</td>\n",
       "      <td>64.43</td>\n",
       "      <td>2.6</td>\n",
       "      <td>0.0</td>\n",
       "      <td>0.0</td>\n",
       "      <td>154.3</td>\n",
       "    </tr>\n",
       "    <tr>\n",
       "      <th>1</th>\n",
       "      <td>2020-05-21-US-MTV-2</td>\n",
       "      <td>Pixel4</td>\n",
       "      <td>1274131365434</td>\n",
       "      <td>37.628927</td>\n",
       "      <td>-122.426295</td>\n",
       "      <td>65.36</td>\n",
       "      <td>65.43</td>\n",
       "      <td>2.6</td>\n",
       "      <td>0.0</td>\n",
       "      <td>0.0</td>\n",
       "      <td>154.3</td>\n",
       "    </tr>\n",
       "    <tr>\n",
       "      <th>2</th>\n",
       "      <td>2020-05-21-US-MTV-2</td>\n",
       "      <td>Pixel4</td>\n",
       "      <td>1274131366434</td>\n",
       "      <td>37.628927</td>\n",
       "      <td>-122.426295</td>\n",
       "      <td>65.36</td>\n",
       "      <td>66.43</td>\n",
       "      <td>2.6</td>\n",
       "      <td>0.0</td>\n",
       "      <td>0.0</td>\n",
       "      <td>154.3</td>\n",
       "    </tr>\n",
       "    <tr>\n",
       "      <th>3</th>\n",
       "      <td>2020-05-21-US-MTV-2</td>\n",
       "      <td>Pixel4</td>\n",
       "      <td>1274131367434</td>\n",
       "      <td>37.628927</td>\n",
       "      <td>-122.426295</td>\n",
       "      <td>65.36</td>\n",
       "      <td>67.43</td>\n",
       "      <td>2.6</td>\n",
       "      <td>0.0</td>\n",
       "      <td>0.0</td>\n",
       "      <td>154.3</td>\n",
       "    </tr>\n",
       "    <tr>\n",
       "      <th>4</th>\n",
       "      <td>2020-05-21-US-MTV-2</td>\n",
       "      <td>Pixel4</td>\n",
       "      <td>1274131368434</td>\n",
       "      <td>37.628927</td>\n",
       "      <td>-122.426295</td>\n",
       "      <td>65.36</td>\n",
       "      <td>68.43</td>\n",
       "      <td>2.6</td>\n",
       "      <td>0.0</td>\n",
       "      <td>0.0</td>\n",
       "      <td>154.3</td>\n",
       "    </tr>\n",
       "  </tbody>\n",
       "</table>\n",
       "</div>"
      ],
      "text/plain": [
       "        collectionName phoneName  millisSinceGpsEpoch     latDeg      lngDeg  \\\n",
       "0  2020-05-21-US-MTV-2    Pixel4        1274131364434  37.628927 -122.426295   \n",
       "1  2020-05-21-US-MTV-2    Pixel4        1274131365434  37.628927 -122.426295   \n",
       "2  2020-05-21-US-MTV-2    Pixel4        1274131366434  37.628927 -122.426295   \n",
       "3  2020-05-21-US-MTV-2    Pixel4        1274131367434  37.628927 -122.426295   \n",
       "4  2020-05-21-US-MTV-2    Pixel4        1274131368434  37.628927 -122.426295   \n",
       "\n",
       "   heightAboveWgs84EllipsoidM  timeSinceFirstFixSeconds  hDop  vDop  speedMps  \\\n",
       "0                       65.36                     64.43   2.6   0.0       0.0   \n",
       "1                       65.36                     65.43   2.6   0.0       0.0   \n",
       "2                       65.36                     66.43   2.6   0.0       0.0   \n",
       "3                       65.36                     67.43   2.6   0.0       0.0   \n",
       "4                       65.36                     68.43   2.6   0.0       0.0   \n",
       "\n",
       "   courseDegree  \n",
       "0         154.3  \n",
       "1         154.3  \n",
       "2         154.3  \n",
       "3         154.3  \n",
       "4         154.3  "
      ]
     },
     "metadata": {},
     "output_type": "display_data"
    }
   ],
   "source": [
    "# ground_truth\n",
    "p = pathlib.Path(INPUT)\n",
    "gt_files = list(p.glob('train/*/*/ground_truth.csv'))\n",
    "print('ground_truth.csv count : ', len(gt_files))\n",
    "\n",
    "gts = []\n",
    "for gt_file in tqdm(gt_files):\n",
    "    gts.append(pd.read_csv(gt_file))\n",
    "ground_truth = pd.concat(gts)\n",
    "\n",
    "display(ground_truth.head())"
   ]
  },
  {
   "cell_type": "markdown",
   "id": "faced-mother",
   "metadata": {},
   "source": [
    "# reject outlier"
   ]
  },
  {
   "cell_type": "code",
   "execution_count": 8,
   "id": "severe-victor",
   "metadata": {},
   "outputs": [],
   "source": [
    "def add_distance_diff(df):\n",
    "    df['latDeg_prev'] = df['latDeg'].shift(1)\n",
    "    df['latDeg_next'] = df['latDeg'].shift(-1)\n",
    "    df['lngDeg_prev'] = df['lngDeg'].shift(1)\n",
    "    df['lngDeg_next'] = df['lngDeg'].shift(-1)\n",
    "    df['phone_prev'] = df['phone'].shift(1)\n",
    "    df['phone_next'] = df['phone'].shift(-1)\n",
    "    \n",
    "    df['dist_prev'] = calc_haversine(df['latDeg'], df['lngDeg'], df['latDeg_prev'], df['lngDeg_prev'])\n",
    "    df['dist_next'] = calc_haversine(df['latDeg'], df['lngDeg'], df['latDeg_next'], df['lngDeg_next'])\n",
    "    \n",
    "    df.loc[df['phone']!=df['phone_prev'], ['latDeg_prev', 'lngDeg_prev', 'dist_prev']] = np.nan\n",
    "    df.loc[df['phone']!=df['phone_next'], ['latDeg_next', 'lngDeg_next', 'dist_next']] = np.nan\n",
    "    \n",
    "    return df"
   ]
  },
  {
   "cell_type": "code",
   "execution_count": 9,
   "id": "civil-valentine",
   "metadata": {},
   "outputs": [],
   "source": [
    "# reject outlier\n",
    "train_ro = add_distance_diff(base_train)\n",
    "th = 50\n",
    "train_ro.loc[((train_ro['dist_prev'] > th) & (train_ro['dist_next'] > th)), ['latDeg', 'lngDeg']] = np.nan"
   ]
  },
  {
   "cell_type": "markdown",
   "id": "collect-immunology",
   "metadata": {},
   "source": [
    "# kalman filter"
   ]
  },
  {
   "cell_type": "code",
   "execution_count": 10,
   "id": "opponent-bride",
   "metadata": {},
   "outputs": [],
   "source": [
    "import simdkalman"
   ]
  },
  {
   "cell_type": "code",
   "execution_count": 11,
   "id": "alpha-interstate",
   "metadata": {},
   "outputs": [],
   "source": [
    "T = 1.0\n",
    "state_transition = np.array([[1, 0, T, 0, 0.5 * T ** 2, 0], [0, 1, 0, T, 0, 0.5 * T ** 2], [0, 0, 1, 0, T, 0],\n",
    "                             [0, 0, 0, 1, 0, T], [0, 0, 0, 0, 1, 0], [0, 0, 0, 0, 0, 1]])\n",
    "process_noise = np.diag([1e-5, 1e-5, 5e-6, 5e-6, 1e-6, 1e-6]) + np.ones((6, 6)) * 1e-9\n",
    "observation_model = np.array([[1, 0, 0, 0, 0, 0], [0, 1, 0, 0, 0, 0]])\n",
    "observation_noise = np.diag([5e-5, 5e-5]) + np.ones((2, 2)) * 1e-9\n",
    "\n",
    "kf = simdkalman.KalmanFilter(\n",
    "        state_transition = state_transition,\n",
    "        process_noise = process_noise,\n",
    "        observation_model = observation_model,\n",
    "        observation_noise = observation_noise)\n",
    "\n",
    "def apply_kf_smoothing(df, kf_=kf):\n",
    "    unique_paths = df[['collectionName', 'phoneName']].drop_duplicates().to_numpy()\n",
    "    for collection, phone in unique_paths:\n",
    "        cond = np.logical_and(df['collectionName'] == collection, df['phoneName'] == phone)\n",
    "        data = df[cond][['latDeg', 'lngDeg']].to_numpy()\n",
    "        data = data.reshape(1, len(data), 2)\n",
    "        smoothed = kf_.smooth(data)\n",
    "        df.loc[cond, 'latDeg'] = smoothed.states.mean[0, :, 0]\n",
    "        df.loc[cond, 'lngDeg'] = smoothed.states.mean[0, :, 1]\n",
    "    return df"
   ]
  },
  {
   "cell_type": "code",
   "execution_count": 12,
   "id": "historic-ladder",
   "metadata": {},
   "outputs": [
    {
     "name": "stderr",
     "output_type": "stream",
     "text": [
      "/opt/conda/lib/python3.7/site-packages/pandas/core/indexing.py:1743: SettingWithCopyWarning: \n",
      "A value is trying to be set on a copy of a slice from a DataFrame.\n",
      "Try using .loc[row_indexer,col_indexer] = value instead\n",
      "\n",
      "See the caveats in the documentation: https://pandas.pydata.org/pandas-docs/stable/user_guide/indexing.html#returning-a-view-versus-a-copy\n",
      "  isetter(ilocs[0], value)\n"
     ]
    }
   ],
   "source": [
    "cols = ['collectionName', 'phoneName', 'millisSinceGpsEpoch', 'latDeg', 'lngDeg']\n",
    "train_ro_kf = apply_kf_smoothing(train_ro[cols])"
   ]
  },
  {
   "cell_type": "code",
   "execution_count": 13,
   "id": "included-arabic",
   "metadata": {},
   "outputs": [
    {
     "data": {
      "text/html": [
       "<div>\n",
       "<style scoped>\n",
       "    .dataframe tbody tr th:only-of-type {\n",
       "        vertical-align: middle;\n",
       "    }\n",
       "\n",
       "    .dataframe tbody tr th {\n",
       "        vertical-align: top;\n",
       "    }\n",
       "\n",
       "    .dataframe thead th {\n",
       "        text-align: right;\n",
       "    }\n",
       "</style>\n",
       "<table border=\"1\" class=\"dataframe\">\n",
       "  <thead>\n",
       "    <tr style=\"text-align: right;\">\n",
       "      <th></th>\n",
       "      <th>collectionName</th>\n",
       "      <th>phoneName</th>\n",
       "      <th>millisSinceGpsEpoch</th>\n",
       "      <th>latDeg</th>\n",
       "      <th>lngDeg</th>\n",
       "    </tr>\n",
       "  </thead>\n",
       "  <tbody>\n",
       "    <tr>\n",
       "      <th>0</th>\n",
       "      <td>2020-05-14-US-MTV-1</td>\n",
       "      <td>Pixel4</td>\n",
       "      <td>1273529463442</td>\n",
       "      <td>37.423549</td>\n",
       "      <td>-122.094006</td>\n",
       "    </tr>\n",
       "    <tr>\n",
       "      <th>1</th>\n",
       "      <td>2020-05-14-US-MTV-1</td>\n",
       "      <td>Pixel4</td>\n",
       "      <td>1273529464442</td>\n",
       "      <td>37.423564</td>\n",
       "      <td>-122.094063</td>\n",
       "    </tr>\n",
       "    <tr>\n",
       "      <th>2</th>\n",
       "      <td>2020-05-14-US-MTV-1</td>\n",
       "      <td>Pixel4</td>\n",
       "      <td>1273529465442</td>\n",
       "      <td>37.423573</td>\n",
       "      <td>-122.094098</td>\n",
       "    </tr>\n",
       "    <tr>\n",
       "      <th>3</th>\n",
       "      <td>2020-05-14-US-MTV-1</td>\n",
       "      <td>Pixel4</td>\n",
       "      <td>1273529466442</td>\n",
       "      <td>37.423578</td>\n",
       "      <td>-122.094116</td>\n",
       "    </tr>\n",
       "    <tr>\n",
       "      <th>4</th>\n",
       "      <td>2020-05-14-US-MTV-1</td>\n",
       "      <td>Pixel4</td>\n",
       "      <td>1273529467442</td>\n",
       "      <td>37.423579</td>\n",
       "      <td>-122.094123</td>\n",
       "    </tr>\n",
       "    <tr>\n",
       "      <th>...</th>\n",
       "      <td>...</td>\n",
       "      <td>...</td>\n",
       "      <td>...</td>\n",
       "      <td>...</td>\n",
       "      <td>...</td>\n",
       "    </tr>\n",
       "    <tr>\n",
       "      <th>131337</th>\n",
       "      <td>2021-04-29-US-SJC-2</td>\n",
       "      <td>SamsungS20Ultra</td>\n",
       "      <td>1303760315000</td>\n",
       "      <td>37.334466</td>\n",
       "      <td>-121.899597</td>\n",
       "    </tr>\n",
       "    <tr>\n",
       "      <th>131338</th>\n",
       "      <td>2021-04-29-US-SJC-2</td>\n",
       "      <td>SamsungS20Ultra</td>\n",
       "      <td>1303760316000</td>\n",
       "      <td>37.334473</td>\n",
       "      <td>-121.899592</td>\n",
       "    </tr>\n",
       "    <tr>\n",
       "      <th>131339</th>\n",
       "      <td>2021-04-29-US-SJC-2</td>\n",
       "      <td>SamsungS20Ultra</td>\n",
       "      <td>1303760317000</td>\n",
       "      <td>37.334481</td>\n",
       "      <td>-121.899588</td>\n",
       "    </tr>\n",
       "    <tr>\n",
       "      <th>131340</th>\n",
       "      <td>2021-04-29-US-SJC-2</td>\n",
       "      <td>SamsungS20Ultra</td>\n",
       "      <td>1303760318000</td>\n",
       "      <td>37.334487</td>\n",
       "      <td>-121.899582</td>\n",
       "    </tr>\n",
       "    <tr>\n",
       "      <th>131341</th>\n",
       "      <td>2021-04-29-US-SJC-2</td>\n",
       "      <td>SamsungS20Ultra</td>\n",
       "      <td>1303760319000</td>\n",
       "      <td>37.334493</td>\n",
       "      <td>-121.899574</td>\n",
       "    </tr>\n",
       "  </tbody>\n",
       "</table>\n",
       "<p>131342 rows × 5 columns</p>\n",
       "</div>"
      ],
      "text/plain": [
       "             collectionName        phoneName  millisSinceGpsEpoch     latDeg  \\\n",
       "0       2020-05-14-US-MTV-1           Pixel4        1273529463442  37.423549   \n",
       "1       2020-05-14-US-MTV-1           Pixel4        1273529464442  37.423564   \n",
       "2       2020-05-14-US-MTV-1           Pixel4        1273529465442  37.423573   \n",
       "3       2020-05-14-US-MTV-1           Pixel4        1273529466442  37.423578   \n",
       "4       2020-05-14-US-MTV-1           Pixel4        1273529467442  37.423579   \n",
       "...                     ...              ...                  ...        ...   \n",
       "131337  2021-04-29-US-SJC-2  SamsungS20Ultra        1303760315000  37.334466   \n",
       "131338  2021-04-29-US-SJC-2  SamsungS20Ultra        1303760316000  37.334473   \n",
       "131339  2021-04-29-US-SJC-2  SamsungS20Ultra        1303760317000  37.334481   \n",
       "131340  2021-04-29-US-SJC-2  SamsungS20Ultra        1303760318000  37.334487   \n",
       "131341  2021-04-29-US-SJC-2  SamsungS20Ultra        1303760319000  37.334493   \n",
       "\n",
       "            lngDeg  \n",
       "0      -122.094006  \n",
       "1      -122.094063  \n",
       "2      -122.094098  \n",
       "3      -122.094116  \n",
       "4      -122.094123  \n",
       "...            ...  \n",
       "131337 -121.899597  \n",
       "131338 -121.899592  \n",
       "131339 -121.899588  \n",
       "131340 -121.899582  \n",
       "131341 -121.899574  \n",
       "\n",
       "[131342 rows x 5 columns]"
      ]
     },
     "execution_count": 13,
     "metadata": {},
     "output_type": "execute_result"
    }
   ],
   "source": [
    "train_ro_kf"
   ]
  },
  {
   "cell_type": "markdown",
   "id": "complete-basis",
   "metadata": {},
   "source": [
    "# evaluate train score"
   ]
  },
  {
   "cell_type": "code",
   "execution_count": 14,
   "id": "polish-inclusion",
   "metadata": {},
   "outputs": [],
   "source": [
    "def percentile50(x):\n",
    "    return np.percentile(x, 50)\n",
    "def percentile95(x):\n",
    "    return np.percentile(x, 95)"
   ]
  },
  {
   "cell_type": "code",
   "execution_count": 15,
   "id": "elegant-former",
   "metadata": {},
   "outputs": [],
   "source": [
    "def get_train_score(df, gt):\n",
    "    gt = gt.rename(columns={'latDeg':'latDeg_gt', 'lngDeg':'lngDeg_gt'})\n",
    "    df = df.merge(gt, on=['collectionName', 'phoneName', 'millisSinceGpsEpoch'], how='inner')\n",
    "    # calc_distance_error\n",
    "    df['err'] = calc_haversine(df['latDeg_gt'], df['lngDeg_gt'], df['latDeg'], df['lngDeg'])\n",
    "    # calc_evaluate_score\n",
    "    df['phone'] = df['collectionName'] + '_' + df['phoneName']\n",
    "    res = df.groupby('phone')['err'].agg([percentile50, percentile95])\n",
    "    res['p50_p90_mean'] = (res['percentile50'] + res['percentile95']) / 2 \n",
    "    score = res['p50_p90_mean'].mean()\n",
    "    return score"
   ]
  },
  {
   "cell_type": "code",
   "execution_count": 16,
   "id": "appropriate-oriental",
   "metadata": {},
   "outputs": [
    {
     "name": "stdout",
     "output_type": "stream",
     "text": [
      "kf + reject_outlier :  4.5511221131190664\n"
     ]
    }
   ],
   "source": [
    "print('kf + reject_outlier : ', get_train_score(train_ro_kf, ground_truth))"
   ]
  },
  {
   "cell_type": "markdown",
   "id": "taken-monster",
   "metadata": {},
   "source": [
    "# speed0部分の後処理"
   ]
  },
  {
   "cell_type": "code",
   "execution_count": 18,
   "id": "instructional-anger",
   "metadata": {},
   "outputs": [],
   "source": [
    "train_sp0 = train_ro_kf.copy()"
   ]
  },
  {
   "cell_type": "code",
   "execution_count": 21,
   "id": "equipped-establishment",
   "metadata": {},
   "outputs": [
    {
     "data": {
      "text/html": [
       "<div>\n",
       "<style scoped>\n",
       "    .dataframe tbody tr th:only-of-type {\n",
       "        vertical-align: middle;\n",
       "    }\n",
       "\n",
       "    .dataframe tbody tr th {\n",
       "        vertical-align: top;\n",
       "    }\n",
       "\n",
       "    .dataframe thead th {\n",
       "        text-align: right;\n",
       "    }\n",
       "</style>\n",
       "<table border=\"1\" class=\"dataframe\">\n",
       "  <thead>\n",
       "    <tr style=\"text-align: right;\">\n",
       "      <th></th>\n",
       "      <th>collectionName</th>\n",
       "      <th>phoneName</th>\n",
       "      <th>millisSinceGpsEpoch</th>\n",
       "      <th>latDeg</th>\n",
       "      <th>lngDeg</th>\n",
       "    </tr>\n",
       "  </thead>\n",
       "  <tbody>\n",
       "    <tr>\n",
       "      <th>0</th>\n",
       "      <td>2020-05-14-US-MTV-1</td>\n",
       "      <td>Pixel4</td>\n",
       "      <td>1273529463442</td>\n",
       "      <td>37.423549</td>\n",
       "      <td>-122.094006</td>\n",
       "    </tr>\n",
       "    <tr>\n",
       "      <th>1</th>\n",
       "      <td>2020-05-14-US-MTV-1</td>\n",
       "      <td>Pixel4</td>\n",
       "      <td>1273529464442</td>\n",
       "      <td>37.423564</td>\n",
       "      <td>-122.094063</td>\n",
       "    </tr>\n",
       "    <tr>\n",
       "      <th>2</th>\n",
       "      <td>2020-05-14-US-MTV-1</td>\n",
       "      <td>Pixel4</td>\n",
       "      <td>1273529465442</td>\n",
       "      <td>37.423573</td>\n",
       "      <td>-122.094098</td>\n",
       "    </tr>\n",
       "    <tr>\n",
       "      <th>3</th>\n",
       "      <td>2020-05-14-US-MTV-1</td>\n",
       "      <td>Pixel4</td>\n",
       "      <td>1273529466442</td>\n",
       "      <td>37.423578</td>\n",
       "      <td>-122.094116</td>\n",
       "    </tr>\n",
       "    <tr>\n",
       "      <th>4</th>\n",
       "      <td>2020-05-14-US-MTV-1</td>\n",
       "      <td>Pixel4</td>\n",
       "      <td>1273529467442</td>\n",
       "      <td>37.423579</td>\n",
       "      <td>-122.094123</td>\n",
       "    </tr>\n",
       "    <tr>\n",
       "      <th>...</th>\n",
       "      <td>...</td>\n",
       "      <td>...</td>\n",
       "      <td>...</td>\n",
       "      <td>...</td>\n",
       "      <td>...</td>\n",
       "    </tr>\n",
       "    <tr>\n",
       "      <th>131337</th>\n",
       "      <td>2021-04-29-US-SJC-2</td>\n",
       "      <td>SamsungS20Ultra</td>\n",
       "      <td>1303760315000</td>\n",
       "      <td>37.334466</td>\n",
       "      <td>-121.899597</td>\n",
       "    </tr>\n",
       "    <tr>\n",
       "      <th>131338</th>\n",
       "      <td>2021-04-29-US-SJC-2</td>\n",
       "      <td>SamsungS20Ultra</td>\n",
       "      <td>1303760316000</td>\n",
       "      <td>37.334473</td>\n",
       "      <td>-121.899592</td>\n",
       "    </tr>\n",
       "    <tr>\n",
       "      <th>131339</th>\n",
       "      <td>2021-04-29-US-SJC-2</td>\n",
       "      <td>SamsungS20Ultra</td>\n",
       "      <td>1303760317000</td>\n",
       "      <td>37.334481</td>\n",
       "      <td>-121.899588</td>\n",
       "    </tr>\n",
       "    <tr>\n",
       "      <th>131340</th>\n",
       "      <td>2021-04-29-US-SJC-2</td>\n",
       "      <td>SamsungS20Ultra</td>\n",
       "      <td>1303760318000</td>\n",
       "      <td>37.334487</td>\n",
       "      <td>-121.899582</td>\n",
       "    </tr>\n",
       "    <tr>\n",
       "      <th>131341</th>\n",
       "      <td>2021-04-29-US-SJC-2</td>\n",
       "      <td>SamsungS20Ultra</td>\n",
       "      <td>1303760319000</td>\n",
       "      <td>37.334493</td>\n",
       "      <td>-121.899574</td>\n",
       "    </tr>\n",
       "  </tbody>\n",
       "</table>\n",
       "<p>131342 rows × 5 columns</p>\n",
       "</div>"
      ],
      "text/plain": [
       "             collectionName        phoneName  millisSinceGpsEpoch     latDeg  \\\n",
       "0       2020-05-14-US-MTV-1           Pixel4        1273529463442  37.423549   \n",
       "1       2020-05-14-US-MTV-1           Pixel4        1273529464442  37.423564   \n",
       "2       2020-05-14-US-MTV-1           Pixel4        1273529465442  37.423573   \n",
       "3       2020-05-14-US-MTV-1           Pixel4        1273529466442  37.423578   \n",
       "4       2020-05-14-US-MTV-1           Pixel4        1273529467442  37.423579   \n",
       "...                     ...              ...                  ...        ...   \n",
       "131337  2021-04-29-US-SJC-2  SamsungS20Ultra        1303760315000  37.334466   \n",
       "131338  2021-04-29-US-SJC-2  SamsungS20Ultra        1303760316000  37.334473   \n",
       "131339  2021-04-29-US-SJC-2  SamsungS20Ultra        1303760317000  37.334481   \n",
       "131340  2021-04-29-US-SJC-2  SamsungS20Ultra        1303760318000  37.334487   \n",
       "131341  2021-04-29-US-SJC-2  SamsungS20Ultra        1303760319000  37.334493   \n",
       "\n",
       "            lngDeg  \n",
       "0      -122.094006  \n",
       "1      -122.094063  \n",
       "2      -122.094098  \n",
       "3      -122.094116  \n",
       "4      -122.094123  \n",
       "...            ...  \n",
       "131337 -121.899597  \n",
       "131338 -121.899592  \n",
       "131339 -121.899588  \n",
       "131340 -121.899582  \n",
       "131341 -121.899574  \n",
       "\n",
       "[131342 rows x 5 columns]"
      ]
     },
     "execution_count": 21,
     "metadata": {},
     "output_type": "execute_result"
    }
   ],
   "source": [
    "train_sp0"
   ]
  },
  {
   "cell_type": "code",
   "execution_count": 23,
   "id": "curious-degree",
   "metadata": {},
   "outputs": [],
   "source": [
    "train_sp0 = train_sp0.merge(ground_truth[['collectionName', 'phoneName', 'millisSinceGpsEpoch', 'speedMps']], on=['collectionName', 'phoneName', 'millisSinceGpsEpoch'], how='inner')"
   ]
  },
  {
   "cell_type": "code",
   "execution_count": 27,
   "id": "western-wagner",
   "metadata": {},
   "outputs": [],
   "source": [
    "train_sp0['phone'] = train_sp0['collectionName'] + '_' + train_sp0['phoneName']"
   ]
  },
  {
   "cell_type": "code",
   "execution_count": 31,
   "id": "intimate-instrument",
   "metadata": {},
   "outputs": [],
   "source": [
    "train_sp0['group'] = train_sp0.groupby('phone').cumcount()"
   ]
  },
  {
   "cell_type": "code",
   "execution_count": 41,
   "id": "powered-sharing",
   "metadata": {},
   "outputs": [],
   "source": [
    "train_sp0.loc[(train_sp0['group']>0)&(train_sp0['speedMps']==0.0),'group'] = np.nan"
   ]
  },
  {
   "cell_type": "code",
   "execution_count": 44,
   "id": "general-southeast",
   "metadata": {},
   "outputs": [],
   "source": [
    "train_sp0['group'] = train_sp0['group'].fillna(method='ffill')"
   ]
  },
  {
   "cell_type": "code",
   "execution_count": 49,
   "id": "convertible-settlement",
   "metadata": {},
   "outputs": [],
   "source": [
    "train_sp0[['latDeg', 'lngDeg']] = train_sp0.groupby(['phone', 'group'])[['latDeg','lngDeg']].transform('mean')"
   ]
  },
  {
   "cell_type": "code",
   "execution_count": 50,
   "id": "soviet-vintage",
   "metadata": {},
   "outputs": [
    {
     "name": "stdout",
     "output_type": "stream",
     "text": [
      "speed0 :  4.299052235083392\n"
     ]
    }
   ],
   "source": [
    "print('speed0 : ', get_train_score(train_sp0, ground_truth))"
   ]
  },
  {
   "cell_type": "code",
   "execution_count": 51,
   "id": "comparative-magnet",
   "metadata": {},
   "outputs": [],
   "source": [
    "def make_lerp_data(df):\n",
    "    '''\n",
    "    Generate interpolated lat,lng values for different phone times in the same collection.\n",
    "    '''\n",
    "    org_columns = df.columns\n",
    "    \n",
    "    # Generate a combination of time x collection x phone and combine it with the original data (generate records to be interpolated)\n",
    "    time_list = df[['collectionName', 'millisSinceGpsEpoch']].drop_duplicates()\n",
    "    phone_list =df[['collectionName', 'phoneName']].drop_duplicates()\n",
    "    tmp = time_list.merge(phone_list, on='collectionName', how='outer')\n",
    "    \n",
    "    lerp_df = tmp.merge(df, on=['collectionName', 'millisSinceGpsEpoch', 'phoneName'], how='left')\n",
    "    lerp_df['phone'] = lerp_df['collectionName'] + '_' + lerp_df['phoneName']\n",
    "    lerp_df = lerp_df.sort_values(['phone', 'millisSinceGpsEpoch'])\n",
    "    \n",
    "    # linear interpolation\n",
    "    lerp_df['latDeg_prev'] = lerp_df['latDeg'].shift(1)\n",
    "    lerp_df['latDeg_next'] = lerp_df['latDeg'].shift(-1)\n",
    "    lerp_df['lngDeg_prev'] = lerp_df['lngDeg'].shift(1)\n",
    "    lerp_df['lngDeg_next'] = lerp_df['lngDeg'].shift(-1)\n",
    "    lerp_df['phone_prev'] = lerp_df['phone'].shift(1)\n",
    "    lerp_df['phone_next'] = lerp_df['phone'].shift(-1)\n",
    "    lerp_df['time_prev'] = lerp_df['millisSinceGpsEpoch'].shift(1)\n",
    "    lerp_df['time_next'] = lerp_df['millisSinceGpsEpoch'].shift(-1)\n",
    "    # Leave only records to be interpolated\n",
    "    lerp_df = lerp_df[(lerp_df['latDeg'].isnull())&(lerp_df['phone']==lerp_df['phone_prev'])&(lerp_df['phone']==lerp_df['phone_next'])].copy()\n",
    "    # calc lerp\n",
    "    lerp_df['latDeg'] = lerp_df['latDeg_prev'] + ((lerp_df['latDeg_next'] - lerp_df['latDeg_prev']) * ((lerp_df['millisSinceGpsEpoch'] - lerp_df['time_prev']) / (lerp_df['time_next'] - lerp_df['time_prev']))) \n",
    "    lerp_df['lngDeg'] = lerp_df['lngDeg_prev'] + ((lerp_df['lngDeg_next'] - lerp_df['lngDeg_prev']) * ((lerp_df['millisSinceGpsEpoch'] - lerp_df['time_prev']) / (lerp_df['time_next'] - lerp_df['time_prev']))) \n",
    "    \n",
    "    # Leave only the data that has a complete set of previous and next data.\n",
    "    lerp_df = lerp_df[~lerp_df['latDeg'].isnull()]\n",
    "    \n",
    "    return lerp_df[org_columns]"
   ]
  },
  {
   "cell_type": "code",
   "execution_count": 52,
   "id": "employed-queens",
   "metadata": {},
   "outputs": [],
   "source": [
    "def calc_mean_pred(df, lerp_df):\n",
    "    '''\n",
    "    Make a prediction based on the average of the predictions of phones in the same collection.\n",
    "    '''\n",
    "    add_lerp = pd.concat([df, lerp_df])\n",
    "    mean_pred_result = add_lerp.groupby(['collectionName', 'millisSinceGpsEpoch'])[['latDeg', 'lngDeg']].mean().reset_index()\n",
    "    mean_pred_df = df[['collectionName', 'phoneName', 'millisSinceGpsEpoch']].copy()\n",
    "    mean_pred_df = mean_pred_df.merge(mean_pred_result[['collectionName', 'millisSinceGpsEpoch', 'latDeg', 'lngDeg']], on=['collectionName', 'millisSinceGpsEpoch'], how='left')\n",
    "    return mean_pred_df"
   ]
  },
  {
   "cell_type": "code",
   "execution_count": 53,
   "id": "material-zoning",
   "metadata": {},
   "outputs": [],
   "source": [
    "train_lerp = make_lerp_data(train_sp0)\n",
    "train_mean_pred = calc_mean_pred(train_sp0, train_lerp)"
   ]
  },
  {
   "cell_type": "code",
   "execution_count": 54,
   "id": "governing-excellence",
   "metadata": {},
   "outputs": [
    {
     "name": "stdout",
     "output_type": "stream",
     "text": [
      "+ phones_mean_pred :  3.921693051683826\n"
     ]
    }
   ],
   "source": [
    "print('+ phones_mean_pred : ', get_train_score(train_mean_pred, ground_truth))"
   ]
  },
  {
   "cell_type": "code",
   "execution_count": null,
   "id": "polyphonic-consultancy",
   "metadata": {},
   "outputs": [],
   "source": []
  }
 ],
 "metadata": {
  "kernelspec": {
   "display_name": "Python 3",
   "language": "python",
   "name": "python3"
  },
  "language_info": {
   "codemirror_mode": {
    "name": "ipython",
    "version": 3
   },
   "file_extension": ".py",
   "mimetype": "text/x-python",
   "name": "python",
   "nbconvert_exporter": "python",
   "pygments_lexer": "ipython3",
   "version": "3.7.10"
  }
 },
 "nbformat": 4,
 "nbformat_minor": 5
}
