{
 "cells": [
  {
   "cell_type": "markdown",
   "id": "hazardous-conviction",
   "metadata": {},
   "source": [
    "# eda015\n",
    "gnss_logの特徴量検討(cumsum)"
   ]
  },
  {
   "cell_type": "code",
   "execution_count": 1,
   "id": "million-stick",
   "metadata": {},
   "outputs": [],
   "source": [
    "import os\n",
    "import pandas as pd\n",
    "import numpy as np\n",
    "import ipynb_path\n",
    "import matplotlib.pyplot as plt\n",
    "from matplotlib_venn import venn2, venn2_circles\n",
    "import seaborn as sns\n",
    "import plotly\n",
    "import plotly.express as px\n",
    "%matplotlib inline\n",
    "pd.set_option('display.max_rows', 200)"
   ]
  },
  {
   "cell_type": "code",
   "execution_count": 2,
   "id": "hazardous-congo",
   "metadata": {},
   "outputs": [],
   "source": [
    "def get_nb_name():\n",
    "    nb_path = ipynb_path.get()\n",
    "    nb_name = nb_path.rsplit('/',1)[1].replace('.ipynb','')\n",
    "    return nb_name"
   ]
  },
  {
   "cell_type": "code",
   "execution_count": 3,
   "id": "settled-search",
   "metadata": {},
   "outputs": [],
   "source": [
    "def visualize_trafic(df, center, zoom=9):\n",
    "    fig = px.scatter_mapbox(df,\n",
    "                            \n",
    "                            # Here, plotly gets, (x,y) coordinates\n",
    "                            lat=\"latDeg\",\n",
    "                            lon=\"lngDeg\",\n",
    "                            \n",
    "                            #Here, plotly detects color of series\n",
    "                            color=\"phoneName\",\n",
    "                            labels=\"phoneName\",\n",
    "                            \n",
    "                            zoom=zoom,\n",
    "                            center=center,\n",
    "                            height=1000,\n",
    "                            width=2000)\n",
    "    fig.update_layout(mapbox_style='stamen-terrain')\n",
    "    fig.update_layout(margin={\"r\": 0, \"t\": 0, \"l\": 0, \"b\": 0})\n",
    "    fig.update_layout(title_text=\"GPS trafic\")\n",
    "    fig.show()"
   ]
  },
  {
   "cell_type": "code",
   "execution_count": 4,
   "id": "fixed-liver",
   "metadata": {},
   "outputs": [],
   "source": [
    "def visualize_collection(df, collection):\n",
    "    target_df = df[df['collectionName']==collection].copy()\n",
    "    lat_center = target_df['latDeg'].mean()\n",
    "    lng_center = target_df['lngDeg'].mean()\n",
    "    center = {\"lat\":lat_center, \"lon\":lng_center}\n",
    "    \n",
    "    visualize_trafic(target_df, center)"
   ]
  },
  {
   "cell_type": "code",
   "execution_count": 5,
   "id": "plain-spyware",
   "metadata": {},
   "outputs": [],
   "source": [
    "def calc_haversine(lat1, lon1, lat2, lon2):\n",
    "    \"\"\"Calculates the great circle distance between two points\n",
    "    on the earth. Inputs are array-like and specified in decimal degrees.\n",
    "    \"\"\"\n",
    "    RADIUS = 6_367_000\n",
    "    lat1, lon1, lat2, lon2 = map(np.radians, [lat1, lon1, lat2, lon2])\n",
    "    dlat = lat2 - lat1\n",
    "    dlon = lon2 - lon1\n",
    "    a = np.sin(dlat/2)**2 + \\\n",
    "        np.cos(lat1) * np.cos(lat2) * np.sin(dlon/2)**2\n",
    "    dist = 2 * RADIUS * np.arcsin(a**0.5)\n",
    "    return dist"
   ]
  },
  {
   "cell_type": "code",
   "execution_count": 6,
   "id": "primary-macedonia",
   "metadata": {},
   "outputs": [],
   "source": [
    "# directory setting\n",
    "nb_name = get_nb_name()\n",
    "INPUT = '../input/google-smartphone-decimeter-challenge'\n",
    "OUTPUT = '../output/' + nb_name\n",
    "os.makedirs(OUTPUT, exist_ok=True)"
   ]
  },
  {
   "cell_type": "markdown",
   "id": "champion-network",
   "metadata": {},
   "source": [
    "## 異常値のクリッピングを加えた特徴量生成"
   ]
  },
  {
   "cell_type": "code",
   "execution_count": 7,
   "id": "compatible-andorra",
   "metadata": {},
   "outputs": [],
   "source": [
    "accel_train = pd.read_csv(INPUT + '/prep/gnss/train/UncalAccel.csv')\n",
    "gyro_train = pd.read_csv(INPUT + '/prep/gnss/train/UncalGyro.csv')\n",
    "mag_train = pd.read_csv(INPUT + '/prep/gnss/train/UncalMag.csv')\n",
    "train = pd.read_csv(INPUT + '/' + 'baseline_locations_train.csv')\n",
    "ground_truth = pd.read_csv(INPUT + '/prep/ground_truth_train.csv')\n",
    "\n",
    "train['speedMps'] = ground_truth['speedMps']"
   ]
  },
  {
   "cell_type": "code",
   "execution_count": 8,
   "id": "homeless-hardware",
   "metadata": {},
   "outputs": [],
   "source": [
    "def add_sensor_features(df, accel, gyro, mag):\n",
    "    # phoneを追加\n",
    "    df['phone'] = df['collectionName'] + '_' + df['phoneName']\n",
    "    accel['phone'] = accel['collectionName'] + '_' + accel['phoneName']\n",
    "    gyro['phone'] = gyro['collectionName'] + '_' + gyro['phoneName']\n",
    "    mag['phone'] = mag['collectionName'] + '_' + mag['phoneName']\n",
    "    \n",
    "    # utc -> gps\n",
    "    accel['millisSinceGpsEpoch'] = accel['utcTimeMillis'] - 315964800000 + 18000\n",
    "    gyro['millisSinceGpsEpoch'] = gyro['utcTimeMillis'] - 315964800000 + 18000\n",
    "    mag['millisSinceGpsEpoch'] = mag['utcTimeMillis'] - 315964800000 + 18000\n",
    "    \n",
    "    # resampling追加\n",
    "    df['secondSinceGpsEpoch'] = df['millisSinceGpsEpoch'] // 1000\n",
    "    accel['secondSinceGpsEpoch'] = accel['millisSinceGpsEpoch'] // 1000\n",
    "    gyro['secondSinceGpsEpoch'] = gyro['millisSinceGpsEpoch'] // 1000\n",
    "    mag['secondSinceGpsEpoch'] = mag['millisSinceGpsEpoch'] // 1000\n",
    "    \n",
    "    # clipping\n",
    "    accel[['UncalAccelXMps2', 'UncalAccelYMps2', 'UncalAccelZMps2']] = accel.groupby('phone')['UncalAccelXMps2', 'UncalAccelYMps2', 'UncalAccelZMps2'].transform(lambda x: x.clip(x.quantile(0.001), x.quantile(0.999)))\n",
    "    gyro[['UncalGyroXRadPerSec', 'UncalGyroYRadPerSec', 'UncalGyroZRadPerSec']] = gyro.groupby('phone')['UncalGyroXRadPerSec', 'UncalGyroYRadPerSec', 'UncalGyroZRadPerSec'].transform(lambda x: x.clip(x.quantile(0.001), x.quantile(0.999)))\n",
    "    mag[['UncalMagXMicroT', 'UncalMagYMicroT', 'UncalMagZMicroT']] = mag.groupby('phone')['UncalMagXMicroT', 'UncalMagYMicroT', 'UncalMagZMicroT'].transform(lambda x: x.clip(x.quantile(0.001), x.quantile(0.999)))\n",
    "    \n",
    "    accel = accel.groupby(['phone', 'secondSinceGpsEpoch'])['UncalAccelXMps2', 'UncalAccelYMps2', 'UncalAccelZMps2'].agg(['mean', 'std']).reset_index()\n",
    "    accel.columns = ['phone', 'secondSinceGpsEpoch', 'UncalAccelXMps2_mean', 'UncalAccelXMps2_std', 'UncalAccelYMps2_mean', 'UncalAccelYMps2_std', 'UncalAccelZMps2_mean', 'UncalAccelZMps2_std']\n",
    "    gyro = gyro.groupby(['phone', 'secondSinceGpsEpoch'])['UncalGyroXRadPerSec', 'UncalGyroYRadPerSec', 'UncalGyroZRadPerSec'].agg(['mean', 'std']).reset_index()\n",
    "    gyro.columns = ['phone', 'secondSinceGpsEpoch', 'UncalGyroXRadPerSec_mean', 'UncalGyroXRadPerSec_std', 'UncalGyroYRadPerSec_mean', 'UncalGyroYRadPerSec_std', 'UncalGyroZRadPerSec_mean', 'UncalGyroZRadPerSec_std' ]\n",
    "    mag = mag.groupby(['phone', 'secondSinceGpsEpoch'])['UncalMagXMicroT', 'UncalMagYMicroT', 'UncalMagZMicroT'].agg(['mean', 'std']).reset_index()\n",
    "    mag.columns = ['phone', 'secondSinceGpsEpoch', 'UncalMagXMicroT_mean', 'UncalMagXMicroT_std', 'UncalMagYMicroT_mean', 'UncalMagYMicroT_std', 'UncalMagZMicroT_mean', 'UncalMagZMicroT_std']\n",
    "        \n",
    "    df = df.merge(accel, on=['phone', 'secondSinceGpsEpoch'], how='left')\n",
    "    df = df.merge(gyro, on=['phone', 'secondSinceGpsEpoch'], how='left')\n",
    "    df = df.merge(mag, on=['phone', 'secondSinceGpsEpoch'], how='left')\n",
    "    \n",
    "    for c in ['UncalAccelXMps2_mean', 'UncalAccelYMps2_mean', 'UncalAccelZMps2_mean', 'UncalGyroXRadPerSec_mean', 'UncalGyroYRadPerSec_mean', 'UncalGyroZRadPerSec_mean']:\n",
    "        df[c] = df[c] - df[c].median() \n",
    "        df[c + '_cumcum'] = df.groupby('phone')[c].cumsum()    \n",
    "    \n",
    "    df.drop(['secondSinceGpsEpoch'], axis=1, inplace=True)\n",
    "    \n",
    "    return df"
   ]
  },
  {
   "cell_type": "code",
   "execution_count": 9,
   "id": "fluid-leonard",
   "metadata": {},
   "outputs": [
    {
     "name": "stderr",
     "output_type": "stream",
     "text": [
      "/opt/conda/lib/python3.7/site-packages/ipykernel_launcher.py:20: FutureWarning: Indexing with multiple keys (implicitly converted to a tuple of keys) will be deprecated, use a list instead.\n",
      "/opt/conda/lib/python3.7/site-packages/ipykernel_launcher.py:21: FutureWarning: Indexing with multiple keys (implicitly converted to a tuple of keys) will be deprecated, use a list instead.\n",
      "/opt/conda/lib/python3.7/site-packages/ipykernel_launcher.py:22: FutureWarning: Indexing with multiple keys (implicitly converted to a tuple of keys) will be deprecated, use a list instead.\n",
      "/opt/conda/lib/python3.7/site-packages/ipykernel_launcher.py:24: FutureWarning: Indexing with multiple keys (implicitly converted to a tuple of keys) will be deprecated, use a list instead.\n",
      "/opt/conda/lib/python3.7/site-packages/ipykernel_launcher.py:26: FutureWarning: Indexing with multiple keys (implicitly converted to a tuple of keys) will be deprecated, use a list instead.\n",
      "/opt/conda/lib/python3.7/site-packages/ipykernel_launcher.py:28: FutureWarning: Indexing with multiple keys (implicitly converted to a tuple of keys) will be deprecated, use a list instead.\n"
     ]
    }
   ],
   "source": [
    "train = add_sensor_features(train, accel_train, gyro_train, mag_train)"
   ]
  },
  {
   "cell_type": "code",
   "execution_count": 10,
   "id": "tropical-delay",
   "metadata": {},
   "outputs": [],
   "source": [
    "def viz(df, cols, output_dir):\n",
    "    os.makedirs(output_dir, exist_ok=True)\n",
    "    cols_n = len(cols)\n",
    "    phones = df['phone'].unique()\n",
    "    \n",
    "    for phone in phones:\n",
    "        df_tmp = df[df['phone']==phone].copy()\n",
    "        \n",
    "        fig, axes = plt.subplots(figsize=(5*cols_n, 20), nrows=cols_n,sharex=True)\n",
    "        for i,c in enumerate(cols):\n",
    "            axes[i].plot(df_tmp['millisSinceGpsEpoch'], df_tmp[c], label=c)\n",
    "            axes[i].legend(loc='upper right')\n",
    "            axes[i].grid(color='g', linestyle=':', linewidth=0.3)\n",
    "        fig.suptitle(phone, fontsize=16)\n",
    "        fig.savefig(output_dir + '/' + phone + '.png')\n",
    "        plt.close()"
   ]
  },
  {
   "cell_type": "code",
   "execution_count": 11,
   "id": "dietary-sleeping",
   "metadata": {},
   "outputs": [
    {
     "name": "stdout",
     "output_type": "stream",
     "text": [
      "collectionName\n",
      "phoneName\n",
      "millisSinceGpsEpoch\n",
      "latDeg\n",
      "lngDeg\n",
      "heightAboveWgs84EllipsoidM\n",
      "phone\n",
      "speedMps\n",
      "UncalAccelXMps2_mean\n",
      "UncalAccelXMps2_std\n",
      "UncalAccelYMps2_mean\n",
      "UncalAccelYMps2_std\n",
      "UncalAccelZMps2_mean\n",
      "UncalAccelZMps2_std\n",
      "UncalGyroXRadPerSec_mean\n",
      "UncalGyroXRadPerSec_std\n",
      "UncalGyroYRadPerSec_mean\n",
      "UncalGyroYRadPerSec_std\n",
      "UncalGyroZRadPerSec_mean\n",
      "UncalGyroZRadPerSec_std\n",
      "UncalMagXMicroT_mean\n",
      "UncalMagXMicroT_std\n",
      "UncalMagYMicroT_mean\n",
      "UncalMagYMicroT_std\n",
      "UncalMagZMicroT_mean\n",
      "UncalMagZMicroT_std\n",
      "UncalAccelXMps2_mean_cumcum\n",
      "UncalAccelYMps2_mean_cumcum\n",
      "UncalAccelZMps2_mean_cumcum\n",
      "UncalGyroXRadPerSec_mean_cumcum\n",
      "UncalGyroYRadPerSec_mean_cumcum\n",
      "UncalGyroZRadPerSec_mean_cumcum\n"
     ]
    }
   ],
   "source": [
    "for c in train.columns:\n",
    "    print(c)"
   ]
  },
  {
   "cell_type": "code",
   "execution_count": 12,
   "id": "fancy-listing",
   "metadata": {},
   "outputs": [
    {
     "data": {
      "text/plain": [
       "0           0.488407\n",
       "1           0.977332\n",
       "2           1.466586\n",
       "3           1.957340\n",
       "4           2.451204\n",
       "             ...    \n",
       "131337   -607.846659\n",
       "131338   -609.132258\n",
       "131339   -610.419149\n",
       "131340   -611.704795\n",
       "131341   -612.994943\n",
       "Name: UncalAccelXMps2_mean_cumcum, Length: 131342, dtype: float64"
      ]
     },
     "execution_count": 12,
     "metadata": {},
     "output_type": "execute_result"
    }
   ],
   "source": [
    "train['UncalAccelXMps2_mean_cumcum']"
   ]
  },
  {
   "cell_type": "code",
   "execution_count": 13,
   "id": "static-vertex",
   "metadata": {},
   "outputs": [],
   "source": [
    "viz(train, \n",
    "    cols=['speedMps', 'UncalAccelXMps2_mean', 'UncalAccelXMps2_mean_cumcum', 'UncalAccelYMps2_mean', 'UncalAccelYMps2_mean_cumcum', 'UncalAccelZMps2_mean', 'UncalAccelZMps2_mean_cumcum'],\n",
    "    output_dir = OUTPUT + '/gnss_ts/train/accel_clip')"
   ]
  },
  {
   "cell_type": "code",
   "execution_count": null,
   "id": "frozen-worship",
   "metadata": {},
   "outputs": [],
   "source": []
  }
 ],
 "metadata": {
  "kernelspec": {
   "display_name": "Python 3",
   "language": "python",
   "name": "python3"
  },
  "language_info": {
   "codemirror_mode": {
    "name": "ipython",
    "version": 3
   },
   "file_extension": ".py",
   "mimetype": "text/x-python",
   "name": "python",
   "nbconvert_exporter": "python",
   "pygments_lexer": "ipython3",
   "version": "3.7.10"
  }
 },
 "nbformat": 4,
 "nbformat_minor": 5
}
