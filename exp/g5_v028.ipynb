{
 "cells": [
  {
   "cell_type": "markdown",
   "id": "disturbed-blair",
   "metadata": {},
   "source": [
    "# g5_v028\n",
    "cost_minim ずらし"
   ]
  },
  {
   "cell_type": "code",
   "execution_count": null,
   "id": "worse-veteran",
   "metadata": {},
   "outputs": [],
   "source": [
    "# import library\n",
    "import os\n",
    "import pandas as pd\n",
    "import numpy as np\n",
    "import matplotlib.pyplot as plt\n",
    "from matplotlib_venn import venn2, venn2_circles\n",
    "import seaborn as sns\n",
    "from tqdm.notebook import tqdm\n",
    "import pathlib\n",
    "import plotly\n",
    "import plotly.express as px\n",
    "import itertools\n",
    "import lightgbm as lgb\n",
    "from optuna.integration import lightgbm as optuna_lgb\n",
    "import simdkalman\n",
    "import optuna\n",
    "import pyproj\n",
    "from pyproj import Proj, transform\n",
    "from sklearn import metrics\n",
    "from sklearn.metrics import roc_curve, precision_recall_curve, confusion_matrix, accuracy_score\n",
    "pd.set_option('display.max_rows', 100)\n",
    "from math import * \n",
    "import scipy.interpolate\n",
    "import scipy.sparse"
   ]
  },
  {
   "cell_type": "code",
   "execution_count": null,
   "id": "arranged-intersection",
   "metadata": {},
   "outputs": [],
   "source": [
    "area_labeling = pd.read_csv('../output/prep/area_labeling/result.csv')\n",
    "\n",
    "g1 = list(area_labeling[area_labeling['g']==1]['collectionName'])\n",
    "g2 = list(area_labeling[area_labeling['g']==2]['collectionName'])\n",
    "g3 = list(area_labeling[area_labeling['g']==3]['collectionName'])\n",
    "g4 = list(area_labeling[area_labeling['g']==4]['collectionName'])\n",
    "g5 = list(area_labeling[area_labeling['g']==5]['collectionName'])"
   ]
  },
  {
   "cell_type": "code",
   "execution_count": null,
   "id": "portable-impression",
   "metadata": {},
   "outputs": [],
   "source": [
    "target = g5"
   ]
  },
  {
   "cell_type": "code",
   "execution_count": null,
   "id": "medium-turkish",
   "metadata": {},
   "outputs": [],
   "source": [
    "ro_th = 50 # 相対移動距離をもとにした異常値除去の閾値\n",
    "rog_th = 10 # ground_truthをもとにした異常値除去の閾値\n",
    "rp_rate = 0.5 # 相対座標を混ぜる割合\n",
    "\n",
    "# ground_truthをもとにした異常値除去を行うcollection\n",
    "rog_target = g3 + g4 + g5"
   ]
  },
  {
   "cell_type": "code",
   "execution_count": null,
   "id": "blocked-understanding",
   "metadata": {},
   "outputs": [],
   "source": [
    "rb_dir = '../output/exp104/'\n",
    "sp0_dir = '../output/prep/speed0_pred_v001'\n",
    "degree_dir = '../output/prep/degree_pred_v004'\n",
    "dist_dir = '../output/prep/distance_pred_v002'"
   ]
  },
  {
   "cell_type": "code",
   "execution_count": null,
   "id": "active-reynolds",
   "metadata": {},
   "outputs": [],
   "source": [
    "import ipynb_path\n",
    "\n",
    "def get_nb_name():\n",
    "    nb_path = ipynb_path.get()\n",
    "    nb_name = nb_path.rsplit('/',1)[1].replace('.ipynb','')\n",
    "    return nb_name"
   ]
  },
  {
   "cell_type": "code",
   "execution_count": null,
   "id": "atlantic-sheet",
   "metadata": {},
   "outputs": [],
   "source": [
    "# directory setting\n",
    "nb_name = get_nb_name()\n",
    "INPUT = '../input/google-smartphone-decimeter-challenge'\n",
    "OUTPUT = '../output/' + nb_name\n",
    "os.makedirs(OUTPUT, exist_ok=True)"
   ]
  },
  {
   "cell_type": "markdown",
   "id": "instrumental-cradle",
   "metadata": {},
   "source": [
    "# utils"
   ]
  },
  {
   "cell_type": "code",
   "execution_count": null,
   "id": "perfect-block",
   "metadata": {},
   "outputs": [],
   "source": [
    "def get_train_score(df, gt):\n",
    "    gt = gt.rename(columns={'latDeg':'latDeg_gt', 'lngDeg':'lngDeg_gt'})\n",
    "    df = df.merge(gt, on=['collectionName', 'phoneName', 'millisSinceGpsEpoch'], how='inner')\n",
    "    # calc_distance_error\n",
    "    df['err'] = calc_haversine(df['latDeg_gt'], df['lngDeg_gt'], df['latDeg'], df['lngDeg'])\n",
    "    # calc_evaluate_score\n",
    "    df['phone'] = df['collectionName'] + '_' + df['phoneName']\n",
    "    res = df.groupby('phone')['err'].agg([percentile50, percentile95])\n",
    "    res['p50_p90_mean'] = (res['percentile50'] + res['percentile95']) / 2 \n",
    "    score = res['p50_p90_mean'].mean()\n",
    "    return score"
   ]
  },
  {
   "cell_type": "code",
   "execution_count": null,
   "id": "sacred-combine",
   "metadata": {},
   "outputs": [],
   "source": [
    "def calc_haversine(lat1, lon1, lat2, lon2):\n",
    "    \"\"\"Calculates the great circle distance between two points\n",
    "    on the earth. Inputs are array-like and specified in decimal degrees.\n",
    "    \"\"\"\n",
    "    RADIUS = 6_367_000\n",
    "    lat1, lon1, lat2, lon2 = map(np.radians, [lat1, lon1, lat2, lon2])\n",
    "    dlat = lat2 - lat1\n",
    "    dlon = lon2 - lon1\n",
    "    a = np.sin(dlat/2)**2 + \\\n",
    "        np.cos(lat1) * np.cos(lat2) * np.sin(dlon/2)**2\n",
    "    dist = 2 * RADIUS * np.arcsin(a**0.5)\n",
    "    return dist"
   ]
  },
  {
   "cell_type": "code",
   "execution_count": null,
   "id": "nonprofit-fetish",
   "metadata": {},
   "outputs": [],
   "source": [
    "def visualize_trafic(df, center, zoom=9):\n",
    "    fig = px.scatter_mapbox(df,\n",
    "                            \n",
    "                            # Here, plotly gets, (x,y) coordinates\n",
    "                            lat=\"latDeg\",\n",
    "                            lon=\"lngDeg\",\n",
    "                            \n",
    "                            #Here, plotly detects color of series\n",
    "                            color=\"phoneName\",\n",
    "                            labels=\"phoneName\",\n",
    "                            \n",
    "                            zoom=zoom,\n",
    "                            center=center,\n",
    "                            height=600,\n",
    "                            width=800)\n",
    "    fig.update_layout(mapbox_style='stamen-terrain')\n",
    "    fig.update_layout(margin={\"r\": 0, \"t\": 0, \"l\": 0, \"b\": 0})\n",
    "    fig.update_layout(title_text=\"GPS trafic\")\n",
    "    fig.show()\n",
    "    \n",
    "def visualize_collection(df, collection):\n",
    "    target_df = df[df['collectionName']==collection].copy()\n",
    "    lat_center = target_df['latDeg'].mean()\n",
    "    lng_center = target_df['lngDeg'].mean()\n",
    "    center = {\"lat\":lat_center, \"lon\":lng_center}\n",
    "    \n",
    "    visualize_trafic(target_df, center)\n",
    "    \n",
    "def vis(df, phone):\n",
    "    gt = get_ground_truth()\n",
    "    gt['phone'] = gt['collectionName'] + '_' + gt['phoneName']\n",
    "    tmp1 = df[df['phone']==phone].copy()\n",
    "    tmp2 = gt[gt['phone']==phone].copy()\n",
    "    \n",
    "    tmp1['phoneName'] = 'train'\n",
    "    tmp2['phoneName'] = 'gt'\n",
    "    \n",
    "    tmp = pd.concat([tmp1, tmp2])\n",
    "    tmp['collectionName'] = 'all'\n",
    "    \n",
    "    lat_center = tmp['latDeg'].mean()\n",
    "    lng_center = tmp['lngDeg'].mean()\n",
    "    center = {\"lat\":lat_center, \"lon\":lng_center}\n",
    "        \n",
    "    visualize_trafic(tmp, center)"
   ]
  },
  {
   "cell_type": "code",
   "execution_count": null,
   "id": "radio-checklist",
   "metadata": {},
   "outputs": [],
   "source": [
    "# ground_truth\n",
    "def get_ground_truth():\n",
    "    p = pathlib.Path(INPUT)\n",
    "    gt_files = list(p.glob('train/*/*/ground_truth.csv'))\n",
    "\n",
    "    gts = []\n",
    "    for gt_file in gt_files:\n",
    "        gts.append(pd.read_csv(gt_file))\n",
    "    ground_truth = pd.concat(gts)\n",
    "\n",
    "    return ground_truth"
   ]
  },
  {
   "cell_type": "code",
   "execution_count": null,
   "id": "subject-surveillance",
   "metadata": {},
   "outputs": [],
   "source": [
    "def percentile50(x):\n",
    "    return np.percentile(x, 50)\n",
    "def percentile95(x):\n",
    "    return np.percentile(x, 95)"
   ]
  },
  {
   "cell_type": "code",
   "execution_count": null,
   "id": "restricted-cisco",
   "metadata": {},
   "outputs": [],
   "source": [
    "class train_result:\n",
    "    def __init__(self, df):\n",
    "        self.df = df\n",
    "        self.gt = get_ground_truth()\n",
    "        self.bl = pd.read_csv(INPUT + '/' + 'baseline_locations_train.csv')\n",
    "        \n",
    "        self.gt = self.gt.rename(columns={'latDeg':'latDeg_gt', 'lngDeg':'lngDeg_gt'})\n",
    "        self.df = self.df.merge(self.gt, on=['collectionName', 'phoneName', 'millisSinceGpsEpoch'], how='inner')\n",
    "        self.df['phone'] = self.df['collectionName'] + '_' + self.df['phoneName']\n",
    "        self.df['err'] =  calc_haversine(self.df['latDeg_gt'], self.df['lngDeg_gt'], self.df['latDeg'], self.df['lngDeg'])\n",
    "        \n",
    "        self.phone_res = self.calc_err('phone')\n",
    "        self.clc_res = self.calc_err('collectionName')\n",
    "        self.phonename_res = self.calc_err('phoneName')\n",
    "        \n",
    "    def calc_err(self, by):\n",
    "        res = self.df.groupby(by)['err'].agg([percentile50, percentile95])\n",
    "        res['p50_p90_mean'] = (res['percentile50'] + res['percentile95']) / 2\n",
    "        return res\n",
    "    \n",
    "    @property\n",
    "    def score(self):\n",
    "        return self.phone_res['p50_p90_mean'].mean()\n",
    "    @property\n",
    "    def raw_data(self):\n",
    "        return self.df\n",
    "    @property\n",
    "    def err(self):\n",
    "        return self.phone_res\n",
    "    @property\n",
    "    def collection_err(self):\n",
    "        return self.clc_res\n",
    "    @property\n",
    "    def phonename_err(self):\n",
    "        return self.phonename_res\n",
    "    \n",
    "    def viz_map(self, collection, show_gt=True, show_bl=True):\n",
    "        tmp = self.df[self.df['collectionName']==collection][['collectionName', 'phoneName', 'latDeg', 'lngDeg']]\n",
    "        tmp2 = self.df[self.df['collectionName']==collection][['collectionName', 'phoneName', 'latDeg_gt', 'lngDeg_gt']]\n",
    "        tmp2 = tmp2.rename(columns={'latDeg_gt':'latDeg', 'lngDeg_gt':'lngDeg'})\n",
    "        tmp2['phoneName'] = tmp2['phoneName'] + '_GT'\n",
    "        tmp3 = self.bl[self.bl['collectionName']==collection][['collectionName', 'phoneName', 'latDeg', 'lngDeg']]\n",
    "        tmp3['phoneName'] = tmp3['phoneName'] + '_BL'\n",
    "        \n",
    "        if show_gt:\n",
    "            tmp = tmp.append(tmp2)\n",
    "        if show_bl:\n",
    "            tmp = tmp.append(tmp3)\n",
    "        visualize_collection(tmp, collection)"
   ]
  },
  {
   "cell_type": "code",
   "execution_count": null,
   "id": "cultural-portal",
   "metadata": {},
   "outputs": [],
   "source": [
    "def get_data():\n",
    "    base_train = pd.read_csv(INPUT + '/' + 'baseline_locations_train.csv')\n",
    "    base_test = pd.read_csv(INPUT + '/' + 'baseline_locations_test.csv')\n",
    "    sample_sub = pd.read_csv(INPUT + '/' + 'sample_submission.csv')\n",
    "    ground_truth = get_ground_truth()\n",
    "    return base_train, base_test, sample_sub, ground_truth"
   ]
  },
  {
   "cell_type": "markdown",
   "id": "collect-punishment",
   "metadata": {},
   "source": [
    "# 相対移動距離をもとにした外れ値除去"
   ]
  },
  {
   "cell_type": "code",
   "execution_count": null,
   "id": "framed-damage",
   "metadata": {},
   "outputs": [],
   "source": [
    "train, test, sub, gt = get_data()\n",
    "train = train[train['collectionName'].isin(target)]"
   ]
  },
  {
   "cell_type": "code",
   "execution_count": null,
   "id": "vital-cricket",
   "metadata": {},
   "outputs": [],
   "source": [
    "rb = pd.read_csv(f'{rb_dir}/result.csv')\n",
    "\n",
    "rb = rb.rename(columns={'latDeg':'latDeg_rb', 'lngDeg':'lngDeg_rb'})\n",
    "\n",
    "train = train.merge(rb[['millisSinceGpsEpoch', 'phone', 'latDeg_rb', 'lngDeg_rb']], on=['millisSinceGpsEpoch', 'phone'], how='left')\n",
    "\n",
    "idx = train[~train['latDeg_rb'].isnull()].index\n",
    "train.loc[idx, 'latDeg'] = train.loc[idx, 'latDeg_rb']\n",
    "train.loc[idx, 'lngDeg'] = train.loc[idx, 'lngDeg_rb']"
   ]
  },
  {
   "cell_type": "code",
   "execution_count": null,
   "id": "empty-brick",
   "metadata": {},
   "outputs": [],
   "source": [
    "def add_distance_diff(df):\n",
    "    df['latDeg_prev'] = df['latDeg'].shift(1)\n",
    "    df['latDeg_next'] = df['latDeg'].shift(-1)\n",
    "    df['lngDeg_prev'] = df['lngDeg'].shift(1)\n",
    "    df['lngDeg_next'] = df['lngDeg'].shift(-1)\n",
    "    df['phone_prev'] = df['phone'].shift(1)\n",
    "    df['phone_next'] = df['phone'].shift(-1)\n",
    "    \n",
    "    df['dist_prev'] = calc_haversine(df['latDeg'], df['lngDeg'], df['latDeg_prev'], df['lngDeg_prev'])\n",
    "    df['dist_next'] = calc_haversine(df['latDeg'], df['lngDeg'], df['latDeg_next'], df['lngDeg_next'])\n",
    "    \n",
    "    df.loc[df['phone']!=df['phone_prev'], ['latDeg_prev', 'lngDeg_prev', 'dist_prev']] = np.nan\n",
    "    df.loc[df['phone']!=df['phone_next'], ['latDeg_next', 'lngDeg_next', 'dist_next']] = np.nan\n",
    "    \n",
    "    return df"
   ]
  },
  {
   "cell_type": "code",
   "execution_count": null,
   "id": "looking-warning",
   "metadata": {},
   "outputs": [],
   "source": [
    "# reject outlier\n",
    "train = add_distance_diff(train)\n",
    "train.loc[((train['dist_prev'] > ro_th) & (train['dist_next'] > ro_th)), ['latDeg', 'lngDeg']] = np.nan\n",
    "train.to_csv(OUTPUT + '/train_ro.csv', index=False)"
   ]
  },
  {
   "cell_type": "markdown",
   "id": "foreign-adapter",
   "metadata": {},
   "source": [
    "# ground_truthを基準にした外れ値除去"
   ]
  },
  {
   "cell_type": "code",
   "execution_count": null,
   "id": "twenty-component",
   "metadata": {},
   "outputs": [],
   "source": [
    "def get_osmnx_data():\n",
    "    p = pathlib.Path(INPUT)\n",
    "    files = list(p.glob('prep/osmnx/*.csv'))\n",
    "\n",
    "    dfs = []\n",
    "    for file in files:\n",
    "        dfs.append(pd.read_csv(file))\n",
    "    osmnx = pd.concat(dfs)\n",
    "\n",
    "    return osmnx"
   ]
  },
  {
   "cell_type": "code",
   "execution_count": null,
   "id": "realistic-driving",
   "metadata": {},
   "outputs": [],
   "source": [
    "def remove_based_on_gt(target_df, target_gt, th):\n",
    "    osmnx_data = get_osmnx_data()\n",
    "    target_gt = target_gt.append(osmnx_data)\n",
    "    \n",
    "    for idx in target_df.index:\n",
    "        lat = target_df.at[idx, 'latDeg']\n",
    "        lng = target_df.at[idx, 'lngDeg']\n",
    "        collection = target_df.at[idx, 'collectionName']\n",
    "        \n",
    "        if collection in ['2021-04-22-US-SJC-1', '2021-04-29-US-SJC-2', '2021-04-28-US-SJC-1', '2021-04-22-US-SJC-2', '2021-04-29-US-SJC-3']:\n",
    "            th = 3\n",
    "        \n",
    "        if np.isnan(lat):\n",
    "            continue\n",
    "        else:\n",
    "            target_gt['latDeg_pred'] = lat\n",
    "            target_gt['lngDeg_pred'] = lng\n",
    "            target_gt['dist'] = calc_haversine(target_gt['latDeg'], target_gt['lngDeg'], target_gt['latDeg_pred'], target_gt['lngDeg_pred'])\n",
    "            closest_dist = target_gt['dist'].min()\n",
    "            if closest_dist > th:\n",
    "                target_df.at[idx, 'latDeg'] = np.nan\n",
    "                target_df.at[idx, 'lngDeg'] = np.nan\n",
    "    return target_df"
   ]
  },
  {
   "cell_type": "code",
   "execution_count": null,
   "id": "junior-sydney",
   "metadata": {},
   "outputs": [],
   "source": [
    "def interpolate_remove_point(df):\n",
    "    out_df = pd.DataFrame()\n",
    "    collections = df['collectionName'].unique()\n",
    "    \n",
    "    for collection in collections:\n",
    "        tmp = df[df['collectionName']==collection].copy()\n",
    "        tmp = tmp.sort_values('millisSinceGpsEpoch')\n",
    "        tmp = tmp.reset_index().set_index('millisSinceGpsEpoch')\n",
    "        tmp[['latDeg', 'lngDeg']] = tmp[['latDeg', 'lngDeg']].interpolate(method='index', limit_area='inside')\n",
    "        tmp = tmp.sort_values('index')\n",
    "        tmp = tmp.reset_index().set_index('index')\n",
    "        out_df = out_df.append(tmp)\n",
    "    return out_df"
   ]
  },
  {
   "cell_type": "code",
   "execution_count": null,
   "id": "massive-winner",
   "metadata": {},
   "outputs": [],
   "source": [
    "rog_df = train[train['collectionName'].isin(rog_target)].copy()\n",
    "rog_gt = gt[gt['collectionName'].isin(rog_target)].copy()\n",
    "rog_df = remove_based_on_gt(rog_df, rog_gt, rog_th)\n",
    "train.loc[rog_df.index, ['latDeg', 'lngDeg']] = rog_df[['latDeg', 'lngDeg']]"
   ]
  },
  {
   "cell_type": "markdown",
   "id": "olympic-gardening",
   "metadata": {},
   "source": [
    "# speed0の処理"
   ]
  },
  {
   "cell_type": "code",
   "execution_count": null,
   "id": "nonprofit-music",
   "metadata": {},
   "outputs": [],
   "source": [
    "def sp0_process(df, sp0_result):\n",
    "    df = df.merge(sp0_result, on=['collectionName', 'phoneName', 'millisSinceGpsEpoch'], how='inner')\n",
    "    df['phone'] = df['collectionName'] + '_' + df['phoneName']\n",
    "    df['group'] = df.groupby('phone').cumcount()\n",
    "    df.loc[(df['group']>0)&(df['isSpeed0']==1),'group'] = np.nan\n",
    "    df['group'] = df['group'].fillna(method='ffill')\n",
    "    df[['latDeg', 'lngDeg']] = df.groupby(['phone', 'group'])[['latDeg','lngDeg']].transform('mean')\n",
    "    return df"
   ]
  },
  {
   "cell_type": "code",
   "execution_count": null,
   "id": "soviet-quarterly",
   "metadata": {},
   "outputs": [],
   "source": [
    "train_sp0_pred = pd.read_csv(f'{sp0_dir}/train_sp0_pred.csv')\n",
    "train = sp0_process(train, train_sp0_pred)"
   ]
  },
  {
   "cell_type": "markdown",
   "id": "written-stuff",
   "metadata": {},
   "source": [
    "# 線形補間"
   ]
  },
  {
   "cell_type": "code",
   "execution_count": null,
   "id": "unlike-washington",
   "metadata": {},
   "outputs": [],
   "source": [
    "train = interpolate_remove_point(train)"
   ]
  },
  {
   "cell_type": "markdown",
   "id": "decent-advance",
   "metadata": {},
   "source": [
    "# kalmanフィルタ"
   ]
  },
  {
   "cell_type": "code",
   "execution_count": null,
   "id": "attractive-display",
   "metadata": {},
   "outputs": [],
   "source": [
    "T = 1.0\n",
    "state_transition = np.array([[1, 0, T, 0, 0.5 * T ** 2, 0], [0, 1, 0, T, 0, 0.5 * T ** 2], [0, 0, 1, 0, T, 0],\n",
    "                             [0, 0, 0, 1, 0, T], [0, 0, 0, 0, 1, 0], [0, 0, 0, 0, 0, 1]])\n",
    "process_noise = np.diag([1e-5, 1e-5, 5e-6, 5e-6, 1e-6, 1e-6]) + np.ones((6, 6)) * 1e-9\n",
    "observation_model = np.array([[1, 0, 0, 0, 0, 0], [0, 1, 0, 0, 0, 0]])\n",
    "observation_noise = np.diag([5e-5, 5e-5]) + np.ones((2, 2)) * 1e-9\n",
    "\n",
    "kf = simdkalman.KalmanFilter(\n",
    "        state_transition = state_transition,\n",
    "        process_noise = process_noise,\n",
    "        observation_model = observation_model,\n",
    "        observation_noise = observation_noise)\n",
    "\n",
    "def apply_kf_smoothing(df, kf_=kf):\n",
    "    unique_paths = df[['collectionName', 'phoneName']].drop_duplicates().to_numpy()\n",
    "    for collection, phone in unique_paths:\n",
    "        cond = np.logical_and(df['collectionName'] == collection, df['phoneName'] == phone)\n",
    "        data = df[cond][['latDeg', 'lngDeg']].to_numpy()\n",
    "        data = data.reshape(1, len(data), 2)\n",
    "        smoothed = kf_.smooth(data)\n",
    "        df.loc[cond, 'latDeg'] = smoothed.states.mean[0, :, 0]\n",
    "        df.loc[cond, 'lngDeg'] = smoothed.states.mean[0, :, 1]\n",
    "    return df"
   ]
  },
  {
   "cell_type": "code",
   "execution_count": null,
   "id": "acceptable-lingerie",
   "metadata": {},
   "outputs": [],
   "source": [
    "train = apply_kf_smoothing(train)"
   ]
  },
  {
   "cell_type": "code",
   "execution_count": null,
   "id": "concrete-generic",
   "metadata": {},
   "outputs": [],
   "source": [
    "res = train_result(train)\n",
    "print(res.score)\n",
    "display(res.err)"
   ]
  },
  {
   "cell_type": "code",
   "execution_count": null,
   "id": "stainless-verse",
   "metadata": {},
   "outputs": [],
   "source": [
    "def cost_minimization(df, b):\n",
    "    xy_hat = df[['latDeg', 'lngDeg']].to_numpy()\n",
    "    delta_xy_hat = df[['lat_diff', 'lng_diff']].fillna(method='ffill')[:-1].to_numpy()\n",
    "\n",
    "    N = xy_hat.shape[0]\n",
    "    alpha = 0.01 * np.ones(N)\n",
    "    beta  = b * np.ones(N-1)\n",
    "\n",
    "    A = scipy.sparse.spdiags(alpha, [0], N, N)\n",
    "    B = scipy.sparse.spdiags(beta, [0], N-1, N-1)\n",
    "    D = scipy.sparse.spdiags(np.stack([-np.ones(N), np.ones(N)]), [0, 1], N-1, N)\n",
    "\n",
    "    Q = A + (D.T @ B @ D)\n",
    "    c = (A @ xy_hat) + (D.T @ (B @ delta_xy_hat))\n",
    "    xy_star = scipy.sparse.linalg.spsolve(Q, c)\n",
    "\n",
    "    return xy_star"
   ]
  },
  {
   "cell_type": "code",
   "execution_count": null,
   "id": "polished-chicago",
   "metadata": {},
   "outputs": [],
   "source": [
    "dp_train = pd.read_csv('../output/prep/rel_pred_v002/train_result.csv')\n",
    "train = train.merge(dp_train[['millisSinceGpsEpoch', 'phone', 'lat_diff', 'lng_diff']], on=['millisSinceGpsEpoch', 'phone'], how='left')\n",
    "train.loc[train['isSpeed0']==1, ['lat_diff', 'lng_diff']] = 0"
   ]
  },
  {
   "cell_type": "code",
   "execution_count": null,
   "id": "initial-armstrong",
   "metadata": {},
   "outputs": [],
   "source": [
    "def cost_min_objective(trial):\n",
    "    cost_min_beta_w = trial.suggest_uniform('cost_min_beta_w', 0.01, 0.5)\n",
    "    train_ = train.copy()\n",
    "    \n",
    "    phones = train['phone'].unique()\n",
    "    for phone in phones:\n",
    "        idx = train_[train_['phone']==phone].index\n",
    "        train_.loc[idx, ['latDeg', 'lngDeg']] = cost_minimization(train_.loc[idx], cost_min_beta_w)\n",
    "    score = train_result(train_).score\n",
    "    return score"
   ]
  },
  {
   "cell_type": "code",
   "execution_count": null,
   "id": "dress-bunch",
   "metadata": {},
   "outputs": [],
   "source": [
    "study = optuna.create_study()\n",
    "study.optimize(cost_min_objective, n_trials=50)\n",
    "cost_min_beta_w = study.best_params['cost_min_beta_w']\n",
    "print(cost_min_beta_w)"
   ]
  },
  {
   "cell_type": "code",
   "execution_count": null,
   "id": "senior-portable",
   "metadata": {},
   "outputs": [],
   "source": [
    "for phone in train['phone'].unique():\n",
    "    idx = train[train['phone']==phone].index\n",
    "    train.loc[idx, ['latDeg', 'lngDeg']] = cost_minimization(train.loc[idx], cost_min_beta_w)"
   ]
  },
  {
   "cell_type": "code",
   "execution_count": null,
   "id": "chicken-intensity",
   "metadata": {},
   "outputs": [],
   "source": [
    "res = train_result(train)\n",
    "print(res.score)\n",
    "display(res.err)"
   ]
  },
  {
   "cell_type": "markdown",
   "id": "superior-project",
   "metadata": {},
   "source": [
    "# phones_mean"
   ]
  },
  {
   "cell_type": "code",
   "execution_count": null,
   "id": "headed-circuit",
   "metadata": {},
   "outputs": [],
   "source": [
    "def calc_mean_pred(df, ws):\n",
    "    '''\n",
    "    Generate interpolated lat,lng values for different phone times in the same collection.\n",
    "    '''\n",
    "    time_list = df[['collectionName', 'millisSinceGpsEpoch']].drop_duplicates()\n",
    "    phone_list = df[['collectionName', 'phoneName']].drop_duplicates()\n",
    "    tmp = time_list.merge(phone_list, on='collectionName', how='outer')\n",
    "    tmp['phone'] = tmp['collectionName'] + '_' + tmp['phoneName']\n",
    "    tmp = tmp.merge(df, on=['collectionName', 'phoneName', 'phone', 'millisSinceGpsEpoch'], how='left')\n",
    "    \n",
    "    lerp_df = pd.DataFrame()\n",
    "    for phone in tmp['phone'].unique():\n",
    "        lerp_tmp = tmp[tmp['phone']==phone].copy()\n",
    "        lerp_tmp = lerp_tmp.sort_values('millisSinceGpsEpoch')\n",
    "        lerp_tmp = lerp_tmp.set_index('millisSinceGpsEpoch')\n",
    "        lerp_tmp[['latDeg', 'lngDeg']] = lerp_tmp[['latDeg', 'lngDeg']].interpolate(method='index', limit_area='inside')\n",
    "        lerp_tmp = lerp_tmp.reset_index()\n",
    "        lerp_df = lerp_df.append(lerp_tmp)\n",
    "    \n",
    "    lerp_df['w'] = lerp_df['phoneName'].replace(ws)\n",
    "    lerp_df.loc[lerp_df['latDeg'].isnull(), 'w'] = np.nan\n",
    "    lerp_df['w_sum'] = lerp_df.groupby(['collectionName', 'millisSinceGpsEpoch'])['w'].transform('sum')\n",
    "    lerp_df['w'] = lerp_df['w'] / lerp_df['w_sum']\n",
    "    lerp_df['latDeg'] = lerp_df['latDeg'] * lerp_df['w']\n",
    "    lerp_df['lngDeg'] = lerp_df['lngDeg'] * lerp_df['w']\n",
    "    mean_pred = lerp_df.groupby(['collectionName', 'millisSinceGpsEpoch'])['latDeg', 'lngDeg'].sum().reset_index()\n",
    "    \n",
    "    output_df = df[['collectionName', 'phoneName', 'millisSinceGpsEpoch']].copy()\n",
    "    output_df = output_df.merge(mean_pred[['collectionName', 'millisSinceGpsEpoch', 'latDeg', 'lngDeg']], on=['collectionName', 'millisSinceGpsEpoch'], how='left')\n",
    "    return output_df"
   ]
  },
  {
   "cell_type": "code",
   "execution_count": null,
   "id": "humanitarian-collective",
   "metadata": {},
   "outputs": [],
   "source": [
    "def phones_mean_objective(trial):\n",
    "    Pixel4 = trial.suggest_int('Pixel4', 1, 10)\n",
    "    SamsungS20Ultra = trial.suggest_int('SamsungS20Ultra', 1, 10)\n",
    "    \n",
    "    ws = {'Pixel4':Pixel4, 'SamsungS20Ultra':SamsungS20Ultra}\n",
    "    \n",
    "    out = calc_mean_pred(train, ws)\n",
    "    score = train_result(out).score\n",
    "    \n",
    "    return score"
   ]
  },
  {
   "cell_type": "code",
   "execution_count": null,
   "id": "french-complaint",
   "metadata": {},
   "outputs": [],
   "source": [
    "study = optuna.create_study()\n",
    "study.optimize(phones_mean_objective, n_trials=100)\n",
    "phones_mean_weights = study.best_params\n",
    "print(phones_mean_weights)"
   ]
  },
  {
   "cell_type": "code",
   "execution_count": null,
   "id": "excited-provision",
   "metadata": {},
   "outputs": [],
   "source": [
    "train = calc_mean_pred(train, phones_mean_weights)"
   ]
  },
  {
   "cell_type": "code",
   "execution_count": null,
   "id": "official-yahoo",
   "metadata": {},
   "outputs": [],
   "source": [
    "res = train_result(train)\n",
    "print(res.score)\n",
    "display(res.err)"
   ]
  },
  {
   "cell_type": "code",
   "execution_count": null,
   "id": "wooden-imaging",
   "metadata": {},
   "outputs": [],
   "source": [
    "train['phone'] = train['collectionName'] + '_' + train['phoneName']\n",
    "vis(train, '2021-04-22-US-SJC-1_Pixel4')"
   ]
  },
  {
   "cell_type": "markdown",
   "id": "veterinary-practice",
   "metadata": {},
   "source": [
    "# position_shift"
   ]
  },
  {
   "cell_type": "code",
   "execution_count": null,
   "id": "burning-april",
   "metadata": {},
   "outputs": [],
   "source": [
    "def WGS84_to_ECEF(lat, lon, alt):\n",
    "    # convert to radians\n",
    "    rad_lat = lat * (np.pi / 180.0)\n",
    "    rad_lon = lon * (np.pi / 180.0)\n",
    "    a    = 6378137.0\n",
    "    # f is the flattening factor\n",
    "    finv = 298.257223563\n",
    "    f = 1 / finv   \n",
    "    # e is the eccentricity\n",
    "    e2 = 1 - (1 - f) * (1 - f)    \n",
    "    # N is the radius of curvature in the prime vertical\n",
    "    N = a / np.sqrt(1 - e2 * np.sin(rad_lat) * np.sin(rad_lat))\n",
    "    x = (N + alt) * np.cos(rad_lat) * np.cos(rad_lon)\n",
    "    y = (N + alt) * np.cos(rad_lat) * np.sin(rad_lon)\n",
    "    z = (N * (1 - e2) + alt)        * np.sin(rad_lat)\n",
    "    return x, y, z\n",
    "\n",
    "transformer = pyproj.Transformer.from_crs(\n",
    "    {\"proj\":'geocent', \"ellps\":'WGS84', \"datum\":'WGS84'},\n",
    "    {\"proj\":'latlong', \"ellps\":'WGS84', \"datum\":'WGS84'},)\n",
    "\n",
    "def ECEF_to_WGS84(x,y,z):\n",
    "    lon, lat, alt = transformer.transform(x,y,z,radians=False)\n",
    "    return lon, lat, alt\n",
    "msge = 'millisSinceGpsEpoch'"
   ]
  },
  {
   "cell_type": "code",
   "execution_count": null,
   "id": "thrown-sailing",
   "metadata": {},
   "outputs": [],
   "source": [
    "def position_shift(df,a):\n",
    "\n",
    "    d = df.copy()\n",
    "    d['heightAboveWgs84EllipsoidM'] = 63.5\n",
    "    d['x'], d['y'], d['z'] = zip(*d.apply(lambda x: WGS84_to_ECEF(x.latDeg, x.lngDeg, x.heightAboveWgs84EllipsoidM), axis=1))\n",
    "\n",
    "    #a = -0.2\n",
    "    d.sort_values(['phone', msge], inplace=True)\n",
    "    for fi in ['x','y','z']:\n",
    "        d[[fi+'p']] = d[fi].shift().where(d['phone'].eq(d['phone'].shift()))\n",
    "        d[[fi+'diff']] = d[fi]-d[fi+'p']\n",
    "    #d[['yp']] = d['y'].shift().where(d['phone'].eq(d['phone'].shift()))\n",
    "    d[['dist']] = np.sqrt(d['xdiff']**2 + d['ydiff']**2+ d['zdiff']**2)\n",
    "    for fi in ['x','y','z']:\n",
    "        d[[fi+'new']] = d[fi+'p'] + d[fi+'diff']*(1-a/d['dist'])\n",
    "    lng, lat, alt = ECEF_to_WGS84(d['xnew'].values,d['ynew'].values,d['znew'].values)\n",
    "    \n",
    "    lng[np.isnan(lng)] = d.loc[np.isnan(lng),'lngDeg']\n",
    "    lat[np.isnan(lat)] = d.loc[np.isnan(lat),'latDeg']\n",
    "    d['latDeg'] = lat\n",
    "    d['lngDeg'] = lng\n",
    "    \n",
    "    return d \n",
    "\n",
    "def objective(trial):\n",
    "    a = trial.suggest_uniform('a', -1, 1)\n",
    "    score = get_train_score(position_shift(train, a),gt)\n",
    "    return score"
   ]
  },
  {
   "cell_type": "code",
   "execution_count": null,
   "id": "massive-arthur",
   "metadata": {},
   "outputs": [],
   "source": [
    "study = optuna.create_study()\n",
    "study.optimize(objective, n_trials=30)\n",
    "opt_a = study.best_params['a']\n",
    "print(opt_a)"
   ]
  },
  {
   "cell_type": "code",
   "execution_count": null,
   "id": "fixed-deviation",
   "metadata": {},
   "outputs": [],
   "source": [
    "train = position_shift(train, opt_a)\n",
    "train.to_csv(OUTPUT + '/train_ro_rog_kf_sp0_pm_ps.csv', index=False)"
   ]
  },
  {
   "cell_type": "code",
   "execution_count": null,
   "id": "catholic-mexico",
   "metadata": {},
   "outputs": [],
   "source": [
    "res = train_result(train)\n",
    "print(res.score)\n",
    "display(res.err)"
   ]
  },
  {
   "cell_type": "code",
   "execution_count": null,
   "id": "prescribed-contents",
   "metadata": {},
   "outputs": [],
   "source": [
    "train.to_csv(OUTPUT + f'/{nb_name}_train.csv', index=False)"
   ]
  },
  {
   "cell_type": "markdown",
   "id": "metric-amsterdam",
   "metadata": {},
   "source": [
    "# sub作成"
   ]
  },
  {
   "cell_type": "code",
   "execution_count": null,
   "id": "empirical-france",
   "metadata": {},
   "outputs": [],
   "source": [
    "test = pd.read_csv(INPUT + '/' + 'baseline_locations_test.csv')\n",
    "test = test[test['collectionName'].isin(target)]"
   ]
  },
  {
   "cell_type": "code",
   "execution_count": null,
   "id": "reported-georgia",
   "metadata": {},
   "outputs": [],
   "source": [
    "rb = pd.read_csv(f'{rb_dir}/result_test.csv')\n",
    "\n",
    "rb = rb.rename(columns={'latDeg':'latDeg_rb', 'lngDeg':'lngDeg_rb'})\n",
    "\n",
    "test = test.merge(rb[['millisSinceGpsEpoch', 'phone', 'latDeg_rb', 'lngDeg_rb']], on=['millisSinceGpsEpoch', 'phone'], how='left')\n",
    "\n",
    "idx = test[~test['latDeg_rb'].isnull()].index\n",
    "test.loc[idx, 'latDeg'] = test.loc[idx, 'latDeg_rb']\n",
    "test.loc[idx, 'lngDeg'] = test.loc[idx, 'lngDeg_rb']"
   ]
  },
  {
   "cell_type": "code",
   "execution_count": null,
   "id": "twenty-color",
   "metadata": {},
   "outputs": [],
   "source": [
    "test = add_distance_diff(test)\n",
    "test.loc[((test['dist_prev'] > ro_th) & (test['dist_next'] > ro_th)), ['latDeg', 'lngDeg']] = np.nan"
   ]
  },
  {
   "cell_type": "code",
   "execution_count": null,
   "id": "actual-sculpture",
   "metadata": {},
   "outputs": [],
   "source": [
    "rog_df = test[test['collectionName'].isin(rog_target)].copy()\n",
    "rog_gt = gt[gt['collectionName'].isin(rog_target)].copy()\n",
    "rog_df = remove_based_on_gt(rog_df, rog_gt, rog_th)\n",
    "test.loc[rog_df.index, ['latDeg', 'lngDeg']] = rog_df[['latDeg', 'lngDeg']]"
   ]
  },
  {
   "cell_type": "code",
   "execution_count": null,
   "id": "exceptional-testament",
   "metadata": {},
   "outputs": [],
   "source": [
    "test_sp0_pred = pd.read_csv(f'{sp0_dir}/test_sp0_pred.csv')\n",
    "test = sp0_process(test, test_sp0_pred)"
   ]
  },
  {
   "cell_type": "code",
   "execution_count": null,
   "id": "herbal-canyon",
   "metadata": {},
   "outputs": [],
   "source": [
    "test = interpolate_remove_point(test)"
   ]
  },
  {
   "cell_type": "code",
   "execution_count": null,
   "id": "documented-plane",
   "metadata": {},
   "outputs": [],
   "source": [
    "test = apply_kf_smoothing(test)"
   ]
  },
  {
   "cell_type": "code",
   "execution_count": null,
   "id": "accomplished-winter",
   "metadata": {},
   "outputs": [],
   "source": [
    "dp_test = pd.read_csv('../output/prep/rel_pred_v001/test_result.csv')\n",
    "test = test.merge(dp_test[['millisSinceGpsEpoch', 'phone', 'lat_diff', 'lng_diff']], on=['millisSinceGpsEpoch', 'phone'], how='left')\n",
    "test.loc[test['isSpeed0']==1, ['lat_diff', 'lng_diff']] = 0\n",
    "\n",
    "for phone in test['phone'].unique():\n",
    "    idx = test[test['phone']==phone].index\n",
    "    test.loc[idx, ['latDeg', 'lngDeg']] = cost_minimization(test.loc[idx], cost_min_beta_w)"
   ]
  },
  {
   "cell_type": "code",
   "execution_count": null,
   "id": "external-heaven",
   "metadata": {},
   "outputs": [],
   "source": [
    "test = calc_mean_pred(test, phones_mean_weights)"
   ]
  },
  {
   "cell_type": "code",
   "execution_count": null,
   "id": "certified-boutique",
   "metadata": {},
   "outputs": [],
   "source": [
    "test['phone'] = test['collectionName'] + '_' + test['phoneName']\n",
    "test = position_shift(test, opt_a)"
   ]
  },
  {
   "cell_type": "code",
   "execution_count": null,
   "id": "adopted-season",
   "metadata": {},
   "outputs": [],
   "source": [
    "test = test[['phone', 'millisSinceGpsEpoch', 'latDeg', 'lngDeg']].copy()\n",
    "test.to_csv(OUTPUT + f'/{nb_name}_test.csv', index=False)"
   ]
  },
  {
   "cell_type": "code",
   "execution_count": null,
   "id": "senior-encyclopedia",
   "metadata": {},
   "outputs": [],
   "source": [
    "test"
   ]
  },
  {
   "cell_type": "code",
   "execution_count": null,
   "id": "chief-pregnancy",
   "metadata": {},
   "outputs": [],
   "source": []
  }
 ],
 "metadata": {
  "kernelspec": {
   "display_name": "Python 3",
   "language": "python",
   "name": "python3"
  },
  "language_info": {
   "codemirror_mode": {
    "name": "ipython",
    "version": 3
   },
   "file_extension": ".py",
   "mimetype": "text/x-python",
   "name": "python",
   "nbconvert_exporter": "python",
   "pygments_lexer": "ipython3",
   "version": "3.7.10"
  }
 },
 "nbformat": 4,
 "nbformat_minor": 5
}
