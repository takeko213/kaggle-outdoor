{
 "cells": [
  {
   "cell_type": "markdown",
   "id": "compact-modeling",
   "metadata": {},
   "source": [
    "# exp079\n",
    "相対位置で補正を掛けていく (グループ１）"
   ]
  },
  {
   "cell_type": "code",
   "execution_count": 1,
   "id": "configured-grade",
   "metadata": {},
   "outputs": [
    {
     "data": {
      "text/html": [
       "<style type='text/css'>\n",
       ".datatable table.frame { margin-bottom: 0; }\n",
       ".datatable table.frame thead { border-bottom: none; }\n",
       ".datatable table.frame tr.coltypes td {  color: #FFFFFF;  line-height: 6px;  padding: 0 0.5em;}\n",
       ".datatable .bool    { background: #DDDD99; }\n",
       ".datatable .object  { background: #565656; }\n",
       ".datatable .int     { background: #5D9E5D; }\n",
       ".datatable .float   { background: #4040CC; }\n",
       ".datatable .str     { background: #CC4040; }\n",
       ".datatable .row_index {  background: var(--jp-border-color3);  border-right: 1px solid var(--jp-border-color0);  color: var(--jp-ui-font-color3);  font-size: 9px;}\n",
       ".datatable .frame tr.coltypes .row_index {  background: var(--jp-border-color0);}\n",
       ".datatable th:nth-child(2) { padding-left: 12px; }\n",
       ".datatable .hellipsis {  color: var(--jp-cell-editor-border-color);}\n",
       ".datatable .vellipsis {  background: var(--jp-layout-color0);  color: var(--jp-cell-editor-border-color);}\n",
       ".datatable .na {  color: var(--jp-cell-editor-border-color);  font-size: 80%;}\n",
       ".datatable .footer { font-size: 9px; }\n",
       ".datatable .frame_dimensions {  background: var(--jp-border-color3);  border-top: 1px solid var(--jp-border-color0);  color: var(--jp-ui-font-color3);  display: inline-block;  opacity: 0.6;  padding: 1px 10px 1px 5px;}\n",
       "</style>\n"
      ],
      "text/plain": [
       "<IPython.core.display.HTML object>"
      ]
     },
     "metadata": {},
     "output_type": "display_data"
    }
   ],
   "source": [
    "# import library\n",
    "import os\n",
    "import pandas as pd\n",
    "import numpy as np\n",
    "import matplotlib.pyplot as plt\n",
    "from matplotlib_venn import venn2, venn2_circles\n",
    "import seaborn as sns\n",
    "from tqdm.notebook import tqdm\n",
    "import pathlib\n",
    "import plotly\n",
    "import plotly.express as px\n",
    "import itertools\n",
    "import lightgbm as lgb\n",
    "from optuna.integration import lightgbm as optuna_lgb\n",
    "import simdkalman\n",
    "import optuna\n",
    "import pyproj\n",
    "from pyproj import Proj, transform\n",
    "from sklearn import metrics\n",
    "from sklearn.metrics import roc_curve, precision_recall_curve, confusion_matrix, accuracy_score\n",
    "pd.set_option('display.max_rows', 100)\n",
    "from math import * "
   ]
  },
  {
   "cell_type": "code",
   "execution_count": 2,
   "id": "younger-deployment",
   "metadata": {},
   "outputs": [],
   "source": [
    "import ipynb_path\n",
    "\n",
    "def get_nb_name():\n",
    "    nb_path = ipynb_path.get()\n",
    "    nb_name = nb_path.rsplit('/',1)[1].replace('.ipynb','')\n",
    "    return nb_name"
   ]
  },
  {
   "cell_type": "code",
   "execution_count": 3,
   "id": "afraid-ready",
   "metadata": {},
   "outputs": [],
   "source": [
    "# directory setting\n",
    "nb_name = get_nb_name()\n",
    "INPUT = '../input/google-smartphone-decimeter-challenge'\n",
    "OUTPUT = '../output/' + nb_name\n",
    "os.makedirs(OUTPUT, exist_ok=True)"
   ]
  },
  {
   "cell_type": "markdown",
   "id": "exotic-zoning",
   "metadata": {},
   "source": [
    "# utils"
   ]
  },
  {
   "cell_type": "code",
   "execution_count": 4,
   "id": "turkish-louis",
   "metadata": {},
   "outputs": [],
   "source": [
    "def get_train_score(df, gt):\n",
    "    gt = gt.rename(columns={'latDeg':'latDeg_gt', 'lngDeg':'lngDeg_gt'})\n",
    "    df = df.merge(gt, on=['collectionName', 'phoneName', 'millisSinceGpsEpoch'], how='inner')\n",
    "    # calc_distance_error\n",
    "    df['err'] = calc_haversine(df['latDeg_gt'], df['lngDeg_gt'], df['latDeg'], df['lngDeg'])\n",
    "    # calc_evaluate_score\n",
    "    df['phone'] = df['collectionName'] + '_' + df['phoneName']\n",
    "    res = df.groupby('phone')['err'].agg([percentile50, percentile95])\n",
    "    res['p50_p90_mean'] = (res['percentile50'] + res['percentile95']) / 2 \n",
    "    score = res['p50_p90_mean'].mean()\n",
    "    return score"
   ]
  },
  {
   "cell_type": "code",
   "execution_count": 5,
   "id": "interior-supplement",
   "metadata": {},
   "outputs": [],
   "source": [
    "def calc_haversine(lat1, lon1, lat2, lon2):\n",
    "    \"\"\"Calculates the great circle distance between two points\n",
    "    on the earth. Inputs are array-like and specified in decimal degrees.\n",
    "    \"\"\"\n",
    "    RADIUS = 6_367_000\n",
    "    lat1, lon1, lat2, lon2 = map(np.radians, [lat1, lon1, lat2, lon2])\n",
    "    dlat = lat2 - lat1\n",
    "    dlon = lon2 - lon1\n",
    "    a = np.sin(dlat/2)**2 + \\\n",
    "        np.cos(lat1) * np.cos(lat2) * np.sin(dlon/2)**2\n",
    "    dist = 2 * RADIUS * np.arcsin(a**0.5)\n",
    "    return dist"
   ]
  },
  {
   "cell_type": "code",
   "execution_count": 6,
   "id": "tender-reason",
   "metadata": {},
   "outputs": [],
   "source": [
    "def visualize_trafic(df, center, zoom=9):\n",
    "    fig = px.scatter_mapbox(df,\n",
    "                            \n",
    "                            # Here, plotly gets, (x,y) coordinates\n",
    "                            lat=\"latDeg\",\n",
    "                            lon=\"lngDeg\",\n",
    "                            \n",
    "                            #Here, plotly detects color of series\n",
    "                            color=\"phoneName\",\n",
    "                            labels=\"phoneName\",\n",
    "                            \n",
    "                            zoom=zoom,\n",
    "                            center=center,\n",
    "                            height=600,\n",
    "                            width=800)\n",
    "    fig.update_layout(mapbox_style='stamen-terrain')\n",
    "    fig.update_layout(margin={\"r\": 0, \"t\": 0, \"l\": 0, \"b\": 0})\n",
    "    fig.update_layout(title_text=\"GPS trafic\")\n",
    "    fig.show()\n",
    "    \n",
    "def visualize_collection(df, collection):\n",
    "    target_df = df[df['collectionName']==collection].copy()\n",
    "    lat_center = target_df['latDeg'].mean()\n",
    "    lng_center = target_df['lngDeg'].mean()\n",
    "    center = {\"lat\":lat_center, \"lon\":lng_center}\n",
    "    \n",
    "    visualize_trafic(target_df, center)"
   ]
  },
  {
   "cell_type": "code",
   "execution_count": 7,
   "id": "vocational-mineral",
   "metadata": {},
   "outputs": [],
   "source": [
    "# ground_truth\n",
    "def get_ground_truth():\n",
    "    p = pathlib.Path(INPUT)\n",
    "    gt_files = list(p.glob('train/*/*/ground_truth.csv'))\n",
    "\n",
    "    gts = []\n",
    "    for gt_file in gt_files:\n",
    "        gts.append(pd.read_csv(gt_file))\n",
    "    ground_truth = pd.concat(gts)\n",
    "\n",
    "    return ground_truth"
   ]
  },
  {
   "cell_type": "code",
   "execution_count": 8,
   "id": "fixed-legislature",
   "metadata": {},
   "outputs": [],
   "source": [
    "def percentile50(x):\n",
    "    return np.percentile(x, 50)\n",
    "def percentile95(x):\n",
    "    return np.percentile(x, 95)"
   ]
  },
  {
   "cell_type": "code",
   "execution_count": 9,
   "id": "radio-acceptance",
   "metadata": {},
   "outputs": [],
   "source": [
    "class train_result:\n",
    "    def __init__(self, df):\n",
    "        self.df = df\n",
    "        self.gt = get_ground_truth()\n",
    "        self.bl = pd.read_csv(INPUT + '/' + 'baseline_locations_train.csv')\n",
    "        \n",
    "        self.gt = self.gt.rename(columns={'latDeg':'latDeg_gt', 'lngDeg':'lngDeg_gt'})\n",
    "        self.df = self.df.merge(self.gt, on=['collectionName', 'phoneName', 'millisSinceGpsEpoch'], how='inner')\n",
    "        self.df['phone'] = self.df['collectionName'] + '_' + self.df['phoneName']\n",
    "        self.df['err'] =  calc_haversine(self.df['latDeg_gt'], self.df['lngDeg_gt'], self.df['latDeg'], self.df['lngDeg'])\n",
    "        \n",
    "        self.phone_res = self.calc_err('phone')\n",
    "        self.clc_res = self.calc_err('collectionName')\n",
    "        self.phonename_res = self.calc_err('phoneName')\n",
    "        \n",
    "    def calc_err(self, by):\n",
    "        res = self.df.groupby(by)['err'].agg([percentile50, percentile95])\n",
    "        res['p50_p90_mean'] = (res['percentile50'] + res['percentile95']) / 2\n",
    "        return res\n",
    "    \n",
    "    @property\n",
    "    def score(self):\n",
    "        return self.phone_res['p50_p90_mean'].mean()\n",
    "    @property\n",
    "    def raw_data(self):\n",
    "        return self.df\n",
    "    @property\n",
    "    def err(self):\n",
    "        return self.phone_res\n",
    "    @property\n",
    "    def collection_err(self):\n",
    "        return self.clc_res\n",
    "    @property\n",
    "    def phonename_err(self):\n",
    "        return self.phonename_res\n",
    "    \n",
    "    def viz_map(self, collection, show_gt=True, show_bl=True):\n",
    "        tmp = self.df[self.df['collectionName']==collection][['collectionName', 'phoneName', 'latDeg', 'lngDeg']]\n",
    "        tmp2 = self.df[self.df['collectionName']==collection][['collectionName', 'phoneName', 'latDeg_gt', 'lngDeg_gt']]\n",
    "        tmp2 = tmp2.rename(columns={'latDeg_gt':'latDeg', 'lngDeg_gt':'lngDeg'})\n",
    "        tmp2['phoneName'] = tmp2['phoneName'] + '_GT'\n",
    "        tmp3 = self.bl[self.bl['collectionName']==collection][['collectionName', 'phoneName', 'latDeg', 'lngDeg']]\n",
    "        tmp3['phoneName'] = tmp3['phoneName'] + '_BL'\n",
    "        \n",
    "        if show_gt:\n",
    "            tmp = tmp.append(tmp2)\n",
    "        if show_bl:\n",
    "            tmp = tmp.append(tmp3)\n",
    "        visualize_collection(tmp, collection)"
   ]
  },
  {
   "cell_type": "code",
   "execution_count": 10,
   "id": "supposed-routine",
   "metadata": {},
   "outputs": [],
   "source": [
    "def get_data():\n",
    "    base_train = pd.read_csv(INPUT + '/' + 'baseline_locations_train.csv')\n",
    "    base_test = pd.read_csv(INPUT + '/' + 'baseline_locations_test.csv')\n",
    "    sample_sub = pd.read_csv(INPUT + '/' + 'sample_submission.csv')\n",
    "    ground_truth = get_ground_truth()\n",
    "    return base_train, base_test, sample_sub, ground_truth"
   ]
  },
  {
   "cell_type": "markdown",
   "id": "irish-powder",
   "metadata": {},
   "source": [
    "# データ取得"
   ]
  },
  {
   "cell_type": "code",
   "execution_count": 11,
   "id": "metropolitan-roller",
   "metadata": {},
   "outputs": [],
   "source": [
    "train = pd.read_csv('../output/exp045/train_ro_rog_kf_sp0_pm_ps.csv')\n",
    "gt = pd.read_csv(INPUT + '/prep/ground_truth_train.csv')\n",
    "degree = pd.read_csv('../output/prep/degree_pred_v002/train_degree_pred.csv')\n",
    "dist = pd.read_csv('../output/prep/distance_pred_v002/train_distance_pred.csv')\n",
    "sp0 = pd.read_csv('../output/prep/speed0_pred_v001/train_sp0_pred.csv')\n",
    "gt['phone'] = gt['collectionName'] + '_' + gt['phoneName']"
   ]
  },
  {
   "cell_type": "code",
   "execution_count": 12,
   "id": "optical-cooperative",
   "metadata": {},
   "outputs": [],
   "source": [
    "dist = dist.rename(columns={'pred': 'dist_pred'}) "
   ]
  },
  {
   "cell_type": "code",
   "execution_count": 13,
   "id": "entire-stevens",
   "metadata": {},
   "outputs": [],
   "source": [
    "train = train.merge(degree[['phone', 'millisSinceGpsEpoch', 'calc_deg']], on=['phone', 'millisSinceGpsEpoch'], how='left')\n",
    "train = train.merge(dist[['phone', 'millisSinceGpsEpoch', 'dist_pred']], on=['phone', 'millisSinceGpsEpoch'], how='left')\n",
    "train = train.merge(sp0[['phone', 'millisSinceGpsEpoch', 'isSpeed0']], on=['phone', 'millisSinceGpsEpoch'], how='left')"
   ]
  },
  {
   "cell_type": "code",
   "execution_count": 14,
   "id": "mechanical-performer",
   "metadata": {},
   "outputs": [],
   "source": [
    "train.loc[train['isSpeed0'], 'dist_pred'] = 0"
   ]
  },
  {
   "cell_type": "code",
   "execution_count": 15,
   "id": "competitive-botswana",
   "metadata": {},
   "outputs": [],
   "source": [
    "target = ['2021-04-28-US-MTV-1', '2021-04-29-US-MTV-1']\n",
    "train = train[train['collectionName'].isin(target)].copy()"
   ]
  },
  {
   "cell_type": "markdown",
   "id": "technological-blood",
   "metadata": {},
   "source": [
    "# 相対座標"
   ]
  },
  {
   "cell_type": "code",
   "execution_count": 16,
   "id": "opponent-science",
   "metadata": {},
   "outputs": [],
   "source": [
    "# 楕円体\n",
    "ELLIPSOID_GRS80 = 1 # GRS80\n",
    "ELLIPSOID_WGS84 = 2 # WGS84\n",
    "\n",
    "# 楕円体別の長軸半径と扁平率\n",
    "GEODETIC_DATUM = {\n",
    "    ELLIPSOID_GRS80: [\n",
    "        6378137.0,         # [GRS80]長軸半径\n",
    "        1 / 298.257222101, # [GRS80]扁平率\n",
    "    ],\n",
    "    ELLIPSOID_WGS84: [\n",
    "        6378137.0,         # [WGS84]長軸半径\n",
    "        1 / 298.257223563, # [WGS84]扁平率\n",
    "    ],\n",
    "}\n",
    "\n",
    "# 反復計算の上限回数\n",
    "ITERATION_LIMIT = 1000\n",
    "\n",
    "'''\n",
    "Vincenty法(順解法)\n",
    "始点の座標(緯度経度)と方位角と距離から、終点の座標と方位角を求める\n",
    ":param lat: 緯度\n",
    ":param lon: 経度\n",
    ":param azimuth: 方位角\n",
    ":param distance: 距離\n",
    ":param ellipsoid: 楕円体\n",
    ":return: 終点の座標、方位角\n",
    "'''\n",
    "def vincenty_direct(lat, lon, azimuth, distance, ellipsoid=None):\n",
    "\n",
    "    # 計算時に必要な長軸半径(a)と扁平率(ƒ)を定数から取得し、短軸半径(b)を算出する\n",
    "    # 楕円体が未指定の場合はGRS80の値を用いる\n",
    "    a, ƒ = GEODETIC_DATUM.get(ellipsoid, GEODETIC_DATUM.get(ELLIPSOID_WGS84))\n",
    "    b = (1 - ƒ) * a\n",
    "\n",
    "    # ラジアンに変換する(距離以外)\n",
    "    φ1 = radians(lat)\n",
    "    λ1 = radians(lon)\n",
    "    α1 = radians(azimuth)\n",
    "    s = distance\n",
    "\n",
    "    sinα1 = sin(α1)\n",
    "    cosα1 = cos(α1)\n",
    "\n",
    "    # 更成緯度(補助球上の緯度)\n",
    "    U1 = atan((1 - ƒ) * tan(φ1))\n",
    "\n",
    "    sinU1 = sin(U1)\n",
    "    cosU1 = cos(U1)\n",
    "    tanU1 = tan(U1)\n",
    "\n",
    "    σ1 = atan2(tanU1, cosα1)\n",
    "    sinα = cosU1 * sinα1\n",
    "    cos2α = 1 - sinα ** 2\n",
    "    u2 = cos2α * (a ** 2 - b ** 2) / (b ** 2)\n",
    "    A = 1 + u2 / 16384 * (4096 + u2 * (-768 + u2 * (320 - 175 * u2)))\n",
    "    B = u2 / 1024 * (256 + u2 * (-128 + u2 * (74 - 47 * u2)))\n",
    "\n",
    "    # σをs/(b*A)で初期化\n",
    "    σ = s / (b * A)\n",
    "\n",
    "    # 以下の計算をσが収束するまで反復する\n",
    "    # 地点によっては収束しないことがあり得るため、反復回数に上限を設ける\n",
    "    for i in range(ITERATION_LIMIT):\n",
    "        cos2σm = cos(2 * σ1 + σ)\n",
    "        sinσ = sin(σ)\n",
    "        cosσ = cos(σ)\n",
    "        Δσ = B * sinσ * (cos2σm + B / 4 * (cosσ * (-1 + 2 * cos2σm ** 2) - B / 6 * cos2σm * (-3 + 4 * sinσ ** 2) * (-3 + 4 * cos2σm ** 2)))\n",
    "        σʹ = σ\n",
    "        σ = s / (b * A) + Δσ\n",
    "\n",
    "        # 偏差が.000000000001以下ならbreak\n",
    "        if abs(σ - σʹ) <= 1e-12:\n",
    "            break\n",
    "    else:\n",
    "        # 計算が収束しなかった場合はNoneを返す\n",
    "        return None\n",
    "\n",
    "    # σが所望の精度まで収束したら以下の計算を行う\n",
    "    x = sinU1 * sinσ - cosU1 * cosσ * cosα1\n",
    "    φ2 = atan2(sinU1 * cosσ + cosU1 * sinσ * cosα1, (1 - ƒ) * sqrt(sinα ** 2 + x ** 2))\n",
    "    λ = atan2(sinσ * sinα1, cosU1 * cosσ - sinU1 * sinσ * cosα1)\n",
    "    C = ƒ / 16 * cos2α * (4 + ƒ * (4 - 3 * cos2α))\n",
    "    L = λ - (1 - C) * ƒ * sinα * (σ + C * sinσ * (cos2σm + C * cosσ * (-1 + 2 * cos2σm ** 2)))\n",
    "    λ2 = L + λ1\n",
    "\n",
    "    α2 = atan2(sinα, -x) + pi\n",
    "\n",
    "    return {\n",
    "        'lat': degrees(φ2),     # 緯度\n",
    "        'lon': degrees(λ2),     # 経度\n",
    "        'azimuth': degrees(α2), # 方位角\n",
    "    }"
   ]
  },
  {
   "cell_type": "code",
   "execution_count": 17,
   "id": "super-spider",
   "metadata": {},
   "outputs": [],
   "source": [
    "def calc_coordinate_forward(df, a):\n",
    "    df_index = list(df.index)\n",
    "    for idx in df_index:\n",
    "        b = 1 - a\n",
    "        \n",
    "        if idx == df.index[-1]-1:\n",
    "            break\n",
    "        \n",
    "        if df.at[idx, 'phone'] != df.at[idx+1, 'phone']:\n",
    "            continue\n",
    "\n",
    "        \n",
    "        lat_hat_t0 = df.at[idx, 'latDeg']\n",
    "        lng_hat_t0 = df.at[idx, 'lngDeg']\n",
    "        lat_hat_t1 = df.at[idx+1, 'latDeg']\n",
    "        lng_hat_t1 = df.at[idx+1, 'lngDeg']\n",
    "        deg = df.at[idx, 'calc_deg']\n",
    "        speed = df.at[idx, 'dist_pred']\n",
    "        \n",
    "        res = vincenty_direct(lat_hat_t0, lng_hat_t0, deg, speed)\n",
    "        if res:\n",
    "            lat_rel = res['lat']\n",
    "            lng_rel = res['lon']\n",
    "            \n",
    "            lat_new = lat_hat_t1 * a + lat_rel * b\n",
    "            lng_new = lng_hat_t1 * a + lng_rel * b\n",
    "            \n",
    "            df.at[idx+1, 'latDeg'] = lat_new\n",
    "            df.at[idx+1, 'lngDeg'] = lng_new\n",
    "    \n",
    "    df_index.reverse()\n",
    "    for idx in df_index:\n",
    "        if idx == df.index[0]:\n",
    "            break\n",
    "        \n",
    "        if df.at[idx, 'phone'] != df.at[idx-1, 'phone']:\n",
    "            continue\n",
    "            \n",
    "        lat_hat_t0 = df.at[idx, 'latDeg']\n",
    "        lng_hat_t0 = df.at[idx, 'lngDeg']\n",
    "        lat_hat_t1 = df.at[idx-1, 'latDeg']\n",
    "        lng_hat_t1 = df.at[idx-1, 'lngDeg']\n",
    "        deg = df.at[idx, 'calc_deg']\n",
    "        speed = df.at[idx, 'dist_pred']\n",
    "        \n",
    "        # 角度を反転\n",
    "        if deg < 180:\n",
    "            deg += 180\n",
    "        else:\n",
    "            deg -= 180        \n",
    "        \n",
    "        res = vincenty_direct(lat_hat_t0, lng_hat_t0, deg, speed)\n",
    "        if res:\n",
    "            lat_rel = res['lat']\n",
    "            lng_rel = res['lon']\n",
    "            \n",
    "            lat_new = lat_hat_t1 * a + lat_rel * b\n",
    "            lng_new = lng_hat_t1 * a + lng_rel * b\n",
    "            \n",
    "            df.at[idx-1, 'latDeg'] = lat_new\n",
    "            df.at[idx-1, 'lngDeg'] = lng_new\n",
    "        \n",
    "        \n",
    "    return df    "
   ]
  },
  {
   "cell_type": "markdown",
   "id": "popular-surname",
   "metadata": {},
   "source": [
    "# 比率を変えて結果を確認"
   ]
  },
  {
   "cell_type": "code",
   "execution_count": 18,
   "id": "bizarre-poland",
   "metadata": {},
   "outputs": [],
   "source": [
    "train = train.reset_index(drop=True)"
   ]
  },
  {
   "cell_type": "code",
   "execution_count": 19,
   "id": "sophisticated-honolulu",
   "metadata": {},
   "outputs": [],
   "source": [
    "train_org = train.copy()\n",
    "res = train_result(train)"
   ]
  },
  {
   "cell_type": "code",
   "execution_count": 20,
   "id": "functioning-spice",
   "metadata": {},
   "outputs": [
    {
     "name": "stdout",
     "output_type": "stream",
     "text": [
      "raw 4.185533355917342\n",
      "0.1 15.077370492537717\n",
      "0.2 7.720211681344993\n",
      "0.3 5.647434316552413\n",
      "0.4 4.852212439431239\n",
      "0.5 4.481545738842052\n",
      "0.6 4.330275046919856\n",
      "0.7 4.218589484671061\n",
      "0.8 4.1759914665043585\n",
      "0.9 4.181089428862324\n"
     ]
    }
   ],
   "source": [
    "print('raw', res.score)\n",
    "for a in [0.1, 0.2, 0.3, 0.4, 0.5, 0.6, 0.7, 0.8, 0.9]:\n",
    "    target_collections = ['2021-04-28-US-MTV-1', '2021-04-29-US-MTV-1', \n",
    "                          '2021-03-16-US-RWC-2', '2021-04-21-US-MTV-1', '2021-04-28-US-MTV-2', '2021-04-29-US-MTV-2']\n",
    "    target_df = train_org.copy()\n",
    "    target_df = calc_coordinate_forward(target_df, a)\n",
    "    target_df = target_df[target_df['collectionName'].isin(target_collections)].copy()\n",
    "    \n",
    "    train = train_org.copy()\n",
    "    train.loc[target_df.index, ['latDeg', 'lngDeg']] = target_df[['latDeg', 'lngDeg']]\n",
    "    res = train_result(train)\n",
    "    print(a, res.score)"
   ]
  },
  {
   "cell_type": "code",
   "execution_count": 21,
   "id": "modified-helmet",
   "metadata": {},
   "outputs": [],
   "source": [
    "target_collections = ['2021-04-22-US-SJC-1', '2021-04-28-US-SJC-1', '2021-04-29-US-SJC-2']\n",
    "target_df = train_org.copy()\n",
    "target_df = calc_coordinate_forward(target_df, 0.5)\n",
    "target_df = target_df[target_df['collectionName'].isin(target_collections)].copy()\n",
    "\n",
    "train = train_org.copy()\n",
    "train.loc[target_df.index, ['latDeg', 'lngDeg']] = target_df[['latDeg', 'lngDeg']]\n",
    "\n",
    "train.to_csv(OUTPUT + f'/train.csv', index=False)"
   ]
  },
  {
   "cell_type": "markdown",
   "id": "given-nicholas",
   "metadata": {},
   "source": [
    "# testでも実施"
   ]
  },
  {
   "cell_type": "code",
   "execution_count": 22,
   "id": "laden-spencer",
   "metadata": {},
   "outputs": [],
   "source": [
    "test_pred = pd.read_csv('../output/exp045/exp045_submission.csv')\n",
    "test = pd.read_csv(INPUT + '/' + 'baseline_locations_test.csv')\n",
    "degree = pd.read_csv('../output/prep/degree_pred_v002/test_degree_pred.csv')\n",
    "dist = pd.read_csv('../output/prep/distance_pred_v002/test_distance_pred.csv')\n",
    "sp0 = pd.read_csv('../output/prep/speed0_pred_v001/test_sp0_pred.csv')\n",
    "dist = dist.rename(columns={'pred': 'dist_pred'}) \n",
    "sub = pd.read_csv(INPUT + '/' + 'sample_submission.csv')"
   ]
  },
  {
   "cell_type": "code",
   "execution_count": 23,
   "id": "departmental-dodge",
   "metadata": {},
   "outputs": [],
   "source": [
    "test[['latDeg', 'lngDeg']] = test_pred[['latDeg', 'lngDeg']]"
   ]
  },
  {
   "cell_type": "code",
   "execution_count": 24,
   "id": "published-eleven",
   "metadata": {},
   "outputs": [],
   "source": [
    "test = test.merge(degree[['phone', 'millisSinceGpsEpoch', 'calc_deg']], on=['phone', 'millisSinceGpsEpoch'], how='left')\n",
    "test = test.merge(dist[['phone', 'millisSinceGpsEpoch', 'dist_pred']], on=['phone', 'millisSinceGpsEpoch'], how='left')\n",
    "test = test.merge(sp0[['phone', 'millisSinceGpsEpoch', 'isSpeed0']], on=['phone', 'millisSinceGpsEpoch'], how='left')"
   ]
  },
  {
   "cell_type": "code",
   "execution_count": 25,
   "id": "reverse-martin",
   "metadata": {},
   "outputs": [],
   "source": [
    "test.loc[train['isSpeed0'], 'dist_pred'] = 0"
   ]
  },
  {
   "cell_type": "code",
   "execution_count": 26,
   "id": "practical-applicant",
   "metadata": {},
   "outputs": [
    {
     "data": {
      "text/html": [
       "<div>\n",
       "<style scoped>\n",
       "    .dataframe tbody tr th:only-of-type {\n",
       "        vertical-align: middle;\n",
       "    }\n",
       "\n",
       "    .dataframe tbody tr th {\n",
       "        vertical-align: top;\n",
       "    }\n",
       "\n",
       "    .dataframe thead th {\n",
       "        text-align: right;\n",
       "    }\n",
       "</style>\n",
       "<table border=\"1\" class=\"dataframe\">\n",
       "  <thead>\n",
       "    <tr style=\"text-align: right;\">\n",
       "      <th></th>\n",
       "      <th>collectionName</th>\n",
       "      <th>phoneName</th>\n",
       "      <th>millisSinceGpsEpoch</th>\n",
       "      <th>latDeg</th>\n",
       "      <th>lngDeg</th>\n",
       "      <th>phone</th>\n",
       "      <th>heightAboveWgs84EllipsoidM</th>\n",
       "      <th>x</th>\n",
       "      <th>y</th>\n",
       "      <th>z</th>\n",
       "      <th>...</th>\n",
       "      <th>ydiff</th>\n",
       "      <th>zp</th>\n",
       "      <th>zdiff</th>\n",
       "      <th>dist</th>\n",
       "      <th>xnew</th>\n",
       "      <th>ynew</th>\n",
       "      <th>znew</th>\n",
       "      <th>calc_deg</th>\n",
       "      <th>dist_pred</th>\n",
       "      <th>isSpeed0</th>\n",
       "    </tr>\n",
       "  </thead>\n",
       "  <tbody>\n",
       "  </tbody>\n",
       "</table>\n",
       "<p>0 rows × 23 columns</p>\n",
       "</div>"
      ],
      "text/plain": [
       "Empty DataFrame\n",
       "Columns: [collectionName, phoneName, millisSinceGpsEpoch, latDeg, lngDeg, phone, heightAboveWgs84EllipsoidM, x, y, z, xp, xdiff, yp, ydiff, zp, zdiff, dist, xnew, ynew, znew, calc_deg, dist_pred, isSpeed0]\n",
       "Index: []\n",
       "\n",
       "[0 rows x 23 columns]"
      ]
     },
     "execution_count": 26,
     "metadata": {},
     "output_type": "execute_result"
    }
   ],
   "source": [
    "target_df"
   ]
  },
  {
   "cell_type": "code",
   "execution_count": 27,
   "id": "favorite-technical",
   "metadata": {},
   "outputs": [],
   "source": [
    "target_collections = ['2021-04-22-US-SJC-2', '2021-04-29-US-SJC-3']\n",
    "target_df = test.copy()\n",
    "target_df = calc_coordinate_forward(target_df, 0.5)\n",
    "target_df = target_df[target_df['collectionName'].isin(target_collections)].copy()\n",
    "\n",
    "test.loc[target_df.index, ['latDeg', 'lngDeg']] = target_df[['latDeg', 'lngDeg']]"
   ]
  },
  {
   "cell_type": "code",
   "execution_count": 28,
   "id": "prescribed-kitty",
   "metadata": {},
   "outputs": [],
   "source": [
    "sub['latDeg'] = test['latDeg']\n",
    "sub['lngDeg'] = test['lngDeg']\n",
    "sub.to_csv(OUTPUT + f'/{nb_name}_submission.csv', index=False)"
   ]
  },
  {
   "cell_type": "code",
   "execution_count": null,
   "id": "manual-store",
   "metadata": {},
   "outputs": [],
   "source": []
  }
 ],
 "metadata": {
  "kernelspec": {
   "display_name": "Python 3",
   "language": "python",
   "name": "python3"
  },
  "language_info": {
   "codemirror_mode": {
    "name": "ipython",
    "version": 3
   },
   "file_extension": ".py",
   "mimetype": "text/x-python",
   "name": "python",
   "nbconvert_exporter": "python",
   "pygments_lexer": "ipython3",
   "version": "3.7.10"
  }
 },
 "nbformat": 4,
 "nbformat_minor": 5
}
