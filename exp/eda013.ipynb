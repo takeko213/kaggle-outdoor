{
 "cells": [
  {
   "cell_type": "markdown",
   "id": "continuous-module",
   "metadata": {},
   "source": [
    "# eda013\n",
    "gnss_logの特徴量検討"
   ]
  },
  {
   "cell_type": "code",
   "execution_count": 1,
   "id": "false-cinema",
   "metadata": {},
   "outputs": [],
   "source": [
    "import os\n",
    "import pandas as pd\n",
    "import numpy as np\n",
    "import ipynb_path\n",
    "import matplotlib.pyplot as plt\n",
    "from matplotlib_venn import venn2, venn2_circles\n",
    "import seaborn as sns\n",
    "import plotly\n",
    "import plotly.express as px\n",
    "%matplotlib inline\n",
    "pd.set_option('display.max_rows', 200)"
   ]
  },
  {
   "cell_type": "code",
   "execution_count": 2,
   "id": "limited-blues",
   "metadata": {},
   "outputs": [],
   "source": [
    "def get_nb_name():\n",
    "    nb_path = ipynb_path.get()\n",
    "    nb_name = nb_path.rsplit('/',1)[1].replace('.ipynb','')\n",
    "    return nb_name"
   ]
  },
  {
   "cell_type": "code",
   "execution_count": 3,
   "id": "flexible-whale",
   "metadata": {},
   "outputs": [],
   "source": [
    "def visualize_trafic(df, center, zoom=9):\n",
    "    fig = px.scatter_mapbox(df,\n",
    "                            \n",
    "                            # Here, plotly gets, (x,y) coordinates\n",
    "                            lat=\"latDeg\",\n",
    "                            lon=\"lngDeg\",\n",
    "                            \n",
    "                            #Here, plotly detects color of series\n",
    "                            color=\"phoneName\",\n",
    "                            labels=\"phoneName\",\n",
    "                            \n",
    "                            zoom=zoom,\n",
    "                            center=center,\n",
    "                            height=1000,\n",
    "                            width=2000)\n",
    "    fig.update_layout(mapbox_style='stamen-terrain')\n",
    "    fig.update_layout(margin={\"r\": 0, \"t\": 0, \"l\": 0, \"b\": 0})\n",
    "    fig.update_layout(title_text=\"GPS trafic\")\n",
    "    fig.show()"
   ]
  },
  {
   "cell_type": "code",
   "execution_count": 4,
   "id": "south-progress",
   "metadata": {},
   "outputs": [],
   "source": [
    "def visualize_collection(df, collection):\n",
    "    target_df = df[df['collectionName']==collection].copy()\n",
    "    lat_center = target_df['latDeg'].mean()\n",
    "    lng_center = target_df['lngDeg'].mean()\n",
    "    center = {\"lat\":lat_center, \"lon\":lng_center}\n",
    "    \n",
    "    visualize_trafic(target_df, center)"
   ]
  },
  {
   "cell_type": "code",
   "execution_count": 5,
   "id": "wired-material",
   "metadata": {},
   "outputs": [],
   "source": [
    "def calc_haversine(lat1, lon1, lat2, lon2):\n",
    "    \"\"\"Calculates the great circle distance between two points\n",
    "    on the earth. Inputs are array-like and specified in decimal degrees.\n",
    "    \"\"\"\n",
    "    RADIUS = 6_367_000\n",
    "    lat1, lon1, lat2, lon2 = map(np.radians, [lat1, lon1, lat2, lon2])\n",
    "    dlat = lat2 - lat1\n",
    "    dlon = lon2 - lon1\n",
    "    a = np.sin(dlat/2)**2 + \\\n",
    "        np.cos(lat1) * np.cos(lat2) * np.sin(dlon/2)**2\n",
    "    dist = 2 * RADIUS * np.arcsin(a**0.5)\n",
    "    return dist"
   ]
  },
  {
   "cell_type": "code",
   "execution_count": 6,
   "id": "inclusive-conversion",
   "metadata": {},
   "outputs": [],
   "source": [
    "# directory setting\n",
    "nb_name = get_nb_name()\n",
    "INPUT = '../input/google-smartphone-decimeter-challenge'\n",
    "OUTPUT = '../output/' + nb_name\n",
    "os.makedirs(OUTPUT, exist_ok=True)"
   ]
  },
  {
   "cell_type": "code",
   "execution_count": 7,
   "id": "historical-burns",
   "metadata": {},
   "outputs": [],
   "source": [
    "# reading data\n",
    "base_train = pd.read_csv(INPUT + '/' + 'baseline_locations_train.csv')\n",
    "base_test = pd.read_csv(INPUT + '/' + 'baseline_locations_test.csv')\n",
    "sample_sub = pd.read_csv(INPUT + '/' + 'sample_submission.csv')\n",
    "ground_truth = pd.read_csv(INPUT + '/prep/ground_truth_train.csv')"
   ]
  },
  {
   "cell_type": "code",
   "execution_count": 8,
   "id": "oriental-accident",
   "metadata": {},
   "outputs": [
    {
     "name": "stderr",
     "output_type": "stream",
     "text": [
      "/opt/conda/lib/python3.7/site-packages/IPython/core/interactiveshell.py:3166: DtypeWarning: Columns (36) have mixed types.Specify dtype option on import or set low_memory=False.\n",
      "  interactivity=interactivity, compiler=compiler, result=result)\n"
     ]
    }
   ],
   "source": [
    "raw_train = pd.read_csv(INPUT + '/prep/gnss/train/Raw.csv')\n",
    "accel_train = pd.read_csv(INPUT + '/prep/gnss/train/UncalAccel.csv')\n",
    "gyro_train = pd.read_csv(INPUT + '/prep/gnss/train/UncalGyro.csv')\n",
    "mag_train = pd.read_csv(INPUT + '/prep/gnss/train/UncalMag.csv')"
   ]
  },
  {
   "cell_type": "code",
   "execution_count": 9,
   "id": "valued-constitutional",
   "metadata": {},
   "outputs": [
    {
     "name": "stderr",
     "output_type": "stream",
     "text": [
      "/opt/conda/lib/python3.7/site-packages/IPython/core/interactiveshell.py:3166: DtypeWarning: Columns (34) have mixed types.Specify dtype option on import or set low_memory=False.\n",
      "  interactivity=interactivity, compiler=compiler, result=result)\n"
     ]
    }
   ],
   "source": [
    "raw_test = pd.read_csv(INPUT + '/prep/gnss/test/Raw.csv')\n",
    "accel_test = pd.read_csv(INPUT + '/prep/gnss/test/UncalAccel.csv')\n",
    "gyro_test = pd.read_csv(INPUT + '/prep/gnss/test/UncalGyro.csv')\n",
    "mag_test = pd.read_csv(INPUT + '/prep/gnss/test/UncalMag.csv')"
   ]
  },
  {
   "cell_type": "code",
   "execution_count": 21,
   "id": "hundred-translator",
   "metadata": {},
   "outputs": [],
   "source": [
    "def add_sensor_features(df, accel, gyro, mag):\n",
    "    df['phone'] = df['collectionName'] + '_' + df['phoneName']\n",
    "    accel['phone'] = accel['collectionName'] + '_' + accel['phoneName']\n",
    "    gyro['phone'] = gyro['collectionName'] + '_' + gyro['phoneName']\n",
    "    mag['phone'] = mag['collectionName'] + '_' + mag['phoneName']\n",
    "    \n",
    "    accel['millisSinceGpsEpoch'] = accel['utcTimeMillis'] - 315964800000 + 18000\n",
    "    gyro['millisSinceGpsEpoch'] = gyro['utcTimeMillis'] - 315964800000 + 18000\n",
    "    mag['millisSinceGpsEpoch'] = mag['utcTimeMillis'] - 315964800000 + 18000\n",
    "    \n",
    "    df['secondSinceGpsEpoch'] = df['millisSinceGpsEpoch'] // 1000\n",
    "    accel['secondSinceGpsEpoch'] = accel['millisSinceGpsEpoch'] // 1000\n",
    "    gyro['secondSinceGpsEpoch'] = gyro['millisSinceGpsEpoch'] // 1000\n",
    "    mag['secondSinceGpsEpoch'] = mag['millisSinceGpsEpoch'] // 1000\n",
    "    \n",
    "    accel = accel.groupby(['phone', 'secondSinceGpsEpoch'])['UncalAccelXMps2', 'UncalAccelYMps2', 'UncalAccelZMps2'].agg(['mean', 'std']).reset_index()\n",
    "    accel.columns = ['phone', 'secondSinceGpsEpoch', 'UncalAccelXMps2_mean', 'UncalAccelXMps2_std', 'UncalAccelYMps2_mean', 'UncalAccelYMps2_std', 'UncalAccelZMps2_mean', 'UncalAccelZMps2_std']\n",
    "    gyro = gyro.groupby(['phone', 'secondSinceGpsEpoch'])['UncalGyroXRadPerSec', 'UncalGyroYRadPerSec', 'UncalGyroZRadPerSec'].agg(['mean', 'std']).reset_index()\n",
    "    gyro.columns = ['phone', 'secondSinceGpsEpoch', 'UncalGyroXRadPerSec_mean', 'UncalGyroXRadPerSec_std', 'UncalGyroYRadPerSec_mean', 'UncalGyroYRadPerSec_std', 'UncalGyroZRadPerSec_mean', 'UncalGyroZRadPerSec_std' ]\n",
    "    mag = mag.groupby(['phone', 'secondSinceGpsEpoch'])['UncalMagXMicroT', 'UncalMagYMicroT', 'UncalMagZMicroT'].agg(['mean', 'std']).reset_index()\n",
    "    mag.columns = ['phone', 'secondSinceGpsEpoch', 'UncalMagXMicroT_mean', 'UncalMagXMicroT_std', 'UncalMagYMicroT_mean', 'UncalMagYMicroT_std', 'UncalMagZMicroT_mean', 'UncalMagZMicroT_std']\n",
    "    \n",
    "    df = df.merge(accel, on=['phone', 'secondSinceGpsEpoch'], how='left')\n",
    "    df = df.merge(gyro, on=['phone', 'secondSinceGpsEpoch'], how='left')\n",
    "    df = df.merge(mag, on=['phone', 'secondSinceGpsEpoch'], how='left')\n",
    "    \n",
    "    df.drop(['secondSinceGpsEpoch'], axis=1, inplace=True)\n",
    "    \n",
    "    return df"
   ]
  },
  {
   "cell_type": "code",
   "execution_count": 22,
   "id": "downtown-abortion",
   "metadata": {},
   "outputs": [
    {
     "name": "stderr",
     "output_type": "stream",
     "text": [
      "/opt/conda/lib/python3.7/site-packages/ipykernel_launcher.py:16: FutureWarning: Indexing with multiple keys (implicitly converted to a tuple of keys) will be deprecated, use a list instead.\n",
      "  app.launch_new_instance()\n",
      "/opt/conda/lib/python3.7/site-packages/ipykernel_launcher.py:18: FutureWarning: Indexing with multiple keys (implicitly converted to a tuple of keys) will be deprecated, use a list instead.\n",
      "/opt/conda/lib/python3.7/site-packages/ipykernel_launcher.py:20: FutureWarning: Indexing with multiple keys (implicitly converted to a tuple of keys) will be deprecated, use a list instead.\n"
     ]
    }
   ],
   "source": [
    "train = add_sensor_features(base_train, accel_train, gyro_train, mag_train)"
   ]
  },
  {
   "cell_type": "code",
   "execution_count": 24,
   "id": "knowing-layout",
   "metadata": {},
   "outputs": [],
   "source": [
    "def viz(df, cols, output_dir):\n",
    "    os.makedirs(output_dir, exist_ok=True)\n",
    "    cols_n = len(cols)\n",
    "    phones = df['phone'].unique()\n",
    "    \n",
    "    for phone in phones:\n",
    "        df_tmp = df[df['phone']==phone].copy()\n",
    "        \n",
    "        fig, axes = plt.subplots(figsize=(5*cols_n, 20), nrows=cols_n,sharex=True)\n",
    "        for i,c in enumerate(cols):\n",
    "            axes[i].plot(df_tmp['millisSinceGpsEpoch'], df_tmp[c], label=c)\n",
    "            axes[i].legend(loc='upper right')\n",
    "            axes[i].grid(color='g', linestyle=':', linewidth=0.3)\n",
    "        fig.suptitle(phone, fontsize=16)\n",
    "        fig.savefig(output_dir + '/' + phone + '.png')\n",
    "        plt.close()"
   ]
  },
  {
   "cell_type": "code",
   "execution_count": 27,
   "id": "abroad-bottle",
   "metadata": {},
   "outputs": [],
   "source": [
    "train['speedMps'] = ground_truth['speedMps']"
   ]
  },
  {
   "cell_type": "code",
   "execution_count": 29,
   "id": "spanish-battlefield",
   "metadata": {},
   "outputs": [
    {
     "data": {
      "text/plain": [
       "Index(['collectionName', 'phoneName', 'millisSinceGpsEpoch', 'latDeg',\n",
       "       'lngDeg', 'heightAboveWgs84EllipsoidM', 'phone', 'UncalAccelXMps2_mean',\n",
       "       'UncalAccelXMps2_std', 'UncalAccelYMps2_mean', 'UncalAccelYMps2_std',\n",
       "       'UncalAccelZMps2_mean', 'UncalAccelZMps2_std',\n",
       "       'UncalGyroXRadPerSec_mean', 'UncalGyroXRadPerSec_std',\n",
       "       'UncalGyroYRadPerSec_mean', 'UncalGyroYRadPerSec_std',\n",
       "       'UncalGyroZRadPerSec_mean', 'UncalGyroZRadPerSec_std',\n",
       "       'UncalMagXMicroT_mean', 'UncalMagXMicroT_std', 'UncalMagYMicroT_mean',\n",
       "       'UncalMagYMicroT_std', 'UncalMagZMicroT_mean', 'UncalMagZMicroT_std',\n",
       "       'speedMps'],\n",
       "      dtype='object')"
      ]
     },
     "execution_count": 29,
     "metadata": {},
     "output_type": "execute_result"
    }
   ],
   "source": [
    "train.columns"
   ]
  },
  {
   "cell_type": "code",
   "execution_count": 30,
   "id": "greenhouse-norman",
   "metadata": {},
   "outputs": [],
   "source": [
    "viz(train, \n",
    "    cols=['speedMps', 'UncalAccelXMps2_mean', 'UncalAccelXMps2_std', 'UncalAccelYMps2_mean', 'UncalAccelYMps2_std', 'UncalAccelZMps2_mean', 'UncalAccelZMps2_std'],\n",
    "    output_dir = OUTPUT + '/gnss_ts/train/accel')"
   ]
  },
  {
   "cell_type": "code",
   "execution_count": 31,
   "id": "negative-track",
   "metadata": {},
   "outputs": [],
   "source": [
    "viz(train, \n",
    "    cols=['speedMps', 'UncalGyroXRadPerSec_mean', 'UncalGyroXRadPerSec_std', 'UncalGyroYRadPerSec_mean', 'UncalGyroYRadPerSec_std', 'UncalGyroZRadPerSec_mean', 'UncalGyroZRadPerSec_std'],\n",
    "    output_dir = OUTPUT + '/gnss_ts/train/gyro')"
   ]
  },
  {
   "cell_type": "code",
   "execution_count": 32,
   "id": "bright-advisory",
   "metadata": {},
   "outputs": [],
   "source": [
    "viz(train, \n",
    "    cols=['speedMps', 'UncalMagXMicroT_mean', 'UncalMagXMicroT_std', 'UncalMagYMicroT_mean', 'UncalMagYMicroT_std', 'UncalMagZMicroT_mean', 'UncalMagZMicroT_std'],\n",
    "    output_dir = OUTPUT + '/gnss_ts/train/mag')"
   ]
  },
  {
   "cell_type": "markdown",
   "id": "differential-airline",
   "metadata": {},
   "source": [
    "# センサデータの異常値除去"
   ]
  },
  {
   "cell_type": "code",
   "execution_count": 52,
   "id": "hired-china",
   "metadata": {},
   "outputs": [
    {
     "name": "stderr",
     "output_type": "stream",
     "text": [
      "/opt/conda/lib/python3.7/site-packages/IPython/core/interactiveshell.py:3166: DtypeWarning: Columns (36) have mixed types.Specify dtype option on import or set low_memory=False.\n",
      "  interactivity=interactivity, compiler=compiler, result=result)\n"
     ]
    }
   ],
   "source": [
    "raw_train = pd.read_csv(INPUT + '/prep/gnss/train/Raw.csv')\n",
    "accel_train = pd.read_csv(INPUT + '/prep/gnss/train/UncalAccel.csv')\n",
    "gyro_train = pd.read_csv(INPUT + '/prep/gnss/train/UncalGyro.csv')\n",
    "mag_train = pd.read_csv(INPUT + '/prep/gnss/train/UncalMag.csv')"
   ]
  },
  {
   "cell_type": "code",
   "execution_count": 53,
   "id": "brilliant-humanitarian",
   "metadata": {},
   "outputs": [],
   "source": [
    "accel_train['phone'] = accel_train['collectionName'] + '_' + accel_train['phoneName']"
   ]
  },
  {
   "cell_type": "code",
   "execution_count": 54,
   "id": "single-watch",
   "metadata": {},
   "outputs": [
    {
     "data": {
      "text/html": [
       "<div>\n",
       "<style scoped>\n",
       "    .dataframe tbody tr th:only-of-type {\n",
       "        vertical-align: middle;\n",
       "    }\n",
       "\n",
       "    .dataframe tbody tr th {\n",
       "        vertical-align: top;\n",
       "    }\n",
       "\n",
       "    .dataframe thead th {\n",
       "        text-align: right;\n",
       "    }\n",
       "</style>\n",
       "<table border=\"1\" class=\"dataframe\">\n",
       "  <thead>\n",
       "    <tr style=\"text-align: right;\">\n",
       "      <th></th>\n",
       "      <th>UncalAccelXMps2</th>\n",
       "      <th>UncalAccelXMps2</th>\n",
       "      <th>UncalAccelYMps2</th>\n",
       "    </tr>\n",
       "  </thead>\n",
       "  <tbody>\n",
       "    <tr>\n",
       "      <th>0</th>\n",
       "      <td>-2.127655</td>\n",
       "      <td>-2.127655</td>\n",
       "      <td>10.233923</td>\n",
       "    </tr>\n",
       "    <tr>\n",
       "      <th>1</th>\n",
       "      <td>-2.427884</td>\n",
       "      <td>-2.427884</td>\n",
       "      <td>10.108892</td>\n",
       "    </tr>\n",
       "    <tr>\n",
       "      <th>2</th>\n",
       "      <td>-2.649440</td>\n",
       "      <td>-2.649440</td>\n",
       "      <td>10.083163</td>\n",
       "    </tr>\n",
       "    <tr>\n",
       "      <th>3</th>\n",
       "      <td>-2.760863</td>\n",
       "      <td>-2.760863</td>\n",
       "      <td>10.055699</td>\n",
       "    </tr>\n",
       "    <tr>\n",
       "      <th>4</th>\n",
       "      <td>-2.775203</td>\n",
       "      <td>-2.775203</td>\n",
       "      <td>10.070100</td>\n",
       "    </tr>\n",
       "    <tr>\n",
       "      <th>...</th>\n",
       "      <td>...</td>\n",
       "      <td>...</td>\n",
       "      <td>...</td>\n",
       "    </tr>\n",
       "    <tr>\n",
       "      <th>20523367</th>\n",
       "      <td>0.133604</td>\n",
       "      <td>0.133604</td>\n",
       "      <td>10.150373</td>\n",
       "    </tr>\n",
       "    <tr>\n",
       "      <th>20523368</th>\n",
       "      <td>-0.009243</td>\n",
       "      <td>-0.009243</td>\n",
       "      <td>10.186256</td>\n",
       "    </tr>\n",
       "    <tr>\n",
       "      <th>20523369</th>\n",
       "      <td>-0.114211</td>\n",
       "      <td>-0.114211</td>\n",
       "      <td>10.055800</td>\n",
       "    </tr>\n",
       "    <tr>\n",
       "      <th>20523370</th>\n",
       "      <td>-0.131431</td>\n",
       "      <td>-0.131431</td>\n",
       "      <td>9.785808</td>\n",
       "    </tr>\n",
       "    <tr>\n",
       "      <th>20523371</th>\n",
       "      <td>0.031124</td>\n",
       "      <td>0.031124</td>\n",
       "      <td>9.496376</td>\n",
       "    </tr>\n",
       "  </tbody>\n",
       "</table>\n",
       "<p>20523372 rows × 3 columns</p>\n",
       "</div>"
      ],
      "text/plain": [
       "          UncalAccelXMps2  UncalAccelXMps2  UncalAccelYMps2\n",
       "0               -2.127655        -2.127655        10.233923\n",
       "1               -2.427884        -2.427884        10.108892\n",
       "2               -2.649440        -2.649440        10.083163\n",
       "3               -2.760863        -2.760863        10.055699\n",
       "4               -2.775203        -2.775203        10.070100\n",
       "...                   ...              ...              ...\n",
       "20523367         0.133604         0.133604        10.150373\n",
       "20523368        -0.009243        -0.009243        10.186256\n",
       "20523369        -0.114211        -0.114211        10.055800\n",
       "20523370        -0.131431        -0.131431         9.785808\n",
       "20523371         0.031124         0.031124         9.496376\n",
       "\n",
       "[20523372 rows x 3 columns]"
      ]
     },
     "execution_count": 54,
     "metadata": {},
     "output_type": "execute_result"
    }
   ],
   "source": [
    "accel_train[['UncalAccelXMps2', 'UncalAccelXMps2', 'UncalAccelYMps2']]"
   ]
  },
  {
   "cell_type": "code",
   "execution_count": 55,
   "id": "legendary-audio",
   "metadata": {},
   "outputs": [
    {
     "name": "stderr",
     "output_type": "stream",
     "text": [
      "/opt/conda/lib/python3.7/site-packages/ipykernel_launcher.py:1: FutureWarning: Indexing with multiple keys (implicitly converted to a tuple of keys) will be deprecated, use a list instead.\n",
      "  \"\"\"Entry point for launching an IPython kernel.\n"
     ]
    }
   ],
   "source": [
    "accel_train[['UncalAccelXMps2', 'UncalAccelYMps2', 'UncalAccelZMps2']] = accel_train.groupby('phone')['UncalAccelXMps2', 'UncalAccelYMps2', 'UncalAccelZMps2'].transform(lambda x: x.clip(x.quantile(0.001), x.quantile(0.999)))"
   ]
  },
  {
   "cell_type": "code",
   "execution_count": 56,
   "id": "prescribed-butterfly",
   "metadata": {},
   "outputs": [],
   "source": [
    "def viz2(df, gnss, df_cols, gnss_cols, output_dir):\n",
    "    os.makedirs(output_dir, exist_ok=True)\n",
    "    gnss['millisSinceGpsEpoch'] = gnss['utcTimeMillis'] - 315964800000 + 18000\n",
    "    gnss['phone'] = gnss['collectionName'] + '_' + gnss['phoneName']\n",
    "    df['phone'] = df['collectionName'] + '_' + df['phoneName']\n",
    "    phones = df['phone'].unique()\n",
    "    \n",
    "    df_cols_n = len(df_cols)\n",
    "    gnss_cols_n = len(gnss_cols)\n",
    "    cols_n = df_cols_n + gnss_cols_n\n",
    "    \n",
    "    for phone in phones:\n",
    "        df_tmp = df[df['phone']==phone].copy()\n",
    "        gnss_tmp = gnss[gnss['phone']==phone].copy()\n",
    "        \n",
    "        if len(gnss_tmp) == 0:\n",
    "            continue\n",
    "        \n",
    "        fig, axes = plt.subplots(figsize=(5*cols_n, 20), nrows=cols_n,sharex=True)\n",
    "        for i,c in enumerate(df_cols):\n",
    "            axes[i].plot(df_tmp['millisSinceGpsEpoch'], df_tmp[c], label=c)\n",
    "        for j,c in enumerate(gnss_cols):\n",
    "            axes[i+j+1].plot(gnss_tmp['millisSinceGpsEpoch'], gnss_tmp[c], label=c)\n",
    "        for k in range(cols_n):\n",
    "            axes[k].legend(loc='upper right')\n",
    "            axes[k].grid(color='g', linestyle=':', linewidth=0.3)\n",
    "        fig.suptitle(phone, fontsize=16)\n",
    "        fig.savefig(output_dir + '/' + phone + '.png')\n",
    "        plt.close()"
   ]
  },
  {
   "cell_type": "code",
   "execution_count": 57,
   "id": "martial-spending",
   "metadata": {},
   "outputs": [],
   "source": [
    "viz2(ground_truth,\n",
    "    accel_train,\n",
    "    df_cols=['speedMps'],\n",
    "    gnss_cols=['UncalAccelXMps2', 'UncalAccelYMps2', 'UncalAccelZMps2', 'BiasXMps2', 'BiasYMps2', 'BiasZMps2'],\n",
    "    output_dir= OUTPUT + '/gnss_ts/gt/accel')"
   ]
  },
  {
   "cell_type": "code",
   "execution_count": 39,
   "id": "existing-portland",
   "metadata": {},
   "outputs": [
    {
     "data": {
      "text/plain": [
       "0    4.98\n",
       "1    5.98\n",
       "2    4.98\n",
       "3    5.98\n",
       "4    4.98\n",
       "5    5.98\n",
       "Name: v, dtype: float64"
      ]
     },
     "execution_count": 39,
     "metadata": {},
     "output_type": "execute_result"
    }
   ],
   "source": [
    "df.groupby('g')['v'].transform(percentile995)"
   ]
  },
  {
   "cell_type": "markdown",
   "id": "indie-incidence",
   "metadata": {},
   "source": [
    "## 異常値のクリッピングを加えた特徴量生成"
   ]
  },
  {
   "cell_type": "code",
   "execution_count": 58,
   "id": "cubic-tomato",
   "metadata": {},
   "outputs": [],
   "source": [
    "accel_train = pd.read_csv(INPUT + '/prep/gnss/train/UncalAccel.csv')\n",
    "gyro_train = pd.read_csv(INPUT + '/prep/gnss/train/UncalGyro.csv')\n",
    "mag_train = pd.read_csv(INPUT + '/prep/gnss/train/UncalMag.csv')\n",
    "train = pd.read_csv(INPUT + '/' + 'baseline_locations_train.csv')\n",
    "ground_truth = pd.read_csv(INPUT + '/prep/ground_truth_train.csv')\n",
    "\n",
    "train['speedMps'] = ground_truth['speedMps']"
   ]
  },
  {
   "cell_type": "code",
   "execution_count": 59,
   "id": "expected-alias",
   "metadata": {},
   "outputs": [],
   "source": [
    "def add_sensor_features(df, accel, gyro, mag):\n",
    "    # phoneを追加\n",
    "    df['phone'] = df['collectionName'] + '_' + df['phoneName']\n",
    "    accel['phone'] = accel['collectionName'] + '_' + accel['phoneName']\n",
    "    gyro['phone'] = gyro['collectionName'] + '_' + gyro['phoneName']\n",
    "    mag['phone'] = mag['collectionName'] + '_' + mag['phoneName']\n",
    "    \n",
    "    # utc -> gps\n",
    "    accel['millisSinceGpsEpoch'] = accel['utcTimeMillis'] - 315964800000 + 18000\n",
    "    gyro['millisSinceGpsEpoch'] = gyro['utcTimeMillis'] - 315964800000 + 18000\n",
    "    mag['millisSinceGpsEpoch'] = mag['utcTimeMillis'] - 315964800000 + 18000\n",
    "    \n",
    "    # resampling追加\n",
    "    df['secondSinceGpsEpoch'] = df['millisSinceGpsEpoch'] // 1000\n",
    "    accel['secondSinceGpsEpoch'] = accel['millisSinceGpsEpoch'] // 1000\n",
    "    gyro['secondSinceGpsEpoch'] = gyro['millisSinceGpsEpoch'] // 1000\n",
    "    mag['secondSinceGpsEpoch'] = mag['millisSinceGpsEpoch'] // 1000\n",
    "    \n",
    "    # clipping\n",
    "    accel[['UncalAccelXMps2', 'UncalAccelYMps2', 'UncalAccelZMps2']] = accel.groupby('phone')['UncalAccelXMps2', 'UncalAccelYMps2', 'UncalAccelZMps2'].transform(lambda x: x.clip(x.quantile(0.001), x.quantile(0.999)))\n",
    "    gyro[['UncalGyroXRadPerSec', 'UncalGyroYRadPerSec', 'UncalGyroZRadPerSec']] = gyro.groupby('phone')['UncalGyroXRadPerSec', 'UncalGyroYRadPerSec', 'UncalGyroZRadPerSec'].transform(lambda x: x.clip(x.quantile(0.001), x.quantile(0.999)))\n",
    "    mag[['UncalMagXMicroT', 'UncalMagYMicroT', 'UncalMagZMicroT']] = mag.groupby('phone')['UncalMagXMicroT', 'UncalMagYMicroT', 'UncalMagZMicroT'].transform(lambda x: x.clip(x.quantile(0.001), x.quantile(0.999)))\n",
    "    \n",
    "    accel = accel.groupby(['phone', 'secondSinceGpsEpoch'])['UncalAccelXMps2', 'UncalAccelYMps2', 'UncalAccelZMps2'].agg(['mean', 'std']).reset_index()\n",
    "    accel.columns = ['phone', 'secondSinceGpsEpoch', 'UncalAccelXMps2_mean', 'UncalAccelXMps2_std', 'UncalAccelYMps2_mean', 'UncalAccelYMps2_std', 'UncalAccelZMps2_mean', 'UncalAccelZMps2_std']\n",
    "    gyro = gyro.groupby(['phone', 'secondSinceGpsEpoch'])['UncalGyroXRadPerSec', 'UncalGyroYRadPerSec', 'UncalGyroZRadPerSec'].agg(['mean', 'std']).reset_index()\n",
    "    gyro.columns = ['phone', 'secondSinceGpsEpoch', 'UncalGyroXRadPerSec_mean', 'UncalGyroXRadPerSec_std', 'UncalGyroYRadPerSec_mean', 'UncalGyroYRadPerSec_std', 'UncalGyroZRadPerSec_mean', 'UncalGyroZRadPerSec_std' ]\n",
    "    mag = mag.groupby(['phone', 'secondSinceGpsEpoch'])['UncalMagXMicroT', 'UncalMagYMicroT', 'UncalMagZMicroT'].agg(['mean', 'std']).reset_index()\n",
    "    mag.columns = ['phone', 'secondSinceGpsEpoch', 'UncalMagXMicroT_mean', 'UncalMagXMicroT_std', 'UncalMagYMicroT_mean', 'UncalMagYMicroT_std', 'UncalMagZMicroT_mean', 'UncalMagZMicroT_std']\n",
    "    \n",
    "    df = df.merge(accel, on=['phone', 'secondSinceGpsEpoch'], how='left')\n",
    "    df = df.merge(gyro, on=['phone', 'secondSinceGpsEpoch'], how='left')\n",
    "    df = df.merge(mag, on=['phone', 'secondSinceGpsEpoch'], how='left')\n",
    "    \n",
    "    df.drop(['secondSinceGpsEpoch'], axis=1, inplace=True)\n",
    "    \n",
    "    return df"
   ]
  },
  {
   "cell_type": "code",
   "execution_count": 61,
   "id": "dedicated-insert",
   "metadata": {},
   "outputs": [
    {
     "name": "stderr",
     "output_type": "stream",
     "text": [
      "/opt/conda/lib/python3.7/site-packages/ipykernel_launcher.py:20: FutureWarning: Indexing with multiple keys (implicitly converted to a tuple of keys) will be deprecated, use a list instead.\n",
      "/opt/conda/lib/python3.7/site-packages/ipykernel_launcher.py:21: FutureWarning: Indexing with multiple keys (implicitly converted to a tuple of keys) will be deprecated, use a list instead.\n",
      "/opt/conda/lib/python3.7/site-packages/ipykernel_launcher.py:22: FutureWarning: Indexing with multiple keys (implicitly converted to a tuple of keys) will be deprecated, use a list instead.\n",
      "/opt/conda/lib/python3.7/site-packages/ipykernel_launcher.py:24: FutureWarning: Indexing with multiple keys (implicitly converted to a tuple of keys) will be deprecated, use a list instead.\n",
      "/opt/conda/lib/python3.7/site-packages/ipykernel_launcher.py:26: FutureWarning: Indexing with multiple keys (implicitly converted to a tuple of keys) will be deprecated, use a list instead.\n",
      "/opt/conda/lib/python3.7/site-packages/ipykernel_launcher.py:28: FutureWarning: Indexing with multiple keys (implicitly converted to a tuple of keys) will be deprecated, use a list instead.\n"
     ]
    }
   ],
   "source": [
    "train = add_sensor_features(train, accel_train, gyro_train, mag_train)"
   ]
  },
  {
   "cell_type": "code",
   "execution_count": 62,
   "id": "brown-settle",
   "metadata": {},
   "outputs": [],
   "source": [
    "viz(train, \n",
    "    cols=['speedMps', 'UncalAccelXMps2_mean', 'UncalAccelXMps2_std', 'UncalAccelYMps2_mean', 'UncalAccelYMps2_std', 'UncalAccelZMps2_mean', 'UncalAccelZMps2_std'],\n",
    "    output_dir = OUTPUT + '/gnss_ts/train/accel_clip')\n",
    "\n",
    "viz(train, \n",
    "    cols=['speedMps', 'UncalGyroXRadPerSec_mean', 'UncalGyroXRadPerSec_std', 'UncalGyroYRadPerSec_mean', 'UncalGyroYRadPerSec_std', 'UncalGyroZRadPerSec_mean', 'UncalGyroZRadPerSec_std'],\n",
    "    output_dir = OUTPUT + '/gnss_ts/train/gyro_clip')\n",
    "\n",
    "viz(train, \n",
    "    cols=['speedMps', 'UncalMagXMicroT_mean', 'UncalMagXMicroT_std', 'UncalMagYMicroT_mean', 'UncalMagYMicroT_std', 'UncalMagZMicroT_mean', 'UncalMagZMicroT_std'],\n",
    "    output_dir = OUTPUT + '/gnss_ts/train/mag_clip')"
   ]
  },
  {
   "cell_type": "code",
   "execution_count": null,
   "id": "finished-rainbow",
   "metadata": {},
   "outputs": [],
   "source": []
  }
 ],
 "metadata": {
  "kernelspec": {
   "display_name": "Python 3",
   "language": "python",
   "name": "python3"
  },
  "language_info": {
   "codemirror_mode": {
    "name": "ipython",
    "version": 3
   },
   "file_extension": ".py",
   "mimetype": "text/x-python",
   "name": "python",
   "nbconvert_exporter": "python",
   "pygments_lexer": "ipython3",
   "version": "3.7.10"
  }
 },
 "nbformat": 4,
 "nbformat_minor": 5
}
