{
 "cells": [
  {
   "cell_type": "markdown",
   "id": "verbal-bicycle",
   "metadata": {},
   "source": [
    "# g1-4_v036\n",
    "sp0を最後にもういちど"
   ]
  },
  {
   "cell_type": "code",
   "execution_count": 1,
   "id": "vital-myanmar",
   "metadata": {},
   "outputs": [
    {
     "data": {
      "text/html": [
       "<style type='text/css'>\n",
       ".datatable table.frame { margin-bottom: 0; }\n",
       ".datatable table.frame thead { border-bottom: none; }\n",
       ".datatable table.frame tr.coltypes td {  color: #FFFFFF;  line-height: 6px;  padding: 0 0.5em;}\n",
       ".datatable .bool    { background: #DDDD99; }\n",
       ".datatable .object  { background: #565656; }\n",
       ".datatable .int     { background: #5D9E5D; }\n",
       ".datatable .float   { background: #4040CC; }\n",
       ".datatable .str     { background: #CC4040; }\n",
       ".datatable .row_index {  background: var(--jp-border-color3);  border-right: 1px solid var(--jp-border-color0);  color: var(--jp-ui-font-color3);  font-size: 9px;}\n",
       ".datatable .frame tr.coltypes .row_index {  background: var(--jp-border-color0);}\n",
       ".datatable th:nth-child(2) { padding-left: 12px; }\n",
       ".datatable .hellipsis {  color: var(--jp-cell-editor-border-color);}\n",
       ".datatable .vellipsis {  background: var(--jp-layout-color0);  color: var(--jp-cell-editor-border-color);}\n",
       ".datatable .na {  color: var(--jp-cell-editor-border-color);  font-size: 80%;}\n",
       ".datatable .footer { font-size: 9px; }\n",
       ".datatable .frame_dimensions {  background: var(--jp-border-color3);  border-top: 1px solid var(--jp-border-color0);  color: var(--jp-ui-font-color3);  display: inline-block;  opacity: 0.6;  padding: 1px 10px 1px 5px;}\n",
       "</style>\n"
      ],
      "text/plain": [
       "<IPython.core.display.HTML object>"
      ]
     },
     "metadata": {},
     "output_type": "display_data"
    }
   ],
   "source": [
    "# import library\n",
    "import os\n",
    "import pandas as pd\n",
    "import numpy as np\n",
    "import matplotlib.pyplot as plt\n",
    "from matplotlib_venn import venn2, venn2_circles\n",
    "import seaborn as sns\n",
    "from tqdm.notebook import tqdm\n",
    "import pathlib\n",
    "import plotly\n",
    "import plotly.express as px\n",
    "import itertools\n",
    "import lightgbm as lgb\n",
    "from optuna.integration import lightgbm as optuna_lgb\n",
    "import simdkalman\n",
    "import optuna\n",
    "import pyproj\n",
    "from pyproj import Proj, transform\n",
    "from sklearn import metrics\n",
    "from sklearn.metrics import roc_curve, precision_recall_curve, confusion_matrix, accuracy_score\n",
    "pd.set_option('display.max_rows', 100)\n",
    "import scipy.interpolate\n",
    "import scipy.sparse"
   ]
  },
  {
   "cell_type": "code",
   "execution_count": 2,
   "id": "wrong-virtue",
   "metadata": {},
   "outputs": [],
   "source": [
    "g1 = ['2020-05-14-US-MTV-1', '2020-05-14-US-MTV-2', '2020-05-21-US-MTV-1', '2020-05-21-US-MTV-2',\n",
    "      '2020-05-29-US-MTV-1', '2020-05-29-US-MTV-2', '2020-06-04-US-MTV-1', '2020-06-05-US-MTV-1',\n",
    "      '2020-06-05-US-MTV-2', '2020-06-11-US-MTV-1', '2020-07-08-US-MTV-1', '2020-07-17-US-MTV-1',\n",
    "      '2020-07-17-US-MTV-2', '2020-08-03-US-MTV-1', '2020-08-06-US-MTV-2', '2020-09-04-US-SF-1',\n",
    "      '2020-09-04-US-SF-2',  '2021-01-04-US-RWC-1', '2021-01-04-US-RWC-2',\n",
    "      '2020-05-15-US-MTV-1', '2020-05-28-US-MTV-1', '2020-05-28-US-MTV-2', '2020-06-04-US-MTV-2',\n",
    "      '2020-06-10-US-MTV-1', '2020-06-10-US-MTV-2', '2020-08-03-US-MTV-2', '2020-08-13-US-MTV-1',\n",
    "      '2021-03-16-US-MTV-2']\n",
    "\n",
    "g2 = ['2021-01-05-US-SVL-1', '2021-01-05-US-SVL-2', '2021-04-15-US-MTV-1', \n",
    "      '2021-03-25-US-PAO-1', '2021-04-02-US-SJC-1', '2021-04-08-US-MTV-1']\n",
    "\n",
    "g3 = ['2021-03-10-US-SVL-1', '2021-04-26-US-SVL-1', '2021-04-26-US-SVL-2']\n",
    "\n",
    "g4 = ['2021-04-28-US-MTV-1', '2021-04-29-US-MTV-1', \n",
    "      '2021-03-16-US-RWC-2', '2021-04-21-US-MTV-1', '2021-04-28-US-MTV-2', '2021-04-29-US-MTV-2']\n",
    "\n",
    "g5 = ['2021-04-22-US-SJC-1', '2021-04-28-US-SJC-1', '2021-04-29-US-SJC-2', \n",
    "      '2021-04-22-US-SJC-2', '2021-04-29-US-SJC-3']"
   ]
  },
  {
   "cell_type": "code",
   "execution_count": 3,
   "id": "allied-clinton",
   "metadata": {},
   "outputs": [],
   "source": [
    "target = g1 + g2 + g3 + g4"
   ]
  },
  {
   "cell_type": "code",
   "execution_count": 4,
   "id": "assigned-portrait",
   "metadata": {},
   "outputs": [],
   "source": [
    "ro_th = 50 # 相対移動距離をもとにした異常値除去の閾値\n",
    "rog_th = 10 # ground_truthをもとにした異常値除去の閾値\n",
    "\n",
    "# ground_truthをもとにした異常値除去を行うcollection\n",
    "rog_target = ['2021-04-22-US-SJC-1', '2021-04-29-US-SJC-2', '2021-04-28-US-SJC-1', '2021-04-22-US-SJC-2', '2021-04-29-US-SJC-3',\n",
    "              '2021-04-28-US-MTV-1', '2021-04-29-US-MTV-1', '2021-03-16-US-RWC-2', '2021-04-28-US-MTV-2', '2021-04-29-US-MTV-2',\n",
    "              '2021-04-26-US-SVL-2', '2021-03-10-US-SVL-1', '2021-04-26-US-SVL-1',\n",
    "              '2021-04-21-US-MTV-1', '2021-04-28-US-MTV-1', '2021-04-29-US-MTV-1']"
   ]
  },
  {
   "cell_type": "code",
   "execution_count": 5,
   "id": "accompanied-stage",
   "metadata": {},
   "outputs": [],
   "source": [
    "import ipynb_path\n",
    "\n",
    "def get_nb_name():\n",
    "    nb_path = ipynb_path.get()\n",
    "    nb_name = nb_path.rsplit('/',1)[1].replace('.ipynb','')\n",
    "    return nb_name"
   ]
  },
  {
   "cell_type": "code",
   "execution_count": 6,
   "id": "static-history",
   "metadata": {},
   "outputs": [],
   "source": [
    "# directory setting\n",
    "nb_name = get_nb_name()\n",
    "INPUT = '../input/google-smartphone-decimeter-challenge'\n",
    "OUTPUT = '../output/' + nb_name\n",
    "os.makedirs(OUTPUT, exist_ok=True)"
   ]
  },
  {
   "cell_type": "markdown",
   "id": "printable-accommodation",
   "metadata": {},
   "source": [
    "# utils"
   ]
  },
  {
   "cell_type": "code",
   "execution_count": 7,
   "id": "disturbed-impact",
   "metadata": {},
   "outputs": [],
   "source": [
    "def get_train_score(df, gt):\n",
    "    gt = gt.rename(columns={'latDeg':'latDeg_gt', 'lngDeg':'lngDeg_gt'})\n",
    "    df = df.merge(gt, on=['collectionName', 'phoneName', 'millisSinceGpsEpoch'], how='inner')\n",
    "    # calc_distance_error\n",
    "    df['err'] = calc_haversine(df['latDeg_gt'], df['lngDeg_gt'], df['latDeg'], df['lngDeg'])\n",
    "    # calc_evaluate_score\n",
    "    df['phone'] = df['collectionName'] + '_' + df['phoneName']\n",
    "    res = df.groupby('phone')['err'].agg([percentile50, percentile95])\n",
    "    res['p50_p90_mean'] = (res['percentile50'] + res['percentile95']) / 2 \n",
    "    score = res['p50_p90_mean'].mean()\n",
    "    return score"
   ]
  },
  {
   "cell_type": "code",
   "execution_count": 8,
   "id": "pointed-driving",
   "metadata": {},
   "outputs": [],
   "source": [
    "def calc_haversine(lat1, lon1, lat2, lon2):\n",
    "    \"\"\"Calculates the great circle distance between two points\n",
    "    on the earth. Inputs are array-like and specified in decimal degrees.\n",
    "    \"\"\"\n",
    "    RADIUS = 6_367_000\n",
    "    lat1, lon1, lat2, lon2 = map(np.radians, [lat1, lon1, lat2, lon2])\n",
    "    dlat = lat2 - lat1\n",
    "    dlon = lon2 - lon1\n",
    "    a = np.sin(dlat/2)**2 + \\\n",
    "        np.cos(lat1) * np.cos(lat2) * np.sin(dlon/2)**2\n",
    "    dist = 2 * RADIUS * np.arcsin(a**0.5)\n",
    "    return dist"
   ]
  },
  {
   "cell_type": "code",
   "execution_count": 9,
   "id": "theoretical-ecology",
   "metadata": {},
   "outputs": [],
   "source": [
    "def visualize_trafic(df, center, zoom=9):\n",
    "    fig = px.scatter_mapbox(df,\n",
    "                            \n",
    "                            # Here, plotly gets, (x,y) coordinates\n",
    "                            lat=\"latDeg\",\n",
    "                            lon=\"lngDeg\",\n",
    "                            \n",
    "                            #Here, plotly detects color of series\n",
    "                            color=\"phoneName\",\n",
    "                            labels=\"phoneName\",\n",
    "                            \n",
    "                            zoom=zoom,\n",
    "                            center=center,\n",
    "                            height=600,\n",
    "                            width=800)\n",
    "    fig.update_layout(mapbox_style='stamen-terrain')\n",
    "    fig.update_layout(margin={\"r\": 0, \"t\": 0, \"l\": 0, \"b\": 0})\n",
    "    fig.update_layout(title_text=\"GPS trafic\")\n",
    "    fig.show()\n",
    "    \n",
    "def visualize_collection(df, collection):\n",
    "    target_df = df[df['collectionName']==collection].copy()\n",
    "    lat_center = target_df['latDeg'].mean()\n",
    "    lng_center = target_df['lngDeg'].mean()\n",
    "    center = {\"lat\":lat_center, \"lon\":lng_center}\n",
    "    \n",
    "    visualize_trafic(target_df, center)"
   ]
  },
  {
   "cell_type": "code",
   "execution_count": 10,
   "id": "correct-sample",
   "metadata": {},
   "outputs": [],
   "source": [
    "# ground_truth\n",
    "def get_ground_truth():\n",
    "    p = pathlib.Path(INPUT)\n",
    "    gt_files = list(p.glob('train/*/*/ground_truth.csv'))\n",
    "\n",
    "    gts = []\n",
    "    for gt_file in gt_files:\n",
    "        gts.append(pd.read_csv(gt_file))\n",
    "    ground_truth = pd.concat(gts)\n",
    "\n",
    "    return ground_truth"
   ]
  },
  {
   "cell_type": "code",
   "execution_count": 11,
   "id": "natural-somewhere",
   "metadata": {},
   "outputs": [],
   "source": [
    "def percentile50(x):\n",
    "    return np.percentile(x, 50)\n",
    "def percentile95(x):\n",
    "    return np.percentile(x, 95)"
   ]
  },
  {
   "cell_type": "code",
   "execution_count": 12,
   "id": "becoming-partition",
   "metadata": {},
   "outputs": [],
   "source": [
    "class train_result:\n",
    "    def __init__(self, df):\n",
    "        self.df = df\n",
    "        self.gt = get_ground_truth()\n",
    "        self.bl = pd.read_csv(INPUT + '/' + 'baseline_locations_train.csv')\n",
    "        \n",
    "        self.gt = self.gt.rename(columns={'latDeg':'latDeg_gt', 'lngDeg':'lngDeg_gt'})\n",
    "        self.df = self.df.merge(self.gt, on=['collectionName', 'phoneName', 'millisSinceGpsEpoch'], how='inner')\n",
    "        self.df['phone'] = self.df['collectionName'] + '_' + self.df['phoneName']\n",
    "        self.df['err'] =  calc_haversine(self.df['latDeg_gt'], self.df['lngDeg_gt'], self.df['latDeg'], self.df['lngDeg'])\n",
    "        \n",
    "        self.phone_res = self.calc_err('phone')\n",
    "        self.clc_res = self.calc_err('collectionName')\n",
    "        self.phonename_res = self.calc_err('phoneName')\n",
    "        \n",
    "    def calc_err(self, by):\n",
    "        res = self.df.groupby(by)['err'].agg([percentile50, percentile95])\n",
    "        res['p50_p90_mean'] = (res['percentile50'] + res['percentile95']) / 2\n",
    "        return res\n",
    "    \n",
    "    @property\n",
    "    def score(self):\n",
    "        return self.phone_res['p50_p90_mean'].mean()\n",
    "    @property\n",
    "    def raw_data(self):\n",
    "        return self.df\n",
    "    @property\n",
    "    def err(self):\n",
    "        return self.phone_res\n",
    "    @property\n",
    "    def collection_err(self):\n",
    "        return self.clc_res\n",
    "    @property\n",
    "    def phonename_err(self):\n",
    "        return self.phonename_res\n",
    "    \n",
    "    def viz_map(self, collection, show_gt=True, show_bl=True):\n",
    "        tmp = self.df[self.df['collectionName']==collection][['collectionName', 'phoneName', 'latDeg', 'lngDeg']]\n",
    "        tmp2 = self.df[self.df['collectionName']==collection][['collectionName', 'phoneName', 'latDeg_gt', 'lngDeg_gt']]\n",
    "        tmp2 = tmp2.rename(columns={'latDeg_gt':'latDeg', 'lngDeg_gt':'lngDeg'})\n",
    "        tmp2['phoneName'] = tmp2['phoneName'] + '_GT'\n",
    "        tmp3 = self.bl[self.bl['collectionName']==collection][['collectionName', 'phoneName', 'latDeg', 'lngDeg']]\n",
    "        tmp3['phoneName'] = tmp3['phoneName'] + '_BL'\n",
    "        \n",
    "        if show_gt:\n",
    "            tmp = tmp.append(tmp2)\n",
    "        if show_bl:\n",
    "            tmp = tmp.append(tmp3)\n",
    "        visualize_collection(tmp, collection)"
   ]
  },
  {
   "cell_type": "code",
   "execution_count": 13,
   "id": "diverse-image",
   "metadata": {},
   "outputs": [],
   "source": [
    "def get_data():\n",
    "    base_train = pd.read_csv(INPUT + '/' + 'baseline_locations_train.csv')\n",
    "    base_test = pd.read_csv(INPUT + '/' + 'baseline_locations_test.csv')\n",
    "    sample_sub = pd.read_csv(INPUT + '/' + 'sample_submission.csv')\n",
    "    ground_truth = get_ground_truth()\n",
    "    return base_train, base_test, sample_sub, ground_truth"
   ]
  },
  {
   "cell_type": "code",
   "execution_count": 14,
   "id": "superior-spirituality",
   "metadata": {},
   "outputs": [],
   "source": [
    "def update_baseline(df, rb):\n",
    "    rb = rb.rename(columns={'latDeg':'latDeg_rb', 'lngDeg':'lngDeg_rb'})\n",
    "    df = df.merge(rb[['millisSinceGpsEpoch', 'phone', 'latDeg_rb', 'lngDeg_rb']], on=['millisSinceGpsEpoch', 'phone'], how='left')\n",
    "\n",
    "    idx = df[~df['latDeg_rb'].isnull()].index\n",
    "    df.loc[idx, 'latDeg'] = df.loc[idx, 'latDeg_rb']\n",
    "    df.loc[idx, 'lngDeg'] = df.loc[idx, 'lngDeg_rb']\n",
    "    \n",
    "    df.drop(columns=['latDeg_rb', 'lngDeg_rb'], inplace=True)\n",
    "    \n",
    "    return df"
   ]
  },
  {
   "cell_type": "markdown",
   "id": "historical-politics",
   "metadata": {},
   "source": [
    "# 自前再構成baselineに更新"
   ]
  },
  {
   "cell_type": "code",
   "execution_count": 15,
   "id": "plain-salad",
   "metadata": {},
   "outputs": [],
   "source": [
    "train, test, sub, gt = get_data()"
   ]
  },
  {
   "cell_type": "code",
   "execution_count": 16,
   "id": "geological-jamaica",
   "metadata": {},
   "outputs": [],
   "source": [
    "train = update_baseline(train, pd.read_csv('../output/prep/baseline_g1_v001/result.csv'))\n",
    "train = update_baseline(train, pd.read_csv('../output/prep/baseline_g2_v003/result.csv'))\n",
    "train = update_baseline(train, pd.read_csv('../output/prep/baseline_g3_v003/result.csv'))\n",
    "train = update_baseline(train, pd.read_csv('../output/prep/baseline_g4_v002/result.csv'))"
   ]
  },
  {
   "cell_type": "markdown",
   "id": "wanted-nursery",
   "metadata": {},
   "source": [
    "# 相対移動距離をもとにした外れ値除去"
   ]
  },
  {
   "cell_type": "code",
   "execution_count": 17,
   "id": "august-friendly",
   "metadata": {},
   "outputs": [],
   "source": [
    "def add_distance_diff(df):\n",
    "    df['latDeg_prev'] = df['latDeg'].shift(1)\n",
    "    df['latDeg_next'] = df['latDeg'].shift(-1)\n",
    "    df['lngDeg_prev'] = df['lngDeg'].shift(1)\n",
    "    df['lngDeg_next'] = df['lngDeg'].shift(-1)\n",
    "    df['phone_prev'] = df['phone'].shift(1)\n",
    "    df['phone_next'] = df['phone'].shift(-1)\n",
    "    \n",
    "    df['dist_prev'] = calc_haversine(df['latDeg'], df['lngDeg'], df['latDeg_prev'], df['lngDeg_prev'])\n",
    "    df['dist_next'] = calc_haversine(df['latDeg'], df['lngDeg'], df['latDeg_next'], df['lngDeg_next'])\n",
    "    \n",
    "    df.loc[df['phone']!=df['phone_prev'], ['latDeg_prev', 'lngDeg_prev', 'dist_prev']] = np.nan\n",
    "    df.loc[df['phone']!=df['phone_next'], ['latDeg_next', 'lngDeg_next', 'dist_next']] = np.nan\n",
    "    \n",
    "    return df"
   ]
  },
  {
   "cell_type": "code",
   "execution_count": 18,
   "id": "danish-extent",
   "metadata": {},
   "outputs": [],
   "source": [
    "# reject outlier\n",
    "train = add_distance_diff(train)\n",
    "train.loc[((train['dist_prev'] > ro_th) & (train['dist_next'] > ro_th)), ['latDeg', 'lngDeg']] = np.nan\n",
    "train.to_csv(OUTPUT + '/train_ro.csv', index=False)"
   ]
  },
  {
   "cell_type": "markdown",
   "id": "macro-action",
   "metadata": {},
   "source": [
    "# ground_truthを基準にした外れ値除去"
   ]
  },
  {
   "cell_type": "code",
   "execution_count": 19,
   "id": "national-reliance",
   "metadata": {},
   "outputs": [],
   "source": [
    "def get_osmnx_data():\n",
    "    p = pathlib.Path(INPUT)\n",
    "    files = list(p.glob('prep/osmnx/*.csv'))\n",
    "\n",
    "    dfs = []\n",
    "    for file in files:\n",
    "        dfs.append(pd.read_csv(file))\n",
    "    osmnx = pd.concat(dfs)\n",
    "\n",
    "    return osmnx"
   ]
  },
  {
   "cell_type": "code",
   "execution_count": 20,
   "id": "horizontal-title",
   "metadata": {},
   "outputs": [],
   "source": [
    "def remove_based_on_gt(target_df, target_gt, th):\n",
    "    osmnx_data = get_osmnx_data()\n",
    "    target_gt = target_gt.append(osmnx_data)\n",
    "    \n",
    "    for idx in target_df.index:\n",
    "        lat = target_df.at[idx, 'latDeg']\n",
    "        lng = target_df.at[idx, 'lngDeg']\n",
    "        collection = target_df.at[idx, 'collectionName']\n",
    "        \n",
    "        if collection in ['2021-04-22-US-SJC-1', '2021-04-29-US-SJC-2', '2021-04-28-US-SJC-1', '2021-04-22-US-SJC-2', '2021-04-29-US-SJC-3']:\n",
    "            th = 3\n",
    "        \n",
    "        if np.isnan(lat):\n",
    "            continue\n",
    "        else:\n",
    "            target_gt['latDeg_pred'] = lat\n",
    "            target_gt['lngDeg_pred'] = lng\n",
    "            target_gt['dist'] = calc_haversine(target_gt['latDeg'], target_gt['lngDeg'], target_gt['latDeg_pred'], target_gt['lngDeg_pred'])\n",
    "            closest_dist = target_gt['dist'].min()\n",
    "            if closest_dist > th:\n",
    "                target_df.at[idx, 'latDeg'] = np.nan\n",
    "                target_df.at[idx, 'lngDeg'] = np.nan\n",
    "    return target_df"
   ]
  },
  {
   "cell_type": "code",
   "execution_count": 21,
   "id": "celtic-engineering",
   "metadata": {},
   "outputs": [],
   "source": [
    "def interpolate_remove_point(df):\n",
    "    out_df = pd.DataFrame()\n",
    "    collections = df['collectionName'].unique()\n",
    "    \n",
    "    for collection in collections:\n",
    "        tmp = df[df['collectionName']==collection].copy()\n",
    "        tmp = tmp.sort_values('millisSinceGpsEpoch')\n",
    "        tmp = tmp.reset_index().set_index('millisSinceGpsEpoch')\n",
    "        tmp[['latDeg', 'lngDeg']] = tmp[['latDeg', 'lngDeg']].interpolate(method='index', limit_area='inside')\n",
    "        tmp = tmp.sort_values('index')\n",
    "        tmp = tmp.reset_index().set_index('index')\n",
    "        out_df = out_df.append(tmp)\n",
    "    return out_df"
   ]
  },
  {
   "cell_type": "code",
   "execution_count": 22,
   "id": "prospective-loading",
   "metadata": {},
   "outputs": [],
   "source": [
    "rog_df = train[train['collectionName'].isin(rog_target)].copy()\n",
    "rog_gt = gt[gt['collectionName'].isin(rog_target)].copy()\n",
    "rog_df = remove_based_on_gt(rog_df, rog_gt, rog_th)\n",
    "rog_df = interpolate_remove_point(rog_df)\n",
    "train.loc[rog_df.index, ['latDeg', 'lngDeg']] = rog_df[['latDeg', 'lngDeg']]\n",
    "train.to_csv(OUTPUT + '/train_ro_rog.csv', index=False)"
   ]
  },
  {
   "cell_type": "markdown",
   "id": "apparent-trash",
   "metadata": {},
   "source": [
    "# kalmanフィルタ"
   ]
  },
  {
   "cell_type": "code",
   "execution_count": 23,
   "id": "wicked-belarus",
   "metadata": {},
   "outputs": [],
   "source": [
    "T = 1.0\n",
    "state_transition = np.array([[1, 0, T, 0, 0.5 * T ** 2, 0], [0, 1, 0, T, 0, 0.5 * T ** 2], [0, 0, 1, 0, T, 0],\n",
    "                             [0, 0, 0, 1, 0, T], [0, 0, 0, 0, 1, 0], [0, 0, 0, 0, 0, 1]])\n",
    "process_noise = np.diag([1e-5, 1e-5, 5e-6, 5e-6, 1e-6, 1e-6]) + np.ones((6, 6)) * 1e-9\n",
    "observation_model = np.array([[1, 0, 0, 0, 0, 0], [0, 1, 0, 0, 0, 0]])\n",
    "observation_noise = np.diag([5e-5, 5e-5]) + np.ones((2, 2)) * 1e-9\n",
    "\n",
    "kf = simdkalman.KalmanFilter(\n",
    "        state_transition = state_transition,\n",
    "        process_noise = process_noise,\n",
    "        observation_model = observation_model,\n",
    "        observation_noise = observation_noise)\n",
    "\n",
    "def apply_kf_smoothing(df, kf_=kf):\n",
    "    unique_paths = df[['collectionName', 'phoneName']].drop_duplicates().to_numpy()\n",
    "    for collection, phone in unique_paths:\n",
    "        cond = np.logical_and(df['collectionName'] == collection, df['phoneName'] == phone)\n",
    "        data = df[cond][['latDeg', 'lngDeg']].to_numpy()\n",
    "        data = data.reshape(1, len(data), 2)\n",
    "        smoothed = kf_.smooth(data)\n",
    "        df.loc[cond, 'latDeg'] = smoothed.states.mean[0, :, 0]\n",
    "        df.loc[cond, 'lngDeg'] = smoothed.states.mean[0, :, 1]\n",
    "    return df"
   ]
  },
  {
   "cell_type": "code",
   "execution_count": 24,
   "id": "defined-description",
   "metadata": {},
   "outputs": [],
   "source": [
    "train = apply_kf_smoothing(train)\n",
    "train.to_csv(OUTPUT + '/train_ro_rog_kf.csv', index=False)"
   ]
  },
  {
   "cell_type": "markdown",
   "id": "continued-housing",
   "metadata": {},
   "source": [
    "# speed0の処理"
   ]
  },
  {
   "cell_type": "code",
   "execution_count": 25,
   "id": "marine-master",
   "metadata": {},
   "outputs": [],
   "source": [
    "def sp0_process(df, sp0_result):\n",
    "    df = df.merge(sp0_result, on=['collectionName', 'phoneName', 'millisSinceGpsEpoch'], how='inner')\n",
    "    df['phone'] = df['collectionName'] + '_' + df['phoneName']\n",
    "    df['group'] = df.groupby('phone').cumcount()\n",
    "    df.loc[(df['group']>0)&(df['isSpeed0']==1),'group'] = np.nan\n",
    "    df['group'] = df['group'].fillna(method='ffill')\n",
    "    df[['latDeg', 'lngDeg']] = df.groupby(['phone', 'group'])[['latDeg','lngDeg']].transform('mean')\n",
    "    return df"
   ]
  },
  {
   "cell_type": "code",
   "execution_count": 26,
   "id": "dirty-highway",
   "metadata": {},
   "outputs": [],
   "source": [
    "train_sp0_pred = pd.read_csv('../output/prep/speed0_pred_v001/train_sp0_pred.csv')\n",
    "train = sp0_process(train, train_sp0_pred)\n",
    "train.to_csv(OUTPUT + '/train_ro_rog_kf_sp0.csv', index=False)"
   ]
  },
  {
   "cell_type": "code",
   "execution_count": 27,
   "id": "indirect-iraqi",
   "metadata": {},
   "outputs": [],
   "source": [
    "train = pd.read_csv(OUTPUT + '/train_ro_rog_kf_sp0.csv')"
   ]
  },
  {
   "cell_type": "markdown",
   "id": "packed-algorithm",
   "metadata": {},
   "source": [
    "# cost_minimization"
   ]
  },
  {
   "cell_type": "code",
   "execution_count": 28,
   "id": "thick-hardware",
   "metadata": {},
   "outputs": [],
   "source": [
    "def cost_minimization(df, b):\n",
    "    xy_hat = df[['latDeg', 'lngDeg']].to_numpy()\n",
    "    delta_xy_hat = df[['lat_diff', 'lng_diff']].fillna(method='ffill')[:-1].to_numpy()\n",
    "\n",
    "    N = xy_hat.shape[0]\n",
    "    alpha = 0.01 * np.ones(N)\n",
    "    beta  = b * np.ones(N-1)\n",
    "\n",
    "    A = scipy.sparse.spdiags(alpha, [0], N, N)\n",
    "    B = scipy.sparse.spdiags(beta, [0], N-1, N-1)\n",
    "    D = scipy.sparse.spdiags(np.stack([-np.ones(N), np.ones(N)]), [0, 1], N-1, N)\n",
    "\n",
    "    Q = A + (D.T @ B @ D)\n",
    "    c = (A @ xy_hat) + (D.T @ (B @ delta_xy_hat))\n",
    "    xy_star = scipy.sparse.linalg.spsolve(Q, c)\n",
    "\n",
    "    return xy_star"
   ]
  },
  {
   "cell_type": "code",
   "execution_count": 29,
   "id": "weighted-layout",
   "metadata": {},
   "outputs": [],
   "source": [
    "dp_train = pd.read_csv('../output/prep/rel_pred_v001/train_result.csv')\n",
    "train = train.merge(dp_train[['millisSinceGpsEpoch', 'phone', 'lat_diff', 'lng_diff']], on=['millisSinceGpsEpoch', 'phone'], how='left')\n",
    "train.loc[train['isSpeed0']==1, ['lat_diff', 'lng_diff']] = 0"
   ]
  },
  {
   "cell_type": "code",
   "execution_count": 30,
   "id": "included-horizontal",
   "metadata": {},
   "outputs": [],
   "source": [
    "def cost_min_objective(trial):\n",
    "    cost_min_beta_g1 = trial.suggest_uniform('cost_min_beta_g1', 0.01, 0.5)\n",
    "    cost_min_beta_g2 = trial.suggest_uniform('cost_min_beta_g2', 0.01, 0.5)\n",
    "    cost_min_beta_g3 = trial.suggest_uniform('cost_min_beta_g3', 0.01, 0.5)\n",
    "    cost_min_beta_g4 = trial.suggest_uniform('cost_min_beta_g4', 0.01, 0.5)\n",
    "    train_ = train.copy()\n",
    "    \n",
    "    for g, w in zip([g1,g2,g3,g4],[cost_min_beta_g1, cost_min_beta_g2, cost_min_beta_g3, cost_min_beta_g4]):\n",
    "        phones = train[(train['collectionName'].isin(g))&(train['phoneName']!='Mi8')]['phone'].unique()\n",
    "        for phone in phones:\n",
    "            idx = train[train['phone']==phone].index\n",
    "            train_.loc[idx, ['latDeg', 'lngDeg']] = cost_minimization(train_.loc[idx], w)\n",
    "    score = train_result(train_[train_['collectionName'].isin(target)]).score\n",
    "    return score"
   ]
  },
  {
   "cell_type": "code",
   "execution_count": 31,
   "id": "secondary-upper",
   "metadata": {},
   "outputs": [
    {
     "name": "stderr",
     "output_type": "stream",
     "text": [
      "\u001b[32m[I 2021-08-01 20:53:59,382]\u001b[0m A new study created in memory with name: no-name-213616ef-2be8-4ce0-a2da-418993e1f87e\u001b[0m\n",
      "\u001b[32m[I 2021-08-01 20:54:00,577]\u001b[0m Trial 0 finished with value: 2.832295972799862 and parameters: {'cost_min_beta_g1': 0.02257464912854685, 'cost_min_beta_g2': 0.44197355831448365, 'cost_min_beta_g3': 0.08610198805592462, 'cost_min_beta_g4': 0.12984604486270626}. Best is trial 0 with value: 2.832295972799862.\u001b[0m\n",
      "\u001b[32m[I 2021-08-01 20:54:01,776]\u001b[0m Trial 1 finished with value: 2.772455555749355 and parameters: {'cost_min_beta_g1': 0.04632621098329878, 'cost_min_beta_g2': 0.24489218686953493, 'cost_min_beta_g3': 0.019230063337768385, 'cost_min_beta_g4': 0.383712768234634}. Best is trial 1 with value: 2.772455555749355.\u001b[0m\n",
      "\u001b[32m[I 2021-08-01 20:54:02,944]\u001b[0m Trial 2 finished with value: 2.8674601268823796 and parameters: {'cost_min_beta_g1': 0.4740692894013333, 'cost_min_beta_g2': 0.15464969446362065, 'cost_min_beta_g3': 0.30481532757428664, 'cost_min_beta_g4': 0.46502749657107384}. Best is trial 1 with value: 2.772455555749355.\u001b[0m\n",
      "\u001b[32m[I 2021-08-01 20:54:04,103]\u001b[0m Trial 3 finished with value: 2.870849597006902 and parameters: {'cost_min_beta_g1': 0.40509886693354724, 'cost_min_beta_g2': 0.2971858359144434, 'cost_min_beta_g3': 0.010564022307775192, 'cost_min_beta_g4': 0.4892118419424537}. Best is trial 1 with value: 2.772455555749355.\u001b[0m\n",
      "\u001b[32m[I 2021-08-01 20:54:05,268]\u001b[0m Trial 4 finished with value: 2.893295392965783 and parameters: {'cost_min_beta_g1': 0.43578115570633386, 'cost_min_beta_g2': 0.41544590107254015, 'cost_min_beta_g3': 0.34655379083530075, 'cost_min_beta_g4': 0.38769130267651386}. Best is trial 1 with value: 2.772455555749355.\u001b[0m\n",
      "\u001b[32m[I 2021-08-01 20:54:06,422]\u001b[0m Trial 5 finished with value: 2.8305047063907725 and parameters: {'cost_min_beta_g1': 0.16900716645273123, 'cost_min_beta_g2': 0.4091516656705856, 'cost_min_beta_g3': 0.07037248148065679, 'cost_min_beta_g4': 0.07414700990889965}. Best is trial 1 with value: 2.772455555749355.\u001b[0m\n",
      "\u001b[32m[I 2021-08-01 20:54:07,559]\u001b[0m Trial 6 finished with value: 2.8371387659093554 and parameters: {'cost_min_beta_g1': 0.39327370684868507, 'cost_min_beta_g2': 0.06290226009075767, 'cost_min_beta_g3': 0.21320237427235986, 'cost_min_beta_g4': 0.3122845188193814}. Best is trial 1 with value: 2.772455555749355.\u001b[0m\n",
      "\u001b[32m[I 2021-08-01 20:54:08,768]\u001b[0m Trial 7 finished with value: 2.810261438224437 and parameters: {'cost_min_beta_g1': 0.2589683089410266, 'cost_min_beta_g2': 0.129287350423032, 'cost_min_beta_g3': 0.08143078857875903, 'cost_min_beta_g4': 0.130427872435572}. Best is trial 1 with value: 2.772455555749355.\u001b[0m\n",
      "\u001b[32m[I 2021-08-01 20:54:09,944]\u001b[0m Trial 8 finished with value: 2.7847134080118625 and parameters: {'cost_min_beta_g1': 0.12164993979041094, 'cost_min_beta_g2': 0.3441990408934161, 'cost_min_beta_g3': 0.1374149153459008, 'cost_min_beta_g4': 0.45623959011364723}. Best is trial 1 with value: 2.772455555749355.\u001b[0m\n",
      "\u001b[32m[I 2021-08-01 20:54:11,128]\u001b[0m Trial 9 finished with value: 2.791957139822138 and parameters: {'cost_min_beta_g1': 0.21611017294755608, 'cost_min_beta_g2': 0.19825459922858796, 'cost_min_beta_g3': 0.3093888969023776, 'cost_min_beta_g4': 0.3758798931360211}. Best is trial 1 with value: 2.772455555749355.\u001b[0m\n",
      "\u001b[32m[I 2021-08-01 20:54:12,298]\u001b[0m Trial 10 finished with value: 2.7999725847441272 and parameters: {'cost_min_beta_g1': 0.016881792581559946, 'cost_min_beta_g2': 0.2338553965482735, 'cost_min_beta_g3': 0.46173043725033636, 'cost_min_beta_g4': 0.2296649312813635}. Best is trial 1 with value: 2.772455555749355.\u001b[0m\n",
      "\u001b[32m[I 2021-08-01 20:54:13,475]\u001b[0m Trial 11 finished with value: 2.780340668486996 and parameters: {'cost_min_beta_g1': 0.10705954661682568, 'cost_min_beta_g2': 0.31943815451645075, 'cost_min_beta_g3': 0.18522629459110287, 'cost_min_beta_g4': 0.4276948793564195}. Best is trial 1 with value: 2.772455555749355.\u001b[0m\n",
      "\u001b[32m[I 2021-08-01 20:54:14,733]\u001b[0m Trial 12 finished with value: 2.7792456483168406 and parameters: {'cost_min_beta_g1': 0.07840811769648978, 'cost_min_beta_g2': 0.32099957097934484, 'cost_min_beta_g3': 0.1950692843436398, 'cost_min_beta_g4': 0.3636388855294035}. Best is trial 1 with value: 2.772455555749355.\u001b[0m\n",
      "\u001b[32m[I 2021-08-01 20:54:15,948]\u001b[0m Trial 13 finished with value: 2.7704551957155052 and parameters: {'cost_min_beta_g1': 0.06828986971312392, 'cost_min_beta_g2': 0.25985933745370626, 'cost_min_beta_g3': 0.41623151203999764, 'cost_min_beta_g4': 0.2913154617648652}. Best is trial 13 with value: 2.7704551957155052.\u001b[0m\n",
      "\u001b[32m[I 2021-08-01 20:54:17,144]\u001b[0m Trial 14 finished with value: 2.8234181465936428 and parameters: {'cost_min_beta_g1': 0.28484857134920905, 'cost_min_beta_g2': 0.24772813254487033, 'cost_min_beta_g3': 0.4920590663722745, 'cost_min_beta_g4': 0.24611704933457562}. Best is trial 13 with value: 2.7704551957155052.\u001b[0m\n",
      "\u001b[32m[I 2021-08-01 20:54:18,325]\u001b[0m Trial 15 finished with value: 2.7874299177226525 and parameters: {'cost_min_beta_g1': 0.012922139781203074, 'cost_min_beta_g2': 0.02749035113995868, 'cost_min_beta_g3': 0.39838939260793743, 'cost_min_beta_g4': 0.2895567071633096}. Best is trial 13 with value: 2.7704551957155052.\u001b[0m\n",
      "\u001b[32m[I 2021-08-01 20:54:19,494]\u001b[0m Trial 16 finished with value: 2.761480724329661 and parameters: {'cost_min_beta_g1': 0.06210703097944176, 'cost_min_beta_g2': 0.16880031460840053, 'cost_min_beta_g3': 0.4239338461324025, 'cost_min_beta_g4': 0.17995101668613697}. Best is trial 16 with value: 2.761480724329661.\u001b[0m\n",
      "\u001b[32m[I 2021-08-01 20:54:20,664]\u001b[0m Trial 17 finished with value: 2.7733715742691203 and parameters: {'cost_min_beta_g1': 0.16839736631625574, 'cost_min_beta_g2': 0.10374003675967905, 'cost_min_beta_g3': 0.4182087705653431, 'cost_min_beta_g4': 0.1902585431702683}. Best is trial 16 with value: 2.761480724329661.\u001b[0m\n",
      "\u001b[32m[I 2021-08-01 20:54:21,891]\u001b[0m Trial 18 finished with value: 2.7928043270308684 and parameters: {'cost_min_beta_g1': 0.14770121658099936, 'cost_min_beta_g2': 0.15433772198351453, 'cost_min_beta_g3': 0.39726252062213363, 'cost_min_beta_g4': 0.032030768256663844}. Best is trial 16 with value: 2.761480724329661.\u001b[0m\n",
      "\u001b[32m[I 2021-08-01 20:54:23,075]\u001b[0m Trial 19 finished with value: 2.832850168284491 and parameters: {'cost_min_beta_g1': 0.32274127965656374, 'cost_min_beta_g2': 0.20633994170641404, 'cost_min_beta_g3': 0.48252015111055496, 'cost_min_beta_g4': 0.1804455758800662}. Best is trial 16 with value: 2.761480724329661.\u001b[0m\n",
      "\u001b[32m[I 2021-08-01 20:54:24,266]\u001b[0m Trial 20 finished with value: 2.7823959761609536 and parameters: {'cost_min_beta_g1': 0.07324949910198834, 'cost_min_beta_g2': 0.3714107235873932, 'cost_min_beta_g3': 0.3490559494366877, 'cost_min_beta_g4': 0.32117105770880916}. Best is trial 16 with value: 2.761480724329661.\u001b[0m\n",
      "\u001b[32m[I 2021-08-01 20:54:25,432]\u001b[0m Trial 21 finished with value: 2.772642156534261 and parameters: {'cost_min_beta_g1': 0.06089845938648794, 'cost_min_beta_g2': 0.26889076791271604, 'cost_min_beta_g3': 0.44210146952968743, 'cost_min_beta_g4': 0.25990952754680974}. Best is trial 16 with value: 2.761480724329661.\u001b[0m\n",
      "\u001b[32m[I 2021-08-01 20:54:26,603]\u001b[0m Trial 22 finished with value: 2.757049592195239 and parameters: {'cost_min_beta_g1': 0.05685771634199385, 'cost_min_beta_g2': 0.18390955642219986, 'cost_min_beta_g3': 0.25734348503014937, 'cost_min_beta_g4': 0.34879374986457773}. Best is trial 22 with value: 2.757049592195239.\u001b[0m\n",
      "\u001b[32m[I 2021-08-01 20:54:27,767]\u001b[0m Trial 23 finished with value: 2.7968030493163507 and parameters: {'cost_min_beta_g1': 0.21386299486801727, 'cost_min_beta_g2': 0.1726465626873972, 'cost_min_beta_g3': 0.2382630375734448, 'cost_min_beta_g4': 0.19994366479989356}. Best is trial 22 with value: 2.757049592195239.\u001b[0m\n",
      "\u001b[32m[I 2021-08-01 20:54:28,911]\u001b[0m Trial 24 finished with value: 2.752306512245292 and parameters: {'cost_min_beta_g1': 0.11561473732625066, 'cost_min_beta_g2': 0.09426724988135847, 'cost_min_beta_g3': 0.27660787389838193, 'cost_min_beta_g4': 0.3429145107410848}. Best is trial 24 with value: 2.752306512245292.\u001b[0m\n",
      "\u001b[32m[I 2021-08-01 20:54:30,062]\u001b[0m Trial 25 finished with value: 2.751330374337845 and parameters: {'cost_min_beta_g1': 0.10752704249197599, 'cost_min_beta_g2': 0.0953957229088736, 'cost_min_beta_g3': 0.25596567197228537, 'cost_min_beta_g4': 0.3412322970468874}. Best is trial 25 with value: 2.751330374337845.\u001b[0m\n",
      "\u001b[32m[I 2021-08-01 20:54:31,316]\u001b[0m Trial 26 finished with value: 2.749779422412316 and parameters: {'cost_min_beta_g1': 0.11237646100179036, 'cost_min_beta_g2': 0.08625098359787155, 'cost_min_beta_g3': 0.2882749016922607, 'cost_min_beta_g4': 0.3521168631061293}. Best is trial 26 with value: 2.749779422412316.\u001b[0m\n",
      "\u001b[32m[I 2021-08-01 20:54:32,506]\u001b[0m Trial 27 finished with value: 2.772700888911081 and parameters: {'cost_min_beta_g1': 0.2032515511773012, 'cost_min_beta_g2': 0.07699508396522582, 'cost_min_beta_g3': 0.2787339320286913, 'cost_min_beta_g4': 0.42494111684873864}. Best is trial 26 with value: 2.749779422412316.\u001b[0m\n",
      "\u001b[32m[I 2021-08-01 20:54:33,698]\u001b[0m Trial 28 finished with value: 2.7527393254804062 and parameters: {'cost_min_beta_g1': 0.1118783386187261, 'cost_min_beta_g2': 0.021200887402898577, 'cost_min_beta_g3': 0.15882669603097382, 'cost_min_beta_g4': 0.4184788072810651}. Best is trial 26 with value: 2.749779422412316.\u001b[0m\n",
      "\u001b[32m[I 2021-08-01 20:54:34,868]\u001b[0m Trial 29 finished with value: 2.755821637851193 and parameters: {'cost_min_beta_g1': 0.142760200227951, 'cost_min_beta_g2': 0.06208371287853675, 'cost_min_beta_g3': 0.36018143781455436, 'cost_min_beta_g4': 0.3419633282378138}. Best is trial 26 with value: 2.749779422412316.\u001b[0m\n",
      "\u001b[32m[I 2021-08-01 20:54:36,040]\u001b[0m Trial 30 finished with value: 2.7740850169888276 and parameters: {'cost_min_beta_g1': 0.18958412540703082, 'cost_min_beta_g2': 0.10917739532945304, 'cost_min_beta_g3': 0.29249163584326515, 'cost_min_beta_g4': 0.27989657586942107}. Best is trial 26 with value: 2.749779422412316.\u001b[0m\n",
      "\u001b[32m[I 2021-08-01 20:54:37,207]\u001b[0m Trial 31 finished with value: 2.7492003128948452 and parameters: {'cost_min_beta_g1': 0.09621888499966418, 'cost_min_beta_g2': 0.023261979352175145, 'cost_min_beta_g3': 0.14350596928844472, 'cost_min_beta_g4': 0.4134551564100992}. Best is trial 31 with value: 2.7492003128948452.\u001b[0m\n",
      "\u001b[32m[I 2021-08-01 20:54:38,360]\u001b[0m Trial 32 finished with value: 2.7558634084894376 and parameters: {'cost_min_beta_g1': 0.10002790494542013, 'cost_min_beta_g2': 0.014441973428077959, 'cost_min_beta_g3': 0.2526196980328968, 'cost_min_beta_g4': 0.3943866971505869}. Best is trial 31 with value: 2.7492003128948452.\u001b[0m\n",
      "\u001b[32m[I 2021-08-01 20:54:39,502]\u001b[0m Trial 33 finished with value: 2.8153164604491616 and parameters: {'cost_min_beta_g1': 0.13949647171129997, 'cost_min_beta_g2': 0.49731383170807864, 'cost_min_beta_g3': 0.12095936375868813, 'cost_min_beta_g4': 0.3287505540633816}. Best is trial 31 with value: 2.7492003128948452.\u001b[0m\n",
      "\u001b[32m[I 2021-08-01 20:54:40,756]\u001b[0m Trial 34 finished with value: 2.748532483614444 and parameters: {'cost_min_beta_g1': 0.03379929499763322, 'cost_min_beta_g2': 0.043965589716457386, 'cost_min_beta_g3': 0.3207977592130842, 'cost_min_beta_g4': 0.48938385500905807}. Best is trial 34 with value: 2.748532483614444.\u001b[0m\n",
      "\u001b[32m[I 2021-08-01 20:54:41,944]\u001b[0m Trial 35 finished with value: 2.75509134757702 and parameters: {'cost_min_beta_g1': 0.026214800203254125, 'cost_min_beta_g2': 0.049167418485917935, 'cost_min_beta_g3': 0.3244658460506313, 'cost_min_beta_g4': 0.4878300457702593}. Best is trial 34 with value: 2.748532483614444.\u001b[0m\n",
      "\u001b[32m[I 2021-08-01 20:54:43,128]\u001b[0m Trial 36 finished with value: 2.756527050856701 and parameters: {'cost_min_beta_g1': 0.03369079649870495, 'cost_min_beta_g2': 0.1338499760100037, 'cost_min_beta_g3': 0.21749601663287357, 'cost_min_beta_g4': 0.4558798239788031}. Best is trial 34 with value: 2.748532483614444.\u001b[0m\n",
      "\u001b[32m[I 2021-08-01 20:54:44,304]\u001b[0m Trial 37 finished with value: 2.7488608635790093 and parameters: {'cost_min_beta_g1': 0.09292339457669256, 'cost_min_beta_g2': 0.04295668398884825, 'cost_min_beta_g3': 0.034462220279405625, 'cost_min_beta_g4': 0.3974642646781742}. Best is trial 34 with value: 2.748532483614444.\u001b[0m\n",
      "\u001b[32m[I 2021-08-01 20:54:45,478]\u001b[0m Trial 38 finished with value: 2.793784809407023 and parameters: {'cost_min_beta_g1': 0.01061223495751866, 'cost_min_beta_g2': 0.04459803737050947, 'cost_min_beta_g3': 0.042013536498858445, 'cost_min_beta_g4': 0.40725436039733776}. Best is trial 34 with value: 2.748532483614444.\u001b[0m\n",
      "\u001b[32m[I 2021-08-01 20:54:46,648]\u001b[0m Trial 39 finished with value: 2.7435728267136965 and parameters: {'cost_min_beta_g1': 0.08594677512764493, 'cost_min_beta_g2': 0.03239992373555978, 'cost_min_beta_g3': 0.04176814220573222, 'cost_min_beta_g4': 0.49674378751772896}. Best is trial 39 with value: 2.7435728267136965.\u001b[0m\n",
      "\u001b[32m[I 2021-08-01 20:54:47,795]\u001b[0m Trial 40 finished with value: 2.7568254905092466 and parameters: {'cost_min_beta_g1': 0.04312909785208699, 'cost_min_beta_g2': 0.01424526381092486, 'cost_min_beta_g3': 0.04113316684673474, 'cost_min_beta_g4': 0.4962467244458078}. Best is trial 39 with value: 2.7435728267136965.\u001b[0m\n",
      "\u001b[32m[I 2021-08-01 20:54:48,943]\u001b[0m Trial 41 finished with value: 2.7436652160259962 and parameters: {'cost_min_beta_g1': 0.08536374149256715, 'cost_min_beta_g2': 0.042138083195753365, 'cost_min_beta_g3': 0.10567384881664159, 'cost_min_beta_g4': 0.46870312718305146}. Best is trial 39 with value: 2.7435728267136965.\u001b[0m\n",
      "\u001b[32m[I 2021-08-01 20:54:50,192]\u001b[0m Trial 42 finished with value: 2.743585948284866 and parameters: {'cost_min_beta_g1': 0.0814328560150436, 'cost_min_beta_g2': 0.039564916650647465, 'cost_min_beta_g3': 0.10155926997684143, 'cost_min_beta_g4': 0.4777484080185906}. Best is trial 39 with value: 2.7435728267136965.\u001b[0m\n",
      "\u001b[32m[I 2021-08-01 20:54:51,387]\u001b[0m Trial 43 finished with value: 2.7435428792225798 and parameters: {'cost_min_beta_g1': 0.08658320550316997, 'cost_min_beta_g2': 0.04539046105138784, 'cost_min_beta_g3': 0.10364860134662685, 'cost_min_beta_g4': 0.47146240450744736}. Best is trial 43 with value: 2.7435428792225798.\u001b[0m\n",
      "\u001b[32m[I 2021-08-01 20:54:52,574]\u001b[0m Trial 44 finished with value: 2.7432683433325593 and parameters: {'cost_min_beta_g1': 0.04811355432013355, 'cost_min_beta_g2': 0.062278208993276074, 'cost_min_beta_g3': 0.1086694730926791, 'cost_min_beta_g4': 0.4746689863531343}. Best is trial 44 with value: 2.7432683433325593.\u001b[0m\n",
      "\u001b[32m[I 2021-08-01 20:54:53,750]\u001b[0m Trial 45 finished with value: 2.7547555019122236 and parameters: {'cost_min_beta_g1': 0.13689332365502005, 'cost_min_beta_g2': 0.07014929481287918, 'cost_min_beta_g3': 0.10090003859862233, 'cost_min_beta_g4': 0.465161962706107}. Best is trial 44 with value: 2.7432683433325593.\u001b[0m\n",
      "\u001b[32m[I 2021-08-01 20:54:54,924]\u001b[0m Trial 46 finished with value: 2.7691831377654874 and parameters: {'cost_min_beta_g1': 0.1717414836332023, 'cost_min_beta_g2': 0.12105411948583206, 'cost_min_beta_g3': 0.07631673717129667, 'cost_min_beta_g4': 0.4490201169161183}. Best is trial 44 with value: 2.7432683433325593.\u001b[0m\n",
      "\u001b[32m[I 2021-08-01 20:54:56,100]\u001b[0m Trial 47 finished with value: 2.7438570633985284 and parameters: {'cost_min_beta_g1': 0.0819503144622034, 'cost_min_beta_g2': 0.06270283785078225, 'cost_min_beta_g3': 0.09852236945221515, 'cost_min_beta_g4': 0.4734377011705305}. Best is trial 44 with value: 2.7432683433325593.\u001b[0m\n",
      "\u001b[32m[I 2021-08-01 20:54:57,247]\u001b[0m Trial 48 finished with value: 2.759690758653188 and parameters: {'cost_min_beta_g1': 0.038537169321140125, 'cost_min_beta_g2': 0.1400717381689949, 'cost_min_beta_g3': 0.012615182625291488, 'cost_min_beta_g4': 0.43929389261261365}. Best is trial 44 with value: 2.7432683433325593.\u001b[0m\n",
      "\u001b[32m[I 2021-08-01 20:54:58,393]\u001b[0m Trial 49 finished with value: 2.794864734426823 and parameters: {'cost_min_beta_g1': 0.24753142906178074, 'cost_min_beta_g2': 0.012436235657102043, 'cost_min_beta_g3': 0.06275811662653166, 'cost_min_beta_g4': 0.49808915778384943}. Best is trial 44 with value: 2.7432683433325593.\u001b[0m\n",
      "\u001b[32m[I 2021-08-01 20:54:59,645]\u001b[0m Trial 50 finished with value: 2.742567090071053 and parameters: {'cost_min_beta_g1': 0.08544612236712856, 'cost_min_beta_g2': 0.04423181358739525, 'cost_min_beta_g3': 0.16309537661038562, 'cost_min_beta_g4': 0.46846808916829585}. Best is trial 50 with value: 2.742567090071053.\u001b[0m\n",
      "\u001b[32m[I 2021-08-01 20:55:00,911]\u001b[0m Trial 51 finished with value: 2.7426347570335614 and parameters: {'cost_min_beta_g1': 0.08293769517767288, 'cost_min_beta_g2': 0.03800852319920221, 'cost_min_beta_g3': 0.1222598757048317, 'cost_min_beta_g4': 0.4750522768926545}. Best is trial 50 with value: 2.742567090071053.\u001b[0m\n",
      "\u001b[32m[I 2021-08-01 20:55:02,115]\u001b[0m Trial 52 finished with value: 2.7422667064134476 and parameters: {'cost_min_beta_g1': 0.050056557728770074, 'cost_min_beta_g2': 0.07088625522227081, 'cost_min_beta_g3': 0.16609406574579125, 'cost_min_beta_g4': 0.47800530275172587}. Best is trial 52 with value: 2.7422667064134476.\u001b[0m\n",
      "\u001b[32m[I 2021-08-01 20:55:03,305]\u001b[0m Trial 53 finished with value: 2.741139130289481 and parameters: {'cost_min_beta_g1': 0.052276511398491904, 'cost_min_beta_g2': 0.08168977291069277, 'cost_min_beta_g3': 0.1645843871639867, 'cost_min_beta_g4': 0.44633100748702736}. Best is trial 53 with value: 2.741139130289481.\u001b[0m\n",
      "\u001b[32m[I 2021-08-01 20:55:04,517]\u001b[0m Trial 54 finished with value: 2.791517041081454 and parameters: {'cost_min_beta_g1': 0.01083752341290356, 'cost_min_beta_g2': 0.1134440225191741, 'cost_min_beta_g3': 0.16821379466821765, 'cost_min_beta_g4': 0.4378031012337785}. Best is trial 53 with value: 2.741139130289481.\u001b[0m\n",
      "\u001b[32m[I 2021-08-01 20:55:05,696]\u001b[0m Trial 55 finished with value: 2.8677268332529655 and parameters: {'cost_min_beta_g1': 0.494768824645012, 'cost_min_beta_g2': 0.07838043753526944, 'cost_min_beta_g3': 0.13584131934228993, 'cost_min_beta_g4': 0.44829249554076606}. Best is trial 53 with value: 2.741139130289481.\u001b[0m\n",
      "\u001b[32m[I 2021-08-01 20:55:06,859]\u001b[0m Trial 56 finished with value: 2.7426746784907157 and parameters: {'cost_min_beta_g1': 0.05689915516841474, 'cost_min_beta_g2': 0.060877853013376476, 'cost_min_beta_g3': 0.19766890874900078, 'cost_min_beta_g4': 0.3768013860637702}. Best is trial 53 with value: 2.741139130289481.\u001b[0m\n",
      "\u001b[32m[I 2021-08-01 20:55:08,085]\u001b[0m Trial 57 finished with value: 2.742295229230773 and parameters: {'cost_min_beta_g1': 0.05003872904959661, 'cost_min_beta_g2': 0.06380236855916381, 'cost_min_beta_g3': 0.20381983077176505, 'cost_min_beta_g4': 0.4350632633858915}. Best is trial 53 with value: 2.741139130289481.\u001b[0m\n",
      "\u001b[32m[I 2021-08-01 20:55:09,334]\u001b[0m Trial 58 finished with value: 2.745230397226209 and parameters: {'cost_min_beta_g1': 0.05922001434714722, 'cost_min_beta_g2': 0.09599981100222699, 'cost_min_beta_g3': 0.18554022655360586, 'cost_min_beta_g4': 0.36802268347225076}. Best is trial 53 with value: 2.741139130289481.\u001b[0m\n",
      "\u001b[32m[I 2021-08-01 20:55:10,538]\u001b[0m Trial 59 finished with value: 2.83348561504337 and parameters: {'cost_min_beta_g1': 0.3409666291936361, 'cost_min_beta_g2': 0.21909083391510253, 'cost_min_beta_g3': 0.20333781542080726, 'cost_min_beta_g4': 0.38067910378874437}. Best is trial 53 with value: 2.741139130289481.\u001b[0m\n",
      "\u001b[32m[I 2021-08-01 20:55:11,727]\u001b[0m Trial 60 finished with value: 2.7597199223430504 and parameters: {'cost_min_beta_g1': 0.12648159023634098, 'cost_min_beta_g2': 0.15142905520866434, 'cost_min_beta_g3': 0.2270232996525492, 'cost_min_beta_g4': 0.4332439183848583}. Best is trial 53 with value: 2.741139130289481.\u001b[0m\n",
      "\u001b[32m[I 2021-08-01 20:55:12,918]\u001b[0m Trial 61 finished with value: 2.7665259404190703 and parameters: {'cost_min_beta_g1': 0.020844921624594323, 'cost_min_beta_g2': 0.06392369668510903, 'cost_min_beta_g3': 0.16457930347556785, 'cost_min_beta_g4': 0.46229473170958446}. Best is trial 53 with value: 2.741139130289481.\u001b[0m\n",
      "\u001b[32m[I 2021-08-01 20:55:14,105]\u001b[0m Trial 62 finished with value: 2.7423806668053516 and parameters: {'cost_min_beta_g1': 0.051366656340030244, 'cost_min_beta_g2': 0.08378547797189158, 'cost_min_beta_g3': 0.1787602660155838, 'cost_min_beta_g4': 0.42173353926333423}. Best is trial 53 with value: 2.741139130289481.\u001b[0m\n",
      "\u001b[32m[I 2021-08-01 20:55:15,282]\u001b[0m Trial 63 finished with value: 2.7422922403202166 and parameters: {'cost_min_beta_g1': 0.052934549280852464, 'cost_min_beta_g2': 0.07950165820798785, 'cost_min_beta_g3': 0.1871405733103349, 'cost_min_beta_g4': 0.40186947985978105}. Best is trial 53 with value: 2.741139130289481.\u001b[0m\n",
      "\u001b[32m[I 2021-08-01 20:55:16,448]\u001b[0m Trial 64 finished with value: 2.7456891340684924 and parameters: {'cost_min_beta_g1': 0.06859482302420446, 'cost_min_beta_g2': 0.11254950143300309, 'cost_min_beta_g3': 0.1740960495146626, 'cost_min_beta_g4': 0.40788500791298377}. Best is trial 53 with value: 2.741139130289481.\u001b[0m\n",
      "\u001b[32m[I 2021-08-01 20:55:17,614]\u001b[0m Trial 65 finished with value: 2.7457930652330655 and parameters: {'cost_min_beta_g1': 0.045772426518992826, 'cost_min_beta_g2': 0.07981267822323083, 'cost_min_beta_g3': 0.1407012574583377, 'cost_min_beta_g4': 0.42702972495686187}. Best is trial 53 with value: 2.741139130289481.\u001b[0m\n",
      "\u001b[32m[I 2021-08-01 20:55:18,767]\u001b[0m Trial 66 finished with value: 2.769444973039345 and parameters: {'cost_min_beta_g1': 0.022009188079483422, 'cost_min_beta_g2': 0.09503968698580609, 'cost_min_beta_g3': 0.14800663214394127, 'cost_min_beta_g4': 0.3908285190759836}. Best is trial 53 with value: 2.741139130289481.\u001b[0m\n",
      "\u001b[32m[I 2021-08-01 20:55:19,909]\u001b[0m Trial 67 finished with value: 2.746261764857683 and parameters: {'cost_min_beta_g1': 0.06362121989011216, 'cost_min_beta_g2': 0.12898613509423684, 'cost_min_beta_g3': 0.184237969129696, 'cost_min_beta_g4': 0.4496584629482364}. Best is trial 53 with value: 2.741139130289481.\u001b[0m\n",
      "\u001b[32m[I 2021-08-01 20:55:21,052]\u001b[0m Trial 68 finished with value: 2.7781296667298836 and parameters: {'cost_min_beta_g1': 0.1624744045675361, 'cost_min_beta_g2': 0.08219190127966375, 'cost_min_beta_g3': 0.12218609894547673, 'cost_min_beta_g4': 0.11530452041980327}. Best is trial 53 with value: 2.741139130289481.\u001b[0m\n",
      "\u001b[32m[I 2021-08-01 20:55:22,197]\u001b[0m Trial 69 finished with value: 2.7427955928351833 and parameters: {'cost_min_beta_g1': 0.05052596983721708, 'cost_min_beta_g2': 0.029828492857247396, 'cost_min_beta_g3': 0.23357905126939024, 'cost_min_beta_g4': 0.4192077938440945}. Best is trial 53 with value: 2.741139130289481.\u001b[0m\n",
      "\u001b[32m[I 2021-08-01 20:55:23,339]\u001b[0m Trial 70 finished with value: 2.755562813064865 and parameters: {'cost_min_beta_g1': 0.07042466272524758, 'cost_min_beta_g2': 0.01146247054434785, 'cost_min_beta_g3': 0.21193903378482046, 'cost_min_beta_g4': 0.4384805581760423}. Best is trial 53 with value: 2.741139130289481.\u001b[0m\n",
      "\u001b[32m[I 2021-08-01 20:55:24,581]\u001b[0m Trial 71 finished with value: 2.788241128591398 and parameters: {'cost_min_beta_g1': 0.011617702662319783, 'cost_min_beta_g2': 0.06327671579526352, 'cost_min_beta_g3': 0.20079496235149394, 'cost_min_beta_g4': 0.37864888659863805}. Best is trial 53 with value: 2.741139130289481.\u001b[0m\n",
      "\u001b[32m[I 2021-08-01 20:55:25,725]\u001b[0m Trial 72 finished with value: 2.751934069062119 and parameters: {'cost_min_beta_g1': 0.03253712607423676, 'cost_min_beta_g2': 0.053292665351781884, 'cost_min_beta_g3': 0.15334756640962707, 'cost_min_beta_g4': 0.483492431542163}. Best is trial 53 with value: 2.741139130289481.\u001b[0m\n",
      "\u001b[32m[I 2021-08-01 20:55:26,869]\u001b[0m Trial 73 finished with value: 2.746370128756276 and parameters: {'cost_min_beta_g1': 0.04835316987370433, 'cost_min_beta_g2': 0.1031142882638339, 'cost_min_beta_g3': 0.18139894019096287, 'cost_min_beta_g4': 0.41113027175219746}. Best is trial 53 with value: 2.741139130289481.\u001b[0m\n",
      "\u001b[32m[I 2021-08-01 20:55:28,012]\u001b[0m Trial 74 finished with value: 2.7494408046318166 and parameters: {'cost_min_beta_g1': 0.10163051643576132, 'cost_min_beta_g2': 0.08690907616051109, 'cost_min_beta_g3': 0.12510283205028902, 'cost_min_beta_g4': 0.3688283575108487}. Best is trial 53 with value: 2.741139130289481.\u001b[0m\n",
      "\u001b[32m[I 2021-08-01 20:55:29,157]\u001b[0m Trial 75 finished with value: 2.7502266695377076 and parameters: {'cost_min_beta_g1': 0.11960662112040432, 'cost_min_beta_g2': 0.05439962137969516, 'cost_min_beta_g3': 0.20163725113810624, 'cost_min_beta_g4': 0.39813210924445486}. Best is trial 53 with value: 2.741139130289481.\u001b[0m\n",
      "\u001b[32m[I 2021-08-01 20:55:30,300]\u001b[0m Trial 76 finished with value: 2.7425748261321465 and parameters: {'cost_min_beta_g1': 0.07149396430295518, 'cost_min_beta_g2': 0.0313219310363028, 'cost_min_beta_g3': 0.19125450354899862, 'cost_min_beta_g4': 0.4532011494668457}. Best is trial 53 with value: 2.741139130289481.\u001b[0m\n",
      "\u001b[32m[I 2021-08-01 20:55:31,445]\u001b[0m Trial 77 finished with value: 2.741100733203795 and parameters: {'cost_min_beta_g1': 0.07355091665669816, 'cost_min_beta_g2': 0.03278769825702003, 'cost_min_beta_g3': 0.22301137890844777, 'cost_min_beta_g4': 0.4575481197384382}. Best is trial 77 with value: 2.741100733203795.\u001b[0m\n",
      "\u001b[32m[I 2021-08-01 20:55:32,590]\u001b[0m Trial 78 finished with value: 2.7566474045665457 and parameters: {'cost_min_beta_g1': 0.02874411934070399, 'cost_min_beta_g2': 0.023190386382588378, 'cost_min_beta_g3': 0.24573288119036063, 'cost_min_beta_g4': 0.45858123488522795}. Best is trial 77 with value: 2.741100733203795.\u001b[0m\n",
      "\u001b[32m[I 2021-08-01 20:55:33,735]\u001b[0m Trial 79 finished with value: 2.7511059926903676 and parameters: {'cost_min_beta_g1': 0.12705541838597603, 'cost_min_beta_g2': 0.07245262441271716, 'cost_min_beta_g3': 0.21932048583285452, 'cost_min_beta_g4': 0.44561954217537697}. Best is trial 77 with value: 2.741100733203795.\u001b[0m\n",
      "\u001b[32m[I 2021-08-01 20:55:34,880]\u001b[0m Trial 80 finished with value: 2.7494810364352373 and parameters: {'cost_min_beta_g1': 0.0672122567382501, 'cost_min_beta_g2': 0.14306496882241831, 'cost_min_beta_g3': 0.268218267236215, 'cost_min_beta_g4': 0.4210051821856808}. Best is trial 77 with value: 2.741100733203795.\u001b[0m\n",
      "\u001b[32m[I 2021-08-01 20:55:36,026]\u001b[0m Trial 81 finished with value: 2.742454194285789 and parameters: {'cost_min_beta_g1': 0.07467534867257763, 'cost_min_beta_g2': 0.028313174075439013, 'cost_min_beta_g3': 0.15694047804914857, 'cost_min_beta_g4': 0.4922896416809214}. Best is trial 77 with value: 2.741100733203795.\u001b[0m\n",
      "\u001b[32m[I 2021-08-01 20:55:37,168]\u001b[0m Trial 82 finished with value: 2.7434864760750926 and parameters: {'cost_min_beta_g1': 0.09916405896457287, 'cost_min_beta_g2': 0.03134383753152768, 'cost_min_beta_g3': 0.16256918252329078, 'cost_min_beta_g4': 0.48947142077705375}. Best is trial 77 with value: 2.741100733203795.\u001b[0m\n",
      "\u001b[32m[I 2021-08-01 20:55:38,317]\u001b[0m Trial 83 finished with value: 2.7583497770423517 and parameters: {'cost_min_beta_g1': 0.041020188348593854, 'cost_min_beta_g2': 0.01214240399707757, 'cost_min_beta_g3': 0.17877455348776422, 'cost_min_beta_g4': 0.46227857168067576}. Best is trial 77 with value: 2.741100733203795.\u001b[0m\n",
      "\u001b[32m[I 2021-08-01 20:55:39,460]\u001b[0m Trial 84 finished with value: 2.745355224732393 and parameters: {'cost_min_beta_g1': 0.07145708719644439, 'cost_min_beta_g2': 0.025425558499437343, 'cost_min_beta_g3': 0.19090983020893926, 'cost_min_beta_g4': 0.43336721260829275}. Best is trial 77 with value: 2.741100733203795.\u001b[0m\n",
      "\u001b[32m[I 2021-08-01 20:55:40,601]\u001b[0m Trial 85 finished with value: 2.740128489584543 and parameters: {'cost_min_beta_g1': 0.052780054129743154, 'cost_min_beta_g2': 0.08815859490965737, 'cost_min_beta_g3': 0.15521989652607251, 'cost_min_beta_g4': 0.497310451460202}. Best is trial 85 with value: 2.740128489584543.\u001b[0m\n",
      "\u001b[32m[I 2021-08-01 20:55:41,748]\u001b[0m Trial 86 finished with value: 2.84943196883012 and parameters: {'cost_min_beta_g1': 0.43456717985471405, 'cost_min_beta_g2': 0.12088573374978664, 'cost_min_beta_g3': 0.15456907537421008, 'cost_min_beta_g4': 0.4846164942627773}. Best is trial 85 with value: 2.740128489584543.\u001b[0m\n",
      "\u001b[32m[I 2021-08-01 20:55:42,890]\u001b[0m Trial 87 finished with value: 2.767082587713554 and parameters: {'cost_min_beta_g1': 0.053448541309462215, 'cost_min_beta_g2': 0.28166564211380846, 'cost_min_beta_g3': 0.21423107832507948, 'cost_min_beta_g4': 0.49835876909021776}. Best is trial 85 with value: 2.740128489584543.\u001b[0m\n",
      "\u001b[32m[I 2021-08-01 20:55:44,031]\u001b[0m Trial 88 finished with value: 2.744366760120031 and parameters: {'cost_min_beta_g1': 0.0929414127556912, 'cost_min_beta_g2': 0.08919781558244985, 'cost_min_beta_g3': 0.13544136975386278, 'cost_min_beta_g4': 0.4815709296521778}. Best is trial 85 with value: 2.740128489584543.\u001b[0m\n",
      "\u001b[32m[I 2021-08-01 20:55:45,174]\u001b[0m Trial 89 finished with value: 2.7751599132484572 and parameters: {'cost_min_beta_g1': 0.01795198934216482, 'cost_min_beta_g2': 0.07454036344747172, 'cost_min_beta_g3': 0.17407333420266366, 'cost_min_beta_g4': 0.4038020406456128}. Best is trial 85 with value: 2.740128489584543.\u001b[0m\n",
      "\u001b[32m[I 2021-08-01 20:55:46,319]\u001b[0m Trial 90 finished with value: 2.7441071970686344 and parameters: {'cost_min_beta_g1': 0.10764177571922756, 'cost_min_beta_g2': 0.05416597398752885, 'cost_min_beta_g3': 0.23147949545652, 'cost_min_beta_g4': 0.4984633835917688}. Best is trial 85 with value: 2.740128489584543.\u001b[0m\n",
      "\u001b[32m[I 2021-08-01 20:55:47,466]\u001b[0m Trial 91 finished with value: 2.7455339889856285 and parameters: {'cost_min_beta_g1': 0.07817695367766103, 'cost_min_beta_g2': 0.10314719932489749, 'cost_min_beta_g3': 0.16578458670072277, 'cost_min_beta_g4': 0.4581301242756796}. Best is trial 85 with value: 2.740128489584543.\u001b[0m\n",
      "\u001b[32m[I 2021-08-01 20:55:48,616]\u001b[0m Trial 92 finished with value: 2.7502261354410904 and parameters: {'cost_min_beta_g1': 0.03571999992561922, 'cost_min_beta_g2': 0.04935771430200398, 'cost_min_beta_g3': 0.19534728966964846, 'cost_min_beta_g4': 0.44894875205523566}. Best is trial 85 with value: 2.740128489584543.\u001b[0m\n",
      "\u001b[32m[I 2021-08-01 20:55:49,762]\u001b[0m Trial 93 finished with value: 2.7415813644641145 and parameters: {'cost_min_beta_g1': 0.05652670630710622, 'cost_min_beta_g2': 0.0361881148301136, 'cost_min_beta_g3': 0.1485036151658512, 'cost_min_beta_g4': 0.427347874780672}. Best is trial 85 with value: 2.740128489584543.\u001b[0m\n",
      "\u001b[32m[I 2021-08-01 20:55:50,911]\u001b[0m Trial 94 finished with value: 2.7418713767628615 and parameters: {'cost_min_beta_g1': 0.06085268166598988, 'cost_min_beta_g2': 0.08471830935120156, 'cost_min_beta_g3': 0.15751113461604382, 'cost_min_beta_g4': 0.4239279286891935}. Best is trial 85 with value: 2.740128489584543.\u001b[0m\n",
      "\u001b[32m[I 2021-08-01 20:55:52,056]\u001b[0m Trial 95 finished with value: 2.7442958574137712 and parameters: {'cost_min_beta_g1': 0.05696374980085846, 'cost_min_beta_g2': 0.09941318845372078, 'cost_min_beta_g3': 0.14964020211744106, 'cost_min_beta_g4': 0.4250552568386351}. Best is trial 85 with value: 2.740128489584543.\u001b[0m\n",
      "\u001b[32m[I 2021-08-01 20:55:53,198]\u001b[0m Trial 96 finished with value: 2.764567389283029 and parameters: {'cost_min_beta_g1': 0.02317133160252355, 'cost_min_beta_g2': 0.0709450752176218, 'cost_min_beta_g3': 0.12969931807430218, 'cost_min_beta_g4': 0.43893161902073496}. Best is trial 85 with value: 2.740128489584543.\u001b[0m\n",
      "\u001b[32m[I 2021-08-01 20:55:54,354]\u001b[0m Trial 97 finished with value: 2.7507078202129818 and parameters: {'cost_min_beta_g1': 0.04398861842356656, 'cost_min_beta_g2': 0.12322339401438591, 'cost_min_beta_g3': 0.21072652956945176, 'cost_min_beta_g4': 0.3904319225003008}. Best is trial 85 with value: 2.740128489584543.\u001b[0m\n",
      "\u001b[32m[I 2021-08-01 20:55:55,518]\u001b[0m Trial 98 finished with value: 2.7551307577100514 and parameters: {'cost_min_beta_g1': 0.05788526454861436, 'cost_min_beta_g2': 0.17404993966755675, 'cost_min_beta_g3': 0.11436268683823309, 'cost_min_beta_g4': 0.41185931469728987}. Best is trial 85 with value: 2.740128489584543.\u001b[0m\n",
      "\u001b[32m[I 2021-08-01 20:55:56,663]\u001b[0m Trial 99 finished with value: 2.756167978561277 and parameters: {'cost_min_beta_g1': 0.030200821621330462, 'cost_min_beta_g2': 0.0885206843048463, 'cost_min_beta_g3': 0.14186872457174815, 'cost_min_beta_g4': 0.42101531025074407}. Best is trial 85 with value: 2.740128489584543.\u001b[0m\n"
     ]
    },
    {
     "name": "stdout",
     "output_type": "stream",
     "text": [
      "{'cost_min_beta_g1': 0.052780054129743154, 'cost_min_beta_g2': 0.08815859490965737, 'cost_min_beta_g3': 0.15521989652607251, 'cost_min_beta_g4': 0.497310451460202}\n"
     ]
    }
   ],
   "source": [
    "study = optuna.create_study()\n",
    "study.optimize(cost_min_objective, n_trials=100)\n",
    "print(study.best_params)\n",
    "\n",
    "cost_min_beta_g1 = study.best_params['cost_min_beta_g1']\n",
    "cost_min_beta_g2 = study.best_params['cost_min_beta_g2']\n",
    "cost_min_beta_g3 = study.best_params['cost_min_beta_g3']\n",
    "cost_min_beta_g4 = study.best_params['cost_min_beta_g4']"
   ]
  },
  {
   "cell_type": "code",
   "execution_count": 32,
   "id": "composed-apparel",
   "metadata": {},
   "outputs": [
    {
     "name": "stdout",
     "output_type": "stream",
     "text": [
      "2.740128489584543\n"
     ]
    }
   ],
   "source": [
    "for g, w in zip([g1,g2,g3,g4],[cost_min_beta_g1, cost_min_beta_g2, cost_min_beta_g3, cost_min_beta_g4]):\n",
    "    phones = train[(train['collectionName'].isin(g))&(train['phoneName']!='Mi8')]['phone'].unique()\n",
    "    for phone in phones:\n",
    "        idx = train[train['phone']==phone].index\n",
    "        train.loc[idx, ['latDeg', 'lngDeg']] = cost_minimization(train.loc[idx], w)\n",
    "print(train_result(train[train['collectionName'].isin(target)]).score)"
   ]
  },
  {
   "cell_type": "markdown",
   "id": "bacterial-ancient",
   "metadata": {},
   "source": [
    "# phones_weighted_mean"
   ]
  },
  {
   "cell_type": "code",
   "execution_count": 33,
   "id": "olympic-voltage",
   "metadata": {},
   "outputs": [],
   "source": [
    "train_ = train[train['collectionName'].isin(target)].copy()"
   ]
  },
  {
   "cell_type": "code",
   "execution_count": 34,
   "id": "accredited-grocery",
   "metadata": {},
   "outputs": [],
   "source": [
    "def calc_mean_pred(df, ws):\n",
    "    '''\n",
    "    Generate interpolated lat,lng values for different phone times in the same collection.\n",
    "    '''\n",
    "    time_list = df[['collectionName', 'millisSinceGpsEpoch']].drop_duplicates()\n",
    "    phone_list = df[['collectionName', 'phoneName']].drop_duplicates()\n",
    "    tmp = time_list.merge(phone_list, on='collectionName', how='outer')\n",
    "    tmp['phone'] = tmp['collectionName'] + '_' + tmp['phoneName']\n",
    "    tmp = tmp.merge(df, on=['collectionName', 'phoneName', 'phone', 'millisSinceGpsEpoch'], how='left')\n",
    "    \n",
    "    lerp_df = pd.DataFrame()\n",
    "    for phone in tmp['phone'].unique():\n",
    "        lerp_tmp = tmp[tmp['phone']==phone].copy()\n",
    "        lerp_tmp = lerp_tmp.sort_values('millisSinceGpsEpoch')\n",
    "        lerp_tmp = lerp_tmp.set_index('millisSinceGpsEpoch')\n",
    "        lerp_tmp[['latDeg', 'lngDeg']] = lerp_tmp[['latDeg', 'lngDeg']].interpolate(method='index', limit_area='inside')\n",
    "        lerp_tmp = lerp_tmp.reset_index()\n",
    "        lerp_df = lerp_df.append(lerp_tmp)\n",
    "    \n",
    "    lerp_df['w'] = lerp_df['phoneName'].replace(ws)\n",
    "    lerp_df.loc[lerp_df['latDeg'].isnull(), 'w'] = np.nan\n",
    "    lerp_df['w_sum'] = lerp_df.groupby(['collectionName', 'millisSinceGpsEpoch'])['w'].transform('sum')\n",
    "    lerp_df['w'] = lerp_df['w'] / lerp_df['w_sum']\n",
    "    lerp_df['latDeg'] = lerp_df['latDeg'] * lerp_df['w']\n",
    "    lerp_df['lngDeg'] = lerp_df['lngDeg'] * lerp_df['w']\n",
    "    mean_pred = lerp_df.groupby(['collectionName', 'millisSinceGpsEpoch'])['latDeg', 'lngDeg'].sum().reset_index()\n",
    "    \n",
    "    output_df = df[['collectionName', 'phoneName', 'millisSinceGpsEpoch']].copy()\n",
    "    output_df = output_df.merge(mean_pred[['collectionName', 'millisSinceGpsEpoch', 'latDeg', 'lngDeg']], on=['collectionName', 'millisSinceGpsEpoch'], how='left')\n",
    "    return output_df"
   ]
  },
  {
   "cell_type": "code",
   "execution_count": 35,
   "id": "rural-occasions",
   "metadata": {},
   "outputs": [],
   "source": [
    "def phones_mean_objective(trial):\n",
    "    Pixel4 = trial.suggest_int('Pixel4', 1, 10)\n",
    "    Pixel4XLModded = trial.suggest_int('Pixel4XLModded', 1, 10)\n",
    "    Pixel4XL = trial.suggest_int('Pixel4XL', 1, 10)\n",
    "    Mi8 = trial.suggest_int('Mi8', 1, 10)\n",
    "    Pixel4Modded = trial.suggest_int('Pixel4Modded', 1, 10)\n",
    "    Pixel5 = trial.suggest_int('Pixel5', 1, 10)\n",
    "    SamsungS20Ultra = trial.suggest_int('SamsungS20Ultra', 1, 10)\n",
    "    \n",
    "    ws = {'Pixel4':Pixel4, 'Pixel4XLModded':Pixel4XLModded, 'Pixel4XL':Pixel4XL, 'Mi8':Mi8, 'Pixel4Modded':Pixel4Modded,\n",
    "          'Pixel5':Pixel5, 'SamsungS20Ultra':SamsungS20Ultra}\n",
    "    \n",
    "    out = calc_mean_pred(train_, ws)\n",
    "    score = train_result(out).score\n",
    "    \n",
    "    return score"
   ]
  },
  {
   "cell_type": "code",
   "execution_count": 36,
   "id": "compatible-evaluation",
   "metadata": {},
   "outputs": [
    {
     "name": "stderr",
     "output_type": "stream",
     "text": [
      "\u001b[32m[I 2021-08-01 20:55:57,846]\u001b[0m A new study created in memory with name: no-name-26edfda5-bbc9-4e32-b7af-5cbf58c94edb\u001b[0m\n",
      "/opt/conda/lib/python3.7/site-packages/ipykernel_launcher.py:26: FutureWarning: Indexing with multiple keys (implicitly converted to a tuple of keys) will be deprecated, use a list instead.\n",
      "\u001b[32m[I 2021-08-01 20:56:02,670]\u001b[0m Trial 0 finished with value: 2.305365660524961 and parameters: {'Pixel4': 2, 'Pixel4XLModded': 7, 'Pixel4XL': 2, 'Mi8': 4, 'Pixel4Modded': 8, 'Pixel5': 4, 'SamsungS20Ultra': 3}. Best is trial 0 with value: 2.305365660524961.\u001b[0m\n",
      "\u001b[32m[I 2021-08-01 20:56:07,424]\u001b[0m Trial 1 finished with value: 2.6154779357120366 and parameters: {'Pixel4': 1, 'Pixel4XLModded': 5, 'Pixel4XL': 9, 'Mi8': 8, 'Pixel4Modded': 1, 'Pixel5': 8, 'SamsungS20Ultra': 7}. Best is trial 0 with value: 2.305365660524961.\u001b[0m\n",
      "\u001b[32m[I 2021-08-01 20:56:12,327]\u001b[0m Trial 2 finished with value: 2.3933029501898666 and parameters: {'Pixel4': 8, 'Pixel4XLModded': 6, 'Pixel4XL': 3, 'Mi8': 4, 'Pixel4Modded': 2, 'Pixel5': 3, 'SamsungS20Ultra': 2}. Best is trial 0 with value: 2.305365660524961.\u001b[0m\n",
      "\u001b[32m[I 2021-08-01 20:56:17,146]\u001b[0m Trial 3 finished with value: 2.476357934357425 and parameters: {'Pixel4': 1, 'Pixel4XLModded': 8, 'Pixel4XL': 4, 'Mi8': 4, 'Pixel4Modded': 5, 'Pixel5': 1, 'SamsungS20Ultra': 3}. Best is trial 0 with value: 2.305365660524961.\u001b[0m\n",
      "\u001b[32m[I 2021-08-01 20:56:21,979]\u001b[0m Trial 4 finished with value: 2.42252460576483 and parameters: {'Pixel4': 5, 'Pixel4XLModded': 8, 'Pixel4XL': 4, 'Mi8': 7, 'Pixel4Modded': 1, 'Pixel5': 7, 'SamsungS20Ultra': 4}. Best is trial 0 with value: 2.305365660524961.\u001b[0m\n",
      "\u001b[32m[I 2021-08-01 20:56:26,724]\u001b[0m Trial 5 finished with value: 2.3924201400104708 and parameters: {'Pixel4': 7, 'Pixel4XLModded': 5, 'Pixel4XL': 4, 'Mi8': 8, 'Pixel4Modded': 1, 'Pixel5': 6, 'SamsungS20Ultra': 4}. Best is trial 0 with value: 2.305365660524961.\u001b[0m\n",
      "\u001b[32m[I 2021-08-01 20:56:31,507]\u001b[0m Trial 6 finished with value: 2.39048794133446 and parameters: {'Pixel4': 7, 'Pixel4XLModded': 1, 'Pixel4XL': 6, 'Mi8': 3, 'Pixel4Modded': 4, 'Pixel5': 1, 'SamsungS20Ultra': 3}. Best is trial 0 with value: 2.305365660524961.\u001b[0m\n",
      "\u001b[32m[I 2021-08-01 20:56:36,485]\u001b[0m Trial 7 finished with value: 2.4151143400728543 and parameters: {'Pixel4': 8, 'Pixel4XLModded': 5, 'Pixel4XL': 3, 'Mi8': 1, 'Pixel4Modded': 6, 'Pixel5': 1, 'SamsungS20Ultra': 10}. Best is trial 0 with value: 2.305365660524961.\u001b[0m\n",
      "\u001b[32m[I 2021-08-01 20:56:41,440]\u001b[0m Trial 8 finished with value: 2.412580214574646 and parameters: {'Pixel4': 4, 'Pixel4XLModded': 7, 'Pixel4XL': 2, 'Mi8': 6, 'Pixel4Modded': 4, 'Pixel5': 3, 'SamsungS20Ultra': 10}. Best is trial 0 with value: 2.305365660524961.\u001b[0m\n",
      "\u001b[32m[I 2021-08-01 20:56:46,311]\u001b[0m Trial 9 finished with value: 2.3274045799937313 and parameters: {'Pixel4': 9, 'Pixel4XLModded': 3, 'Pixel4XL': 2, 'Mi8': 4, 'Pixel4Modded': 10, 'Pixel5': 8, 'SamsungS20Ultra': 9}. Best is trial 0 with value: 2.305365660524961.\u001b[0m\n",
      "\u001b[32m[I 2021-08-01 20:56:51,301]\u001b[0m Trial 10 finished with value: 2.3576850572315418 and parameters: {'Pixel4': 3, 'Pixel4XLModded': 10, 'Pixel4XL': 9, 'Mi8': 1, 'Pixel4Modded': 9, 'Pixel5': 10, 'SamsungS20Ultra': 1}. Best is trial 0 with value: 2.305365660524961.\u001b[0m\n",
      "\u001b[32m[I 2021-08-01 20:56:56,175]\u001b[0m Trial 11 finished with value: 2.3558924061156348 and parameters: {'Pixel4': 10, 'Pixel4XLModded': 2, 'Pixel4XL': 1, 'Mi8': 3, 'Pixel4Modded': 10, 'Pixel5': 9, 'SamsungS20Ultra': 7}. Best is trial 0 with value: 2.305365660524961.\u001b[0m\n",
      "\u001b[32m[I 2021-08-01 20:57:01,169]\u001b[0m Trial 12 finished with value: 2.3541710790680077 and parameters: {'Pixel4': 10, 'Pixel4XLModded': 3, 'Pixel4XL': 1, 'Mi8': 5, 'Pixel4Modded': 8, 'Pixel5': 4, 'SamsungS20Ultra': 8}. Best is trial 0 with value: 2.305365660524961.\u001b[0m\n",
      "\u001b[32m[I 2021-08-01 20:57:06,193]\u001b[0m Trial 13 finished with value: 2.31784765018719 and parameters: {'Pixel4': 3, 'Pixel4XLModded': 3, 'Pixel4XL': 6, 'Mi8': 2, 'Pixel4Modded': 8, 'Pixel5': 5, 'SamsungS20Ultra': 5}. Best is trial 0 with value: 2.305365660524961.\u001b[0m\n",
      "\u001b[32m[I 2021-08-01 20:57:11,448]\u001b[0m Trial 14 finished with value: 2.4224260564722933 and parameters: {'Pixel4': 2, 'Pixel4XLModded': 10, 'Pixel4XL': 7, 'Mi8': 10, 'Pixel4Modded': 7, 'Pixel5': 5, 'SamsungS20Ultra': 5}. Best is trial 0 with value: 2.305365660524961.\u001b[0m\n",
      "\u001b[32m[I 2021-08-01 20:57:16,389]\u001b[0m Trial 15 finished with value: 2.3411192433873187 and parameters: {'Pixel4': 3, 'Pixel4XLModded': 3, 'Pixel4XL': 7, 'Mi8': 2, 'Pixel4Modded': 8, 'Pixel5': 5, 'SamsungS20Ultra': 6}. Best is trial 0 with value: 2.305365660524961.\u001b[0m\n",
      "\u001b[32m[I 2021-08-01 20:57:21,301]\u001b[0m Trial 16 finished with value: 2.322519712396741 and parameters: {'Pixel4': 2, 'Pixel4XLModded': 7, 'Pixel4XL': 6, 'Mi8': 2, 'Pixel4Modded': 7, 'Pixel5': 3, 'SamsungS20Ultra': 1}. Best is trial 0 with value: 2.305365660524961.\u001b[0m\n",
      "\u001b[32m[I 2021-08-01 20:57:26,267]\u001b[0m Trial 17 finished with value: 2.312440966895777 and parameters: {'Pixel4': 5, 'Pixel4XLModded': 4, 'Pixel4XL': 8, 'Mi8': 2, 'Pixel4Modded': 9, 'Pixel5': 6, 'SamsungS20Ultra': 5}. Best is trial 0 with value: 2.305365660524961.\u001b[0m\n",
      "\u001b[32m[I 2021-08-01 20:57:31,252]\u001b[0m Trial 18 finished with value: 2.3370662553701003 and parameters: {'Pixel4': 5, 'Pixel4XLModded': 9, 'Pixel4XL': 10, 'Mi8': 5, 'Pixel4Modded': 9, 'Pixel5': 6, 'SamsungS20Ultra': 3}. Best is trial 0 with value: 2.305365660524961.\u001b[0m\n",
      "\u001b[32m[I 2021-08-01 20:57:36,174]\u001b[0m Trial 19 finished with value: 2.3055920059960506 and parameters: {'Pixel4': 6, 'Pixel4XLModded': 4, 'Pixel4XL': 8, 'Mi8': 3, 'Pixel4Modded': 10, 'Pixel5': 4, 'SamsungS20Ultra': 6}. Best is trial 0 with value: 2.305365660524961.\u001b[0m\n",
      "\u001b[32m[I 2021-08-01 20:57:41,142]\u001b[0m Trial 20 finished with value: 2.360296990833883 and parameters: {'Pixel4': 6, 'Pixel4XLModded': 7, 'Pixel4XL': 10, 'Mi8': 6, 'Pixel4Modded': 10, 'Pixel5': 2, 'SamsungS20Ultra': 7}. Best is trial 0 with value: 2.305365660524961.\u001b[0m\n",
      "\u001b[32m[I 2021-08-01 20:57:46,025]\u001b[0m Trial 21 finished with value: 2.3145775769229875 and parameters: {'Pixel4': 6, 'Pixel4XLModded': 4, 'Pixel4XL': 8, 'Mi8': 3, 'Pixel4Modded': 9, 'Pixel5': 4, 'SamsungS20Ultra': 6}. Best is trial 0 with value: 2.305365660524961.\u001b[0m\n",
      "\u001b[32m[I 2021-08-01 20:57:50,780]\u001b[0m Trial 22 finished with value: 2.3192567506668027 and parameters: {'Pixel4': 4, 'Pixel4XLModded': 4, 'Pixel4XL': 8, 'Mi8': 1, 'Pixel4Modded': 10, 'Pixel5': 4, 'SamsungS20Ultra': 4}. Best is trial 0 with value: 2.305365660524961.\u001b[0m\n",
      "\u001b[32m[I 2021-08-01 20:57:55,496]\u001b[0m Trial 23 finished with value: 2.344061449267347 and parameters: {'Pixel4': 4, 'Pixel4XLModded': 6, 'Pixel4XL': 8, 'Mi8': 3, 'Pixel4Modded': 7, 'Pixel5': 7, 'SamsungS20Ultra': 5}. Best is trial 0 with value: 2.305365660524961.\u001b[0m\n",
      "\u001b[32m[I 2021-08-01 20:58:00,162]\u001b[0m Trial 24 finished with value: 2.3030399412394393 and parameters: {'Pixel4': 7, 'Pixel4XLModded': 4, 'Pixel4XL': 9, 'Mi8': 4, 'Pixel4Modded': 9, 'Pixel5': 6, 'SamsungS20Ultra': 2}. Best is trial 24 with value: 2.3030399412394393.\u001b[0m\n",
      "\u001b[32m[I 2021-08-01 20:58:04,869]\u001b[0m Trial 25 finished with value: 2.3123317263997683 and parameters: {'Pixel4': 7, 'Pixel4XLModded': 1, 'Pixel4XL': 9, 'Mi8': 5, 'Pixel4Modded': 8, 'Pixel5': 4, 'SamsungS20Ultra': 2}. Best is trial 24 with value: 2.3030399412394393.\u001b[0m\n",
      "\u001b[32m[I 2021-08-01 20:58:09,645]\u001b[0m Trial 26 finished with value: 2.376828773025108 and parameters: {'Pixel4': 8, 'Pixel4XLModded': 6, 'Pixel4XL': 10, 'Mi8': 4, 'Pixel4Modded': 6, 'Pixel5': 2, 'SamsungS20Ultra': 2}. Best is trial 24 with value: 2.3030399412394393.\u001b[0m\n",
      "\u001b[32m[I 2021-08-01 20:58:14,504]\u001b[0m Trial 27 finished with value: 2.273620613700757 and parameters: {'Pixel4': 6, 'Pixel4XLModded': 2, 'Pixel4XL': 5, 'Mi8': 4, 'Pixel4Modded': 9, 'Pixel5': 7, 'SamsungS20Ultra': 1}. Best is trial 27 with value: 2.273620613700757.\u001b[0m\n",
      "\u001b[32m[I 2021-08-01 20:58:19,304]\u001b[0m Trial 28 finished with value: 2.2882821249587066 and parameters: {'Pixel4': 9, 'Pixel4XLModded': 2, 'Pixel4XL': 5, 'Mi8': 6, 'Pixel4Modded': 9, 'Pixel5': 7, 'SamsungS20Ultra': 1}. Best is trial 27 with value: 2.273620613700757.\u001b[0m\n",
      "\u001b[32m[I 2021-08-01 20:58:24,025]\u001b[0m Trial 29 finished with value: 2.287687233374284 and parameters: {'Pixel4': 9, 'Pixel4XLModded': 2, 'Pixel4XL': 5, 'Mi8': 7, 'Pixel4Modded': 9, 'Pixel5': 7, 'SamsungS20Ultra': 1}. Best is trial 27 with value: 2.273620613700757.\u001b[0m\n",
      "\u001b[32m[I 2021-08-01 20:58:28,742]\u001b[0m Trial 30 finished with value: 2.3098129885011676 and parameters: {'Pixel4': 9, 'Pixel4XLModded': 2, 'Pixel4XL': 5, 'Mi8': 7, 'Pixel4Modded': 7, 'Pixel5': 8, 'SamsungS20Ultra': 1}. Best is trial 27 with value: 2.273620613700757.\u001b[0m\n",
      "\u001b[32m[I 2021-08-01 20:58:33,449]\u001b[0m Trial 31 finished with value: 2.287687233374284 and parameters: {'Pixel4': 9, 'Pixel4XLModded': 2, 'Pixel4XL': 5, 'Mi8': 7, 'Pixel4Modded': 9, 'Pixel5': 7, 'SamsungS20Ultra': 1}. Best is trial 27 with value: 2.273620613700757.\u001b[0m\n",
      "\u001b[32m[I 2021-08-01 20:58:38,164]\u001b[0m Trial 32 finished with value: 2.298091959473349 and parameters: {'Pixel4': 9, 'Pixel4XLModded': 2, 'Pixel4XL': 5, 'Mi8': 8, 'Pixel4Modded': 8, 'Pixel5': 7, 'SamsungS20Ultra': 1}. Best is trial 27 with value: 2.273620613700757.\u001b[0m\n",
      "\u001b[32m[I 2021-08-01 20:58:42,873]\u001b[0m Trial 33 finished with value: 2.2994910076357002 and parameters: {'Pixel4': 10, 'Pixel4XLModded': 1, 'Pixel4XL': 5, 'Mi8': 7, 'Pixel4Modded': 9, 'Pixel5': 8, 'SamsungS20Ultra': 1}. Best is trial 27 with value: 2.273620613700757.\u001b[0m\n",
      "\u001b[32m[I 2021-08-01 20:58:47,698]\u001b[0m Trial 34 finished with value: 2.278604073798393 and parameters: {'Pixel4': 9, 'Pixel4XLModded': 2, 'Pixel4XL': 3, 'Mi8': 9, 'Pixel4Modded': 10, 'Pixel5': 9, 'SamsungS20Ultra': 2}. Best is trial 27 with value: 2.273620613700757.\u001b[0m\n",
      "\u001b[32m[I 2021-08-01 20:58:52,493]\u001b[0m Trial 35 finished with value: 2.280416689344934 and parameters: {'Pixel4': 8, 'Pixel4XLModded': 1, 'Pixel4XL': 3, 'Mi8': 10, 'Pixel4Modded': 10, 'Pixel5': 10, 'SamsungS20Ultra': 2}. Best is trial 27 with value: 2.273620613700757.\u001b[0m\n",
      "\u001b[32m[I 2021-08-01 20:58:57,329]\u001b[0m Trial 36 finished with value: 2.2805978692318685 and parameters: {'Pixel4': 8, 'Pixel4XLModded': 1, 'Pixel4XL': 3, 'Mi8': 10, 'Pixel4Modded': 10, 'Pixel5': 10, 'SamsungS20Ultra': 3}. Best is trial 27 with value: 2.273620613700757.\u001b[0m\n",
      "\u001b[32m[I 2021-08-01 20:59:02,084]\u001b[0m Trial 37 finished with value: 2.2805978692318685 and parameters: {'Pixel4': 8, 'Pixel4XLModded': 1, 'Pixel4XL': 3, 'Mi8': 10, 'Pixel4Modded': 10, 'Pixel5': 10, 'SamsungS20Ultra': 3}. Best is trial 27 with value: 2.273620613700757.\u001b[0m\n",
      "\u001b[32m[I 2021-08-01 20:59:06,843]\u001b[0m Trial 38 finished with value: 2.277424584025658 and parameters: {'Pixel4': 8, 'Pixel4XLModded': 1, 'Pixel4XL': 4, 'Mi8': 9, 'Pixel4Modded': 10, 'Pixel5': 9, 'SamsungS20Ultra': 2}. Best is trial 27 with value: 2.273620613700757.\u001b[0m\n",
      "\u001b[32m[I 2021-08-01 20:59:11,601]\u001b[0m Trial 39 finished with value: 2.3698790929207854 and parameters: {'Pixel4': 7, 'Pixel4XLModded': 1, 'Pixel4XL': 4, 'Mi8': 9, 'Pixel4Modded': 2, 'Pixel5': 9, 'SamsungS20Ultra': 2}. Best is trial 27 with value: 2.273620613700757.\u001b[0m\n",
      "\u001b[32m[I 2021-08-01 20:59:16,364]\u001b[0m Trial 40 finished with value: 2.2773467908433154 and parameters: {'Pixel4': 8, 'Pixel4XLModded': 3, 'Pixel4XL': 4, 'Mi8': 9, 'Pixel4Modded': 10, 'Pixel5': 9, 'SamsungS20Ultra': 2}. Best is trial 27 with value: 2.273620613700757.\u001b[0m\n",
      "\u001b[32m[I 2021-08-01 20:59:21,122]\u001b[0m Trial 41 finished with value: 2.2773467908433154 and parameters: {'Pixel4': 8, 'Pixel4XLModded': 3, 'Pixel4XL': 4, 'Mi8': 9, 'Pixel4Modded': 10, 'Pixel5': 9, 'SamsungS20Ultra': 2}. Best is trial 27 with value: 2.273620613700757.\u001b[0m\n",
      "\u001b[32m[I 2021-08-01 20:59:25,888]\u001b[0m Trial 42 finished with value: 2.2773467908433154 and parameters: {'Pixel4': 8, 'Pixel4XLModded': 3, 'Pixel4XL': 4, 'Mi8': 9, 'Pixel4Modded': 10, 'Pixel5': 9, 'SamsungS20Ultra': 2}. Best is trial 27 with value: 2.273620613700757.\u001b[0m\n",
      "\u001b[32m[I 2021-08-01 20:59:30,920]\u001b[0m Trial 43 finished with value: 2.2823597328740264 and parameters: {'Pixel4': 7, 'Pixel4XLModded': 3, 'Pixel4XL': 4, 'Mi8': 9, 'Pixel4Modded': 10, 'Pixel5': 9, 'SamsungS20Ultra': 4}. Best is trial 27 with value: 2.273620613700757.\u001b[0m\n",
      "\u001b[32m[I 2021-08-01 20:59:35,961]\u001b[0m Trial 44 finished with value: 2.277349379031607 and parameters: {'Pixel4': 8, 'Pixel4XLModded': 3, 'Pixel4XL': 4, 'Mi8': 8, 'Pixel4Modded': 10, 'Pixel5': 9, 'SamsungS20Ultra': 3}. Best is trial 27 with value: 2.273620613700757.\u001b[0m\n",
      "\u001b[32m[I 2021-08-01 20:59:40,875]\u001b[0m Trial 45 finished with value: 2.293522719377049 and parameters: {'Pixel4': 7, 'Pixel4XLModded': 3, 'Pixel4XL': 2, 'Mi8': 8, 'Pixel4Modded': 9, 'Pixel5': 9, 'SamsungS20Ultra': 4}. Best is trial 27 with value: 2.273620613700757.\u001b[0m\n",
      "\u001b[32m[I 2021-08-01 20:59:45,953]\u001b[0m Trial 46 finished with value: 2.367548031808295 and parameters: {'Pixel4': 6, 'Pixel4XLModded': 5, 'Pixel4XL': 4, 'Mi8': 8, 'Pixel4Modded': 3, 'Pixel5': 8, 'SamsungS20Ultra': 3}. Best is trial 27 with value: 2.273620613700757.\u001b[0m\n",
      "\u001b[32m[I 2021-08-01 20:59:50,860]\u001b[0m Trial 47 finished with value: 2.2947644265277085 and parameters: {'Pixel4': 8, 'Pixel4XLModded': 3, 'Pixel4XL': 4, 'Mi8': 9, 'Pixel4Modded': 8, 'Pixel5': 8, 'SamsungS20Ultra': 3}. Best is trial 27 with value: 2.273620613700757.\u001b[0m\n",
      "\u001b[32m[I 2021-08-01 20:59:55,916]\u001b[0m Trial 48 finished with value: 2.2836025169370404 and parameters: {'Pixel4': 7, 'Pixel4XLModded': 5, 'Pixel4XL': 6, 'Mi8': 8, 'Pixel4Modded': 10, 'Pixel5': 10, 'SamsungS20Ultra': 2}. Best is trial 27 with value: 2.273620613700757.\u001b[0m\n",
      "\u001b[32m[I 2021-08-01 21:00:00,882]\u001b[0m Trial 49 finished with value: 2.2839389603219846 and parameters: {'Pixel4': 10, 'Pixel4XLModded': 3, 'Pixel4XL': 3, 'Mi8': 9, 'Pixel4Modded': 10, 'Pixel5': 9, 'SamsungS20Ultra': 3}. Best is trial 27 with value: 2.273620613700757.\u001b[0m\n",
      "\u001b[32m[I 2021-08-01 21:00:06,035]\u001b[0m Trial 50 finished with value: 2.299753863564073 and parameters: {'Pixel4': 8, 'Pixel4XLModded': 4, 'Pixel4XL': 4, 'Mi8': 10, 'Pixel4Modded': 8, 'Pixel5': 10, 'SamsungS20Ultra': 2}. Best is trial 27 with value: 2.273620613700757.\u001b[0m\n",
      "\u001b[32m[I 2021-08-01 21:00:11,034]\u001b[0m Trial 51 finished with value: 2.2760662681025097 and parameters: {'Pixel4': 8, 'Pixel4XLModded': 2, 'Pixel4XL': 4, 'Mi8': 9, 'Pixel4Modded': 10, 'Pixel5': 9, 'SamsungS20Ultra': 2}. Best is trial 27 with value: 2.273620613700757.\u001b[0m\n",
      "\u001b[32m[I 2021-08-01 21:00:15,892]\u001b[0m Trial 52 finished with value: 2.283478489646028 and parameters: {'Pixel4': 8, 'Pixel4XLModded': 3, 'Pixel4XL': 2, 'Mi8': 8, 'Pixel4Modded': 9, 'Pixel5': 8, 'SamsungS20Ultra': 3}. Best is trial 27 with value: 2.273620613700757.\u001b[0m\n",
      "\u001b[32m[I 2021-08-01 21:00:20,855]\u001b[0m Trial 53 finished with value: 2.271292184669052 and parameters: {'Pixel4': 6, 'Pixel4XLModded': 2, 'Pixel4XL': 4, 'Mi8': 9, 'Pixel4Modded': 10, 'Pixel5': 9, 'SamsungS20Ultra': 2}. Best is trial 53 with value: 2.271292184669052.\u001b[0m\n",
      "\u001b[32m[I 2021-08-01 21:00:25,720]\u001b[0m Trial 54 finished with value: 2.3257955292792927 and parameters: {'Pixel4': 6, 'Pixel4XLModded': 2, 'Pixel4XL': 4, 'Mi8': 9, 'Pixel4Modded': 5, 'Pixel5': 8, 'SamsungS20Ultra': 2}. Best is trial 53 with value: 2.271292184669052.\u001b[0m\n",
      "\u001b[32m[I 2021-08-01 21:00:30,719]\u001b[0m Trial 55 finished with value: 2.300650500791917 and parameters: {'Pixel4': 5, 'Pixel4XLModded': 2, 'Pixel4XL': 6, 'Mi8': 10, 'Pixel4Modded': 9, 'Pixel5': 9, 'SamsungS20Ultra': 1}. Best is trial 53 with value: 2.271292184669052.\u001b[0m\n",
      "\u001b[32m[I 2021-08-01 21:00:35,547]\u001b[0m Trial 56 finished with value: 2.281942788964424 and parameters: {'Pixel4': 6, 'Pixel4XLModded': 2, 'Pixel4XL': 3, 'Mi8': 9, 'Pixel4Modded': 10, 'Pixel5': 10, 'SamsungS20Ultra': 4}. Best is trial 53 with value: 2.271292184669052.\u001b[0m\n",
      "\u001b[32m[I 2021-08-01 21:00:40,539]\u001b[0m Trial 57 finished with value: 2.284989949606521 and parameters: {'Pixel4': 7, 'Pixel4XLModded': 4, 'Pixel4XL': 5, 'Mi8': 10, 'Pixel4Modded': 10, 'Pixel5': 9, 'SamsungS20Ultra': 1}. Best is trial 53 with value: 2.271292184669052.\u001b[0m\n",
      "\u001b[32m[I 2021-08-01 21:00:45,368]\u001b[0m Trial 58 finished with value: 2.2777353428779397 and parameters: {'Pixel4': 5, 'Pixel4XLModded': 3, 'Pixel4XL': 4, 'Mi8': 9, 'Pixel4Modded': 9, 'Pixel5': 8, 'SamsungS20Ultra': 2}. Best is trial 53 with value: 2.271292184669052.\u001b[0m\n",
      "\u001b[32m[I 2021-08-01 21:00:50,325]\u001b[0m Trial 59 finished with value: 2.277576934029254 and parameters: {'Pixel4': 7, 'Pixel4XLModded': 2, 'Pixel4XL': 2, 'Mi8': 8, 'Pixel4Modded': 10, 'Pixel5': 10, 'SamsungS20Ultra': 3}. Best is trial 53 with value: 2.271292184669052.\u001b[0m\n",
      "\u001b[32m[I 2021-08-01 21:00:55,210]\u001b[0m Trial 60 finished with value: 2.2825793340370812 and parameters: {'Pixel4': 6, 'Pixel4XLModded': 4, 'Pixel4XL': 5, 'Mi8': 9, 'Pixel4Modded': 9, 'Pixel5': 8, 'SamsungS20Ultra': 2}. Best is trial 53 with value: 2.271292184669052.\u001b[0m\n",
      "\u001b[32m[I 2021-08-01 21:01:00,138]\u001b[0m Trial 61 finished with value: 2.2805198514689047 and parameters: {'Pixel4': 8, 'Pixel4XLModded': 3, 'Pixel4XL': 4, 'Mi8': 8, 'Pixel4Modded': 10, 'Pixel5': 9, 'SamsungS20Ultra': 1}. Best is trial 53 with value: 2.271292184669052.\u001b[0m\n",
      "\u001b[32m[I 2021-08-01 21:01:05,035]\u001b[0m Trial 62 finished with value: 2.2792600333877435 and parameters: {'Pixel4': 8, 'Pixel4XLModded': 3, 'Pixel4XL': 4, 'Mi8': 10, 'Pixel4Modded': 10, 'Pixel5': 9, 'SamsungS20Ultra': 2}. Best is trial 53 with value: 2.271292184669052.\u001b[0m\n",
      "\u001b[32m[I 2021-08-01 21:01:09,983]\u001b[0m Trial 63 finished with value: 2.294479693615674 and parameters: {'Pixel4': 9, 'Pixel4XLModded': 2, 'Pixel4XL': 3, 'Mi8': 9, 'Pixel4Modded': 9, 'Pixel5': 10, 'SamsungS20Ultra': 1}. Best is trial 53 with value: 2.271292184669052.\u001b[0m\n",
      "\u001b[32m[I 2021-08-01 21:01:14,882]\u001b[0m Trial 64 finished with value: 2.2738730477506888 and parameters: {'Pixel4': 7, 'Pixel4XLModded': 3, 'Pixel4XL': 4, 'Mi8': 8, 'Pixel4Modded': 10, 'Pixel5': 9, 'SamsungS20Ultra': 3}. Best is trial 53 with value: 2.271292184669052.\u001b[0m\n",
      "\u001b[32m[I 2021-08-01 21:01:19,801]\u001b[0m Trial 65 finished with value: 2.279183870313363 and parameters: {'Pixel4': 7, 'Pixel4XLModded': 4, 'Pixel4XL': 5, 'Mi8': 4, 'Pixel4Modded': 10, 'Pixel5': 9, 'SamsungS20Ultra': 2}. Best is trial 53 with value: 2.271292184669052.\u001b[0m\n",
      "\u001b[32m[I 2021-08-01 21:01:24,707]\u001b[0m Trial 66 finished with value: 2.279859911189757 and parameters: {'Pixel4': 6, 'Pixel4XLModded': 3, 'Pixel4XL': 6, 'Mi8': 6, 'Pixel4Modded': 10, 'Pixel5': 8, 'SamsungS20Ultra': 4}. Best is trial 53 with value: 2.271292184669052.\u001b[0m\n",
      "\u001b[32m[I 2021-08-01 21:01:29,558]\u001b[0m Trial 67 finished with value: 2.2775552306966396 and parameters: {'Pixel4': 7, 'Pixel4XLModded': 2, 'Pixel4XL': 5, 'Mi8': 5, 'Pixel4Modded': 9, 'Pixel5': 7, 'SamsungS20Ultra': 1}. Best is trial 53 with value: 2.271292184669052.\u001b[0m\n",
      "\u001b[32m[I 2021-08-01 21:01:34,511]\u001b[0m Trial 68 finished with value: 2.277080868311265 and parameters: {'Pixel4': 5, 'Pixel4XLModded': 3, 'Pixel4XL': 3, 'Mi8': 7, 'Pixel4Modded': 8, 'Pixel5': 9, 'SamsungS20Ultra': 2}. Best is trial 53 with value: 2.271292184669052.\u001b[0m\n",
      "\u001b[32m[I 2021-08-01 21:01:39,330]\u001b[0m Trial 69 finished with value: 2.2801463957295485 and parameters: {'Pixel4': 5, 'Pixel4XLModded': 2, 'Pixel4XL': 3, 'Mi8': 7, 'Pixel4Modded': 8, 'Pixel5': 10, 'SamsungS20Ultra': 2}. Best is trial 53 with value: 2.271292184669052.\u001b[0m\n",
      "\u001b[32m[I 2021-08-01 21:01:44,363]\u001b[0m Trial 70 finished with value: 2.3068415324146487 and parameters: {'Pixel4': 4, 'Pixel4XLModded': 4, 'Pixel4XL': 3, 'Mi8': 7, 'Pixel4Modded': 6, 'Pixel5': 8, 'SamsungS20Ultra': 1}. Best is trial 53 with value: 2.271292184669052.\u001b[0m\n",
      "\u001b[32m[I 2021-08-01 21:01:49,289]\u001b[0m Trial 71 finished with value: 2.280725589751733 and parameters: {'Pixel4': 6, 'Pixel4XLModded': 3, 'Pixel4XL': 4, 'Mi8': 9, 'Pixel4Modded': 9, 'Pixel5': 9, 'SamsungS20Ultra': 2}. Best is trial 53 with value: 2.271292184669052.\u001b[0m\n",
      "\u001b[32m[I 2021-08-01 21:01:54,386]\u001b[0m Trial 72 finished with value: 2.2771941029743026 and parameters: {'Pixel4': 5, 'Pixel4XLModded': 2, 'Pixel4XL': 4, 'Mi8': 8, 'Pixel4Modded': 9, 'Pixel5': 9, 'SamsungS20Ultra': 2}. Best is trial 53 with value: 2.271292184669052.\u001b[0m\n",
      "\u001b[32m[I 2021-08-01 21:01:59,218]\u001b[0m Trial 73 finished with value: 2.300917541384491 and parameters: {'Pixel4': 5, 'Pixel4XLModded': 2, 'Pixel4XL': 5, 'Mi8': 8, 'Pixel4Modded': 8, 'Pixel5': 9, 'SamsungS20Ultra': 3}. Best is trial 53 with value: 2.271292184669052.\u001b[0m\n",
      "\u001b[32m[I 2021-08-01 21:02:04,292]\u001b[0m Trial 74 finished with value: 2.2851885168434043 and parameters: {'Pixel4': 4, 'Pixel4XLModded': 1, 'Pixel4XL': 3, 'Mi8': 8, 'Pixel4Modded': 9, 'Pixel5': 10, 'SamsungS20Ultra': 3}. Best is trial 53 with value: 2.271292184669052.\u001b[0m\n",
      "\u001b[32m[I 2021-08-01 21:02:09,238]\u001b[0m Trial 75 finished with value: 2.282610372734625 and parameters: {'Pixel4': 5, 'Pixel4XLModded': 2, 'Pixel4XL': 4, 'Mi8': 7, 'Pixel4Modded': 8, 'Pixel5': 8, 'SamsungS20Ultra': 1}. Best is trial 53 with value: 2.271292184669052.\u001b[0m\n",
      "\u001b[32m[I 2021-08-01 21:02:14,270]\u001b[0m Trial 76 finished with value: 2.2838955193511143 and parameters: {'Pixel4': 5, 'Pixel4XLModded': 3, 'Pixel4XL': 5, 'Mi8': 8, 'Pixel4Modded': 9, 'Pixel5': 9, 'SamsungS20Ultra': 2}. Best is trial 53 with value: 2.271292184669052.\u001b[0m\n",
      "\u001b[32m[I 2021-08-01 21:02:19,463]\u001b[0m Trial 77 finished with value: 2.293223856284749 and parameters: {'Pixel4': 6, 'Pixel4XLModded': 1, 'Pixel4XL': 4, 'Mi8': 8, 'Pixel4Modded': 7, 'Pixel5': 8, 'SamsungS20Ultra': 2}. Best is trial 53 with value: 2.271292184669052.\u001b[0m\n",
      "\u001b[32m[I 2021-08-01 21:02:24,357]\u001b[0m Trial 78 finished with value: 2.3064619953853587 and parameters: {'Pixel4': 4, 'Pixel4XLModded': 2, 'Pixel4XL': 2, 'Mi8': 5, 'Pixel4Modded': 9, 'Pixel5': 10, 'SamsungS20Ultra': 8}. Best is trial 53 with value: 2.271292184669052.\u001b[0m\n",
      "\u001b[32m[I 2021-08-01 21:02:29,338]\u001b[0m Trial 79 finished with value: 2.24275441172978 and parameters: {'Pixel4': 5, 'Pixel4XLModded': 2, 'Pixel4XL': 3, 'Mi8': 7, 'Pixel4Modded': 10, 'Pixel5': 6, 'SamsungS20Ultra': 1}. Best is trial 79 with value: 2.24275441172978.\u001b[0m\n",
      "\u001b[32m[I 2021-08-01 21:02:34,224]\u001b[0m Trial 80 finished with value: 2.2468980241019225 and parameters: {'Pixel4': 5, 'Pixel4XLModded': 1, 'Pixel4XL': 3, 'Mi8': 6, 'Pixel4Modded': 9, 'Pixel5': 6, 'SamsungS20Ultra': 1}. Best is trial 79 with value: 2.24275441172978.\u001b[0m\n",
      "\u001b[32m[I 2021-08-01 21:02:39,182]\u001b[0m Trial 81 finished with value: 2.2468980241019225 and parameters: {'Pixel4': 5, 'Pixel4XLModded': 1, 'Pixel4XL': 3, 'Mi8': 6, 'Pixel4Modded': 9, 'Pixel5': 6, 'SamsungS20Ultra': 1}. Best is trial 79 with value: 2.24275441172978.\u001b[0m\n",
      "\u001b[32m[I 2021-08-01 21:02:44,080]\u001b[0m Trial 82 finished with value: 2.257274896267252 and parameters: {'Pixel4': 5, 'Pixel4XLModded': 1, 'Pixel4XL': 1, 'Mi8': 6, 'Pixel4Modded': 9, 'Pixel5': 6, 'SamsungS20Ultra': 1}. Best is trial 79 with value: 2.24275441172978.\u001b[0m\n",
      "\u001b[32m[I 2021-08-01 21:02:49,033]\u001b[0m Trial 83 finished with value: 2.2669463140598705 and parameters: {'Pixel4': 5, 'Pixel4XLModded': 1, 'Pixel4XL': 1, 'Mi8': 6, 'Pixel4Modded': 8, 'Pixel5': 6, 'SamsungS20Ultra': 1}. Best is trial 79 with value: 2.24275441172978.\u001b[0m\n",
      "\u001b[32m[I 2021-08-01 21:02:53,932]\u001b[0m Trial 84 finished with value: 2.264095104763972 and parameters: {'Pixel4': 4, 'Pixel4XLModded': 1, 'Pixel4XL': 1, 'Mi8': 6, 'Pixel4Modded': 8, 'Pixel5': 6, 'SamsungS20Ultra': 1}. Best is trial 79 with value: 2.24275441172978.\u001b[0m\n",
      "\u001b[32m[I 2021-08-01 21:02:58,875]\u001b[0m Trial 85 finished with value: 2.2716143487337583 and parameters: {'Pixel4': 3, 'Pixel4XLModded': 1, 'Pixel4XL': 1, 'Mi8': 6, 'Pixel4Modded': 7, 'Pixel5': 6, 'SamsungS20Ultra': 1}. Best is trial 79 with value: 2.24275441172978.\u001b[0m\n",
      "\u001b[32m[I 2021-08-01 21:03:03,779]\u001b[0m Trial 86 finished with value: 2.2716143487337583 and parameters: {'Pixel4': 3, 'Pixel4XLModded': 1, 'Pixel4XL': 1, 'Mi8': 6, 'Pixel4Modded': 7, 'Pixel5': 6, 'SamsungS20Ultra': 1}. Best is trial 79 with value: 2.24275441172978.\u001b[0m\n",
      "\u001b[32m[I 2021-08-01 21:03:08,579]\u001b[0m Trial 87 finished with value: 2.2716143487337583 and parameters: {'Pixel4': 3, 'Pixel4XLModded': 1, 'Pixel4XL': 1, 'Mi8': 6, 'Pixel4Modded': 7, 'Pixel5': 6, 'SamsungS20Ultra': 1}. Best is trial 79 with value: 2.24275441172978.\u001b[0m\n",
      "\u001b[32m[I 2021-08-01 21:03:13,603]\u001b[0m Trial 88 finished with value: 2.264801270680318 and parameters: {'Pixel4': 3, 'Pixel4XLModded': 1, 'Pixel4XL': 1, 'Mi8': 6, 'Pixel4Modded': 7, 'Pixel5': 5, 'SamsungS20Ultra': 1}. Best is trial 79 with value: 2.24275441172978.\u001b[0m\n",
      "\u001b[32m[I 2021-08-01 21:03:18,420]\u001b[0m Trial 89 finished with value: 2.27366183738998 and parameters: {'Pixel4': 3, 'Pixel4XLModded': 1, 'Pixel4XL': 1, 'Mi8': 6, 'Pixel4Modded': 6, 'Pixel5': 5, 'SamsungS20Ultra': 1}. Best is trial 79 with value: 2.24275441172978.\u001b[0m\n",
      "\u001b[32m[I 2021-08-01 21:03:23,426]\u001b[0m Trial 90 finished with value: 2.2706719526951917 and parameters: {'Pixel4': 2, 'Pixel4XLModded': 1, 'Pixel4XL': 1, 'Mi8': 6, 'Pixel4Modded': 7, 'Pixel5': 5, 'SamsungS20Ultra': 1}. Best is trial 79 with value: 2.24275441172978.\u001b[0m\n",
      "\u001b[32m[I 2021-08-01 21:03:28,297]\u001b[0m Trial 91 finished with value: 2.2907214961953404 and parameters: {'Pixel4': 1, 'Pixel4XLModded': 1, 'Pixel4XL': 1, 'Mi8': 6, 'Pixel4Modded': 7, 'Pixel5': 5, 'SamsungS20Ultra': 1}. Best is trial 79 with value: 2.24275441172978.\u001b[0m\n",
      "\u001b[32m[I 2021-08-01 21:03:33,303]\u001b[0m Trial 92 finished with value: 2.2565147943468404 and parameters: {'Pixel4': 3, 'Pixel4XLModded': 1, 'Pixel4XL': 1, 'Mi8': 5, 'Pixel4Modded': 7, 'Pixel5': 5, 'SamsungS20Ultra': 1}. Best is trial 79 with value: 2.24275441172978.\u001b[0m\n",
      "\u001b[32m[I 2021-08-01 21:03:38,166]\u001b[0m Trial 93 finished with value: 2.2651515116082908 and parameters: {'Pixel4': 4, 'Pixel4XLModded': 1, 'Pixel4XL': 2, 'Mi8': 5, 'Pixel4Modded': 6, 'Pixel5': 5, 'SamsungS20Ultra': 1}. Best is trial 79 with value: 2.24275441172978.\u001b[0m\n",
      "\u001b[32m[I 2021-08-01 21:03:43,157]\u001b[0m Trial 94 finished with value: 2.271343868218755 and parameters: {'Pixel4': 2, 'Pixel4XLModded': 1, 'Pixel4XL': 2, 'Mi8': 5, 'Pixel4Modded': 6, 'Pixel5': 5, 'SamsungS20Ultra': 1}. Best is trial 79 with value: 2.24275441172978.\u001b[0m\n",
      "\u001b[32m[I 2021-08-01 21:03:48,047]\u001b[0m Trial 95 finished with value: 2.2727919405674153 and parameters: {'Pixel4': 2, 'Pixel4XLModded': 1, 'Pixel4XL': 1, 'Mi8': 5, 'Pixel4Modded': 6, 'Pixel5': 5, 'SamsungS20Ultra': 1}. Best is trial 79 with value: 2.24275441172978.\u001b[0m\n",
      "\u001b[32m[I 2021-08-01 21:03:52,992]\u001b[0m Trial 96 finished with value: 2.2875818613516867 and parameters: {'Pixel4': 4, 'Pixel4XLModded': 1, 'Pixel4XL': 2, 'Mi8': 5, 'Pixel4Modded': 5, 'Pixel5': 6, 'SamsungS20Ultra': 1}. Best is trial 79 with value: 2.24275441172978.\u001b[0m\n",
      "\u001b[32m[I 2021-08-01 21:03:57,860]\u001b[0m Trial 97 finished with value: 2.293260252054083 and parameters: {'Pixel4': 1, 'Pixel4XLModded': 1, 'Pixel4XL': 1, 'Mi8': 6, 'Pixel4Modded': 8, 'Pixel5': 6, 'SamsungS20Ultra': 1}. Best is trial 79 with value: 2.24275441172978.\u001b[0m\n",
      "\u001b[32m[I 2021-08-01 21:04:02,786]\u001b[0m Trial 98 finished with value: 2.255216880652144 and parameters: {'Pixel4': 4, 'Pixel4XLModded': 1, 'Pixel4XL': 2, 'Mi8': 6, 'Pixel4Modded': 7, 'Pixel5': 5, 'SamsungS20Ultra': 1}. Best is trial 79 with value: 2.24275441172978.\u001b[0m\n",
      "\u001b[32m[I 2021-08-01 21:04:07,668]\u001b[0m Trial 99 finished with value: 2.242389141998944 and parameters: {'Pixel4': 4, 'Pixel4XLModded': 1, 'Pixel4XL': 2, 'Mi8': 5, 'Pixel4Modded': 7, 'Pixel5': 4, 'SamsungS20Ultra': 1}. Best is trial 99 with value: 2.242389141998944.\u001b[0m\n"
     ]
    },
    {
     "name": "stdout",
     "output_type": "stream",
     "text": [
      "{'Pixel4': 4, 'Pixel4XLModded': 1, 'Pixel4XL': 2, 'Mi8': 5, 'Pixel4Modded': 7, 'Pixel5': 4, 'SamsungS20Ultra': 1}\n"
     ]
    }
   ],
   "source": [
    "study = optuna.create_study()\n",
    "study.optimize(phones_mean_objective, n_trials=100)\n",
    "phones_mean_weights = study.best_params\n",
    "print(phones_mean_weights)"
   ]
  },
  {
   "cell_type": "code",
   "execution_count": 37,
   "id": "terminal-storage",
   "metadata": {},
   "outputs": [
    {
     "name": "stderr",
     "output_type": "stream",
     "text": [
      "/opt/conda/lib/python3.7/site-packages/ipykernel_launcher.py:26: FutureWarning: Indexing with multiple keys (implicitly converted to a tuple of keys) will be deprecated, use a list instead.\n"
     ]
    }
   ],
   "source": [
    "train = calc_mean_pred(train, phones_mean_weights)"
   ]
  },
  {
   "cell_type": "markdown",
   "id": "genetic-saturn",
   "metadata": {},
   "source": [
    "# position_shift"
   ]
  },
  {
   "cell_type": "code",
   "execution_count": 38,
   "id": "instrumental-siemens",
   "metadata": {},
   "outputs": [],
   "source": [
    "train['phone'] = train['collectionName'] + '_' + train['phoneName']"
   ]
  },
  {
   "cell_type": "code",
   "execution_count": 39,
   "id": "elementary-humor",
   "metadata": {},
   "outputs": [],
   "source": [
    "def WGS84_to_ECEF(lat, lon, alt):\n",
    "    # convert to radians\n",
    "    rad_lat = lat * (np.pi / 180.0)\n",
    "    rad_lon = lon * (np.pi / 180.0)\n",
    "    a    = 6378137.0\n",
    "    # f is the flattening factor\n",
    "    finv = 298.257223563\n",
    "    f = 1 / finv   \n",
    "    # e is the eccentricity\n",
    "    e2 = 1 - (1 - f) * (1 - f)    \n",
    "    # N is the radius of curvature in the prime vertical\n",
    "    N = a / np.sqrt(1 - e2 * np.sin(rad_lat) * np.sin(rad_lat))\n",
    "    x = (N + alt) * np.cos(rad_lat) * np.cos(rad_lon)\n",
    "    y = (N + alt) * np.cos(rad_lat) * np.sin(rad_lon)\n",
    "    z = (N * (1 - e2) + alt)        * np.sin(rad_lat)\n",
    "    return x, y, z\n",
    "\n",
    "transformer = pyproj.Transformer.from_crs(\n",
    "    {\"proj\":'geocent', \"ellps\":'WGS84', \"datum\":'WGS84'},\n",
    "    {\"proj\":'latlong', \"ellps\":'WGS84', \"datum\":'WGS84'},)\n",
    "\n",
    "def ECEF_to_WGS84(x,y,z):\n",
    "    lon, lat, alt = transformer.transform(x,y,z,radians=False)\n",
    "    return lon, lat, alt\n",
    "msge = 'millisSinceGpsEpoch'"
   ]
  },
  {
   "cell_type": "code",
   "execution_count": 40,
   "id": "resistant-musician",
   "metadata": {},
   "outputs": [],
   "source": [
    "def position_shift(df,a):\n",
    "\n",
    "    d = df.copy()\n",
    "    d['heightAboveWgs84EllipsoidM'] = 63.5\n",
    "    d['x'], d['y'], d['z'] = zip(*d.apply(lambda x: WGS84_to_ECEF(x.latDeg, x.lngDeg, x.heightAboveWgs84EllipsoidM), axis=1))\n",
    "\n",
    "    #a = -0.2\n",
    "    d.sort_values(['phone', msge], inplace=True)\n",
    "    for fi in ['x','y','z']:\n",
    "        d[[fi+'p']] = d[fi].shift().where(d['phone'].eq(d['phone'].shift()))\n",
    "        d[[fi+'diff']] = d[fi]-d[fi+'p']\n",
    "    #d[['yp']] = d['y'].shift().where(d['phone'].eq(d['phone'].shift()))\n",
    "    d[['dist']] = np.sqrt(d['xdiff']**2 + d['ydiff']**2+ d['zdiff']**2)\n",
    "    for fi in ['x','y','z']:\n",
    "        d[[fi+'new']] = d[fi+'p'] + d[fi+'diff']*(1-a/d['dist'])\n",
    "    lng, lat, alt = ECEF_to_WGS84(d['xnew'].values,d['ynew'].values,d['znew'].values)\n",
    "    \n",
    "    lng[np.isnan(lng)] = d.loc[np.isnan(lng),'lngDeg']\n",
    "    lat[np.isnan(lat)] = d.loc[np.isnan(lat),'latDeg']\n",
    "    d['latDeg'] = lat\n",
    "    d['lngDeg'] = lng\n",
    "    \n",
    "    return d \n",
    "\n",
    "def objective(trial):\n",
    "    a = trial.suggest_uniform('a', -1, 1)\n",
    "    score = get_train_score(position_shift(train, a),gt)\n",
    "    return score"
   ]
  },
  {
   "cell_type": "code",
   "execution_count": 41,
   "id": "isolated-winter",
   "metadata": {},
   "outputs": [
    {
     "name": "stderr",
     "output_type": "stream",
     "text": [
      "\u001b[32m[I 2021-08-01 21:04:12,996]\u001b[0m A new study created in memory with name: no-name-2e26781d-3ad5-407c-9a4f-7016f5e3d882\u001b[0m\n",
      "\u001b[32m[I 2021-08-01 21:04:16,766]\u001b[0m Trial 0 finished with value: 2.864294436825517 and parameters: {'a': 0.6528688106316409}. Best is trial 0 with value: 2.864294436825517.\u001b[0m\n",
      "\u001b[32m[I 2021-08-01 21:04:20,580]\u001b[0m Trial 1 finished with value: 2.8507452841989376 and parameters: {'a': 0.5354722629724593}. Best is trial 1 with value: 2.8507452841989376.\u001b[0m\n",
      "\u001b[32m[I 2021-08-01 21:04:24,247]\u001b[0m Trial 2 finished with value: 2.908416918639327 and parameters: {'a': -0.05205407974542542}. Best is trial 1 with value: 2.8507452841989376.\u001b[0m\n",
      "\u001b[32m[I 2021-08-01 21:04:28,030]\u001b[0m Trial 3 finished with value: 3.2562497344887507 and parameters: {'a': -0.7837473138788547}. Best is trial 1 with value: 2.8507452841989376.\u001b[0m\n",
      "\u001b[32m[I 2021-08-01 21:04:31,839]\u001b[0m Trial 4 finished with value: 2.9557653293116726 and parameters: {'a': -0.20788696302032084}. Best is trial 1 with value: 2.8507452841989376.\u001b[0m\n",
      "\u001b[32m[I 2021-08-01 21:04:35,621]\u001b[0m Trial 5 finished with value: 2.9441586894500564 and parameters: {'a': -0.17601212041530911}. Best is trial 1 with value: 2.8507452841989376.\u001b[0m\n",
      "\u001b[32m[I 2021-08-01 21:04:39,478]\u001b[0m Trial 6 finished with value: 2.8572286981930373 and parameters: {'a': 0.22629506355461415}. Best is trial 1 with value: 2.8507452841989376.\u001b[0m\n",
      "\u001b[32m[I 2021-08-01 21:04:43,329]\u001b[0m Trial 7 finished with value: 2.8940933023792645 and parameters: {'a': 0.8137293429530377}. Best is trial 1 with value: 2.8507452841989376.\u001b[0m\n",
      "\u001b[32m[I 2021-08-01 21:04:47,059]\u001b[0m Trial 8 finished with value: 3.1256422556733883 and parameters: {'a': -0.5694429715828695}. Best is trial 1 with value: 2.8507452841989376.\u001b[0m\n",
      "\u001b[32m[I 2021-08-01 21:04:50,890]\u001b[0m Trial 9 finished with value: 2.8487449065012918 and parameters: {'a': 0.36242305402472064}. Best is trial 9 with value: 2.8487449065012918.\u001b[0m\n",
      "\u001b[32m[I 2021-08-01 21:04:54,716]\u001b[0m Trial 10 finished with value: 2.940662250557434 and parameters: {'a': 0.982763453850765}. Best is trial 9 with value: 2.8487449065012918.\u001b[0m\n",
      "\u001b[32m[I 2021-08-01 21:04:58,415]\u001b[0m Trial 11 finished with value: 2.8481046671331676 and parameters: {'a': 0.4150332397365027}. Best is trial 11 with value: 2.8481046671331676.\u001b[0m\n",
      "\u001b[32m[I 2021-08-01 21:05:02,237]\u001b[0m Trial 12 finished with value: 2.8497864298330087 and parameters: {'a': 0.32113794448021216}. Best is trial 11 with value: 2.8481046671331676.\u001b[0m\n",
      "\u001b[32m[I 2021-08-01 21:05:05,937]\u001b[0m Trial 13 finished with value: 2.8506018192931872 and parameters: {'a': 0.30541617112289576}. Best is trial 11 with value: 2.8481046671331676.\u001b[0m\n",
      "\u001b[32m[I 2021-08-01 21:05:09,803]\u001b[0m Trial 14 finished with value: 2.84962752964211 and parameters: {'a': 0.520491931492462}. Best is trial 11 with value: 2.8481046671331676.\u001b[0m\n",
      "\u001b[32m[I 2021-08-01 21:05:13,528]\u001b[0m Trial 15 finished with value: 2.863291838312068 and parameters: {'a': 0.17486170672138518}. Best is trial 11 with value: 2.8481046671331676.\u001b[0m\n",
      "\u001b[32m[I 2021-08-01 21:05:17,332]\u001b[0m Trial 16 finished with value: 2.9030096000060737 and parameters: {'a': 0.8496772980727416}. Best is trial 11 with value: 2.8481046671331676.\u001b[0m\n",
      "\u001b[32m[I 2021-08-01 21:05:21,182]\u001b[0m Trial 17 finished with value: 3.0915128278490234 and parameters: {'a': -0.5042883681318564}. Best is trial 11 with value: 2.8481046671331676.\u001b[0m\n",
      "\u001b[32m[I 2021-08-01 21:05:24,872]\u001b[0m Trial 18 finished with value: 2.8836662869421015 and parameters: {'a': 0.06140653104436797}. Best is trial 11 with value: 2.8481046671331676.\u001b[0m\n",
      "\u001b[32m[I 2021-08-01 21:05:28,763]\u001b[0m Trial 19 finished with value: 2.8487102541496254 and parameters: {'a': 0.5066310176113623}. Best is trial 11 with value: 2.8481046671331676.\u001b[0m\n",
      "\u001b[32m[I 2021-08-01 21:05:32,460]\u001b[0m Trial 20 finished with value: 2.8705034533304508 and parameters: {'a': 0.6968994547949527}. Best is trial 11 with value: 2.8481046671331676.\u001b[0m\n",
      "\u001b[32m[I 2021-08-01 21:05:36,212]\u001b[0m Trial 21 finished with value: 2.8480537189029755 and parameters: {'a': 0.4277820447809195}. Best is trial 21 with value: 2.8480537189029755.\u001b[0m\n",
      "\u001b[32m[I 2021-08-01 21:05:40,061]\u001b[0m Trial 22 finished with value: 2.8477057634591745 and parameters: {'a': 0.48956378119356087}. Best is trial 22 with value: 2.8477057634591745.\u001b[0m\n",
      "\u001b[32m[I 2021-08-01 21:05:43,804]\u001b[0m Trial 23 finished with value: 2.8480900336449526 and parameters: {'a': 0.43453075156518955}. Best is trial 22 with value: 2.8477057634591745.\u001b[0m\n",
      "\u001b[32m[I 2021-08-01 21:05:47,602]\u001b[0m Trial 24 finished with value: 2.8679307127062055 and parameters: {'a': 0.6810492076790262}. Best is trial 22 with value: 2.8477057634591745.\u001b[0m\n",
      "\u001b[32m[I 2021-08-01 21:05:51,446]\u001b[0m Trial 25 finished with value: 2.9340458341648232 and parameters: {'a': 0.9617723975890129}. Best is trial 22 with value: 2.8477057634591745.\u001b[0m\n",
      "\u001b[32m[I 2021-08-01 21:05:55,236]\u001b[0m Trial 26 finished with value: 2.9030644535533985 and parameters: {'a': -0.02925780705034603}. Best is trial 22 with value: 2.8477057634591745.\u001b[0m\n",
      "\u001b[32m[I 2021-08-01 21:05:59,100]\u001b[0m Trial 27 finished with value: 2.8730190752978606 and parameters: {'a': 0.10888817339599932}. Best is trial 22 with value: 2.8477057634591745.\u001b[0m\n",
      "\u001b[32m[I 2021-08-01 21:06:02,852]\u001b[0m Trial 28 finished with value: 2.8901654821957843 and parameters: {'a': 0.7967155861774007}. Best is trial 22 with value: 2.8477057634591745.\u001b[0m\n",
      "\u001b[32m[I 2021-08-01 21:06:06,591]\u001b[0m Trial 29 finished with value: 2.854874562709614 and parameters: {'a': 0.5899856731193807}. Best is trial 22 with value: 2.8477057634591745.\u001b[0m\n"
     ]
    },
    {
     "name": "stdout",
     "output_type": "stream",
     "text": [
      "0.48956378119356087\n"
     ]
    }
   ],
   "source": [
    "study = optuna.create_study()\n",
    "study.optimize(objective, n_trials=30)\n",
    "opt_a = study.best_params['a']\n",
    "print(opt_a)"
   ]
  },
  {
   "cell_type": "code",
   "execution_count": null,
   "id": "abstract-sunday",
   "metadata": {},
   "outputs": [],
   "source": [
    "train = position_shift(train, opt_a)\n",
    "train.to_csv(OUTPUT + '/train_ro_rog_kf_sp0_pm_ps.csv', index=False)"
   ]
  },
  {
   "cell_type": "code",
   "execution_count": null,
   "id": "interstate-digit",
   "metadata": {},
   "outputs": [],
   "source": [
    "train = train[train['collectionName'].isin(target)].copy()"
   ]
  },
  {
   "cell_type": "code",
   "execution_count": null,
   "id": "positive-advisory",
   "metadata": {},
   "outputs": [],
   "source": [
    "res = train_result(train)\n",
    "print(res.score)\n",
    "display(res.err)"
   ]
  },
  {
   "cell_type": "code",
   "execution_count": null,
   "id": "coastal-weather",
   "metadata": {},
   "outputs": [],
   "source": [
    "train_sp0_pred = pd.read_csv(f'{sp0_dir}/train_sp0_pred.csv')\n",
    "train = sp0_process(train, train_sp0_pred)"
   ]
  },
  {
   "cell_type": "code",
   "execution_count": null,
   "id": "proved-cardiff",
   "metadata": {},
   "outputs": [],
   "source": [
    "res = train_result(train)\n",
    "print(res.score)\n",
    "display(res.err)"
   ]
  },
  {
   "cell_type": "code",
   "execution_count": null,
   "id": "joint-matthew",
   "metadata": {},
   "outputs": [],
   "source": [
    "train.to_csv(OUTPUT + f'/{nb_name}_train.csv', index=False)"
   ]
  },
  {
   "cell_type": "markdown",
   "id": "disciplinary-current",
   "metadata": {},
   "source": [
    "# make_sub"
   ]
  },
  {
   "cell_type": "code",
   "execution_count": null,
   "id": "copyrighted-effects",
   "metadata": {},
   "outputs": [],
   "source": [
    "test = pd.read_csv(INPUT + '/' + 'baseline_locations_test.csv')"
   ]
  },
  {
   "cell_type": "code",
   "execution_count": null,
   "id": "removable-amplifier",
   "metadata": {},
   "outputs": [],
   "source": [
    "test = update_baseline(test, pd.read_csv('../output/prep/baseline_g1_v001/result_test.csv'))\n",
    "test = update_baseline(test, pd.read_csv('../output/prep/baseline_g2_v003/result_test.csv'))\n",
    "test = update_baseline(test, pd.read_csv('../output/prep/baseline_g3_v003/result_test.csv'))\n",
    "test = update_baseline(test, pd.read_csv('../output/prep/baseline_g4_v002/result_test.csv'))"
   ]
  },
  {
   "cell_type": "code",
   "execution_count": null,
   "id": "greater-blackberry",
   "metadata": {},
   "outputs": [],
   "source": [
    "test = add_distance_diff(test)\n",
    "test.loc[((test['dist_prev'] > ro_th) & (test['dist_next'] > ro_th)), ['latDeg', 'lngDeg']] = np.nan"
   ]
  },
  {
   "cell_type": "code",
   "execution_count": null,
   "id": "southeast-mortgage",
   "metadata": {},
   "outputs": [],
   "source": [
    "rog_df = test[test['collectionName'].isin(rog_target)].copy()\n",
    "rog_gt = gt[gt['collectionName'].isin(rog_target)].copy()\n",
    "rog_df = remove_based_on_gt(rog_df, rog_gt, rog_th)\n",
    "rog_df.to_csv(OUTPUT + '/test_rog.csv', index=False)\n",
    "rog_df = interpolate_remove_point(rog_df)\n",
    "test.loc[rog_df.index, ['latDeg', 'lngDeg']] = rog_df[['latDeg', 'lngDeg']]"
   ]
  },
  {
   "cell_type": "code",
   "execution_count": null,
   "id": "floral-wayne",
   "metadata": {},
   "outputs": [],
   "source": [
    "test = apply_kf_smoothing(test)"
   ]
  },
  {
   "cell_type": "code",
   "execution_count": null,
   "id": "automotive-tampa",
   "metadata": {},
   "outputs": [],
   "source": [
    "test_sp0_pred = pd.read_csv('../output/prep/speed0_pred_v001/test_sp0_pred.csv')\n",
    "test = sp0_process(test, test_sp0_pred)"
   ]
  },
  {
   "cell_type": "code",
   "execution_count": null,
   "id": "immediate-arabic",
   "metadata": {},
   "outputs": [],
   "source": [
    "dp_test = pd.read_csv('../output/prep/rel_pred_v001/test_result.csv')\n",
    "test = test.merge(dp_test[['millisSinceGpsEpoch', 'phone', 'lat_diff', 'lng_diff']], on=['millisSinceGpsEpoch', 'phone'], how='left')\n",
    "test.loc[test['isSpeed0']==1, ['lat_diff', 'lng_diff']] = 0\n",
    "\n",
    "for g, w in zip([g1,g2,g3,g4],[cost_min_beta_g1, cost_min_beta_g2, cost_min_beta_g3, cost_min_beta_g4]):\n",
    "    phones = test[(test['collectionName'].isin(g))&(test['phoneName']!='Mi8')]['phone'].unique()\n",
    "    for phone in phones:\n",
    "        idx = test[test['phone']==phone].index\n",
    "        test.loc[idx, ['latDeg', 'lngDeg']] = cost_minimization(test.loc[idx], w)"
   ]
  },
  {
   "cell_type": "code",
   "execution_count": null,
   "id": "native-field",
   "metadata": {},
   "outputs": [],
   "source": [
    "test = calc_mean_pred(test, phones_mean_weights)"
   ]
  },
  {
   "cell_type": "code",
   "execution_count": null,
   "id": "worthy-latvia",
   "metadata": {},
   "outputs": [],
   "source": [
    "test['phone'] = test['collectionName'] + '_' + test['phoneName']"
   ]
  },
  {
   "cell_type": "code",
   "execution_count": null,
   "id": "assisted-tuner",
   "metadata": {},
   "outputs": [],
   "source": [
    "test = position_shift(test, opt_a)"
   ]
  },
  {
   "cell_type": "code",
   "execution_count": null,
   "id": "unknown-seminar",
   "metadata": {},
   "outputs": [],
   "source": [
    "test = test[test['collectionName'].isin(target)]"
   ]
  },
  {
   "cell_type": "code",
   "execution_count": null,
   "id": "developmental-brooklyn",
   "metadata": {},
   "outputs": [],
   "source": [
    "test_sp0_pred = pd.read_csv(f'{sp0_dir}/test_sp0_pred.csv')\n",
    "test = sp0_process(test, test_sp0_pred)"
   ]
  },
  {
   "cell_type": "code",
   "execution_count": null,
   "id": "skilled-russell",
   "metadata": {},
   "outputs": [],
   "source": [
    "test.to_csv(OUTPUT + f'/{nb_name}_test.csv', index=False)"
   ]
  }
 ],
 "metadata": {
  "kernelspec": {
   "display_name": "Python 3",
   "language": "python",
   "name": "python3"
  },
  "language_info": {
   "codemirror_mode": {
    "name": "ipython",
    "version": 3
   },
   "file_extension": ".py",
   "mimetype": "text/x-python",
   "name": "python",
   "nbconvert_exporter": "python",
   "pygments_lexer": "ipython3",
   "version": "3.7.10"
  }
 },
 "nbformat": 4,
 "nbformat_minor": 5
}
