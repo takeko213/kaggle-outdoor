{
 "cells": [
  {
   "cell_type": "markdown",
   "id": "exceptional-wilson",
   "metadata": {},
   "source": [
    "# g5_v032\n",
    "エリア×機種のcost_min重み"
   ]
  },
  {
   "cell_type": "code",
   "execution_count": 1,
   "id": "blessed-village",
   "metadata": {},
   "outputs": [
    {
     "data": {
      "text/html": [
       "<style type='text/css'>\n",
       ".datatable table.frame { margin-bottom: 0; }\n",
       ".datatable table.frame thead { border-bottom: none; }\n",
       ".datatable table.frame tr.coltypes td {  color: #FFFFFF;  line-height: 6px;  padding: 0 0.5em;}\n",
       ".datatable .bool    { background: #DDDD99; }\n",
       ".datatable .object  { background: #565656; }\n",
       ".datatable .int     { background: #5D9E5D; }\n",
       ".datatable .float   { background: #4040CC; }\n",
       ".datatable .str     { background: #CC4040; }\n",
       ".datatable .row_index {  background: var(--jp-border-color3);  border-right: 1px solid var(--jp-border-color0);  color: var(--jp-ui-font-color3);  font-size: 9px;}\n",
       ".datatable .frame tr.coltypes .row_index {  background: var(--jp-border-color0);}\n",
       ".datatable th:nth-child(2) { padding-left: 12px; }\n",
       ".datatable .hellipsis {  color: var(--jp-cell-editor-border-color);}\n",
       ".datatable .vellipsis {  background: var(--jp-layout-color0);  color: var(--jp-cell-editor-border-color);}\n",
       ".datatable .na {  color: var(--jp-cell-editor-border-color);  font-size: 80%;}\n",
       ".datatable .footer { font-size: 9px; }\n",
       ".datatable .frame_dimensions {  background: var(--jp-border-color3);  border-top: 1px solid var(--jp-border-color0);  color: var(--jp-ui-font-color3);  display: inline-block;  opacity: 0.6;  padding: 1px 10px 1px 5px;}\n",
       "</style>\n"
      ],
      "text/plain": [
       "<IPython.core.display.HTML object>"
      ]
     },
     "metadata": {},
     "output_type": "display_data"
    }
   ],
   "source": [
    "# import library\n",
    "import os\n",
    "import pandas as pd\n",
    "import numpy as np\n",
    "import matplotlib.pyplot as plt\n",
    "from matplotlib_venn import venn2, venn2_circles\n",
    "import seaborn as sns\n",
    "from tqdm.notebook import tqdm\n",
    "import pathlib\n",
    "import plotly\n",
    "import plotly.express as px\n",
    "import itertools\n",
    "import lightgbm as lgb\n",
    "from optuna.integration import lightgbm as optuna_lgb\n",
    "import simdkalman\n",
    "import optuna\n",
    "import pyproj\n",
    "from pyproj import Proj, transform\n",
    "from sklearn import metrics\n",
    "from sklearn.metrics import roc_curve, precision_recall_curve, confusion_matrix, accuracy_score\n",
    "pd.set_option('display.max_rows', 100)\n",
    "from math import * \n",
    "import scipy.interpolate\n",
    "import scipy.sparse"
   ]
  },
  {
   "cell_type": "code",
   "execution_count": 2,
   "id": "velvet-month",
   "metadata": {},
   "outputs": [],
   "source": [
    "area_labeling = pd.read_csv('../output/prep/area_labeling/result.csv')\n",
    "\n",
    "g1 = list(area_labeling[area_labeling['g']==1]['collectionName'])\n",
    "g2 = list(area_labeling[area_labeling['g']==2]['collectionName'])\n",
    "g3 = list(area_labeling[area_labeling['g']==3]['collectionName'])\n",
    "g4 = list(area_labeling[area_labeling['g']==4]['collectionName'])\n",
    "g5 = list(area_labeling[area_labeling['g']==5]['collectionName'])"
   ]
  },
  {
   "cell_type": "code",
   "execution_count": 3,
   "id": "editorial-workplace",
   "metadata": {},
   "outputs": [],
   "source": [
    "target = g5"
   ]
  },
  {
   "cell_type": "code",
   "execution_count": 4,
   "id": "graphic-seating",
   "metadata": {},
   "outputs": [],
   "source": [
    "ro_th = 50 # 相対移動距離をもとにした異常値除去の閾値\n",
    "rog_th = 2 # ground_truthをもとにした異常値除去の閾値\n",
    "rp_rate = 0.5 # 相対座標を混ぜる割合\n",
    "\n",
    "# ground_truthをもとにした異常値除去を行うcollection\n",
    "rog_target = g3 + g4 + g5"
   ]
  },
  {
   "cell_type": "code",
   "execution_count": 5,
   "id": "productive-appraisal",
   "metadata": {},
   "outputs": [],
   "source": [
    "rb_dir = '../output/exp104/'\n",
    "sp0_dir = '../output/prep/speed0_pred_v001'\n",
    "degree_dir = '../output/prep/degree_pred_v004'\n",
    "dist_dir = '../output/prep/distance_pred_v002'"
   ]
  },
  {
   "cell_type": "code",
   "execution_count": 6,
   "id": "precise-drawing",
   "metadata": {},
   "outputs": [],
   "source": [
    "import ipynb_path\n",
    "\n",
    "def get_nb_name():\n",
    "    nb_path = ipynb_path.get()\n",
    "    nb_name = nb_path.rsplit('/',1)[1].replace('.ipynb','')\n",
    "    return nb_name"
   ]
  },
  {
   "cell_type": "code",
   "execution_count": 7,
   "id": "dated-celebration",
   "metadata": {},
   "outputs": [],
   "source": [
    "# directory setting\n",
    "nb_name = get_nb_name()\n",
    "INPUT = '../input/google-smartphone-decimeter-challenge'\n",
    "OUTPUT = '../output/' + nb_name\n",
    "os.makedirs(OUTPUT, exist_ok=True)"
   ]
  },
  {
   "cell_type": "markdown",
   "id": "mathematical-preservation",
   "metadata": {},
   "source": [
    "# utils"
   ]
  },
  {
   "cell_type": "code",
   "execution_count": 8,
   "id": "trained-respondent",
   "metadata": {},
   "outputs": [],
   "source": [
    "def get_train_score(df, gt):\n",
    "    gt = gt.rename(columns={'latDeg':'latDeg_gt', 'lngDeg':'lngDeg_gt'})\n",
    "    df = df.merge(gt, on=['collectionName', 'phoneName', 'millisSinceGpsEpoch'], how='inner')\n",
    "    # calc_distance_error\n",
    "    df['err'] = calc_haversine(df['latDeg_gt'], df['lngDeg_gt'], df['latDeg'], df['lngDeg'])\n",
    "    # calc_evaluate_score\n",
    "    df['phone'] = df['collectionName'] + '_' + df['phoneName']\n",
    "    res = df.groupby('phone')['err'].agg([percentile50, percentile95])\n",
    "    res['p50_p90_mean'] = (res['percentile50'] + res['percentile95']) / 2 \n",
    "    score = res['p50_p90_mean'].mean()\n",
    "    return score"
   ]
  },
  {
   "cell_type": "code",
   "execution_count": 9,
   "id": "commercial-builder",
   "metadata": {},
   "outputs": [],
   "source": [
    "def calc_haversine(lat1, lon1, lat2, lon2):\n",
    "    \"\"\"Calculates the great circle distance between two points\n",
    "    on the earth. Inputs are array-like and specified in decimal degrees.\n",
    "    \"\"\"\n",
    "    RADIUS = 6_367_000\n",
    "    lat1, lon1, lat2, lon2 = map(np.radians, [lat1, lon1, lat2, lon2])\n",
    "    dlat = lat2 - lat1\n",
    "    dlon = lon2 - lon1\n",
    "    a = np.sin(dlat/2)**2 + \\\n",
    "        np.cos(lat1) * np.cos(lat2) * np.sin(dlon/2)**2\n",
    "    dist = 2 * RADIUS * np.arcsin(a**0.5)\n",
    "    return dist"
   ]
  },
  {
   "cell_type": "code",
   "execution_count": 10,
   "id": "light-motorcycle",
   "metadata": {},
   "outputs": [],
   "source": [
    "def visualize_trafic(df, center, zoom=9):\n",
    "    fig = px.scatter_mapbox(df,\n",
    "                            \n",
    "                            # Here, plotly gets, (x,y) coordinates\n",
    "                            lat=\"latDeg\",\n",
    "                            lon=\"lngDeg\",\n",
    "                            \n",
    "                            #Here, plotly detects color of series\n",
    "                            color=\"phoneName\",\n",
    "                            labels=\"phoneName\",\n",
    "                            \n",
    "                            zoom=zoom,\n",
    "                            center=center,\n",
    "                            height=600,\n",
    "                            width=800)\n",
    "    fig.update_layout(mapbox_style='stamen-terrain')\n",
    "    fig.update_layout(margin={\"r\": 0, \"t\": 0, \"l\": 0, \"b\": 0})\n",
    "    fig.update_layout(title_text=\"GPS trafic\")\n",
    "    fig.show()\n",
    "    \n",
    "def visualize_collection(df, collection):\n",
    "    target_df = df[df['collectionName']==collection].copy()\n",
    "    lat_center = target_df['latDeg'].mean()\n",
    "    lng_center = target_df['lngDeg'].mean()\n",
    "    center = {\"lat\":lat_center, \"lon\":lng_center}\n",
    "    \n",
    "    visualize_trafic(target_df, center)\n",
    "    \n",
    "def vis(df, phone):\n",
    "    gt = get_ground_truth()\n",
    "    gt['phone'] = gt['collectionName'] + '_' + gt['phoneName']\n",
    "    tmp1 = df[df['phone']==phone].copy()\n",
    "    tmp2 = gt[gt['phone']==phone].copy()\n",
    "    \n",
    "    tmp1['phoneName'] = 'train'\n",
    "    tmp2['phoneName'] = 'gt'\n",
    "    \n",
    "    tmp = pd.concat([tmp1, tmp2])\n",
    "    tmp['collectionName'] = 'all'\n",
    "    \n",
    "    lat_center = tmp['latDeg'].mean()\n",
    "    lng_center = tmp['lngDeg'].mean()\n",
    "    center = {\"lat\":lat_center, \"lon\":lng_center}\n",
    "        \n",
    "    visualize_trafic(tmp, center)"
   ]
  },
  {
   "cell_type": "code",
   "execution_count": 11,
   "id": "attended-ballot",
   "metadata": {},
   "outputs": [],
   "source": [
    "# ground_truth\n",
    "def get_ground_truth():\n",
    "    p = pathlib.Path(INPUT)\n",
    "    gt_files = list(p.glob('train/*/*/ground_truth.csv'))\n",
    "\n",
    "    gts = []\n",
    "    for gt_file in gt_files:\n",
    "        gts.append(pd.read_csv(gt_file))\n",
    "    ground_truth = pd.concat(gts)\n",
    "\n",
    "    return ground_truth"
   ]
  },
  {
   "cell_type": "code",
   "execution_count": 12,
   "id": "banned-prince",
   "metadata": {},
   "outputs": [],
   "source": [
    "def percentile50(x):\n",
    "    return np.percentile(x, 50)\n",
    "def percentile95(x):\n",
    "    return np.percentile(x, 95)"
   ]
  },
  {
   "cell_type": "code",
   "execution_count": 13,
   "id": "opposite-duplicate",
   "metadata": {},
   "outputs": [],
   "source": [
    "class train_result:\n",
    "    def __init__(self, df):\n",
    "        self.df = df\n",
    "        self.gt = get_ground_truth()\n",
    "        self.bl = pd.read_csv(INPUT + '/' + 'baseline_locations_train.csv')\n",
    "        \n",
    "        self.gt = self.gt.rename(columns={'latDeg':'latDeg_gt', 'lngDeg':'lngDeg_gt'})\n",
    "        self.df = self.df.merge(self.gt, on=['collectionName', 'phoneName', 'millisSinceGpsEpoch'], how='inner')\n",
    "        self.df['phone'] = self.df['collectionName'] + '_' + self.df['phoneName']\n",
    "        self.df['err'] =  calc_haversine(self.df['latDeg_gt'], self.df['lngDeg_gt'], self.df['latDeg'], self.df['lngDeg'])\n",
    "        \n",
    "        self.phone_res = self.calc_err('phone')\n",
    "        self.clc_res = self.calc_err('collectionName')\n",
    "        self.phonename_res = self.calc_err('phoneName')\n",
    "        \n",
    "    def calc_err(self, by):\n",
    "        res = self.df.groupby(by)['err'].agg([percentile50, percentile95])\n",
    "        res['p50_p90_mean'] = (res['percentile50'] + res['percentile95']) / 2\n",
    "        return res\n",
    "    \n",
    "    @property\n",
    "    def score(self):\n",
    "        return self.phone_res['p50_p90_mean'].mean()\n",
    "    @property\n",
    "    def raw_data(self):\n",
    "        return self.df\n",
    "    @property\n",
    "    def err(self):\n",
    "        return self.phone_res\n",
    "    @property\n",
    "    def collection_err(self):\n",
    "        return self.clc_res\n",
    "    @property\n",
    "    def phonename_err(self):\n",
    "        return self.phonename_res\n",
    "    \n",
    "    def viz_map(self, collection, show_gt=True, show_bl=True):\n",
    "        tmp = self.df[self.df['collectionName']==collection][['collectionName', 'phoneName', 'latDeg', 'lngDeg']]\n",
    "        tmp2 = self.df[self.df['collectionName']==collection][['collectionName', 'phoneName', 'latDeg_gt', 'lngDeg_gt']]\n",
    "        tmp2 = tmp2.rename(columns={'latDeg_gt':'latDeg', 'lngDeg_gt':'lngDeg'})\n",
    "        tmp2['phoneName'] = tmp2['phoneName'] + '_GT'\n",
    "        tmp3 = self.bl[self.bl['collectionName']==collection][['collectionName', 'phoneName', 'latDeg', 'lngDeg']]\n",
    "        tmp3['phoneName'] = tmp3['phoneName'] + '_BL'\n",
    "        \n",
    "        if show_gt:\n",
    "            tmp = tmp.append(tmp2)\n",
    "        if show_bl:\n",
    "            tmp = tmp.append(tmp3)\n",
    "        visualize_collection(tmp, collection)"
   ]
  },
  {
   "cell_type": "code",
   "execution_count": 14,
   "id": "nutritional-developer",
   "metadata": {},
   "outputs": [],
   "source": [
    "def get_data():\n",
    "    base_train = pd.read_csv(INPUT + '/' + 'baseline_locations_train.csv')\n",
    "    base_test = pd.read_csv(INPUT + '/' + 'baseline_locations_test.csv')\n",
    "    sample_sub = pd.read_csv(INPUT + '/' + 'sample_submission.csv')\n",
    "    ground_truth = get_ground_truth()\n",
    "    return base_train, base_test, sample_sub, ground_truth"
   ]
  },
  {
   "cell_type": "markdown",
   "id": "purple-concrete",
   "metadata": {},
   "source": [
    "# 相対移動距離をもとにした外れ値除去"
   ]
  },
  {
   "cell_type": "code",
   "execution_count": 15,
   "id": "following-circuit",
   "metadata": {},
   "outputs": [],
   "source": [
    "train, test, sub, gt = get_data()\n",
    "train = train[train['collectionName'].isin(target)]"
   ]
  },
  {
   "cell_type": "code",
   "execution_count": 16,
   "id": "prepared-lodge",
   "metadata": {},
   "outputs": [],
   "source": [
    "rb = pd.read_csv(f'{rb_dir}/result.csv')\n",
    "\n",
    "rb = rb.rename(columns={'latDeg':'latDeg_rb', 'lngDeg':'lngDeg_rb'})\n",
    "\n",
    "train = train.merge(rb[['millisSinceGpsEpoch', 'phone', 'latDeg_rb', 'lngDeg_rb']], on=['millisSinceGpsEpoch', 'phone'], how='left')\n",
    "\n",
    "idx = train[~train['latDeg_rb'].isnull()].index\n",
    "train.loc[idx, 'latDeg'] = train.loc[idx, 'latDeg_rb']\n",
    "train.loc[idx, 'lngDeg'] = train.loc[idx, 'lngDeg_rb']"
   ]
  },
  {
   "cell_type": "code",
   "execution_count": 17,
   "id": "featured-stroke",
   "metadata": {},
   "outputs": [],
   "source": [
    "def add_distance_diff(df):\n",
    "    df['latDeg_prev'] = df['latDeg'].shift(1)\n",
    "    df['latDeg_next'] = df['latDeg'].shift(-1)\n",
    "    df['lngDeg_prev'] = df['lngDeg'].shift(1)\n",
    "    df['lngDeg_next'] = df['lngDeg'].shift(-1)\n",
    "    df['phone_prev'] = df['phone'].shift(1)\n",
    "    df['phone_next'] = df['phone'].shift(-1)\n",
    "    \n",
    "    df['dist_prev'] = calc_haversine(df['latDeg'], df['lngDeg'], df['latDeg_prev'], df['lngDeg_prev'])\n",
    "    df['dist_next'] = calc_haversine(df['latDeg'], df['lngDeg'], df['latDeg_next'], df['lngDeg_next'])\n",
    "    \n",
    "    df.loc[df['phone']!=df['phone_prev'], ['latDeg_prev', 'lngDeg_prev', 'dist_prev']] = np.nan\n",
    "    df.loc[df['phone']!=df['phone_next'], ['latDeg_next', 'lngDeg_next', 'dist_next']] = np.nan\n",
    "    \n",
    "    return df"
   ]
  },
  {
   "cell_type": "code",
   "execution_count": 18,
   "id": "close-details",
   "metadata": {},
   "outputs": [],
   "source": [
    "# reject outlier\n",
    "train = add_distance_diff(train)\n",
    "train.loc[((train['dist_prev'] > ro_th) & (train['dist_next'] > ro_th)), ['latDeg', 'lngDeg']] = np.nan\n",
    "train.to_csv(OUTPUT + '/train_ro.csv', index=False)"
   ]
  },
  {
   "cell_type": "markdown",
   "id": "consolidated-ladder",
   "metadata": {},
   "source": [
    "# ground_truthを基準にした外れ値除去"
   ]
  },
  {
   "cell_type": "code",
   "execution_count": 19,
   "id": "vocal-tiffany",
   "metadata": {},
   "outputs": [],
   "source": [
    "def get_osmnx_data():\n",
    "    p = pathlib.Path(INPUT)\n",
    "    files = list(p.glob('prep/osmnx/*.csv'))\n",
    "\n",
    "    dfs = []\n",
    "    for file in files:\n",
    "        dfs.append(pd.read_csv(file))\n",
    "    osmnx = pd.concat(dfs)\n",
    "\n",
    "    return osmnx"
   ]
  },
  {
   "cell_type": "code",
   "execution_count": 20,
   "id": "alone-bearing",
   "metadata": {},
   "outputs": [],
   "source": [
    "def remove_based_on_gt(target_df, target_gt, th):\n",
    "    osmnx_data = get_osmnx_data()\n",
    "    target_gt = target_gt.append(osmnx_data)\n",
    "    \n",
    "    for idx in target_df.index:\n",
    "        lat = target_df.at[idx, 'latDeg']\n",
    "        lng = target_df.at[idx, 'lngDeg']\n",
    "        collection = target_df.at[idx, 'collectionName']\n",
    "        \n",
    "        if np.isnan(lat):\n",
    "            continue\n",
    "        else:\n",
    "            target_gt['latDeg_pred'] = lat\n",
    "            target_gt['lngDeg_pred'] = lng\n",
    "            target_gt['dist'] = calc_haversine(target_gt['latDeg'], target_gt['lngDeg'], target_gt['latDeg_pred'], target_gt['lngDeg_pred'])\n",
    "            closest_dist = target_gt['dist'].min()\n",
    "            if closest_dist > th:\n",
    "                target_df.at[idx, 'latDeg'] = np.nan\n",
    "                target_df.at[idx, 'lngDeg'] = np.nan\n",
    "    return target_df"
   ]
  },
  {
   "cell_type": "code",
   "execution_count": 21,
   "id": "regular-postage",
   "metadata": {},
   "outputs": [],
   "source": [
    "def interpolate_remove_point(df):\n",
    "    out_df = pd.DataFrame()\n",
    "    collections = df['collectionName'].unique()\n",
    "    \n",
    "    for collection in collections:\n",
    "        tmp = df[df['collectionName']==collection].copy()\n",
    "        tmp = tmp.sort_values('millisSinceGpsEpoch')\n",
    "        tmp = tmp.reset_index().set_index('millisSinceGpsEpoch')\n",
    "        tmp[['latDeg', 'lngDeg']] = tmp[['latDeg', 'lngDeg']].interpolate(method='index', limit_area='inside')\n",
    "        tmp = tmp.sort_values('index')\n",
    "        tmp = tmp.reset_index().set_index('index')\n",
    "        out_df = out_df.append(tmp)\n",
    "    return out_df"
   ]
  },
  {
   "cell_type": "code",
   "execution_count": 22,
   "id": "veterinary-methodology",
   "metadata": {},
   "outputs": [],
   "source": [
    "def interpolate_by_rel(df):\n",
    "    df_idx = list(df.index)\n",
    "    df['lat_interp_f'] = df['latDeg']\n",
    "    df['lng_interp_f'] = df['lngDeg']\n",
    "    df['lat_interp_b'] = df['latDeg']\n",
    "    df['lng_interp_b'] = df['lngDeg']\n",
    "    \n",
    "    for idx in df_idx:\n",
    "        if idx == df_idx[0]:\n",
    "            continue\n",
    "        if df.at[idx, 'phone'] != df.at[idx-1, 'phone']:\n",
    "            continue\n",
    "        if ~np.isnan(df.at[idx, 'latDeg']):\n",
    "            continue\n",
    "            \n",
    "        lat_prev = df.at[idx-1, 'lat_interp_f']\n",
    "        lng_prev = df.at[idx-1, 'lng_interp_f']\n",
    "        lat_diff = df.at[idx-1, 'lat_diff']\n",
    "        lng_diff = df.at[idx-1, 'lng_diff']\n",
    "        \n",
    "        if ~np.isnan(lat_prev):\n",
    "            df.at[idx, 'lat_interp_f'] = lat_prev + lat_diff\n",
    "            df.at[idx, 'lng_interp_f'] = lng_prev + lng_diff\n",
    "    \n",
    "    df_idx.reverse()\n",
    "    for idx in df_idx:\n",
    "        if idx == df_idx[0]:\n",
    "            continue\n",
    "        if df.at[idx, 'phone'] != df.at[idx+1, 'phone']:\n",
    "            continue\n",
    "        if ~np.isnan(df.at[idx, 'latDeg']):\n",
    "            continue\n",
    "            \n",
    "        lat_prev = df.at[idx+1, 'lat_interp_b']\n",
    "        lng_prev = df.at[idx+1, 'lng_interp_b']\n",
    "        lat_diff = df.at[idx+1, 'lat_diff']\n",
    "        lng_diff = df.at[idx+1, 'lng_diff']\n",
    "        \n",
    "        if ~np.isnan(lat_prev):\n",
    "            df.at[idx, 'lat_interp_b'] = lat_prev - lat_diff\n",
    "            df.at[idx, 'lng_interp_b'] = lng_prev - lng_diff\n",
    "            \n",
    "    df['latDeg'] = (df['lat_interp_f'] + df['lat_interp_b']) / 2\n",
    "    df['lngDeg'] = (df['lng_interp_f'] + df['lng_interp_b']) / 2\n",
    "            \n",
    "    return df"
   ]
  },
  {
   "cell_type": "code",
   "execution_count": 23,
   "id": "competent-final",
   "metadata": {},
   "outputs": [],
   "source": [
    "rog_df = train[train['collectionName'].isin(rog_target)].copy()\n",
    "rog_gt = gt[gt['collectionName'].isin(rog_target)].copy()\n",
    "rog_df = remove_based_on_gt(rog_df, rog_gt, rog_th)\n",
    "train.loc[rog_df.index, ['latDeg', 'lngDeg']] = rog_df[['latDeg', 'lngDeg']]"
   ]
  },
  {
   "cell_type": "markdown",
   "id": "creative-interval",
   "metadata": {},
   "source": [
    "# speed0の処理"
   ]
  },
  {
   "cell_type": "code",
   "execution_count": 24,
   "id": "super-buying",
   "metadata": {},
   "outputs": [],
   "source": [
    "def sp0_process(df, sp0_result):\n",
    "    df = df.merge(sp0_result, on=['collectionName', 'phoneName', 'millisSinceGpsEpoch'], how='inner')\n",
    "    df['phone'] = df['collectionName'] + '_' + df['phoneName']\n",
    "    df['group'] = df.groupby('phone').cumcount()\n",
    "    df.loc[(df['group']>0)&(df['isSpeed0']==1),'group'] = np.nan\n",
    "    df['group'] = df['group'].fillna(method='ffill')\n",
    "    df[['latDeg', 'lngDeg']] = df.groupby(['phone', 'group'])[['latDeg','lngDeg']].transform('mean')\n",
    "    return df"
   ]
  },
  {
   "cell_type": "code",
   "execution_count": 25,
   "id": "collective-double",
   "metadata": {},
   "outputs": [],
   "source": [
    "train_sp0_pred = pd.read_csv(f'{sp0_dir}/train_sp0_pred.csv')\n",
    "train = sp0_process(train, train_sp0_pred)"
   ]
  },
  {
   "cell_type": "markdown",
   "id": "theoretical-impossible",
   "metadata": {},
   "source": [
    "# 補間"
   ]
  },
  {
   "cell_type": "code",
   "execution_count": 26,
   "id": "coated-liver",
   "metadata": {},
   "outputs": [],
   "source": [
    "dp_train = pd.read_csv('../output/prep/rel_pred_v001/train_result.csv')\n",
    "train = train.merge(dp_train[['millisSinceGpsEpoch', 'phone', 'lat_diff', 'lng_diff']], on=['millisSinceGpsEpoch', 'phone'], how='left')\n",
    "train.loc[train['isSpeed0']==1, ['lat_diff', 'lng_diff']] = 0"
   ]
  },
  {
   "cell_type": "code",
   "execution_count": 27,
   "id": "dying-executive",
   "metadata": {},
   "outputs": [],
   "source": [
    "train = interpolate_by_rel(train)"
   ]
  },
  {
   "cell_type": "markdown",
   "id": "accepted-quantity",
   "metadata": {},
   "source": [
    "# kalmanフィルタ"
   ]
  },
  {
   "cell_type": "code",
   "execution_count": 28,
   "id": "ideal-alabama",
   "metadata": {},
   "outputs": [],
   "source": [
    "T = 1.0\n",
    "state_transition = np.array([[1, 0, T, 0, 0.5 * T ** 2, 0], [0, 1, 0, T, 0, 0.5 * T ** 2], [0, 0, 1, 0, T, 0],\n",
    "                             [0, 0, 0, 1, 0, T], [0, 0, 0, 0, 1, 0], [0, 0, 0, 0, 0, 1]])\n",
    "process_noise = np.diag([1e-5, 1e-5, 5e-6, 5e-6, 1e-6, 1e-6]) + np.ones((6, 6)) * 1e-9\n",
    "observation_model = np.array([[1, 0, 0, 0, 0, 0], [0, 1, 0, 0, 0, 0]])\n",
    "observation_noise = np.diag([5e-5, 5e-5]) + np.ones((2, 2)) * 1e-9\n",
    "\n",
    "kf = simdkalman.KalmanFilter(\n",
    "        state_transition = state_transition,\n",
    "        process_noise = process_noise,\n",
    "        observation_model = observation_model,\n",
    "        observation_noise = observation_noise)\n",
    "\n",
    "def apply_kf_smoothing(df, kf_=kf):\n",
    "    unique_paths = df[['collectionName', 'phoneName']].drop_duplicates().to_numpy()\n",
    "    for collection, phone in unique_paths:\n",
    "        cond = np.logical_and(df['collectionName'] == collection, df['phoneName'] == phone)\n",
    "        data = df[cond][['latDeg', 'lngDeg']].to_numpy()\n",
    "        data = data.reshape(1, len(data), 2)\n",
    "        smoothed = kf_.smooth(data)\n",
    "        df.loc[cond, 'latDeg'] = smoothed.states.mean[0, :, 0]\n",
    "        df.loc[cond, 'lngDeg'] = smoothed.states.mean[0, :, 1]\n",
    "    return df"
   ]
  },
  {
   "cell_type": "code",
   "execution_count": 29,
   "id": "martial-syndrome",
   "metadata": {},
   "outputs": [],
   "source": [
    "train = apply_kf_smoothing(train)"
   ]
  },
  {
   "cell_type": "code",
   "execution_count": 30,
   "id": "continuous-dictionary",
   "metadata": {},
   "outputs": [
    {
     "name": "stdout",
     "output_type": "stream",
     "text": [
      "7.616210438858158\n"
     ]
    },
    {
     "data": {
      "text/html": [
       "<div>\n",
       "<style scoped>\n",
       "    .dataframe tbody tr th:only-of-type {\n",
       "        vertical-align: middle;\n",
       "    }\n",
       "\n",
       "    .dataframe tbody tr th {\n",
       "        vertical-align: top;\n",
       "    }\n",
       "\n",
       "    .dataframe thead th {\n",
       "        text-align: right;\n",
       "    }\n",
       "</style>\n",
       "<table border=\"1\" class=\"dataframe\">\n",
       "  <thead>\n",
       "    <tr style=\"text-align: right;\">\n",
       "      <th></th>\n",
       "      <th>percentile50</th>\n",
       "      <th>percentile95</th>\n",
       "      <th>p50_p90_mean</th>\n",
       "    </tr>\n",
       "    <tr>\n",
       "      <th>phone</th>\n",
       "      <th></th>\n",
       "      <th></th>\n",
       "      <th></th>\n",
       "    </tr>\n",
       "  </thead>\n",
       "  <tbody>\n",
       "    <tr>\n",
       "      <th>2021-04-22-US-SJC-1_Pixel4</th>\n",
       "      <td>3.564936</td>\n",
       "      <td>15.058229</td>\n",
       "      <td>9.311583</td>\n",
       "    </tr>\n",
       "    <tr>\n",
       "      <th>2021-04-22-US-SJC-1_SamsungS20Ultra</th>\n",
       "      <td>4.011106</td>\n",
       "      <td>12.307432</td>\n",
       "      <td>8.159269</td>\n",
       "    </tr>\n",
       "    <tr>\n",
       "      <th>2021-04-28-US-SJC-1_Pixel4</th>\n",
       "      <td>2.153498</td>\n",
       "      <td>10.638001</td>\n",
       "      <td>6.395750</td>\n",
       "    </tr>\n",
       "    <tr>\n",
       "      <th>2021-04-28-US-SJC-1_SamsungS20Ultra</th>\n",
       "      <td>2.987857</td>\n",
       "      <td>9.842893</td>\n",
       "      <td>6.415375</td>\n",
       "    </tr>\n",
       "    <tr>\n",
       "      <th>2021-04-29-US-SJC-2_Pixel4</th>\n",
       "      <td>1.985037</td>\n",
       "      <td>12.401111</td>\n",
       "      <td>7.193074</td>\n",
       "    </tr>\n",
       "    <tr>\n",
       "      <th>2021-04-29-US-SJC-2_SamsungS20Ultra</th>\n",
       "      <td>2.868065</td>\n",
       "      <td>13.576361</td>\n",
       "      <td>8.222213</td>\n",
       "    </tr>\n",
       "  </tbody>\n",
       "</table>\n",
       "</div>"
      ],
      "text/plain": [
       "                                     percentile50  percentile95  p50_p90_mean\n",
       "phone                                                                        \n",
       "2021-04-22-US-SJC-1_Pixel4               3.564936     15.058229      9.311583\n",
       "2021-04-22-US-SJC-1_SamsungS20Ultra      4.011106     12.307432      8.159269\n",
       "2021-04-28-US-SJC-1_Pixel4               2.153498     10.638001      6.395750\n",
       "2021-04-28-US-SJC-1_SamsungS20Ultra      2.987857      9.842893      6.415375\n",
       "2021-04-29-US-SJC-2_Pixel4               1.985037     12.401111      7.193074\n",
       "2021-04-29-US-SJC-2_SamsungS20Ultra      2.868065     13.576361      8.222213"
      ]
     },
     "metadata": {},
     "output_type": "display_data"
    }
   ],
   "source": [
    "res = train_result(train)\n",
    "print(res.score)\n",
    "display(res.err)"
   ]
  },
  {
   "cell_type": "code",
   "execution_count": 31,
   "id": "proud-latvia",
   "metadata": {},
   "outputs": [],
   "source": [
    "def cost_minimization(df, b):\n",
    "    xy_hat = df[['latDeg', 'lngDeg']].to_numpy()\n",
    "    delta_xy_hat = df[['lat_diff', 'lng_diff']].fillna(method='ffill')[:-1].to_numpy()\n",
    "\n",
    "    N = xy_hat.shape[0]\n",
    "    alpha = 0.01 * np.ones(N)\n",
    "    beta  = b * np.ones(N-1)\n",
    "\n",
    "    A = scipy.sparse.spdiags(alpha, [0], N, N)\n",
    "    B = scipy.sparse.spdiags(beta, [0], N-1, N-1)\n",
    "    D = scipy.sparse.spdiags(np.stack([-np.ones(N), np.ones(N)]), [0, 1], N-1, N)\n",
    "\n",
    "    Q = A + (D.T @ B @ D)\n",
    "    c = (A @ xy_hat) + (D.T @ (B @ delta_xy_hat))\n",
    "    xy_star = scipy.sparse.linalg.spsolve(Q, c)\n",
    "\n",
    "    return xy_star"
   ]
  },
  {
   "cell_type": "code",
   "execution_count": 32,
   "id": "exclusive-executive",
   "metadata": {},
   "outputs": [],
   "source": [
    "def cost_min_objective(trial):\n",
    "    cost_min_beta_w = trial.suggest_uniform('cost_min_beta_w', 0.01, 0.5)\n",
    "    pixel4_coef = trial.suggest_uniform('pixel4_coef', 0.1, 1)\n",
    "    samsungs20ultra_coef = trial.suggest_uniform('samsungs20ultra_coef', 0.1, 1)\n",
    "    train_ = train.copy()\n",
    "    \n",
    "    phones = train['phone'].unique()\n",
    "    for phone in phones:\n",
    "        \n",
    "        phonename = phone.split('_')[1]\n",
    "        if phonename == 'Pixel4':\n",
    "            w = cost_min_beta_w * pixel4_coef\n",
    "        elif phonename == 'SamsungS20Ultra':\n",
    "            w = cost_min_beta_w * samsungs20ultra_coef\n",
    "            \n",
    "        idx = train_[train_['phone']==phone].index\n",
    "        train_.loc[idx, ['latDeg', 'lngDeg']] = cost_minimization(train_.loc[idx], w)\n",
    "    score = train_result(train_).score\n",
    "    return score"
   ]
  },
  {
   "cell_type": "code",
   "execution_count": 33,
   "id": "south-instrument",
   "metadata": {},
   "outputs": [
    {
     "name": "stderr",
     "output_type": "stream",
     "text": [
      "\u001b[32m[I 2021-08-02 10:39:09,530]\u001b[0m A new study created in memory with name: no-name-f714218a-d4aa-4b8a-af5f-6080ae1526c9\u001b[0m\n",
      "\u001b[32m[I 2021-08-02 10:39:09,901]\u001b[0m Trial 0 finished with value: 7.206494463350026 and parameters: {'cost_min_beta_w': 0.2499109366518664, 'pixel4_coef': 0.21386175256774165, 'samsungs20ultra_coef': 0.7787345267709814}. Best is trial 0 with value: 7.206494463350026.\u001b[0m\n",
      "\u001b[32m[I 2021-08-02 10:39:10,259]\u001b[0m Trial 1 finished with value: 7.1314102160395185 and parameters: {'cost_min_beta_w': 0.35674107000242516, 'pixel4_coef': 0.8705898611729849, 'samsungs20ultra_coef': 0.2994807369830229}. Best is trial 1 with value: 7.1314102160395185.\u001b[0m\n",
      "\u001b[32m[I 2021-08-02 10:39:10,617]\u001b[0m Trial 2 finished with value: 7.452241699416761 and parameters: {'cost_min_beta_w': 0.039977795724596144, 'pixel4_coef': 0.38045876147031077, 'samsungs20ultra_coef': 0.6054769861225261}. Best is trial 1 with value: 7.1314102160395185.\u001b[0m\n",
      "\u001b[32m[I 2021-08-02 10:39:10,969]\u001b[0m Trial 3 finished with value: 7.014899594696683 and parameters: {'cost_min_beta_w': 0.2791426711133958, 'pixel4_coef': 0.9843606985307669, 'samsungs20ultra_coef': 0.8876113618891066}. Best is trial 3 with value: 7.014899594696683.\u001b[0m\n",
      "\u001b[32m[I 2021-08-02 10:39:11,331]\u001b[0m Trial 4 finished with value: 7.314807918842605 and parameters: {'cost_min_beta_w': 0.3958008026691812, 'pixel4_coef': 0.11064883673382804, 'samsungs20ultra_coef': 0.22199417465279037}. Best is trial 3 with value: 7.014899594696683.\u001b[0m\n",
      "\u001b[32m[I 2021-08-02 10:39:11,690]\u001b[0m Trial 5 finished with value: 7.0736912558977805 and parameters: {'cost_min_beta_w': 0.46265914693033006, 'pixel4_coef': 0.8645435518779151, 'samsungs20ultra_coef': 0.37826719230576833}. Best is trial 3 with value: 7.014899594696683.\u001b[0m\n",
      "\u001b[32m[I 2021-08-02 10:39:12,050]\u001b[0m Trial 6 finished with value: 7.3024464221322765 and parameters: {'cost_min_beta_w': 0.13028046448884512, 'pixel4_coef': 0.5951469830674727, 'samsungs20ultra_coef': 0.39169474298401885}. Best is trial 3 with value: 7.014899594696683.\u001b[0m\n",
      "\u001b[32m[I 2021-08-02 10:39:12,412]\u001b[0m Trial 7 finished with value: 7.234825035077111 and parameters: {'cost_min_beta_w': 0.2618788750425522, 'pixel4_coef': 0.5542621896641284, 'samsungs20ultra_coef': 0.19329647516110965}. Best is trial 3 with value: 7.014899594696683.\u001b[0m\n",
      "\u001b[32m[I 2021-08-02 10:39:12,776]\u001b[0m Trial 8 finished with value: 7.329826191664992 and parameters: {'cost_min_beta_w': 0.09269406095228687, 'pixel4_coef': 0.3223314988572542, 'samsungs20ultra_coef': 0.9036425935559463}. Best is trial 3 with value: 7.014899594696683.\u001b[0m\n",
      "\u001b[32m[I 2021-08-02 10:39:13,133]\u001b[0m Trial 9 finished with value: 7.0973224259229175 and parameters: {'cost_min_beta_w': 0.3517988109596397, 'pixel4_coef': 0.9301567855473607, 'samsungs20ultra_coef': 0.4733600656939362}. Best is trial 3 with value: 7.014899594696683.\u001b[0m\n",
      "\u001b[32m[I 2021-08-02 10:39:13,496]\u001b[0m Trial 10 finished with value: 7.097640460432481 and parameters: {'cost_min_beta_w': 0.21753415896971265, 'pixel4_coef': 0.6989673181631976, 'samsungs20ultra_coef': 0.997924600523008}. Best is trial 3 with value: 7.014899594696683.\u001b[0m\n",
      "\u001b[32m[I 2021-08-02 10:39:13,865]\u001b[0m Trial 11 finished with value: 6.99415567148737 and parameters: {'cost_min_beta_w': 0.4358884901457293, 'pixel4_coef': 0.973813515289951, 'samsungs20ultra_coef': 0.6553002366116449}. Best is trial 11 with value: 6.99415567148737.\u001b[0m\n",
      "\u001b[32m[I 2021-08-02 10:39:14,231]\u001b[0m Trial 12 finished with value: 6.98303794797654 and parameters: {'cost_min_beta_w': 0.4943597517870434, 'pixel4_coef': 0.9889805129420361, 'samsungs20ultra_coef': 0.6819053342994207}. Best is trial 12 with value: 6.98303794797654.\u001b[0m\n",
      "\u001b[32m[I 2021-08-02 10:39:14,606]\u001b[0m Trial 13 finished with value: 6.994126888672123 and parameters: {'cost_min_beta_w': 0.49651419759289406, 'pixel4_coef': 0.7331605229385907, 'samsungs20ultra_coef': 0.6543498340074703}. Best is trial 12 with value: 6.98303794797654.\u001b[0m\n",
      "\u001b[32m[I 2021-08-02 10:39:14,980]\u001b[0m Trial 14 finished with value: 6.977274710213603 and parameters: {'cost_min_beta_w': 0.4980671992123207, 'pixel4_coef': 0.7146417868794476, 'samsungs20ultra_coef': 0.7377880844966728}. Best is trial 14 with value: 6.977274710213603.\u001b[0m\n",
      "\u001b[32m[I 2021-08-02 10:39:15,348]\u001b[0m Trial 15 finished with value: 6.967433857452069 and parameters: {'cost_min_beta_w': 0.4915026685252354, 'pixel4_coef': 0.7621355278350876, 'samsungs20ultra_coef': 0.7747634027984249}. Best is trial 15 with value: 6.967433857452069.\u001b[0m\n",
      "\u001b[32m[I 2021-08-02 10:39:15,719]\u001b[0m Trial 16 finished with value: 6.985015191217541 and parameters: {'cost_min_beta_w': 0.4193664578224361, 'pixel4_coef': 0.7476529077333445, 'samsungs20ultra_coef': 0.8148461996750103}. Best is trial 15 with value: 6.967433857452069.\u001b[0m\n",
      "\u001b[32m[I 2021-08-02 10:39:16,081]\u001b[0m Trial 17 finished with value: 6.936653822916232 and parameters: {'cost_min_beta_w': 0.4872496150320357, 'pixel4_coef': 0.6362159023729512, 'samsungs20ultra_coef': 0.9969941981880288}. Best is trial 17 with value: 6.936653822916232.\u001b[0m\n",
      "\u001b[32m[I 2021-08-02 10:39:16,447]\u001b[0m Trial 18 finished with value: 7.0511771456240515 and parameters: {'cost_min_beta_w': 0.33777601142311187, 'pixel4_coef': 0.4030485381237692, 'samsungs20ultra_coef': 0.9743095170570447}. Best is trial 17 with value: 6.936653822916232.\u001b[0m\n",
      "\u001b[32m[I 2021-08-02 10:39:16,814]\u001b[0m Trial 19 finished with value: 7.204936495086071 and parameters: {'cost_min_beta_w': 0.1714715989812332, 'pixel4_coef': 0.6195969150736971, 'samsungs20ultra_coef': 0.9213411386784226}. Best is trial 17 with value: 6.936653822916232.\u001b[0m\n",
      "\u001b[32m[I 2021-08-02 10:39:17,178]\u001b[0m Trial 20 finished with value: 6.98091533780612 and parameters: {'cost_min_beta_w': 0.45748665863384275, 'pixel4_coef': 0.4633052280331068, 'samsungs20ultra_coef': 0.8375504835659354}. Best is trial 17 with value: 6.936653822916232.\u001b[0m\n",
      "\u001b[32m[I 2021-08-02 10:39:17,542]\u001b[0m Trial 21 finished with value: 6.981514356873359 and parameters: {'cost_min_beta_w': 0.47289179903278905, 'pixel4_coef': 0.797007458737811, 'samsungs20ultra_coef': 0.7387218998094426}. Best is trial 17 with value: 6.936653822916232.\u001b[0m\n",
      "\u001b[32m[I 2021-08-02 10:39:17,909]\u001b[0m Trial 22 finished with value: 7.031648219207639 and parameters: {'cost_min_beta_w': 0.4995531215777762, 'pixel4_coef': 0.6876510835178342, 'samsungs20ultra_coef': 0.5335784185179859}. Best is trial 17 with value: 6.936653822916232.\u001b[0m\n",
      "\u001b[32m[I 2021-08-02 10:39:18,274]\u001b[0m Trial 23 finished with value: 7.004637046945851 and parameters: {'cost_min_beta_w': 0.3846664606932906, 'pixel4_coef': 0.6366703292458924, 'samsungs20ultra_coef': 0.7325968839171255}. Best is trial 17 with value: 6.936653822916232.\u001b[0m\n",
      "\u001b[32m[I 2021-08-02 10:39:18,639]\u001b[0m Trial 24 finished with value: 7.10866485043356 and parameters: {'cost_min_beta_w': 0.3129079302615785, 'pixel4_coef': 0.5170815422287516, 'samsungs20ultra_coef': 0.5767838062837415}. Best is trial 17 with value: 6.936653822916232.\u001b[0m\n",
      "\u001b[32m[I 2021-08-02 10:39:19,004]\u001b[0m Trial 25 finished with value: 6.968950830088527 and parameters: {'cost_min_beta_w': 0.42871228227476743, 'pixel4_coef': 0.8155946025062499, 'samsungs20ultra_coef': 0.9725017049669212}. Best is trial 17 with value: 6.936653822916232.\u001b[0m\n",
      "\u001b[32m[I 2021-08-02 10:39:19,364]\u001b[0m Trial 26 finished with value: 6.971280102228554 and parameters: {'cost_min_beta_w': 0.4208138696394353, 'pixel4_coef': 0.81664226914607, 'samsungs20ultra_coef': 0.9961152297266732}. Best is trial 17 with value: 6.936653822916232.\u001b[0m\n",
      "\u001b[32m[I 2021-08-02 10:39:19,731]\u001b[0m Trial 27 finished with value: 6.971244806526265 and parameters: {'cost_min_beta_w': 0.3975100918006184, 'pixel4_coef': 0.9082065972609277, 'samsungs20ultra_coef': 0.9465097736557503}. Best is trial 17 with value: 6.936653822916232.\u001b[0m\n",
      "\u001b[32m[I 2021-08-02 10:39:20,090]\u001b[0m Trial 28 finished with value: 6.971077266888894 and parameters: {'cost_min_beta_w': 0.4491572835592521, 'pixel4_coef': 0.7972783254119818, 'samsungs20ultra_coef': 0.8441157731500087}. Best is trial 17 with value: 6.936653822916232.\u001b[0m\n",
      "\u001b[32m[I 2021-08-02 10:39:20,455]\u001b[0m Trial 29 finished with value: 7.080513567453234 and parameters: {'cost_min_beta_w': 0.2999346285105132, 'pixel4_coef': 0.6569086334459818, 'samsungs20ultra_coef': 0.7856265232413044}. Best is trial 17 with value: 6.936653822916232.\u001b[0m\n",
      "\u001b[32m[I 2021-08-02 10:39:20,820]\u001b[0m Trial 30 finished with value: 7.009872016697893 and parameters: {'cost_min_beta_w': 0.3810425539157821, 'pixel4_coef': 0.5349798373501188, 'samsungs20ultra_coef': 0.9039004050992676}. Best is trial 17 with value: 6.936653822916232.\u001b[0m\n",
      "\u001b[32m[I 2021-08-02 10:39:21,201]\u001b[0m Trial 31 finished with value: 6.971129377806924 and parameters: {'cost_min_beta_w': 0.4485556596219009, 'pixel4_coef': 0.7902120777484505, 'samsungs20ultra_coef': 0.8520247020844871}. Best is trial 17 with value: 6.936653822916232.\u001b[0m\n",
      "\u001b[32m[I 2021-08-02 10:39:21,582]\u001b[0m Trial 32 finished with value: 6.940929812638669 and parameters: {'cost_min_beta_w': 0.47341099469153985, 'pixel4_coef': 0.8535012950247524, 'samsungs20ultra_coef': 0.9782698723169627}. Best is trial 17 with value: 6.936653822916232.\u001b[0m\n",
      "\u001b[32m[I 2021-08-02 10:39:21,971]\u001b[0m Trial 33 finished with value: 6.9321096028765155 and parameters: {'cost_min_beta_w': 0.477925453279233, 'pixel4_coef': 0.8925411151185962, 'samsungs20ultra_coef': 0.9915117713716108}. Best is trial 33 with value: 6.9321096028765155.\u001b[0m\n",
      "\u001b[32m[I 2021-08-02 10:39:22,339]\u001b[0m Trial 34 finished with value: 6.930960382031107 and parameters: {'cost_min_beta_w': 0.47886964513579444, 'pixel4_coef': 0.8888379640227196, 'samsungs20ultra_coef': 0.9969445855644093}. Best is trial 34 with value: 6.930960382031107.\u001b[0m\n",
      "\u001b[32m[I 2021-08-02 10:39:22,702]\u001b[0m Trial 35 finished with value: 6.939153651687413 and parameters: {'cost_min_beta_w': 0.4739732921390365, 'pixel4_coef': 0.8575971196628608, 'samsungs20ultra_coef': 0.9858222591305003}. Best is trial 34 with value: 6.930960382031107.\u001b[0m\n",
      "\u001b[32m[I 2021-08-02 10:39:23,071]\u001b[0m Trial 36 finished with value: 6.983246175488205 and parameters: {'cost_min_beta_w': 0.4003467489965645, 'pixel4_coef': 0.922663148941314, 'samsungs20ultra_coef': 0.8758661049901392}. Best is trial 34 with value: 6.930960382031107.\u001b[0m\n",
      "\u001b[32m[I 2021-08-02 10:39:23,437]\u001b[0m Trial 37 finished with value: 6.9382476611423805 and parameters: {'cost_min_beta_w': 0.4739198836753405, 'pixel4_coef': 0.8884888676880319, 'samsungs20ultra_coef': 0.9461763391315811}. Best is trial 34 with value: 6.930960382031107.\u001b[0m\n",
      "\u001b[32m[I 2021-08-02 10:39:23,802]\u001b[0m Trial 38 finished with value: 7.540713353285933 and parameters: {'cost_min_beta_w': 0.010138738467399655, 'pixel4_coef': 0.24718623287595037, 'samsungs20ultra_coef': 0.9342734545833273}. Best is trial 34 with value: 6.930960382031107.\u001b[0m\n",
      "\u001b[32m[I 2021-08-02 10:39:24,166]\u001b[0m Trial 39 finished with value: 6.964222556073037 and parameters: {'cost_min_beta_w': 0.4179167090105051, 'pixel4_coef': 0.9610569320030073, 'samsungs20ultra_coef': 0.8944170809591557}. Best is trial 34 with value: 6.930960382031107.\u001b[0m\n",
      "\u001b[32m[I 2021-08-02 10:39:24,529]\u001b[0m Trial 40 finished with value: 6.983353256730062 and parameters: {'cost_min_beta_w': 0.3675689434085515, 'pixel4_coef': 0.8989683548987447, 'samsungs20ultra_coef': 0.9995706536086466}. Best is trial 34 with value: 6.930960382031107.\u001b[0m\n",
      "\u001b[32m[I 2021-08-02 10:39:24,896]\u001b[0m Trial 41 finished with value: 6.940118717427519 and parameters: {'cost_min_beta_w': 0.4772976372252708, 'pixel4_coef': 0.8624815817450578, 'samsungs20ultra_coef': 0.9506890959771124}. Best is trial 34 with value: 6.930960382031107.\u001b[0m\n",
      "\u001b[32m[I 2021-08-02 10:39:25,259]\u001b[0m Trial 42 finished with value: 6.943584533266553 and parameters: {'cost_min_beta_w': 0.46230066896638417, 'pixel4_coef': 0.8612721904585696, 'samsungs20ultra_coef': 0.9971304215465374}. Best is trial 34 with value: 6.930960382031107.\u001b[0m\n",
      "\u001b[32m[I 2021-08-02 10:39:25,624]\u001b[0m Trial 43 finished with value: 6.949271727136832 and parameters: {'cost_min_beta_w': 0.4381153741211714, 'pixel4_coef': 0.9897056200148435, 'samsungs20ultra_coef': 0.9404093520978556}. Best is trial 34 with value: 6.930960382031107.\u001b[0m\n",
      "\u001b[32m[I 2021-08-02 10:39:25,985]\u001b[0m Trial 44 finished with value: 7.102985329701949 and parameters: {'cost_min_beta_w': 0.4747534746916385, 'pixel4_coef': 0.9301318462274883, 'samsungs20ultra_coef': 0.28257406538684393}. Best is trial 34 with value: 6.930960382031107.\u001b[0m\n",
      "\u001b[32m[I 2021-08-02 10:39:26,344]\u001b[0m Trial 45 finished with value: 6.941545017025823 and parameters: {'cost_min_beta_w': 0.4932807655241602, 'pixel4_coef': 0.8445760228633327, 'samsungs20ultra_coef': 0.8851975443702356}. Best is trial 34 with value: 6.930960382031107.\u001b[0m\n",
      "\u001b[32m[I 2021-08-02 10:39:26,707]\u001b[0m Trial 46 finished with value: 7.178839635111584 and parameters: {'cost_min_beta_w': 0.49786398841203167, 'pixel4_coef': 0.9544713499065327, 'samsungs20ultra_coef': 0.13126151158362132}. Best is trial 34 with value: 6.930960382031107.\u001b[0m\n",
      "\u001b[32m[I 2021-08-02 10:39:27,069]\u001b[0m Trial 47 finished with value: 6.9567433479442515 and parameters: {'cost_min_beta_w': 0.45488428606665016, 'pixel4_coef': 0.7713037127971444, 'samsungs20ultra_coef': 0.990862656248061}. Best is trial 34 with value: 6.930960382031107.\u001b[0m\n",
      "\u001b[32m[I 2021-08-02 10:39:27,435]\u001b[0m Trial 48 finished with value: 6.970746600942502 and parameters: {'cost_min_beta_w': 0.4082036427541992, 'pixel4_coef': 0.8894071636663704, 'samsungs20ultra_coef': 0.9237187003548099}. Best is trial 34 with value: 6.930960382031107.\u001b[0m\n",
      "\u001b[32m[I 2021-08-02 10:39:27,796]\u001b[0m Trial 49 finished with value: 6.945410449891759 and parameters: {'cost_min_beta_w': 0.43788899914662, 'pixel4_coef': 0.5846282901692377, 'samsungs20ultra_coef': 0.8715315281391259}. Best is trial 34 with value: 6.930960382031107.\u001b[0m\n"
     ]
    },
    {
     "name": "stdout",
     "output_type": "stream",
     "text": [
      "0.47886964513579444\n"
     ]
    }
   ],
   "source": [
    "study = optuna.create_study()\n",
    "study.optimize(cost_min_objective, n_trials=50)\n",
    "cost_min_beta_w = study.best_params['cost_min_beta_w']\n",
    "pixel4_coef = study.best_params['pixel4_coef']\n",
    "samsungs20ultra_coef = study.best_params['samsungs20ultra_coef']\n",
    "print(cost_min_beta_w)"
   ]
  },
  {
   "cell_type": "code",
   "execution_count": 34,
   "id": "unusual-gregory",
   "metadata": {},
   "outputs": [],
   "source": [
    "for phone in train['phone'].unique():\n",
    "    phonename = phone.split('_')[1]\n",
    "    if phonename == 'Pixel4':\n",
    "        w = cost_min_beta_w * pixel4_coef\n",
    "    elif phonename == 'SamsungS20Ultra':\n",
    "        w = cost_min_beta_w * samsungs20ultra_coef\n",
    "    idx = train[train['phone']==phone].index\n",
    "    train.loc[idx, ['latDeg', 'lngDeg']] = cost_minimization(train.loc[idx], w)"
   ]
  },
  {
   "cell_type": "code",
   "execution_count": 35,
   "id": "fallen-agriculture",
   "metadata": {},
   "outputs": [
    {
     "name": "stdout",
     "output_type": "stream",
     "text": [
      "6.930960382031107\n"
     ]
    },
    {
     "data": {
      "text/html": [
       "<div>\n",
       "<style scoped>\n",
       "    .dataframe tbody tr th:only-of-type {\n",
       "        vertical-align: middle;\n",
       "    }\n",
       "\n",
       "    .dataframe tbody tr th {\n",
       "        vertical-align: top;\n",
       "    }\n",
       "\n",
       "    .dataframe thead th {\n",
       "        text-align: right;\n",
       "    }\n",
       "</style>\n",
       "<table border=\"1\" class=\"dataframe\">\n",
       "  <thead>\n",
       "    <tr style=\"text-align: right;\">\n",
       "      <th></th>\n",
       "      <th>percentile50</th>\n",
       "      <th>percentile95</th>\n",
       "      <th>p50_p90_mean</th>\n",
       "    </tr>\n",
       "    <tr>\n",
       "      <th>phone</th>\n",
       "      <th></th>\n",
       "      <th></th>\n",
       "      <th></th>\n",
       "    </tr>\n",
       "  </thead>\n",
       "  <tbody>\n",
       "    <tr>\n",
       "      <th>2021-04-22-US-SJC-1_Pixel4</th>\n",
       "      <td>3.573949</td>\n",
       "      <td>13.316521</td>\n",
       "      <td>8.445235</td>\n",
       "    </tr>\n",
       "    <tr>\n",
       "      <th>2021-04-22-US-SJC-1_SamsungS20Ultra</th>\n",
       "      <td>3.951059</td>\n",
       "      <td>10.525974</td>\n",
       "      <td>7.238516</td>\n",
       "    </tr>\n",
       "    <tr>\n",
       "      <th>2021-04-28-US-SJC-1_Pixel4</th>\n",
       "      <td>2.397350</td>\n",
       "      <td>10.688218</td>\n",
       "      <td>6.542784</td>\n",
       "    </tr>\n",
       "    <tr>\n",
       "      <th>2021-04-28-US-SJC-1_SamsungS20Ultra</th>\n",
       "      <td>2.824985</td>\n",
       "      <td>9.169499</td>\n",
       "      <td>5.997242</td>\n",
       "    </tr>\n",
       "    <tr>\n",
       "      <th>2021-04-29-US-SJC-2_Pixel4</th>\n",
       "      <td>2.160549</td>\n",
       "      <td>10.678918</td>\n",
       "      <td>6.419734</td>\n",
       "    </tr>\n",
       "    <tr>\n",
       "      <th>2021-04-29-US-SJC-2_SamsungS20Ultra</th>\n",
       "      <td>2.786549</td>\n",
       "      <td>11.097953</td>\n",
       "      <td>6.942251</td>\n",
       "    </tr>\n",
       "  </tbody>\n",
       "</table>\n",
       "</div>"
      ],
      "text/plain": [
       "                                     percentile50  percentile95  p50_p90_mean\n",
       "phone                                                                        \n",
       "2021-04-22-US-SJC-1_Pixel4               3.573949     13.316521      8.445235\n",
       "2021-04-22-US-SJC-1_SamsungS20Ultra      3.951059     10.525974      7.238516\n",
       "2021-04-28-US-SJC-1_Pixel4               2.397350     10.688218      6.542784\n",
       "2021-04-28-US-SJC-1_SamsungS20Ultra      2.824985      9.169499      5.997242\n",
       "2021-04-29-US-SJC-2_Pixel4               2.160549     10.678918      6.419734\n",
       "2021-04-29-US-SJC-2_SamsungS20Ultra      2.786549     11.097953      6.942251"
      ]
     },
     "metadata": {},
     "output_type": "display_data"
    }
   ],
   "source": [
    "res = train_result(train)\n",
    "print(res.score)\n",
    "display(res.err)"
   ]
  },
  {
   "cell_type": "markdown",
   "id": "seventh-desire",
   "metadata": {},
   "source": [
    "# phones_mean"
   ]
  },
  {
   "cell_type": "code",
   "execution_count": 36,
   "id": "surrounded-international",
   "metadata": {},
   "outputs": [],
   "source": [
    "def calc_mean_pred(df, ws):\n",
    "    '''\n",
    "    Generate interpolated lat,lng values for different phone times in the same collection.\n",
    "    '''\n",
    "    time_list = df[['collectionName', 'millisSinceGpsEpoch']].drop_duplicates()\n",
    "    phone_list = df[['collectionName', 'phoneName']].drop_duplicates()\n",
    "    tmp = time_list.merge(phone_list, on='collectionName', how='outer')\n",
    "    tmp['phone'] = tmp['collectionName'] + '_' + tmp['phoneName']\n",
    "    tmp = tmp.merge(df, on=['collectionName', 'phoneName', 'phone', 'millisSinceGpsEpoch'], how='left')\n",
    "    \n",
    "    lerp_df = pd.DataFrame()\n",
    "    for phone in tmp['phone'].unique():\n",
    "        lerp_tmp = tmp[tmp['phone']==phone].copy()\n",
    "        lerp_tmp = lerp_tmp.sort_values('millisSinceGpsEpoch')\n",
    "        lerp_tmp = lerp_tmp.set_index('millisSinceGpsEpoch')\n",
    "        lerp_tmp[['latDeg', 'lngDeg']] = lerp_tmp[['latDeg', 'lngDeg']].interpolate(method='index', limit_area='inside')\n",
    "        lerp_tmp = lerp_tmp.reset_index()\n",
    "        lerp_df = lerp_df.append(lerp_tmp)\n",
    "    \n",
    "    lerp_df['w'] = lerp_df['phoneName'].replace(ws)\n",
    "    lerp_df.loc[lerp_df['latDeg'].isnull(), 'w'] = np.nan\n",
    "    lerp_df['w_sum'] = lerp_df.groupby(['collectionName', 'millisSinceGpsEpoch'])['w'].transform('sum')\n",
    "    lerp_df['w'] = lerp_df['w'] / lerp_df['w_sum']\n",
    "    lerp_df['latDeg'] = lerp_df['latDeg'] * lerp_df['w']\n",
    "    lerp_df['lngDeg'] = lerp_df['lngDeg'] * lerp_df['w']\n",
    "    mean_pred = lerp_df.groupby(['collectionName', 'millisSinceGpsEpoch'])['latDeg', 'lngDeg'].sum().reset_index()\n",
    "    \n",
    "    output_df = df[['collectionName', 'phoneName', 'millisSinceGpsEpoch']].copy()\n",
    "    output_df = output_df.merge(mean_pred[['collectionName', 'millisSinceGpsEpoch', 'latDeg', 'lngDeg']], on=['collectionName', 'millisSinceGpsEpoch'], how='left')\n",
    "    return output_df"
   ]
  },
  {
   "cell_type": "code",
   "execution_count": 37,
   "id": "adverse-orleans",
   "metadata": {},
   "outputs": [],
   "source": [
    "def phones_mean_objective(trial):\n",
    "    Pixel4 = trial.suggest_int('Pixel4', 1, 10)\n",
    "    SamsungS20Ultra = trial.suggest_int('SamsungS20Ultra', 1, 10)\n",
    "    \n",
    "    ws = {'Pixel4':Pixel4, 'SamsungS20Ultra':SamsungS20Ultra}\n",
    "    \n",
    "    out = calc_mean_pred(train, ws)\n",
    "    score = train_result(out).score\n",
    "    \n",
    "    return score"
   ]
  },
  {
   "cell_type": "code",
   "execution_count": 38,
   "id": "multiple-fossil",
   "metadata": {},
   "outputs": [
    {
     "name": "stderr",
     "output_type": "stream",
     "text": [
      "\u001b[32m[I 2021-08-02 10:39:28,203]\u001b[0m A new study created in memory with name: no-name-b5ee0140-48a6-4760-856a-598bceed26e0\u001b[0m\n",
      "/opt/conda/lib/python3.7/site-packages/ipykernel_launcher.py:26: FutureWarning: Indexing with multiple keys (implicitly converted to a tuple of keys) will be deprecated, use a list instead.\n",
      "\u001b[32m[I 2021-08-02 10:39:28,661]\u001b[0m Trial 0 finished with value: 6.429734735325624 and parameters: {'Pixel4': 1, 'SamsungS20Ultra': 9}. Best is trial 0 with value: 6.429734735325624.\u001b[0m\n",
      "\u001b[32m[I 2021-08-02 10:39:29,110]\u001b[0m Trial 1 finished with value: 6.292628939103628 and parameters: {'Pixel4': 1, 'SamsungS20Ultra': 6}. Best is trial 1 with value: 6.292628939103628.\u001b[0m\n",
      "\u001b[32m[I 2021-08-02 10:39:29,566]\u001b[0m Trial 2 finished with value: 6.221839654319343 and parameters: {'Pixel4': 1, 'SamsungS20Ultra': 5}. Best is trial 2 with value: 6.221839654319343.\u001b[0m\n",
      "\u001b[32m[I 2021-08-02 10:39:30,010]\u001b[0m Trial 3 finished with value: 5.889849169328588 and parameters: {'Pixel4': 10, 'SamsungS20Ultra': 9}. Best is trial 3 with value: 5.889849169328588.\u001b[0m\n",
      "\u001b[32m[I 2021-08-02 10:39:30,456]\u001b[0m Trial 4 finished with value: 5.9165161430820135 and parameters: {'Pixel4': 9, 'SamsungS20Ultra': 10}. Best is trial 3 with value: 5.889849169328588.\u001b[0m\n",
      "\u001b[32m[I 2021-08-02 10:39:30,900]\u001b[0m Trial 5 finished with value: 6.27386511377139 and parameters: {'Pixel4': 10, 'SamsungS20Ultra': 4}. Best is trial 3 with value: 5.889849169328588.\u001b[0m\n",
      "\u001b[32m[I 2021-08-02 10:39:31,345]\u001b[0m Trial 6 finished with value: 6.791902146886511 and parameters: {'Pixel4': 7, 'SamsungS20Ultra': 1}. Best is trial 3 with value: 5.889849169328588.\u001b[0m\n",
      "\u001b[32m[I 2021-08-02 10:39:31,788]\u001b[0m Trial 7 finished with value: 6.733986465745306 and parameters: {'Pixel4': 6, 'SamsungS20Ultra': 1}. Best is trial 3 with value: 5.889849169328588.\u001b[0m\n",
      "\u001b[32m[I 2021-08-02 10:39:32,231]\u001b[0m Trial 8 finished with value: 5.891925187764272 and parameters: {'Pixel4': 6, 'SamsungS20Ultra': 8}. Best is trial 3 with value: 5.889849169328588.\u001b[0m\n",
      "\u001b[32m[I 2021-08-02 10:39:32,675]\u001b[0m Trial 9 finished with value: 5.902895686101911 and parameters: {'Pixel4': 6, 'SamsungS20Ultra': 5}. Best is trial 3 with value: 5.889849169328588.\u001b[0m\n",
      "\u001b[32m[I 2021-08-02 10:39:33,125]\u001b[0m Trial 10 finished with value: 5.909079868587377 and parameters: {'Pixel4': 3, 'SamsungS20Ultra': 7}. Best is trial 3 with value: 5.889849169328588.\u001b[0m\n",
      "\u001b[32m[I 2021-08-02 10:39:33,579]\u001b[0m Trial 11 finished with value: 5.920907788766255 and parameters: {'Pixel4': 8, 'SamsungS20Ultra': 8}. Best is trial 3 with value: 5.889849169328588.\u001b[0m\n",
      "\u001b[32m[I 2021-08-02 10:39:34,026]\u001b[0m Trial 12 finished with value: 5.929473592772246 and parameters: {'Pixel4': 4, 'SamsungS20Ultra': 10}. Best is trial 3 with value: 5.889849169328588.\u001b[0m\n",
      "\u001b[32m[I 2021-08-02 10:39:34,474]\u001b[0m Trial 13 finished with value: 5.922039248461427 and parameters: {'Pixel4': 10, 'SamsungS20Ultra': 8}. Best is trial 3 with value: 5.889849169328588.\u001b[0m\n",
      "\u001b[32m[I 2021-08-02 10:39:34,926]\u001b[0m Trial 14 finished with value: 5.904087435199518 and parameters: {'Pixel4': 4, 'SamsungS20Ultra': 9}. Best is trial 3 with value: 5.889849169328588.\u001b[0m\n",
      "\u001b[32m[I 2021-08-02 10:39:35,375]\u001b[0m Trial 15 finished with value: 5.893505058581472 and parameters: {'Pixel4': 8, 'SamsungS20Ultra': 7}. Best is trial 3 with value: 5.889849169328588.\u001b[0m\n",
      "\u001b[32m[I 2021-08-02 10:39:35,927]\u001b[0m Trial 16 finished with value: 5.920907788766255 and parameters: {'Pixel4': 3, 'SamsungS20Ultra': 3}. Best is trial 3 with value: 5.889849169328588.\u001b[0m\n",
      "\u001b[32m[I 2021-08-02 10:39:36,375]\u001b[0m Trial 17 finished with value: 5.884159854920632 and parameters: {'Pixel4': 5, 'SamsungS20Ultra': 9}. Best is trial 17 with value: 5.884159854920632.\u001b[0m\n",
      "\u001b[32m[I 2021-08-02 10:39:36,822]\u001b[0m Trial 18 finished with value: 5.929473592772246 and parameters: {'Pixel4': 4, 'SamsungS20Ultra': 10}. Best is trial 17 with value: 5.884159854920632.\u001b[0m\n",
      "\u001b[32m[I 2021-08-02 10:39:37,270]\u001b[0m Trial 19 finished with value: 5.884159854920632 and parameters: {'Pixel4': 5, 'SamsungS20Ultra': 9}. Best is trial 17 with value: 5.884159854920632.\u001b[0m\n",
      "\u001b[32m[I 2021-08-02 10:39:37,720]\u001b[0m Trial 20 finished with value: 5.8845976216245 and parameters: {'Pixel4': 5, 'SamsungS20Ultra': 7}. Best is trial 17 with value: 5.884159854920632.\u001b[0m\n",
      "\u001b[32m[I 2021-08-02 10:39:38,172]\u001b[0m Trial 21 finished with value: 5.8845976216245 and parameters: {'Pixel4': 5, 'SamsungS20Ultra': 7}. Best is trial 17 with value: 5.884159854920632.\u001b[0m\n",
      "\u001b[32m[I 2021-08-02 10:39:38,620]\u001b[0m Trial 22 finished with value: 5.908745994024198 and parameters: {'Pixel4': 5, 'SamsungS20Ultra': 6}. Best is trial 17 with value: 5.884159854920632.\u001b[0m\n",
      "\u001b[32m[I 2021-08-02 10:39:39,070]\u001b[0m Trial 23 finished with value: 5.896536039565149 and parameters: {'Pixel4': 7, 'SamsungS20Ultra': 9}. Best is trial 17 with value: 5.884159854920632.\u001b[0m\n",
      "\u001b[32m[I 2021-08-02 10:39:39,519]\u001b[0m Trial 24 finished with value: 5.951707209298152 and parameters: {'Pixel4': 3, 'SamsungS20Ultra': 8}. Best is trial 17 with value: 5.884159854920632.\u001b[0m\n",
      "\u001b[32m[I 2021-08-02 10:39:39,970]\u001b[0m Trial 25 finished with value: 5.8845976216245 and parameters: {'Pixel4': 5, 'SamsungS20Ultra': 7}. Best is trial 17 with value: 5.884159854920632.\u001b[0m\n",
      "\u001b[32m[I 2021-08-02 10:39:40,443]\u001b[0m Trial 26 finished with value: 6.221839654319343 and parameters: {'Pixel4': 2, 'SamsungS20Ultra': 10}. Best is trial 17 with value: 5.884159854920632.\u001b[0m\n",
      "\u001b[32m[I 2021-08-02 10:39:40,895]\u001b[0m Trial 27 finished with value: 5.896536039565149 and parameters: {'Pixel4': 7, 'SamsungS20Ultra': 9}. Best is trial 17 with value: 5.884159854920632.\u001b[0m\n",
      "\u001b[32m[I 2021-08-02 10:39:41,346]\u001b[0m Trial 28 finished with value: 5.882261065486236 and parameters: {'Pixel4': 4, 'SamsungS20Ultra': 6}. Best is trial 28 with value: 5.882261065486236.\u001b[0m\n",
      "\u001b[32m[I 2021-08-02 10:39:41,800]\u001b[0m Trial 29 finished with value: 5.975583936783832 and parameters: {'Pixel4': 2, 'SamsungS20Ultra': 6}. Best is trial 28 with value: 5.882261065486236.\u001b[0m\n",
      "\u001b[32m[I 2021-08-02 10:39:42,253]\u001b[0m Trial 30 finished with value: 5.960959025637962 and parameters: {'Pixel4': 4, 'SamsungS20Ultra': 3}. Best is trial 28 with value: 5.882261065486236.\u001b[0m\n",
      "\u001b[32m[I 2021-08-02 10:39:42,703]\u001b[0m Trial 31 finished with value: 5.884445482626823 and parameters: {'Pixel4': 5, 'SamsungS20Ultra': 8}. Best is trial 28 with value: 5.882261065486236.\u001b[0m\n",
      "\u001b[32m[I 2021-08-02 10:39:43,156]\u001b[0m Trial 32 finished with value: 5.896710359600292 and parameters: {'Pixel4': 4, 'SamsungS20Ultra': 8}. Best is trial 28 with value: 5.882261065486236.\u001b[0m\n",
      "\u001b[32m[I 2021-08-02 10:39:43,756]\u001b[0m Trial 33 finished with value: 5.882261065486236 and parameters: {'Pixel4': 6, 'SamsungS20Ultra': 9}. Best is trial 28 with value: 5.882261065486236.\u001b[0m\n",
      "\u001b[32m[I 2021-08-02 10:39:44,211]\u001b[0m Trial 34 finished with value: 5.882261065486236 and parameters: {'Pixel4': 6, 'SamsungS20Ultra': 9}. Best is trial 28 with value: 5.882261065486236.\u001b[0m\n",
      "\u001b[32m[I 2021-08-02 10:39:44,674]\u001b[0m Trial 35 finished with value: 5.879461520018203 and parameters: {'Pixel4': 6, 'SamsungS20Ultra': 10}. Best is trial 35 with value: 5.879461520018203.\u001b[0m\n",
      "\u001b[32m[I 2021-08-02 10:39:45,145]\u001b[0m Trial 36 finished with value: 5.902414730122008 and parameters: {'Pixel4': 8, 'SamsungS20Ultra': 10}. Best is trial 35 with value: 5.879461520018203.\u001b[0m\n",
      "\u001b[32m[I 2021-08-02 10:39:45,601]\u001b[0m Trial 37 finished with value: 6.0379836290918005 and parameters: {'Pixel4': 6, 'SamsungS20Ultra': 4}. Best is trial 35 with value: 5.879461520018203.\u001b[0m\n",
      "\u001b[32m[I 2021-08-02 10:39:46,053]\u001b[0m Trial 38 finished with value: 5.8833747642593 and parameters: {'Pixel4': 7, 'SamsungS20Ultra': 10}. Best is trial 35 with value: 5.879461520018203.\u001b[0m\n",
      "\u001b[32m[I 2021-08-02 10:39:46,504]\u001b[0m Trial 39 finished with value: 6.3771419129474465 and parameters: {'Pixel4': 6, 'SamsungS20Ultra': 2}. Best is trial 35 with value: 5.879461520018203.\u001b[0m\n",
      "\u001b[32m[I 2021-08-02 10:39:46,955]\u001b[0m Trial 40 finished with value: 5.99377812444941 and parameters: {'Pixel4': 7, 'SamsungS20Ultra': 5}. Best is trial 35 with value: 5.879461520018203.\u001b[0m\n",
      "\u001b[32m[I 2021-08-02 10:39:47,415]\u001b[0m Trial 41 finished with value: 5.8833747642593 and parameters: {'Pixel4': 7, 'SamsungS20Ultra': 10}. Best is trial 35 with value: 5.879461520018203.\u001b[0m\n",
      "\u001b[32m[I 2021-08-02 10:39:47,876]\u001b[0m Trial 42 finished with value: 5.882261065486236 and parameters: {'Pixel4': 6, 'SamsungS20Ultra': 9}. Best is trial 35 with value: 5.879461520018203.\u001b[0m\n",
      "\u001b[32m[I 2021-08-02 10:39:48,330]\u001b[0m Trial 43 finished with value: 5.882261065486236 and parameters: {'Pixel4': 6, 'SamsungS20Ultra': 9}. Best is trial 35 with value: 5.879461520018203.\u001b[0m\n",
      "\u001b[32m[I 2021-08-02 10:39:48,784]\u001b[0m Trial 44 finished with value: 5.882261065486236 and parameters: {'Pixel4': 6, 'SamsungS20Ultra': 9}. Best is trial 35 with value: 5.879461520018203.\u001b[0m\n",
      "\u001b[32m[I 2021-08-02 10:39:49,238]\u001b[0m Trial 45 finished with value: 5.920907788766255 and parameters: {'Pixel4': 8, 'SamsungS20Ultra': 8}. Best is trial 35 with value: 5.879461520018203.\u001b[0m\n",
      "\u001b[32m[I 2021-08-02 10:39:49,690]\u001b[0m Trial 46 finished with value: 5.879461520018203 and parameters: {'Pixel4': 6, 'SamsungS20Ultra': 10}. Best is trial 35 with value: 5.879461520018203.\u001b[0m\n",
      "\u001b[32m[I 2021-08-02 10:39:50,140]\u001b[0m Trial 47 finished with value: 5.9165161430820135 and parameters: {'Pixel4': 9, 'SamsungS20Ultra': 10}. Best is trial 35 with value: 5.879461520018203.\u001b[0m\n",
      "\u001b[32m[I 2021-08-02 10:39:50,595]\u001b[0m Trial 48 finished with value: 5.879461520018203 and parameters: {'Pixel4': 6, 'SamsungS20Ultra': 10}. Best is trial 35 with value: 5.879461520018203.\u001b[0m\n",
      "\u001b[32m[I 2021-08-02 10:39:51,047]\u001b[0m Trial 49 finished with value: 5.8833747642593 and parameters: {'Pixel4': 7, 'SamsungS20Ultra': 10}. Best is trial 35 with value: 5.879461520018203.\u001b[0m\n",
      "\u001b[32m[I 2021-08-02 10:39:51,497]\u001b[0m Trial 50 finished with value: 5.879461520018203 and parameters: {'Pixel4': 6, 'SamsungS20Ultra': 10}. Best is trial 35 with value: 5.879461520018203.\u001b[0m\n",
      "\u001b[32m[I 2021-08-02 10:39:51,951]\u001b[0m Trial 51 finished with value: 5.879461520018203 and parameters: {'Pixel4': 6, 'SamsungS20Ultra': 10}. Best is trial 35 with value: 5.879461520018203.\u001b[0m\n",
      "\u001b[32m[I 2021-08-02 10:39:52,413]\u001b[0m Trial 52 finished with value: 5.879461520018203 and parameters: {'Pixel4': 6, 'SamsungS20Ultra': 10}. Best is trial 35 with value: 5.879461520018203.\u001b[0m\n",
      "\u001b[32m[I 2021-08-02 10:39:52,866]\u001b[0m Trial 53 finished with value: 5.8833747642593 and parameters: {'Pixel4': 7, 'SamsungS20Ultra': 10}. Best is trial 35 with value: 5.879461520018203.\u001b[0m\n",
      "\u001b[32m[I 2021-08-02 10:39:53,318]\u001b[0m Trial 54 finished with value: 5.879461520018203 and parameters: {'Pixel4': 6, 'SamsungS20Ultra': 10}. Best is trial 35 with value: 5.879461520018203.\u001b[0m\n",
      "\u001b[32m[I 2021-08-02 10:39:53,770]\u001b[0m Trial 55 finished with value: 5.896710359600292 and parameters: {'Pixel4': 5, 'SamsungS20Ultra': 10}. Best is trial 35 with value: 5.879461520018203.\u001b[0m\n",
      "\u001b[32m[I 2021-08-02 10:39:54,227]\u001b[0m Trial 56 finished with value: 5.8833747642593 and parameters: {'Pixel4': 7, 'SamsungS20Ultra': 10}. Best is trial 35 with value: 5.879461520018203.\u001b[0m\n",
      "\u001b[32m[I 2021-08-02 10:39:54,680]\u001b[0m Trial 57 finished with value: 5.879461520018203 and parameters: {'Pixel4': 6, 'SamsungS20Ultra': 10}. Best is trial 35 with value: 5.879461520018203.\u001b[0m\n",
      "\u001b[32m[I 2021-08-02 10:39:55,143]\u001b[0m Trial 58 finished with value: 5.884159854920632 and parameters: {'Pixel4': 5, 'SamsungS20Ultra': 9}. Best is trial 35 with value: 5.879461520018203.\u001b[0m\n",
      "\u001b[32m[I 2021-08-02 10:39:55,604]\u001b[0m Trial 59 finished with value: 5.879461520018203 and parameters: {'Pixel4': 6, 'SamsungS20Ultra': 10}. Best is trial 35 with value: 5.879461520018203.\u001b[0m\n",
      "\u001b[32m[I 2021-08-02 10:39:56,048]\u001b[0m Trial 60 finished with value: 5.902414730122008 and parameters: {'Pixel4': 8, 'SamsungS20Ultra': 10}. Best is trial 35 with value: 5.879461520018203.\u001b[0m\n",
      "\u001b[32m[I 2021-08-02 10:39:56,489]\u001b[0m Trial 61 finished with value: 5.879461520018203 and parameters: {'Pixel4': 6, 'SamsungS20Ultra': 10}. Best is trial 35 with value: 5.879461520018203.\u001b[0m\n",
      "\u001b[32m[I 2021-08-02 10:39:56,959]\u001b[0m Trial 62 finished with value: 5.884159854920632 and parameters: {'Pixel4': 5, 'SamsungS20Ultra': 9}. Best is trial 35 with value: 5.879461520018203.\u001b[0m\n",
      "\u001b[32m[I 2021-08-02 10:39:57,411]\u001b[0m Trial 63 finished with value: 5.879461520018203 and parameters: {'Pixel4': 6, 'SamsungS20Ultra': 10}. Best is trial 35 with value: 5.879461520018203.\u001b[0m\n",
      "\u001b[32m[I 2021-08-02 10:39:57,858]\u001b[0m Trial 64 finished with value: 5.896536039565149 and parameters: {'Pixel4': 7, 'SamsungS20Ultra': 9}. Best is trial 35 with value: 5.879461520018203.\u001b[0m\n",
      "\u001b[32m[I 2021-08-02 10:39:58,309]\u001b[0m Trial 65 finished with value: 5.896710359600292 and parameters: {'Pixel4': 5, 'SamsungS20Ultra': 10}. Best is trial 35 with value: 5.879461520018203.\u001b[0m\n",
      "\u001b[32m[I 2021-08-02 10:39:58,768]\u001b[0m Trial 66 finished with value: 5.882261065486236 and parameters: {'Pixel4': 6, 'SamsungS20Ultra': 9}. Best is trial 35 with value: 5.879461520018203.\u001b[0m\n",
      "\u001b[32m[I 2021-08-02 10:39:59,230]\u001b[0m Trial 67 finished with value: 5.896536039565149 and parameters: {'Pixel4': 7, 'SamsungS20Ultra': 9}. Best is trial 35 with value: 5.879461520018203.\u001b[0m\n",
      "\u001b[32m[I 2021-08-02 10:39:59,700]\u001b[0m Trial 68 finished with value: 5.879461520018203 and parameters: {'Pixel4': 6, 'SamsungS20Ultra': 10}. Best is trial 35 with value: 5.879461520018203.\u001b[0m\n",
      "\u001b[32m[I 2021-08-02 10:40:00,160]\u001b[0m Trial 69 finished with value: 5.896710359600292 and parameters: {'Pixel4': 5, 'SamsungS20Ultra': 10}. Best is trial 35 with value: 5.879461520018203.\u001b[0m\n",
      "\u001b[32m[I 2021-08-02 10:40:00,627]\u001b[0m Trial 70 finished with value: 5.896536039565149 and parameters: {'Pixel4': 7, 'SamsungS20Ultra': 9}. Best is trial 35 with value: 5.879461520018203.\u001b[0m\n",
      "\u001b[32m[I 2021-08-02 10:40:01,083]\u001b[0m Trial 71 finished with value: 5.879461520018203 and parameters: {'Pixel4': 6, 'SamsungS20Ultra': 10}. Best is trial 35 with value: 5.879461520018203.\u001b[0m\n",
      "\u001b[32m[I 2021-08-02 10:40:01,548]\u001b[0m Trial 72 finished with value: 5.879461520018203 and parameters: {'Pixel4': 6, 'SamsungS20Ultra': 10}. Best is trial 35 with value: 5.879461520018203.\u001b[0m\n",
      "\u001b[32m[I 2021-08-02 10:40:02,014]\u001b[0m Trial 73 finished with value: 5.884445482626823 and parameters: {'Pixel4': 5, 'SamsungS20Ultra': 8}. Best is trial 35 with value: 5.879461520018203.\u001b[0m\n",
      "\u001b[32m[I 2021-08-02 10:40:02,465]\u001b[0m Trial 74 finished with value: 5.879461520018203 and parameters: {'Pixel4': 6, 'SamsungS20Ultra': 10}. Best is trial 35 with value: 5.879461520018203.\u001b[0m\n",
      "\u001b[32m[I 2021-08-02 10:40:02,929]\u001b[0m Trial 75 finished with value: 5.8833747642593 and parameters: {'Pixel4': 7, 'SamsungS20Ultra': 10}. Best is trial 35 with value: 5.879461520018203.\u001b[0m\n",
      "\u001b[32m[I 2021-08-02 10:40:03,426]\u001b[0m Trial 76 finished with value: 5.879461520018203 and parameters: {'Pixel4': 6, 'SamsungS20Ultra': 10}. Best is trial 35 with value: 5.879461520018203.\u001b[0m\n",
      "\u001b[32m[I 2021-08-02 10:40:03,927]\u001b[0m Trial 77 finished with value: 5.884159854920632 and parameters: {'Pixel4': 5, 'SamsungS20Ultra': 9}. Best is trial 35 with value: 5.879461520018203.\u001b[0m\n",
      "\u001b[32m[I 2021-08-02 10:40:04,407]\u001b[0m Trial 78 finished with value: 5.882261065486236 and parameters: {'Pixel4': 6, 'SamsungS20Ultra': 9}. Best is trial 35 with value: 5.879461520018203.\u001b[0m\n",
      "\u001b[32m[I 2021-08-02 10:40:04,888]\u001b[0m Trial 79 finished with value: 5.8833747642593 and parameters: {'Pixel4': 7, 'SamsungS20Ultra': 10}. Best is trial 35 with value: 5.879461520018203.\u001b[0m\n",
      "\u001b[32m[I 2021-08-02 10:40:05,387]\u001b[0m Trial 80 finished with value: 5.891925187764272 and parameters: {'Pixel4': 6, 'SamsungS20Ultra': 8}. Best is trial 35 with value: 5.879461520018203.\u001b[0m\n",
      "\u001b[32m[I 2021-08-02 10:40:05,880]\u001b[0m Trial 81 finished with value: 5.879461520018203 and parameters: {'Pixel4': 6, 'SamsungS20Ultra': 10}. Best is trial 35 with value: 5.879461520018203.\u001b[0m\n",
      "\u001b[32m[I 2021-08-02 10:40:06,368]\u001b[0m Trial 82 finished with value: 5.879461520018203 and parameters: {'Pixel4': 6, 'SamsungS20Ultra': 10}. Best is trial 35 with value: 5.879461520018203.\u001b[0m\n",
      "\u001b[32m[I 2021-08-02 10:40:06,879]\u001b[0m Trial 83 finished with value: 5.896710359600292 and parameters: {'Pixel4': 5, 'SamsungS20Ultra': 10}. Best is trial 35 with value: 5.879461520018203.\u001b[0m\n",
      "\u001b[32m[I 2021-08-02 10:40:07,362]\u001b[0m Trial 84 finished with value: 5.882261065486236 and parameters: {'Pixel4': 6, 'SamsungS20Ultra': 9}. Best is trial 35 with value: 5.879461520018203.\u001b[0m\n",
      "\u001b[32m[I 2021-08-02 10:40:07,855]\u001b[0m Trial 85 finished with value: 5.879461520018203 and parameters: {'Pixel4': 6, 'SamsungS20Ultra': 10}. Best is trial 35 with value: 5.879461520018203.\u001b[0m\n",
      "\u001b[32m[I 2021-08-02 10:40:08,330]\u001b[0m Trial 86 finished with value: 5.8833747642593 and parameters: {'Pixel4': 7, 'SamsungS20Ultra': 10}. Best is trial 35 with value: 5.879461520018203.\u001b[0m\n",
      "\u001b[32m[I 2021-08-02 10:40:08,826]\u001b[0m Trial 87 finished with value: 5.884159854920632 and parameters: {'Pixel4': 5, 'SamsungS20Ultra': 9}. Best is trial 35 with value: 5.879461520018203.\u001b[0m\n",
      "\u001b[32m[I 2021-08-02 10:40:09,293]\u001b[0m Trial 88 finished with value: 5.879461520018203 and parameters: {'Pixel4': 6, 'SamsungS20Ultra': 10}. Best is trial 35 with value: 5.879461520018203.\u001b[0m\n",
      "\u001b[32m[I 2021-08-02 10:40:09,770]\u001b[0m Trial 89 finished with value: 5.8833747642593 and parameters: {'Pixel4': 7, 'SamsungS20Ultra': 10}. Best is trial 35 with value: 5.879461520018203.\u001b[0m\n",
      "\u001b[32m[I 2021-08-02 10:40:10,235]\u001b[0m Trial 90 finished with value: 5.882261065486236 and parameters: {'Pixel4': 6, 'SamsungS20Ultra': 9}. Best is trial 35 with value: 5.879461520018203.\u001b[0m\n",
      "\u001b[32m[I 2021-08-02 10:40:10,689]\u001b[0m Trial 91 finished with value: 5.879461520018203 and parameters: {'Pixel4': 6, 'SamsungS20Ultra': 10}. Best is trial 35 with value: 5.879461520018203.\u001b[0m\n",
      "\u001b[32m[I 2021-08-02 10:40:11,171]\u001b[0m Trial 92 finished with value: 5.879461520018203 and parameters: {'Pixel4': 6, 'SamsungS20Ultra': 10}. Best is trial 35 with value: 5.879461520018203.\u001b[0m\n",
      "\u001b[32m[I 2021-08-02 10:40:11,630]\u001b[0m Trial 93 finished with value: 5.879461520018203 and parameters: {'Pixel4': 6, 'SamsungS20Ultra': 10}. Best is trial 35 with value: 5.879461520018203.\u001b[0m\n",
      "\u001b[32m[I 2021-08-02 10:40:12,093]\u001b[0m Trial 94 finished with value: 5.896710359600292 and parameters: {'Pixel4': 5, 'SamsungS20Ultra': 10}. Best is trial 35 with value: 5.879461520018203.\u001b[0m\n",
      "\u001b[32m[I 2021-08-02 10:40:12,554]\u001b[0m Trial 95 finished with value: 5.879461520018203 and parameters: {'Pixel4': 6, 'SamsungS20Ultra': 10}. Best is trial 35 with value: 5.879461520018203.\u001b[0m\n",
      "\u001b[32m[I 2021-08-02 10:40:13,014]\u001b[0m Trial 96 finished with value: 5.896536039565149 and parameters: {'Pixel4': 7, 'SamsungS20Ultra': 9}. Best is trial 35 with value: 5.879461520018203.\u001b[0m\n",
      "\u001b[32m[I 2021-08-02 10:40:13,484]\u001b[0m Trial 97 finished with value: 5.896710359600292 and parameters: {'Pixel4': 5, 'SamsungS20Ultra': 10}. Best is trial 35 with value: 5.879461520018203.\u001b[0m\n",
      "\u001b[32m[I 2021-08-02 10:40:13,938]\u001b[0m Trial 98 finished with value: 5.879461520018203 and parameters: {'Pixel4': 6, 'SamsungS20Ultra': 10}. Best is trial 35 with value: 5.879461520018203.\u001b[0m\n",
      "\u001b[32m[I 2021-08-02 10:40:14,397]\u001b[0m Trial 99 finished with value: 5.896536039565149 and parameters: {'Pixel4': 7, 'SamsungS20Ultra': 9}. Best is trial 35 with value: 5.879461520018203.\u001b[0m\n"
     ]
    },
    {
     "name": "stdout",
     "output_type": "stream",
     "text": [
      "{'Pixel4': 6, 'SamsungS20Ultra': 10}\n"
     ]
    }
   ],
   "source": [
    "study = optuna.create_study()\n",
    "study.optimize(phones_mean_objective, n_trials=100)\n",
    "phones_mean_weights = study.best_params\n",
    "print(phones_mean_weights)"
   ]
  },
  {
   "cell_type": "code",
   "execution_count": 39,
   "id": "enormous-complaint",
   "metadata": {},
   "outputs": [
    {
     "name": "stderr",
     "output_type": "stream",
     "text": [
      "/opt/conda/lib/python3.7/site-packages/ipykernel_launcher.py:26: FutureWarning: Indexing with multiple keys (implicitly converted to a tuple of keys) will be deprecated, use a list instead.\n"
     ]
    }
   ],
   "source": [
    "train = calc_mean_pred(train, phones_mean_weights)"
   ]
  },
  {
   "cell_type": "code",
   "execution_count": 40,
   "id": "protected-heading",
   "metadata": {},
   "outputs": [
    {
     "name": "stdout",
     "output_type": "stream",
     "text": [
      "5.879461520018203\n"
     ]
    },
    {
     "data": {
      "text/html": [
       "<div>\n",
       "<style scoped>\n",
       "    .dataframe tbody tr th:only-of-type {\n",
       "        vertical-align: middle;\n",
       "    }\n",
       "\n",
       "    .dataframe tbody tr th {\n",
       "        vertical-align: top;\n",
       "    }\n",
       "\n",
       "    .dataframe thead th {\n",
       "        text-align: right;\n",
       "    }\n",
       "</style>\n",
       "<table border=\"1\" class=\"dataframe\">\n",
       "  <thead>\n",
       "    <tr style=\"text-align: right;\">\n",
       "      <th></th>\n",
       "      <th>percentile50</th>\n",
       "      <th>percentile95</th>\n",
       "      <th>p50_p90_mean</th>\n",
       "    </tr>\n",
       "    <tr>\n",
       "      <th>phone</th>\n",
       "      <th></th>\n",
       "      <th></th>\n",
       "      <th></th>\n",
       "    </tr>\n",
       "  </thead>\n",
       "  <tbody>\n",
       "    <tr>\n",
       "      <th>2021-04-22-US-SJC-1_Pixel4</th>\n",
       "      <td>3.842151</td>\n",
       "      <td>10.279759</td>\n",
       "      <td>7.060955</td>\n",
       "    </tr>\n",
       "    <tr>\n",
       "      <th>2021-04-22-US-SJC-1_SamsungS20Ultra</th>\n",
       "      <td>3.751606</td>\n",
       "      <td>10.226122</td>\n",
       "      <td>6.988864</td>\n",
       "    </tr>\n",
       "    <tr>\n",
       "      <th>2021-04-28-US-SJC-1_Pixel4</th>\n",
       "      <td>2.556783</td>\n",
       "      <td>7.619251</td>\n",
       "      <td>5.088017</td>\n",
       "    </tr>\n",
       "    <tr>\n",
       "      <th>2021-04-28-US-SJC-1_SamsungS20Ultra</th>\n",
       "      <td>2.580141</td>\n",
       "      <td>7.703377</td>\n",
       "      <td>5.141759</td>\n",
       "    </tr>\n",
       "    <tr>\n",
       "      <th>2021-04-29-US-SJC-2_Pixel4</th>\n",
       "      <td>2.165617</td>\n",
       "      <td>8.931010</td>\n",
       "      <td>5.548314</td>\n",
       "    </tr>\n",
       "    <tr>\n",
       "      <th>2021-04-29-US-SJC-2_SamsungS20Ultra</th>\n",
       "      <td>2.034777</td>\n",
       "      <td>8.862943</td>\n",
       "      <td>5.448860</td>\n",
       "    </tr>\n",
       "  </tbody>\n",
       "</table>\n",
       "</div>"
      ],
      "text/plain": [
       "                                     percentile50  percentile95  p50_p90_mean\n",
       "phone                                                                        \n",
       "2021-04-22-US-SJC-1_Pixel4               3.842151     10.279759      7.060955\n",
       "2021-04-22-US-SJC-1_SamsungS20Ultra      3.751606     10.226122      6.988864\n",
       "2021-04-28-US-SJC-1_Pixel4               2.556783      7.619251      5.088017\n",
       "2021-04-28-US-SJC-1_SamsungS20Ultra      2.580141      7.703377      5.141759\n",
       "2021-04-29-US-SJC-2_Pixel4               2.165617      8.931010      5.548314\n",
       "2021-04-29-US-SJC-2_SamsungS20Ultra      2.034777      8.862943      5.448860"
      ]
     },
     "metadata": {},
     "output_type": "display_data"
    }
   ],
   "source": [
    "res = train_result(train)\n",
    "print(res.score)\n",
    "display(res.err)"
   ]
  },
  {
   "cell_type": "code",
   "execution_count": 45,
   "id": "wound-diameter",
   "metadata": {},
   "outputs": [],
   "source": [
    "train['phone'] = train['collectionName'] + '_' + train['phoneName']"
   ]
  },
  {
   "cell_type": "markdown",
   "id": "potential-jacksonville",
   "metadata": {},
   "source": [
    "# position_shift"
   ]
  },
  {
   "cell_type": "code",
   "execution_count": 46,
   "id": "searching-directory",
   "metadata": {},
   "outputs": [],
   "source": [
    "def WGS84_to_ECEF(lat, lon, alt):\n",
    "    # convert to radians\n",
    "    rad_lat = lat * (np.pi / 180.0)\n",
    "    rad_lon = lon * (np.pi / 180.0)\n",
    "    a    = 6378137.0\n",
    "    # f is the flattening factor\n",
    "    finv = 298.257223563\n",
    "    f = 1 / finv   \n",
    "    # e is the eccentricity\n",
    "    e2 = 1 - (1 - f) * (1 - f)    \n",
    "    # N is the radius of curvature in the prime vertical\n",
    "    N = a / np.sqrt(1 - e2 * np.sin(rad_lat) * np.sin(rad_lat))\n",
    "    x = (N + alt) * np.cos(rad_lat) * np.cos(rad_lon)\n",
    "    y = (N + alt) * np.cos(rad_lat) * np.sin(rad_lon)\n",
    "    z = (N * (1 - e2) + alt)        * np.sin(rad_lat)\n",
    "    return x, y, z\n",
    "\n",
    "transformer = pyproj.Transformer.from_crs(\n",
    "    {\"proj\":'geocent', \"ellps\":'WGS84', \"datum\":'WGS84'},\n",
    "    {\"proj\":'latlong', \"ellps\":'WGS84', \"datum\":'WGS84'},)\n",
    "\n",
    "def ECEF_to_WGS84(x,y,z):\n",
    "    lon, lat, alt = transformer.transform(x,y,z,radians=False)\n",
    "    return lon, lat, alt\n",
    "msge = 'millisSinceGpsEpoch'"
   ]
  },
  {
   "cell_type": "code",
   "execution_count": 47,
   "id": "liberal-nowhere",
   "metadata": {},
   "outputs": [],
   "source": [
    "def position_shift(df,a):\n",
    "\n",
    "    d = df.copy()\n",
    "    d['heightAboveWgs84EllipsoidM'] = 63.5\n",
    "    d['x'], d['y'], d['z'] = zip(*d.apply(lambda x: WGS84_to_ECEF(x.latDeg, x.lngDeg, x.heightAboveWgs84EllipsoidM), axis=1))\n",
    "\n",
    "    #a = -0.2\n",
    "    d.sort_values(['phone', msge], inplace=True)\n",
    "    for fi in ['x','y','z']:\n",
    "        d[[fi+'p']] = d[fi].shift().where(d['phone'].eq(d['phone'].shift()))\n",
    "        d[[fi+'diff']] = d[fi]-d[fi+'p']\n",
    "    #d[['yp']] = d['y'].shift().where(d['phone'].eq(d['phone'].shift()))\n",
    "    d[['dist']] = np.sqrt(d['xdiff']**2 + d['ydiff']**2+ d['zdiff']**2)\n",
    "    for fi in ['x','y','z']:\n",
    "        d[[fi+'new']] = d[fi+'p'] + d[fi+'diff']*(1-a/d['dist'])\n",
    "    lng, lat, alt = ECEF_to_WGS84(d['xnew'].values,d['ynew'].values,d['znew'].values)\n",
    "    \n",
    "    lng[np.isnan(lng)] = d.loc[np.isnan(lng),'lngDeg']\n",
    "    lat[np.isnan(lat)] = d.loc[np.isnan(lat),'latDeg']\n",
    "    d['latDeg'] = lat\n",
    "    d['lngDeg'] = lng\n",
    "    \n",
    "    return d \n",
    "\n",
    "def objective(trial):\n",
    "    a = trial.suggest_uniform('a', -1, 1)\n",
    "    score = get_train_score(position_shift(train, a),gt)\n",
    "    return score"
   ]
  },
  {
   "cell_type": "code",
   "execution_count": 48,
   "id": "hybrid-brother",
   "metadata": {},
   "outputs": [
    {
     "name": "stderr",
     "output_type": "stream",
     "text": [
      "\u001b[32m[I 2021-08-02 10:44:12,683]\u001b[0m A new study created in memory with name: no-name-5dd476ef-043a-48e8-bd15-0531507cadc6\u001b[0m\n",
      "\u001b[32m[I 2021-08-02 10:44:13,121]\u001b[0m Trial 0 finished with value: 5.7089550051733156 and parameters: {'a': 0.8346526627532704}. Best is trial 0 with value: 5.7089550051733156.\u001b[0m\n",
      "\u001b[32m[I 2021-08-02 10:44:13,559]\u001b[0m Trial 1 finished with value: 5.985254519864249 and parameters: {'a': -0.25629505615487824}. Best is trial 0 with value: 5.7089550051733156.\u001b[0m\n",
      "\u001b[32m[I 2021-08-02 10:44:13,996]\u001b[0m Trial 2 finished with value: 5.971431145058925 and parameters: {'a': -0.22725401347631857}. Best is trial 0 with value: 5.7089550051733156.\u001b[0m\n",
      "\u001b[32m[I 2021-08-02 10:44:14,430]\u001b[0m Trial 3 finished with value: 5.761481341878766 and parameters: {'a': 0.4783483723323074}. Best is trial 0 with value: 5.7089550051733156.\u001b[0m\n",
      "\u001b[32m[I 2021-08-02 10:44:14,985]\u001b[0m Trial 4 finished with value: 5.944979544954877 and parameters: {'a': -0.16396675175681397}. Best is trial 0 with value: 5.7089550051733156.\u001b[0m\n",
      "\u001b[32m[I 2021-08-02 10:44:15,418]\u001b[0m Trial 5 finished with value: 5.689982070190756 and parameters: {'a': 0.981107764850147}. Best is trial 5 with value: 5.689982070190756.\u001b[0m\n",
      "\u001b[32m[I 2021-08-02 10:44:15,862]\u001b[0m Trial 6 finished with value: 5.948222299142653 and parameters: {'a': -0.16924742123959535}. Best is trial 5 with value: 5.689982070190756.\u001b[0m\n",
      "\u001b[32m[I 2021-08-02 10:44:16,299]\u001b[0m Trial 7 finished with value: 5.891054778350234 and parameters: {'a': -0.029028509080661014}. Best is trial 5 with value: 5.689982070190756.\u001b[0m\n",
      "\u001b[32m[I 2021-08-02 10:44:16,833]\u001b[0m Trial 8 finished with value: 6.3714128722793975 and parameters: {'a': -0.9700504709986191}. Best is trial 5 with value: 5.689982070190756.\u001b[0m\n",
      "\u001b[32m[I 2021-08-02 10:44:17,272]\u001b[0m Trial 9 finished with value: 6.001565908334359 and parameters: {'a': -0.2939891141091584}. Best is trial 5 with value: 5.689982070190756.\u001b[0m\n",
      "\u001b[32m[I 2021-08-02 10:44:17,729]\u001b[0m Trial 10 finished with value: 5.69064228808492 and parameters: {'a': 0.996757376913667}. Best is trial 5 with value: 5.689982070190756.\u001b[0m\n",
      "\u001b[32m[I 2021-08-02 10:44:18,174]\u001b[0m Trial 11 finished with value: 5.690294604168507 and parameters: {'a': 0.9860486196398348}. Best is trial 5 with value: 5.689982070190756.\u001b[0m\n",
      "\u001b[32m[I 2021-08-02 10:44:18,618]\u001b[0m Trial 12 finished with value: 5.743880826246148 and parameters: {'a': 0.5875057734364604}. Best is trial 5 with value: 5.689982070190756.\u001b[0m\n",
      "\u001b[32m[I 2021-08-02 10:44:19,166]\u001b[0m Trial 13 finished with value: 5.799653413084704 and parameters: {'a': 0.3241781036016372}. Best is trial 5 with value: 5.689982070190756.\u001b[0m\n",
      "\u001b[32m[I 2021-08-02 10:44:19,622]\u001b[0m Trial 14 finished with value: 5.705255727430571 and parameters: {'a': 0.8480535995910397}. Best is trial 5 with value: 5.689982070190756.\u001b[0m\n",
      "\u001b[32m[I 2021-08-02 10:44:20,065]\u001b[0m Trial 15 finished with value: 6.262534570484415 and parameters: {'a': -0.7765039642372312}. Best is trial 5 with value: 5.689982070190756.\u001b[0m\n",
      "\u001b[32m[I 2021-08-02 10:44:20,513]\u001b[0m Trial 16 finished with value: 5.820725564672745 and parameters: {'a': 0.2384925075658414}. Best is trial 5 with value: 5.689982070190756.\u001b[0m\n",
      "\u001b[32m[I 2021-08-02 10:44:20,954]\u001b[0m Trial 17 finished with value: 5.690082750014464 and parameters: {'a': 0.9780171162505802}. Best is trial 5 with value: 5.689982070190756.\u001b[0m\n",
      "\u001b[32m[I 2021-08-02 10:44:21,504]\u001b[0m Trial 18 finished with value: 5.736339358166752 and parameters: {'a': 0.6643422385491153}. Best is trial 5 with value: 5.689982070190756.\u001b[0m\n",
      "\u001b[32m[I 2021-08-02 10:44:21,950]\u001b[0m Trial 19 finished with value: 5.7174498033244605 and parameters: {'a': 0.7532511544535647}. Best is trial 5 with value: 5.689982070190756.\u001b[0m\n",
      "\u001b[32m[I 2021-08-02 10:44:22,391]\u001b[0m Trial 20 finished with value: 6.099573088477544 and parameters: {'a': -0.48442172205079403}. Best is trial 5 with value: 5.689982070190756.\u001b[0m\n",
      "\u001b[32m[I 2021-08-02 10:44:22,835]\u001b[0m Trial 21 finished with value: 5.691126534227745 and parameters: {'a': 0.9579410945861041}. Best is trial 5 with value: 5.689982070190756.\u001b[0m\n",
      "\u001b[32m[I 2021-08-02 10:44:23,387]\u001b[0m Trial 22 finished with value: 5.6972744872119065 and parameters: {'a': 0.9134685720069149}. Best is trial 5 with value: 5.689982070190756.\u001b[0m\n",
      "\u001b[32m[I 2021-08-02 10:44:23,918]\u001b[0m Trial 23 finished with value: 5.6906907472064425 and parameters: {'a': 0.9939996268806074}. Best is trial 5 with value: 5.689982070190756.\u001b[0m\n",
      "\u001b[32m[I 2021-08-02 10:44:24,488]\u001b[0m Trial 24 finished with value: 5.766395461878017 and parameters: {'a': 0.4525102003911715}. Best is trial 5 with value: 5.689982070190756.\u001b[0m\n",
      "\u001b[32m[I 2021-08-02 10:44:24,940]\u001b[0m Trial 25 finished with value: 5.727924784399058 and parameters: {'a': 0.7003532623555986}. Best is trial 5 with value: 5.689982070190756.\u001b[0m\n",
      "\u001b[32m[I 2021-08-02 10:44:25,384]\u001b[0m Trial 26 finished with value: 5.840231220718029 and parameters: {'a': 0.12925867926336118}. Best is trial 5 with value: 5.689982070190756.\u001b[0m\n",
      "\u001b[32m[I 2021-08-02 10:44:25,962]\u001b[0m Trial 27 finished with value: 5.765282938890866 and parameters: {'a': 0.4604679515594563}. Best is trial 5 with value: 5.689982070190756.\u001b[0m\n",
      "\u001b[32m[I 2021-08-02 10:44:26,433]\u001b[0m Trial 28 finished with value: 5.714955372230079 and parameters: {'a': 0.7868063069341104}. Best is trial 5 with value: 5.689982070190756.\u001b[0m\n",
      "\u001b[32m[I 2021-08-02 10:44:26,881]\u001b[0m Trial 29 finished with value: 5.690620203050262 and parameters: {'a': 0.9991182315831487}. Best is trial 5 with value: 5.689982070190756.\u001b[0m\n"
     ]
    },
    {
     "name": "stdout",
     "output_type": "stream",
     "text": [
      "0.981107764850147\n"
     ]
    }
   ],
   "source": [
    "study = optuna.create_study()\n",
    "study.optimize(objective, n_trials=30)\n",
    "opt_a = study.best_params['a']\n",
    "print(opt_a)"
   ]
  },
  {
   "cell_type": "code",
   "execution_count": 49,
   "id": "changed-cookbook",
   "metadata": {},
   "outputs": [],
   "source": [
    "train = position_shift(train, opt_a)\n",
    "train.to_csv(OUTPUT + '/train_ro_rog_kf_sp0_pm_ps.csv', index=False)"
   ]
  },
  {
   "cell_type": "code",
   "execution_count": 50,
   "id": "tired-clerk",
   "metadata": {},
   "outputs": [
    {
     "name": "stdout",
     "output_type": "stream",
     "text": [
      "5.689982070190756\n"
     ]
    },
    {
     "data": {
      "text/html": [
       "<div>\n",
       "<style scoped>\n",
       "    .dataframe tbody tr th:only-of-type {\n",
       "        vertical-align: middle;\n",
       "    }\n",
       "\n",
       "    .dataframe tbody tr th {\n",
       "        vertical-align: top;\n",
       "    }\n",
       "\n",
       "    .dataframe thead th {\n",
       "        text-align: right;\n",
       "    }\n",
       "</style>\n",
       "<table border=\"1\" class=\"dataframe\">\n",
       "  <thead>\n",
       "    <tr style=\"text-align: right;\">\n",
       "      <th></th>\n",
       "      <th>percentile50</th>\n",
       "      <th>percentile95</th>\n",
       "      <th>p50_p90_mean</th>\n",
       "    </tr>\n",
       "    <tr>\n",
       "      <th>phone</th>\n",
       "      <th></th>\n",
       "      <th></th>\n",
       "      <th></th>\n",
       "    </tr>\n",
       "  </thead>\n",
       "  <tbody>\n",
       "    <tr>\n",
       "      <th>2021-04-22-US-SJC-1_Pixel4</th>\n",
       "      <td>3.580857</td>\n",
       "      <td>9.490830</td>\n",
       "      <td>6.535843</td>\n",
       "    </tr>\n",
       "    <tr>\n",
       "      <th>2021-04-22-US-SJC-1_SamsungS20Ultra</th>\n",
       "      <td>3.490542</td>\n",
       "      <td>9.455580</td>\n",
       "      <td>6.473061</td>\n",
       "    </tr>\n",
       "    <tr>\n",
       "      <th>2021-04-28-US-SJC-1_Pixel4</th>\n",
       "      <td>2.586463</td>\n",
       "      <td>7.680867</td>\n",
       "      <td>5.133665</td>\n",
       "    </tr>\n",
       "    <tr>\n",
       "      <th>2021-04-28-US-SJC-1_SamsungS20Ultra</th>\n",
       "      <td>2.497249</td>\n",
       "      <td>7.768858</td>\n",
       "      <td>5.133053</td>\n",
       "    </tr>\n",
       "    <tr>\n",
       "      <th>2021-04-29-US-SJC-2_Pixel4</th>\n",
       "      <td>2.358536</td>\n",
       "      <td>8.528638</td>\n",
       "      <td>5.443587</td>\n",
       "    </tr>\n",
       "    <tr>\n",
       "      <th>2021-04-29-US-SJC-2_SamsungS20Ultra</th>\n",
       "      <td>2.352237</td>\n",
       "      <td>8.489129</td>\n",
       "      <td>5.420683</td>\n",
       "    </tr>\n",
       "  </tbody>\n",
       "</table>\n",
       "</div>"
      ],
      "text/plain": [
       "                                     percentile50  percentile95  p50_p90_mean\n",
       "phone                                                                        \n",
       "2021-04-22-US-SJC-1_Pixel4               3.580857      9.490830      6.535843\n",
       "2021-04-22-US-SJC-1_SamsungS20Ultra      3.490542      9.455580      6.473061\n",
       "2021-04-28-US-SJC-1_Pixel4               2.586463      7.680867      5.133665\n",
       "2021-04-28-US-SJC-1_SamsungS20Ultra      2.497249      7.768858      5.133053\n",
       "2021-04-29-US-SJC-2_Pixel4               2.358536      8.528638      5.443587\n",
       "2021-04-29-US-SJC-2_SamsungS20Ultra      2.352237      8.489129      5.420683"
      ]
     },
     "metadata": {},
     "output_type": "display_data"
    }
   ],
   "source": [
    "res = train_result(train)\n",
    "print(res.score)\n",
    "display(res.err)"
   ]
  },
  {
   "cell_type": "code",
   "execution_count": 51,
   "id": "precious-escape",
   "metadata": {},
   "outputs": [],
   "source": [
    "train_sp0_pred = pd.read_csv(f'{sp0_dir}/train_sp0_pred.csv')\n",
    "train = sp0_process(train, train_sp0_pred)"
   ]
  },
  {
   "cell_type": "code",
   "execution_count": 52,
   "id": "impaired-initial",
   "metadata": {},
   "outputs": [
    {
     "name": "stdout",
     "output_type": "stream",
     "text": [
      "5.544383022731245\n"
     ]
    },
    {
     "data": {
      "text/html": [
       "<div>\n",
       "<style scoped>\n",
       "    .dataframe tbody tr th:only-of-type {\n",
       "        vertical-align: middle;\n",
       "    }\n",
       "\n",
       "    .dataframe tbody tr th {\n",
       "        vertical-align: top;\n",
       "    }\n",
       "\n",
       "    .dataframe thead th {\n",
       "        text-align: right;\n",
       "    }\n",
       "</style>\n",
       "<table border=\"1\" class=\"dataframe\">\n",
       "  <thead>\n",
       "    <tr style=\"text-align: right;\">\n",
       "      <th></th>\n",
       "      <th>percentile50</th>\n",
       "      <th>percentile95</th>\n",
       "      <th>p50_p90_mean</th>\n",
       "    </tr>\n",
       "    <tr>\n",
       "      <th>phone</th>\n",
       "      <th></th>\n",
       "      <th></th>\n",
       "      <th></th>\n",
       "    </tr>\n",
       "  </thead>\n",
       "  <tbody>\n",
       "    <tr>\n",
       "      <th>2021-04-22-US-SJC-1_Pixel4</th>\n",
       "      <td>3.624078</td>\n",
       "      <td>9.706402</td>\n",
       "      <td>6.665240</td>\n",
       "    </tr>\n",
       "    <tr>\n",
       "      <th>2021-04-22-US-SJC-1_SamsungS20Ultra</th>\n",
       "      <td>3.447617</td>\n",
       "      <td>9.474468</td>\n",
       "      <td>6.461043</td>\n",
       "    </tr>\n",
       "    <tr>\n",
       "      <th>2021-04-28-US-SJC-1_Pixel4</th>\n",
       "      <td>2.561147</td>\n",
       "      <td>6.998235</td>\n",
       "      <td>4.779691</td>\n",
       "    </tr>\n",
       "    <tr>\n",
       "      <th>2021-04-28-US-SJC-1_SamsungS20Ultra</th>\n",
       "      <td>2.456120</td>\n",
       "      <td>7.213236</td>\n",
       "      <td>4.834678</td>\n",
       "    </tr>\n",
       "    <tr>\n",
       "      <th>2021-04-29-US-SJC-2_Pixel4</th>\n",
       "      <td>2.230846</td>\n",
       "      <td>8.288086</td>\n",
       "      <td>5.259466</td>\n",
       "    </tr>\n",
       "    <tr>\n",
       "      <th>2021-04-29-US-SJC-2_SamsungS20Ultra</th>\n",
       "      <td>2.211344</td>\n",
       "      <td>8.321018</td>\n",
       "      <td>5.266181</td>\n",
       "    </tr>\n",
       "  </tbody>\n",
       "</table>\n",
       "</div>"
      ],
      "text/plain": [
       "                                     percentile50  percentile95  p50_p90_mean\n",
       "phone                                                                        \n",
       "2021-04-22-US-SJC-1_Pixel4               3.624078      9.706402      6.665240\n",
       "2021-04-22-US-SJC-1_SamsungS20Ultra      3.447617      9.474468      6.461043\n",
       "2021-04-28-US-SJC-1_Pixel4               2.561147      6.998235      4.779691\n",
       "2021-04-28-US-SJC-1_SamsungS20Ultra      2.456120      7.213236      4.834678\n",
       "2021-04-29-US-SJC-2_Pixel4               2.230846      8.288086      5.259466\n",
       "2021-04-29-US-SJC-2_SamsungS20Ultra      2.211344      8.321018      5.266181"
      ]
     },
     "metadata": {},
     "output_type": "display_data"
    }
   ],
   "source": [
    "res = train_result(train)\n",
    "print(res.score)\n",
    "display(res.err)"
   ]
  },
  {
   "cell_type": "code",
   "execution_count": 53,
   "id": "fifth-force",
   "metadata": {},
   "outputs": [],
   "source": [
    "train.to_csv(OUTPUT + f'/{nb_name}_train.csv', index=False)"
   ]
  },
  {
   "cell_type": "markdown",
   "id": "gothic-earth",
   "metadata": {},
   "source": [
    "# sub作成"
   ]
  },
  {
   "cell_type": "code",
   "execution_count": 54,
   "id": "straight-graph",
   "metadata": {},
   "outputs": [],
   "source": [
    "test = pd.read_csv(INPUT + '/' + 'baseline_locations_test.csv')\n",
    "test = test[test['collectionName'].isin(target)]"
   ]
  },
  {
   "cell_type": "code",
   "execution_count": 55,
   "id": "virgin-restoration",
   "metadata": {},
   "outputs": [],
   "source": [
    "rb = pd.read_csv(f'{rb_dir}/result_test.csv')\n",
    "\n",
    "rb = rb.rename(columns={'latDeg':'latDeg_rb', 'lngDeg':'lngDeg_rb'})\n",
    "\n",
    "test = test.merge(rb[['millisSinceGpsEpoch', 'phone', 'latDeg_rb', 'lngDeg_rb']], on=['millisSinceGpsEpoch', 'phone'], how='left')\n",
    "\n",
    "idx = test[~test['latDeg_rb'].isnull()].index\n",
    "test.loc[idx, 'latDeg'] = test.loc[idx, 'latDeg_rb']\n",
    "test.loc[idx, 'lngDeg'] = test.loc[idx, 'lngDeg_rb']"
   ]
  },
  {
   "cell_type": "code",
   "execution_count": 56,
   "id": "occupational-trade",
   "metadata": {},
   "outputs": [],
   "source": [
    "test = add_distance_diff(test)\n",
    "test.loc[((test['dist_prev'] > ro_th) & (test['dist_next'] > ro_th)), ['latDeg', 'lngDeg']] = np.nan"
   ]
  },
  {
   "cell_type": "code",
   "execution_count": 57,
   "id": "apart-favorite",
   "metadata": {},
   "outputs": [],
   "source": [
    "rog_df = test[test['collectionName'].isin(rog_target)].copy()\n",
    "rog_gt = gt[gt['collectionName'].isin(rog_target)].copy()\n",
    "rog_df = remove_based_on_gt(rog_df, rog_gt, rog_th)\n",
    "test.loc[rog_df.index, ['latDeg', 'lngDeg']] = rog_df[['latDeg', 'lngDeg']]"
   ]
  },
  {
   "cell_type": "code",
   "execution_count": 58,
   "id": "loved-provincial",
   "metadata": {},
   "outputs": [],
   "source": [
    "test_sp0_pred = pd.read_csv(f'{sp0_dir}/test_sp0_pred.csv')\n",
    "test = sp0_process(test, test_sp0_pred)"
   ]
  },
  {
   "cell_type": "code",
   "execution_count": 59,
   "id": "authorized-handling",
   "metadata": {},
   "outputs": [],
   "source": [
    "dp_test = pd.read_csv('../output/prep/rel_pred_v001/test_result.csv')\n",
    "test = test.merge(dp_test[['millisSinceGpsEpoch', 'phone', 'lat_diff', 'lng_diff']], on=['millisSinceGpsEpoch', 'phone'], how='left')\n",
    "test.loc[test['isSpeed0']==1, ['lat_diff', 'lng_diff']] = 0"
   ]
  },
  {
   "cell_type": "code",
   "execution_count": 60,
   "id": "sorted-transfer",
   "metadata": {},
   "outputs": [],
   "source": [
    "test = interpolate_by_rel(test)"
   ]
  },
  {
   "cell_type": "code",
   "execution_count": 61,
   "id": "placed-palestinian",
   "metadata": {},
   "outputs": [],
   "source": [
    "test = apply_kf_smoothing(test)"
   ]
  },
  {
   "cell_type": "code",
   "execution_count": 62,
   "id": "physical-netherlands",
   "metadata": {},
   "outputs": [
    {
     "ename": "KeyError",
     "evalue": "\"None of [Index(['lat_diff', 'lng_diff'], dtype='object')] are in the [columns]\"",
     "output_type": "error",
     "traceback": [
      "\u001b[0;31m---------------------------------------------------------------------------\u001b[0m",
      "\u001b[0;31mKeyError\u001b[0m                                  Traceback (most recent call last)",
      "\u001b[0;32m<ipython-input-62-0e7b035ec505>\u001b[0m in \u001b[0;36m<module>\u001b[0;34m\u001b[0m\n\u001b[1;32m      6\u001b[0m         \u001b[0mw\u001b[0m \u001b[0;34m=\u001b[0m \u001b[0mcost_min_beta_w\u001b[0m \u001b[0;34m*\u001b[0m \u001b[0msamsungs20ultra_coef\u001b[0m\u001b[0;34m\u001b[0m\u001b[0;34m\u001b[0m\u001b[0m\n\u001b[1;32m      7\u001b[0m     \u001b[0midx\u001b[0m \u001b[0;34m=\u001b[0m \u001b[0mtrain\u001b[0m\u001b[0;34m[\u001b[0m\u001b[0mtrain\u001b[0m\u001b[0;34m[\u001b[0m\u001b[0;34m'phone'\u001b[0m\u001b[0;34m]\u001b[0m\u001b[0;34m==\u001b[0m\u001b[0mphone\u001b[0m\u001b[0;34m]\u001b[0m\u001b[0;34m.\u001b[0m\u001b[0mindex\u001b[0m\u001b[0;34m\u001b[0m\u001b[0;34m\u001b[0m\u001b[0m\n\u001b[0;32m----> 8\u001b[0;31m     \u001b[0mtrain\u001b[0m\u001b[0;34m.\u001b[0m\u001b[0mloc\u001b[0m\u001b[0;34m[\u001b[0m\u001b[0midx\u001b[0m\u001b[0;34m,\u001b[0m \u001b[0;34m[\u001b[0m\u001b[0;34m'latDeg'\u001b[0m\u001b[0;34m,\u001b[0m \u001b[0;34m'lngDeg'\u001b[0m\u001b[0;34m]\u001b[0m\u001b[0;34m]\u001b[0m \u001b[0;34m=\u001b[0m \u001b[0mcost_minimization\u001b[0m\u001b[0;34m(\u001b[0m\u001b[0mtrain\u001b[0m\u001b[0;34m.\u001b[0m\u001b[0mloc\u001b[0m\u001b[0;34m[\u001b[0m\u001b[0midx\u001b[0m\u001b[0;34m]\u001b[0m\u001b[0;34m,\u001b[0m \u001b[0mw\u001b[0m\u001b[0;34m)\u001b[0m\u001b[0;34m\u001b[0m\u001b[0;34m\u001b[0m\u001b[0m\n\u001b[0m",
      "\u001b[0;32m<ipython-input-31-cb93ba23ffdc>\u001b[0m in \u001b[0;36mcost_minimization\u001b[0;34m(df, b)\u001b[0m\n\u001b[1;32m      1\u001b[0m \u001b[0;32mdef\u001b[0m \u001b[0mcost_minimization\u001b[0m\u001b[0;34m(\u001b[0m\u001b[0mdf\u001b[0m\u001b[0;34m,\u001b[0m \u001b[0mb\u001b[0m\u001b[0;34m)\u001b[0m\u001b[0;34m:\u001b[0m\u001b[0;34m\u001b[0m\u001b[0;34m\u001b[0m\u001b[0m\n\u001b[1;32m      2\u001b[0m     \u001b[0mxy_hat\u001b[0m \u001b[0;34m=\u001b[0m \u001b[0mdf\u001b[0m\u001b[0;34m[\u001b[0m\u001b[0;34m[\u001b[0m\u001b[0;34m'latDeg'\u001b[0m\u001b[0;34m,\u001b[0m \u001b[0;34m'lngDeg'\u001b[0m\u001b[0;34m]\u001b[0m\u001b[0;34m]\u001b[0m\u001b[0;34m.\u001b[0m\u001b[0mto_numpy\u001b[0m\u001b[0;34m(\u001b[0m\u001b[0;34m)\u001b[0m\u001b[0;34m\u001b[0m\u001b[0;34m\u001b[0m\u001b[0m\n\u001b[0;32m----> 3\u001b[0;31m     \u001b[0mdelta_xy_hat\u001b[0m \u001b[0;34m=\u001b[0m \u001b[0mdf\u001b[0m\u001b[0;34m[\u001b[0m\u001b[0;34m[\u001b[0m\u001b[0;34m'lat_diff'\u001b[0m\u001b[0;34m,\u001b[0m \u001b[0;34m'lng_diff'\u001b[0m\u001b[0;34m]\u001b[0m\u001b[0;34m]\u001b[0m\u001b[0;34m.\u001b[0m\u001b[0mfillna\u001b[0m\u001b[0;34m(\u001b[0m\u001b[0mmethod\u001b[0m\u001b[0;34m=\u001b[0m\u001b[0;34m'ffill'\u001b[0m\u001b[0;34m)\u001b[0m\u001b[0;34m[\u001b[0m\u001b[0;34m:\u001b[0m\u001b[0;34m-\u001b[0m\u001b[0;36m1\u001b[0m\u001b[0;34m]\u001b[0m\u001b[0;34m.\u001b[0m\u001b[0mto_numpy\u001b[0m\u001b[0;34m(\u001b[0m\u001b[0;34m)\u001b[0m\u001b[0;34m\u001b[0m\u001b[0;34m\u001b[0m\u001b[0m\n\u001b[0m\u001b[1;32m      4\u001b[0m \u001b[0;34m\u001b[0m\u001b[0m\n\u001b[1;32m      5\u001b[0m     \u001b[0mN\u001b[0m \u001b[0;34m=\u001b[0m \u001b[0mxy_hat\u001b[0m\u001b[0;34m.\u001b[0m\u001b[0mshape\u001b[0m\u001b[0;34m[\u001b[0m\u001b[0;36m0\u001b[0m\u001b[0;34m]\u001b[0m\u001b[0;34m\u001b[0m\u001b[0;34m\u001b[0m\u001b[0m\n",
      "\u001b[0;32m/opt/conda/lib/python3.7/site-packages/pandas/core/frame.py\u001b[0m in \u001b[0;36m__getitem__\u001b[0;34m(self, key)\u001b[0m\n\u001b[1;32m   2910\u001b[0m             \u001b[0;32mif\u001b[0m \u001b[0mis_iterator\u001b[0m\u001b[0;34m(\u001b[0m\u001b[0mkey\u001b[0m\u001b[0;34m)\u001b[0m\u001b[0;34m:\u001b[0m\u001b[0;34m\u001b[0m\u001b[0;34m\u001b[0m\u001b[0m\n\u001b[1;32m   2911\u001b[0m                 \u001b[0mkey\u001b[0m \u001b[0;34m=\u001b[0m \u001b[0mlist\u001b[0m\u001b[0;34m(\u001b[0m\u001b[0mkey\u001b[0m\u001b[0;34m)\u001b[0m\u001b[0;34m\u001b[0m\u001b[0;34m\u001b[0m\u001b[0m\n\u001b[0;32m-> 2912\u001b[0;31m             \u001b[0mindexer\u001b[0m \u001b[0;34m=\u001b[0m \u001b[0mself\u001b[0m\u001b[0;34m.\u001b[0m\u001b[0mloc\u001b[0m\u001b[0;34m.\u001b[0m\u001b[0m_get_listlike_indexer\u001b[0m\u001b[0;34m(\u001b[0m\u001b[0mkey\u001b[0m\u001b[0;34m,\u001b[0m \u001b[0maxis\u001b[0m\u001b[0;34m=\u001b[0m\u001b[0;36m1\u001b[0m\u001b[0;34m,\u001b[0m \u001b[0mraise_missing\u001b[0m\u001b[0;34m=\u001b[0m\u001b[0;32mTrue\u001b[0m\u001b[0;34m)\u001b[0m\u001b[0;34m[\u001b[0m\u001b[0;36m1\u001b[0m\u001b[0;34m]\u001b[0m\u001b[0;34m\u001b[0m\u001b[0;34m\u001b[0m\u001b[0m\n\u001b[0m\u001b[1;32m   2913\u001b[0m \u001b[0;34m\u001b[0m\u001b[0m\n\u001b[1;32m   2914\u001b[0m         \u001b[0;31m# take() does not accept boolean indexers\u001b[0m\u001b[0;34m\u001b[0m\u001b[0;34m\u001b[0m\u001b[0;34m\u001b[0m\u001b[0m\n",
      "\u001b[0;32m/opt/conda/lib/python3.7/site-packages/pandas/core/indexing.py\u001b[0m in \u001b[0;36m_get_listlike_indexer\u001b[0;34m(self, key, axis, raise_missing)\u001b[0m\n\u001b[1;32m   1252\u001b[0m             \u001b[0mkeyarr\u001b[0m\u001b[0;34m,\u001b[0m \u001b[0mindexer\u001b[0m\u001b[0;34m,\u001b[0m \u001b[0mnew_indexer\u001b[0m \u001b[0;34m=\u001b[0m \u001b[0max\u001b[0m\u001b[0;34m.\u001b[0m\u001b[0m_reindex_non_unique\u001b[0m\u001b[0;34m(\u001b[0m\u001b[0mkeyarr\u001b[0m\u001b[0;34m)\u001b[0m\u001b[0;34m\u001b[0m\u001b[0;34m\u001b[0m\u001b[0m\n\u001b[1;32m   1253\u001b[0m \u001b[0;34m\u001b[0m\u001b[0m\n\u001b[0;32m-> 1254\u001b[0;31m         \u001b[0mself\u001b[0m\u001b[0;34m.\u001b[0m\u001b[0m_validate_read_indexer\u001b[0m\u001b[0;34m(\u001b[0m\u001b[0mkeyarr\u001b[0m\u001b[0;34m,\u001b[0m \u001b[0mindexer\u001b[0m\u001b[0;34m,\u001b[0m \u001b[0maxis\u001b[0m\u001b[0;34m,\u001b[0m \u001b[0mraise_missing\u001b[0m\u001b[0;34m=\u001b[0m\u001b[0mraise_missing\u001b[0m\u001b[0;34m)\u001b[0m\u001b[0;34m\u001b[0m\u001b[0;34m\u001b[0m\u001b[0m\n\u001b[0m\u001b[1;32m   1255\u001b[0m         \u001b[0;32mreturn\u001b[0m \u001b[0mkeyarr\u001b[0m\u001b[0;34m,\u001b[0m \u001b[0mindexer\u001b[0m\u001b[0;34m\u001b[0m\u001b[0;34m\u001b[0m\u001b[0m\n\u001b[1;32m   1256\u001b[0m \u001b[0;34m\u001b[0m\u001b[0m\n",
      "\u001b[0;32m/opt/conda/lib/python3.7/site-packages/pandas/core/indexing.py\u001b[0m in \u001b[0;36m_validate_read_indexer\u001b[0;34m(self, key, indexer, axis, raise_missing)\u001b[0m\n\u001b[1;32m   1296\u001b[0m             \u001b[0;32mif\u001b[0m \u001b[0mmissing\u001b[0m \u001b[0;34m==\u001b[0m \u001b[0mlen\u001b[0m\u001b[0;34m(\u001b[0m\u001b[0mindexer\u001b[0m\u001b[0;34m)\u001b[0m\u001b[0;34m:\u001b[0m\u001b[0;34m\u001b[0m\u001b[0;34m\u001b[0m\u001b[0m\n\u001b[1;32m   1297\u001b[0m                 \u001b[0maxis_name\u001b[0m \u001b[0;34m=\u001b[0m \u001b[0mself\u001b[0m\u001b[0;34m.\u001b[0m\u001b[0mobj\u001b[0m\u001b[0;34m.\u001b[0m\u001b[0m_get_axis_name\u001b[0m\u001b[0;34m(\u001b[0m\u001b[0maxis\u001b[0m\u001b[0;34m)\u001b[0m\u001b[0;34m\u001b[0m\u001b[0;34m\u001b[0m\u001b[0m\n\u001b[0;32m-> 1298\u001b[0;31m                 \u001b[0;32mraise\u001b[0m \u001b[0mKeyError\u001b[0m\u001b[0;34m(\u001b[0m\u001b[0;34mf\"None of [{key}] are in the [{axis_name}]\"\u001b[0m\u001b[0;34m)\u001b[0m\u001b[0;34m\u001b[0m\u001b[0;34m\u001b[0m\u001b[0m\n\u001b[0m\u001b[1;32m   1299\u001b[0m \u001b[0;34m\u001b[0m\u001b[0m\n\u001b[1;32m   1300\u001b[0m             \u001b[0;31m# We (temporarily) allow for some missing keys with .loc, except in\u001b[0m\u001b[0;34m\u001b[0m\u001b[0;34m\u001b[0m\u001b[0;34m\u001b[0m\u001b[0m\n",
      "\u001b[0;31mKeyError\u001b[0m: \"None of [Index(['lat_diff', 'lng_diff'], dtype='object')] are in the [columns]\""
     ]
    }
   ],
   "source": [
    "for phone in train['phone'].unique():\n",
    "    phonename = phone.split('_')[1]\n",
    "    if phonename == 'Pixel4':\n",
    "        w = cost_min_beta_w * pixel4_coef\n",
    "    elif phonename == 'SamsungS20Ultra':\n",
    "        w = cost_min_beta_w * samsungs20ultra_coef\n",
    "    idx = train[train['phone']==phone].index\n",
    "    train.loc[idx, ['latDeg', 'lngDeg']] = cost_minimization(train.loc[idx], w)"
   ]
  },
  {
   "cell_type": "code",
   "execution_count": null,
   "id": "circular-marriage",
   "metadata": {},
   "outputs": [],
   "source": [
    "test = calc_mean_pred(test, phones_mean_weights)"
   ]
  },
  {
   "cell_type": "code",
   "execution_count": null,
   "id": "cheap-pathology",
   "metadata": {},
   "outputs": [],
   "source": [
    "test['phone'] = test['collectionName'] + '_' + test['phoneName']\n",
    "test = position_shift(test, opt_a)"
   ]
  },
  {
   "cell_type": "code",
   "execution_count": null,
   "id": "stupid-original",
   "metadata": {},
   "outputs": [],
   "source": [
    "test_sp0_pred = pd.read_csv(f'{sp0_dir}/test_sp0_pred.csv')\n",
    "test = sp0_process(test, test_sp0_pred)"
   ]
  },
  {
   "cell_type": "code",
   "execution_count": null,
   "id": "closed-ultimate",
   "metadata": {},
   "outputs": [],
   "source": [
    "test = test[['phone', 'millisSinceGpsEpoch', 'latDeg', 'lngDeg']].copy()\n",
    "test.to_csv(OUTPUT + f'/{nb_name}_test.csv', index=False)"
   ]
  },
  {
   "cell_type": "code",
   "execution_count": null,
   "id": "offshore-acrobat",
   "metadata": {},
   "outputs": [],
   "source": [
    "test"
   ]
  },
  {
   "cell_type": "code",
   "execution_count": null,
   "id": "killing-panel",
   "metadata": {},
   "outputs": [],
   "source": []
  }
 ],
 "metadata": {
  "kernelspec": {
   "display_name": "Python 3",
   "language": "python",
   "name": "python3"
  },
  "language_info": {
   "codemirror_mode": {
    "name": "ipython",
    "version": 3
   },
   "file_extension": ".py",
   "mimetype": "text/x-python",
   "name": "python",
   "nbconvert_exporter": "python",
   "pygments_lexer": "ipython3",
   "version": "3.7.10"
  }
 },
 "nbformat": 4,
 "nbformat_minor": 5
}
