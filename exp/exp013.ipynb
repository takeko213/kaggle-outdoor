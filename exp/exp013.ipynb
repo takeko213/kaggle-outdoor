{
 "cells": [
  {
   "cell_type": "markdown",
   "id": "adapted-skill",
   "metadata": {},
   "source": [
    "# exp013\n",
    "exp010にposition shift"
   ]
  },
  {
   "cell_type": "code",
   "execution_count": 1,
   "id": "pharmaceutical-addition",
   "metadata": {},
   "outputs": [
    {
     "data": {
      "text/html": [
       "<style type='text/css'>\n",
       ".datatable table.frame { margin-bottom: 0; }\n",
       ".datatable table.frame thead { border-bottom: none; }\n",
       ".datatable table.frame tr.coltypes td {  color: #FFFFFF;  line-height: 6px;  padding: 0 0.5em;}\n",
       ".datatable .bool    { background: #DDDD99; }\n",
       ".datatable .object  { background: #565656; }\n",
       ".datatable .int     { background: #5D9E5D; }\n",
       ".datatable .float   { background: #4040CC; }\n",
       ".datatable .str     { background: #CC4040; }\n",
       ".datatable .row_index {  background: var(--jp-border-color3);  border-right: 1px solid var(--jp-border-color0);  color: var(--jp-ui-font-color3);  font-size: 9px;}\n",
       ".datatable .frame tr.coltypes .row_index {  background: var(--jp-border-color0);}\n",
       ".datatable th:nth-child(2) { padding-left: 12px; }\n",
       ".datatable .hellipsis {  color: var(--jp-cell-editor-border-color);}\n",
       ".datatable .vellipsis {  background: var(--jp-layout-color0);  color: var(--jp-cell-editor-border-color);}\n",
       ".datatable .na {  color: var(--jp-cell-editor-border-color);  font-size: 80%;}\n",
       ".datatable .footer { font-size: 9px; }\n",
       ".datatable .frame_dimensions {  background: var(--jp-border-color3);  border-top: 1px solid var(--jp-border-color0);  color: var(--jp-ui-font-color3);  display: inline-block;  opacity: 0.6;  padding: 1px 10px 1px 5px;}\n",
       "</style>\n"
      ],
      "text/plain": [
       "<IPython.core.display.HTML object>"
      ]
     },
     "metadata": {},
     "output_type": "display_data"
    }
   ],
   "source": [
    "# import library\n",
    "import os\n",
    "import pandas as pd\n",
    "import numpy as np\n",
    "import matplotlib.pyplot as plt\n",
    "from matplotlib_venn import venn2, venn2_circles\n",
    "import seaborn as sns\n",
    "from tqdm.notebook import tqdm\n",
    "import pathlib\n",
    "import plotly\n",
    "import plotly.express as px\n",
    "import itertools\n",
    "import lightgbm as lgb\n",
    "from optuna.integration import lightgbm as optuna_lgb\n",
    "import optuna\n",
    "import pyproj\n",
    "from pyproj import Proj, transform"
   ]
  },
  {
   "cell_type": "code",
   "execution_count": 2,
   "id": "signed-brand",
   "metadata": {},
   "outputs": [],
   "source": [
    "import ipynb_path\n",
    "\n",
    "def get_nb_name():\n",
    "    nb_path = ipynb_path.get()\n",
    "    nb_name = nb_path.rsplit('/',1)[1].replace('.ipynb','')\n",
    "    return nb_name"
   ]
  },
  {
   "cell_type": "code",
   "execution_count": 3,
   "id": "quiet-scout",
   "metadata": {},
   "outputs": [],
   "source": [
    "# directory setting\n",
    "nb_name = get_nb_name()\n",
    "INPUT = '../input/google-smartphone-decimeter-challenge'\n",
    "OUTPUT = '../output/' + nb_name\n",
    "os.makedirs(OUTPUT, exist_ok=True)"
   ]
  },
  {
   "cell_type": "code",
   "execution_count": 4,
   "id": "historic-blast",
   "metadata": {},
   "outputs": [],
   "source": [
    "def calc_haversine(lat1, lon1, lat2, lon2):\n",
    "    \"\"\"Calculates the great circle distance between two points\n",
    "    on the earth. Inputs are array-like and specified in decimal degrees.\n",
    "    \"\"\"\n",
    "    RADIUS = 6_367_000\n",
    "    lat1, lon1, lat2, lon2 = map(np.radians, [lat1, lon1, lat2, lon2])\n",
    "    dlat = lat2 - lat1\n",
    "    dlon = lon2 - lon1\n",
    "    a = np.sin(dlat/2)**2 + \\\n",
    "        np.cos(lat1) * np.cos(lat2) * np.sin(dlon/2)**2\n",
    "    dist = 2 * RADIUS * np.arcsin(a**0.5)\n",
    "    return dist"
   ]
  },
  {
   "cell_type": "code",
   "execution_count": 5,
   "id": "russian-corpus",
   "metadata": {},
   "outputs": [],
   "source": [
    "def percentile50(x):\n",
    "    return np.percentile(x, 50)\n",
    "def percentile95(x):\n",
    "    return np.percentile(x, 95)"
   ]
  },
  {
   "cell_type": "code",
   "execution_count": 6,
   "id": "human-carol",
   "metadata": {},
   "outputs": [],
   "source": [
    "def get_train_score(df, gt):\n",
    "    gt = gt.rename(columns={'latDeg':'latDeg_gt', 'lngDeg':'lngDeg_gt'})\n",
    "    df = df.merge(gt, on=['collectionName', 'phoneName', 'millisSinceGpsEpoch'], how='inner')\n",
    "    # calc_distance_error\n",
    "    df['err'] = calc_haversine(df['latDeg_gt'], df['lngDeg_gt'], df['latDeg'], df['lngDeg'])\n",
    "    # calc_evaluate_score\n",
    "    df['phone'] = df['collectionName'] + '_' + df['phoneName']\n",
    "    res = df.groupby('phone')['err'].agg([percentile50, percentile95])\n",
    "    res['p50_p90_mean'] = (res['percentile50'] + res['percentile95']) / 2 \n",
    "    score = res['p50_p90_mean'].mean()\n",
    "    return score"
   ]
  },
  {
   "cell_type": "code",
   "execution_count": 7,
   "id": "located-issue",
   "metadata": {},
   "outputs": [],
   "source": [
    "def WGS84_to_ECEF(lat, lon, alt):\n",
    "    # convert to radians\n",
    "    rad_lat = lat * (np.pi / 180.0)\n",
    "    rad_lon = lon * (np.pi / 180.0)\n",
    "    a    = 6378137.0\n",
    "    # f is the flattening factor\n",
    "    finv = 298.257223563\n",
    "    f = 1 / finv   \n",
    "    # e is the eccentricity\n",
    "    e2 = 1 - (1 - f) * (1 - f)    \n",
    "    # N is the radius of curvature in the prime vertical\n",
    "    N = a / np.sqrt(1 - e2 * np.sin(rad_lat) * np.sin(rad_lat))\n",
    "    x = (N + alt) * np.cos(rad_lat) * np.cos(rad_lon)\n",
    "    y = (N + alt) * np.cos(rad_lat) * np.sin(rad_lon)\n",
    "    z = (N * (1 - e2) + alt)        * np.sin(rad_lat)\n",
    "    return x, y, z\n",
    "\n",
    "transformer = pyproj.Transformer.from_crs(\n",
    "    {\"proj\":'geocent', \"ellps\":'WGS84', \"datum\":'WGS84'},\n",
    "    {\"proj\":'latlong', \"ellps\":'WGS84', \"datum\":'WGS84'},)\n",
    "def ECEF_to_WGS84(x,y,z):\n",
    "    lon, lat, alt = transformer.transform(x,y,z,radians=False)\n",
    "    return lon, lat, alt\n",
    "msge = 'millisSinceGpsEpoch'"
   ]
  },
  {
   "cell_type": "code",
   "execution_count": 8,
   "id": "explicit-fleece",
   "metadata": {},
   "outputs": [],
   "source": [
    "def position_shift(df,a):\n",
    "\n",
    "    d = df.copy()\n",
    "    d['heightAboveWgs84EllipsoidM'] = 63.5\n",
    "    d['x'], d['y'], d['z'] = zip(*d.apply(lambda x: WGS84_to_ECEF(x.latDeg, x.lngDeg, x.heightAboveWgs84EllipsoidM), axis=1))\n",
    "\n",
    "    #a = -0.2\n",
    "    d.sort_values(['phone', msge], inplace=True)\n",
    "    for fi in ['x','y','z']:\n",
    "        d[[fi+'p']] = d[fi].shift().where(d['phone'].eq(d['phone'].shift()))\n",
    "        d[[fi+'diff']] = d[fi]-d[fi+'p']\n",
    "    #d[['yp']] = d['y'].shift().where(d['phone'].eq(d['phone'].shift()))\n",
    "    d[['dist']] = np.sqrt(d['xdiff']**2 + d['ydiff']**2+ d['zdiff']**2)\n",
    "    for fi in ['x','y','z']:\n",
    "        d[[fi+'new']] = d[fi+'p'] + d[fi+'diff']*(1-a/d['dist'])\n",
    "    lng, lat, alt = ECEF_to_WGS84(d['xnew'].values,d['ynew'].values,d['znew'].values)\n",
    "    \n",
    "    lng[np.isnan(lng)] = d.loc[np.isnan(lng),'lngDeg']\n",
    "    lat[np.isnan(lat)] = d.loc[np.isnan(lat),'latDeg']\n",
    "    d['latDeg'] = lat\n",
    "    d['lngDeg'] = lng\n",
    "    \n",
    "    return d \n",
    "\n",
    "def objective(trial):\n",
    "    a = trial.suggest_uniform('a', -1, 1)\n",
    "    score = get_train_score(position_shift(train, a),ground_truth)\n",
    "    return score"
   ]
  },
  {
   "cell_type": "code",
   "execution_count": 9,
   "id": "partial-photographer",
   "metadata": {},
   "outputs": [],
   "source": [
    "train = pd.read_csv('../output/exp010_2/train_mean_pred.csv') \n",
    "test = pd.read_csv('../output/exp010_2/submission.csv')\n",
    "\n",
    "train['phone'] = train['collectionName'] + '_' + train['phoneName']"
   ]
  },
  {
   "cell_type": "code",
   "execution_count": 10,
   "id": "union-running",
   "metadata": {},
   "outputs": [
    {
     "name": "stdout",
     "output_type": "stream",
     "text": [
      "ground_truth.csv count :  73\n"
     ]
    },
    {
     "data": {
      "application/vnd.jupyter.widget-view+json": {
       "model_id": "443827d54776411aac7af9e02f8f92ff",
       "version_major": 2,
       "version_minor": 0
      },
      "text/plain": [
       "  0%|          | 0/73 [00:00<?, ?it/s]"
      ]
     },
     "metadata": {},
     "output_type": "display_data"
    },
    {
     "data": {
      "text/html": [
       "<div>\n",
       "<style scoped>\n",
       "    .dataframe tbody tr th:only-of-type {\n",
       "        vertical-align: middle;\n",
       "    }\n",
       "\n",
       "    .dataframe tbody tr th {\n",
       "        vertical-align: top;\n",
       "    }\n",
       "\n",
       "    .dataframe thead th {\n",
       "        text-align: right;\n",
       "    }\n",
       "</style>\n",
       "<table border=\"1\" class=\"dataframe\">\n",
       "  <thead>\n",
       "    <tr style=\"text-align: right;\">\n",
       "      <th></th>\n",
       "      <th>collectionName</th>\n",
       "      <th>phoneName</th>\n",
       "      <th>millisSinceGpsEpoch</th>\n",
       "      <th>latDeg</th>\n",
       "      <th>lngDeg</th>\n",
       "      <th>heightAboveWgs84EllipsoidM</th>\n",
       "      <th>timeSinceFirstFixSeconds</th>\n",
       "      <th>hDop</th>\n",
       "      <th>vDop</th>\n",
       "      <th>speedMps</th>\n",
       "      <th>courseDegree</th>\n",
       "    </tr>\n",
       "  </thead>\n",
       "  <tbody>\n",
       "    <tr>\n",
       "      <th>0</th>\n",
       "      <td>2020-05-21-US-MTV-2</td>\n",
       "      <td>Pixel4</td>\n",
       "      <td>1274131364434</td>\n",
       "      <td>37.628927</td>\n",
       "      <td>-122.426295</td>\n",
       "      <td>65.36</td>\n",
       "      <td>64.43</td>\n",
       "      <td>2.6</td>\n",
       "      <td>0.0</td>\n",
       "      <td>0.0</td>\n",
       "      <td>154.3</td>\n",
       "    </tr>\n",
       "    <tr>\n",
       "      <th>1</th>\n",
       "      <td>2020-05-21-US-MTV-2</td>\n",
       "      <td>Pixel4</td>\n",
       "      <td>1274131365434</td>\n",
       "      <td>37.628927</td>\n",
       "      <td>-122.426295</td>\n",
       "      <td>65.36</td>\n",
       "      <td>65.43</td>\n",
       "      <td>2.6</td>\n",
       "      <td>0.0</td>\n",
       "      <td>0.0</td>\n",
       "      <td>154.3</td>\n",
       "    </tr>\n",
       "    <tr>\n",
       "      <th>2</th>\n",
       "      <td>2020-05-21-US-MTV-2</td>\n",
       "      <td>Pixel4</td>\n",
       "      <td>1274131366434</td>\n",
       "      <td>37.628927</td>\n",
       "      <td>-122.426295</td>\n",
       "      <td>65.36</td>\n",
       "      <td>66.43</td>\n",
       "      <td>2.6</td>\n",
       "      <td>0.0</td>\n",
       "      <td>0.0</td>\n",
       "      <td>154.3</td>\n",
       "    </tr>\n",
       "    <tr>\n",
       "      <th>3</th>\n",
       "      <td>2020-05-21-US-MTV-2</td>\n",
       "      <td>Pixel4</td>\n",
       "      <td>1274131367434</td>\n",
       "      <td>37.628927</td>\n",
       "      <td>-122.426295</td>\n",
       "      <td>65.36</td>\n",
       "      <td>67.43</td>\n",
       "      <td>2.6</td>\n",
       "      <td>0.0</td>\n",
       "      <td>0.0</td>\n",
       "      <td>154.3</td>\n",
       "    </tr>\n",
       "    <tr>\n",
       "      <th>4</th>\n",
       "      <td>2020-05-21-US-MTV-2</td>\n",
       "      <td>Pixel4</td>\n",
       "      <td>1274131368434</td>\n",
       "      <td>37.628927</td>\n",
       "      <td>-122.426295</td>\n",
       "      <td>65.36</td>\n",
       "      <td>68.43</td>\n",
       "      <td>2.6</td>\n",
       "      <td>0.0</td>\n",
       "      <td>0.0</td>\n",
       "      <td>154.3</td>\n",
       "    </tr>\n",
       "  </tbody>\n",
       "</table>\n",
       "</div>"
      ],
      "text/plain": [
       "        collectionName phoneName  millisSinceGpsEpoch     latDeg      lngDeg  \\\n",
       "0  2020-05-21-US-MTV-2    Pixel4        1274131364434  37.628927 -122.426295   \n",
       "1  2020-05-21-US-MTV-2    Pixel4        1274131365434  37.628927 -122.426295   \n",
       "2  2020-05-21-US-MTV-2    Pixel4        1274131366434  37.628927 -122.426295   \n",
       "3  2020-05-21-US-MTV-2    Pixel4        1274131367434  37.628927 -122.426295   \n",
       "4  2020-05-21-US-MTV-2    Pixel4        1274131368434  37.628927 -122.426295   \n",
       "\n",
       "   heightAboveWgs84EllipsoidM  timeSinceFirstFixSeconds  hDop  vDop  speedMps  \\\n",
       "0                       65.36                     64.43   2.6   0.0       0.0   \n",
       "1                       65.36                     65.43   2.6   0.0       0.0   \n",
       "2                       65.36                     66.43   2.6   0.0       0.0   \n",
       "3                       65.36                     67.43   2.6   0.0       0.0   \n",
       "4                       65.36                     68.43   2.6   0.0       0.0   \n",
       "\n",
       "   courseDegree  \n",
       "0         154.3  \n",
       "1         154.3  \n",
       "2         154.3  \n",
       "3         154.3  \n",
       "4         154.3  "
      ]
     },
     "metadata": {},
     "output_type": "display_data"
    }
   ],
   "source": [
    "# ground_truth\n",
    "p = pathlib.Path(INPUT)\n",
    "gt_files = list(p.glob('train/*/*/ground_truth.csv'))\n",
    "print('ground_truth.csv count : ', len(gt_files))\n",
    "\n",
    "gts = []\n",
    "for gt_file in tqdm(gt_files):\n",
    "    gts.append(pd.read_csv(gt_file))\n",
    "ground_truth = pd.concat(gts)\n",
    "\n",
    "display(ground_truth.head())"
   ]
  },
  {
   "cell_type": "code",
   "execution_count": 11,
   "id": "rubber-routine",
   "metadata": {},
   "outputs": [
    {
     "data": {
      "text/plain": [
       "3.9631642354626777"
      ]
     },
     "execution_count": 11,
     "metadata": {},
     "output_type": "execute_result"
    }
   ],
   "source": [
    "get_train_score(train, ground_truth)"
   ]
  },
  {
   "cell_type": "code",
   "execution_count": 12,
   "id": "sorted-workplace",
   "metadata": {},
   "outputs": [
    {
     "name": "stderr",
     "output_type": "stream",
     "text": [
      "\u001b[32m[I 2021-06-10 17:21:43,831]\u001b[0m A new study created in memory with name: no-name-83fa7238-2598-44de-bcbe-824a6a9f1fc8\u001b[0m\n",
      "\u001b[32m[I 2021-06-10 17:21:47,619]\u001b[0m Trial 0 finished with value: 3.922161081209667 and parameters: {'a': 0.5789789230827349}. Best is trial 0 with value: 3.922161081209667.\u001b[0m\n",
      "\u001b[32m[I 2021-06-10 17:21:51,407]\u001b[0m Trial 1 finished with value: 4.319024254627656 and parameters: {'a': -0.8601588738508468}. Best is trial 0 with value: 3.922161081209667.\u001b[0m\n",
      "\u001b[32m[I 2021-06-10 17:21:55,283]\u001b[0m Trial 2 finished with value: 4.002635417124886 and parameters: {'a': -0.15411589846110463}. Best is trial 0 with value: 3.922161081209667.\u001b[0m\n",
      "\u001b[32m[I 2021-06-10 17:21:58,949]\u001b[0m Trial 3 finished with value: 3.932638837444293 and parameters: {'a': 0.17331500942384892}. Best is trial 0 with value: 3.922161081209667.\u001b[0m\n",
      "\u001b[32m[I 2021-06-10 17:22:02,731]\u001b[0m Trial 4 finished with value: 3.915522476298664 and parameters: {'a': 0.4363419564240727}. Best is trial 4 with value: 3.915522476298664.\u001b[0m\n",
      "\u001b[32m[I 2021-06-10 17:22:06,496]\u001b[0m Trial 5 finished with value: 3.922473160641365 and parameters: {'a': 0.2718736718837964}. Best is trial 4 with value: 3.915522476298664.\u001b[0m\n",
      "\u001b[32m[I 2021-06-10 17:22:10,167]\u001b[0m Trial 6 finished with value: 3.937801406247914 and parameters: {'a': 0.7341534172894499}. Best is trial 4 with value: 3.915522476298664.\u001b[0m\n",
      "\u001b[32m[I 2021-06-10 17:22:13,859]\u001b[0m Trial 7 finished with value: 3.929140961478098 and parameters: {'a': 0.6589736194339277}. Best is trial 4 with value: 3.915522476298664.\u001b[0m\n",
      "\u001b[32m[I 2021-06-10 17:22:17,626]\u001b[0m Trial 8 finished with value: 4.036433308991681 and parameters: {'a': -0.25693653675527783}. Best is trial 4 with value: 3.915522476298664.\u001b[0m\n",
      "\u001b[32m[I 2021-06-10 17:22:21,448]\u001b[0m Trial 9 finished with value: 3.9444921860536915 and parameters: {'a': 0.10453327907179721}. Best is trial 4 with value: 3.915522476298664.\u001b[0m\n",
      "\u001b[32m[I 2021-06-10 17:22:25,226]\u001b[0m Trial 10 finished with value: 4.17627645413486 and parameters: {'a': -0.5950807139530212}. Best is trial 4 with value: 3.915522476298664.\u001b[0m\n",
      "\u001b[32m[I 2021-06-10 17:22:28,893]\u001b[0m Trial 11 finished with value: 3.9930151422917364 and parameters: {'a': 0.9878109793659127}. Best is trial 4 with value: 3.915522476298664.\u001b[0m\n",
      "\u001b[32m[I 2021-06-10 17:22:32,660]\u001b[0m Trial 12 finished with value: 3.9180408377656755 and parameters: {'a': 0.5273265740095909}. Best is trial 4 with value: 3.915522476298664.\u001b[0m\n",
      "\u001b[32m[I 2021-06-10 17:22:36,324]\u001b[0m Trial 13 finished with value: 3.915503824498973 and parameters: {'a': 0.4316225273616992}. Best is trial 13 with value: 3.915503824498973.\u001b[0m\n",
      "\u001b[32m[I 2021-06-10 17:22:40,090]\u001b[0m Trial 14 finished with value: 3.9868676507197587 and parameters: {'a': 0.9640995779204813}. Best is trial 13 with value: 3.915503824498973.\u001b[0m\n",
      "\u001b[32m[I 2021-06-10 17:22:43,756]\u001b[0m Trial 15 finished with value: 3.9159091336986935 and parameters: {'a': 0.4019194442421852}. Best is trial 13 with value: 3.915503824498973.\u001b[0m\n",
      "\u001b[32m[I 2021-06-10 17:22:47,595]\u001b[0m Trial 16 finished with value: 3.952619580139835 and parameters: {'a': 0.8268625329043505}. Best is trial 13 with value: 3.915503824498973.\u001b[0m\n",
      "\u001b[32m[I 2021-06-10 17:22:51,361]\u001b[0m Trial 17 finished with value: 3.9950792733411635 and parameters: {'a': -0.1267798871824694}. Best is trial 13 with value: 3.915503824498973.\u001b[0m\n",
      "\u001b[32m[I 2021-06-10 17:22:55,029]\u001b[0m Trial 18 finished with value: 3.9170817838735843 and parameters: {'a': 0.38264519753970344}. Best is trial 13 with value: 3.915503824498973.\u001b[0m\n",
      "\u001b[32m[I 2021-06-10 17:22:58,817]\u001b[0m Trial 19 finished with value: 4.077644960950565 and parameters: {'a': -0.36724863823123316}. Best is trial 13 with value: 3.915503824498973.\u001b[0m\n",
      "\u001b[32m[I 2021-06-10 17:23:02,490]\u001b[0m Trial 20 finished with value: 3.955662671585688 and parameters: {'a': 0.03795983366786476}. Best is trial 13 with value: 3.915503824498973.\u001b[0m\n",
      "\u001b[32m[I 2021-06-10 17:23:06,246]\u001b[0m Trial 21 finished with value: 3.915684200483061 and parameters: {'a': 0.41932850093488194}. Best is trial 13 with value: 3.915503824498973.\u001b[0m\n",
      "\u001b[32m[I 2021-06-10 17:23:10,021]\u001b[0m Trial 22 finished with value: 3.9170121227770136 and parameters: {'a': 0.3753992539848206}. Best is trial 13 with value: 3.915503824498973.\u001b[0m\n",
      "\u001b[32m[I 2021-06-10 17:23:13,761]\u001b[0m Trial 23 finished with value: 3.916244568178145 and parameters: {'a': 0.5047607539464454}. Best is trial 13 with value: 3.915503824498973.\u001b[0m\n",
      "\u001b[32m[I 2021-06-10 17:23:17,573]\u001b[0m Trial 24 finished with value: 3.954782747936677 and parameters: {'a': 0.8352330867689084}. Best is trial 13 with value: 3.915503824498973.\u001b[0m\n",
      "\u001b[32m[I 2021-06-10 17:23:21,326]\u001b[0m Trial 25 finished with value: 3.923776408668174 and parameters: {'a': 0.2483225240911106}. Best is trial 13 with value: 3.915503824498973.\u001b[0m\n",
      "\u001b[32m[I 2021-06-10 17:23:25,092]\u001b[0m Trial 26 finished with value: 3.9311451167193407 and parameters: {'a': 0.682424900505761}. Best is trial 13 with value: 3.915503824498973.\u001b[0m\n",
      "\u001b[32m[I 2021-06-10 17:23:28,768]\u001b[0m Trial 27 finished with value: 3.9630911875115866 and parameters: {'a': 0.0003386841386152084}. Best is trial 13 with value: 3.915503824498973.\u001b[0m\n",
      "\u001b[32m[I 2021-06-10 17:23:32,437]\u001b[0m Trial 28 finished with value: 3.9223680943410915 and parameters: {'a': 0.2798132510841346}. Best is trial 13 with value: 3.915503824498973.\u001b[0m\n",
      "\u001b[32m[I 2021-06-10 17:23:36,206]\u001b[0m Trial 29 finished with value: 3.919896308513414 and parameters: {'a': 0.5471100645382065}. Best is trial 13 with value: 3.915503824498973.\u001b[0m\n",
      "\u001b[32m[I 2021-06-10 17:23:40,009]\u001b[0m Trial 30 finished with value: 3.9155069668061326 and parameters: {'a': 0.43376129050742135}. Best is trial 13 with value: 3.915503824498973.\u001b[0m\n",
      "\u001b[32m[I 2021-06-10 17:23:43,853]\u001b[0m Trial 31 finished with value: 3.9149361064843022 and parameters: {'a': 0.4495151691473009}. Best is trial 31 with value: 3.9149361064843022.\u001b[0m\n",
      "\u001b[32m[I 2021-06-10 17:23:47,531]\u001b[0m Trial 32 finished with value: 3.923209291534615 and parameters: {'a': 0.599446901007686}. Best is trial 31 with value: 3.9149361064843022.\u001b[0m\n",
      "\u001b[32m[I 2021-06-10 17:23:51,288]\u001b[0m Trial 33 finished with value: 3.949878615862889 and parameters: {'a': 0.810759644425598}. Best is trial 31 with value: 3.9149361064843022.\u001b[0m\n",
      "\u001b[32m[I 2021-06-10 17:23:54,978]\u001b[0m Trial 34 finished with value: 3.9230264741400527 and parameters: {'a': 0.25748987162993564}. Best is trial 31 with value: 3.9149361064843022.\u001b[0m\n",
      "\u001b[32m[I 2021-06-10 17:23:58,745]\u001b[0m Trial 35 finished with value: 3.94291091384534 and parameters: {'a': 0.11248253626927913}. Best is trial 31 with value: 3.9149361064843022.\u001b[0m\n",
      "\u001b[32m[I 2021-06-10 17:24:02,414]\u001b[0m Trial 36 finished with value: 3.9153998041995868 and parameters: {'a': 0.4397784784840163}. Best is trial 31 with value: 3.9149361064843022.\u001b[0m\n",
      "\u001b[32m[I 2021-06-10 17:24:06,197]\u001b[0m Trial 37 finished with value: 4.398242797213666 and parameters: {'a': -0.9920398145470877}. Best is trial 31 with value: 3.9149361064843022.\u001b[0m\n",
      "\u001b[32m[I 2021-06-10 17:24:10,009]\u001b[0m Trial 38 finished with value: 3.9232907782125204 and parameters: {'a': 0.6013982951616625}. Best is trial 31 with value: 3.9149361064843022.\u001b[0m\n",
      "\u001b[32m[I 2021-06-10 17:24:13,772]\u001b[0m Trial 39 finished with value: 3.9910773581266863 and parameters: {'a': -0.11171409347050082}. Best is trial 31 with value: 3.9149361064843022.\u001b[0m\n",
      "\u001b[32m[I 2021-06-10 17:24:17,448]\u001b[0m Trial 40 finished with value: 3.9369272959176036 and parameters: {'a': 0.7291894746132153}. Best is trial 31 with value: 3.9149361064843022.\u001b[0m\n",
      "\u001b[32m[I 2021-06-10 17:24:21,210]\u001b[0m Trial 41 finished with value: 3.9149602022467898 and parameters: {'a': 0.46262645709383243}. Best is trial 31 with value: 3.9149361064843022.\u001b[0m\n",
      "\u001b[32m[I 2021-06-10 17:24:24,895]\u001b[0m Trial 42 finished with value: 3.9294202123403643 and parameters: {'a': 0.19714246776622227}. Best is trial 31 with value: 3.9149361064843022.\u001b[0m\n",
      "\u001b[32m[I 2021-06-10 17:24:28,659]\u001b[0m Trial 43 finished with value: 3.918519277322395 and parameters: {'a': 0.33100273362702554}. Best is trial 31 with value: 3.9149361064843022.\u001b[0m\n",
      "\u001b[32m[I 2021-06-10 17:24:32,345]\u001b[0m Trial 44 finished with value: 3.9152035333068302 and parameters: {'a': 0.47188651712477037}. Best is trial 31 with value: 3.9149361064843022.\u001b[0m\n",
      "\u001b[32m[I 2021-06-10 17:24:36,117]\u001b[0m Trial 45 finished with value: 3.9157334364357594 and parameters: {'a': 0.49307226369673557}. Best is trial 31 with value: 3.9149361064843022.\u001b[0m\n",
      "\u001b[32m[I 2021-06-10 17:24:39,996]\u001b[0m Trial 46 finished with value: 3.943750122623732 and parameters: {'a': 0.10853151274505837}. Best is trial 31 with value: 3.9149361064843022.\u001b[0m\n",
      "\u001b[32m[I 2021-06-10 17:24:43,772]\u001b[0m Trial 47 finished with value: 3.9281157657301833 and parameters: {'a': 0.6503647260236525}. Best is trial 31 with value: 3.9149361064843022.\u001b[0m\n",
      "\u001b[32m[I 2021-06-10 17:24:47,439]\u001b[0m Trial 48 finished with value: 3.9156203549137136 and parameters: {'a': 0.48026138516732203}. Best is trial 31 with value: 3.9149361064843022.\u001b[0m\n",
      "\u001b[32m[I 2021-06-10 17:24:51,125]\u001b[0m Trial 49 finished with value: 3.9195674801659557 and parameters: {'a': 0.3190143951115173}. Best is trial 31 with value: 3.9149361064843022.\u001b[0m\n",
      "\u001b[32m[I 2021-06-10 17:24:54,915]\u001b[0m Trial 50 finished with value: 3.978757929529913 and parameters: {'a': 0.9341617835221263}. Best is trial 31 with value: 3.9149361064843022.\u001b[0m\n",
      "\u001b[32m[I 2021-06-10 17:24:58,677]\u001b[0m Trial 51 finished with value: 3.9149521747084597 and parameters: {'a': 0.4619336015558529}. Best is trial 31 with value: 3.9149361064843022.\u001b[0m\n",
      "\u001b[32m[I 2021-06-10 17:25:02,450]\u001b[0m Trial 52 finished with value: 3.9253185210849013 and parameters: {'a': 0.6240329653923518}. Best is trial 31 with value: 3.9149361064843022.\u001b[0m\n",
      "\u001b[32m[I 2021-06-10 17:25:06,245]\u001b[0m Trial 53 finished with value: 3.9282511562291265 and parameters: {'a': 0.20862883021179146}. Best is trial 31 with value: 3.9149361064843022.\u001b[0m\n",
      "\u001b[32m[I 2021-06-10 17:25:10,028]\u001b[0m Trial 54 finished with value: 3.9198550214239547 and parameters: {'a': 0.5449877348169105}. Best is trial 31 with value: 3.9149361064843022.\u001b[0m\n",
      "\u001b[32m[I 2021-06-10 17:25:13,711]\u001b[0m Trial 55 finished with value: 3.914812057462205 and parameters: {'a': 0.4538579915159757}. Best is trial 55 with value: 3.914812057462205.\u001b[0m\n",
      "\u001b[32m[I 2021-06-10 17:25:17,464]\u001b[0m Trial 56 finished with value: 3.9405100530873534 and parameters: {'a': 0.7514965591082716}. Best is trial 55 with value: 3.914812057462205.\u001b[0m\n",
      "\u001b[32m[I 2021-06-10 17:25:21,148]\u001b[0m Trial 57 finished with value: 3.9164395152912945 and parameters: {'a': 0.3896766792974527}. Best is trial 55 with value: 3.914812057462205.\u001b[0m\n",
      "\u001b[32m[I 2021-06-10 17:25:24,912]\u001b[0m Trial 58 finished with value: 3.9174627262838335 and parameters: {'a': 0.35012381178649277}. Best is trial 55 with value: 3.914812057462205.\u001b[0m\n",
      "\u001b[32m[I 2021-06-10 17:25:28,593]\u001b[0m Trial 59 finished with value: 3.915133582766795 and parameters: {'a': 0.4709855382182812}. Best is trial 55 with value: 3.914812057462205.\u001b[0m\n",
      "\u001b[32m[I 2021-06-10 17:25:32,502]\u001b[0m Trial 60 finished with value: 3.9673138537062758 and parameters: {'a': 0.8858863555116882}. Best is trial 55 with value: 3.914812057462205.\u001b[0m\n",
      "\u001b[32m[I 2021-06-10 17:25:36,163]\u001b[0m Trial 61 finished with value: 3.914993751292131 and parameters: {'a': 0.4633306907679851}. Best is trial 55 with value: 3.914812057462205.\u001b[0m\n",
      "\u001b[32m[I 2021-06-10 17:25:39,942]\u001b[0m Trial 62 finished with value: 3.920042742642916 and parameters: {'a': 0.553411360815999}. Best is trial 55 with value: 3.914812057462205.\u001b[0m\n",
      "\u001b[32m[I 2021-06-10 17:25:43,604]\u001b[0m Trial 63 finished with value: 3.9368331405309527 and parameters: {'a': 0.7286191670744048}. Best is trial 55 with value: 3.914812057462205.\u001b[0m\n",
      "\u001b[32m[I 2021-06-10 17:25:47,293]\u001b[0m Trial 64 finished with value: 3.915028630007899 and parameters: {'a': 0.46667914505123764}. Best is trial 55 with value: 3.914812057462205.\u001b[0m\n",
      "\u001b[32m[I 2021-06-10 17:25:51,064]\u001b[0m Trial 65 finished with value: 3.9206570964685823 and parameters: {'a': 0.3016664197929614}. Best is trial 55 with value: 3.914812057462205.\u001b[0m\n",
      "\u001b[32m[I 2021-06-10 17:25:54,728]\u001b[0m Trial 66 finished with value: 3.9336547415383745 and parameters: {'a': 0.16668020272004974}. Best is trial 55 with value: 3.914812057462205.\u001b[0m\n",
      "\u001b[32m[I 2021-06-10 17:25:58,645]\u001b[0m Trial 67 finished with value: 3.9299303168864825 and parameters: {'a': 0.6670730407257525}. Best is trial 55 with value: 3.914812057462205.\u001b[0m\n",
      "\u001b[32m[I 2021-06-10 17:26:02,421]\u001b[0m Trial 68 finished with value: 3.921448273072962 and parameters: {'a': 0.5688356258914504}. Best is trial 55 with value: 3.914812057462205.\u001b[0m\n",
      "\u001b[32m[I 2021-06-10 17:26:06,102]\u001b[0m Trial 69 finished with value: 3.9169908555641006 and parameters: {'a': 0.3851096059662496}. Best is trial 55 with value: 3.914812057462205.\u001b[0m\n",
      "\u001b[32m[I 2021-06-10 17:26:09,803]\u001b[0m Trial 70 finished with value: 3.91589476459762 and parameters: {'a': 0.4982647537237539}. Best is trial 55 with value: 3.914812057462205.\u001b[0m\n",
      "\u001b[32m[I 2021-06-10 17:26:13,561]\u001b[0m Trial 71 finished with value: 3.915423899846059 and parameters: {'a': 0.4294110304224297}. Best is trial 55 with value: 3.914812057462205.\u001b[0m\n",
      "\u001b[32m[I 2021-06-10 17:26:17,334]\u001b[0m Trial 72 finished with value: 3.915282162723285 and parameters: {'a': 0.47282616503649905}. Best is trial 55 with value: 3.914812057462205.\u001b[0m\n",
      "\u001b[32m[I 2021-06-10 17:26:20,999]\u001b[0m Trial 73 finished with value: 3.9225845130713632 and parameters: {'a': 0.26362155384424235}. Best is trial 55 with value: 3.914812057462205.\u001b[0m\n",
      "\u001b[32m[I 2021-06-10 17:26:24,770]\u001b[0m Trial 74 finished with value: 3.923089509791711 and parameters: {'a': 0.5981733378488251}. Best is trial 55 with value: 3.914812057462205.\u001b[0m\n",
      "\u001b[32m[I 2021-06-10 17:26:28,650]\u001b[0m Trial 75 finished with value: 4.190935187835775 and parameters: {'a': -0.625533059191067}. Best is trial 55 with value: 3.914812057462205.\u001b[0m\n",
      "\u001b[32m[I 2021-06-10 17:26:32,419]\u001b[0m Trial 76 finished with value: 3.9148361643935385 and parameters: {'a': 0.4531332369976102}. Best is trial 55 with value: 3.914812057462205.\u001b[0m\n",
      "\u001b[32m[I 2021-06-10 17:26:36,101]\u001b[0m Trial 77 finished with value: 3.9182530584015343 and parameters: {'a': 0.5300371644753078}. Best is trial 55 with value: 3.914812057462205.\u001b[0m\n",
      "\u001b[32m[I 2021-06-10 17:26:39,766]\u001b[0m Trial 78 finished with value: 3.917279110285016 and parameters: {'a': 0.35652733766943057}. Best is trial 55 with value: 3.914812057462205.\u001b[0m\n",
      "\u001b[32m[I 2021-06-10 17:26:43,546]\u001b[0m Trial 79 finished with value: 3.929479271695058 and parameters: {'a': 0.6618056777642154}. Best is trial 55 with value: 3.914812057462205.\u001b[0m\n",
      "\u001b[32m[I 2021-06-10 17:26:47,220]\u001b[0m Trial 80 finished with value: 3.933892948612689 and parameters: {'a': 0.16502850375770517}. Best is trial 55 with value: 3.914812057462205.\u001b[0m\n",
      "\u001b[32m[I 2021-06-10 17:26:51,015]\u001b[0m Trial 81 finished with value: 3.914822175443288 and parameters: {'a': 0.45924853291895634}. Best is trial 55 with value: 3.914812057462205.\u001b[0m\n",
      "\u001b[32m[I 2021-06-10 17:26:54,844]\u001b[0m Trial 82 finished with value: 3.9155064396727095 and parameters: {'a': 0.4243370928492369}. Best is trial 55 with value: 3.914812057462205.\u001b[0m\n",
      "\u001b[32m[I 2021-06-10 17:26:58,600]\u001b[0m Trial 83 finished with value: 3.921173696502243 and parameters: {'a': 0.2972126614825443}. Best is trial 55 with value: 3.914812057462205.\u001b[0m\n",
      "\u001b[32m[I 2021-06-10 17:27:02,284]\u001b[0m Trial 84 finished with value: 3.91477005668062 and parameters: {'a': 0.45756676580689415}. Best is trial 84 with value: 3.91477005668062.\u001b[0m\n",
      "\u001b[32m[I 2021-06-10 17:27:06,059]\u001b[0m Trial 85 finished with value: 3.9172849983894893 and parameters: {'a': 0.3619662238465596}. Best is trial 84 with value: 3.91477005668062.\u001b[0m\n",
      "\u001b[32m[I 2021-06-10 17:27:09,721]\u001b[0m Trial 86 finished with value: 3.926393905633816 and parameters: {'a': 0.2242679152421691}. Best is trial 84 with value: 3.91477005668062.\u001b[0m\n",
      "\u001b[32m[I 2021-06-10 17:27:13,494]\u001b[0m Trial 87 finished with value: 3.9217008535576587 and parameters: {'a': 0.5715799261393706}. Best is trial 84 with value: 3.91477005668062.\u001b[0m\n",
      "\u001b[32m[I 2021-06-10 17:27:17,156]\u001b[0m Trial 88 finished with value: 3.9457640661141307 and parameters: {'a': 0.7809640894901623}. Best is trial 84 with value: 3.91477005668062.\u001b[0m\n",
      "\u001b[32m[I 2021-06-10 17:27:21,077]\u001b[0m Trial 89 finished with value: 3.9325285067867526 and parameters: {'a': 0.6971780488954922}. Best is trial 84 with value: 3.91477005668062.\u001b[0m\n",
      "\u001b[32m[I 2021-06-10 17:27:24,749]\u001b[0m Trial 90 finished with value: 3.915414492771082 and parameters: {'a': 0.42732447278844354}. Best is trial 84 with value: 3.91477005668062.\u001b[0m\n",
      "\u001b[32m[I 2021-06-10 17:27:28,422]\u001b[0m Trial 91 finished with value: 3.9164693909596013 and parameters: {'a': 0.5133387865632301}. Best is trial 84 with value: 3.91477005668062.\u001b[0m\n",
      "\u001b[32m[I 2021-06-10 17:27:32,194]\u001b[0m Trial 92 finished with value: 3.9149967071514546 and parameters: {'a': 0.46339995047268473}. Best is trial 84 with value: 3.91477005668062.\u001b[0m\n",
      "\u001b[32m[I 2021-06-10 17:27:35,958]\u001b[0m Trial 93 finished with value: 3.925535976098083 and parameters: {'a': 0.6259196896085355}. Best is trial 84 with value: 3.91477005668062.\u001b[0m\n",
      "\u001b[32m[I 2021-06-10 17:27:39,640]\u001b[0m Trial 94 finished with value: 3.9147638994699894 and parameters: {'a': 0.4573401161852837}. Best is trial 94 with value: 3.9147638994699894.\u001b[0m\n",
      "\u001b[32m[I 2021-06-10 17:27:43,311]\u001b[0m Trial 95 finished with value: 3.919153244353545 and parameters: {'a': 0.3243325427404466}. Best is trial 94 with value: 3.9147638994699894.\u001b[0m\n",
      "\u001b[32m[I 2021-06-10 17:27:47,214]\u001b[0m Trial 96 finished with value: 3.9160653390272953 and parameters: {'a': 0.39504996572026024}. Best is trial 94 with value: 3.9147638994699894.\u001b[0m\n",
      "\u001b[32m[I 2021-06-10 17:27:50,971]\u001b[0m Trial 97 finished with value: 3.916386968388153 and parameters: {'a': 0.5115547170824505}. Best is trial 94 with value: 3.9147638994699894.\u001b[0m\n",
      "\u001b[32m[I 2021-06-10 17:27:54,650]\u001b[0m Trial 98 finished with value: 3.9227833559673058 and parameters: {'a': 0.5923594226579855}. Best is trial 94 with value: 3.9147638994699894.\u001b[0m\n",
      "\u001b[32m[I 2021-06-10 17:27:58,338]\u001b[0m Trial 99 finished with value: 3.9198955615443922 and parameters: {'a': 0.5471485166233492}. Best is trial 94 with value: 3.9147638994699894.\u001b[0m\n"
     ]
    },
    {
     "data": {
      "text/plain": [
       "0.4573401161852837"
      ]
     },
     "execution_count": 12,
     "metadata": {},
     "output_type": "execute_result"
    }
   ],
   "source": [
    "study = optuna.create_study()\n",
    "study.optimize(objective, n_trials=100)\n",
    "study.best_params['a']"
   ]
  },
  {
   "cell_type": "code",
   "execution_count": 13,
   "id": "progressive-difference",
   "metadata": {},
   "outputs": [
    {
     "data": {
      "text/plain": [
       "3.9147638994699894"
      ]
     },
     "execution_count": 13,
     "metadata": {},
     "output_type": "execute_result"
    }
   ],
   "source": [
    "train = position_shift(train, study.best_params['a'])\n",
    "get_train_score(train, ground_truth)"
   ]
  },
  {
   "cell_type": "code",
   "execution_count": 14,
   "id": "conditional-vitamin",
   "metadata": {},
   "outputs": [],
   "source": [
    "train.to_csv(OUTPUT + '/train_ps.csv', index=False)"
   ]
  },
  {
   "cell_type": "code",
   "execution_count": 15,
   "id": "civic-nancy",
   "metadata": {},
   "outputs": [],
   "source": [
    "test = position_shift(test, study.best_params['a'])"
   ]
  },
  {
   "cell_type": "code",
   "execution_count": 18,
   "id": "stuffed-insulin",
   "metadata": {},
   "outputs": [],
   "source": [
    "test[['phone', 'millisSinceGpsEpoch', 'latDeg', 'lngDeg']].to_csv(OUTPUT + '/' + nb_name + '.csv', index=False)"
   ]
  },
  {
   "cell_type": "code",
   "execution_count": null,
   "id": "pharmaceutical-match",
   "metadata": {},
   "outputs": [],
   "source": []
  }
 ],
 "metadata": {
  "kernelspec": {
   "display_name": "Python 3",
   "language": "python",
   "name": "python3"
  },
  "language_info": {
   "codemirror_mode": {
    "name": "ipython",
    "version": 3
   },
   "file_extension": ".py",
   "mimetype": "text/x-python",
   "name": "python",
   "nbconvert_exporter": "python",
   "pygments_lexer": "ipython3",
   "version": "3.7.10"
  }
 },
 "nbformat": 4,
 "nbformat_minor": 5
}
