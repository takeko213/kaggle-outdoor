{
 "cells": [
  {
   "cell_type": "markdown",
   "id": "understood-genre",
   "metadata": {},
   "source": [
    "# eda001\n",
    "baseline_locationsの単純な可視化"
   ]
  },
  {
   "cell_type": "code",
   "execution_count": 11,
   "id": "charged-capital",
   "metadata": {},
   "outputs": [],
   "source": [
    "import os\n",
    "import pandas as pd\n",
    "import ipynb_path\n",
    "import matplotlib.pyplot as plt\n",
    "from matplotlib_venn import venn2, venn2_circles\n",
    "import seaborn as sns\n",
    "%matplotlib inline"
   ]
  },
  {
   "cell_type": "code",
   "execution_count": 12,
   "id": "important-clinton",
   "metadata": {},
   "outputs": [],
   "source": [
    "def get_nb_name():\n",
    "    nb_path = ipynb_path.get()\n",
    "    nb_name = nb_path.rsplit('/',1)[1].replace('.ipynb','')\n",
    "    return nb_name"
   ]
  },
  {
   "cell_type": "code",
   "execution_count": 13,
   "id": "protective-creator",
   "metadata": {},
   "outputs": [],
   "source": [
    "# directory setting\n",
    "nb_name = get_nb_name()\n",
    "INPUT = '../input/google-smartphone-decimeter-challenge'\n",
    "OUTPUT = '../output/' + nb_name\n",
    "os.makedirs(OUTPUT, exist_ok=True)"
   ]
  },
  {
   "cell_type": "code",
   "execution_count": 14,
   "id": "prerequisite-certificate",
   "metadata": {},
   "outputs": [],
   "source": [
    "# reading data\n",
    "base_train = pd.read_csv(INPUT + '/' + 'baseline_locations_train.csv')\n",
    "base_test = pd.read_csv(INPUT + '/' + 'baseline_locations_test.csv')\n",
    "sample_sub = pd.read_csv(INPUT + '/' + 'sample_submission.csv')\n",
    "ground_truth_train = pd.read_csv(INPUT + '/prep/ground_truth_train.csv')"
   ]
  },
  {
   "cell_type": "code",
   "execution_count": 16,
   "id": "champion-bernard",
   "metadata": {},
   "outputs": [
    {
     "data": {
      "text/html": [
       "<div>\n",
       "<style scoped>\n",
       "    .dataframe tbody tr th:only-of-type {\n",
       "        vertical-align: middle;\n",
       "    }\n",
       "\n",
       "    .dataframe tbody tr th {\n",
       "        vertical-align: top;\n",
       "    }\n",
       "\n",
       "    .dataframe thead th {\n",
       "        text-align: right;\n",
       "    }\n",
       "</style>\n",
       "<table border=\"1\" class=\"dataframe\">\n",
       "  <thead>\n",
       "    <tr style=\"text-align: right;\">\n",
       "      <th></th>\n",
       "      <th>collectionName</th>\n",
       "      <th>phoneName</th>\n",
       "      <th>millisSinceGpsEpoch</th>\n",
       "      <th>latDeg</th>\n",
       "      <th>lngDeg</th>\n",
       "      <th>heightAboveWgs84EllipsoidM</th>\n",
       "      <th>phone</th>\n",
       "    </tr>\n",
       "  </thead>\n",
       "  <tbody>\n",
       "    <tr>\n",
       "      <th>0</th>\n",
       "      <td>2020-05-14-US-MTV-1</td>\n",
       "      <td>Pixel4</td>\n",
       "      <td>1273529463442</td>\n",
       "      <td>37.423575</td>\n",
       "      <td>-122.094091</td>\n",
       "      <td>-34.06</td>\n",
       "      <td>2020-05-14-US-MTV-1_Pixel4</td>\n",
       "    </tr>\n",
       "    <tr>\n",
       "      <th>1</th>\n",
       "      <td>2020-05-14-US-MTV-1</td>\n",
       "      <td>Pixel4</td>\n",
       "      <td>1273529464442</td>\n",
       "      <td>37.423578</td>\n",
       "      <td>-122.094101</td>\n",
       "      <td>-33.29</td>\n",
       "      <td>2020-05-14-US-MTV-1_Pixel4</td>\n",
       "    </tr>\n",
       "    <tr>\n",
       "      <th>2</th>\n",
       "      <td>2020-05-14-US-MTV-1</td>\n",
       "      <td>Pixel4</td>\n",
       "      <td>1273529465442</td>\n",
       "      <td>37.423573</td>\n",
       "      <td>-122.094111</td>\n",
       "      <td>-30.99</td>\n",
       "      <td>2020-05-14-US-MTV-1_Pixel4</td>\n",
       "    </tr>\n",
       "    <tr>\n",
       "      <th>3</th>\n",
       "      <td>2020-05-14-US-MTV-1</td>\n",
       "      <td>Pixel4</td>\n",
       "      <td>1273529466442</td>\n",
       "      <td>37.423583</td>\n",
       "      <td>-122.094121</td>\n",
       "      <td>-32.83</td>\n",
       "      <td>2020-05-14-US-MTV-1_Pixel4</td>\n",
       "    </tr>\n",
       "    <tr>\n",
       "      <th>4</th>\n",
       "      <td>2020-05-14-US-MTV-1</td>\n",
       "      <td>Pixel4</td>\n",
       "      <td>1273529467442</td>\n",
       "      <td>37.423579</td>\n",
       "      <td>-122.094114</td>\n",
       "      <td>-34.49</td>\n",
       "      <td>2020-05-14-US-MTV-1_Pixel4</td>\n",
       "    </tr>\n",
       "  </tbody>\n",
       "</table>\n",
       "</div>"
      ],
      "text/plain": [
       "        collectionName phoneName  millisSinceGpsEpoch     latDeg      lngDeg  \\\n",
       "0  2020-05-14-US-MTV-1    Pixel4        1273529463442  37.423575 -122.094091   \n",
       "1  2020-05-14-US-MTV-1    Pixel4        1273529464442  37.423578 -122.094101   \n",
       "2  2020-05-14-US-MTV-1    Pixel4        1273529465442  37.423573 -122.094111   \n",
       "3  2020-05-14-US-MTV-1    Pixel4        1273529466442  37.423583 -122.094121   \n",
       "4  2020-05-14-US-MTV-1    Pixel4        1273529467442  37.423579 -122.094114   \n",
       "\n",
       "   heightAboveWgs84EllipsoidM                       phone  \n",
       "0                      -34.06  2020-05-14-US-MTV-1_Pixel4  \n",
       "1                      -33.29  2020-05-14-US-MTV-1_Pixel4  \n",
       "2                      -30.99  2020-05-14-US-MTV-1_Pixel4  \n",
       "3                      -32.83  2020-05-14-US-MTV-1_Pixel4  \n",
       "4                      -34.49  2020-05-14-US-MTV-1_Pixel4  "
      ]
     },
     "execution_count": 16,
     "metadata": {},
     "output_type": "execute_result"
    }
   ],
   "source": [
    "base_train.head()"
   ]
  },
  {
   "cell_type": "code",
   "execution_count": 17,
   "id": "infrared-pacific",
   "metadata": {},
   "outputs": [
    {
     "data": {
      "text/html": [
       "<div>\n",
       "<style scoped>\n",
       "    .dataframe tbody tr th:only-of-type {\n",
       "        vertical-align: middle;\n",
       "    }\n",
       "\n",
       "    .dataframe tbody tr th {\n",
       "        vertical-align: top;\n",
       "    }\n",
       "\n",
       "    .dataframe thead th {\n",
       "        text-align: right;\n",
       "    }\n",
       "</style>\n",
       "<table border=\"1\" class=\"dataframe\">\n",
       "  <thead>\n",
       "    <tr style=\"text-align: right;\">\n",
       "      <th></th>\n",
       "      <th>collectionName</th>\n",
       "      <th>phoneName</th>\n",
       "      <th>millisSinceGpsEpoch</th>\n",
       "      <th>latDeg</th>\n",
       "      <th>lngDeg</th>\n",
       "      <th>heightAboveWgs84EllipsoidM</th>\n",
       "      <th>phone</th>\n",
       "    </tr>\n",
       "  </thead>\n",
       "  <tbody>\n",
       "    <tr>\n",
       "      <th>0</th>\n",
       "      <td>2020-05-15-US-MTV-1</td>\n",
       "      <td>Pixel4</td>\n",
       "      <td>1273608785432</td>\n",
       "      <td>37.416628</td>\n",
       "      <td>-122.082053</td>\n",
       "      <td>-30.69</td>\n",
       "      <td>2020-05-15-US-MTV-1_Pixel4</td>\n",
       "    </tr>\n",
       "    <tr>\n",
       "      <th>1</th>\n",
       "      <td>2020-05-15-US-MTV-1</td>\n",
       "      <td>Pixel4</td>\n",
       "      <td>1273608786432</td>\n",
       "      <td>37.416646</td>\n",
       "      <td>-122.082040</td>\n",
       "      <td>-31.76</td>\n",
       "      <td>2020-05-15-US-MTV-1_Pixel4</td>\n",
       "    </tr>\n",
       "    <tr>\n",
       "      <th>2</th>\n",
       "      <td>2020-05-15-US-MTV-1</td>\n",
       "      <td>Pixel4</td>\n",
       "      <td>1273608787432</td>\n",
       "      <td>37.416653</td>\n",
       "      <td>-122.082039</td>\n",
       "      <td>-31.65</td>\n",
       "      <td>2020-05-15-US-MTV-1_Pixel4</td>\n",
       "    </tr>\n",
       "    <tr>\n",
       "      <th>3</th>\n",
       "      <td>2020-05-15-US-MTV-1</td>\n",
       "      <td>Pixel4</td>\n",
       "      <td>1273608788432</td>\n",
       "      <td>37.416607</td>\n",
       "      <td>-122.082063</td>\n",
       "      <td>-31.52</td>\n",
       "      <td>2020-05-15-US-MTV-1_Pixel4</td>\n",
       "    </tr>\n",
       "    <tr>\n",
       "      <th>4</th>\n",
       "      <td>2020-05-15-US-MTV-1</td>\n",
       "      <td>Pixel4</td>\n",
       "      <td>1273608789432</td>\n",
       "      <td>37.416609</td>\n",
       "      <td>-122.082073</td>\n",
       "      <td>-28.95</td>\n",
       "      <td>2020-05-15-US-MTV-1_Pixel4</td>\n",
       "    </tr>\n",
       "  </tbody>\n",
       "</table>\n",
       "</div>"
      ],
      "text/plain": [
       "        collectionName phoneName  millisSinceGpsEpoch     latDeg      lngDeg  \\\n",
       "0  2020-05-15-US-MTV-1    Pixel4        1273608785432  37.416628 -122.082053   \n",
       "1  2020-05-15-US-MTV-1    Pixel4        1273608786432  37.416646 -122.082040   \n",
       "2  2020-05-15-US-MTV-1    Pixel4        1273608787432  37.416653 -122.082039   \n",
       "3  2020-05-15-US-MTV-1    Pixel4        1273608788432  37.416607 -122.082063   \n",
       "4  2020-05-15-US-MTV-1    Pixel4        1273608789432  37.416609 -122.082073   \n",
       "\n",
       "   heightAboveWgs84EllipsoidM                       phone  \n",
       "0                      -30.69  2020-05-15-US-MTV-1_Pixel4  \n",
       "1                      -31.76  2020-05-15-US-MTV-1_Pixel4  \n",
       "2                      -31.65  2020-05-15-US-MTV-1_Pixel4  \n",
       "3                      -31.52  2020-05-15-US-MTV-1_Pixel4  \n",
       "4                      -28.95  2020-05-15-US-MTV-1_Pixel4  "
      ]
     },
     "execution_count": 17,
     "metadata": {},
     "output_type": "execute_result"
    }
   ],
   "source": [
    "base_test.head()"
   ]
  },
  {
   "cell_type": "markdown",
   "id": "worldwide-medicare",
   "metadata": {},
   "source": [
    "### collectionNameの数"
   ]
  },
  {
   "cell_type": "code",
   "execution_count": 21,
   "id": "false-coffee",
   "metadata": {},
   "outputs": [
    {
     "name": "stdout",
     "output_type": "stream",
     "text": [
      "train :  29\n",
      "test :  19\n"
     ]
    }
   ],
   "source": [
    "print('train : ', base_train['collectionName'].nunique())\n",
    "print('test : ', base_test['collectionName'].nunique())"
   ]
  },
  {
   "cell_type": "markdown",
   "id": "loving-packing",
   "metadata": {},
   "source": [
    "### collectionNameのtrain, testでの重複"
   ]
  },
  {
   "cell_type": "code",
   "execution_count": 24,
   "id": "patent-manner",
   "metadata": {},
   "outputs": [
    {
     "data": {
      "text/plain": [
       "<matplotlib_venn._common.VennDiagram at 0x7f4560198d90>"
      ]
     },
     "execution_count": 24,
     "metadata": {},
     "output_type": "execute_result"
    },
    {
     "data": {
      "image/png": "[encoded data removed]",
      "text/plain": [
       "<Figure size 432x288 with 1 Axes>"
      ]
     },
     "metadata": {},
     "output_type": "display_data"
    }
   ],
   "source": [
    "venn2(subsets=(set(base_train['collectionName'].unique()), set(base_test['collectionName'].unique())), set_labels=('Train', 'Test'))"
   ]
  },
  {
   "cell_type": "markdown",
   "id": "scenic-pilot",
   "metadata": {},
   "source": [
    "### collectionNameごとのphoneの数"
   ]
  },
  {
   "cell_type": "code",
   "execution_count": 40,
   "id": "intense-damage",
   "metadata": {},
   "outputs": [
    {
     "data": {
      "text/plain": [
       "2    12\n",
       "3    10\n",
       "4     4\n",
       "1     3\n",
       "Name: phone, dtype: int64"
      ]
     },
     "execution_count": 40,
     "metadata": {},
     "output_type": "execute_result"
    }
   ],
   "source": [
    "base_train.drop_duplicates(['collectionName', 'phoneName']).groupby(['collectionName'])['phone'].count().value_counts()"
   ]
  },
  {
   "cell_type": "code",
   "execution_count": 41,
   "id": "olive-induction",
   "metadata": {},
   "outputs": [
    {
     "data": {
      "text/plain": [
       "2    8\n",
       "3    7\n",
       "1    2\n",
       "5    1\n",
       "4    1\n",
       "Name: phone, dtype: int64"
      ]
     },
     "execution_count": 41,
     "metadata": {},
     "output_type": "execute_result"
    }
   ],
   "source": [
    "base_test.drop_duplicates(['collectionName', 'phoneName']).groupby(['collectionName'])['phone'].count().value_counts()"
   ]
  },
  {
   "cell_type": "markdown",
   "id": "front-field",
   "metadata": {},
   "source": [
    "### collection日付"
   ]
  },
  {
   "cell_type": "code",
   "execution_count": 73,
   "id": "toxic-script",
   "metadata": {},
   "outputs": [
    {
     "name": "stdout",
     "output_type": "stream",
     "text": [
      "trainの日付範囲\n",
      "2020-05-14  -  2021-04-29\n"
     ]
    }
   ],
   "source": [
    "tmp = base_train.drop_duplicates(['collectionName']).copy()\n",
    "tmp['collectionDate'] = pd.to_datetime(tmp['collectionName'].str[:10])\n",
    "print('trainの日付範囲')\n",
    "print(tmp['collectionDate'].min().date(), ' - ', tmp['collectionDate'].max().date())"
   ]
  },
  {
   "cell_type": "code",
   "execution_count": 74,
   "id": "ignored-soviet",
   "metadata": {},
   "outputs": [
    {
     "data": {
      "text/plain": [
       "array(['2020-05-14T00:00:00.000000000', '2020-05-21T00:00:00.000000000',\n",
       "       '2020-05-29T00:00:00.000000000', '2020-06-04T00:00:00.000000000',\n",
       "       '2020-06-05T00:00:00.000000000', '2020-06-11T00:00:00.000000000',\n",
       "       '2020-07-08T00:00:00.000000000', '2020-07-17T00:00:00.000000000',\n",
       "       '2020-08-03T00:00:00.000000000', '2020-08-06T00:00:00.000000000',\n",
       "       '2020-09-04T00:00:00.000000000', '2021-01-04T00:00:00.000000000',\n",
       "       '2021-01-05T00:00:00.000000000', '2021-03-10T00:00:00.000000000',\n",
       "       '2021-04-15T00:00:00.000000000', '2021-04-22T00:00:00.000000000',\n",
       "       '2021-04-26T00:00:00.000000000', '2021-04-28T00:00:00.000000000',\n",
       "       '2021-04-29T00:00:00.000000000'], dtype='datetime64[ns]')"
      ]
     },
     "execution_count": 74,
     "metadata": {},
     "output_type": "execute_result"
    }
   ],
   "source": [
    "tmp['collectionDate'].unique()"
   ]
  },
  {
   "cell_type": "code",
   "execution_count": 71,
   "id": "national-suggestion",
   "metadata": {},
   "outputs": [
    {
     "name": "stdout",
     "output_type": "stream",
     "text": [
      "testの日付範囲\n",
      "2020-05-15  -  2021-04-29\n"
     ]
    }
   ],
   "source": [
    "tmp = base_test.drop_duplicates(['collectionName']).copy()\n",
    "tmp['collectionDate'] = pd.to_datetime(tmp['collectionName'].str[:10])\n",
    "print('testの日付範囲')\n",
    "print(tmp['collectionDate'].min().date(), ' - ', tmp['collectionDate'].max().date())"
   ]
  },
  {
   "cell_type": "code",
   "execution_count": 75,
   "id": "otherwise-legislation",
   "metadata": {},
   "outputs": [
    {
     "data": {
      "text/plain": [
       "array(['2020-05-14T00:00:00.000000000', '2020-05-21T00:00:00.000000000',\n",
       "       '2020-05-29T00:00:00.000000000', '2020-06-04T00:00:00.000000000',\n",
       "       '2020-06-05T00:00:00.000000000', '2020-06-11T00:00:00.000000000',\n",
       "       '2020-07-08T00:00:00.000000000', '2020-07-17T00:00:00.000000000',\n",
       "       '2020-08-03T00:00:00.000000000', '2020-08-06T00:00:00.000000000',\n",
       "       '2020-09-04T00:00:00.000000000', '2021-01-04T00:00:00.000000000',\n",
       "       '2021-01-05T00:00:00.000000000', '2021-03-10T00:00:00.000000000',\n",
       "       '2021-04-15T00:00:00.000000000', '2021-04-22T00:00:00.000000000',\n",
       "       '2021-04-26T00:00:00.000000000', '2021-04-28T00:00:00.000000000',\n",
       "       '2021-04-29T00:00:00.000000000'], dtype='datetime64[ns]')"
      ]
     },
     "execution_count": 75,
     "metadata": {},
     "output_type": "execute_result"
    }
   ],
   "source": [
    "tmp['collectionDate'].unique()"
   ]
  },
  {
   "cell_type": "markdown",
   "id": "split-victoria",
   "metadata": {},
   "source": [
    "### phoneNameの数"
   ]
  },
  {
   "cell_type": "code",
   "execution_count": 33,
   "id": "exotic-treatment",
   "metadata": {},
   "outputs": [
    {
     "data": {
      "text/plain": [
       "<AxesSubplot:>"
      ]
     },
     "execution_count": 33,
     "metadata": {},
     "output_type": "execute_result"
    },
    {
     "data": {
      "image/png": "[encoded data removed]",
      "text/plain": [
       "<Figure size 432x288 with 1 Axes>"
      ]
     },
     "metadata": {
      "needs_background": "light"
     },
     "output_type": "display_data"
    }
   ],
   "source": [
    "base_train['phoneName'].value_counts().plot(kind='bar')"
   ]
  },
  {
   "cell_type": "code",
   "execution_count": 34,
   "id": "designed-burton",
   "metadata": {},
   "outputs": [
    {
     "data": {
      "text/plain": [
       "<AxesSubplot:>"
      ]
     },
     "execution_count": 34,
     "metadata": {},
     "output_type": "execute_result"
    },
    {
     "data": {
      "image/png": "[encoded data removed]",
      "text/plain": [
       "<Figure size 432x288 with 1 Axes>"
      ]
     },
     "metadata": {
      "needs_background": "light"
     },
     "output_type": "display_data"
    }
   ],
   "source": [
    "base_test['phoneName'].value_counts().plot(kind='bar')"
   ]
  },
  {
   "cell_type": "markdown",
   "id": "headed-rochester",
   "metadata": {},
   "source": [
    "### phoneごとのレコード数"
   ]
  },
  {
   "cell_type": "code",
   "execution_count": 18,
   "id": "adverse-spine",
   "metadata": {},
   "outputs": [
    {
     "data": {
      "text/plain": [
       "2021-04-22-US-SJC-1_Pixel4             2890\n",
       "2021-04-22-US-SJC-1_SamsungS20Ultra    2826\n",
       "2020-09-04-US-SF-2_Mi8                 2500\n",
       "2021-04-29-US-SJC-2_SamsungS20Ultra    2370\n",
       "2020-09-04-US-SF-2_Pixel4              2349\n",
       "                                       ... \n",
       "2021-01-05-US-SVL-2_Pixel4XL           1193\n",
       "2020-06-05-US-MTV-1_Pixel4XLModded     1123\n",
       "2021-04-26-US-SVL-1_Mi8                1036\n",
       "2021-04-26-US-SVL-1_Pixel5             1034\n",
       "2020-05-14-US-MTV-2_Pixel4XLModded      577\n",
       "Name: phone, Length: 73, dtype: int64"
      ]
     },
     "execution_count": 18,
     "metadata": {},
     "output_type": "execute_result"
    }
   ],
   "source": [
    "base_train['phone'].value_counts()"
   ]
  },
  {
   "cell_type": "code",
   "execution_count": 19,
   "id": "reduced-section",
   "metadata": {},
   "outputs": [
    {
     "data": {
      "text/plain": [
       "2020-05-15-US-MTV-1_Pixel4XL           3517\n",
       "2020-05-15-US-MTV-1_Pixel4             3488\n",
       "2020-05-28-US-MTV-1_Pixel4XL           2426\n",
       "2021-04-02-US-SJC-1_Pixel5             2385\n",
       "2021-04-02-US-SJC-1_Pixel4             2364\n",
       "2020-08-13-US-MTV-1_Mi8                2342\n",
       "2021-03-16-US-MTV-2_SamsungS20Ultra    2326\n",
       "2021-04-26-US-SVL-2_SamsungS20Ultra    2324\n",
       "2021-04-22-US-SJC-2_SamsungS20Ultra    2324\n",
       "2020-05-28-US-MTV-2_Pixel4             2318\n",
       "2020-05-28-US-MTV-2_Pixel4XL           2309\n",
       "2020-05-28-US-MTV-1_Pixel4             2256\n",
       "2020-08-13-US-MTV-1_Pixel4             2245\n",
       "2021-04-29-US-SJC-3_SamsungS20Ultra    2061\n",
       "2021-03-16-US-MTV-2_Pixel4Modded       2041\n",
       "2021-03-16-US-RWC-2_Pixel5             2010\n",
       "2021-04-29-US-SJC-3_Pixel4             1979\n",
       "2021-03-16-US-RWC-2_SamsungS20Ultra    1972\n",
       "2021-03-16-US-RWC-2_Pixel4XL           1968\n",
       "2020-06-10-US-MTV-2_Pixel4XLModded     1937\n",
       "2020-06-10-US-MTV-2_Pixel4XL           1805\n",
       "2020-06-10-US-MTV-2_Pixel4             1794\n",
       "2021-04-28-US-MTV-2_SamsungS20Ultra    1790\n",
       "2021-04-29-US-MTV-2_SamsungS20Ultra    1758\n",
       "2021-04-28-US-MTV-2_Pixel4             1748\n",
       "2020-08-03-US-MTV-2_Pixel4             1745\n",
       "2020-08-03-US-MTV-2_Mi8                1743\n",
       "2021-04-29-US-MTV-2_Pixel5             1727\n",
       "2021-03-25-US-PAO-1_Pixel4             1726\n",
       "2021-03-25-US-PAO-1_Pixel5             1725\n",
       "2021-03-25-US-PAO-1_SamsungS20Ultra    1724\n",
       "2021-03-25-US-PAO-1_Pixel4Modded       1722\n",
       "2021-03-25-US-PAO-1_Mi8                1722\n",
       "2021-04-29-US-MTV-2_Pixel4             1708\n",
       "2020-06-04-US-MTV-2_Pixel4XLModded     1702\n",
       "2020-06-04-US-MTV-2_Pixel4XL           1701\n",
       "2020-06-04-US-MTV-2_Pixel4             1696\n",
       "2020-08-03-US-MTV-2_Pixel4XL           1696\n",
       "2020-06-10-US-MTV-1_Pixel4XLModded     1693\n",
       "2020-06-10-US-MTV-1_Pixel4             1663\n",
       "2020-06-10-US-MTV-1_Pixel4XL           1662\n",
       "2020-05-28-US-MTV-2_Pixel4XLModded     1458\n",
       "2021-04-21-US-MTV-1_Pixel4             1443\n",
       "2021-04-21-US-MTV-1_Pixel4Modded       1422\n",
       "2021-04-08-US-MTV-1_Pixel5             1210\n",
       "2021-04-08-US-MTV-1_SamsungS20Ultra    1059\n",
       "2021-04-08-US-MTV-1_Pixel4             1028\n",
       "2021-04-08-US-MTV-1_Pixel4Modded       1024\n",
       "Name: phone, dtype: int64"
      ]
     },
     "execution_count": 19,
     "metadata": {},
     "output_type": "execute_result"
    }
   ],
   "source": [
    "base_test['phone'].value_counts()"
   ]
  }
 ],
 "metadata": {
  "kernelspec": {
   "display_name": "Python 3",
   "language": "python",
   "name": "python3"
  },
  "language_info": {
   "codemirror_mode": {
    "name": "ipython",
    "version": 3
   },
   "file_extension": ".py",
   "mimetype": "text/x-python",
   "name": "python",
   "nbconvert_exporter": "python",
   "pygments_lexer": "ipython3",
   "version": "3.7.10"
  }
 },
 "nbformat": 4,
 "nbformat_minor": 5
}
