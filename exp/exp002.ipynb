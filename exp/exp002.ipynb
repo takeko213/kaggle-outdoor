{
 "cells": [
  {
   "cell_type": "markdown",
   "id": "expensive-glossary",
   "metadata": {},
   "source": [
    "# exp002\n",
    "evaluationを実装する"
   ]
  },
  {
   "cell_type": "code",
   "execution_count": 26,
   "id": "coral-mandate",
   "metadata": {},
   "outputs": [],
   "source": [
    "import os\n",
    "import pandas as pd\n",
    "import numpy as np\n",
    "import ipynb_path\n",
    "import simdkalman\n",
    "import matplotlib.pyplot as plt\n",
    "from matplotlib_venn import venn2, venn2_circles\n",
    "import seaborn as sns\n",
    "from tqdm.notebook import tqdm"
   ]
  },
  {
   "cell_type": "code",
   "execution_count": 5,
   "id": "external-section",
   "metadata": {},
   "outputs": [],
   "source": [
    "def get_nb_name():\n",
    "    nb_path = ipynb_path.get()\n",
    "    nb_name = nb_path.rsplit('/',1)[1].replace('.ipynb','')\n",
    "    return nb_name"
   ]
  },
  {
   "cell_type": "code",
   "execution_count": 6,
   "id": "novel-prompt",
   "metadata": {},
   "outputs": [],
   "source": [
    "def calc_haversine(lat1, lon1, lat2, lon2):\n",
    "    \"\"\"Calculates the great circle distance between two points\n",
    "    on the earth. Inputs are array-like and specified in decimal degrees.\n",
    "    \"\"\"\n",
    "    RADIUS = 6_367_000\n",
    "    lat1, lon1, lat2, lon2 = map(np.radians, [lat1, lon1, lat2, lon2])\n",
    "    dlat = lat2 - lat1\n",
    "    dlon = lon2 - lon1\n",
    "    a = np.sin(dlat/2)**2 + \\\n",
    "        np.cos(lat1) * np.cos(lat2) * np.sin(dlon/2)**2\n",
    "    dist = 2 * RADIUS * np.arcsin(a**0.5)\n",
    "    return dist"
   ]
  },
  {
   "cell_type": "code",
   "execution_count": 7,
   "id": "innovative-genome",
   "metadata": {},
   "outputs": [],
   "source": [
    "def percentile50(x):\n",
    "    return np.percentile(x, 50)\n",
    "def percentile95(x):\n",
    "    return np.percentile(x, 95)"
   ]
  },
  {
   "cell_type": "code",
   "execution_count": 8,
   "id": "obvious-closure",
   "metadata": {},
   "outputs": [],
   "source": [
    "# directory setting\n",
    "nb_name = get_nb_name()\n",
    "INPUT = '../input/google-smartphone-decimeter-challenge'\n",
    "OUTPUT = '../output/' + nb_name\n",
    "os.makedirs(OUTPUT, exist_ok=True)"
   ]
  },
  {
   "cell_type": "code",
   "execution_count": 9,
   "id": "considerable-missouri",
   "metadata": {},
   "outputs": [],
   "source": [
    "base_train = pd.read_csv(INPUT + '/' + 'baseline_locations_train.csv')\n",
    "base_test = pd.read_csv(INPUT + '/' + 'baseline_locations_test.csv')\n",
    "sample_sub = pd.read_csv(INPUT + '/' + 'sample_submission.csv')\n",
    "ground_truth_train = pd.read_csv(INPUT + '/prep/ground_truth_train.csv')"
   ]
  },
  {
   "cell_type": "code",
   "execution_count": 11,
   "id": "limited-laptop",
   "metadata": {},
   "outputs": [],
   "source": [
    "T = 1.0\n",
    "state_transition = np.array([[1, 0, T, 0, 0.5 * T ** 2, 0], [0, 1, 0, T, 0, 0.5 * T ** 2], [0, 0, 1, 0, T, 0],\n",
    "                             [0, 0, 0, 1, 0, T], [0, 0, 0, 0, 1, 0], [0, 0, 0, 0, 0, 1]])\n",
    "process_noise = np.diag([1e-5, 1e-5, 5e-6, 5e-6, 1e-6, 1e-6]) + np.ones((6, 6)) * 1e-9\n",
    "observation_model = np.array([[1, 0, 0, 0, 0, 0], [0, 1, 0, 0, 0, 0]])\n",
    "observation_noise = np.diag([5e-5, 5e-5]) + np.ones((2, 2)) * 1e-9\n",
    "\n",
    "kf = simdkalman.KalmanFilter(\n",
    "        state_transition = state_transition,\n",
    "        process_noise = process_noise,\n",
    "        observation_model = observation_model,\n",
    "        observation_noise = observation_noise)"
   ]
  },
  {
   "cell_type": "code",
   "execution_count": 12,
   "id": "together-prescription",
   "metadata": {},
   "outputs": [],
   "source": [
    "def apply_kf_smoothing(df, kf_=kf):\n",
    "    unique_paths = df[['collectionName', 'phoneName']].drop_duplicates().to_numpy()\n",
    "    for collection, phone in unique_paths:\n",
    "        cond = np.logical_and(df['collectionName'] == collection, df['phoneName'] == phone)\n",
    "        data = df[cond][['latDeg', 'lngDeg']].to_numpy()\n",
    "        data = data.reshape(1, len(data), 2)\n",
    "        smoothed = kf_.smooth(data)\n",
    "        df.loc[cond, 'latDeg'] = smoothed.states.mean[0, :, 0]\n",
    "        df.loc[cond, 'lngDeg'] = smoothed.states.mean[0, :, 1]\n",
    "    return df"
   ]
  },
  {
   "cell_type": "code",
   "execution_count": 13,
   "id": "continued-jesus",
   "metadata": {},
   "outputs": [],
   "source": [
    "cols = ['collectionName', 'phoneName', 'millisSinceGpsEpoch', 'latDeg', 'lngDeg']"
   ]
  },
  {
   "cell_type": "code",
   "execution_count": 14,
   "id": "herbal-sigma",
   "metadata": {},
   "outputs": [
    {
     "name": "stderr",
     "output_type": "stream",
     "text": [
      "/opt/conda/lib/python3.7/site-packages/pandas/core/indexing.py:1743: SettingWithCopyWarning: \n",
      "A value is trying to be set on a copy of a slice from a DataFrame.\n",
      "Try using .loc[row_indexer,col_indexer] = value instead\n",
      "\n",
      "See the caveats in the documentation: https://pandas.pydata.org/pandas-docs/stable/user_guide/indexing.html#returning-a-view-versus-a-copy\n",
      "  isetter(ilocs[0], value)\n"
     ]
    }
   ],
   "source": [
    "df_basepreds_kf = apply_kf_smoothing(base_train[cols])"
   ]
  },
  {
   "cell_type": "code",
   "execution_count": 15,
   "id": "therapeutic-quest",
   "metadata": {},
   "outputs": [
    {
     "data": {
      "text/plain": [
       "3.8468483749908207"
      ]
     },
     "execution_count": 15,
     "metadata": {},
     "output_type": "execute_result"
    }
   ],
   "source": [
    "calc_haversine(ground_truth_train['latDeg'], ground_truth_train['lngDeg'], \n",
    "               base_train['latDeg'], base_train['lngDeg']).mean()"
   ]
  },
  {
   "cell_type": "code",
   "execution_count": 16,
   "id": "further-tournament",
   "metadata": {},
   "outputs": [
    {
     "data": {
      "text/plain": [
       "3.390778191300677"
      ]
     },
     "execution_count": 16,
     "metadata": {},
     "output_type": "execute_result"
    }
   ],
   "source": [
    "calc_haversine(ground_truth_train['latDeg'], ground_truth_train['lngDeg'], \n",
    "               df_basepreds_kf['latDeg'], df_basepreds_kf['lngDeg']).mean()"
   ]
  },
  {
   "cell_type": "code",
   "execution_count": 17,
   "id": "desirable-robin",
   "metadata": {},
   "outputs": [],
   "source": [
    "base_train['err'] = calc_haversine(ground_truth_train['latDeg'], ground_truth_train['lngDeg'], base_train['latDeg'], base_train['lngDeg'])"
   ]
  },
  {
   "cell_type": "code",
   "execution_count": 18,
   "id": "electoral-mitchell",
   "metadata": {},
   "outputs": [
    {
     "name": "stderr",
     "output_type": "stream",
     "text": [
      "/opt/conda/lib/python3.7/site-packages/ipykernel_launcher.py:1: SettingWithCopyWarning: \n",
      "A value is trying to be set on a copy of a slice from a DataFrame.\n",
      "Try using .loc[row_indexer,col_indexer] = value instead\n",
      "\n",
      "See the caveats in the documentation: https://pandas.pydata.org/pandas-docs/stable/user_guide/indexing.html#returning-a-view-versus-a-copy\n",
      "  \"\"\"Entry point for launching an IPython kernel.\n"
     ]
    }
   ],
   "source": [
    "df_basepreds_kf['err'] = calc_haversine(ground_truth_train['latDeg'], ground_truth_train['lngDeg'], df_basepreds_kf['latDeg'], df_basepreds_kf['lngDeg'])"
   ]
  },
  {
   "cell_type": "code",
   "execution_count": 19,
   "id": "transsexual-paris",
   "metadata": {},
   "outputs": [
    {
     "data": {
      "text/html": [
       "<div>\n",
       "<style scoped>\n",
       "    .dataframe tbody tr th:only-of-type {\n",
       "        vertical-align: middle;\n",
       "    }\n",
       "\n",
       "    .dataframe tbody tr th {\n",
       "        vertical-align: top;\n",
       "    }\n",
       "\n",
       "    .dataframe thead th {\n",
       "        text-align: right;\n",
       "    }\n",
       "</style>\n",
       "<table border=\"1\" class=\"dataframe\">\n",
       "  <thead>\n",
       "    <tr style=\"text-align: right;\">\n",
       "      <th></th>\n",
       "      <th>collectionName</th>\n",
       "      <th>phoneName</th>\n",
       "      <th>millisSinceGpsEpoch</th>\n",
       "      <th>latDeg</th>\n",
       "      <th>lngDeg</th>\n",
       "      <th>heightAboveWgs84EllipsoidM</th>\n",
       "      <th>phone</th>\n",
       "      <th>err</th>\n",
       "    </tr>\n",
       "  </thead>\n",
       "  <tbody>\n",
       "    <tr>\n",
       "      <th>0</th>\n",
       "      <td>2020-05-14-US-MTV-1</td>\n",
       "      <td>Pixel4</td>\n",
       "      <td>1273529463442</td>\n",
       "      <td>37.423575</td>\n",
       "      <td>-122.094091</td>\n",
       "      <td>-34.06</td>\n",
       "      <td>2020-05-14-US-MTV-1_Pixel4</td>\n",
       "      <td>3.586842</td>\n",
       "    </tr>\n",
       "    <tr>\n",
       "      <th>1</th>\n",
       "      <td>2020-05-14-US-MTV-1</td>\n",
       "      <td>Pixel4</td>\n",
       "      <td>1273529464442</td>\n",
       "      <td>37.423578</td>\n",
       "      <td>-122.094101</td>\n",
       "      <td>-33.29</td>\n",
       "      <td>2020-05-14-US-MTV-1_Pixel4</td>\n",
       "      <td>2.745901</td>\n",
       "    </tr>\n",
       "    <tr>\n",
       "      <th>2</th>\n",
       "      <td>2020-05-14-US-MTV-1</td>\n",
       "      <td>Pixel4</td>\n",
       "      <td>1273529465442</td>\n",
       "      <td>37.423573</td>\n",
       "      <td>-122.094111</td>\n",
       "      <td>-30.99</td>\n",
       "      <td>2020-05-14-US-MTV-1_Pixel4</td>\n",
       "      <td>1.888409</td>\n",
       "    </tr>\n",
       "    <tr>\n",
       "      <th>3</th>\n",
       "      <td>2020-05-14-US-MTV-1</td>\n",
       "      <td>Pixel4</td>\n",
       "      <td>1273529466442</td>\n",
       "      <td>37.423583</td>\n",
       "      <td>-122.094121</td>\n",
       "      <td>-32.83</td>\n",
       "      <td>2020-05-14-US-MTV-1_Pixel4</td>\n",
       "      <td>1.213483</td>\n",
       "    </tr>\n",
       "    <tr>\n",
       "      <th>4</th>\n",
       "      <td>2020-05-14-US-MTV-1</td>\n",
       "      <td>Pixel4</td>\n",
       "      <td>1273529467442</td>\n",
       "      <td>37.423579</td>\n",
       "      <td>-122.094114</td>\n",
       "      <td>-34.49</td>\n",
       "      <td>2020-05-14-US-MTV-1_Pixel4</td>\n",
       "      <td>1.650722</td>\n",
       "    </tr>\n",
       "    <tr>\n",
       "      <th>...</th>\n",
       "      <td>...</td>\n",
       "      <td>...</td>\n",
       "      <td>...</td>\n",
       "      <td>...</td>\n",
       "      <td>...</td>\n",
       "      <td>...</td>\n",
       "      <td>...</td>\n",
       "      <td>...</td>\n",
       "    </tr>\n",
       "    <tr>\n",
       "      <th>131337</th>\n",
       "      <td>2021-04-29-US-SJC-2</td>\n",
       "      <td>SamsungS20Ultra</td>\n",
       "      <td>1303760315000</td>\n",
       "      <td>37.334460</td>\n",
       "      <td>-121.899600</td>\n",
       "      <td>-8.09</td>\n",
       "      <td>2021-04-29-US-SJC-2_SamsungS20Ultra</td>\n",
       "      <td>2.052491</td>\n",
       "    </tr>\n",
       "    <tr>\n",
       "      <th>131338</th>\n",
       "      <td>2021-04-29-US-SJC-2</td>\n",
       "      <td>SamsungS20Ultra</td>\n",
       "      <td>1303760316000</td>\n",
       "      <td>37.334472</td>\n",
       "      <td>-121.899583</td>\n",
       "      <td>-7.59</td>\n",
       "      <td>2021-04-29-US-SJC-2_SamsungS20Ultra</td>\n",
       "      <td>2.671673</td>\n",
       "    </tr>\n",
       "    <tr>\n",
       "      <th>131339</th>\n",
       "      <td>2021-04-29-US-SJC-2</td>\n",
       "      <td>SamsungS20Ultra</td>\n",
       "      <td>1303760317000</td>\n",
       "      <td>37.334491</td>\n",
       "      <td>-121.899597</td>\n",
       "      <td>-8.35</td>\n",
       "      <td>2021-04-29-US-SJC-2_SamsungS20Ultra</td>\n",
       "      <td>2.287458</td>\n",
       "    </tr>\n",
       "    <tr>\n",
       "      <th>131340</th>\n",
       "      <td>2021-04-29-US-SJC-2</td>\n",
       "      <td>SamsungS20Ultra</td>\n",
       "      <td>1303760318000</td>\n",
       "      <td>37.334495</td>\n",
       "      <td>-121.899583</td>\n",
       "      <td>-8.73</td>\n",
       "      <td>2021-04-29-US-SJC-2_SamsungS20Ultra</td>\n",
       "      <td>3.454306</td>\n",
       "    </tr>\n",
       "    <tr>\n",
       "      <th>131341</th>\n",
       "      <td>2021-04-29-US-SJC-2</td>\n",
       "      <td>SamsungS20Ultra</td>\n",
       "      <td>1303760319000</td>\n",
       "      <td>37.334485</td>\n",
       "      <td>-121.899570</td>\n",
       "      <td>-7.64</td>\n",
       "      <td>2021-04-29-US-SJC-2_SamsungS20Ultra</td>\n",
       "      <td>3.965023</td>\n",
       "    </tr>\n",
       "  </tbody>\n",
       "</table>\n",
       "<p>131342 rows × 8 columns</p>\n",
       "</div>"
      ],
      "text/plain": [
       "             collectionName        phoneName  millisSinceGpsEpoch     latDeg  \\\n",
       "0       2020-05-14-US-MTV-1           Pixel4        1273529463442  37.423575   \n",
       "1       2020-05-14-US-MTV-1           Pixel4        1273529464442  37.423578   \n",
       "2       2020-05-14-US-MTV-1           Pixel4        1273529465442  37.423573   \n",
       "3       2020-05-14-US-MTV-1           Pixel4        1273529466442  37.423583   \n",
       "4       2020-05-14-US-MTV-1           Pixel4        1273529467442  37.423579   \n",
       "...                     ...              ...                  ...        ...   \n",
       "131337  2021-04-29-US-SJC-2  SamsungS20Ultra        1303760315000  37.334460   \n",
       "131338  2021-04-29-US-SJC-2  SamsungS20Ultra        1303760316000  37.334472   \n",
       "131339  2021-04-29-US-SJC-2  SamsungS20Ultra        1303760317000  37.334491   \n",
       "131340  2021-04-29-US-SJC-2  SamsungS20Ultra        1303760318000  37.334495   \n",
       "131341  2021-04-29-US-SJC-2  SamsungS20Ultra        1303760319000  37.334485   \n",
       "\n",
       "            lngDeg  heightAboveWgs84EllipsoidM  \\\n",
       "0      -122.094091                      -34.06   \n",
       "1      -122.094101                      -33.29   \n",
       "2      -122.094111                      -30.99   \n",
       "3      -122.094121                      -32.83   \n",
       "4      -122.094114                      -34.49   \n",
       "...            ...                         ...   \n",
       "131337 -121.899600                       -8.09   \n",
       "131338 -121.899583                       -7.59   \n",
       "131339 -121.899597                       -8.35   \n",
       "131340 -121.899583                       -8.73   \n",
       "131341 -121.899570                       -7.64   \n",
       "\n",
       "                                      phone       err  \n",
       "0                2020-05-14-US-MTV-1_Pixel4  3.586842  \n",
       "1                2020-05-14-US-MTV-1_Pixel4  2.745901  \n",
       "2                2020-05-14-US-MTV-1_Pixel4  1.888409  \n",
       "3                2020-05-14-US-MTV-1_Pixel4  1.213483  \n",
       "4                2020-05-14-US-MTV-1_Pixel4  1.650722  \n",
       "...                                     ...       ...  \n",
       "131337  2021-04-29-US-SJC-2_SamsungS20Ultra  2.052491  \n",
       "131338  2021-04-29-US-SJC-2_SamsungS20Ultra  2.671673  \n",
       "131339  2021-04-29-US-SJC-2_SamsungS20Ultra  2.287458  \n",
       "131340  2021-04-29-US-SJC-2_SamsungS20Ultra  3.454306  \n",
       "131341  2021-04-29-US-SJC-2_SamsungS20Ultra  3.965023  \n",
       "\n",
       "[131342 rows x 8 columns]"
      ]
     },
     "execution_count": 19,
     "metadata": {},
     "output_type": "execute_result"
    }
   ],
   "source": [
    "base_train"
   ]
  },
  {
   "cell_type": "code",
   "execution_count": 20,
   "id": "weird-parent",
   "metadata": {},
   "outputs": [
    {
     "data": {
      "text/html": [
       "<div>\n",
       "<style scoped>\n",
       "    .dataframe tbody tr th:only-of-type {\n",
       "        vertical-align: middle;\n",
       "    }\n",
       "\n",
       "    .dataframe tbody tr th {\n",
       "        vertical-align: top;\n",
       "    }\n",
       "\n",
       "    .dataframe thead th {\n",
       "        text-align: right;\n",
       "    }\n",
       "</style>\n",
       "<table border=\"1\" class=\"dataframe\">\n",
       "  <thead>\n",
       "    <tr style=\"text-align: right;\">\n",
       "      <th></th>\n",
       "      <th>collectionName</th>\n",
       "      <th>phoneName</th>\n",
       "      <th>millisSinceGpsEpoch</th>\n",
       "      <th>latDeg</th>\n",
       "      <th>lngDeg</th>\n",
       "      <th>err</th>\n",
       "    </tr>\n",
       "  </thead>\n",
       "  <tbody>\n",
       "    <tr>\n",
       "      <th>0</th>\n",
       "      <td>2020-05-14-US-MTV-1</td>\n",
       "      <td>Pixel4</td>\n",
       "      <td>1273529463442</td>\n",
       "      <td>37.423549</td>\n",
       "      <td>-122.094006</td>\n",
       "      <td>11.478435</td>\n",
       "    </tr>\n",
       "    <tr>\n",
       "      <th>1</th>\n",
       "      <td>2020-05-14-US-MTV-1</td>\n",
       "      <td>Pixel4</td>\n",
       "      <td>1273529464442</td>\n",
       "      <td>37.423564</td>\n",
       "      <td>-122.094063</td>\n",
       "      <td>6.235337</td>\n",
       "    </tr>\n",
       "    <tr>\n",
       "      <th>2</th>\n",
       "      <td>2020-05-14-US-MTV-1</td>\n",
       "      <td>Pixel4</td>\n",
       "      <td>1273529465442</td>\n",
       "      <td>37.423573</td>\n",
       "      <td>-122.094098</td>\n",
       "      <td>3.064335</td>\n",
       "    </tr>\n",
       "    <tr>\n",
       "      <th>3</th>\n",
       "      <td>2020-05-14-US-MTV-1</td>\n",
       "      <td>Pixel4</td>\n",
       "      <td>1273529466442</td>\n",
       "      <td>37.423578</td>\n",
       "      <td>-122.094116</td>\n",
       "      <td>1.426618</td>\n",
       "    </tr>\n",
       "    <tr>\n",
       "      <th>4</th>\n",
       "      <td>2020-05-14-US-MTV-1</td>\n",
       "      <td>Pixel4</td>\n",
       "      <td>1273529467442</td>\n",
       "      <td>37.423579</td>\n",
       "      <td>-122.094123</td>\n",
       "      <td>0.866614</td>\n",
       "    </tr>\n",
       "    <tr>\n",
       "      <th>...</th>\n",
       "      <td>...</td>\n",
       "      <td>...</td>\n",
       "      <td>...</td>\n",
       "      <td>...</td>\n",
       "      <td>...</td>\n",
       "      <td>...</td>\n",
       "    </tr>\n",
       "    <tr>\n",
       "      <th>131337</th>\n",
       "      <td>2021-04-29-US-SJC-2</td>\n",
       "      <td>SamsungS20Ultra</td>\n",
       "      <td>1303760315000</td>\n",
       "      <td>37.334466</td>\n",
       "      <td>-121.899597</td>\n",
       "      <td>1.764769</td>\n",
       "    </tr>\n",
       "    <tr>\n",
       "      <th>131338</th>\n",
       "      <td>2021-04-29-US-SJC-2</td>\n",
       "      <td>SamsungS20Ultra</td>\n",
       "      <td>1303760316000</td>\n",
       "      <td>37.334473</td>\n",
       "      <td>-121.899592</td>\n",
       "      <td>1.915169</td>\n",
       "    </tr>\n",
       "    <tr>\n",
       "      <th>131339</th>\n",
       "      <td>2021-04-29-US-SJC-2</td>\n",
       "      <td>SamsungS20Ultra</td>\n",
       "      <td>1303760317000</td>\n",
       "      <td>37.334481</td>\n",
       "      <td>-121.899588</td>\n",
       "      <td>2.314484</td>\n",
       "    </tr>\n",
       "    <tr>\n",
       "      <th>131340</th>\n",
       "      <td>2021-04-29-US-SJC-2</td>\n",
       "      <td>SamsungS20Ultra</td>\n",
       "      <td>1303760318000</td>\n",
       "      <td>37.334487</td>\n",
       "      <td>-121.899582</td>\n",
       "      <td>3.126604</td>\n",
       "    </tr>\n",
       "    <tr>\n",
       "      <th>131341</th>\n",
       "      <td>2021-04-29-US-SJC-2</td>\n",
       "      <td>SamsungS20Ultra</td>\n",
       "      <td>1303760319000</td>\n",
       "      <td>37.334493</td>\n",
       "      <td>-121.899574</td>\n",
       "      <td>4.025042</td>\n",
       "    </tr>\n",
       "  </tbody>\n",
       "</table>\n",
       "<p>131342 rows × 6 columns</p>\n",
       "</div>"
      ],
      "text/plain": [
       "             collectionName        phoneName  millisSinceGpsEpoch     latDeg  \\\n",
       "0       2020-05-14-US-MTV-1           Pixel4        1273529463442  37.423549   \n",
       "1       2020-05-14-US-MTV-1           Pixel4        1273529464442  37.423564   \n",
       "2       2020-05-14-US-MTV-1           Pixel4        1273529465442  37.423573   \n",
       "3       2020-05-14-US-MTV-1           Pixel4        1273529466442  37.423578   \n",
       "4       2020-05-14-US-MTV-1           Pixel4        1273529467442  37.423579   \n",
       "...                     ...              ...                  ...        ...   \n",
       "131337  2021-04-29-US-SJC-2  SamsungS20Ultra        1303760315000  37.334466   \n",
       "131338  2021-04-29-US-SJC-2  SamsungS20Ultra        1303760316000  37.334473   \n",
       "131339  2021-04-29-US-SJC-2  SamsungS20Ultra        1303760317000  37.334481   \n",
       "131340  2021-04-29-US-SJC-2  SamsungS20Ultra        1303760318000  37.334487   \n",
       "131341  2021-04-29-US-SJC-2  SamsungS20Ultra        1303760319000  37.334493   \n",
       "\n",
       "            lngDeg        err  \n",
       "0      -122.094006  11.478435  \n",
       "1      -122.094063   6.235337  \n",
       "2      -122.094098   3.064335  \n",
       "3      -122.094116   1.426618  \n",
       "4      -122.094123   0.866614  \n",
       "...            ...        ...  \n",
       "131337 -121.899597   1.764769  \n",
       "131338 -121.899592   1.915169  \n",
       "131339 -121.899588   2.314484  \n",
       "131340 -121.899582   3.126604  \n",
       "131341 -121.899574   4.025042  \n",
       "\n",
       "[131342 rows x 6 columns]"
      ]
     },
     "execution_count": 20,
     "metadata": {},
     "output_type": "execute_result"
    }
   ],
   "source": [
    "df_basepreds_kf"
   ]
  },
  {
   "cell_type": "code",
   "execution_count": 21,
   "id": "sitting-abraham",
   "metadata": {},
   "outputs": [
    {
     "data": {
      "text/plain": [
       "5.287970649084159"
      ]
     },
     "execution_count": 21,
     "metadata": {},
     "output_type": "execute_result"
    }
   ],
   "source": [
    "base_train_result = base_train.groupby('phone')['err'].agg([percentile50, percentile95])\n",
    "\n",
    "base_train_result['p50_p90_mean'] = (base_train_result['percentile50'] + base_train_result['percentile95']) / 2 \n",
    "\n",
    "base_train_score = base_train_result['p50_p90_mean'].mean()\n",
    "base_train_score"
   ]
  },
  {
   "cell_type": "code",
   "execution_count": 22,
   "id": "sitting-belly",
   "metadata": {},
   "outputs": [
    {
     "name": "stderr",
     "output_type": "stream",
     "text": [
      "/opt/conda/lib/python3.7/site-packages/ipykernel_launcher.py:1: SettingWithCopyWarning: \n",
      "A value is trying to be set on a copy of a slice from a DataFrame.\n",
      "Try using .loc[row_indexer,col_indexer] = value instead\n",
      "\n",
      "See the caveats in the documentation: https://pandas.pydata.org/pandas-docs/stable/user_guide/indexing.html#returning-a-view-versus-a-copy\n",
      "  \"\"\"Entry point for launching an IPython kernel.\n"
     ]
    },
    {
     "data": {
      "text/plain": [
       "4.603545406489522"
      ]
     },
     "execution_count": 22,
     "metadata": {},
     "output_type": "execute_result"
    }
   ],
   "source": [
    "df_basepreds_kf['phone'] = df_basepreds_kf['collectionName'] + '_' + df_basepreds_kf['phoneName']\n",
    "df_basepreds_kf_result = df_basepreds_kf.groupby('phone')['err'].agg([percentile50, percentile95])\n",
    "\n",
    "df_basepreds_kf_result['p50_p90_mean'] = (df_basepreds_kf_result['percentile50'] + df_basepreds_kf_result['percentile95']) / 2 \n",
    "\n",
    "df_basepreds_kf_score = df_basepreds_kf_result['p50_p90_mean'].mean()\n",
    "df_basepreds_kf_score"
   ]
  },
  {
   "cell_type": "code",
   "execution_count": 29,
   "id": "sunset-floor",
   "metadata": {},
   "outputs": [],
   "source": [
    "tmp = base_train_result.reset_index()"
   ]
  },
  {
   "cell_type": "code",
   "execution_count": 24,
   "id": "nuclear-documentary",
   "metadata": {},
   "outputs": [
    {
     "data": {
      "text/html": [
       "<div>\n",
       "<style scoped>\n",
       "    .dataframe tbody tr th:only-of-type {\n",
       "        vertical-align: middle;\n",
       "    }\n",
       "\n",
       "    .dataframe tbody tr th {\n",
       "        vertical-align: top;\n",
       "    }\n",
       "\n",
       "    .dataframe thead th {\n",
       "        text-align: right;\n",
       "    }\n",
       "</style>\n",
       "<table border=\"1\" class=\"dataframe\">\n",
       "  <thead>\n",
       "    <tr style=\"text-align: right;\">\n",
       "      <th></th>\n",
       "      <th>percentile50</th>\n",
       "      <th>percentile95</th>\n",
       "      <th>p50_p90_mean</th>\n",
       "    </tr>\n",
       "    <tr>\n",
       "      <th>phone</th>\n",
       "      <th></th>\n",
       "      <th></th>\n",
       "      <th></th>\n",
       "    </tr>\n",
       "  </thead>\n",
       "  <tbody>\n",
       "    <tr>\n",
       "      <th>2020-06-11-US-MTV-1_Pixel4XL</th>\n",
       "      <td>1.017757</td>\n",
       "      <td>2.706992</td>\n",
       "      <td>1.862374</td>\n",
       "    </tr>\n",
       "    <tr>\n",
       "      <th>2020-06-05-US-MTV-1_Pixel4XL</th>\n",
       "      <td>1.087586</td>\n",
       "      <td>2.659052</td>\n",
       "      <td>1.873319</td>\n",
       "    </tr>\n",
       "    <tr>\n",
       "      <th>2020-06-04-US-MTV-1_Pixel4XL</th>\n",
       "      <td>1.158603</td>\n",
       "      <td>2.800130</td>\n",
       "      <td>1.979366</td>\n",
       "    </tr>\n",
       "    <tr>\n",
       "      <th>2020-07-08-US-MTV-1_Pixel4XL</th>\n",
       "      <td>1.271282</td>\n",
       "      <td>2.783548</td>\n",
       "      <td>2.027415</td>\n",
       "    </tr>\n",
       "    <tr>\n",
       "      <th>2020-08-06-US-MTV-2_Pixel4XL</th>\n",
       "      <td>1.133817</td>\n",
       "      <td>3.032466</td>\n",
       "      <td>2.083141</td>\n",
       "    </tr>\n",
       "    <tr>\n",
       "      <th>...</th>\n",
       "      <td>...</td>\n",
       "      <td>...</td>\n",
       "      <td>...</td>\n",
       "    </tr>\n",
       "    <tr>\n",
       "      <th>2021-04-22-US-SJC-1_SamsungS20Ultra</th>\n",
       "      <td>7.405150</td>\n",
       "      <td>28.131201</td>\n",
       "      <td>17.768176</td>\n",
       "    </tr>\n",
       "    <tr>\n",
       "      <th>2021-04-29-US-SJC-2_SamsungS20Ultra</th>\n",
       "      <td>5.944472</td>\n",
       "      <td>32.945158</td>\n",
       "      <td>19.444815</td>\n",
       "    </tr>\n",
       "    <tr>\n",
       "      <th>2021-04-28-US-SJC-1_SamsungS20Ultra</th>\n",
       "      <td>5.727631</td>\n",
       "      <td>34.614164</td>\n",
       "      <td>20.170898</td>\n",
       "    </tr>\n",
       "    <tr>\n",
       "      <th>2021-04-29-US-SJC-2_Pixel4</th>\n",
       "      <td>4.837470</td>\n",
       "      <td>35.527722</td>\n",
       "      <td>20.182596</td>\n",
       "    </tr>\n",
       "    <tr>\n",
       "      <th>2021-04-22-US-SJC-1_Pixel4</th>\n",
       "      <td>6.997472</td>\n",
       "      <td>42.322484</td>\n",
       "      <td>24.659978</td>\n",
       "    </tr>\n",
       "  </tbody>\n",
       "</table>\n",
       "<p>73 rows × 3 columns</p>\n",
       "</div>"
      ],
      "text/plain": [
       "                                     percentile50  percentile95  p50_p90_mean\n",
       "phone                                                                        \n",
       "2020-06-11-US-MTV-1_Pixel4XL             1.017757      2.706992      1.862374\n",
       "2020-06-05-US-MTV-1_Pixel4XL             1.087586      2.659052      1.873319\n",
       "2020-06-04-US-MTV-1_Pixel4XL             1.158603      2.800130      1.979366\n",
       "2020-07-08-US-MTV-1_Pixel4XL             1.271282      2.783548      2.027415\n",
       "2020-08-06-US-MTV-2_Pixel4XL             1.133817      3.032466      2.083141\n",
       "...                                           ...           ...           ...\n",
       "2021-04-22-US-SJC-1_SamsungS20Ultra      7.405150     28.131201     17.768176\n",
       "2021-04-29-US-SJC-2_SamsungS20Ultra      5.944472     32.945158     19.444815\n",
       "2021-04-28-US-SJC-1_SamsungS20Ultra      5.727631     34.614164     20.170898\n",
       "2021-04-29-US-SJC-2_Pixel4               4.837470     35.527722     20.182596\n",
       "2021-04-22-US-SJC-1_Pixel4               6.997472     42.322484     24.659978\n",
       "\n",
       "[73 rows x 3 columns]"
      ]
     },
     "execution_count": 24,
     "metadata": {},
     "output_type": "execute_result"
    }
   ],
   "source": [
    "base_train_result.sort_values('p50_p90_mean')"
   ]
  },
  {
   "cell_type": "code",
   "execution_count": 43,
   "id": "statutory-transition",
   "metadata": {},
   "outputs": [],
   "source": [
    "tmp['phoneName'] = tmp['phone'].str.split('_',expand=True)[1]"
   ]
  },
  {
   "cell_type": "code",
   "execution_count": 45,
   "id": "modular-emerald",
   "metadata": {},
   "outputs": [
    {
     "data": {
      "text/plain": [
       "<AxesSubplot:xlabel='phoneName', ylabel='p50_p90_mean'>"
      ]
     },
     "execution_count": 45,
     "metadata": {},
     "output_type": "execute_result"
    },
    {
     "data": {
      "image/png": "[encoded data removed]",
      "text/plain": [
       "<Figure size 1440x720 with 1 Axes>"
      ]
     },
     "metadata": {
      "needs_background": "light"
     },
     "output_type": "display_data"
    }
   ],
   "source": [
    "plt.figure(figsize=(20, 10))\n",
    "sns.boxplot(x=\"phoneName\", y=\"p50_p90_mean\", data=tmp)"
   ]
  },
  {
   "cell_type": "code",
   "execution_count": null,
   "id": "round-deadline",
   "metadata": {},
   "outputs": [],
   "source": []
  }
 ],
 "metadata": {
  "kernelspec": {
   "display_name": "Python 3",
   "language": "python",
   "name": "python3"
  },
  "language_info": {
   "codemirror_mode": {
    "name": "ipython",
    "version": 3
   },
   "file_extension": ".py",
   "mimetype": "text/x-python",
   "name": "python",
   "nbconvert_exporter": "python",
   "pygments_lexer": "ipython3",
   "version": "3.7.10"
  }
 },
 "nbformat": 4,
 "nbformat_minor": 5
}
