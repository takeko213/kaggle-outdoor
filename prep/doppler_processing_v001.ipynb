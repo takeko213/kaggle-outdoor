{
 "cells": [
  {
   "cell_type": "markdown",
   "id": "secret-credit",
   "metadata": {},
   "source": [
    "# doppler_processing_v001\n",
    "doppler加工"
   ]
  },
  {
   "cell_type": "code",
   "execution_count": 1,
   "id": "purple-accordance",
   "metadata": {},
   "outputs": [
    {
     "data": {
      "text/html": [
       "<style type='text/css'>\n",
       ".datatable table.frame { margin-bottom: 0; }\n",
       ".datatable table.frame thead { border-bottom: none; }\n",
       ".datatable table.frame tr.coltypes td {  color: #FFFFFF;  line-height: 6px;  padding: 0 0.5em;}\n",
       ".datatable .bool    { background: #DDDD99; }\n",
       ".datatable .object  { background: #565656; }\n",
       ".datatable .int     { background: #5D9E5D; }\n",
       ".datatable .float   { background: #4040CC; }\n",
       ".datatable .str     { background: #CC4040; }\n",
       ".datatable .row_index {  background: var(--jp-border-color3);  border-right: 1px solid var(--jp-border-color0);  color: var(--jp-ui-font-color3);  font-size: 9px;}\n",
       ".datatable .frame tr.coltypes .row_index {  background: var(--jp-border-color0);}\n",
       ".datatable th:nth-child(2) { padding-left: 12px; }\n",
       ".datatable .hellipsis {  color: var(--jp-cell-editor-border-color);}\n",
       ".datatable .vellipsis {  background: var(--jp-layout-color0);  color: var(--jp-cell-editor-border-color);}\n",
       ".datatable .na {  color: var(--jp-cell-editor-border-color);  font-size: 80%;}\n",
       ".datatable .footer { font-size: 9px; }\n",
       ".datatable .frame_dimensions {  background: var(--jp-border-color3);  border-top: 1px solid var(--jp-border-color0);  color: var(--jp-ui-font-color3);  display: inline-block;  opacity: 0.6;  padding: 1px 10px 1px 5px;}\n",
       "</style>\n"
      ],
      "text/plain": [
       "<IPython.core.display.HTML object>"
      ]
     },
     "metadata": {},
     "output_type": "display_data"
    }
   ],
   "source": [
    "# import library\n",
    "import os\n",
    "import pandas as pd\n",
    "import numpy as np\n",
    "import matplotlib.pyplot as plt\n",
    "from matplotlib_venn import venn2, venn2_circles\n",
    "import seaborn as sns\n",
    "from tqdm.notebook import tqdm\n",
    "import pathlib\n",
    "import plotly\n",
    "import plotly.express as px\n",
    "import itertools\n",
    "import lightgbm as lgb\n",
    "from optuna.integration import lightgbm as optuna_lgb\n",
    "import simdkalman\n",
    "import optuna\n",
    "import pyproj\n",
    "from pyproj import Proj, transform\n",
    "from sklearn import metrics\n",
    "from sklearn.metrics import roc_curve, precision_recall_curve, confusion_matrix, accuracy_score\n",
    "pd.set_option('display.max_rows', 100)"
   ]
  },
  {
   "cell_type": "code",
   "execution_count": 2,
   "id": "color-riverside",
   "metadata": {},
   "outputs": [],
   "source": [
    "import ipynb_path\n",
    "\n",
    "def get_nb_name():\n",
    "    nb_path = ipynb_path.get()\n",
    "    nb_name = nb_path.rsplit('/',1)[1].replace('.ipynb','')\n",
    "    return nb_name"
   ]
  },
  {
   "cell_type": "code",
   "execution_count": 3,
   "id": "fifteen-offset",
   "metadata": {},
   "outputs": [],
   "source": [
    "# directory setting\n",
    "nb_name = get_nb_name()\n",
    "INPUT = '../input/google-smartphone-decimeter-challenge'\n",
    "OUTPUT = '../output/prep/' + nb_name\n",
    "os.makedirs(OUTPUT, exist_ok=True)"
   ]
  },
  {
   "cell_type": "markdown",
   "id": "scenic-architecture",
   "metadata": {},
   "source": [
    "# utils"
   ]
  },
  {
   "cell_type": "code",
   "execution_count": 4,
   "id": "about-genesis",
   "metadata": {},
   "outputs": [],
   "source": [
    "def get_train_score(df, gt):\n",
    "    gt = gt.rename(columns={'latDeg':'latDeg_gt', 'lngDeg':'lngDeg_gt'})\n",
    "    df = df.merge(gt, on=['collectionName', 'phoneName', 'millisSinceGpsEpoch'], how='inner')\n",
    "    # calc_distance_error\n",
    "    df['err'] = calc_haversine(df['latDeg_gt'], df['lngDeg_gt'], df['latDeg'], df['lngDeg'])\n",
    "    # calc_evaluate_score\n",
    "    df['phone'] = df['collectionName'] + '_' + df['phoneName']\n",
    "    res = df.groupby('phone')['err'].agg([percentile50, percentile95])\n",
    "    res['p50_p90_mean'] = (res['percentile50'] + res['percentile95']) / 2 \n",
    "    score = res['p50_p90_mean'].mean()\n",
    "    return score"
   ]
  },
  {
   "cell_type": "code",
   "execution_count": 5,
   "id": "honest-sperm",
   "metadata": {},
   "outputs": [],
   "source": [
    "def calc_haversine(lat1, lon1, lat2, lon2):\n",
    "    \"\"\"Calculates the great circle distance between two points\n",
    "    on the earth. Inputs are array-like and specified in decimal degrees.\n",
    "    \"\"\"\n",
    "    RADIUS = 6_367_000\n",
    "    lat1, lon1, lat2, lon2 = map(np.radians, [lat1, lon1, lat2, lon2])\n",
    "    dlat = lat2 - lat1\n",
    "    dlon = lon2 - lon1\n",
    "    a = np.sin(dlat/2)**2 + \\\n",
    "        np.cos(lat1) * np.cos(lat2) * np.sin(dlon/2)**2\n",
    "    dist = 2 * RADIUS * np.arcsin(a**0.5)\n",
    "    return dist"
   ]
  },
  {
   "cell_type": "code",
   "execution_count": 6,
   "id": "utility-native",
   "metadata": {},
   "outputs": [],
   "source": [
    "def visualize_trafic(df, center, zoom=9):\n",
    "    fig = px.scatter_mapbox(df,\n",
    "                            \n",
    "                            # Here, plotly gets, (x,y) coordinates\n",
    "                            lat=\"latDeg\",\n",
    "                            lon=\"lngDeg\",\n",
    "                            \n",
    "                            #Here, plotly detects color of series\n",
    "                            color=\"phoneName\",\n",
    "                            labels=\"phoneName\",\n",
    "                            \n",
    "                            zoom=zoom,\n",
    "                            center=center,\n",
    "                            height=600,\n",
    "                            width=800)\n",
    "    fig.update_layout(mapbox_style='stamen-terrain')\n",
    "    fig.update_layout(margin={\"r\": 0, \"t\": 0, \"l\": 0, \"b\": 0})\n",
    "    fig.update_layout(title_text=\"GPS trafic\")\n",
    "    fig.show()\n",
    "    \n",
    "def visualize_collection(df, collection):\n",
    "    target_df = df[df['collectionName']==collection].copy()\n",
    "    lat_center = target_df['latDeg'].mean()\n",
    "    lng_center = target_df['lngDeg'].mean()\n",
    "    center = {\"lat\":lat_center, \"lon\":lng_center}\n",
    "    \n",
    "    visualize_trafic(target_df, center)"
   ]
  },
  {
   "cell_type": "code",
   "execution_count": 7,
   "id": "metropolitan-ribbon",
   "metadata": {},
   "outputs": [],
   "source": [
    "# ground_truth\n",
    "def get_ground_truth():\n",
    "    p = pathlib.Path(INPUT)\n",
    "    gt_files = list(p.glob('train/*/*/ground_truth.csv'))\n",
    "\n",
    "    gts = []\n",
    "    for gt_file in gt_files:\n",
    "        gts.append(pd.read_csv(gt_file))\n",
    "    ground_truth = pd.concat(gts)\n",
    "\n",
    "    return ground_truth"
   ]
  },
  {
   "cell_type": "code",
   "execution_count": 8,
   "id": "conservative-ordinary",
   "metadata": {},
   "outputs": [],
   "source": [
    "def percentile50(x):\n",
    "    return np.percentile(x, 50)\n",
    "def percentile95(x):\n",
    "    return np.percentile(x, 95)"
   ]
  },
  {
   "cell_type": "code",
   "execution_count": 9,
   "id": "played-music",
   "metadata": {},
   "outputs": [],
   "source": [
    "class train_result:\n",
    "    def __init__(self, df):\n",
    "        self.df = df\n",
    "        self.gt = get_ground_truth()\n",
    "        self.bl = pd.read_csv(INPUT + '/' + 'baseline_locations_train.csv')\n",
    "        \n",
    "        self.gt = self.gt.rename(columns={'latDeg':'latDeg_gt', 'lngDeg':'lngDeg_gt'})\n",
    "        self.df = self.df.merge(self.gt, on=['collectionName', 'phoneName', 'millisSinceGpsEpoch'], how='inner')\n",
    "        self.df['phone'] = self.df['collectionName'] + '_' + self.df['phoneName']\n",
    "        self.df['err'] =  calc_haversine(self.df['latDeg_gt'], self.df['lngDeg_gt'], self.df['latDeg'], self.df['lngDeg'])\n",
    "        \n",
    "        self.phone_res = self.calc_err('phone')\n",
    "        self.clc_res = self.calc_err('collectionName')\n",
    "        self.phonename_res = self.calc_err('phoneName')\n",
    "        \n",
    "    def calc_err(self, by):\n",
    "        res = self.df.groupby(by)['err'].agg([percentile50, percentile95])\n",
    "        res['p50_p90_mean'] = (res['percentile50'] + res['percentile95']) / 2\n",
    "        return res\n",
    "    \n",
    "    @property\n",
    "    def score(self):\n",
    "        return self.phone_res['p50_p90_mean'].mean()\n",
    "    @property\n",
    "    def raw_data(self):\n",
    "        return self.df\n",
    "    @property\n",
    "    def err(self):\n",
    "        return self.phone_res\n",
    "    @property\n",
    "    def collection_err(self):\n",
    "        return self.clc_res\n",
    "    @property\n",
    "    def phonename_err(self):\n",
    "        return self.phonename_res\n",
    "    \n",
    "    def viz_map(self, collection, show_gt=True, show_bl=True):\n",
    "        tmp = self.df[self.df['collectionName']==collection][['collectionName', 'phoneName', 'latDeg', 'lngDeg']]\n",
    "        tmp2 = self.df[self.df['collectionName']==collection][['collectionName', 'phoneName', 'latDeg_gt', 'lngDeg_gt']]\n",
    "        tmp2 = tmp2.rename(columns={'latDeg_gt':'latDeg', 'lngDeg_gt':'lngDeg'})\n",
    "        tmp2['phoneName'] = tmp2['phoneName'] + '_GT'\n",
    "        tmp3 = self.bl[self.bl['collectionName']==collection][['collectionName', 'phoneName', 'latDeg', 'lngDeg']]\n",
    "        tmp3['phoneName'] = tmp3['phoneName'] + '_BL'\n",
    "        \n",
    "        if show_gt:\n",
    "            tmp = tmp.append(tmp2)\n",
    "        if show_bl:\n",
    "            tmp = tmp.append(tmp3)\n",
    "        visualize_collection(tmp, collection)"
   ]
  },
  {
   "cell_type": "code",
   "execution_count": 10,
   "id": "undefined-retreat",
   "metadata": {},
   "outputs": [],
   "source": [
    "def get_data():\n",
    "    base_train = pd.read_csv(INPUT + '/' + 'baseline_locations_train.csv')\n",
    "    base_test = pd.read_csv(INPUT + '/' + 'baseline_locations_test.csv')\n",
    "    sample_sub = pd.read_csv(INPUT + '/' + 'sample_submission.csv')\n",
    "    ground_truth = get_ground_truth()\n",
    "    return base_train, base_test, sample_sub, ground_truth"
   ]
  },
  {
   "cell_type": "code",
   "execution_count": 11,
   "id": "adequate-shakespeare",
   "metadata": {},
   "outputs": [],
   "source": [
    "train, test, sub, gt = get_data()\n",
    "gt['phone'] = gt['collectionName'] + '_' + gt['phoneName']"
   ]
  },
  {
   "cell_type": "code",
   "execution_count": 12,
   "id": "accessible-stream",
   "metadata": {},
   "outputs": [],
   "source": [
    "dop_train = pd.read_csv('../output/prep/doppler_v001/result_train.csv')\n",
    "dop_test = pd.read_csv('../output/prep/doppler_v001/result_test.csv')"
   ]
  },
  {
   "cell_type": "code",
   "execution_count": 13,
   "id": "expanded-bedroom",
   "metadata": {},
   "outputs": [],
   "source": [
    "dop_train = dop_train.sort_values(['phone', 'millisSinceGpsEpoch'])\n",
    "dop_test = dop_test.sort_values(['phone', 'millisSinceGpsEpoch'])"
   ]
  },
  {
   "cell_type": "code",
   "execution_count": 14,
   "id": "thrown-stick",
   "metadata": {},
   "outputs": [],
   "source": [
    "dop_train['d'] = np.sqrt(dop_train['xVehVel']**2 + dop_train['yVehVel']**2 + dop_train['zVehVel']**2)\n",
    "dop_test['d'] = np.sqrt(dop_test['xVehVel']**2 + dop_test['yVehVel']**2 + dop_test['zVehVel']**2)"
   ]
  },
  {
   "cell_type": "markdown",
   "id": "willing-lottery",
   "metadata": {},
   "source": [
    "# speed変化量が大きすぎるデータを除外"
   ]
  },
  {
   "cell_type": "code",
   "execution_count": 15,
   "id": "jewish-basket",
   "metadata": {},
   "outputs": [],
   "source": [
    "th=5"
   ]
  },
  {
   "cell_type": "code",
   "execution_count": 16,
   "id": "equipped-legend",
   "metadata": {},
   "outputs": [],
   "source": [
    "dop_train['d_diff_prev'] = abs(dop_train['d'] - dop_train.groupby('phone')['d'].shift(1))\n",
    "dop_test['d_diff_prev'] = abs(dop_test['d'] - dop_test.groupby('phone')['d'].shift(1))\n",
    "dop_train['d_diff_next'] = abs(dop_train['d'] - dop_train.groupby('phone')['d'].shift(-1))\n",
    "dop_test['d_diff_next'] = abs(dop_test['d'] - dop_test.groupby('phone')['d'].shift(-1))"
   ]
  },
  {
   "cell_type": "code",
   "execution_count": 17,
   "id": "reflected-madrid",
   "metadata": {},
   "outputs": [],
   "source": [
    "dop_train.loc[(dop_train['d_diff_prev']>th)&(dop_train['d_diff_next']>th), ['xVehVel', 'yVehVel', 'zVehVel', 'd']] = np.nan \n",
    "dop_test.loc[(dop_test['d_diff_prev']>th)&(dop_test['d_diff_next']>th), ['xVehVel', 'yVehVel', 'zVehVel', 'd']] = np.nan "
   ]
  },
  {
   "cell_type": "markdown",
   "id": "limited-analyst",
   "metadata": {},
   "source": [
    "# speedが大きすぎるデータを除外"
   ]
  },
  {
   "cell_type": "code",
   "execution_count": 18,
   "id": "involved-charleston",
   "metadata": {},
   "outputs": [],
   "source": [
    "dop_train.loc[dop_train['d']>50, ['xVehVel', 'yVehVel', 'zVehVel', 'd']] = np.nan \n",
    "dop_test.loc[dop_test['d']>50, ['xVehVel', 'yVehVel', 'zVehVel', 'd']] = np.nan "
   ]
  },
  {
   "cell_type": "code",
   "execution_count": 19,
   "id": "forward-binary",
   "metadata": {},
   "outputs": [],
   "source": [
    "os.makedirs(f'{OUTPUT}/train/ro', exist_ok=True)"
   ]
  },
  {
   "cell_type": "code",
   "execution_count": 20,
   "id": "italian-password",
   "metadata": {},
   "outputs": [],
   "source": [
    "for phone in gt['phone'].unique():\n",
    "    gt_tmp = gt[gt['phone']==phone].copy()\n",
    "    dop_tmp = dop_train[dop_train['phone']==phone].copy()\n",
    "    \n",
    "    fig, axes = plt.subplots(figsize=(40, 15), nrows=3, sharex=True)\n",
    "    axes[0].plot(gt_tmp['millisSinceGpsEpoch'], gt_tmp['speedMps'], label='speed')\n",
    "    axes[0].plot(dop_tmp['millisSinceGpsEpoch'], dop_tmp['d'], label='d')\n",
    "    axes[0].legend(loc='upper right')\n",
    "    axes[0].grid(color='g', linestyle=':', linewidth=0.3)\n",
    "    \n",
    "    axes[1].plot(gt_tmp['millisSinceGpsEpoch'], gt_tmp['courseDegree'], label='deg')\n",
    "    axes[1].legend(loc='upper right')\n",
    "    axes[1].grid(color='g', linestyle=':', linewidth=0.3)\n",
    "    \n",
    "    axes[2].plot(dop_tmp['millisSinceGpsEpoch'], dop_tmp['xVehVel'], label='xVel')\n",
    "    axes[2].plot(dop_tmp['millisSinceGpsEpoch'], dop_tmp['yVehVel'], label='yVel')\n",
    "    axes[2].plot(dop_tmp['millisSinceGpsEpoch'], dop_tmp['zVehVel'], label='zVel')\n",
    "    axes[2].legend(loc='upper right')\n",
    "    axes[2].grid(color='g', linestyle=':', linewidth=0.3)\n",
    "    fig.suptitle(phone, fontsize=16)\n",
    "    fig.savefig(f'{OUTPUT}/train/ro/{phone}.png')\n",
    "    plt.close()"
   ]
  },
  {
   "cell_type": "code",
   "execution_count": 21,
   "id": "mechanical-invasion",
   "metadata": {},
   "outputs": [],
   "source": [
    "os.makedirs(f'{OUTPUT}/test/ro', exist_ok=True)"
   ]
  },
  {
   "cell_type": "code",
   "execution_count": 22,
   "id": "likely-platinum",
   "metadata": {},
   "outputs": [],
   "source": [
    "for phone in dop_test['phone'].unique():\n",
    "    dop_tmp = dop_test[dop_test['phone']==phone].copy()\n",
    "    \n",
    "    fig, axes = plt.subplots(figsize=(40, 10), nrows=2, sharex=True)\n",
    "    axes[0].plot(dop_tmp['millisSinceGpsEpoch'], dop_tmp['d'], label='d')\n",
    "    axes[0].legend(loc='upper right')\n",
    "    axes[0].grid(color='g', linestyle=':', linewidth=0.3)\n",
    "        \n",
    "    axes[1].plot(dop_tmp['millisSinceGpsEpoch'], dop_tmp['xVehVel'], label='xVel')\n",
    "    axes[1].plot(dop_tmp['millisSinceGpsEpoch'], dop_tmp['yVehVel'], label='yVel')\n",
    "    axes[1].plot(dop_tmp['millisSinceGpsEpoch'], dop_tmp['zVehVel'], label='zVel')\n",
    "    axes[1].legend(loc='upper right')\n",
    "    axes[1].grid(color='g', linestyle=':', linewidth=0.3)\n",
    "    fig.suptitle(phone, fontsize=16)\n",
    "    fig.savefig(f'{OUTPUT}/test/ro/{phone}.png')\n",
    "    plt.close()"
   ]
  },
  {
   "cell_type": "markdown",
   "id": "false-strap",
   "metadata": {},
   "source": [
    "# 相対座標算出"
   ]
  },
  {
   "cell_type": "code",
   "execution_count": 23,
   "id": "after-traffic",
   "metadata": {},
   "outputs": [],
   "source": [
    "def WGS84_to_ECEF(lat, lon, alt):\n",
    "    # convert to radians\n",
    "    rad_lat = lat * (np.pi / 180.0)\n",
    "    rad_lon = lon * (np.pi / 180.0)\n",
    "    a    = 6378137.0\n",
    "    # f is the flattening factor\n",
    "    finv = 298.257223563\n",
    "    f = 1 / finv   \n",
    "    # e is the eccentricity\n",
    "    e2 = 1 - (1 - f) * (1 - f)    \n",
    "    # N is the radius of curvature in the prime vertical\n",
    "    N = a / np.sqrt(1 - e2 * np.sin(rad_lat) * np.sin(rad_lat))\n",
    "    x = (N + alt) * np.cos(rad_lat) * np.cos(rad_lon)\n",
    "    y = (N + alt) * np.cos(rad_lat) * np.sin(rad_lon)\n",
    "    z = (N * (1 - e2) + alt)        * np.sin(rad_lat)\n",
    "    return x, y, z\n",
    "\n",
    "transformer = pyproj.Transformer.from_crs(\n",
    "    {\"proj\":'geocent', \"ellps\":'WGS84', \"datum\":'WGS84'},\n",
    "    {\"proj\":'latlong', \"ellps\":'WGS84', \"datum\":'WGS84'},)\n",
    "\n",
    "def ECEF_to_WGS84(x,y,z):\n",
    "    lon, lat, alt = transformer.transform(x,y,z,radians=False)\n",
    "    return lon, lat, alt"
   ]
  },
  {
   "cell_type": "code",
   "execution_count": 24,
   "id": "solar-nutrition",
   "metadata": {},
   "outputs": [
    {
     "data": {
      "text/plain": [
       "<AxesSubplot:>"
      ]
     },
     "execution_count": 24,
     "metadata": {},
     "output_type": "execute_result"
    },
    {
     "data": {
      "image/png": "[encoded data removed]",
      "text/plain": [
       "<Figure size 432x288 with 1 Axes>"
      ]
     },
     "metadata": {
      "needs_background": "light"
     },
     "output_type": "display_data"
    }
   ],
   "source": [
    "(gt['heightAboveWgs84EllipsoidM'] - 61).hist()"
   ]
  },
  {
   "cell_type": "code",
   "execution_count": 25,
   "id": "located-canon",
   "metadata": {},
   "outputs": [],
   "source": [
    "dop_train = dop_train.merge(train[['millisSinceGpsEpoch', 'phone', 'latDeg', 'lngDeg']], on=['millisSinceGpsEpoch', 'phone'], how='left')\n",
    "dop_test = dop_test.merge(test[['millisSinceGpsEpoch', 'phone', 'latDeg', 'lngDeg']], on=['millisSinceGpsEpoch', 'phone'], how='left')"
   ]
  },
  {
   "cell_type": "code",
   "execution_count": 26,
   "id": "seeing-relaxation",
   "metadata": {},
   "outputs": [],
   "source": [
    "dop_train['h'] = 0\n",
    "dop_test['h'] = 0"
   ]
  },
  {
   "cell_type": "code",
   "execution_count": 27,
   "id": "supreme-headquarters",
   "metadata": {},
   "outputs": [],
   "source": [
    "def calc_rel(df):\n",
    "    df['x'], df['y'], df['z'] = zip(*df.apply(lambda x: WGS84_to_ECEF(x.latDeg, x.lngDeg, x.h), axis=1))\n",
    "    df['x_add'] = df['x'] + df['xVehVel']\n",
    "    df['y_add'] = df['y'] + df['yVehVel']\n",
    "    df['z_add'] = df['z'] + df['zVehVel']\n",
    "    df['lng_add'], df['lat_add'], df['h_add'] = zip(*df.apply(lambda x: ECEF_to_WGS84(x.x_add, x.y_add, x.z_add), axis=1))\n",
    "    df['lat_rel'] = df['lat_add'] - df['latDeg']\n",
    "    df['lng_rel'] = df['lng_add'] - df['lngDeg']   \n",
    "    return df"
   ]
  },
  {
   "cell_type": "code",
   "execution_count": 28,
   "id": "fundamental-combining",
   "metadata": {},
   "outputs": [],
   "source": [
    "dop_train = calc_rel(dop_train)\n",
    "dop_test = calc_rel(dop_test)"
   ]
  },
  {
   "cell_type": "code",
   "execution_count": 29,
   "id": "preliminary-northwest",
   "metadata": {},
   "outputs": [],
   "source": [
    "dop_train.to_csv(OUTPUT+'/train_result.csv', index=False)\n",
    "dop_test.to_csv(OUTPUT+'/test_result.csv', index=False)"
   ]
  },
  {
   "cell_type": "markdown",
   "id": "peripheral-methodology",
   "metadata": {},
   "source": [
    "# 確認"
   ]
  },
  {
   "cell_type": "code",
   "execution_count": 30,
   "id": "variable-fundamental",
   "metadata": {},
   "outputs": [],
   "source": [
    "os.makedirs(f'{OUTPUT}/train/rel', exist_ok=True)"
   ]
  },
  {
   "cell_type": "code",
   "execution_count": 31,
   "id": "capital-flight",
   "metadata": {},
   "outputs": [],
   "source": [
    "for phone in dop_train['phone'].unique():\n",
    "    gt_tmp = gt[gt['phone']==phone].copy()\n",
    "    gt_tmp['lat_diff_gt'] = gt_tmp['latDeg'].shift(-1) - gt_tmp['latDeg']\n",
    "    gt_tmp['lng_diff_gt'] = gt_tmp['lngDeg'].shift(-1) - gt_tmp['lngDeg']\n",
    "    \n",
    "    dop_tmp = dop_train[dop_train['phone']==phone].copy()\n",
    "    \n",
    "    fig, axes = plt.subplots(figsize=(40, 15), nrows=2, sharex=True)\n",
    "    axes[0].plot(gt_tmp['millisSinceGpsEpoch'], gt_tmp['lat_diff_gt'], label='lat_diff_gt')\n",
    "    axes[0].plot(dop_tmp['millisSinceGpsEpoch'], dop_tmp['lat_rel'], label='lat_rel')\n",
    "    axes[0].legend(loc='upper right')\n",
    "    axes[0].grid(color='g', linestyle=':', linewidth=0.3)\n",
    "    \n",
    "    axes[1].plot(gt_tmp['millisSinceGpsEpoch'], gt_tmp['lng_diff_gt'], label='lng_diff_gt')\n",
    "    axes[1].plot(dop_tmp['millisSinceGpsEpoch'], dop_tmp['lng_rel'], label='lng_rel')\n",
    "    axes[1].legend(loc='upper right')\n",
    "    axes[1].grid(color='g', linestyle=':', linewidth=0.3)\n",
    "    \n",
    "    fig.suptitle(phone, fontsize=16)\n",
    "    fig.savefig(f'{OUTPUT}/train/rel/{phone}.png')\n",
    "    plt.close()"
   ]
  },
  {
   "cell_type": "code",
   "execution_count": 32,
   "id": "overall-facial",
   "metadata": {},
   "outputs": [],
   "source": [
    "os.makedirs(f'{OUTPUT}/test/rel', exist_ok=True)"
   ]
  },
  {
   "cell_type": "code",
   "execution_count": 33,
   "id": "continuous-movement",
   "metadata": {},
   "outputs": [],
   "source": [
    "for phone in dop_test['phone'].unique():\n",
    "    gt_tmp = gt[gt['phone']==phone].copy()\n",
    "    gt_tmp['lat_diff_gt'] = gt_tmp['latDeg'].shift(-1) - gt_tmp['latDeg']\n",
    "    gt_tmp['lng_diff_gt'] = gt_tmp['lngDeg'].shift(-1) - gt_tmp['lngDeg']\n",
    "    \n",
    "    dop_tmp = dop_test[dop_test['phone']==phone].copy()\n",
    "    \n",
    "    fig, axes = plt.subplots(figsize=(40, 15), nrows=2, sharex=True)\n",
    "    axes[0].plot(gt_tmp['millisSinceGpsEpoch'], gt_tmp['lat_diff_gt'], label='lat_diff_gt')\n",
    "    axes[0].plot(dop_tmp['millisSinceGpsEpoch'], dop_tmp['lat_rel'], label='lat_rel')\n",
    "    axes[0].legend(loc='upper right')\n",
    "    axes[0].grid(color='g', linestyle=':', linewidth=0.3)\n",
    "    \n",
    "    axes[1].plot(gt_tmp['millisSinceGpsEpoch'], gt_tmp['lng_diff_gt'], label='lng_diff_gt')\n",
    "    axes[1].plot(dop_tmp['millisSinceGpsEpoch'], dop_tmp['lng_rel'], label='lng_rel')\n",
    "    axes[1].legend(loc='upper right')\n",
    "    axes[1].grid(color='g', linestyle=':', linewidth=0.3)\n",
    "    \n",
    "    fig.suptitle(phone, fontsize=16)\n",
    "    fig.savefig(f'{OUTPUT}/test/rel/{phone}.png')\n",
    "    plt.close()"
   ]
  }
 ],
 "metadata": {
  "kernelspec": {
   "display_name": "Python 3",
   "language": "python",
   "name": "python3"
  },
  "language_info": {
   "codemirror_mode": {
    "name": "ipython",
    "version": 3
   },
   "file_extension": ".py",
   "mimetype": "text/x-python",
   "name": "python",
   "nbconvert_exporter": "python",
   "pygments_lexer": "ipython3",
   "version": "3.7.10"
  }
 },
 "nbformat": 4,
 "nbformat_minor": 5
}
