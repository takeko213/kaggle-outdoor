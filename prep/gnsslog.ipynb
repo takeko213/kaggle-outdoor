{
 "cells": [
  {
   "cell_type": "markdown",
   "id": "female-destination",
   "metadata": {},
   "source": [
    "# GNSS logs"
   ]
  },
  {
   "cell_type": "code",
   "execution_count": 8,
   "id": "answering-exhibit",
   "metadata": {},
   "outputs": [],
   "source": [
    "import os\n",
    "import pandas as pd\n",
    "import pathlib\n",
    "from tqdm import tqdm\n",
    "import numpy as np"
   ]
  },
  {
   "cell_type": "code",
   "execution_count": 9,
   "id": "fantastic-massachusetts",
   "metadata": {},
   "outputs": [],
   "source": [
    "# directory setting\n",
    "INPUT = '../input/google-smartphone-decimeter-challenge'\n",
    "OUTPUT = '../input/google-smartphone-decimeter-challenge/prep'"
   ]
  },
  {
   "cell_type": "code",
   "execution_count": 14,
   "id": "artistic-mexican",
   "metadata": {},
   "outputs": [],
   "source": [
    "def gnss_log_to_dataframes(path):\n",
    "    #print('Loading ' + path, flush=True)\n",
    "    gnss_section_names = {'Raw','UncalAccel', 'UncalGyro', 'UncalMag', 'Fix', 'Status', 'OrientationDeg'}\n",
    "    with open(path) as f_open:\n",
    "        datalines = f_open.readlines()\n",
    "\n",
    "    datas = {k: [] for k in gnss_section_names}\n",
    "    gnss_map = {k: [] for k in gnss_section_names}\n",
    "    for dataline in datalines:\n",
    "        is_header = dataline.startswith('#')\n",
    "        dataline = dataline.strip('#').strip().split(',')\n",
    "        # skip over notes, version numbers, etc\n",
    "        if is_header and dataline[0] in gnss_section_names:\n",
    "            gnss_map[dataline[0]] = dataline[1:]\n",
    "        elif not is_header:\n",
    "            if dataline[0] not in ['OrientationDe', 'Unca', 'Orientatio']:\n",
    "                datas[dataline[0]].append(dataline[1:])\n",
    "            else:\n",
    "                print('skip : ', file, dataline[0])\n",
    "\n",
    "    results = dict()\n",
    "    for k, v in datas.items():\n",
    "        results[k] = pd.DataFrame(v, columns=gnss_map[k])\n",
    "    # pandas doesn't properly infer types from these lists by default\n",
    "    for k, df in results.items():\n",
    "        for col in df.columns:\n",
    "            if col == 'CodeType':\n",
    "                continue\n",
    "            results[k][col] = pd.to_numeric(results[k][col], errors='coerce')\n",
    "            \n",
    "    return results"
   ]
  },
  {
   "cell_type": "code",
   "execution_count": 11,
   "id": "serious-nightmare",
   "metadata": {},
   "outputs": [
    {
     "name": "stdout",
     "output_type": "stream",
     "text": [
      "skip :  ../input/google-smartphone-decimeter-challenge/train/2021-04-29-US-MTV-1/SamsungS20Ultra/SamsungS20Ultra_GnssLog.txt OrientationDe\n",
      "skip :  ../input/google-smartphone-decimeter-challenge/train/2021-01-04-US-RWC-2/Pixel5/Pixel5_GnssLog.txt Unca\n"
     ]
    }
   ],
   "source": [
    "p = pathlib.Path(INPUT)\n",
    "gnss_files = list(p.glob('train/*/*/*GnssLog.txt'))\n",
    "\n",
    "results = {}\n",
    "cols = ['Raw', 'UncalAccel', 'UncalGyro', 'UncalMag', 'Fix', 'Status', 'OrientationDeg']\n",
    "for c in cols:\n",
    "    results[c] = []\n",
    "\n",
    "for file in gnss_files:\n",
    "    dfs = gnss_log_to_dataframes(file)\n",
    "    for c in cols:\n",
    "        tmp = dfs[c]\n",
    "        tmp['collectionName'] = file.parts[4]\n",
    "        tmp['phoneName'] = file.parts[5]\n",
    "        results[c].append(tmp)\n",
    "\n",
    "\n",
    "for c in cols:\n",
    "    pd.concat(results[c]).to_csv(OUTPUT + f'/gnss/train/{c}.csv', index=False)"
   ]
  },
  {
   "cell_type": "code",
   "execution_count": 16,
   "id": "plastic-pointer",
   "metadata": {},
   "outputs": [
    {
     "name": "stdout",
     "output_type": "stream",
     "text": [
      "skip :  ../input/google-smartphone-decimeter-challenge/test/2021-04-26-US-SVL-2/SamsungS20Ultra/SamsungS20Ultra_GnssLog.txt Orientatio\n"
     ]
    }
   ],
   "source": [
    "p = pathlib.Path(INPUT)\n",
    "gnss_files = list(p.glob('test/*/*/*GnssLog.txt'))\n",
    "\n",
    "results = {}\n",
    "cols = ['Raw', 'UncalAccel', 'UncalGyro', 'UncalMag', 'Fix', 'Status', 'OrientationDeg']\n",
    "for c in cols:\n",
    "    results[c] = []\n",
    "\n",
    "for file in gnss_files:\n",
    "    dfs = gnss_log_to_dataframes(file)\n",
    "    for c in cols:\n",
    "        tmp = dfs[c]\n",
    "        tmp['collectionName'] = file.parts[4]\n",
    "        tmp['phoneName'] = file.parts[5]\n",
    "        results[c].append(tmp)\n",
    "\n",
    "\n",
    "for c in cols:\n",
    "    pd.concat(results[c]).to_csv(OUTPUT + f'/gnss/test/{c}.csv', index=False)"
   ]
  },
  {
   "cell_type": "code",
   "execution_count": 13,
   "id": "gothic-governor",
   "metadata": {},
   "outputs": [
    {
     "data": {
      "text/plain": [
       "PosixPath('../input/google-smartphone-decimeter-challenge/test/2021-04-26-US-SVL-2/SamsungS20Ultra/SamsungS20Ultra_GnssLog.txt')"
      ]
     },
     "execution_count": 13,
     "metadata": {},
     "output_type": "execute_result"
    }
   ],
   "source": [
    "file"
   ]
  },
  {
   "cell_type": "code",
   "execution_count": null,
   "id": "fewer-baptist",
   "metadata": {},
   "outputs": [],
   "source": []
  }
 ],
 "metadata": {
  "kernelspec": {
   "display_name": "Python 3",
   "language": "python",
   "name": "python3"
  },
  "language_info": {
   "codemirror_mode": {
    "name": "ipython",
    "version": 3
   },
   "file_extension": ".py",
   "mimetype": "text/x-python",
   "name": "python",
   "nbconvert_exporter": "python",
   "pygments_lexer": "ipython3",
   "version": "3.7.10"
  }
 },
 "nbformat": 4,
 "nbformat_minor": 5
}
