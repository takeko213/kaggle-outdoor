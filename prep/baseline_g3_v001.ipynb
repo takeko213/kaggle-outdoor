{
 "cells": [
  {
   "cell_type": "markdown",
   "id": "western-constant",
   "metadata": {},
   "source": [
    "# baseline_g3_v001"
   ]
  },
  {
   "cell_type": "code",
   "execution_count": 1,
   "id": "trained-publisher",
   "metadata": {},
   "outputs": [
    {
     "data": {
      "text/html": [
       "<style type='text/css'>\n",
       ".datatable table.frame { margin-bottom: 0; }\n",
       ".datatable table.frame thead { border-bottom: none; }\n",
       ".datatable table.frame tr.coltypes td {  color: #FFFFFF;  line-height: 6px;  padding: 0 0.5em;}\n",
       ".datatable .bool    { background: #DDDD99; }\n",
       ".datatable .object  { background: #565656; }\n",
       ".datatable .int     { background: #5D9E5D; }\n",
       ".datatable .float   { background: #4040CC; }\n",
       ".datatable .str     { background: #CC4040; }\n",
       ".datatable .row_index {  background: var(--jp-border-color3);  border-right: 1px solid var(--jp-border-color0);  color: var(--jp-ui-font-color3);  font-size: 9px;}\n",
       ".datatable .frame tr.coltypes .row_index {  background: var(--jp-border-color0);}\n",
       ".datatable th:nth-child(2) { padding-left: 12px; }\n",
       ".datatable .hellipsis {  color: var(--jp-cell-editor-border-color);}\n",
       ".datatable .vellipsis {  background: var(--jp-layout-color0);  color: var(--jp-cell-editor-border-color);}\n",
       ".datatable .na {  color: var(--jp-cell-editor-border-color);  font-size: 80%;}\n",
       ".datatable .footer { font-size: 9px; }\n",
       ".datatable .frame_dimensions {  background: var(--jp-border-color3);  border-top: 1px solid var(--jp-border-color0);  color: var(--jp-ui-font-color3);  display: inline-block;  opacity: 0.6;  padding: 1px 10px 1px 5px;}\n",
       "</style>\n"
      ],
      "text/plain": [
       "<IPython.core.display.HTML object>"
      ]
     },
     "metadata": {},
     "output_type": "display_data"
    }
   ],
   "source": [
    "# import library\n",
    "import os\n",
    "import pandas as pd\n",
    "import numpy as np\n",
    "import matplotlib.pyplot as plt\n",
    "from matplotlib_venn import venn2, venn2_circles\n",
    "import seaborn as sns\n",
    "from tqdm.notebook import tqdm\n",
    "import pathlib\n",
    "import plotly\n",
    "import plotly.express as px\n",
    "import itertools\n",
    "import lightgbm as lgb\n",
    "from optuna.integration import lightgbm as optuna_lgb\n",
    "import simdkalman\n",
    "import optuna\n",
    "import pyproj\n",
    "from pyproj import Proj, transform\n",
    "from sklearn import metrics\n",
    "from sklearn.metrics import roc_curve, precision_recall_curve, confusion_matrix, accuracy_score\n",
    "pd.set_option('display.max_rows', 100)\n",
    "from math import * \n",
    "import scipy.optimize as opt\n",
    "import multiprocessing\n",
    "pd.set_option('display.max_columns', 50)"
   ]
  },
  {
   "cell_type": "code",
   "execution_count": 2,
   "id": "starting-catalog",
   "metadata": {},
   "outputs": [],
   "source": [
    "g1 = ['2020-05-14-US-MTV-1', '2020-05-14-US-MTV-2', '2020-05-21-US-MTV-1', '2020-05-21-US-MTV-2',\n",
    "      '2020-05-29-US-MTV-1', '2020-05-29-US-MTV-2', '2020-06-04-US-MTV-1', '2020-06-05-US-MTV-1',\n",
    "      '2020-06-05-US-MTV-2', '2020-06-11-US-MTV-1', '2020-07-08-US-MTV-1', '2020-07-17-US-MTV-1',\n",
    "      '2020-07-17-US-MTV-2', '2020-08-03-US-MTV-1', '2020-08-06-US-MTV-2', '2020-09-04-US-SF-1',\n",
    "      '2020-09-04-US-SF-2',  '2021-01-04-US-RWC-1', '2021-01-04-US-RWC-2',\n",
    "      '2020-05-15-US-MTV-1', '2020-05-28-US-MTV-1', '2020-05-28-US-MTV-2', '2020-06-04-US-MTV-2',\n",
    "      '2020-06-10-US-MTV-1', '2020-06-10-US-MTV-2', '2020-08-03-US-MTV-2', '2020-08-13-US-MTV-1',\n",
    "      '2021-03-16-US-MTV-2']\n",
    "\n",
    "g2 = ['2021-01-05-US-SVL-1', '2021-01-05-US-SVL-2', '2021-04-15-US-MTV-1', \n",
    "      '2021-03-25-US-PAO-1', '2021-04-02-US-SJC-1', '2021-04-08-US-MTV-1']\n",
    "\n",
    "g3 = ['2021-03-10-US-SVL-1', '2021-04-26-US-SVL-1', '2021-04-26-US-SVL-2']\n",
    "\n",
    "g4 = ['2021-04-28-US-MTV-1', '2021-04-29-US-MTV-1', \n",
    "      '2021-03-16-US-RWC-2', '2021-04-21-US-MTV-1', '2021-04-28-US-MTV-2', '2021-04-29-US-MTV-2']\n",
    "\n",
    "g5 = ['2021-04-22-US-SJC-1', '2021-04-28-US-SJC-1', '2021-04-29-US-SJC-2', \n",
    "      '2021-04-22-US-SJC-2', '2021-04-29-US-SJC-3']"
   ]
  },
  {
   "cell_type": "code",
   "execution_count": 3,
   "id": "resident-monkey",
   "metadata": {},
   "outputs": [],
   "source": [
    "target = g3"
   ]
  },
  {
   "cell_type": "code",
   "execution_count": 4,
   "id": "vietnamese-feelings",
   "metadata": {},
   "outputs": [],
   "source": [
    "ELEV = 11\n",
    "FIX = 0\n",
    "CN0 = 25"
   ]
  },
  {
   "cell_type": "code",
   "execution_count": 5,
   "id": "dirty-hobby",
   "metadata": {},
   "outputs": [],
   "source": [
    "import ipynb_path\n",
    "\n",
    "def get_nb_name():\n",
    "    nb_path = ipynb_path.get()\n",
    "    nb_name = nb_path.rsplit('/',1)[1].replace('.ipynb','')\n",
    "    return nb_name"
   ]
  },
  {
   "cell_type": "code",
   "execution_count": 6,
   "id": "minor-simpson",
   "metadata": {},
   "outputs": [],
   "source": [
    "# directory setting\n",
    "nb_name = get_nb_name()\n",
    "INPUT = '../input/google-smartphone-decimeter-challenge'\n",
    "OUTPUT = '../output/prep/' + nb_name\n",
    "os.makedirs(OUTPUT, exist_ok=True)"
   ]
  },
  {
   "cell_type": "markdown",
   "id": "developed-slide",
   "metadata": {},
   "source": [
    "# utils"
   ]
  },
  {
   "cell_type": "code",
   "execution_count": 7,
   "id": "headed-battlefield",
   "metadata": {},
   "outputs": [],
   "source": [
    "def get_train_score(df, gt):\n",
    "    gt = gt.rename(columns={'latDeg':'latDeg_gt', 'lngDeg':'lngDeg_gt'})\n",
    "    df = df.merge(gt, on=['collectionName', 'phoneName', 'millisSinceGpsEpoch'], how='inner')\n",
    "    # calc_distance_error\n",
    "    df['err'] = calc_haversine(df['latDeg_gt'], df['lngDeg_gt'], df['latDeg'], df['lngDeg'])\n",
    "    # calc_evaluate_score\n",
    "    df['phone'] = df['collectionName'] + '_' + df['phoneName']\n",
    "    res = df.groupby('phone')['err'].agg([percentile50, percentile95])\n",
    "    res['p50_p90_mean'] = (res['percentile50'] + res['percentile95']) / 2 \n",
    "    score = res['p50_p90_mean'].mean()\n",
    "    return score"
   ]
  },
  {
   "cell_type": "code",
   "execution_count": 8,
   "id": "indirect-witness",
   "metadata": {},
   "outputs": [],
   "source": [
    "def calc_haversine(lat1, lon1, lat2, lon2):\n",
    "    \"\"\"Calculates the great circle distance between two points\n",
    "    on the earth. Inputs are array-like and specified in decimal degrees.\n",
    "    \"\"\"\n",
    "    RADIUS = 6_367_000\n",
    "    lat1, lon1, lat2, lon2 = map(np.radians, [lat1, lon1, lat2, lon2])\n",
    "    dlat = lat2 - lat1\n",
    "    dlon = lon2 - lon1\n",
    "    a = np.sin(dlat/2)**2 + \\\n",
    "        np.cos(lat1) * np.cos(lat2) * np.sin(dlon/2)**2\n",
    "    dist = 2 * RADIUS * np.arcsin(a**0.5)\n",
    "    return dist"
   ]
  },
  {
   "cell_type": "code",
   "execution_count": 9,
   "id": "associate-cleanup",
   "metadata": {},
   "outputs": [],
   "source": [
    "def visualize_trafic(df, center, zoom=9):\n",
    "    fig = px.scatter_mapbox(df,\n",
    "                            \n",
    "                            # Here, plotly gets, (x,y) coordinates\n",
    "                            lat=\"latDeg\",\n",
    "                            lon=\"lngDeg\",\n",
    "                            \n",
    "                            #Here, plotly detects color of series\n",
    "                            color=\"phoneName\",\n",
    "                            labels=\"phoneName\",\n",
    "                            \n",
    "                            zoom=zoom,\n",
    "                            center=center,\n",
    "                            height=600,\n",
    "                            width=800)\n",
    "    fig.update_layout(mapbox_style='stamen-terrain')\n",
    "    fig.update_layout(margin={\"r\": 0, \"t\": 0, \"l\": 0, \"b\": 0})\n",
    "    fig.update_layout(title_text=\"GPS trafic\")\n",
    "    fig.show()\n",
    "    \n",
    "def visualize_collection(df, collection):\n",
    "    target_df = df[df['collectionName']==collection].copy()\n",
    "    lat_center = target_df['latDeg'].mean()\n",
    "    lng_center = target_df['lngDeg'].mean()\n",
    "    center = {\"lat\":lat_center, \"lon\":lng_center}\n",
    "    \n",
    "    visualize_trafic(target_df, center)"
   ]
  },
  {
   "cell_type": "code",
   "execution_count": 10,
   "id": "overall-consciousness",
   "metadata": {},
   "outputs": [],
   "source": [
    "# ground_truth\n",
    "def get_ground_truth():\n",
    "    p = pathlib.Path(INPUT)\n",
    "    gt_files = list(p.glob('train/*/*/ground_truth.csv'))\n",
    "\n",
    "    gts = []\n",
    "    for gt_file in gt_files:\n",
    "        gts.append(pd.read_csv(gt_file))\n",
    "    ground_truth = pd.concat(gts)\n",
    "\n",
    "    return ground_truth"
   ]
  },
  {
   "cell_type": "code",
   "execution_count": 11,
   "id": "measured-quantity",
   "metadata": {},
   "outputs": [],
   "source": [
    "def percentile50(x):\n",
    "    return np.percentile(x, 50)\n",
    "def percentile95(x):\n",
    "    return np.percentile(x, 95)"
   ]
  },
  {
   "cell_type": "code",
   "execution_count": 12,
   "id": "happy-advocacy",
   "metadata": {},
   "outputs": [],
   "source": [
    "class train_result:\n",
    "    def __init__(self, df):\n",
    "        self.df = df\n",
    "        self.gt = get_ground_truth()\n",
    "        self.bl = pd.read_csv(INPUT + '/' + 'baseline_locations_train.csv')\n",
    "        \n",
    "        self.gt = self.gt.rename(columns={'latDeg':'latDeg_gt', 'lngDeg':'lngDeg_gt'})\n",
    "        self.df = self.df.merge(self.gt, on=['collectionName', 'phoneName', 'millisSinceGpsEpoch'], how='inner')\n",
    "        self.df['phone'] = self.df['collectionName'] + '_' + self.df['phoneName']\n",
    "        self.df['err'] =  calc_haversine(self.df['latDeg_gt'], self.df['lngDeg_gt'], self.df['latDeg'], self.df['lngDeg'])\n",
    "        \n",
    "        self.phone_res = self.calc_err('phone')\n",
    "        self.clc_res = self.calc_err('collectionName')\n",
    "        self.phonename_res = self.calc_err('phoneName')\n",
    "        \n",
    "    def calc_err(self, by):\n",
    "        res = self.df.groupby(by)['err'].agg([percentile50, percentile95])\n",
    "        res['p50_p90_mean'] = (res['percentile50'] + res['percentile95']) / 2\n",
    "        return res\n",
    "    \n",
    "    @property\n",
    "    def score(self):\n",
    "        return self.phone_res['p50_p90_mean'].mean()\n",
    "    @property\n",
    "    def raw_data(self):\n",
    "        return self.df\n",
    "    @property\n",
    "    def err(self):\n",
    "        return self.phone_res\n",
    "    @property\n",
    "    def collection_err(self):\n",
    "        return self.clc_res\n",
    "    @property\n",
    "    def phonename_err(self):\n",
    "        return self.phonename_res\n",
    "    \n",
    "    def viz_map(self, collection, show_gt=True, show_bl=True):\n",
    "        tmp = self.df[self.df['collectionName']==collection][['collectionName', 'phoneName', 'latDeg', 'lngDeg']]\n",
    "        tmp2 = self.df[self.df['collectionName']==collection][['collectionName', 'phoneName', 'latDeg_gt', 'lngDeg_gt']]\n",
    "        tmp2 = tmp2.rename(columns={'latDeg_gt':'latDeg', 'lngDeg_gt':'lngDeg'})\n",
    "        tmp2['phoneName'] = tmp2['phoneName'] + '_GT'\n",
    "        tmp3 = self.bl[self.bl['collectionName']==collection][['collectionName', 'phoneName', 'latDeg', 'lngDeg']]\n",
    "        tmp3['phoneName'] = tmp3['phoneName'] + '_BL'\n",
    "        \n",
    "        if show_gt:\n",
    "            tmp = tmp.append(tmp2)\n",
    "        if show_bl:\n",
    "            tmp = tmp.append(tmp3)\n",
    "        visualize_collection(tmp, collection)"
   ]
  },
  {
   "cell_type": "code",
   "execution_count": 13,
   "id": "champion-scene",
   "metadata": {},
   "outputs": [],
   "source": [
    "def get_data():\n",
    "    base_train = pd.read_csv(INPUT + '/' + 'baseline_locations_train.csv')\n",
    "    base_test = pd.read_csv(INPUT + '/' + 'baseline_locations_test.csv')\n",
    "    sample_sub = pd.read_csv(INPUT + '/' + 'sample_submission.csv')\n",
    "    ground_truth = pd.read_csv(INPUT + '/prep/ground_truth_train.csv')\n",
    "    return base_train, base_test, sample_sub, ground_truth"
   ]
  },
  {
   "cell_type": "code",
   "execution_count": 14,
   "id": "surface-divorce",
   "metadata": {},
   "outputs": [],
   "source": [
    "def ecef2lla(x, y, z):\n",
    "    # x, y and z are scalars or vectors in meters\n",
    "    x = np.array([x]).reshape(np.array([x]).shape[-1], 1)\n",
    "    y = np.array([y]).reshape(np.array([y]).shape[-1], 1)\n",
    "    z = np.array([z]).reshape(np.array([z]).shape[-1], 1)\n",
    "\n",
    "    a=6378137\n",
    "    a_sq=a**2\n",
    "    e = 8.181919084261345e-2\n",
    "    e_sq = 6.69437999014e-3\n",
    "\n",
    "    f = 1/298.257223563\n",
    "    b = a*(1-f)\n",
    "\n",
    "    # calculations:\n",
    "    r = np.sqrt(x**2 + y**2)\n",
    "    ep_sq  = (a**2-b**2)/b**2\n",
    "    ee = (a**2-b**2)\n",
    "    f = (54*b**2)*(z**2)\n",
    "    g = r**2 + (1 - e_sq)*(z**2) - e_sq*ee*2\n",
    "    c = (e_sq**2)*f*r**2/(g**3)\n",
    "    s = (1 + c + np.sqrt(c**2 + 2*c))**(1/3.)\n",
    "    p = f/(3.*(g**2)*(s + (1./s) + 1)**2)\n",
    "    q = np.sqrt(1 + 2*p*e_sq**2)\n",
    "    r_0 = -(p*e_sq*r)/(1+q) + np.sqrt(0.5*(a**2)*(1+(1./q)) - p*(z**2)*(1-e_sq)/(q*(1+q)) - 0.5*p*(r**2))\n",
    "    u = np.sqrt((r - e_sq*r_0)**2 + z**2)\n",
    "    v = np.sqrt((r - e_sq*r_0)**2 + (1 - e_sq)*z**2)\n",
    "    z_0 = (b**2)*z/(a*v)\n",
    "    h = u*(1 - b**2/(a*v))\n",
    "    phi = np.arctan((z + ep_sq*z_0)/r)\n",
    "    lambd = np.arctan2(y, x)\n",
    "\n",
    "    return phi*180/np.pi, lambd*180/np.pi, h"
   ]
  },
  {
   "cell_type": "markdown",
   "id": "grand-limitation",
   "metadata": {},
   "source": [
    "# baselineの再作成"
   ]
  },
  {
   "cell_type": "code",
   "execution_count": 15,
   "id": "neural-motor",
   "metadata": {},
   "outputs": [],
   "source": [
    "def prepare_calc_baseline(df):\n",
    "    light_speed = 299_792_458\n",
    "    omega_e = 7.2921151467e-5\n",
    "    \n",
    "    df['sat'] = df['svid'].astype('str') + '_' + df['signalType']\n",
    "    df['isrbM'] = df.groupby('sat')['isrbM'].transform('median')\n",
    "    \n",
    "    # Corrected pseudorange according to data instructions\n",
    "    df['correctedPrM'] = df['rawPrM'] + \\\n",
    "                         df['satClkBiasM'] - \\\n",
    "                         df['isrbM'] - \\\n",
    "                         df['ionoDelayM'] - \\\n",
    "                         df['tropoDelayM']\n",
    "    \n",
    "    # Time it took for signal to travel\n",
    "    df['transmissionTimeSeconds'] = df['correctedPrM'] / light_speed\n",
    "    \n",
    "    # Compute true sat positions at arrival time\n",
    "    df['xSatPosMRotated'] = \\\n",
    "        np.cos(omega_e * df['transmissionTimeSeconds']) * df['xSatPosM'] \\\n",
    "        + np.sin(omega_e * df['transmissionTimeSeconds']) * df['ySatPosM']\n",
    "\n",
    "    df['ySatPosMRotated'] = \\\n",
    "        - np.sin(omega_e * df['transmissionTimeSeconds']) * df['xSatPosM'] \\\n",
    "        + np.cos(omega_e * df['transmissionTimeSeconds']) * df['ySatPosM']\n",
    "\n",
    "    df['zSatPosMRotated'] = df['zSatPosM']\n",
    "    \n",
    "    # Uncertainty weight for the WLS method\n",
    "    df['uncertaintyWeight'] = 1 / df['rawPrUncM']\n",
    "    \n",
    "    return df"
   ]
  },
  {
   "cell_type": "code",
   "execution_count": 16,
   "id": "alert-roommate",
   "metadata": {},
   "outputs": [],
   "source": [
    "def calc_baseline_point(df):\n",
    "\n",
    "    def distance(sat_pos, x):\n",
    "        sat_pos_diff = sat_pos.copy(deep=True)\n",
    "\n",
    "        sat_pos_diff['xSatPosMRotated'] = sat_pos_diff['xSatPosMRotated'] - x[0]\n",
    "        sat_pos_diff['ySatPosMRotated'] = sat_pos_diff['ySatPosMRotated'] - x[1]\n",
    "        sat_pos_diff['zSatPosMRotated'] = sat_pos_diff['zSatPosMRotated'] - x[2]\n",
    "\n",
    "        sat_pos_diff['d'] = sat_pos_diff['uncertaintyWeight'] * \\\n",
    "                            (np.sqrt((sat_pos_diff['xSatPosMRotated']**2 + sat_pos_diff['ySatPosMRotated']**2 + sat_pos_diff['zSatPosMRotated']**2)) + \\\n",
    "                             x[3] - sat_pos_diff['correctedPrM'])\n",
    "\n",
    "        return sat_pos_diff['d']\n",
    "\n",
    "    def distance_fixed_satpos(x):\n",
    "        return distance(df[['xSatPosMRotated', 'ySatPosMRotated', 'zSatPosMRotated', 'correctedPrM', 'uncertaintyWeight']], x)\n",
    "    \n",
    "    x0 = [0,0,0,0]\n",
    "    opt_res = opt.least_squares(distance_fixed_satpos, x0)\n",
    "    # Optimiser yields a position in the ECEF coordinates\n",
    "    opt_res_pos = opt_res.x\n",
    "    \n",
    "    # ECEF position to lat/long\n",
    "    wls_estimated_pos = ecef2lla(*opt_res_pos[:3])\n",
    "    wls_estimated_pos = np.squeeze(wls_estimated_pos)\n",
    "    \n",
    "    return wls_estimated_pos[0], wls_estimated_pos[1]"
   ]
  },
  {
   "cell_type": "code",
   "execution_count": 17,
   "id": "geographic-fisher",
   "metadata": {},
   "outputs": [],
   "source": [
    "def get_derived_data(train_test, collection, phonename):\n",
    "    derived = pd.read_csv(INPUT + f'/{train_test}/{collection}/{phonename}/{phonename}_derived.csv')\n",
    "    raw = pd.read_csv(INPUT + f'/prep/gnss/{train_test}/{collection}/{phonename}/Raw.csv')\n",
    "    status = pd.read_csv(INPUT + f'/prep/gnss/{train_test}/{collection}/{phonename}/Status.csv')\n",
    "    \n",
    "    # Assume we've loaded a dataframe from _GnssLog.txt for only lines beginning with \"Raw\", we denote this df_raw. Next, assume we've loaded a dataframe from _derived.csv. We denote this df_derived.\n",
    "\n",
    "    # Create a new column in df_raw that corresponds to df_derived['MillisSinceGpsEpoch']\n",
    "    raw['millisSinceGpsEpoch'] = np.floor( (raw['TimeNanos'] - raw['FullBiasNanos']) / 1000000.0).astype(int)\n",
    "    \n",
    "    # Change each value in df_derived['MillisSinceGpsEpoch'] to be the prior epoch.\n",
    "    raw_timestamps = raw['millisSinceGpsEpoch'].unique()\n",
    "    derived_timestamps = derived['millisSinceGpsEpoch'].unique()\n",
    "\n",
    "    # The timestamps in derived are one epoch ahead. We need to map each epoch\n",
    "    # in derived to the prior one (in Raw).\n",
    "    indexes = np.searchsorted(raw_timestamps, derived_timestamps)\n",
    "    from_t_to_fix_derived = dict(zip(derived_timestamps, raw_timestamps[indexes-1]))\n",
    "    derived['millisSinceGpsEpoch'] = np.array(list(map(lambda v: from_t_to_fix_derived[v], derived['millisSinceGpsEpoch'])))\n",
    "    \n",
    "    delta_millis = derived['millisSinceGpsEpoch'] - derived['receivedSvTimeInGpsNanos'] / 1e6\n",
    "    where_good_signals = (delta_millis > 0) & (delta_millis < 300)\n",
    "    derived = derived[where_good_signals].copy()\n",
    "\n",
    "    # Compute signal_type in df_raw.\n",
    "    # Map from constellation id to frequencies and signals.\n",
    "    CONSTEL_FREQ_TABLE = {\n",
    "        0: {'UNKNOWN': (0, 999999999999)},\n",
    "        1: {\n",
    "            'GPS_L1': (1563000000, 1587000000),\n",
    "            'GPS_L2': (1215000000, 1240000000),\n",
    "            'GPS_L5': (1164000000, 1189000000)\n",
    "        },\n",
    "        3: {\n",
    "            'GLO_G1': (1593000000, 1610000000),\n",
    "            'GLO_G2': (1237000000, 1254000000)\n",
    "        },\n",
    "        4: {\n",
    "            'QZS_J1': (1563000000, 1587000000),\n",
    "            'QZS_J2': (1215000000, 1240000000),\n",
    "            'QZS_J5': (1164000000, 1189000000)\n",
    "        },\n",
    "        5: {\n",
    "            'BDS_B1C': (1569000000, 1583000000),\n",
    "            'BDS_B1I': (1553000000, 1568990000),\n",
    "            'BDS_B2A': (1164000000, 1189000000),\n",
    "            'BDS_B2B': (1189000000, 1225000000)\n",
    "        },\n",
    "        6: {\n",
    "            'GAL_E1': (1559000000, 1591000000),\n",
    "            'GAL_E5A': (1164000000, 1189000000),\n",
    "            'GAL_E5B': (1189000000, 1218000000),\n",
    "            'GAL_E6': (1258000000, 1300000000)\n",
    "        },\n",
    "        7: {\n",
    "            'IRN_S': (2472000000, 2512000000),\n",
    "            'IRN_L5': (1164000000, 1189000000)\n",
    "        },\n",
    "    }\n",
    "\n",
    "    def SignalTypeFromConstellationAndFequency(constel, freq_hz):\n",
    "        'Returns the signal type as a string for the given constellation and frequency.'\n",
    "        freqs = CONSTEL_FREQ_TABLE.get(constel, {})\n",
    "        for id_freq_range in freqs.items():\n",
    "            rng = id_freq_range[1]\n",
    "            if rng[0] <= freq_hz <= rng[1]:\n",
    "                return id_freq_range[0]\n",
    "        return 'UNKNOWN'\n",
    "\n",
    "    signal_types = itertools.chain(*[c.keys() for c in CONSTEL_FREQ_TABLE.values()])\n",
    "    sig_type_cat = pd.api.types.CategoricalDtype(categories=signal_types)\n",
    "    raw['signalType'] = raw.apply(lambda r: SignalTypeFromConstellationAndFequency(r.ConstellationType, r.CarrierFrequencyHz), axis=1).astype(sig_type_cat)\n",
    "\n",
    "    # Fix QZS Svids issue. \n",
    "\n",
    "    # The SVID of any QZS sat in derived may be changed. Since it may be a many to one relationship, we'll need to adjust the values in Raw.\n",
    "    new_to_old = {1:(183, 193), 2:(184, 194, 196), 3:(187, 189, 197, 199), 4:(185, 195, 200)}\n",
    "    # Maps original svid to new svid for only ConstellationType=4.\n",
    "    old_to_new={}\n",
    "    for new_svid, old_svids in new_to_old.items():\n",
    "        for s in old_svids:\n",
    "            old_to_new[s] = new_svid\n",
    "    raw['svid'] = raw.apply(lambda r: old_to_new.get(r.Svid, r.Svid) if r.ConstellationType == 4 else r.Svid, axis=1)\n",
    "    del raw['collectionName']\n",
    "    del raw['phoneName']\n",
    "    \n",
    "    derived = derived.merge(raw, on=['millisSinceGpsEpoch', 'svid', 'signalType'], how='left')\n",
    "    \n",
    "    # status\n",
    "    status['millisSinceGpsEpoch'] = status['UnixTimeMillis'] - 315964800000 + 18000\n",
    "    status['svid'] = status.apply(lambda r: old_to_new.get(r.Svid, r.Svid) if r.ConstellationType == 4 else r.Svid, axis=1)\n",
    "    status['signalType'] = status.apply(lambda r: SignalTypeFromConstellationAndFequency(r.ConstellationType, r.CarrierFrequencyHz), axis=1).astype(sig_type_cat)\n",
    "    del status['collectionName']\n",
    "    del status['phoneName']\n",
    "    del status['Cn0DbHz']\n",
    "    status = status.drop_duplicates(subset=['svid', 'signalType', 'millisSinceGpsEpoch'])\n",
    "    \n",
    "    sv_sig = derived[['svid', 'signalType']].drop_duplicates()\n",
    "    output_df = pd.DataFrame()\n",
    "    for svid, signal in zip(sv_sig['svid'], sv_sig['signalType']):\n",
    "        derived_tmp = derived[(derived['svid']==svid)&(derived['signalType']==signal)].copy()\n",
    "        status_tmp = status[(status['svid']==svid)&(status['signalType']==signal)].copy()\n",
    "        del status_tmp['svid']\n",
    "        del status_tmp['signalType']\n",
    "        output_tmp = pd.merge_asof(derived_tmp, status_tmp, on='millisSinceGpsEpoch', direction='nearest')\n",
    "        output_df = output_df.append(output_tmp)\n",
    "    \n",
    "    return output_df"
   ]
  },
  {
   "cell_type": "code",
   "execution_count": 18,
   "id": "funky-syndication",
   "metadata": {},
   "outputs": [],
   "source": [
    "def calc_baseline(args):\n",
    "    s_th = 10\n",
    "    \n",
    "    phone, df = args\n",
    "    collection = phone.split('_')[0]\n",
    "    phonename = phone.split('_')[1]\n",
    "    derived = get_derived_data('train', collection, phonename)\n",
    "    derived = prepare_calc_baseline(derived)\n",
    "    \n",
    "    derived = derived[derived['ElevationDegrees']>=ELEV].copy()\n",
    "    derived = derived[derived['UsedInFix']>=FIX].copy()\n",
    "    derived = derived[derived['Cn0DbHz']>=CN0].copy()\n",
    "    \n",
    "    idx = list(df.index)\n",
    "    s_list = []\n",
    "    n_list = []\n",
    "    lat_list = []\n",
    "    lng_list = []\n",
    "    unc_mean_list = []\n",
    "    unc_max_list = []\n",
    "    \n",
    "    for j,i in enumerate(idx):\n",
    "        s = df.at[i, 'millisSinceGpsEpoch']\n",
    "        tmp = derived[(derived['millisSinceGpsEpoch']>=s-s_th)&(derived['millisSinceGpsEpoch']<=s+s_th)].copy()\n",
    "        n = tmp['svid'].nunique()\n",
    "        s_list.append(s)\n",
    "        n_list.append(n)\n",
    "        \n",
    "        if n < 4:    \n",
    "            lat_list.append(np.nan)\n",
    "            lng_list.append(np.nan)\n",
    "            unc_mean_list.append(np.nan)\n",
    "            unc_max_list.append(np.nan)        \n",
    "        \n",
    "        else:\n",
    "            res = calc_baseline_point(tmp)\n",
    "            lat_list.append(res[0])\n",
    "            lng_list.append(res[1])\n",
    "            unc_mean_list.append(tmp['uncertaintyWeight'].mean())\n",
    "            unc_max_list.append(tmp['uncertaintyWeight'].max())\n",
    "    \n",
    "    output_df = pd.DataFrame()\n",
    "    output_df['millisSinceGpsEpoch'] = s_list\n",
    "    output_df['latDeg'] = lat_list\n",
    "    output_df['lngDeg'] = lng_list\n",
    "    output_df['n'] = n_list\n",
    "    output_df['unc_mean'] = unc_mean_list\n",
    "    output_df['unc_max'] = unc_max_list\n",
    "    output_df['collectionName'] = collection\n",
    "    output_df['phoneName'] = phonename\n",
    "    output_df['phone'] = phone\n",
    "    \n",
    "    return output_df"
   ]
  },
  {
   "cell_type": "code",
   "execution_count": 19,
   "id": "running-ending",
   "metadata": {},
   "outputs": [],
   "source": [
    "def calc_baseline_test(args):\n",
    "    s_th = 10\n",
    "    \n",
    "    phone, df = args\n",
    "    collection = phone.split('_')[0]\n",
    "    phonename = phone.split('_')[1]\n",
    "    derived = get_derived_data('test', collection, phonename)\n",
    "    derived = prepare_calc_baseline(derived)\n",
    "    \n",
    "    derived = derived[derived['ElevationDegrees']>=ELEV].copy()\n",
    "    derived = derived[derived['UsedInFix']>=FIX].copy()\n",
    "    derived = derived[derived['Cn0DbHz']>=CN0].copy()\n",
    "    \n",
    "    idx = list(df.index)\n",
    "    s_list = []\n",
    "    n_list = []\n",
    "    lat_list = []\n",
    "    lng_list = []\n",
    "    unc_mean_list = []\n",
    "    unc_max_list = []\n",
    "    \n",
    "    for j,i in enumerate(idx):\n",
    "        s = df.at[i, 'millisSinceGpsEpoch']\n",
    "        tmp = derived[(derived['millisSinceGpsEpoch']>=s-s_th)&(derived['millisSinceGpsEpoch']<=s+s_th)].copy()\n",
    "        n = tmp['svid'].nunique()\n",
    "        s_list.append(s)\n",
    "        n_list.append(n)\n",
    "        \n",
    "        if n < 4:    \n",
    "            lat_list.append(np.nan)\n",
    "            lng_list.append(np.nan)\n",
    "            unc_mean_list.append(np.nan)\n",
    "            unc_max_list.append(np.nan)        \n",
    "        \n",
    "        else:\n",
    "            res = calc_baseline_point(tmp)\n",
    "            lat_list.append(res[0])\n",
    "            lng_list.append(res[1])\n",
    "            unc_mean_list.append(tmp['uncertaintyWeight'].mean())\n",
    "            unc_max_list.append(tmp['uncertaintyWeight'].max())\n",
    "    \n",
    "    output_df = pd.DataFrame()\n",
    "    output_df['millisSinceGpsEpoch'] = s_list\n",
    "    output_df['latDeg'] = lat_list\n",
    "    output_df['lngDeg'] = lng_list\n",
    "    output_df['n'] = n_list\n",
    "    output_df['unc_mean'] = unc_mean_list\n",
    "    output_df['unc_max'] = unc_max_list\n",
    "    output_df['collectionName'] = collection\n",
    "    output_df['phoneName'] = phonename\n",
    "    output_df['phone'] = phone\n",
    "    \n",
    "    return output_df"
   ]
  },
  {
   "cell_type": "code",
   "execution_count": 20,
   "id": "divided-petroleum",
   "metadata": {},
   "outputs": [],
   "source": [
    "#df = get_derived_data('train', '2021-04-28-US-MTV-1', 'Pixel5')"
   ]
  },
  {
   "cell_type": "code",
   "execution_count": 21,
   "id": "higher-tender",
   "metadata": {},
   "outputs": [],
   "source": [
    "train, test, sub, gt = get_data()"
   ]
  },
  {
   "cell_type": "code",
   "execution_count": 22,
   "id": "material-citizenship",
   "metadata": {},
   "outputs": [],
   "source": [
    "train = train[train['collectionName'].isin(target)].copy()\n",
    "train = train[train['phone']!='Mi8'].copy()"
   ]
  },
  {
   "cell_type": "code",
   "execution_count": 23,
   "id": "innocent-burke",
   "metadata": {},
   "outputs": [
    {
     "data": {
      "application/vnd.jupyter.widget-view+json": {
       "model_id": "f41e6a3fe5f648fcb1d3e17c0b222509",
       "version_major": 2,
       "version_minor": 0
      },
      "text/plain": [
       "0it [00:00, ?it/s]"
      ]
     },
     "metadata": {},
     "output_type": "display_data"
    }
   ],
   "source": [
    "processes = multiprocessing.cpu_count()\n",
    "with multiprocessing.Pool(processes=processes) as pool:\n",
    "    dfs = pool.imap_unordered(calc_baseline, train.groupby('phone'))\n",
    "    dfs = tqdm(dfs)\n",
    "    dfs = list(dfs)\n",
    "result = pd.concat(dfs)"
   ]
  },
  {
   "cell_type": "code",
   "execution_count": 24,
   "id": "smart-writer",
   "metadata": {},
   "outputs": [],
   "source": [
    "train_tmp = train[['phone', 'millisSinceGpsEpoch', 'latDeg', 'lngDeg']].copy()\n",
    "train_tmp.columns = ['phone', 'millisSinceGpsEpoch', 'latDeg_bl', 'lngDeg_bl']\n",
    "result = result.merge(train_tmp, on=['phone', 'millisSinceGpsEpoch'], how='left')"
   ]
  },
  {
   "cell_type": "code",
   "execution_count": 25,
   "id": "incredible-chicago",
   "metadata": {},
   "outputs": [],
   "source": [
    "gt['phone'] = gt['collectionName'] + '_' + gt['phoneName']\n",
    "gt_tmp = gt[['phone', 'millisSinceGpsEpoch', 'latDeg', 'lngDeg']].copy()\n",
    "gt_tmp.columns = ['phone', 'millisSinceGpsEpoch', 'latDeg_gt', 'lngDeg_gt']\n",
    "result = result.merge(gt_tmp, on=['phone', 'millisSinceGpsEpoch'], how='left')"
   ]
  },
  {
   "cell_type": "code",
   "execution_count": 26,
   "id": "incorporate-luxembourg",
   "metadata": {},
   "outputs": [],
   "source": [
    "result['rb_bl_err'] = calc_haversine(result['latDeg_bl'], result['lngDeg_bl'], result['latDeg'], result['lngDeg'])\n",
    "result['rb_gt_err'] = calc_haversine(result['latDeg_gt'], result['lngDeg_gt'], result['latDeg'], result['lngDeg'])\n",
    "result['bl_gt_err'] = calc_haversine(result['latDeg_gt'], result['lngDeg_gt'], result['latDeg_bl'], result['lngDeg_bl'])"
   ]
  },
  {
   "cell_type": "code",
   "execution_count": 27,
   "id": "varied-study",
   "metadata": {},
   "outputs": [
    {
     "name": "stdout",
     "output_type": "stream",
     "text": [
      "2021-04-26-US-SVL-1_Pixel5 0.0009671179883945841\n",
      "2021-04-26-US-SVL-1_Mi8 0.0019305019305019305\n",
      "2021-03-10-US-SVL-1_Pixel4XL 0.0006622516556291391\n",
      "2021-03-10-US-SVL-1_SamsungS20Ultra 0.0006510416666666666\n"
     ]
    }
   ],
   "source": [
    "for phone in result['phone'].unique():\n",
    "    tmp = result[result['phone']==phone].copy()\n",
    "    null_rate = tmp['latDeg'].isnull().sum() / len(tmp)\n",
    "    print(phone, null_rate)"
   ]
  },
  {
   "cell_type": "code",
   "execution_count": 28,
   "id": "transsexual-butter",
   "metadata": {},
   "outputs": [
    {
     "data": {
      "text/html": [
       "<div>\n",
       "<style scoped>\n",
       "    .dataframe tbody tr th:only-of-type {\n",
       "        vertical-align: middle;\n",
       "    }\n",
       "\n",
       "    .dataframe tbody tr th {\n",
       "        vertical-align: top;\n",
       "    }\n",
       "\n",
       "    .dataframe thead th {\n",
       "        text-align: right;\n",
       "    }\n",
       "</style>\n",
       "<table border=\"1\" class=\"dataframe\">\n",
       "  <thead>\n",
       "    <tr style=\"text-align: right;\">\n",
       "      <th></th>\n",
       "      <th>phone</th>\n",
       "      <th>rb_bl_err_p50</th>\n",
       "      <th>rb_bl_err_p95</th>\n",
       "      <th>rb_gt_err_p50</th>\n",
       "      <th>rb_gt_err_p95</th>\n",
       "      <th>bl_gt_err_p50</th>\n",
       "      <th>bl_gt_err_p95</th>\n",
       "      <th>rb_score</th>\n",
       "      <th>bl_score</th>\n",
       "    </tr>\n",
       "  </thead>\n",
       "  <tbody>\n",
       "    <tr>\n",
       "      <th>0</th>\n",
       "      <td>2021-03-10-US-SVL-1_Pixel4XL</td>\n",
       "      <td>1.907650</td>\n",
       "      <td>6.822135</td>\n",
       "      <td>3.860291</td>\n",
       "      <td>10.731232</td>\n",
       "      <td>3.787175</td>\n",
       "      <td>10.398846</td>\n",
       "      <td>7.295762</td>\n",
       "      <td>7.093010</td>\n",
       "    </tr>\n",
       "    <tr>\n",
       "      <th>1</th>\n",
       "      <td>2021-03-10-US-SVL-1_SamsungS20Ultra</td>\n",
       "      <td>2.361417</td>\n",
       "      <td>6.229860</td>\n",
       "      <td>2.829111</td>\n",
       "      <td>7.530519</td>\n",
       "      <td>3.335714</td>\n",
       "      <td>9.181752</td>\n",
       "      <td>5.179815</td>\n",
       "      <td>6.258733</td>\n",
       "    </tr>\n",
       "    <tr>\n",
       "      <th>2</th>\n",
       "      <td>2021-04-26-US-SVL-1_Mi8</td>\n",
       "      <td>2.606246</td>\n",
       "      <td>6.842802</td>\n",
       "      <td>1.938505</td>\n",
       "      <td>5.460632</td>\n",
       "      <td>1.696266</td>\n",
       "      <td>4.710350</td>\n",
       "      <td>3.699569</td>\n",
       "      <td>3.203308</td>\n",
       "    </tr>\n",
       "    <tr>\n",
       "      <th>3</th>\n",
       "      <td>2021-04-26-US-SVL-1_Pixel5</td>\n",
       "      <td>0.989342</td>\n",
       "      <td>2.950718</td>\n",
       "      <td>1.695055</td>\n",
       "      <td>4.942040</td>\n",
       "      <td>1.679918</td>\n",
       "      <td>5.324431</td>\n",
       "      <td>3.318548</td>\n",
       "      <td>3.502175</td>\n",
       "    </tr>\n",
       "  </tbody>\n",
       "</table>\n",
       "</div>"
      ],
      "text/plain": [
       "                                 phone  rb_bl_err_p50  rb_bl_err_p95  \\\n",
       "0         2021-03-10-US-SVL-1_Pixel4XL       1.907650       6.822135   \n",
       "1  2021-03-10-US-SVL-1_SamsungS20Ultra       2.361417       6.229860   \n",
       "2              2021-04-26-US-SVL-1_Mi8       2.606246       6.842802   \n",
       "3           2021-04-26-US-SVL-1_Pixel5       0.989342       2.950718   \n",
       "\n",
       "   rb_gt_err_p50  rb_gt_err_p95  bl_gt_err_p50  bl_gt_err_p95  rb_score  \\\n",
       "0       3.860291      10.731232       3.787175      10.398846  7.295762   \n",
       "1       2.829111       7.530519       3.335714       9.181752  5.179815   \n",
       "2       1.938505       5.460632       1.696266       4.710350  3.699569   \n",
       "3       1.695055       4.942040       1.679918       5.324431  3.318548   \n",
       "\n",
       "   bl_score  \n",
       "0  7.093010  \n",
       "1  6.258733  \n",
       "2  3.203308  \n",
       "3  3.502175  "
      ]
     },
     "execution_count": 28,
     "metadata": {},
     "output_type": "execute_result"
    }
   ],
   "source": [
    "result_grouped = result.dropna().groupby('phone')[['rb_bl_err', 'rb_gt_err', 'bl_gt_err']].agg([percentile50, percentile95]).reset_index()\n",
    "result_grouped.columns = ['phone', 'rb_bl_err_p50', 'rb_bl_err_p95', 'rb_gt_err_p50', 'rb_gt_err_p95', 'bl_gt_err_p50', 'bl_gt_err_p95']\n",
    "result_grouped['rb_score'] = (result_grouped['rb_gt_err_p95'] + result_grouped['rb_gt_err_p50']) / 2\n",
    "result_grouped['bl_score'] = (result_grouped['bl_gt_err_p95'] + result_grouped['bl_gt_err_p50']) / 2\n",
    "result_grouped"
   ]
  },
  {
   "cell_type": "code",
   "execution_count": 29,
   "id": "incredible-plumbing",
   "metadata": {},
   "outputs": [],
   "source": [
    "result.to_csv(OUTPUT + '/result.csv', index=False)\n",
    "result_grouped.to_csv(OUTPUT + '/result_grouped.csv', index=False)"
   ]
  },
  {
   "cell_type": "code",
   "execution_count": 30,
   "id": "sought-reading",
   "metadata": {},
   "outputs": [
    {
     "data": {
      "text/plain": [
       "rb_score    4.873423\n",
       "bl_score    5.014307\n",
       "dtype: float64"
      ]
     },
     "execution_count": 30,
     "metadata": {},
     "output_type": "execute_result"
    }
   ],
   "source": [
    "result_grouped[['rb_score', 'bl_score']].mean()"
   ]
  },
  {
   "cell_type": "markdown",
   "id": "disturbed-leadership",
   "metadata": {},
   "source": [
    "# test"
   ]
  },
  {
   "cell_type": "code",
   "execution_count": 31,
   "id": "forward-compression",
   "metadata": {},
   "outputs": [],
   "source": [
    "test = test[test['collectionName'].isin(target)].copy()\n",
    "test = test[test['phone']!='Mi8'].copy()"
   ]
  },
  {
   "cell_type": "code",
   "execution_count": 32,
   "id": "worthy-senate",
   "metadata": {},
   "outputs": [
    {
     "data": {
      "application/vnd.jupyter.widget-view+json": {
       "model_id": "7e9fbaaf18d747f19900302bcbaab4f3",
       "version_major": 2,
       "version_minor": 0
      },
      "text/plain": [
       "0it [00:00, ?it/s]"
      ]
     },
     "metadata": {},
     "output_type": "display_data"
    }
   ],
   "source": [
    "processes = multiprocessing.cpu_count()\n",
    "with multiprocessing.Pool(processes=processes) as pool:\n",
    "    dfs = pool.imap_unordered(calc_baseline_test, test.groupby('phone'))\n",
    "    dfs = tqdm(dfs)\n",
    "    dfs = list(dfs)\n",
    "result = pd.concat(dfs)"
   ]
  },
  {
   "cell_type": "code",
   "execution_count": 33,
   "id": "clinical-africa",
   "metadata": {},
   "outputs": [],
   "source": [
    "result.to_csv(OUTPUT + '/result_test.csv', index=False)"
   ]
  },
  {
   "cell_type": "code",
   "execution_count": 34,
   "id": "imposed-appendix",
   "metadata": {},
   "outputs": [
    {
     "name": "stdout",
     "output_type": "stream",
     "text": [
      "2021-04-26-US-SVL-2_SamsungS20Ultra 0.008605851979345954\n"
     ]
    }
   ],
   "source": [
    "for phone in result['phone'].unique():\n",
    "    tmp = result[result['phone']==phone].copy()\n",
    "    null_rate = tmp['latDeg'].isnull().sum() / len(tmp)\n",
    "    print(phone, null_rate)"
   ]
  },
  {
   "cell_type": "code",
   "execution_count": null,
   "id": "imperial-intent",
   "metadata": {},
   "outputs": [],
   "source": []
  }
 ],
 "metadata": {
  "kernelspec": {
   "display_name": "Python 3",
   "language": "python",
   "name": "python3"
  },
  "language_info": {
   "codemirror_mode": {
    "name": "ipython",
    "version": 3
   },
   "file_extension": ".py",
   "mimetype": "text/x-python",
   "name": "python",
   "nbconvert_exporter": "python",
   "pygments_lexer": "ipython3",
   "version": "3.7.10"
  }
 },
 "nbformat": 4,
 "nbformat_minor": 5
}
