{
 "cells": [
  {
   "cell_type": "markdown",
   "id": "incoming-heater",
   "metadata": {},
   "source": [
    "# degree_pred_v001\n",
    "https://www.kaggle.com/t88take/estimating-the-direction-with-a-magnetic-se-e46cec  \n",
    "の再現"
   ]
  },
  {
   "cell_type": "code",
   "execution_count": 1,
   "id": "premium-jewel",
   "metadata": {},
   "outputs": [],
   "source": [
    "import os\n",
    "import pandas as pd\n",
    "import numpy as np\n",
    "import ipynb_path\n",
    "import matplotlib.pyplot as plt\n",
    "from matplotlib_venn import venn2, venn2_circles\n",
    "import seaborn as sns\n",
    "import plotly\n",
    "import plotly.express as px\n",
    "%matplotlib inline\n",
    "pd.set_option('display.max_rows', 200)\n",
    "from math import * \n",
    "import warnings\n",
    "warnings.simplefilter('ignore')"
   ]
  },
  {
   "cell_type": "code",
   "execution_count": 2,
   "id": "centered-restaurant",
   "metadata": {},
   "outputs": [],
   "source": [
    "def get_nb_name():\n",
    "    nb_path = ipynb_path.get()\n",
    "    nb_name = nb_path.rsplit('/',1)[1].replace('.ipynb','')\n",
    "    return nb_name"
   ]
  },
  {
   "cell_type": "code",
   "execution_count": 3,
   "id": "light-reaction",
   "metadata": {},
   "outputs": [],
   "source": [
    "def visualize_trafic(df, center, zoom=9):\n",
    "    fig = px.scatter_mapbox(df,\n",
    "                            \n",
    "                            # Here, plotly gets, (x,y) coordinates\n",
    "                            lat=\"latDeg\",\n",
    "                            lon=\"lngDeg\",\n",
    "                            \n",
    "                            #Here, plotly detects color of series\n",
    "                            color=\"phoneName\",\n",
    "                            labels=\"phoneName\",\n",
    "                            \n",
    "                            zoom=zoom,\n",
    "                            center=center,\n",
    "                            height=1000,\n",
    "                            width=2000)\n",
    "    fig.update_layout(mapbox_style='stamen-terrain')\n",
    "    fig.update_layout(margin={\"r\": 0, \"t\": 0, \"l\": 0, \"b\": 0})\n",
    "    fig.update_layout(title_text=\"GPS trafic\")\n",
    "    fig.show()"
   ]
  },
  {
   "cell_type": "code",
   "execution_count": 4,
   "id": "ideal-antarctica",
   "metadata": {},
   "outputs": [],
   "source": [
    "def visualize_collection(df, collection):\n",
    "    target_df = df[df['collectionName']==collection].copy()\n",
    "    lat_center = target_df['latDeg'].mean()\n",
    "    lng_center = target_df['lngDeg'].mean()\n",
    "    center = {\"lat\":lat_center, \"lon\":lng_center}\n",
    "    \n",
    "    visualize_trafic(target_df, center)"
   ]
  },
  {
   "cell_type": "code",
   "execution_count": 5,
   "id": "electoral-scotland",
   "metadata": {},
   "outputs": [],
   "source": [
    "def calc_haversine(lat1, lon1, lat2, lon2):\n",
    "    \"\"\"Calculates the great circle distance between two points\n",
    "    on the earth. Inputs are array-like and specified in decimal degrees.\n",
    "    \"\"\"\n",
    "    RADIUS = 6_367_000\n",
    "    lat1, lon1, lat2, lon2 = map(np.radians, [lat1, lon1, lat2, lon2])\n",
    "    dlat = lat2 - lat1\n",
    "    dlon = lon2 - lon1\n",
    "    a = np.sin(dlat/2)**2 + \\\n",
    "        np.cos(lat1) * np.cos(lat2) * np.sin(dlon/2)**2\n",
    "    dist = 2 * RADIUS * np.arcsin(a**0.5)\n",
    "    return dist"
   ]
  },
  {
   "cell_type": "code",
   "execution_count": 6,
   "id": "ethical-clothing",
   "metadata": {},
   "outputs": [],
   "source": [
    "# lowpass filter\n",
    "\n",
    "from scipy.signal import butter, lfilter\n",
    "\n",
    "def butter_lowpass(cutoff, fs, order=5):\n",
    "    nyq = 0.5 * fs\n",
    "    normal_cutoff = cutoff / nyq\n",
    "    b, a = butter(order, normal_cutoff, btype='low', analog=False)\n",
    "    return b, a\n",
    "\n",
    "def butter_lowpass_filter(data, cutoff, fs, order=5):\n",
    "    b, a = butter_lowpass(cutoff, fs, order=order)\n",
    "    y = lfilter(b, a, data)\n",
    "    return y\n",
    "\n",
    "order = 3\n",
    "fs = 50.0\n",
    "cutoff = 2.5"
   ]
  },
  {
   "cell_type": "code",
   "execution_count": 7,
   "id": "industrial-warning",
   "metadata": {},
   "outputs": [],
   "source": [
    "# Offset correction\n",
    "# refarence https://github.com/J-ROCKET-BOY/SS-Fitting\n",
    "\n",
    "def SS_fit(data) : \n",
    "\n",
    "    x = data[:,[0]]\n",
    "    y = data[:,[1]]\n",
    "    z = data[:,[2]]\n",
    "\n",
    "    data_len = len(x)\n",
    "    \n",
    "    x2 = np.power(x,2)\n",
    "    y2 = np.power(y,2)\n",
    "    z2 = np.power(z,2)\n",
    "\n",
    "    r1 = -x*(x2+y2+z2)\n",
    "    r2= -y*(x2+y2+z2)\n",
    "    r3 = -z*(x2+y2+z2)\n",
    "    r4 = -(x2+y2+z2)\n",
    "\n",
    "    left = np.array([[np.sum(x2),np.sum(x*y),np.sum(x*z),np.sum(x)],\n",
    "                     [np.sum(x*y),np.sum(y2),np.sum(y*z),np.sum(y)],\n",
    "                     [np.sum(x*z),np.sum(y*z),np.sum(z2),np.sum(z)],\n",
    "                     [np.sum(x), np.sum(y), np.sum(z), data_len]])\n",
    "    \n",
    "    right = np.array([np.sum(r1),\n",
    "                      np.sum(r2),\n",
    "                      np.sum(r3),\n",
    "                      np.sum(r4)])\n",
    "    \n",
    "    si = np.dot(np.linalg.inv(left),right)\n",
    "\n",
    "    x0 = (-1/2)* si[0]\n",
    "    y0 = (-1/2)* si[1]\n",
    "    z0 = (-1/2)* si[2]\n",
    "    \n",
    "    return np.array([x0,y0,z0])"
   ]
  },
  {
   "cell_type": "code",
   "execution_count": 8,
   "id": "transparent-peninsula",
   "metadata": {},
   "outputs": [],
   "source": [
    "# Vincenty's formulae\n",
    "# refarence https://qiita.com/r-fuji/items/99ca549b963cedc106ab\n",
    "\n",
    "def vincenty_inverse(lat1, lon1, lat2, lon2):\n",
    "\n",
    "    # Not advanced\n",
    "    if isclose(lat1, lat2) and isclose(lon1, lon2):\n",
    "        return False\n",
    "    \n",
    "    # WGS84\n",
    "    a = 6378137.0\n",
    "    ƒ = 1 / 298.257223563\n",
    "    b = (1 - ƒ) * a\n",
    "\n",
    "    lat_1 = atan((1 - ƒ) * tan(radians(lat1)))\n",
    "    lat_2 = atan((1 - ƒ) * tan(radians(lat2)))\n",
    "    \n",
    "    lon_diff = radians(lon2) - radians(lon1)\n",
    "    λ = lon_diff\n",
    "\n",
    "    for i in range(1000):\n",
    "        sinλ = sin(λ)\n",
    "        cosλ = cos(λ)\n",
    "        sinσ = sqrt((cos(lat_2) * sinλ) ** 2 + (cos(lat_1) * sin(lat_2) - sin(lat_1) * cos(lat_2) * cosλ) ** 2)\n",
    "        cosσ = sin(lat_1) * sin(lat_2) + cos(lat_1) * cos(lat_2) * cosλ\n",
    "        σ = atan2(sinσ, cosσ)\n",
    "        sinα = cos(lat_1) * cos(lat_2) * sinλ / sinσ\n",
    "        cos2α = 1 - sinα ** 2\n",
    "        cos2σm = cosσ - 2 * sin(lat_1) * sin(lat_2) / cos2α\n",
    "        C = ƒ / 16 * cos2α * (4 + ƒ * (4 - 3 * cos2α))\n",
    "        λʹ = λ\n",
    "        λ = lon_diff + (1 - C) * ƒ * sinα * (σ + C * sinσ * (cos2σm + C * cosσ * (-1 + 2 * cos2σm ** 2)))\n",
    "        \n",
    "        if abs(λ - λʹ) <= 1e-12:\n",
    "            break\n",
    "    else:\n",
    "        return None\n",
    "\n",
    "    α = atan2(cos(lat_2) * sinλ, cos(lat_1) * sin(lat_2) - sin(lat_1) * cos(lat_2) * cosλ)\n",
    "\n",
    "    if α < 0:\n",
    "        α = α + pi * 2\n",
    "\n",
    "    return degrees(α)"
   ]
  },
  {
   "cell_type": "code",
   "execution_count": 9,
   "id": "supported-valentine",
   "metadata": {},
   "outputs": [],
   "source": [
    "def calc3(row):\n",
    "    deg = - degrees(atan2(-1*row['calc2'],row['calc1']))\n",
    "    if deg < 0:\n",
    "        deg += 360\n",
    "    return deg "
   ]
  },
  {
   "cell_type": "code",
   "execution_count": 10,
   "id": "veterinary-newark",
   "metadata": {},
   "outputs": [],
   "source": [
    "def calc_degree_by_gt(df):\n",
    "    phones = df['phone'].unique()\n",
    "    df['deg'] = np.nan\n",
    "    \n",
    "    for idx in range(len(df)-1):\n",
    "        if df.at[idx, 'phone'] != df.at[idx+1, 'phone']:\n",
    "            continue\n",
    "            \n",
    "        lat = df.at[idx, 'latDeg_gt']\n",
    "        lng = df.at[idx, 'lngDeg_gt']\n",
    "        lat_next = df.at[idx+1, 'latDeg_gt']\n",
    "        lng_next = df.at[idx+1, 'lngDeg_gt']\n",
    "        \n",
    "        res = vincenty_inverse(lat, lng, lat_next, lng_next)\n",
    "        if res:\n",
    "            df.at[idx, 'deg'] = res\n",
    "    \n",
    "    return df"
   ]
  },
  {
   "cell_type": "code",
   "execution_count": 11,
   "id": "played-heaven",
   "metadata": {},
   "outputs": [],
   "source": [
    "def calc_degree_by_imu(df, accel, mag):\n",
    "    df['phone'] = df['collectionName'] + '_' + df['phoneName']\n",
    "    accel['phone'] = accel['collectionName'] + '_' + accel['phoneName']\n",
    "    mag['phone'] = mag['collectionName'] + '_' + mag['phoneName']\n",
    "    \n",
    "    # utc -> gps\n",
    "    accel['millisSinceGpsEpoch'] = accel['utcTimeMillis'] - 315964800000 + 18000\n",
    "    mag['millisSinceGpsEpoch'] = mag['utcTimeMillis'] - 315964800000 + 18000\n",
    "    \n",
    "    # resampling追加\n",
    "    df['secondSinceGpsEpoch'] = df['millisSinceGpsEpoch'] // 1000\n",
    "    accel['secondSinceGpsEpoch'] = accel['millisSinceGpsEpoch'] // 1000\n",
    "    mag['secondSinceGpsEpoch'] = mag['millisSinceGpsEpoch'] // 1000\n",
    "    \n",
    "    # clipping\n",
    "    accel[['UncalAccelXMps2', 'UncalAccelYMps2', 'UncalAccelZMps2']] = accel.groupby('phone')['UncalAccelXMps2', 'UncalAccelYMps2', 'UncalAccelZMps2'].transform(lambda x: x.clip(x.quantile(0.001), x.quantile(0.999)))\n",
    "    mag[['UncalMagXMicroT', 'UncalMagYMicroT', 'UncalMagZMicroT']] = mag.groupby('phone')['UncalMagXMicroT', 'UncalMagYMicroT', 'UncalMagZMicroT'].transform(lambda x: x.clip(x.quantile(0.001), x.quantile(0.999)))\n",
    "    \n",
    "    #     acce filtering and smooting\n",
    "    accel[\"global_x\"] = accel[\"UncalAccelZMps2\"]\n",
    "    accel[\"global_y\"] = accel[\"UncalAccelXMps2\"]\n",
    "    accel[\"global_z\"] = accel[\"UncalAccelYMps2\"]\n",
    "    accel[\"x_f\"] = butter_lowpass_filter(accel[\"global_x\"], cutoff, fs, order)\n",
    "    accel[\"y_f\"] = butter_lowpass_filter(accel[\"global_y\"], cutoff, fs, order)\n",
    "    accel[\"z_f\"] = butter_lowpass_filter(accel[\"global_z\"], cutoff, fs, order)\n",
    "    \n",
    "    mag[\"global_mx\"] = mag[\"UncalMagZMicroT\"]\n",
    "    mag[\"global_my\"] = mag[\"UncalMagXMicroT\"]\n",
    "    mag[\"global_mz\"] = mag[\"UncalMagYMicroT\"]\n",
    "\n",
    "    \n",
    "    output_df = pd.DataFrame()\n",
    "    for phone in mag['phone'].unique():\n",
    "        df_tmp = df[df['phone']==phone]\n",
    "        accel_tmp = accel[accel['phone']==phone].copy()\n",
    "        mag_tmp = mag[mag['phone']==phone].copy()\n",
    "    \n",
    "        smooth_range = 500\n",
    "        accel_tmp[\"x_f\"] = accel_tmp.groupby('phone')[\"x_f\"].rolling(smooth_range, center=True, min_periods=1).mean().values\n",
    "        accel_tmp[\"y_f\"] = accel_tmp.groupby('phone')[\"y_f\"].rolling(smooth_range, center=True, min_periods=1).mean().values\n",
    "        accel_tmp[\"z_f\"] = accel_tmp.groupby('phone')[\"z_f\"].rolling(smooth_range, center=True, min_periods=1).mean().values\n",
    "\n",
    "        mag_tmp[\"global_mx\"] = mag_tmp.groupby('phone')[\"global_mx\"].rolling(smooth_range,  min_periods=1).mean().values\n",
    "        mag_tmp[\"global_my\"] = mag_tmp.groupby('phone')[\"global_my\"].rolling(smooth_range,  min_periods=1).mean().values\n",
    "        mag_tmp[\"global_mz\"] = mag_tmp.groupby('phone')[\"global_mz\"].rolling(smooth_range,  min_periods=1).mean().values\n",
    "\n",
    "        offset = SS_fit(np.array(mag_tmp[[\"global_mx\",\"global_my\",\"global_mz\"]]))\n",
    "        mag_tmp[\"global_mx\"] = (mag_tmp[\"global_mx\"] - offset[0])*-1\n",
    "        mag_tmp[\"global_my\"] = mag_tmp[\"global_my\"] - offset[1]\n",
    "        mag_tmp[\"global_mz\"] = mag_tmp[\"global_mz\"] - offset[2]\n",
    "        \n",
    "        accel_tmp = accel_tmp.groupby(['phone', 'secondSinceGpsEpoch'])['x_f', 'y_f', 'z_f'].mean().reset_index()\n",
    "        accel_tmp.columns = ['phone', 'secondSinceGpsEpoch', 'x_f', 'y_f', 'z_f']\n",
    "    \n",
    "        mag_tmp = mag_tmp.groupby(['phone', 'secondSinceGpsEpoch'])['global_mx', 'global_my', 'global_mz'].mean().reset_index()\n",
    "        mag_tmp.columns = ['phone', 'secondSinceGpsEpoch', 'global_mx', 'global_my', 'global_mz']    \n",
    "\n",
    "        df_tmp = df_tmp.merge(accel_tmp, on=['phone', 'secondSinceGpsEpoch'], how='left')\n",
    "        df_tmp = df_tmp.merge(mag_tmp, on=['phone', 'secondSinceGpsEpoch'], how='left')\n",
    "        \n",
    "        start_mean_range = 10\n",
    "        x_start_mean = df_tmp[:start_mean_range][\"x_f\"].mean()\n",
    "        y_start_mean = df_tmp[:start_mean_range][\"y_f\"].mean()\n",
    "        z_start_mean = df_tmp[:start_mean_range][\"z_f\"].mean() \n",
    "\n",
    "        #     roll and picth, device tilt\n",
    "        r = atan(y_start_mean/z_start_mean)\n",
    "        p = atan(x_start_mean/(y_start_mean**2 + z_start_mean**2)**0.5)\n",
    "\n",
    "    #     calculation　degrees\n",
    "\n",
    "        df_tmp[\"calc1\"] = df_tmp[\"global_mx\"]*cos(p) + df_tmp[\"global_my\"]*sin(r)*sin(p) + df_tmp[\"global_mz\"]*sin(p)*cos(r)\n",
    "        df_tmp[\"calc2\"] = df_tmp[\"global_mz\"]*sin(r) - df_tmp[\"global_my\"]*cos(r)\n",
    "        df_tmp[\"calc_deg\"] = df_tmp.apply(calc3, axis=1)\n",
    "        output_df = output_df.append(df_tmp)\n",
    "    return output_df"
   ]
  },
  {
   "cell_type": "code",
   "execution_count": 12,
   "id": "directed-pastor",
   "metadata": {},
   "outputs": [],
   "source": [
    "# directory setting\n",
    "nb_name = get_nb_name()\n",
    "INPUT = '../input/google-smartphone-decimeter-challenge'\n",
    "OUTPUT = '../output/prep/' + nb_name\n",
    "os.makedirs(OUTPUT, exist_ok=True)"
   ]
  },
  {
   "cell_type": "markdown",
   "id": "human-egypt",
   "metadata": {},
   "source": [
    "# データ読み込み"
   ]
  },
  {
   "cell_type": "code",
   "execution_count": 13,
   "id": "silent-situation",
   "metadata": {},
   "outputs": [],
   "source": [
    "accel_train = pd.read_csv(INPUT + '/prep/gnss/train/UncalAccel.csv')\n",
    "mag_train = pd.read_csv(INPUT + '/prep/gnss/train/UncalMag.csv')\n",
    "accel_test = pd.read_csv(INPUT + '/prep/gnss/test/UncalAccel.csv')\n",
    "mag_test = pd.read_csv(INPUT + '/prep/gnss/test/UncalMag.csv')\n",
    "train = pd.read_csv(INPUT + '/' + 'baseline_locations_train.csv')\n",
    "test = pd.read_csv(INPUT + '/' + 'baseline_locations_test.csv')\n",
    "ground_truth = pd.read_csv(INPUT + '/prep/ground_truth_train.csv')\n",
    "\n",
    "ground_truth = ground_truth.rename(columns={'latDeg':'latDeg_gt', 'lngDeg':'lngDeg_gt'})\n",
    "gt = ground_truth[['collectionName', 'phoneName', 'millisSinceGpsEpoch', 'latDeg_gt', 'lngDeg_gt', 'speedMps', 'courseDegree']].copy()\n",
    "train = train.merge(gt, on=['collectionName', 'phoneName', 'millisSinceGpsEpoch'], how='inner')"
   ]
  },
  {
   "cell_type": "markdown",
   "id": "white-million",
   "metadata": {},
   "source": [
    "# IMUからdegを算出"
   ]
  },
  {
   "cell_type": "code",
   "execution_count": 14,
   "id": "empirical-freedom",
   "metadata": {},
   "outputs": [],
   "source": [
    "train = calc_degree_by_imu(train, accel_train, mag_train)\n",
    "test = calc_degree_by_imu(test, accel_test, mag_test)"
   ]
  },
  {
   "cell_type": "markdown",
   "id": "portable-first",
   "metadata": {},
   "source": [
    "# 座標移動からdegを算出"
   ]
  },
  {
   "cell_type": "code",
   "execution_count": 15,
   "id": "prime-oakland",
   "metadata": {},
   "outputs": [],
   "source": [
    "train = train.reset_index(drop=True)\n",
    "test = test.reset_index(drop=True)\n",
    "\n",
    "train = calc_degree_by_gt(train)"
   ]
  },
  {
   "cell_type": "code",
   "execution_count": 16,
   "id": "crucial-bloom",
   "metadata": {},
   "outputs": [],
   "source": [
    "train[['collectionName', 'phoneName', 'phone', 'millisSinceGpsEpoch', 'calc_deg']].to_csv(OUTPUT + '/train_degree_pred.csv', index=False)\n",
    "test[['collectionName', 'phoneName', 'phone', 'millisSinceGpsEpoch', 'calc_deg']].to_csv(OUTPUT + '/test_degree_pred.csv', index=False)"
   ]
  },
  {
   "cell_type": "markdown",
   "id": "thick-peter",
   "metadata": {},
   "source": [
    "# 可視化・評価"
   ]
  },
  {
   "cell_type": "code",
   "execution_count": 17,
   "id": "latter-wrapping",
   "metadata": {},
   "outputs": [],
   "source": [
    "output_dir = OUTPUT + '/train/degree_compare'\n",
    "os.makedirs(output_dir, exist_ok=True)\n",
    "\n",
    "for phone in train['phone'].unique():\n",
    "\n",
    "    fig, axes = plt.subplots(figsize=(5*3, 20), nrows=2,sharex=True)\n",
    "    tmp = train[train['phone']==phone].copy()\n",
    "    \n",
    "    axes[0].plot(tmp['millisSinceGpsEpoch'], tmp['courseDegree'], label='courseDegree')\n",
    "    axes[0].plot(tmp['millisSinceGpsEpoch'], tmp['calc_deg'], label='pred')\n",
    "    axes[0].plot(tmp['millisSinceGpsEpoch'], tmp['deg'], label='gt')\n",
    "    axes[0].legend(loc='upper right')\n",
    "    axes[0].grid(color='g', linestyle=':', linewidth=0.3)\n",
    "\n",
    "    axes[1].plot(tmp['millisSinceGpsEpoch'], tmp['global_mx'], label='global_mx')\n",
    "    axes[1].plot(tmp['millisSinceGpsEpoch'], tmp['global_my'], label='global_my')\n",
    "    axes[1].plot(tmp['millisSinceGpsEpoch'], tmp['global_mz'], label='global_mz')\n",
    "    axes[1].legend(loc='upper right')\n",
    "    axes[1].grid(color='g', linestyle=':', linewidth=0.3)\n",
    "\n",
    "    fig.suptitle(phone, fontsize=16)\n",
    "    fig.savefig(output_dir + '/' + phone + '.png')\n",
    "    plt.close()"
   ]
  },
  {
   "cell_type": "code",
   "execution_count": 18,
   "id": "twelve-recovery",
   "metadata": {},
   "outputs": [],
   "source": [
    "output_dir = OUTPUT + '/test/degree_compare'\n",
    "os.makedirs(output_dir, exist_ok=True)\n",
    "\n",
    "for phone in test['phone'].unique():\n",
    "\n",
    "    fig, axes = plt.subplots(figsize=(5*3, 20), nrows=2,sharex=True)\n",
    "    tmp = test[test['phone']==phone].copy()\n",
    "    \n",
    "    axes[0].plot(tmp['millisSinceGpsEpoch'], tmp['calc_deg'], label='pred')\n",
    "    axes[0].legend(loc='upper right')\n",
    "    axes[0].grid(color='g', linestyle=':', linewidth=0.3)\n",
    "\n",
    "    axes[1].plot(tmp['millisSinceGpsEpoch'], tmp['global_mx'], label='global_mx')\n",
    "    axes[1].plot(tmp['millisSinceGpsEpoch'], tmp['global_my'], label='global_my')\n",
    "    axes[1].plot(tmp['millisSinceGpsEpoch'], tmp['global_mz'], label='global_mz')\n",
    "    axes[1].legend(loc='upper right')\n",
    "    axes[1].grid(color='g', linestyle=':', linewidth=0.3)\n",
    "\n",
    "    fig.suptitle(phone, fontsize=16)\n",
    "    fig.savefig(output_dir + '/' + phone + '.png')\n",
    "    plt.close()"
   ]
  },
  {
   "cell_type": "code",
   "execution_count": 19,
   "id": "mechanical-membership",
   "metadata": {},
   "outputs": [
    {
     "name": "stdout",
     "output_type": "stream",
     "text": [
      "total :  73.96433792087936\n",
      "2020-05-21-US-MTV-2_Pixel4 :  31.97599406146996\n",
      "2020-05-21-US-MTV-2_Pixel4XL :  46.69608293178524\n",
      "2020-06-11-US-MTV-1_Pixel4 :  53.43779597527702\n",
      "2020-06-11-US-MTV-1_Pixel4XL :  38.572267450878044\n",
      "2020-06-05-US-MTV-2_Pixel4 :  79.75140467862472\n",
      "2020-06-05-US-MTV-2_Pixel4XL :  74.88755893664943\n",
      "2020-07-17-US-MTV-1_Mi8 :  29.06353535500159\n",
      "2021-04-22-US-SJC-1_Pixel4 :  49.18216024986775\n",
      "2021-04-22-US-SJC-1_SamsungS20Ultra :  51.14376777253588\n",
      "2020-05-14-US-MTV-2_Pixel4 :  32.35385193181306\n",
      "2020-05-14-US-MTV-2_Pixel4XLModded :  177.84521554957797\n",
      "2021-01-05-US-SVL-1_Pixel5 :  104.55942097061953\n",
      "2021-01-05-US-SVL-1_Pixel4 :  107.69268592223054\n",
      "2021-01-05-US-SVL-1_Pixel4XL :  107.7951479180943\n",
      "2021-01-05-US-SVL-1_Mi8 :  63.509509199009855\n",
      "2020-06-04-US-MTV-1_Pixel4 :  19.76794313255436\n",
      "2020-06-04-US-MTV-1_Pixel4XL :  21.477233570170785\n",
      "2020-06-04-US-MTV-1_Pixel4XLModded :  211.1392736272097\n",
      "2021-01-05-US-SVL-2_Pixel4Modded :  112.94033881416448\n",
      "2021-01-05-US-SVL-2_Pixel4 :  107.26922269300461\n",
      "2021-01-05-US-SVL-2_Pixel4XL :  108.66235602694067\n",
      "2021-04-15-US-MTV-1_Pixel5 :  42.46940748319367\n",
      "2021-04-15-US-MTV-1_Pixel4Modded :  41.68817326102738\n",
      "2021-04-15-US-MTV-1_Pixel4 :  37.4694625548521\n",
      "2021-04-15-US-MTV-1_SamsungS20Ultra :  40.447471587877935\n",
      "2020-09-04-US-SF-2_Pixel4 :  52.27202966263713\n",
      "2020-09-04-US-SF-2_Pixel4XL :  22.201485565411847\n",
      "2020-09-04-US-SF-2_Mi8 :  40.6283254383156\n",
      "2020-05-14-US-MTV-1_Pixel4 :  42.885341300431946\n",
      "2020-05-14-US-MTV-1_Pixel4XLModded :  207.23640656746335\n",
      "2021-04-28-US-MTV-1_Pixel5 :  94.73481093561374\n",
      "2021-04-28-US-MTV-1_Pixel4 :  35.57145756819473\n",
      "2021-04-28-US-MTV-1_SamsungS20Ultra :  36.31917145306543\n",
      "2020-06-05-US-MTV-1_Pixel4 :  38.64755418954977\n",
      "2020-06-05-US-MTV-1_Pixel4XL :  51.55444280340539\n",
      "2020-06-05-US-MTV-1_Pixel4XLModded :  147.08761283201466\n",
      "2020-05-21-US-MTV-1_Pixel4 :  10.357662620259593\n",
      "2020-05-29-US-MTV-1_Pixel4 :  51.32774979273853\n",
      "2020-05-29-US-MTV-1_Pixel4XL :  39.249282652972\n",
      "2020-05-29-US-MTV-1_Pixel4XLModded :  201.04035361631387\n",
      "2020-09-04-US-SF-1_Pixel4 :  22.680362030741627\n",
      "2020-09-04-US-SF-1_Pixel4XL :  24.459646719862533\n",
      "2020-09-04-US-SF-1_Mi8 :  13.7643485272391\n",
      "2021-04-28-US-SJC-1_Pixel4 :  36.91609929817605\n",
      "2021-04-28-US-SJC-1_SamsungS20Ultra :  38.31082359817787\n",
      "2020-07-17-US-MTV-2_Mi8 :  63.79555878452383\n",
      "2021-01-04-US-RWC-1_Pixel5 :  44.49811994072723\n",
      "2021-01-04-US-RWC-1_Pixel4Modded :  45.44848695436222\n",
      "2021-01-04-US-RWC-1_Pixel4 :  45.56345701093448\n",
      "2021-01-04-US-RWC-1_Pixel4XL :  42.99292064520965\n",
      "2020-07-08-US-MTV-1_Pixel4 :  42.73894515669993\n",
      "2020-07-08-US-MTV-1_Pixel4XL :  42.92295138847083\n",
      "2020-07-08-US-MTV-1_Pixel4XLModded :  54.540711944990015\n",
      "2021-04-29-US-MTV-1_Pixel5 :  31.238055586891377\n",
      "2021-04-29-US-MTV-1_Pixel4 :  31.307291547503855\n",
      "2021-04-29-US-MTV-1_SamsungS20Ultra :  30.61268744891828\n",
      "2021-04-29-US-SJC-2_Pixel4 :  56.85261455515691\n",
      "2021-04-29-US-SJC-2_SamsungS20Ultra :  53.30899611437468\n",
      "2021-01-04-US-RWC-2_Pixel5 :  39.436564309590885\n",
      "2021-01-04-US-RWC-2_Pixel4Modded :  60.44141926169188\n",
      "2021-01-04-US-RWC-2_Pixel4 :  41.18566888359948\n",
      "2021-01-04-US-RWC-2_Pixel4XL :  38.86763091601266\n",
      "2021-03-10-US-SVL-1_Pixel4XL :  31.844230885449022\n",
      "2021-03-10-US-SVL-1_SamsungS20Ultra :  23.000274108797583\n",
      "2021-04-26-US-SVL-1_Pixel5 :  35.48907022039082\n",
      "2021-04-26-US-SVL-1_Mi8 :  60.213180391322076\n",
      "2020-05-29-US-MTV-2_Pixel4 :  85.11143060286794\n",
      "2020-05-29-US-MTV-2_Pixel4XL :  88.06288662037045\n"
     ]
    }
   ],
   "source": [
    "from sklearn.metrics import mean_squared_error\n",
    "train2 = train.dropna(subset=['deg', 'calc_deg'])\n",
    "print('total : ', np.sqrt(mean_squared_error(train2['deg'], train2['calc_deg'])))\n",
    "phones = train2['phone'].unique()\n",
    "for phone in phones:\n",
    "    tmp = train2[train2['phone']==phone].copy()\n",
    "    print(phone + ' : ', np.sqrt(mean_squared_error(tmp['deg'], tmp['calc_deg'])))"
   ]
  },
  {
   "cell_type": "code",
   "execution_count": 20,
   "id": "automotive-windsor",
   "metadata": {},
   "outputs": [
    {
     "data": {
      "text/plain": [
       "<matplotlib.collections.PathCollection at 0x7fb7cb7f7fd0>"
      ]
     },
     "execution_count": 20,
     "metadata": {},
     "output_type": "execute_result"
    },
    {
     "data": {
      "image/png": "[encoded data removed]",
      "text/plain": [
       "<Figure size 432x288 with 1 Axes>"
      ]
     },
     "metadata": {
      "needs_background": "light"
     },
     "output_type": "display_data"
    }
   ],
   "source": [
    "tmp = train2.sample(1000)\n",
    "plt.scatter(tmp['deg'], tmp['calc_deg'])"
   ]
  }
 ],
 "metadata": {
  "kernelspec": {
   "display_name": "Python 3",
   "language": "python",
   "name": "python3"
  },
  "language_info": {
   "codemirror_mode": {
    "name": "ipython",
    "version": 3
   },
   "file_extension": ".py",
   "mimetype": "text/x-python",
   "name": "python",
   "nbconvert_exporter": "python",
   "pygments_lexer": "ipython3",
   "version": "3.7.10"
  }
 },
 "nbformat": 4,
 "nbformat_minor": 5
}
