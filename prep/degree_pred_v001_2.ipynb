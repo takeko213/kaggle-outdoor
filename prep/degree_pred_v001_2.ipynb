{
 "cells": [
  {
   "cell_type": "markdown",
   "id": "boxed-greensboro",
   "metadata": {},
   "source": [
    "# degree_pred_v001\n",
    "https://www.kaggle.com/t88take/estimating-the-direction-with-a-magnetic-se-e46cec  \n",
    "の再現"
   ]
  },
  {
   "cell_type": "code",
   "execution_count": 1,
   "id": "variable-manhattan",
   "metadata": {},
   "outputs": [],
   "source": [
    "import os\n",
    "import pandas as pd\n",
    "import numpy as np\n",
    "import ipynb_path\n",
    "import matplotlib.pyplot as plt\n",
    "from matplotlib_venn import venn2, venn2_circles\n",
    "import seaborn as sns\n",
    "import plotly\n",
    "import plotly.express as px\n",
    "%matplotlib inline\n",
    "pd.set_option('display.max_rows', 200)\n",
    "from math import * \n",
    "import warnings\n",
    "warnings.simplefilter('ignore')"
   ]
  },
  {
   "cell_type": "code",
   "execution_count": 2,
   "id": "relative-ribbon",
   "metadata": {},
   "outputs": [],
   "source": [
    "def get_nb_name():\n",
    "    nb_path = ipynb_path.get()\n",
    "    nb_name = nb_path.rsplit('/',1)[1].replace('.ipynb','')\n",
    "    return nb_name"
   ]
  },
  {
   "cell_type": "code",
   "execution_count": 3,
   "id": "valued-priority",
   "metadata": {},
   "outputs": [],
   "source": [
    "def visualize_trafic(df, center, zoom=9):\n",
    "    fig = px.scatter_mapbox(df,\n",
    "                            \n",
    "                            # Here, plotly gets, (x,y) coordinates\n",
    "                            lat=\"latDeg\",\n",
    "                            lon=\"lngDeg\",\n",
    "                            \n",
    "                            #Here, plotly detects color of series\n",
    "                            color=\"phoneName\",\n",
    "                            labels=\"phoneName\",\n",
    "                            \n",
    "                            zoom=zoom,\n",
    "                            center=center,\n",
    "                            height=1000,\n",
    "                            width=2000)\n",
    "    fig.update_layout(mapbox_style='stamen-terrain')\n",
    "    fig.update_layout(margin={\"r\": 0, \"t\": 0, \"l\": 0, \"b\": 0})\n",
    "    fig.update_layout(title_text=\"GPS trafic\")\n",
    "    fig.show()"
   ]
  },
  {
   "cell_type": "code",
   "execution_count": 4,
   "id": "residential-plenty",
   "metadata": {},
   "outputs": [],
   "source": [
    "def visualize_collection(df, collection):\n",
    "    target_df = df[df['collectionName']==collection].copy()\n",
    "    lat_center = target_df['latDeg'].mean()\n",
    "    lng_center = target_df['lngDeg'].mean()\n",
    "    center = {\"lat\":lat_center, \"lon\":lng_center}\n",
    "    \n",
    "    visualize_trafic(target_df, center)"
   ]
  },
  {
   "cell_type": "code",
   "execution_count": 5,
   "id": "bored-observation",
   "metadata": {},
   "outputs": [],
   "source": [
    "def calc_haversine(lat1, lon1, lat2, lon2):\n",
    "    \"\"\"Calculates the great circle distance between two points\n",
    "    on the earth. Inputs are array-like and specified in decimal degrees.\n",
    "    \"\"\"\n",
    "    RADIUS = 6_367_000\n",
    "    lat1, lon1, lat2, lon2 = map(np.radians, [lat1, lon1, lat2, lon2])\n",
    "    dlat = lat2 - lat1\n",
    "    dlon = lon2 - lon1\n",
    "    a = np.sin(dlat/2)**2 + \\\n",
    "        np.cos(lat1) * np.cos(lat2) * np.sin(dlon/2)**2\n",
    "    dist = 2 * RADIUS * np.arcsin(a**0.5)\n",
    "    return dist"
   ]
  },
  {
   "cell_type": "code",
   "execution_count": 6,
   "id": "billion-retail",
   "metadata": {},
   "outputs": [],
   "source": [
    "# lowpass filter\n",
    "\n",
    "from scipy.signal import butter, lfilter\n",
    "\n",
    "def butter_lowpass(cutoff, fs, order=5):\n",
    "    nyq = 0.5 * fs\n",
    "    normal_cutoff = cutoff / nyq\n",
    "    b, a = butter(order, normal_cutoff, btype='low', analog=False)\n",
    "    return b, a\n",
    "\n",
    "def butter_lowpass_filter(data, cutoff, fs, order=5):\n",
    "    b, a = butter_lowpass(cutoff, fs, order=order)\n",
    "    y = lfilter(b, a, data)\n",
    "    return y\n",
    "\n",
    "order = 3\n",
    "fs = 50.0\n",
    "cutoff = 2.5"
   ]
  },
  {
   "cell_type": "code",
   "execution_count": 7,
   "id": "sudden-import",
   "metadata": {},
   "outputs": [],
   "source": [
    "# Offset correction\n",
    "# refarence https://github.com/J-ROCKET-BOY/SS-Fitting\n",
    "\n",
    "def SS_fit(data) : \n",
    "\n",
    "    x = data[:,[0]]\n",
    "    y = data[:,[1]]\n",
    "    z = data[:,[2]]\n",
    "\n",
    "    data_len = len(x)\n",
    "    \n",
    "    x2 = np.power(x,2)\n",
    "    y2 = np.power(y,2)\n",
    "    z2 = np.power(z,2)\n",
    "\n",
    "    r1 = -x*(x2+y2+z2)\n",
    "    r2= -y*(x2+y2+z2)\n",
    "    r3 = -z*(x2+y2+z2)\n",
    "    r4 = -(x2+y2+z2)\n",
    "\n",
    "    left = np.array([[np.sum(x2),np.sum(x*y),np.sum(x*z),np.sum(x)],\n",
    "                     [np.sum(x*y),np.sum(y2),np.sum(y*z),np.sum(y)],\n",
    "                     [np.sum(x*z),np.sum(y*z),np.sum(z2),np.sum(z)],\n",
    "                     [np.sum(x), np.sum(y), np.sum(z), data_len]])\n",
    "    \n",
    "    right = np.array([np.sum(r1),\n",
    "                      np.sum(r2),\n",
    "                      np.sum(r3),\n",
    "                      np.sum(r4)])\n",
    "    \n",
    "    si = np.dot(np.linalg.inv(left),right)\n",
    "\n",
    "    x0 = (-1/2)* si[0]\n",
    "    y0 = (-1/2)* si[1]\n",
    "    z0 = (-1/2)* si[2]\n",
    "    \n",
    "    return np.array([x0,y0,z0])"
   ]
  },
  {
   "cell_type": "code",
   "execution_count": 8,
   "id": "helpful-daughter",
   "metadata": {},
   "outputs": [],
   "source": [
    "# Vincenty's formulae\n",
    "# refarence https://qiita.com/r-fuji/items/99ca549b963cedc106ab\n",
    "\n",
    "def vincenty_inverse(lat1, lon1, lat2, lon2):\n",
    "\n",
    "    # Not advanced\n",
    "    if isclose(lat1, lat2) and isclose(lon1, lon2):\n",
    "        return False\n",
    "    \n",
    "    # WGS84\n",
    "    a = 6378137.0\n",
    "    ƒ = 1 / 298.257223563\n",
    "    b = (1 - ƒ) * a\n",
    "\n",
    "    lat_1 = atan((1 - ƒ) * tan(radians(lat1)))\n",
    "    lat_2 = atan((1 - ƒ) * tan(radians(lat2)))\n",
    "    \n",
    "    lon_diff = radians(lon2) - radians(lon1)\n",
    "    λ = lon_diff\n",
    "\n",
    "    for i in range(1000):\n",
    "        sinλ = sin(λ)\n",
    "        cosλ = cos(λ)\n",
    "        sinσ = sqrt((cos(lat_2) * sinλ) ** 2 + (cos(lat_1) * sin(lat_2) - sin(lat_1) * cos(lat_2) * cosλ) ** 2)\n",
    "        cosσ = sin(lat_1) * sin(lat_2) + cos(lat_1) * cos(lat_2) * cosλ\n",
    "        σ = atan2(sinσ, cosσ)\n",
    "        sinα = cos(lat_1) * cos(lat_2) * sinλ / sinσ\n",
    "        cos2α = 1 - sinα ** 2\n",
    "        cos2σm = cosσ - 2 * sin(lat_1) * sin(lat_2) / cos2α\n",
    "        C = ƒ / 16 * cos2α * (4 + ƒ * (4 - 3 * cos2α))\n",
    "        λʹ = λ\n",
    "        λ = lon_diff + (1 - C) * ƒ * sinα * (σ + C * sinσ * (cos2σm + C * cosσ * (-1 + 2 * cos2σm ** 2)))\n",
    "        \n",
    "        if abs(λ - λʹ) <= 1e-12:\n",
    "            break\n",
    "    else:\n",
    "        return None\n",
    "\n",
    "    α = atan2(cos(lat_2) * sinλ, cos(lat_1) * sin(lat_2) - sin(lat_1) * cos(lat_2) * cosλ)\n",
    "\n",
    "    if α < 0:\n",
    "        α = α + pi * 2\n",
    "\n",
    "    return degrees(α)"
   ]
  },
  {
   "cell_type": "code",
   "execution_count": 9,
   "id": "exclusive-anthropology",
   "metadata": {},
   "outputs": [],
   "source": [
    "def calc3(row):\n",
    "    deg = - degrees(atan2(-1*row['calc2'],row['calc1']))\n",
    "    if deg < 0:\n",
    "        deg += 360\n",
    "    return deg "
   ]
  },
  {
   "cell_type": "code",
   "execution_count": 10,
   "id": "african-cradle",
   "metadata": {},
   "outputs": [],
   "source": [
    "def calc_degree_by_gt(df):\n",
    "    phones = df['phone'].unique()\n",
    "    df['deg'] = np.nan\n",
    "    \n",
    "    for idx in range(len(df)-1):\n",
    "        if df.at[idx, 'phone'] != df.at[idx+1, 'phone']:\n",
    "            continue\n",
    "            \n",
    "        lat = df.at[idx, 'latDeg_gt']\n",
    "        lng = df.at[idx, 'lngDeg_gt']\n",
    "        lat_next = df.at[idx+1, 'latDeg_gt']\n",
    "        lng_next = df.at[idx+1, 'lngDeg_gt']\n",
    "        \n",
    "        res = vincenty_inverse(lat, lng, lat_next, lng_next)\n",
    "        if res:\n",
    "            df.at[idx, 'deg'] = res\n",
    "    \n",
    "    return df"
   ]
  },
  {
   "cell_type": "code",
   "execution_count": 11,
   "id": "prepared-uncle",
   "metadata": {},
   "outputs": [],
   "source": [
    "def calc_degree_by_imu(df, accel, mag):\n",
    "    df['phone'] = df['collectionName'] + '_' + df['phoneName']\n",
    "    accel['phone'] = accel['collectionName'] + '_' + accel['phoneName']\n",
    "    mag['phone'] = mag['collectionName'] + '_' + mag['phoneName']\n",
    "    \n",
    "    # utc -> gps\n",
    "    accel['millisSinceGpsEpoch'] = accel['utcTimeMillis'] - 315964800000 + 18000\n",
    "    mag['millisSinceGpsEpoch'] = mag['utcTimeMillis'] - 315964800000 + 18000\n",
    "    \n",
    "    # resampling追加\n",
    "    df['secondSinceGpsEpoch'] = df['millisSinceGpsEpoch'] // 1000\n",
    "    accel['secondSinceGpsEpoch'] = accel['millisSinceGpsEpoch'] // 1000\n",
    "    mag['secondSinceGpsEpoch'] = mag['millisSinceGpsEpoch'] // 1000\n",
    "    \n",
    "    # clipping\n",
    "    accel[['UncalAccelXMps2', 'UncalAccelYMps2', 'UncalAccelZMps2']] = accel.groupby('phone')['UncalAccelXMps2', 'UncalAccelYMps2', 'UncalAccelZMps2'].transform(lambda x: x.clip(x.quantile(0.001), x.quantile(0.999)))\n",
    "    mag[['UncalMagXMicroT', 'UncalMagYMicroT', 'UncalMagZMicroT']] = mag.groupby('phone')['UncalMagXMicroT', 'UncalMagYMicroT', 'UncalMagZMicroT'].transform(lambda x: x.clip(x.quantile(0.001), x.quantile(0.999)))\n",
    "    \n",
    "    #     acce filtering and smooting\n",
    "    accel[\"global_x\"] = accel[\"UncalAccelZMps2\"]\n",
    "    accel[\"global_y\"] = accel[\"UncalAccelXMps2\"]\n",
    "    accel[\"global_z\"] = accel[\"UncalAccelYMps2\"]\n",
    "    accel[\"x_f\"] = butter_lowpass_filter(accel[\"global_x\"], cutoff, fs, order)\n",
    "    accel[\"y_f\"] = butter_lowpass_filter(accel[\"global_y\"], cutoff, fs, order)\n",
    "    accel[\"z_f\"] = butter_lowpass_filter(accel[\"global_z\"], cutoff, fs, order)\n",
    "    \n",
    "    mag[\"global_mx\"] = mag[\"UncalMagZMicroT\"]\n",
    "    mag[\"global_my\"] = mag[\"UncalMagXMicroT\"]\n",
    "    mag[\"global_mz\"] = mag[\"UncalMagYMicroT\"]\n",
    "\n",
    "    \n",
    "    output_df = pd.DataFrame()\n",
    "    for phone in mag['phone'].unique():\n",
    "        df_tmp = df[df['phone']==phone]\n",
    "        accel_tmp = accel[accel['phone']==phone].copy()\n",
    "        mag_tmp = mag[mag['phone']==phone].copy()\n",
    "    \n",
    "        smooth_range = 1000\n",
    "        accel_tmp[\"x_f\"] = accel_tmp.groupby('phone')[\"x_f\"].rolling(smooth_range, center=True, min_periods=1).mean().values\n",
    "        accel_tmp[\"y_f\"] = accel_tmp.groupby('phone')[\"y_f\"].rolling(smooth_range, center=True, min_periods=1).mean().values\n",
    "        accel_tmp[\"z_f\"] = accel_tmp.groupby('phone')[\"z_f\"].rolling(smooth_range, center=True, min_periods=1).mean().values\n",
    "\n",
    "        mag_tmp[\"global_mx\"] = mag_tmp.groupby('phone')[\"global_mx\"].rolling(smooth_range,  min_periods=1).mean().values\n",
    "        mag_tmp[\"global_my\"] = mag_tmp.groupby('phone')[\"global_my\"].rolling(smooth_range,  min_periods=1).mean().values\n",
    "        mag_tmp[\"global_mz\"] = mag_tmp.groupby('phone')[\"global_mz\"].rolling(smooth_range,  min_periods=1).mean().values\n",
    "\n",
    "        offset = SS_fit(np.array(mag_tmp[[\"global_mx\",\"global_my\",\"global_mz\"]]))\n",
    "        mag_tmp[\"global_mx\"] = (mag_tmp[\"global_mx\"] - offset[0])*-1\n",
    "        mag_tmp[\"global_my\"] = mag_tmp[\"global_my\"] - offset[1]\n",
    "        mag_tmp[\"global_mz\"] = mag_tmp[\"global_mz\"] - offset[2]\n",
    "        \n",
    "        accel_tmp = accel_tmp.groupby(['phone', 'secondSinceGpsEpoch'])['x_f', 'y_f', 'z_f'].mean().reset_index()\n",
    "        accel_tmp.columns = ['phone', 'secondSinceGpsEpoch', 'x_f', 'y_f', 'z_f']\n",
    "    \n",
    "        mag_tmp = mag_tmp.groupby(['phone', 'secondSinceGpsEpoch'])['global_mx', 'global_my', 'global_mz'].mean().reset_index()\n",
    "        mag_tmp.columns = ['phone', 'secondSinceGpsEpoch', 'global_mx', 'global_my', 'global_mz']    \n",
    "\n",
    "        df_tmp = df_tmp.merge(accel_tmp, on=['phone', 'secondSinceGpsEpoch'], how='left')\n",
    "        df_tmp = df_tmp.merge(mag_tmp, on=['phone', 'secondSinceGpsEpoch'], how='left')\n",
    "        \n",
    "        start_mean_range = 10\n",
    "        x_start_mean = df_tmp[:start_mean_range][\"x_f\"].mean()\n",
    "        y_start_mean = df_tmp[:start_mean_range][\"y_f\"].mean()\n",
    "        z_start_mean = df_tmp[:start_mean_range][\"z_f\"].mean() \n",
    "\n",
    "        #     roll and picth, device tilt\n",
    "        r = atan(y_start_mean/z_start_mean)\n",
    "        p = atan(x_start_mean/(y_start_mean**2 + z_start_mean**2)**0.5)\n",
    "\n",
    "    #     calculation　degrees\n",
    "\n",
    "        df_tmp[\"calc1\"] = df_tmp[\"global_mx\"]*cos(p) + df_tmp[\"global_my\"]*sin(r)*sin(p) + df_tmp[\"global_mz\"]*sin(p)*cos(r)\n",
    "        df_tmp[\"calc2\"] = df_tmp[\"global_mz\"]*sin(r) - df_tmp[\"global_my\"]*cos(r)\n",
    "        df_tmp[\"calc_deg\"] = df_tmp.apply(calc3, axis=1)\n",
    "        output_df = output_df.append(df_tmp)\n",
    "    return output_df"
   ]
  },
  {
   "cell_type": "code",
   "execution_count": 12,
   "id": "organizational-denial",
   "metadata": {},
   "outputs": [],
   "source": [
    "# directory setting\n",
    "nb_name = get_nb_name()\n",
    "INPUT = '../input/google-smartphone-decimeter-challenge'\n",
    "OUTPUT = '../output/prep/' + nb_name\n",
    "os.makedirs(OUTPUT, exist_ok=True)"
   ]
  },
  {
   "cell_type": "markdown",
   "id": "eight-consolidation",
   "metadata": {},
   "source": [
    "# データ読み込み"
   ]
  },
  {
   "cell_type": "code",
   "execution_count": 13,
   "id": "public-trunk",
   "metadata": {},
   "outputs": [],
   "source": [
    "accel_train = pd.read_csv(INPUT + '/prep/gnss/train/UncalAccel.csv')\n",
    "mag_train = pd.read_csv(INPUT + '/prep/gnss/train/UncalMag.csv')\n",
    "accel_test = pd.read_csv(INPUT + '/prep/gnss/test/UncalAccel.csv')\n",
    "mag_test = pd.read_csv(INPUT + '/prep/gnss/test/UncalMag.csv')\n",
    "train = pd.read_csv(INPUT + '/' + 'baseline_locations_train.csv')\n",
    "test = pd.read_csv(INPUT + '/' + 'baseline_locations_test.csv')\n",
    "ground_truth = pd.read_csv(INPUT + '/prep/ground_truth_train.csv')\n",
    "\n",
    "ground_truth = ground_truth.rename(columns={'latDeg':'latDeg_gt', 'lngDeg':'lngDeg_gt'})\n",
    "gt = ground_truth[['collectionName', 'phoneName', 'millisSinceGpsEpoch', 'latDeg_gt', 'lngDeg_gt', 'speedMps', 'courseDegree']].copy()\n",
    "train = train.merge(gt, on=['collectionName', 'phoneName', 'millisSinceGpsEpoch'], how='inner')"
   ]
  },
  {
   "cell_type": "markdown",
   "id": "regulated-shuttle",
   "metadata": {},
   "source": [
    "# IMUからdegを算出"
   ]
  },
  {
   "cell_type": "code",
   "execution_count": 14,
   "id": "transparent-diamond",
   "metadata": {},
   "outputs": [],
   "source": [
    "train = calc_degree_by_imu(train, accel_train, mag_train)\n",
    "test = calc_degree_by_imu(test, accel_test, mag_test)"
   ]
  },
  {
   "cell_type": "markdown",
   "id": "operating-married",
   "metadata": {},
   "source": [
    "# 座標移動からdegを算出"
   ]
  },
  {
   "cell_type": "code",
   "execution_count": 15,
   "id": "binary-bikini",
   "metadata": {},
   "outputs": [],
   "source": [
    "train = train.reset_index(drop=True)\n",
    "test = test.reset_index(drop=True)\n",
    "\n",
    "train = calc_degree_by_gt(train)"
   ]
  },
  {
   "cell_type": "code",
   "execution_count": 16,
   "id": "frozen-foundation",
   "metadata": {},
   "outputs": [],
   "source": [
    "train[['collectionName', 'phoneName', 'phone', 'millisSinceGpsEpoch', 'calc_deg']].to_csv(OUTPUT + '/train_degree_pred.csv', index=False)\n",
    "test[['collectionName', 'phoneName', 'phone', 'millisSinceGpsEpoch', 'calc_deg']].to_csv(OUTPUT + '/test_degree_pred.csv', index=False)"
   ]
  },
  {
   "cell_type": "markdown",
   "id": "relative-dictionary",
   "metadata": {},
   "source": [
    "# 可視化・評価"
   ]
  },
  {
   "cell_type": "code",
   "execution_count": 17,
   "id": "understanding-utilization",
   "metadata": {},
   "outputs": [],
   "source": [
    "output_dir = OUTPUT + '/train/degree_compare'\n",
    "os.makedirs(output_dir, exist_ok=True)\n",
    "\n",
    "for phone in train['phone'].unique():\n",
    "\n",
    "    fig, axes = plt.subplots(figsize=(5*3, 20), nrows=2,sharex=True)\n",
    "    tmp = train[train['phone']==phone].copy()\n",
    "    \n",
    "    axes[0].plot(tmp['millisSinceGpsEpoch'], tmp['courseDegree'], label='courseDegree')\n",
    "    axes[0].plot(tmp['millisSinceGpsEpoch'], tmp['calc_deg'], label='pred')\n",
    "    axes[0].plot(tmp['millisSinceGpsEpoch'], tmp['deg'], label='gt')\n",
    "    axes[0].legend(loc='upper right')\n",
    "    axes[0].grid(color='g', linestyle=':', linewidth=0.3)\n",
    "\n",
    "    axes[1].plot(tmp['millisSinceGpsEpoch'], tmp['global_mx'], label='global_mx')\n",
    "    axes[1].plot(tmp['millisSinceGpsEpoch'], tmp['global_my'], label='global_my')\n",
    "    axes[1].plot(tmp['millisSinceGpsEpoch'], tmp['global_mz'], label='global_mz')\n",
    "    axes[1].legend(loc='upper right')\n",
    "    axes[1].grid(color='g', linestyle=':', linewidth=0.3)\n",
    "\n",
    "    fig.suptitle(phone, fontsize=16)\n",
    "    fig.savefig(output_dir + '/' + phone + '.png')\n",
    "    plt.close()"
   ]
  },
  {
   "cell_type": "code",
   "execution_count": 18,
   "id": "missing-story",
   "metadata": {},
   "outputs": [],
   "source": [
    "output_dir = OUTPUT + '/test/degree_compare'\n",
    "os.makedirs(output_dir, exist_ok=True)\n",
    "\n",
    "for phone in test['phone'].unique():\n",
    "\n",
    "    fig, axes = plt.subplots(figsize=(5*3, 20), nrows=2,sharex=True)\n",
    "    tmp = test[test['phone']==phone].copy()\n",
    "    \n",
    "    axes[0].plot(tmp['millisSinceGpsEpoch'], tmp['calc_deg'], label='pred')\n",
    "    axes[0].legend(loc='upper right')\n",
    "    axes[0].grid(color='g', linestyle=':', linewidth=0.3)\n",
    "\n",
    "    axes[1].plot(tmp['millisSinceGpsEpoch'], tmp['global_mx'], label='global_mx')\n",
    "    axes[1].plot(tmp['millisSinceGpsEpoch'], tmp['global_my'], label='global_my')\n",
    "    axes[1].plot(tmp['millisSinceGpsEpoch'], tmp['global_mz'], label='global_mz')\n",
    "    axes[1].legend(loc='upper right')\n",
    "    axes[1].grid(color='g', linestyle=':', linewidth=0.3)\n",
    "\n",
    "    fig.suptitle(phone, fontsize=16)\n",
    "    fig.savefig(output_dir + '/' + phone + '.png')\n",
    "    plt.close()"
   ]
  },
  {
   "cell_type": "code",
   "execution_count": 19,
   "id": "attempted-malawi",
   "metadata": {},
   "outputs": [
    {
     "name": "stdout",
     "output_type": "stream",
     "text": [
      "total :  76.7717690337345\n",
      "2020-05-21-US-MTV-2_Pixel4 :  38.99451425058879\n",
      "2020-05-21-US-MTV-2_Pixel4XL :  50.276333622367666\n",
      "2020-06-11-US-MTV-1_Pixel4 :  55.09991687315865\n",
      "2020-06-11-US-MTV-1_Pixel4XL :  43.530857074337334\n",
      "2020-06-05-US-MTV-2_Pixel4 :  79.84769935079105\n",
      "2020-06-05-US-MTV-2_Pixel4XL :  74.13572234710809\n",
      "2020-07-17-US-MTV-1_Mi8 :  39.224377240535155\n",
      "2021-04-22-US-SJC-1_Pixel4 :  54.93393650713153\n",
      "2021-04-22-US-SJC-1_SamsungS20Ultra :  57.03229317022226\n",
      "2020-05-14-US-MTV-2_Pixel4 :  33.06830199128459\n",
      "2020-05-14-US-MTV-2_Pixel4XLModded :  179.21077492130772\n",
      "2021-01-05-US-SVL-1_Pixel5 :  118.17153104752394\n",
      "2021-01-05-US-SVL-1_Pixel4 :  119.69889436598832\n",
      "2021-01-05-US-SVL-1_Pixel4XL :  116.30540681697464\n",
      "2021-01-05-US-SVL-1_Mi8 :  84.33889419370146\n",
      "2020-06-04-US-MTV-1_Pixel4 :  22.528047046453043\n",
      "2020-06-04-US-MTV-1_Pixel4XL :  24.07431407791478\n",
      "2020-06-04-US-MTV-1_Pixel4XLModded :  210.65610684361675\n",
      "2021-01-05-US-SVL-2_Pixel4Modded :  120.19294630433838\n",
      "2021-01-05-US-SVL-2_Pixel4 :  116.98076177661984\n",
      "2021-01-05-US-SVL-2_Pixel4XL :  115.43988230994287\n",
      "2021-04-15-US-MTV-1_Pixel5 :  54.12656972142899\n",
      "2021-04-15-US-MTV-1_Pixel4Modded :  54.828574399447234\n",
      "2021-04-15-US-MTV-1_Pixel4 :  52.82767077322052\n",
      "2021-04-15-US-MTV-1_SamsungS20Ultra :  55.287152118243256\n",
      "2020-09-04-US-SF-2_Pixel4 :  52.44042852459902\n",
      "2020-09-04-US-SF-2_Pixel4XL :  24.332189587199526\n",
      "2020-09-04-US-SF-2_Mi8 :  47.59059744125029\n",
      "2020-05-14-US-MTV-1_Pixel4 :  39.02053600680331\n",
      "2020-05-14-US-MTV-1_Pixel4XLModded :  199.13507412549632\n",
      "2021-04-28-US-MTV-1_Pixel5 :  89.92781206921418\n",
      "2021-04-28-US-MTV-1_Pixel4 :  41.858540529034244\n",
      "2021-04-28-US-MTV-1_SamsungS20Ultra :  42.66620004844717\n",
      "2020-06-05-US-MTV-1_Pixel4 :  46.34341394399611\n",
      "2020-06-05-US-MTV-1_Pixel4XL :  54.19560483725794\n",
      "2020-06-05-US-MTV-1_Pixel4XLModded :  146.78771387831708\n",
      "2020-05-21-US-MTV-1_Pixel4 :  13.561379574959007\n",
      "2020-05-29-US-MTV-1_Pixel4 :  56.36114145180439\n",
      "2020-05-29-US-MTV-1_Pixel4XL :  47.711700578440315\n",
      "2020-05-29-US-MTV-1_Pixel4XLModded :  197.67735254623244\n",
      "2020-09-04-US-SF-1_Pixel4 :  27.92574549519817\n",
      "2020-09-04-US-SF-1_Pixel4XL :  29.49191588675647\n",
      "2020-09-04-US-SF-1_Mi8 :  21.993549712056105\n",
      "2021-04-28-US-SJC-1_Pixel4 :  45.5260593965744\n",
      "2021-04-28-US-SJC-1_SamsungS20Ultra :  47.1164088122782\n",
      "2020-07-17-US-MTV-2_Mi8 :  64.69998313797754\n",
      "2021-01-04-US-RWC-1_Pixel5 :  50.18437972615505\n",
      "2021-01-04-US-RWC-1_Pixel4Modded :  50.807438583884746\n",
      "2021-01-04-US-RWC-1_Pixel4 :  51.01027363277886\n",
      "2021-01-04-US-RWC-1_Pixel4XL :  48.94188283218147\n",
      "2020-07-08-US-MTV-1_Pixel4 :  43.36014769649517\n",
      "2020-07-08-US-MTV-1_Pixel4XL :  43.1105097838644\n",
      "2020-07-08-US-MTV-1_Pixel4XLModded :  54.4586997542234\n",
      "2021-04-29-US-MTV-1_Pixel5 :  37.04147052034623\n",
      "2021-04-29-US-MTV-1_Pixel4 :  37.17336110644169\n",
      "2021-04-29-US-MTV-1_SamsungS20Ultra :  36.80650943518869\n",
      "2021-04-29-US-SJC-2_Pixel4 :  62.53779663053221\n",
      "2021-04-29-US-SJC-2_SamsungS20Ultra :  59.59317767732631\n",
      "2021-01-04-US-RWC-2_Pixel5 :  46.38171840190704\n",
      "2021-01-04-US-RWC-2_Pixel4Modded :  62.49776650686619\n",
      "2021-01-04-US-RWC-2_Pixel4 :  47.606254124106144\n",
      "2021-01-04-US-RWC-2_Pixel4XL :  46.49193928133125\n",
      "2021-03-10-US-SVL-1_Pixel4XL :  38.59902179006189\n",
      "2021-03-10-US-SVL-1_SamsungS20Ultra :  36.11993412617325\n",
      "2021-04-26-US-SVL-1_Pixel5 :  41.19540191814524\n",
      "2021-04-26-US-SVL-1_Mi8 :  71.00246491097134\n",
      "2020-05-29-US-MTV-2_Pixel4 :  89.67492325770013\n",
      "2020-05-29-US-MTV-2_Pixel4XL :  86.8993820985945\n"
     ]
    }
   ],
   "source": [
    "from sklearn.metrics import mean_squared_error\n",
    "train2 = train.dropna(subset=['deg', 'calc_deg'])\n",
    "print('total : ', np.sqrt(mean_squared_error(train2['deg'], train2['calc_deg'])))\n",
    "phones = train2['phone'].unique()\n",
    "for phone in phones:\n",
    "    tmp = train2[train2['phone']==phone].copy()\n",
    "    print(phone + ' : ', np.sqrt(mean_squared_error(tmp['deg'], tmp['calc_deg'])))"
   ]
  },
  {
   "cell_type": "code",
   "execution_count": 20,
   "id": "banner-genre",
   "metadata": {},
   "outputs": [
    {
     "data": {
      "text/plain": [
       "<matplotlib.collections.PathCollection at 0x7fe6f616ad90>"
      ]
     },
     "execution_count": 20,
     "metadata": {},
     "output_type": "execute_result"
    },
    {
     "data": {
      "image/png": "[encoded data removed]",
      "text/plain": [
       "<Figure size 432x288 with 1 Axes>"
      ]
     },
     "metadata": {
      "needs_background": "light"
     },
     "output_type": "display_data"
    }
   ],
   "source": [
    "tmp = train2.sample(1000)\n",
    "plt.scatter(tmp['deg'], tmp['calc_deg'])"
   ]
  }
 ],
 "metadata": {
  "kernelspec": {
   "display_name": "Python 3",
   "language": "python",
   "name": "python3"
  },
  "language_info": {
   "codemirror_mode": {
    "name": "ipython",
    "version": 3
   },
   "file_extension": ".py",
   "mimetype": "text/x-python",
   "name": "python",
   "nbconvert_exporter": "python",
   "pygments_lexer": "ipython3",
   "version": "3.7.10"
  }
 },
 "nbformat": 4,
 "nbformat_minor": 5
}
